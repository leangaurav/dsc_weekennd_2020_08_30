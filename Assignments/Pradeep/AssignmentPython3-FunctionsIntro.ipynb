{
 "cells": [
  {
   "cell_type": "markdown",
   "metadata": {},
   "source": [
    "## 1. WAP to input 2 strings and swap the strings "
   ]
  },
  {
   "cell_type": "code",
   "execution_count": 1,
   "metadata": {},
   "outputs": [
    {
     "name": "stdout",
     "output_type": "stream",
     "text": [
      "Enter string one: Pradeep\n",
      "Enter string two: Duraiswamy\n"
     ]
    }
   ],
   "source": [
    "stringOne = input(\"Enter string one: \")\n",
    "stringTwo = input(\"Enter string two: \")\n",
    "\n",
    "stringOne, stringTwo = stringTwo, stringOne\n"
   ]
  },
  {
   "cell_type": "code",
   "execution_count": 2,
   "metadata": {},
   "outputs": [
    {
     "name": "stdout",
     "output_type": "stream",
     "text": [
      "Duraiswamy Pradeep\n"
     ]
    }
   ],
   "source": [
    "print(stringOne, stringTwo)"
   ]
  },
  {
   "cell_type": "markdown",
   "metadata": {},
   "source": [
    "## 2. WAP to generate 4 random numbers in the range 0-26 and print their average "
   ]
  },
  {
   "cell_type": "code",
   "execution_count": 3,
   "metadata": {},
   "outputs": [],
   "source": [
    "import random"
   ]
  },
  {
   "cell_type": "code",
   "execution_count": 13,
   "metadata": {},
   "outputs": [
    {
     "name": "stdout",
     "output_type": "stream",
     "text": [
      "46\n",
      "11.5\n"
     ]
    }
   ],
   "source": [
    "sum = 0\n",
    "for i in range(4) :\n",
    "    sum = sum + random.randrange(0, 26)\n",
    "print(sum)    \n",
    "print(sum/len(range(4)))"
   ]
  },
  {
   "cell_type": "markdown",
   "metadata": {},
   "source": [
    "## 3. WAP to generate and print a random uppercase or lowercase alphabet. Try these:\n",
    "## • Create a string containing all alphabets and then select a random alphabet.\n",
    "## • Check the module string \n"
   ]
  },
  {
   "cell_type": "code",
   "execution_count": 19,
   "metadata": {},
   "outputs": [
    {
     "data": {
      "text/plain": [
       "'a'"
      ]
     },
     "execution_count": 19,
     "metadata": {},
     "output_type": "execute_result"
    }
   ],
   "source": []
  },
  {
   "cell_type": "markdown",
   "metadata": {},
   "source": [
    "## 4. WAF get_si() that takes Principle, Rate and Time as arguments and returns the Simple Interest. "
   ]
  },
  {
   "cell_type": "code",
   "execution_count": 25,
   "metadata": {},
   "outputs": [
    {
     "name": "stdout",
     "output_type": "stream",
     "text": [
      "Simple interest is : 2400.0\n"
     ]
    }
   ],
   "source": [
    "def get_si(prp, nOfY, roi) :\n",
    "    print(\"Simple interest is :\" ,prp*nOfY*roi/100)\n",
    "\n",
    "get_si(12000, 2, 10)"
   ]
  },
  {
   "cell_type": "markdown",
   "metadata": {},
   "source": [
    "## 5. WAF get_amount() that takes Principle, Rate and Time as arguments and returns the\n",
    "## Total amount using the get_si() function from above to calculate the SI. Also provide\n",
    "## Rate = 10 and Time = 1 as default arguments."
   ]
  },
  {
   "cell_type": "code",
   "execution_count": 27,
   "metadata": {},
   "outputs": [
    {
     "name": "stdout",
     "output_type": "stream",
     "text": [
      "Simple interest is : 1500.0\n"
     ]
    }
   ],
   "source": [
    "def get_amount(p, r=10, t=1) :\n",
    "    return get_si(p, r, t)\n",
    "\n",
    "get_amount(15000)"
   ]
  },
  {
   "cell_type": "markdown",
   "metadata": {},
   "source": [
    "## 6. WAP get_ci() that takes Principle, Rate and Time as arguments and returns the Compound Interest. "
   ]
  },
  {
   "cell_type": "code",
   "execution_count": 30,
   "metadata": {},
   "outputs": [
    {
     "name": "stdout",
     "output_type": "stream",
     "text": [
      "Compound interest is : 2520.000000000002\n",
      "Amount is : 14520.000000000002\n"
     ]
    }
   ],
   "source": [
    "def get_ci(prp, roi, nOfY) :\n",
    "    amount = prp*(pow(1+roi/100, nOfY))\n",
    "    print(\"Compound interest is :\", amount-prp)\n",
    "    print(\"Amount is :\", amount)\n",
    "\n",
    "get_ci(12000, 10, 2)"
   ]
  },
  {
   "cell_type": "markdown",
   "metadata": {},
   "source": [
    "## WAP get_q_r() taking 2 numbers as parameters and returns the quotient and remainder in the form of a tuple. "
   ]
  },
  {
   "cell_type": "code",
   "execution_count": 46,
   "metadata": {
    "scrolled": true
   },
   "outputs": [
    {
     "data": {
      "text/plain": [
       "(3, 1)"
      ]
     },
     "execution_count": 46,
     "metadata": {},
     "output_type": "execute_result"
    }
   ],
   "source": [
    "def get_q_r(a, b) :\n",
    "    tuple = (a//b, a%b)\n",
    "    return tuple\n",
    "\n",
    "get_q_r(10, 3)"
   ]
  },
  {
   "cell_type": "markdown",
   "metadata": {},
   "source": [
    "## 8. WAP to find the length of hypotenuse of a right angled triangle, input the height and base from user. "
   ]
  },
  {
   "cell_type": "code",
   "execution_count": 45,
   "metadata": {},
   "outputs": [
    {
     "name": "stdout",
     "output_type": "stream",
     "text": [
      "Enter the height: 10\n",
      "Enter the base: 5\n",
      "Hypotenuse is:  11.180339887498949\n"
     ]
    }
   ],
   "source": [
    "import math\n",
    "h = int(input(\"Enter the height: \" ))\n",
    "b = int(input(\"Enter the base: \" ))\n",
    "\n",
    "print(\"Hypotenuse is: \", math.sqrt(h**2 + b**2)  )            "
   ]
  },
  {
   "cell_type": "markdown",
   "metadata": {},
   "source": [
    "## 9. WAP to input number of seconds and print in days, hours, minutes and seconds\n",
    "## ex: input = 10000\n",
    "## Output = 0 day 2 hour 46 minute 40 second "
   ]
  },
  {
   "cell_type": "code",
   "execution_count": 63,
   "metadata": {},
   "outputs": [
    {
     "name": "stdout",
     "output_type": "stream",
     "text": [
      "Input time in seconds: 1235341\n",
      "14.0 day 7.0 hour 9.0 minutes 1.0 seconds\n"
     ]
    }
   ],
   "source": [
    "time = float(input(\"Input time in seconds: \"))\n",
    "day = time // (24 * 3600)\n",
    "time = time % (24 * 3600)\n",
    "hour = time // 3600\n",
    "time %= 3600\n",
    "minutes = time // 60\n",
    "time %= 60\n",
    "seconds = time\n",
    "print(f\"{day} day {hour} hour {minutes} minutes {seconds} seconds\")"
   ]
  },
  {
   "cell_type": "markdown",
   "metadata": {},
   "source": [
    "## 10. Check your version of python interpreter without opening the interpreter (Which command needs to be used on the command line). "
   ]
  },
  {
   "cell_type": "code",
   "execution_count": 56,
   "metadata": {},
   "outputs": [
    {
     "name": "stdout",
     "output_type": "stream",
     "text": [
      "3.8.3\n"
     ]
    }
   ],
   "source": [
    "from platform import python_version\n",
    "print(python_version())"
   ]
  },
  {
   "cell_type": "markdown",
   "metadata": {},
   "source": [
    "## Find Output\n",
    "## x= 2\n",
    "## x *= 3\n",
    "## x = x%4\n",
    "## y= - x\n",
    "## print(x,y)"
   ]
  },
  {
   "cell_type": "code",
   "execution_count": 58,
   "metadata": {},
   "outputs": [],
   "source": [
    "# 2, -2"
   ]
  },
  {
   "cell_type": "markdown",
   "metadata": {},
   "source": [
    "## 12. Find output\n",
    "## def d() :\n",
    "##     pass\n",
    " \n",
    "## print(d())"
   ]
  },
  {
   "cell_type": "code",
   "execution_count": null,
   "metadata": {},
   "outputs": [],
   "source": [
    "## None"
   ]
  }
 ],
 "metadata": {
  "kernelspec": {
   "display_name": "Python 3",
   "language": "python",
   "name": "python3"
  },
  "language_info": {
   "codemirror_mode": {
    "name": "ipython",
    "version": 3
   },
   "file_extension": ".py",
   "mimetype": "text/x-python",
   "name": "python",
   "nbconvert_exporter": "python",
   "pygments_lexer": "ipython3",
   "version": "3.8.3"
  }
 },
 "nbformat": 4,
 "nbformat_minor": 4
}
