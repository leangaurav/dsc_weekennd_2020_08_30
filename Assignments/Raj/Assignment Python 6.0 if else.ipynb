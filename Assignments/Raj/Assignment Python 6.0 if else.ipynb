{
 "cells": [
  {
   "cell_type": "markdown",
   "metadata": {},
   "source": [
    "# Assignment Python 6.0 if else"
   ]
  },
  {
   "cell_type": "code",
   "execution_count": 3,
   "metadata": {},
   "outputs": [
    {
     "name": "stdout",
     "output_type": "stream",
     "text": [
      "enter the 1st no: 25\n",
      "enter the 2nd no: 3\n",
      "false\n"
     ]
    }
   ],
   "source": [
    "#1. WAP to input 2 numbers and check whether the first is divisible by the second and print true or\n",
    "#false depending on the divisibility.\n",
    "n1=int(input('enter the 1st no: '))\n",
    "n2=int(input('enter the 2nd no: '))\n",
    "\n",
    "if n1%n2==0:\n",
    "    print('true')\n",
    "else:\n",
    "    print('false')\n",
    "\n"
   ]
  },
  {
   "cell_type": "code",
   "execution_count": 8,
   "metadata": {},
   "outputs": [
    {
     "name": "stdout",
     "output_type": "stream",
     "text": [
      "enter the string: naMaN\n",
      "naman naMan\n",
      "its an palindome\n"
     ]
    }
   ],
   "source": [
    "#2. In the palindrome example, make the code case insensitive.\n",
    "str1=input('enter the string: ')\n",
    "#s2=str1.lower()\n",
    "#s3=str1[::-1]\n",
    "print(s2,s3)\n",
    "if str1.lower()==str1[::-1].lower(): #DIRECTLY DOING THE STRING OPERATIONS\n",
    "    print('its an palindome')\n",
    "else:\n",
    "    print('Not a palindrome')\n"
   ]
  },
  {
   "cell_type": "code",
   "execution_count": 11,
   "metadata": {},
   "outputs": [
    {
     "name": "stdout",
     "output_type": "stream",
     "text": [
      "enter the leght of one side of the traingle: 5\n",
      "enter the leght of second side of the traingle: 5\n",
      "enter the leght of third side of the traingle: 5\n",
      "equilateral triangles\n"
     ]
    }
   ],
   "source": [
    "#3. WAP to input the sides of a triangle and print whether equilateral(all sides equal), isosceles (2\n",
    "#sides equal), or scalene (no sides equal).\n",
    "s1=int(input('enter the leght of one side of the traingle: '))\n",
    "s2=int(input('enter the leght of second side of the traingle: '))\n",
    "s3=int(input('enter the leght of third side of the traingle: '))\n",
    "if s1==s2==s3:\n",
    "    print('equilateral triangles')\n",
    "elif s1==s2 or s2==s3 or s3==s1:\n",
    "    print('isosceles triangle')\n",
    "else:\n",
    "    print('scalene triangale')"
   ]
  },
  {
   "cell_type": "code",
   "execution_count": 18,
   "metadata": {},
   "outputs": [
    {
     "name": "stdout",
     "output_type": "stream",
     "text": [
      "Enter the no from 1: 2\n",
      "the no is even\n"
     ]
    }
   ],
   "source": [
    "#4. WAP to input a number and print if it is even or odd.\n",
    "num=int(input('Enter the no from 1: '))\n",
    "if num%2==0:\n",
    "    print('the no is even')\n",
    "else:\n",
    "    print('the no is odd')"
   ]
  },
  {
   "cell_type": "code",
   "execution_count": 24,
   "metadata": {},
   "outputs": [
    {
     "name": "stdout",
     "output_type": "stream",
     "text": [
      "Enter the age: 25\n",
      "adult\n"
     ]
    }
   ],
   "source": [
    "#5. WAP to input age and print the respective text depending on the age ranges as present in the table.\n",
    "age=int(input('Enter the age: '))\n",
    "if 0<=age<=12:\n",
    "    print('child')\n",
    "elif 13<=age<=17:\n",
    "    print('teen')\n",
    "elif 18<=age<=50:\n",
    "    print('adult')\n",
    "elif 51<=age<=100:\n",
    "    print('Senior citizen')\n",
    "else:\n",
    "    print('congratualtions!!!')"
   ]
  },
  {
   "cell_type": "code",
   "execution_count": 36,
   "metadata": {},
   "outputs": [
    {
     "name": "stdout",
     "output_type": "stream",
     "text": [
      "Enter the year: 2000\n",
      "the given year is a leap year!!\n"
     ]
    }
   ],
   "source": [
    "#WAP to input year (check if user enters valid year. Should be 4-digit number and should not be\n",
    "#negative) and print whether leap year or not.\n",
    "\n",
    "year=int(input('Enter the year: '))\n",
    "if year<1000 or year > 10000:\n",
    "    print('Please enter a 4 digit year')\n",
    "else:\n",
    "    if year%4==0:\n",
    "        if year%100==0:\n",
    "            if year%400==0:\n",
    "                print('the given year is a leap year!!')\n",
    "            else:\n",
    "                print('the given year is not a leap year')\n",
    "        else:\n",
    "            print('the given year is  a leap year')\n",
    "        \n",
    "    else:\n",
    "        print('the given year is not a leap year')\n"
   ]
  },
  {
   "cell_type": "code",
   "execution_count": 42,
   "metadata": {},
   "outputs": [
    {
     "name": "stdout",
     "output_type": "stream",
     "text": [
      "enter the string: rAj\n",
      "RAJ\n"
     ]
    }
   ],
   "source": [
    "#7. WAP to input a string and convert it to Upper Case if number of characters is odd and convert to lower case otherwise.\n",
    "str1=input('enter the string: ')\n",
    "if len(str1)%2!=0:\n",
    "    print(str1.upper())\n",
    "else:\n",
    "    print(str1.lower())"
   ]
  },
  {
   "cell_type": "code",
   "execution_count": 51,
   "metadata": {},
   "outputs": [
    {
     "name": "stdout",
     "output_type": "stream",
     "text": [
      "Enter the dish name: Egg\n",
      "dish is non veg\n"
     ]
    }
   ],
   "source": [
    "#8. WAP to input a string and print Veg if the string doesn’t contain the word egg. Otherwise print\n",
    "#Non-Veg. As usual eggs can be both big and small.\n",
    "str1=input('Enter the dish name: ')\n",
    "if 'egg' in str1.lower():\n",
    "    print('dish is non veg')\n",
    "else:\n",
    "    print('dish is veg')\n",
    "    "
   ]
  },
  {
   "cell_type": "code",
   "execution_count": 2,
   "metadata": {},
   "outputs": [
    {
     "name": "stdout",
     "output_type": "stream",
     "text": [
      "True\n"
     ]
    }
   ],
   "source": [
    "#9 predict output!!\n",
    "\n",
    "if not 1:\n",
    "    print('False')\n",
    "else:\n",
    "    print('True')"
   ]
  },
  {
   "cell_type": "code",
   "execution_count": 3,
   "metadata": {},
   "outputs": [
    {
     "name": "stdout",
     "output_type": "stream",
     "text": [
      "true\n"
     ]
    }
   ],
   "source": [
    "if 1:\n",
    "    print('true')\n",
    "else:\n",
    "    print('false')"
   ]
  },
  {
   "cell_type": "code",
   "execution_count": 4,
   "metadata": {},
   "outputs": [
    {
     "name": "stdout",
     "output_type": "stream",
     "text": [
      "its wierd\n"
     ]
    }
   ],
   "source": [
    "if 'a' > 'A':\n",
    "    print('its wierd')\n",
    "else:\n",
    "    print('make sense')"
   ]
  },
  {
   "cell_type": "code",
   "execution_count": 14,
   "metadata": {},
   "outputs": [
    {
     "name": "stdout",
     "output_type": "stream",
     "text": [
      "[4, 3, 2, 1]\n"
     ]
    }
   ],
   "source": [
    "a=[1,2,3,4]\n",
    "if 1>1:\n",
    "    print(a[::-1])\n",
    "else:\n",
    "    a=a[-1::-1]\n",
    "print(a)\n"
   ]
  },
  {
   "cell_type": "code",
   "execution_count": 17,
   "metadata": {},
   "outputs": [
    {
     "name": "stdout",
     "output_type": "stream",
     "text": [
      "Enter the marks obtained: 92\n",
      "Enter the marks obtained: 94\n",
      "Enter the marks obtained: 99\n",
      "Enter the marks obtained: 100\n",
      "Enter the marks obtained: 97\n",
      "Grade A\n"
     ]
    }
   ],
   "source": [
    "#10. WAP to input marks in 5 subjects and print the grade\n",
    "s1=int(input('Enter the marks obtained: '))\n",
    "s2=int(input('Enter the marks obtained: '))\n",
    "s3=int(input('Enter the marks obtained: '))\n",
    "s4=int(input('Enter the marks obtained: '))\n",
    "s5=int(input('Enter the marks obtained: '))\n",
    "perc=(s1+s2+s3+s5+s5)/5\n",
    "if 90<=perc<=100:\n",
    "    print('Grade A')\n",
    "elif 80<=perc<=89:\n",
    "    print('Grade B')\n",
    "elif 70<=perc<=79:\n",
    "    print('Grade C')\n",
    "elif 60<=perc<=69:\n",
    "    print('grade D')\n",
    "else:\n",
    "    print('Grade F')"
   ]
  },
  {
   "cell_type": "code",
   "execution_count": 20,
   "metadata": {},
   "outputs": [
    {
     "name": "stdout",
     "output_type": "stream",
     "text": [
      "Enter age: 25\n",
      "Enter Salary: 400000\n",
      "20000.0\n"
     ]
    }
   ],
   "source": [
    "#11. WAP to input age and salary and calculate Tax as per tax rates if following table:\n",
    "age=int(input('Enter age: '))\n",
    "salary=int(input('Enter Salary: '))\n",
    "if 0 < salary <= 250000:\n",
    "    tax=0\n",
    "    print(tax)\n",
    "elif 250000<salary<=500000:\n",
    "    if age < 60:\n",
    "        tax=.05*salary\n",
    "        print(tax)\n",
    "    else:\n",
    "        tax=.03*salary\n",
    "        print(tax)\n",
    "elif 500000<salary<=1000000:\n",
    "    if age < 60:\n",
    "        tax=.1*salary\n",
    "        print(tax)\n",
    "    else:\n",
    "        tax=.08*salary\n",
    "else:\n",
    "    if age < 60:\n",
    "        tax=.15*salary\n",
    "        print(tax)\n",
    "    else:\n",
    "        tax=.12*salary\n",
    "        print(tax)\n",
    "    \n",
    "\n",
    "    "
   ]
  },
  {
   "cell_type": "code",
   "execution_count": 4,
   "metadata": {},
   "outputs": [
    {
     "name": "stdout",
     "output_type": "stream",
     "text": [
      "10\n",
      "10\n",
      "10\n",
      "OMG\n"
     ]
    }
   ],
   "source": [
    "#12.output:\n",
    "print( 20 if not 1 == 1 else 10)\n",
    "print( 30 if not 1 == 1 else 20 if 'a' < 'A' else 10)\n",
    "print( 40 if not 1 == 1 else 30 if 'a' < 'A' else 20 if '' else 10)\n",
    "print( 'No' if not 1 == 1 else ('No' if 'a' < 'A' else ('OMG' if 'oh!!' else 'No')))"
   ]
  },
  {
   "cell_type": "code",
   "execution_count": null,
   "metadata": {},
   "outputs": [],
   "source": []
  },
  {
   "cell_type": "code",
   "execution_count": null,
   "metadata": {},
   "outputs": [],
   "source": []
  },
  {
   "cell_type": "code",
   "execution_count": null,
   "metadata": {},
   "outputs": [],
   "source": []
  },
  {
   "cell_type": "code",
   "execution_count": null,
   "metadata": {},
   "outputs": [],
   "source": [
    "# 13. WAF: bmi() that takes the weight in kg and height in cm of a person, calculates and returns the BMI.\n",
    "\n",
    "def bmi(w,h):\n",
    "    res=(w/(h/100)**2)\n",
    "    return res\n",
    "w=float(input('Enter the weight of person in kg: '))\n",
    "h=float(input('Enter the height if person in cm: '))\n",
    "if 0<bmi(w,h)<=18.5:\n",
    "    print('underweight',bmi(w,h))\n",
    "elif 18.5<bmi(w,h)<=25:\n",
    "    print('Normal',bmi(w,h))\n",
    "elif 25<bmi(w,h)<=30:\n",
    "    print('overweight',bmi(w,h))\n",
    "else:\n",
    "    print('obese',bmi(w,h))"
   ]
  },
  {
   "cell_type": "code",
   "execution_count": 2,
   "metadata": {},
   "outputs": [
    {
     "name": "stdout",
     "output_type": "stream",
     "text": [
      "enetr age: 25\n",
      "enetr age: 19\n",
      "enetr age: 23\n",
      "a1 is the oldest and a2 is youngest\n"
     ]
    }
   ],
   "source": [
    "###### 14. Take input of age of 3 people by user and determine oldest and youngest among them.\n",
    "a1=int(input('enetr age: '))\n",
    "a2=int(input('enetr age: '))\n",
    "a3=int(input('enetr age: '))\n",
    "if a2<a1>a3:\n",
    "    if a2>a3:\n",
    "        print('a1 is the oldest and a3 is youngest')\n",
    "    elif a3>a2:\n",
    "        print('a1 is the oldest and a2 is youngest')\n",
    "    else:\n",
    "        print('a1 is oldest and a2 a3 are of equal age')\n",
    "    \n",
    "elif a1<a2>a3:\n",
    "    if a1>a3:\n",
    "        print('a2 is the oldest and a3 is youngest')\n",
    "    elif a3>a1:\n",
    "        print('a2 is the oldest and a1 is youngest')\n",
    "    else:\n",
    "        print('a2 is oldest and a1 a3 are of equal age')\n",
    "    \n",
    "elif a1<a3>a2:\n",
    "    if a1>a2:\n",
    "        print('a3 is the oldest and a2 is youngest')\n",
    "    elif a2>a1:\n",
    "        print('a3 is the oldest and a1 is youngest')\n",
    "    else:\n",
    "        print('a3 is oldest and a1 a2 are of equal age')\n",
    "    \n",
    "else:\n",
    "    print('all are of equal age')"
   ]
  },
  {
   "cell_type": "code",
   "execution_count": null,
   "metadata": {},
   "outputs": [],
   "source": []
  },
  {
   "cell_type": "code",
   "execution_count": 3,
   "metadata": {},
   "outputs": [
    {
     "name": "stdout",
     "output_type": "stream",
     "text": [
      "Enter the Number: 55\n",
      "Given no is not divisble by both 5 or 7\n"
     ]
    }
   ],
   "source": [
    "#15. WAP to input a number and check if number is divisible by both 5 and 7.\n",
    "num=int(input('Enter the Number: '))\n",
    "if num%5==0 and num%7==0:\n",
    "    print('Given number is divisible by both 5 and 7')\n",
    "else:\n",
    "    print('Given no is not divisble by both 5 or 7')"
   ]
  },
  {
   "cell_type": "code",
   "execution_count": null,
   "metadata": {},
   "outputs": [],
   "source": []
  }
 ],
 "metadata": {
  "kernelspec": {
   "display_name": "Python 3",
   "language": "python",
   "name": "python3"
  },
  "language_info": {
   "codemirror_mode": {
    "name": "ipython",
    "version": 3
   },
   "file_extension": ".py",
   "mimetype": "text/x-python",
   "name": "python",
   "nbconvert_exporter": "python",
   "pygments_lexer": "ipython3",
   "version": "3.7.4"
  }
 },
 "nbformat": 4,
 "nbformat_minor": 2
}
