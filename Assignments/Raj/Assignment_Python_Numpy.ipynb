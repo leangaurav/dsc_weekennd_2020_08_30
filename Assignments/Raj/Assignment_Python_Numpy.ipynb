{
 "cells": [
  {
   "cell_type": "markdown",
   "metadata": {},
   "source": [
    "# Assignment Numpy\n"
   ]
  },
  {
   "cell_type": "code",
   "execution_count": 4,
   "metadata": {},
   "outputs": [
    {
     "name": "stdout",
     "output_type": "stream",
     "text": [
      "[0. 0. 0. 0. 0.]\n",
      "float64\n",
      "8\n",
      "(5,)\n"
     ]
    }
   ],
   "source": [
    "#1.create a numpy array of 5 zeros. check datatype, itemsize and shape of above\n",
    "import numpy as np\n",
    "arr=np.zeros(5)\n",
    "print(arr)\n",
    "print(arr.dtype)\n",
    "print(arr.itemsize)\n",
    "print(arr.shape)"
   ]
  },
  {
   "cell_type": "code",
   "execution_count": 9,
   "metadata": {},
   "outputs": [
    {
     "name": "stdout",
     "output_type": "stream",
     "text": [
      "[[1. 1. 1. 1.]\n",
      " [1. 1. 1. 1.]\n",
      " [1. 1. 1. 1.]\n",
      " [1. 1. 1. 1.]\n",
      " [1. 1. 1. 1.]]\n",
      "float64\n",
      "8\n",
      "(5, 4)\n"
     ]
    }
   ],
   "source": [
    "#2.create a numpy array of ones of shape (5,4)\n",
    "arr=np.ones(shape=(5,4))\n",
    "print(arr)\n",
    "print(arr.dtype)\n",
    "print(arr.itemsize)\n",
    "print(arr.shape)"
   ]
  },
  {
   "cell_type": "code",
   "execution_count": 15,
   "metadata": {},
   "outputs": [
    {
     "name": "stdout",
     "output_type": "stream",
     "text": [
      "[[13  3  3 18 10]\n",
      " [13  3 18  2  5]\n",
      " [ 5 16 15 12  9]\n",
      " [13  7  6  3 18]]\n"
     ]
    }
   ],
   "source": [
    "#3.create a matrix of shape 4,5 with numbers from 1-20\n",
    "arr=np.random.randint(1,20,size=(4,5))\n",
    "print(arr)"
   ]
  },
  {
   "cell_type": "code",
   "execution_count": 16,
   "metadata": {},
   "outputs": [
    {
     "name": "stdout",
     "output_type": "stream",
     "text": [
      "[[130  30  30 180 100]\n",
      " [130  30 180  20  50]\n",
      " [ 50 160 150 120  90]\n",
      " [130  70  60  30 180]]\n"
     ]
    }
   ],
   "source": [
    "#4.multiply all elements of above array by 10\n",
    "arr=arr*10\n",
    "print(arr) #will multiplu element by element"
   ]
  },
  {
   "cell_type": "code",
   "execution_count": 4,
   "metadata": {},
   "outputs": [
    {
     "name": "stdout",
     "output_type": "stream",
     "text": [
      "[[10 11 12]\n",
      " [13 14 15]\n",
      " [16 17 18]\n",
      " [19 20 21]]\n",
      "\n",
      "[11 13 15 17 19 21]\n"
     ]
    }
   ],
   "source": [
    "#5.print odd elements from array\n",
    "import numpy as np\n",
    "arr=np.arange(10,22).reshape(4,3)\n",
    "print(arr)\n",
    "print()\n",
    "print(arr[arr%2!=0])"
   ]
  },
  {
   "cell_type": "code",
   "execution_count": 5,
   "metadata": {},
   "outputs": [
    {
     "name": "stdout",
     "output_type": "stream",
     "text": [
      "[[10 11 12]\n",
      " [13 14 15]\n",
      " [16 17 18]\n",
      " [19 20 21]]\n",
      "\n",
      "[[ True False  True]\n",
      " [False  True False]\n",
      " [ True False  True]\n",
      " [False  True False]]\n",
      "\n",
      "[[-10  11 -12]\n",
      " [ 13 -14  15]\n",
      " [-16  17 -18]\n",
      " [ 19 -20  21]]\n"
     ]
    }
   ],
   "source": [
    "#6.replace all even elements by their negative\n",
    "import numpy as np\n",
    "arr=np.arange(10,22).reshape(4,3)\n",
    "print(arr)\n",
    "print()\n",
    "even_arr=arr%2==0\n",
    "print(even_arr)\n",
    "print()\n",
    "print(np.where(even_arr, -arr, arr))\n"
   ]
  },
  {
   "cell_type": "code",
   "execution_count": 6,
   "metadata": {},
   "outputs": [
    {
     "name": "stdout",
     "output_type": "stream",
     "text": [
      "[[ 1.  2.  3.  4.]\n",
      " [ 5.  6.  7.  8.]\n",
      " [ 9. 10. 11. 12.]\n",
      " [13. 14. 15. 16.]]\n"
     ]
    }
   ],
   "source": [
    "#7.create a linearly spaced matrix M1 of size 4x4 having values in range 1-16\n",
    "m1=np.linspace(1,16,16).reshape(4,4)\n",
    "print(m1)"
   ]
  },
  {
   "cell_type": "code",
   "execution_count": 7,
   "metadata": {},
   "outputs": [
    {
     "name": "stdout",
     "output_type": "stream",
     "text": [
      "[[ 1.  2.  3.  4.]\n",
      " [ 5.  6.  7.  8.]\n",
      " [ 9. 10. 11. 12.]\n",
      " [13. 14. 15. 16.]]\n",
      "\n",
      "[[ 1.  5.  9. 13.]\n",
      " [ 2.  6. 10. 14.]\n",
      " [ 3.  7. 11. 15.]\n",
      " [ 4.  8. 12. 16.]]\n"
     ]
    }
   ],
   "source": [
    "#8create a transpose of above matrix call it M2\n",
    "m1=np.linspace(1,16,16).reshape(4,4)\n",
    "print(m1)\n",
    "print()\n",
    "\n",
    "m2=m1.T\n",
    "print(m2)"
   ]
  },
  {
   "cell_type": "code",
   "execution_count": 8,
   "metadata": {},
   "outputs": [
    {
     "name": "stdout",
     "output_type": "stream",
     "text": [
      "[[ 1.  2.  3.  4.]\n",
      " [ 5.  6.  7.  8.]\n",
      " [ 9. 10. 11. 12.]\n",
      " [13. 14. 15. 16.]]\n",
      "\n",
      "[[ 1.  5.  9. 13.]\n",
      " [ 2.  6. 10. 14.]\n",
      " [ 3.  7. 11. 15.]\n",
      " [ 4.  8. 12. 16.]]\n",
      "\n",
      "[[ 2.  7. 12. 17.]\n",
      " [ 7. 12. 17. 22.]\n",
      " [12. 17. 22. 27.]\n",
      " [17. 22. 27. 32.]]\n"
     ]
    }
   ],
   "source": [
    "#9.find sum of above matrix M3 = (M1 + M2)\n",
    "m1=np.linspace(1,16,16).reshape(4,4)\n",
    "print(m1)\n",
    "print()\n",
    "\n",
    "m2=m1.T\n",
    "print(m2)\n",
    "print()\n",
    "m3=m1+m2\n",
    "print(m3)"
   ]
  },
  {
   "cell_type": "code",
   "execution_count": 20,
   "metadata": {},
   "outputs": [
    {
     "name": "stdout",
     "output_type": "stream",
     "text": [
      "[[ 2.  7. 12. 17.]\n",
      " [ 7. 12. 17. 22.]\n",
      " [12. 17. 22. 27.]\n",
      " [17. 22. 27. 32.]]\n",
      "\n",
      "matrix are equal\n"
     ]
    }
   ],
   "source": [
    "#9.Find Transpose of M3, Call it MT1. Check if M3 == MT1\n",
    "mt1=m3.T\n",
    "print(mt1)\n",
    "print()\n",
    "if m3.all()==mt1.all():\n",
    "    print('matrix are equal')\n",
    "else:\n",
    "    print('not equal')"
   ]
  },
  {
   "cell_type": "code",
   "execution_count": 13,
   "metadata": {},
   "outputs": [
    {
     "name": "stdout",
     "output_type": "stream",
     "text": [
      "[[ 2.  7. 12. 17.]\n",
      " [ 7. 12. 17. 22.]\n",
      " [12. 17. 22. 27.]\n",
      " [17. 22. 27. 32.]]\n",
      "\n",
      "Matrix are equal\n"
     ]
    }
   ],
   "source": [
    "mt1=m3.T\n",
    "print(mt1)\n",
    "print()\n",
    "for i in range(4):\n",
    "    for j in range(4):\n",
    "        if m3[i,j]==mt1[i,j]:\n",
    "            break\n",
    "        else:\n",
    "            print('Not Equal')\n",
    "print('Matrix are equal')"
   ]
  },
  {
   "cell_type": "code",
   "execution_count": 14,
   "metadata": {},
   "outputs": [
    {
     "name": "stdout",
     "output_type": "stream",
     "text": [
      "[[ 1.  2.  3.  4.]\n",
      " [ 5.  6.  7.  8.]\n",
      " [ 9. 10. 11. 12.]\n",
      " [13. 14. 15. 16.]]\n",
      "\n",
      "[[ 1.  5.  9. 13.]\n",
      " [ 2.  6. 10. 14.]\n",
      " [ 3.  7. 11. 15.]\n",
      " [ 4.  8. 12. 16.]]\n",
      "\n",
      "[[ 0. -3. -6. -9.]\n",
      " [ 3.  0. -3. -6.]\n",
      " [ 6.  3.  0. -3.]\n",
      " [ 9.  6.  3.  0.]]\n"
     ]
    }
   ],
   "source": [
    "#10.find diffrence of M4 = (M1 - M2)\n",
    "m4=m1-m2\n",
    "print(m1)\n",
    "print()\n",
    "print(m2)\n",
    "print()\n",
    "print(m4)"
   ]
  },
  {
   "cell_type": "code",
   "execution_count": 30,
   "metadata": {},
   "outputs": [
    {
     "name": "stdout",
     "output_type": "stream",
     "text": [
      "[[ 0.  3.  6.  9.]\n",
      " [-3.  0.  3.  6.]\n",
      " [-6. -3.  0.  3.]\n",
      " [-9. -6. -3.  0.]]\n",
      "\n",
      "[[ 0. -3. -6. -9.]\n",
      " [ 3.  0. -3. -6.]\n",
      " [ 6.  3.  0. -3.]\n",
      " [ 9.  6.  3.  0.]]\n",
      "not equal\n",
      "matrix are equal\n"
     ]
    }
   ],
   "source": [
    "#11.Find Transpose of M4, Call it MT2. Check if M4 == MT2. Also check if M4 == -MT2\n",
    "mt2=m4.T\n",
    "print(mt2)\n",
    "print()\n",
    "print(m4)\n",
    "#if M4 == MT2\n",
    "if np.allclose(m4,mt2):\n",
    "    print('matrix are equal')\n",
    "else:\n",
    "    print('not equal')\n",
    "#if M4 == -MT2\n",
    "if np.allclose(m4,-mt2):\n",
    "    print('matrix are equal')\n",
    "else:\n",
    "    print('not equal')"
   ]
  },
  {
   "cell_type": "code",
   "execution_count": 2,
   "metadata": {},
   "outputs": [
    {
     "name": "stdout",
     "output_type": "stream",
     "text": [
      "[[11 28 23 25]\n",
      " [37 35 23 10]\n",
      " [18 23 27 11]]\n"
     ]
    }
   ],
   "source": [
    "#12.create a matrix (3x4) R1 of random numbers between 10-40\n",
    "import numpy as np\n",
    "r1=np.random.randint(10,40,(3,4))\n",
    "print(r1)"
   ]
  },
  {
   "cell_type": "code",
   "execution_count": 3,
   "metadata": {},
   "outputs": [
    {
     "name": "stdout",
     "output_type": "stream",
     "text": [
      "[11 23 23 10]\n",
      "[37 35 27 25]\n"
     ]
    }
   ],
   "source": [
    "#13.find min and max column wise\n",
    "print(r1.min(axis=0))\n",
    "print(r1.max(axis=0))\n"
   ]
  },
  {
   "cell_type": "code",
   "execution_count": 47,
   "metadata": {},
   "outputs": [
    {
     "name": "stdout",
     "output_type": "stream",
     "text": [
      "[[ 23  20  22 233]\n",
      " [ 27  34  39 339]\n",
      " [ 12  29  35 257]]\n",
      "\n",
      "[233 339 257]\n"
     ]
    }
   ],
   "source": [
    "#14.replace the last column with sum of all the columns\n",
    "r1[:,3]=r1[:,0]+r1[:,1]+r1[:,2]+r1[:,3]\n",
    "print(r1)\n",
    "print()\n",
    "print(r1[:,3])"
   ]
  },
  {
   "cell_type": "code",
   "execution_count": 4,
   "metadata": {},
   "outputs": [
    {
     "name": "stdout",
     "output_type": "stream",
     "text": [
      "[[12 25 31 28]\n",
      " [23 19 13 27]\n",
      " [21 27 28 24]]\n"
     ]
    }
   ],
   "source": [
    "#15.create a matrix (3x4) R1 of random numbers between 10-40\n",
    "r1=np.random.randint(10,40,(3,4))\n",
    "print(r1)"
   ]
  },
  {
   "cell_type": "code",
   "execution_count": 17,
   "metadata": {},
   "outputs": [
    {
     "name": "stdout",
     "output_type": "stream",
     "text": [
      "[[39 14 14 19]\n",
      " [33 34 32 24]\n",
      " [30 37 34 14]]\n",
      "\n",
      "[[39. nan nan 19.]\n",
      " [33. nan nan nan]\n",
      " [nan 37. nan nan]]\n"
     ]
    }
   ],
   "source": [
    "#16.replace all even elements with nan in R1\n",
    "r1=np.random.randint(10,40,(3,4))\n",
    "print(r1)\n",
    "print()\n",
    "r1=r1.astype(np.float32)\n",
    "r1[r1%2==0]=np.nan\n",
    "print(r1)"
   ]
  },
  {
   "cell_type": "code",
   "execution_count": 18,
   "metadata": {},
   "outputs": [
    {
     "name": "stdout",
     "output_type": "stream",
     "text": [
      "8\n"
     ]
    }
   ],
   "source": [
    "#17.count number of nan in R1\n",
    "print(np.isnan(r1).sum())"
   ]
  },
  {
   "cell_type": "code",
   "execution_count": null,
   "metadata": {},
   "outputs": [],
   "source": []
  },
  {
   "cell_type": "code",
   "execution_count": 71,
   "metadata": {},
   "outputs": [
    {
     "name": "stdout",
     "output_type": "stream",
     "text": [
      "[[1 2 3]\n",
      " [4 5 6]\n",
      " [7 8 9]]\n",
      "\n",
      "[[11 12 13]\n",
      " [14 15 16]\n",
      " [17 18 19]]\n",
      "\n",
      "[ 1  2  3  4  5  6  7  8  9 11 12 13 14 15 16 17 18 19]\n",
      "\n",
      "[[ 1  2  3]\n",
      " [ 4  5  6]\n",
      " [ 7  8  9]\n",
      " [11 12 13]\n",
      " [14 15 16]\n",
      " [17 18 19]]\n",
      "\n",
      "[[ 1  2  3 11 12 13]\n",
      " [ 4  5  6 14 15 16]\n",
      " [ 7  8  9 17 18 19]]\n"
     ]
    }
   ],
   "source": [
    "#18. predict output\n",
    "a1 = np.arange(1,10).reshape(3,3)\n",
    "print(a1)\n",
    "a2 = np.arange(11,20).reshape(3,3)\n",
    "print()\n",
    "print(a2)\n",
    "a3 = np.append(a1,a2)\n",
    "print()\n",
    "print(a3)\n",
    "print()\n",
    "a3 = np.append(a1,a2, axis = 0)\n",
    "print(a3)\n",
    "print()\n",
    "a3 = np.append(a1,a2, axis = 1)\n",
    "print(a3)"
   ]
  },
  {
   "cell_type": "code",
   "execution_count": null,
   "metadata": {},
   "outputs": [],
   "source": []
  },
  {
   "cell_type": "code",
   "execution_count": null,
   "metadata": {},
   "outputs": [],
   "source": []
  }
 ],
 "metadata": {
  "kernelspec": {
   "display_name": "Python 3",
   "language": "python",
   "name": "python3"
  },
  "language_info": {
   "codemirror_mode": {
    "name": "ipython",
    "version": 3
   },
   "file_extension": ".py",
   "mimetype": "text/x-python",
   "name": "python",
   "nbconvert_exporter": "python",
   "pygments_lexer": "ipython3",
   "version": "3.7.4"
  }
 },
 "nbformat": 4,
 "nbformat_minor": 2
}
