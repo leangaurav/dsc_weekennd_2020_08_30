{
 "cells": [
  {
   "cell_type": "code",
   "execution_count": 3,
   "metadata": {},
   "outputs": [
    {
     "name": "stdout",
     "output_type": "stream",
     "text": [
      "enter the n natural number: 5\n",
      "0\n",
      "1\n",
      "2\n",
      "3\n",
      "4\n",
      "5\n"
     ]
    }
   ],
   "source": [
    "#1. WAP to print first n natural numbers (input n from user).\n",
    "n=int(input('enter the n natural number: '))\n",
    "for i in range(n+1):\n",
    "    print(i)"
   ]
  },
  {
   "cell_type": "code",
   "execution_count": 4,
   "metadata": {},
   "outputs": [
    {
     "name": "stdout",
     "output_type": "stream",
     "text": [
      "enter the n natural number: 5\n",
      "15\n"
     ]
    }
   ],
   "source": [
    "#2. WAP to find sum of first n natural numbers\n",
    "n=int(input('enter the n natural number: '))\n",
    "sum=0\n",
    "for i in range(n+1):\n",
    "    sum+=i\n",
    "print(sum)"
   ]
  },
  {
   "cell_type": "code",
   "execution_count": 9,
   "metadata": {},
   "outputs": [
    {
     "name": "stdout",
     "output_type": "stream",
     "text": [
      "enter the n natural number: 5\n",
      "5\n",
      "4\n",
      "3\n",
      "2\n",
      "1\n",
      "0\n"
     ]
    }
   ],
   "source": [
    "#3. WAP to print first n natural numbers in reverse order.\n",
    "n=int(input('enter the n natural number: '))\n",
    "num=n+1\n",
    "for i in range(n+1):\n",
    "    num=num-1\n",
    "    print(num)"
   ]
  },
  {
   "cell_type": "code",
   "execution_count": 16,
   "metadata": {},
   "outputs": [
    {
     "name": "stdout",
     "output_type": "stream",
     "text": [
      "enter the n natural number: 5\n",
      "120\n"
     ]
    }
   ],
   "source": [
    "#4. WAP to input a number and print its factorial.\n",
    "n=int(input('enter the n natural number: '))\n",
    "fact=1\n",
    "i=1\n",
    "while i< n+1:\n",
    "    fact=fact*i\n",
    "    i+=1\n",
    "print(fact)\n",
    "    "
   ]
  },
  {
   "cell_type": "code",
   "execution_count": 5,
   "metadata": {},
   "outputs": [
    {
     "name": "stdout",
     "output_type": "stream",
     "text": [
      "enter the number: 15\n",
      "[0, 1, 1, 2, 3, 5, 8, 13, 21, 34, 55, 89, 144, 233, 377]\n"
     ]
    }
   ],
   "source": [
    "#5. WAP to print Fibonacci sequence till n.\n",
    "n=int(input('enter the number: '))\n",
    "fib_lst=[0,1]\n",
    "\n",
    "#print(len(fib_lst))\n",
    "\n",
    "for i in range(2,n):\n",
    "    fib_lst.append(fib_lst[i-1]+fib_lst[i-2])\n",
    "    \n",
    "print(fib_lst)\n",
    "    \n",
    "\n"
   ]
  },
  {
   "cell_type": "code",
   "execution_count": 9,
   "metadata": {},
   "outputs": [
    {
     "name": "stdout",
     "output_type": "stream",
     "text": [
      "enter the number: 678\n",
      "6 7 8 \n",
      "['6', '7', '8']\n"
     ]
    }
   ],
   "source": [
    "#6. WAP to print all digits of a number input from user.\n",
    "n=(input('enter the number: '))\n",
    "lst=list(n)\n",
    "for numm in lst:\n",
    "    print(numm, end=' ')\n",
    "print()\n",
    "print(lst)"
   ]
  },
  {
   "cell_type": "code",
   "execution_count": 48,
   "metadata": {},
   "outputs": [
    {
     "name": "stdout",
     "output_type": "stream",
     "text": [
      "enter the number: 625\n",
      "the sum of the digits is:  13\n"
     ]
    }
   ],
   "source": [
    "#7. WAP to find sum of all digits of a number.\n",
    "n=(input('enter the number: '))\n",
    "lst=list(n)\n",
    "add=0\n",
    "for numm in lst:\n",
    "    add+=int(numm)\n",
    "    \n",
    "print('the sum of the digits is: ',add)\n"
   ]
  },
  {
   "cell_type": "code",
   "execution_count": 13,
   "metadata": {},
   "outputs": [
    {
     "name": "stdout",
     "output_type": "stream",
     "text": [
      "enter the serioes no of the factroial: 4\n",
      "Sum of the Expression is:  33\n"
     ]
    }
   ],
   "source": [
    "#8. WAP to find sum of following series given n as input from user\n",
    "#1 + 2! + 3! + 4! + 5! + ….n! Where n! denotes the factorial of number n.\n",
    "n=int(input('enter the serioes no of the factroial: '))\n",
    "a=1\n",
    "b=0\n",
    "for i in range(1,n+1):\n",
    "    a=1\n",
    "    for j in range(1,i+1):\n",
    "        a=a*j\n",
    "    b=b+a\n",
    "print('Sum of the Expression is: ',b)\n"
   ]
  },
  {
   "cell_type": "code",
   "execution_count": 52,
   "metadata": {},
   "outputs": [
    {
     "name": "stdout",
     "output_type": "stream",
     "text": [
      "enter the base of the no: 5\n",
      "enter the exp of the no: 3\n",
      "125\n"
     ]
    }
   ],
   "source": [
    "#9. WAP to input base and exponent and print result without using inbuilt function pow(use for or while loop).\n",
    "base=int(input('enter the base of the no: '))\n",
    "exp=int(input('enter the exp of the no: '))\n",
    "power=1\n",
    "for i in range(1,exp+1):\n",
    "    power=power*base\n",
    "print(power)"
   ]
  },
  {
   "cell_type": "code",
   "execution_count": 20,
   "metadata": {},
   "outputs": [
    {
     "name": "stdout",
     "output_type": "stream",
     "text": [
      "*\n",
      "**\n",
      "***\n",
      "****\n",
      "*****\n"
     ]
    }
   ],
   "source": [
    "#10. Print pattern\n",
    "for i in range(5):\n",
    "    for j in range(i+1):\n",
    "        print('*',end='')  ###---to print the * into the same line\n",
    "    print()  ###---to move the cursor to the next line\n"
   ]
  },
  {
   "cell_type": "code",
   "execution_count": 21,
   "metadata": {},
   "outputs": [
    {
     "name": "stdout",
     "output_type": "stream",
     "text": [
      "*****\n",
      "****\n",
      "***\n",
      "**\n",
      "*\n"
     ]
    }
   ],
   "source": [
    "for i in range(5):\n",
    "    for j in range(5-i):\n",
    "        print('*',end='')  \n",
    "    print()"
   ]
  },
  {
   "cell_type": "code",
   "execution_count": 26,
   "metadata": {},
   "outputs": [
    {
     "name": "stdout",
     "output_type": "stream",
     "text": [
      "     *\n",
      "    **\n",
      "   ***\n",
      "  ****\n",
      " *****\n"
     ]
    }
   ],
   "source": [
    "for i in range(5):\n",
    "    for j in range(5-i):\n",
    "        print(' ',end='')\n",
    "    for j in range(i+1):\n",
    "        print('*',end='')\n",
    "    print()"
   ]
  },
  {
   "cell_type": "code",
   "execution_count": 27,
   "metadata": {},
   "outputs": [
    {
     "name": "stdout",
     "output_type": "stream",
     "text": [
      "      *\n",
      "     * *\n",
      "    * * *\n",
      "   * * * *\n",
      "  * * * * *\n"
     ]
    }
   ],
   "source": [
    "for i in range(5):\n",
    "    for j in range(5-i):\n",
    "        print(' ',end='')\n",
    "    for j in range(i+1):\n",
    "        print(' *',end='')\n",
    "    print()"
   ]
  },
  {
   "cell_type": "code",
   "execution_count": 37,
   "metadata": {},
   "outputs": [
    {
     "name": "stdout",
     "output_type": "stream",
     "text": [
      "1\n",
      "12\n",
      "123\n",
      "1234\n",
      "12345\n"
     ]
    }
   ],
   "source": [
    "#11.Print the Follwoing Pattern\n",
    "for i in range(1,6):\n",
    "    for j in range(1,i+1):\n",
    "        print(j,end='')\n",
    "    print()"
   ]
  },
  {
   "cell_type": "code",
   "execution_count": 38,
   "metadata": {},
   "outputs": [
    {
     "name": "stdout",
     "output_type": "stream",
     "text": [
      "1\n",
      "22\n",
      "333\n",
      "4444\n",
      "55555\n"
     ]
    }
   ],
   "source": [
    "for i in range(1,6):\n",
    "    for j in range(1,i+1):\n",
    "        print(i,end='')\n",
    "    print()"
   ]
  },
  {
   "cell_type": "code",
   "execution_count": 3,
   "metadata": {},
   "outputs": [
    {
     "name": "stdout",
     "output_type": "stream",
     "text": [
      "5\n",
      "44\n",
      "333\n",
      "2222\n",
      "11111\n"
     ]
    }
   ],
   "source": [
    "for i in range(5,0,-1):\n",
    "    for j in range(6-i):\n",
    "        print(i,end='')\n",
    "    print()"
   ]
  },
  {
   "cell_type": "code",
   "execution_count": 21,
   "metadata": {},
   "outputs": [
    {
     "name": "stdout",
     "output_type": "stream",
     "text": [
      "    1\n",
      "   22\n",
      "  333\n",
      " 4444\n",
      "55555\n"
     ]
    }
   ],
   "source": [
    "for i in range(1,6):\n",
    "    for j in range(5-i):\n",
    "        print(' ',end='')\n",
    "    for j in range(i):\n",
    "        print(i,end='')\n",
    "    print()"
   ]
  },
  {
   "cell_type": "code",
   "execution_count": 19,
   "metadata": {},
   "outputs": [
    {
     "name": "stdout",
     "output_type": "stream",
     "text": [
      "A\n",
      "AB\n",
      "ABC\n",
      "ABCD\n",
      "ABCDE\n"
     ]
    }
   ],
   "source": [
    "#12.print pattern\n",
    "n = 65\n",
    "for i in range(5):\n",
    "    for j in range(i+1):\n",
    "        print(chr(n+j),end=\"\")\n",
    "    print()"
   ]
  },
  {
   "cell_type": "code",
   "execution_count": 22,
   "metadata": {},
   "outputs": [
    {
     "name": "stdout",
     "output_type": "stream",
     "text": [
      "A\n",
      "BC\n",
      "DEF\n",
      "GHIJ\n",
      "KLMNO\n"
     ]
    }
   ],
   "source": [
    "n = 65\n",
    "for i in range(5):\n",
    "    for j in range(i+1):\n",
    "        print(chr(n),end=\"\")\n",
    "        n += 1\n",
    "    print()"
   ]
  },
  {
   "cell_type": "code",
   "execution_count": 27,
   "metadata": {},
   "outputs": [
    {
     "name": "stdout",
     "output_type": "stream",
     "text": [
      "A\n",
      "BB\n",
      "CCC\n",
      "DDDD\n",
      "EEEEE\n"
     ]
    }
   ],
   "source": [
    "n = 64\n",
    "for i in range(5):\n",
    "    n+=1\n",
    "    for j in range(i+1):\n",
    "        print(chr(n),end=\"\")\n",
    "        \n",
    "    print()"
   ]
  },
  {
   "cell_type": "code",
   "execution_count": 28,
   "metadata": {},
   "outputs": [
    {
     "name": "stdout",
     "output_type": "stream",
     "text": [
      "    A\n",
      "   ABA\n",
      "  ABCBA\n",
      " ABCDCBA\n",
      "ABCDEDCBA\n"
     ]
    }
   ],
   "source": [
    "n = 65\n",
    "for i in range(1,6):\n",
    "    for j in range(5,i,-1):\n",
    "        print(' ',end=\"\")\n",
    "    for k in range(i):\n",
    "        print(chr(n+k),end=\"\")\n",
    "    for l in range(i-2,-1,-1):\n",
    "        print(chr(n+l),end=\"\")\n",
    "    print()"
   ]
  },
  {
   "cell_type": "code",
   "execution_count": null,
   "metadata": {},
   "outputs": [],
   "source": []
  }
 ],
 "metadata": {
  "kernelspec": {
   "display_name": "Python 3",
   "language": "python",
   "name": "python3"
  },
  "language_info": {
   "codemirror_mode": {
    "name": "ipython",
    "version": 3
   },
   "file_extension": ".py",
   "mimetype": "text/x-python",
   "name": "python",
   "nbconvert_exporter": "python",
   "pygments_lexer": "ipython3",
   "version": "3.7.4"
  }
 },
 "nbformat": 4,
 "nbformat_minor": 2
}
