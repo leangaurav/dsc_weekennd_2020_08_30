{
 "cells": [
  {
   "cell_type": "markdown",
   "metadata": {},
   "source": [
    "ASSIGEMENT PYTHON 3 FUNCTIONS INTRO "
   ]
  },
  {
   "cell_type": "code",
   "execution_count": 3,
   "metadata": {},
   "outputs": [
    {
     "name": "stdout",
     "output_type": "stream",
     "text": [
      "enter the string: raj\n",
      "enter the string: gaurav\n",
      "swap string Output:  ('gaurav', 'raj')\n"
     ]
    }
   ],
   "source": [
    "#1. WAP to input 2 strings and swap the strings\n",
    "def swap_string(s1,s2):\n",
    "    s1,s2=s2,s1\n",
    "    return s1,s2\n",
    "     \n",
    "s1=input('enter the string: ')\n",
    "s2=input('enter the string: ')\n",
    "\n",
    "res=swap_string(s1,s2)\n",
    "print('swap string Output: ',res)\n"
   ]
  },
  {
   "cell_type": "code",
   "execution_count": 16,
   "metadata": {},
   "outputs": [
    {
     "name": "stdout",
     "output_type": "stream",
     "text": [
      "[20, 16, 17, 2]\n",
      "sum of the list is :  55\n",
      "average of the list is  13.75\n"
     ]
    }
   ],
   "source": [
    "#2. WAP to generate 4 random numbers in the range 0-26 and print their average\n",
    "#using for loop and list\n",
    "import random\n",
    "list1=[]\n",
    "for i in range(4):\n",
    "    list1.append(random.randint(0,26))\n",
    "    \n",
    "print(list1)\n",
    "s=0\n",
    "for num in list1:\n",
    "    s+=num\n",
    "    \n",
    "print('sum of the list is : ',s)\n",
    "\n",
    "avg=s/len(list1)\n",
    "print('average of the list is ',avg)\n",
    "    "
   ]
  },
  {
   "cell_type": "code",
   "execution_count": 34,
   "metadata": {},
   "outputs": [
    {
     "name": "stdout",
     "output_type": "stream",
     "text": [
      "[8, 13, 9, 11]\n",
      "41\n",
      "average of the list is  10.25\n"
     ]
    }
   ],
   "source": [
    "#using while loop\n",
    "import random\n",
    "list1=[]\n",
    "s=0\n",
    "i=1\n",
    "while len(list1)<4:\n",
    "    list1.append(random.randint(0,26))\n",
    "print(list1)\n",
    "\n",
    "while i<5:\n",
    "    s=s+list1[i-1]\n",
    "    i+=1\n",
    "print(s)\n",
    "\n",
    "avg=s/len(list1)\n",
    "print('average of the list is ',avg)"
   ]
  },
  {
   "cell_type": "code",
   "execution_count": null,
   "metadata": {},
   "outputs": [],
   "source": [
    "#using function"
   ]
  },
  {
   "cell_type": "code",
   "execution_count": 12,
   "metadata": {},
   "outputs": [
    {
     "name": "stdout",
     "output_type": "stream",
     "text": [
      "abcdefghijklmnopqrstuvwxyz\n",
      "ABCDEFGHIJKLMNOPQRSTUVWXYZ\n",
      "c\n",
      "R\n"
     ]
    }
   ],
   "source": [
    "#3. WAP to generate and print a random uppercase or lowercase alphabet.\n",
    "import string\n",
    "import random\n",
    "alphabet_lower=string.ascii_lowercase\n",
    "alphabet_upper=string.ascii_uppercase\n",
    "print(alphabet_lower)\n",
    "print(alphabet_upper)\n",
    "a1=random.choice(alphabet_lower)\n",
    "a2=random.choice(alphabet_upper)\n",
    "print(a1)\n",
    "print(a2)\n"
   ]
  },
  {
   "cell_type": "code",
   "execution_count": 15,
   "metadata": {},
   "outputs": [
    {
     "name": "stdout",
     "output_type": "stream",
     "text": [
      "enter the principal amount: 1000\n",
      "enter the rate: 5\n",
      "enter the time: 1\n",
      "simple interest of thegiven details is  50.0\n"
     ]
    }
   ],
   "source": [
    "#4. WAF get_si() that takes Principle, Rate and Time as arguments and returns the Simple Interest.\n",
    "def get_si(p,r,t):\n",
    "    res=p*r*t/100\n",
    "    return res\n",
    "p=int(input('enter the principal amount: '))\n",
    "r=int(input('enter the rate: '))\n",
    "t=int(input('enter the time: '))\n",
    "\n",
    "si=get_si(p,r,t)\n",
    "print('simple interest of thegiven details is ',si)"
   ]
  },
  {
   "cell_type": "code",
   "execution_count": 16,
   "metadata": {},
   "outputs": [
    {
     "name": "stdout",
     "output_type": "stream",
     "text": [
      "enter the principal amount: 1000\n",
      "enter the rate: 5\n",
      "enter the time: 1\n",
      "the amount of thegiven details is  1050.0\n"
     ]
    }
   ],
   "source": [
    "#5. WAF get_amount() that takes Principle, Rate and Time as arguments and returns the\n",
    "#Total amount using the get_si() function from above to calculate the SI. Also provide Rate = 10 and Time = 1 \n",
    "#as default arguments.\n",
    "def get_amount(p,r=10,t=1):\n",
    "    amt=get_si(p,r,t)+p\n",
    "    return amt\n",
    "p=int(input('enter the principal amount: '))\n",
    "r=int(input('enter the rate: '))\n",
    "t=int(input('enter the time: '))\n",
    "\n",
    "amount=get_amount(p,r,t)\n",
    "print('the amount of thegiven details is ',amount)\n",
    "\n"
   ]
  },
  {
   "cell_type": "code",
   "execution_count": 2,
   "metadata": {},
   "outputs": [
    {
     "name": "stdout",
     "output_type": "stream",
     "text": [
      "enter principal amount 1000\n",
      "enter rate 5\n",
      "enter time 1\n",
      "enter copmounded times: 2\n"
     ]
    },
    {
     "data": {
      "text/plain": [
       "50.625"
      ]
     },
     "execution_count": 2,
     "metadata": {},
     "output_type": "execute_result"
    }
   ],
   "source": [
    "#6. WAP get_ci() that takes Principle, Rate and Time as arguments and returns the Compound Interest.\n",
    "def get_ci(p,r,t,n):\n",
    "    ci = (p*(1+(r/n))**(n*t))-p\n",
    "    return (ci)\n",
    "p = int(input(\"enter principal amount \"))\n",
    "r = (int(input(\"enter rate \")))/100\n",
    "t = int(input(\"enter time \"))\n",
    "n = int(input('enter copmounded times: '))\n",
    "get_ci(p,r,t,n)"
   ]
  },
  {
   "cell_type": "code",
   "execution_count": 5,
   "metadata": {},
   "outputs": [
    {
     "data": {
      "text/plain": [
       "(5, 0)"
      ]
     },
     "execution_count": 5,
     "metadata": {},
     "output_type": "execute_result"
    }
   ],
   "source": [
    "#7. WAP get_q_r() taking 2 numbers as parameters and returns the quotient and remainder in the form of a tuple.\n",
    "\n",
    "def get_q_r(x,y):\n",
    "    q=x//y\n",
    "    r=x%y\n",
    "    return (q,r)\n",
    "\n",
    "get_q_r(25,5)"
   ]
  },
  {
   "cell_type": "code",
   "execution_count": 1,
   "metadata": {},
   "outputs": [
    {
     "name": "stdout",
     "output_type": "stream",
     "text": [
      "enter the length of the trianale: 4\n",
      "enter the base of the trianagle: 3\n",
      "the hypotenuse of the trainagle is:  5.0\n"
     ]
    }
   ],
   "source": [
    "#8. WAP to find the length of hypotenuse of a right angled triangle, input the height and base from user.\n",
    "def fnd_hypotenuse(l,b):\n",
    "    res= ((l**2)+(b**2))**.5\n",
    "    return res\n",
    "l=int(input('enter the length of the trianale: '))\n",
    "b=int(input('enter the base of the trianagle: '))\n",
    "hypo=fnd_hypotenuse(l,b)\n",
    "print('the hypotenuse of the trainagle is: ',hypo)"
   ]
  },
  {
   "cell_type": "code",
   "execution_count": 22,
   "metadata": {},
   "outputs": [
    {
     "name": "stdout",
     "output_type": "stream",
     "text": [
      "enter the seconds: 10000\n"
     ]
    },
    {
     "data": {
      "text/plain": [
       "(0, 2, 46, 40)"
      ]
     },
     "execution_count": 22,
     "metadata": {},
     "output_type": "execute_result"
    }
   ],
   "source": [
    "#9. WAP to input number of seconds and print in days, hours, minutes and seconds ex: input = 10000\n",
    "#Output = 0 day 2 hour 46 minute 40 second\n",
    "\n",
    "sec=int(input('enter the seconds: '))\n",
    "def gen_day(s):\n",
    "    day=s//86000\n",
    "    s=s%86000\n",
    "    hour=s//3600\n",
    "    s=s%3600\n",
    "    mint=s//60\n",
    "    s=s%60\n",
    "    return day,hour,mint,s\n",
    "gen_day(sec)\n",
    "    \n",
    "    "
   ]
  },
  {
   "cell_type": "code",
   "execution_count": 23,
   "metadata": {},
   "outputs": [],
   "source": [
    "#10. Check your version of python interpreter without opening the interpreter (Whichcommand needs to be used on the command line).\n",
    "\n",
    "#python ––version in windows powershell\n",
    "\n"
   ]
  },
  {
   "cell_type": "code",
   "execution_count": 24,
   "metadata": {},
   "outputs": [
    {
     "name": "stdout",
     "output_type": "stream",
     "text": [
      "2 -2\n"
     ]
    }
   ],
   "source": [
    "#11.find output: 2,-2\n",
    "x=2\n",
    "x*=3\n",
    "x=x%4\n",
    "y=-x\n",
    "print(x,y)\n"
   ]
  },
  {
   "cell_type": "code",
   "execution_count": 25,
   "metadata": {},
   "outputs": [
    {
     "name": "stdout",
     "output_type": "stream",
     "text": [
      "None\n"
     ]
    }
   ],
   "source": [
    "#12 find output: NONE (by default function returns none val)\n",
    "def funct():\n",
    "    pass\n",
    "print(funct())\n",
    "    "
   ]
  },
  {
   "cell_type": "code",
   "execution_count": null,
   "metadata": {},
   "outputs": [],
   "source": []
  }
 ],
 "metadata": {
  "kernelspec": {
   "display_name": "Python 3",
   "language": "python",
   "name": "python3"
  },
  "language_info": {
   "codemirror_mode": {
    "name": "ipython",
    "version": 3
   },
   "file_extension": ".py",
   "mimetype": "text/x-python",
   "name": "python",
   "nbconvert_exporter": "python",
   "pygments_lexer": "ipython3",
   "version": "3.7.4"
  }
 },
 "nbformat": 4,
 "nbformat_minor": 2
}
