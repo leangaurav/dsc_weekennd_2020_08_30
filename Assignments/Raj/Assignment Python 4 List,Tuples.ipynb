{
 "cells": [
  {
   "cell_type": "markdown",
   "metadata": {},
   "source": [
    "# Assignment python 4 list,tuple "
   ]
  },
  {
   "cell_type": "code",
   "execution_count": 1,
   "metadata": {},
   "outputs": [
    {
     "name": "stdout",
     "output_type": "stream",
     "text": [
      "Convereted List is :  [1, 2, 3, 4, 5]\n"
     ]
    }
   ],
   "source": [
    "#1. Convert a Tuple t = (1,2,3,4,5) to a list\n",
    "t=(1,2,3,4,5)\n",
    "l=list(t)\n",
    "print('Convereted List is : ',l)"
   ]
  },
  {
   "cell_type": "code",
   "execution_count": 4,
   "metadata": {},
   "outputs": [
    {
     "name": "stdout",
     "output_type": "stream",
     "text": [
      "[1, 2, 3, 4, 5, 'a', 'b', 'c', 'd']\n"
     ]
    }
   ],
   "source": [
    "#2. WAP to join a list and a tuple:\n",
    "lst1=[1,2,3,4,5]\n",
    "t=('a','b','c','d')\n",
    "lst2=list(t)\n",
    "lst1.extend(t) #u can use tuple aalso to extend and the converted list also\n",
    "print(lst1)"
   ]
  },
  {
   "cell_type": "code",
   "execution_count": 1,
   "metadata": {},
   "outputs": [],
   "source": [
    "#3. What is difference between list and tuple.\n",
    "# list are mutable and values can be changed...but tuples are inmutable..provide data integrity to variablea  "
   ]
  },
  {
   "cell_type": "code",
   "execution_count": 26,
   "metadata": {},
   "outputs": [
    {
     "name": "stdout",
     "output_type": "stream",
     "text": [
      "['a', 'd', 'c', 'A', 'C']\n",
      "['C', 'A', 'c', 'd', 'a']\n"
     ]
    }
   ],
   "source": [
    "#4. Print the list in reverse order\n",
    "l=['a','d','c','A','C']\n",
    "#l.reverse()#methods attached to data type doest not return value..simply changes in itself \n",
    "l_rev=l[::-1] #using slicing\n",
    "print(l)\n",
    "print(l_rev)\n"
   ]
  },
  {
   "cell_type": "code",
   "execution_count": 9,
   "metadata": {},
   "outputs": [
    {
     "name": "stdout",
     "output_type": "stream",
     "text": [
      "[10, 20, 30, 40]\n"
     ]
    }
   ],
   "source": [
    "#5. Print Elements at Odd indexes from a list (Do not use loop)\n",
    "l = [10,11,20, 21,30, 31, 40, 41]\n",
    "odd_l=l[::2]\n",
    "print(odd_l)\n"
   ]
  },
  {
   "cell_type": "code",
   "execution_count": 10,
   "metadata": {},
   "outputs": [],
   "source": [
    "#6. How many ways you can copy a list.\n",
    "#list.copy() and by using slicing list[:]"
   ]
  },
  {
   "cell_type": "code",
   "execution_count": 12,
   "metadata": {},
   "outputs": [
    {
     "name": "stdout",
     "output_type": "stream",
     "text": [
      "a\n",
      "5\n"
     ]
    }
   ],
   "source": [
    "#7.predict output\n",
    "n_list=['happy',[2,0,1,5]]\n",
    "print(n_list[0][1])  # => 'a'\n",
    "print(n_list[1][3])  # =>5\n"
   ]
  },
  {
   "cell_type": "code",
   "execution_count": 14,
   "metadata": {},
   "outputs": [
    {
     "name": "stdout",
     "output_type": "stream",
     "text": [
      "[1, 4, 6, 8]\n",
      "[1, 3, 5, 7]\n"
     ]
    }
   ],
   "source": [
    "#8predict output\n",
    "odd=[2,4,6,8]\n",
    "odd[0]=1\n",
    "print(odd) # => [1,2,6,8]\n",
    "odd[1:4]=[3,5,7] # can use odd[1:]\n",
    "print(odd) #=[1,3,5,7]\n",
    "\n"
   ]
  },
  {
   "cell_type": "code",
   "execution_count": 16,
   "metadata": {},
   "outputs": [
    {
     "name": "stdout",
     "output_type": "stream",
     "text": [
      "[1, 3, 5, [7, 9]]\n",
      "[1, 3, 5, [7, 9], 11, 13]\n"
     ]
    }
   ],
   "source": [
    "#9prdict output\n",
    "odd=[1,3,5]\n",
    "odd.append([7,9])\n",
    "print(odd) # => [1,2,5,[7,9]]\n",
    "odd.extend([11,13])\n",
    "print(odd) # => [1,3,5,[7,9],11,13]\n"
   ]
  },
  {
   "cell_type": "code",
   "execution_count": 17,
   "metadata": {},
   "outputs": [
    {
     "name": "stdout",
     "output_type": "stream",
     "text": [
      "<class 'tuple'>\n",
      "<class 'int'>\n",
      "<class 'int'>\n",
      "<class 'tuple'>\n"
     ]
    }
   ],
   "source": [
    "#10. Predict output\n",
    "x=1,2,3\n",
    "print(type(x)) # => tuple\n",
    "x=(1)\n",
    "print(type(x)) # => int\n",
    "x=1\n",
    "print(type(x))  # => int\n",
    "x=1,\n",
    "print(type(x)) # => tuple\n"
   ]
  },
  {
   "cell_type": "code",
   "execution_count": 21,
   "metadata": {},
   "outputs": [
    {
     "name": "stdout",
     "output_type": "stream",
     "text": [
      "[1, 2, 3]\n",
      "[4, 5, 6]\n",
      "[7, 8, 9]\n"
     ]
    }
   ],
   "source": [
    "#11. Try to represent a matrix with following data in python:\n",
    "l1=[1,2,3]\n",
    "l2=[4,5,6]\n",
    "l3=[7,8,9]\n",
    "print(l1,l2,l3,sep='\\n')"
   ]
  },
  {
   "cell_type": "code",
   "execution_count": 27,
   "metadata": {},
   "outputs": [
    {
     "name": "stdout",
     "output_type": "stream",
     "text": [
      "('s', 't', 'r', 'i', 'n', 'g')\n",
      "('g', 'n', 'i', 'r', 't', 's')\n",
      "('n', 's')\n"
     ]
    }
   ],
   "source": [
    "# 12. prdict output:\n",
    "t=tuple('string')\n",
    "print(t) # => ('s','t','r','i','n','g')\n",
    "print(t[::-1]) # => revesrese of the tuple\n",
    "print(t[::2][::-2]) # => ('n','s')"
   ]
  },
  {
   "cell_type": "code",
   "execution_count": 31,
   "metadata": {},
   "outputs": [
    {
     "name": "stdout",
     "output_type": "stream",
     "text": [
      "True\n",
      "False\n",
      "1\n",
      "3\n"
     ]
    }
   ],
   "source": [
    "# 13 predict output\n",
    "t=tuple([10,20,30,40,0,60])\n",
    "print(60 in t) # => true\n",
    "print('60' in t) # => false\n",
    "print(t.count(10)) # => 1\n",
    "print(t.index(40)) # => 3"
   ]
  },
  {
   "cell_type": "code",
   "execution_count": 14,
   "metadata": {},
   "outputs": [
    {
     "name": "stdout",
     "output_type": "stream",
     "text": [
      "enter the string: Naman\n",
      "its a palindrome\n"
     ]
    }
   ],
   "source": [
    "#14. Write a program to input a string and print if it is palindrome or not.\n",
    "s1=input('enter the string: ')\n",
    "#lst=list(s)# it will list of string individually\n",
    "#lst=s.split()\n",
    "pln_lst=[]\n",
    "pln_lst.append(s1[::-1])\n",
    "s2=''.join(pln_lst)\n",
    "if s1.lower()==s2.lower():\n",
    "    print('its a palindrome')\n",
    "else:\n",
    "    print('not a palindrone',s1,'\\n',s2)\n"
   ]
  },
  {
   "cell_type": "code",
   "execution_count": 60,
   "metadata": {},
   "outputs": [
    {
     "name": "stdout",
     "output_type": "stream",
     "text": [
      "4\n"
     ]
    }
   ],
   "source": [
    "#15. Use the range method and create a tuple containing the following values:\n",
    "\n",
    "t=()\n",
    "for i in range(5):\n",
    "    t=(i)\n",
    "    \n",
    "print(t)"
   ]
  },
  {
   "cell_type": "code",
   "execution_count": 50,
   "metadata": {},
   "outputs": [
    {
     "name": "stdout",
     "output_type": "stream",
     "text": [
      "enter a string: python code\n",
      "['p', 'y', 't', 'h', 'o', 'n', ' ', 'c', 'o', 'd', 'e']\n"
     ]
    }
   ],
   "source": [
    "#16. WAP to convert string to list of characters.\n",
    "s=input('enter a string: ')\n",
    "lst=list(s)\n",
    "print(lst)"
   ]
  },
  {
   "cell_type": "code",
   "execution_count": 52,
   "metadata": {},
   "outputs": [
    {
     "name": "stdout",
     "output_type": "stream",
     "text": [
      "<class 'list'>\n",
      "<class 'NoneType'>\n",
      "<class 'str'>\n",
      "<class 'bool'>\n"
     ]
    }
   ],
   "source": [
    "#17.predict return type:\n",
    "print(type('12'.split()))   # => list\n",
    "print(type([1,3,2].sort())) # => nonetype\n",
    "print(type('abc'.upper()))   # => str\n",
    "print(type(1 in [1,2]))   # => boolean"
   ]
  },
  {
   "cell_type": "code",
   "execution_count": null,
   "metadata": {},
   "outputs": [],
   "source": []
  }
 ],
 "metadata": {
  "kernelspec": {
   "display_name": "Python 3",
   "language": "python",
   "name": "python3"
  },
  "language_info": {
   "codemirror_mode": {
    "name": "ipython",
    "version": 3
   },
   "file_extension": ".py",
   "mimetype": "text/x-python",
   "name": "python",
   "nbconvert_exporter": "python",
   "pygments_lexer": "ipython3",
   "version": "3.7.4"
  }
 },
 "nbformat": 4,
 "nbformat_minor": 2
}
