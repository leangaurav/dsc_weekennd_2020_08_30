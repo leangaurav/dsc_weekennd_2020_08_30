{
 "cells": [
  {
   "cell_type": "markdown",
   "metadata": {},
   "source": [
    "\n",
    "Assignment Python 6.1 Loop.List,If-else "
   ]
  },
  {
   "cell_type": "code",
   "execution_count": 2,
   "metadata": {},
   "outputs": [
    {
     "name": "stdout",
     "output_type": "stream",
     "text": [
      "enter a string: Raj Gaurav\n",
      "R\n",
      "a\n",
      "j\n",
      " \n",
      "G\n",
      "a\n",
      "u\n",
      "r\n",
      "a\n",
      "v\n"
     ]
    }
   ],
   "source": [
    "#1. WAP to input a string and print individual characters in the string using for loop.\n",
    "str1=input('enter a string: ')\n",
    "for i in str1:\n",
    "    print(i)"
   ]
  },
  {
   "cell_type": "code",
   "execution_count": null,
   "metadata": {},
   "outputs": [],
   "source": [
    "#2. WAP to input a string and print the ASCII value of each character in the string.\n",
    "str1=input('enter a string: ')\n",
    "for i in str1:\n",
    "    print('Ascci valur of the chr {} is {}'.format(i,ord(i)))"
   ]
  },
  {
   "cell_type": "code",
   "execution_count": 14,
   "metadata": {},
   "outputs": [
    {
     "name": "stdout",
     "output_type": "stream",
     "text": [
      "Enter the range of the list: 5\n",
      "[47, 65, 78, 70, 57]\n",
      "174\n"
     ]
    }
   ],
   "source": [
    "#3. Write a function that takes a list of numbers from user as argument and returns the sum of only odd numbers\n",
    "import random\n",
    "n=int(input('Enter the range of the list: '))\n",
    "lst1=[]\n",
    "for i in range(n):\n",
    "    lst1.append(random.randint(1,100))\n",
    "print(lst1)\n",
    "\n",
    "def sum_odd(lst1):\n",
    "    add=0\n",
    "    lst2=[]\n",
    "    for num in lst1:\n",
    "        while num%2!=0:\n",
    "            lst2.append(num)\n",
    "            num=num+1\n",
    "    for num2 in lst2:\n",
    "        add=add+num\n",
    "    return add\n",
    "print(sum_odd(lst1))\n",
    "            \n",
    "        \n",
    "        \n",
    "    \n",
    "\n"
   ]
  },
  {
   "cell_type": "code",
   "execution_count": 16,
   "metadata": {},
   "outputs": [
    {
     "name": "stdout",
     "output_type": "stream",
     "text": [
      "Enter the range of the list: 5\n",
      "[51, 36, 81, 66, 57]\n",
      "(51, 36, 81, 66, 57)\n",
      "Enter the no to get the index postion: 81\n",
      "index postion of the no 81 is 2\n"
     ]
    }
   ],
   "source": [
    "#4. WAP to input a list of numbers and store in a tuple. Now input another number and print the\n",
    "#index of this number in the tuple. [Use index function]\n",
    "\n",
    "import random\n",
    "n=int(input('Enter the range of the list: '))\n",
    "lst1=[]\n",
    "for i in range(n):\n",
    "    lst1.append(random.randint(1,100))\n",
    "print(lst1)\n",
    "tup1=tuple(lst1)\n",
    "print(tup1)\n",
    "\n",
    "n2=int(input('Enter the no to get the index postion: '))\n",
    "print('index postion of the no {} is {}'.format(n2,tup1.index(n2)))"
   ]
  },
  {
   "cell_type": "code",
   "execution_count": 20,
   "metadata": {},
   "outputs": [
    {
     "name": "stdout",
     "output_type": "stream",
     "text": [
      "Enter the range of the list: 5\n",
      "[77, 60, 4, 53, 93]\n",
      "the sum of the numbers in th list is:  287\n",
      "the avg of the numbers in th list is:  57.4\n",
      "list at even indexes:  [77, 4, 93]\n"
     ]
    }
   ],
   "source": [
    "#5. Create a list of 10 random numbers and then print the list, sum of all numbers and average. Use\n",
    "#a for loop. Also print elements at only even indexes in the list.\n",
    "import random\n",
    "n=int(input('Enter the range of the list: '))\n",
    "lst1=[]\n",
    "for i in range(n):\n",
    "    lst1.append(random.randint(1,100))\n",
    "print(lst1)\n",
    "add=0\n",
    "for num in lst1:\n",
    "    add=add+num\n",
    "print('the sum of the numbers in th list is: ',add)\n",
    "\n",
    "avg=add/n\n",
    "print('the avg of the numbers in th list is: ',avg)\n",
    "    \n",
    "print('list at even indexes: ',lst1[::2])"
   ]
  },
  {
   "cell_type": "code",
   "execution_count": 1,
   "metadata": {},
   "outputs": [
    {
     "name": "stdout",
     "output_type": "stream",
     "text": [
      "enter the no: 2\n",
      "enter the no: 3\n",
      "enter the no: 5\n",
      "enter the no: 1\n",
      "enter the no: 3\n",
      "enter the no: 5\n",
      "enter the no: 1\n",
      "enter the no: 10\n",
      "enter the no: 20\n",
      "enter the no: 5\n",
      "[2, 3, 5, 1, 3, 5, 1, 10, 20, 5]\n",
      "the sum of the numbers in th list is:  55\n"
     ]
    }
   ],
   "source": [
    "#6. WAP to input 10 numbers repeatedly (using range based for loop) and store them in a list. Print\n",
    "#the list and sum of numbers in the list.\n",
    "lst1=[]\n",
    "for num in range(10):\n",
    "    num=int(input('enter the no: '))\n",
    "    lst1.append(num)\n",
    "print(lst1)\n",
    "add=0\n",
    "for num in lst1:\n",
    "    add=add+num\n",
    "print('the sum of the numbers in th list is: ',add)\n",
    "    "
   ]
  },
  {
   "cell_type": "code",
   "execution_count": 4,
   "metadata": {},
   "outputs": [
    {
     "name": "stdout",
     "output_type": "stream",
     "text": [
      "enter the no: 7\n",
      "7 x 1 = 7\n",
      "7 x 2 = 14\n",
      "7 x 3 = 21\n",
      "7 x 4 = 28\n",
      "7 x 5 = 35\n",
      "7 x 6 = 42\n",
      "7 x 7 = 49\n",
      "7 x 8 = 56\n",
      "7 x 9 = 63\n",
      "7 x 10 = 70\n"
     ]
    }
   ],
   "source": [
    "#7. WAP to input a number and print its table. Ex: if user enters the number as 7, output should be\n",
    "n=int(input('enter the no: '))\n",
    "for i in range(1,11):\n",
    "    print('{} x {} = {}'.format(n,i,n*i))"
   ]
  },
  {
   "cell_type": "code",
   "execution_count": 17,
   "metadata": {},
   "outputs": [
    {
     "name": "stdout",
     "output_type": "stream",
     "text": [
      "enter a string: a s a p\n",
      "3\n"
     ]
    }
   ],
   "source": [
    "#8. WAP to print total number of spaces in a string (Use for loop to iterate over the string. Don’t use count function).\n",
    "s=input('enter a string: ')\n",
    "count=0\n",
    "for i in s:\n",
    "    if i==' ':\n",
    "        count=count+1\n",
    "        \n",
    "print(count)"
   ]
  },
  {
   "cell_type": "code",
   "execution_count": 20,
   "metadata": {},
   "outputs": [
    {
     "name": "stdout",
     "output_type": "stream",
     "text": [
      "enter a string: raj gaurav\n",
      "4\n"
     ]
    }
   ],
   "source": [
    "#9. WAP to input a string and count number of vowels in the string. [Note: it should work for both\n",
    "#capital and small alphabets]\n",
    "str1=input('enter a string: ')\n",
    "count=0\n",
    "for char in str1:\n",
    "    if char.lower() in 'aeiou':\n",
    "                count=count+1\n",
    "        \n",
    "print(count)\n",
    "        "
   ]
  },
  {
   "cell_type": "code",
   "execution_count": 26,
   "metadata": {},
   "outputs": [
    {
     "name": "stdout",
     "output_type": "stream",
     "text": [
      "Enter a string: RAJ GAURAV\n",
      "['r', '_', 'j', ' ', 'g', '_', '_', 'r', '_', 'v']\n",
      "r_j g__r_v\n"
     ]
    }
   ],
   "source": [
    "#10. WAP to input a string and replace all vowels with ‘_’.\n",
    "str1=input('Enter a string: ')\n",
    "lst1=list(str1.lower())\n",
    "for i in range(len(lst1)):\n",
    "    if lst1[i] in 'aeiou':\n",
    "        lst1[i]='_'\n",
    "print(lst1)\n",
    "s2=''.join(lst1)\n",
    "print(s2)\n",
    " "
   ]
  },
  {
   "cell_type": "code",
   "execution_count": 1,
   "metadata": {},
   "outputs": [
    {
     "name": "stdout",
     "output_type": "stream",
     "text": [
      "Num : 0\n",
      "Loop Ends\n"
     ]
    }
   ],
   "source": [
    "#11.find output!!\n",
    "'''\n",
    "num : 0\n",
    "loop ends\n",
    "'''\n",
    "\n",
    "for num in range(10):\n",
    "    print(\"Num :\", num)\n",
    "    if num % 4 == 0:\n",
    "        break\n",
    "print(\"Loop Ends\")"
   ]
  },
  {
   "cell_type": "code",
   "execution_count": 2,
   "metadata": {},
   "outputs": [
    {
     "name": "stdout",
     "output_type": "stream",
     "text": [
      "Num : 0\n"
     ]
    },
    {
     "ename": "SystemExit",
     "evalue": "",
     "output_type": "error",
     "traceback": [
      "An exception has occurred, use %tb to see the full traceback.\n",
      "\u001b[1;31mSystemExit\u001b[0m\n"
     ]
    },
    {
     "name": "stderr",
     "output_type": "stream",
     "text": [
      "F:\\Anaconda3\\lib\\site-packages\\IPython\\core\\interactiveshell.py:3334: UserWarning: To exit: use 'exit', 'quit', or Ctrl-D.\n",
      "  warn(\"To exit: use 'exit', 'quit', or Ctrl-D.\", stacklevel=1)\n"
     ]
    }
   ],
   "source": [
    "import sys\n",
    "for num in range(10):\n",
    "    print(\"Num :\", num)\n",
    "    if num % 4 == 0:\n",
    "        sys.exit()\n",
    "print(\"Loop Ends\")"
   ]
  },
  {
   "cell_type": "code",
   "execution_count": 3,
   "metadata": {},
   "outputs": [
    {
     "name": "stdout",
     "output_type": "stream",
     "text": [
      "*****\n",
      "*****\n",
      "*****\n",
      "*****\n",
      "*****\n"
     ]
    }
   ],
   "source": [
    "#12 predict output!!\n",
    "for i1 in range(1, 6):\n",
    "    for i2 in range(5):\n",
    "        print('*', end = '')\n",
    "    print()\n",
    "\n"
   ]
  },
  {
   "cell_type": "code",
   "execution_count": 4,
   "metadata": {},
   "outputs": [
    {
     "name": "stdout",
     "output_type": "stream",
     "text": [
      "1\n",
      "22\n",
      "333\n",
      "4444\n",
      "55555\n"
     ]
    }
   ],
   "source": [
    "for i1 in range(1, 6):\n",
    "    print(str(i1)*i1)\n",
    "\n",
    "\n"
   ]
  },
  {
   "cell_type": "code",
   "execution_count": 5,
   "metadata": {},
   "outputs": [
    {
     "name": "stdout",
     "output_type": "stream",
     "text": [
      "1\n",
      "22\n",
      "333\n",
      "4444\n",
      "55555\n"
     ]
    }
   ],
   "source": [
    "for i1 in range(1, 6):\n",
    "    for i2 in range(i1):\n",
    "        print(i1, end = '')\n",
    "    print()\n",
    "\n"
   ]
  },
  {
   "cell_type": "code",
   "execution_count": 6,
   "metadata": {},
   "outputs": [
    {
     "name": "stdout",
     "output_type": "stream",
     "text": [
      "**\n",
      "***\n",
      "****\n",
      "*****\n",
      "******\n"
     ]
    }
   ],
   "source": [
    "for i1 in range(1, 6):\n",
    "    for i2 in range(i1+1):\n",
    "        print('*', end = '')\n",
    "    print()"
   ]
  },
  {
   "cell_type": "code",
   "execution_count": null,
   "metadata": {},
   "outputs": [],
   "source": []
  }
 ],
 "metadata": {
  "kernelspec": {
   "display_name": "Python 3",
   "language": "python",
   "name": "python3"
  },
  "language_info": {
   "codemirror_mode": {
    "name": "ipython",
    "version": 3
   },
   "file_extension": ".py",
   "mimetype": "text/x-python",
   "name": "python",
   "nbconvert_exporter": "python",
   "pygments_lexer": "ipython3",
   "version": "3.7.4"
  }
 },
 "nbformat": 4,
 "nbformat_minor": 2
}
