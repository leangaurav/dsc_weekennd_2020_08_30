{
 "cells": [
  {
   "cell_type": "code",
   "execution_count": null,
   "metadata": {},
   "outputs": [],
   "source": [
    "import re\n",
    "regex = re.compile(r\"\\([0-9a-zA-Z ]+)\\)\")\n",
    "\n",
    "def solve()\n",
    "\n",
    "\n",
    "1. go left to right\n",
    "2. if ( push\n",
    "   if operand, push\n",
    "   if operator != OR, push\n",
    "       \n",
    "   if ) pop till last bracket\n",
    "\n",
    "A and B or C  => ['A and B' 'C']\n",
    "(A and B) or C  => ['A and B' 'C'] A B and C or\n",
    "A and (B or C)  => ['A and B' 'A and C'] A B C or and\n",
    "A and (B and C)  => ['A and B AND C']\n",
    "A and (B and C or D)  => ['A and B AND C' , 'A and D']\n",
    "\n"
   ]
  },
  {
   "cell_type": "code",
   "execution_count": 27,
   "metadata": {},
   "outputs": [],
   "source": [
    "#start execution from here\n",
    "expressions = [\n",
    "    (\"A AND B OR C \", \"\"),\n",
    "    (\"A AND ( B OR C ) \", \"\"),\n",
    "    (\"A AND ( B AND C OR D )\",  \"\")\n",
    "]"
   ]
  },
  {
   "cell_type": "code",
   "execution_count": 34,
   "metadata": {},
   "outputs": [
    {
     "name": "stdout",
     "output_type": "stream",
     "text": [
      "\n",
      "Expression : A AND B OR C   \t Result: [['A AND B', 'C']] \n",
      "['(', 'A', 'AND', 'B', 'OR', 'C', ')'] ['A', 'B', 'AND', 'C', 'OR']\n",
      "\n",
      "Expression : A AND ( B OR C )   \t Result: [['A AND B', 'A AND C']] \n",
      "['(', 'A', 'AND', '(', 'B', 'OR', 'C', ')', ')'] ['A', 'B', 'C', 'OR', 'AND']\n",
      "\n",
      "Expression : A AND ( B AND C OR D )  \t Result: [['A AND B AND C', 'A AND D']] \n",
      "['(', 'A', 'AND', '(', 'B', 'AND', 'C', 'OR', 'D', ')', ')'] ['A', 'B', 'C', 'AND', 'D', 'OR', 'AND']\n"
     ]
    }
   ],
   "source": [
    "OPERATORS = [\"(\", \")\", \"AND\", \"OR\"]\n",
    "\n",
    "def tokenize(expr):\n",
    "    tokens  = [val.strip() for val in expr.split()]\n",
    "    tokens.insert(0, \"(\")\n",
    "    tokens.append(\")\")\n",
    "    return tokens\n",
    "\n",
    "def is_eq_or_low_priority(op1, op2):\n",
    "    return OPERATORS.index(op1) <= OPERATORS.index(op2)\n",
    "\n",
    "def to_postfix(tokens):\n",
    "    stack = list()\n",
    "    result =  list()\n",
    "    it = iter(tokens)\n",
    "    while True:\n",
    "        token = next(it, None)\n",
    "        if token is None:\n",
    "            break\n",
    "\n",
    "        if token in OPERATORS:\n",
    "            if token == \"AND\" or token == \"OR\":\n",
    "                if len(stack) > 0 and is_eq_or_low_priority(stack[-1], token):\n",
    "                    result.append(stack.pop())\n",
    "                    stack.append(token)\n",
    "                else:\n",
    "                    stack.append(token)\n",
    "            elif token == \"(\":\n",
    "                result.extend(to_postfix(it))\n",
    "            elif token == \")\":\n",
    "                result.extend(reversed(stack))\n",
    "                break\n",
    "            else:\n",
    "                raise Exception(\"Invalid operator\")\n",
    "        else:\n",
    "            result.append(token)\n",
    "        \n",
    "    return result\n",
    "\n",
    "def simplify(postfix_expr):\n",
    "    stack = []\n",
    "    results = []\n",
    "    \n",
    "    for token in postfix_expr:\n",
    "        if token in OPERATORS:\n",
    "            if token  == \"OR\":\n",
    "                op2 = stack.pop()\n",
    "                op1 = stack.pop()\n",
    "                op1.extend(op2)\n",
    "                stack.append(op1)\n",
    "            elif token  == \"AND\":\n",
    "                op2 = stack.pop()\n",
    "                op1 = stack.pop()\n",
    "                stack.append([ \"{} AND {}\".format(o1, o2) for  o1 in op1 for  o2 in op2 ])\n",
    "        else:\n",
    "            stack.append([token] ) # push as a list\n",
    "    return stack\n",
    "\n",
    "\n",
    "for exp, res in expressions:\n",
    "    tokens = tokenize(exp)\n",
    "    postfix = to_postfix(tokens)\n",
    "    res = simplify(postfix)\n",
    "    \n",
    "    print(f\"\\nExpression : {exp}  \\t Result: {res} \")\n",
    "    print(tokens, postfix)\n"
   ]
  }
 ],
 "metadata": {
  "kernelspec": {
   "display_name": "Python 3",
   "language": "python",
   "name": "python3"
  },
  "language_info": {
   "codemirror_mode": {
    "name": "ipython",
    "version": 3
   },
   "file_extension": ".py",
   "mimetype": "text/x-python",
   "name": "python",
   "nbconvert_exporter": "python",
   "pygments_lexer": "ipython3",
   "version": "3.8.3"
  }
 },
 "nbformat": 4,
 "nbformat_minor": 4
}
