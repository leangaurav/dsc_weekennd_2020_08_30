{
 "cells": [
  {
   "cell_type": "code",
   "execution_count": null,
   "metadata": {},
   "outputs": [],
   "source": [
    "import re\n",
    "regex = re.compile(r\"\\([0-9a-zA-Z ]+)\\)\")\n",
    "\n",
    "def solve()\n",
    "\n",
    "\n",
    "1. go left to right\n",
    "2. if ( push\n",
    "   if operand, push\n",
    "   if operator != OR, push\n",
    "       \n",
    "   if ) pop till last bracket\n",
    "\n",
    "A and B or C  => ['A and B' 'C']\n",
    "(A and B) or C  => ['A and B' 'C'] A B and C or\n",
    "A and (B or C)  => ['A and B' 'A and C'] A B C or and\n",
    "A and (B and C)  => ['A and B AND C']\n",
    "A and (B and C or D)  => ['A and B AND C' , 'A and D']\n",
    "\n"
   ]
  },
  {
   "cell_type": "code",
   "execution_count": 4,
   "metadata": {},
   "outputs": [],
   "source": [
    "#start execution from here\n",
    "expressions = [\n",
    "    (\"A AND B OR C \", \"\"),\n",
    "    (\"A AND ( B OR C ) \", \"\"),\n",
    "    (\"A AND ( B AND C OR D )\",  \"\")\n",
    "]"
   ]
  },
  {
   "cell_type": "code",
   "execution_count": 11,
   "metadata": {},
   "outputs": [],
   "source": [
    "expressions = [(\"A AND ( B OR C )\", \"\"),\n",
    "              (\"A OR ( B AND C )\", \"\"),\n",
    "              (\"(A OR B) OR (C AND (D AND E)) OR (F AND (G OR H OR I))\", \"\")]"
   ]
  },
  {
   "cell_type": "code",
   "execution_count": 12,
   "metadata": {},
   "outputs": [
    {
     "name": "stdout",
     "output_type": "stream",
     "text": [
      "\n",
      "Expression : A AND ( B OR C )  \t Result: [['A AND B', 'A AND C']] \n",
      "['(', 'A', 'AND', '(', 'B', 'OR', 'C', ')', ')'] ['A', 'B', 'C', 'OR', 'AND']\n",
      "\n",
      "Expression : A OR ( B AND C )  \t Result: [['A', 'B AND C']] \n",
      "['(', 'A', 'OR', '(', 'B', 'AND', 'C', ')', ')'] ['A', 'B', 'C', 'AND', 'OR']\n",
      "\n",
      "Expression : (A OR B) OR (C AND (D AND E)) OR (F AND (G OR H OR I))  \t Result: [['(A', 'B)', '(C AND (D AND E))', '(F AND (G', 'H', 'I))']] \n",
      "['(', '(A', 'OR', 'B)', 'OR', '(C', 'AND', '(D', 'AND', 'E))', 'OR', '(F', 'AND', '(G', 'OR', 'H', 'OR', 'I))', ')'] ['(A', 'B)', 'OR', '(C', '(D', 'AND', 'E))', 'AND', '(F', '(G', 'AND', 'H', 'OR', 'I))', 'OR', 'OR', 'OR']\n"
     ]
    }
   ],
   "source": [
    "OPERATORS = [\"(\", \")\", \"AND\", \"OR\"]\n",
    "\n",
    "def tokenize(expr):\n",
    "    tokens  = [val.strip() for val in expr.split()]\n",
    "    tokens.insert(0, \"(\")\n",
    "    tokens.append(\")\")\n",
    "    return tokens\n",
    "\n",
    "def is_eq_or_low_priority(op1, op2):\n",
    "    return OPERATORS.index(op1) <= OPERATORS.index(op2)\n",
    "\n",
    "def to_postfix(tokens):\n",
    "    stack = list()\n",
    "    result =  list()\n",
    "    it = iter(tokens)\n",
    "    while True:\n",
    "        token = next(it, None)\n",
    "        if token is None:\n",
    "            break\n",
    "\n",
    "        if token in OPERATORS:\n",
    "            if token == \"AND\" or token == \"OR\":\n",
    "                if len(stack) > 0 and is_eq_or_low_priority(stack[-1], token):\n",
    "                    result.append(stack.pop())\n",
    "                    stack.append(token)\n",
    "                else:\n",
    "                    stack.append(token)\n",
    "            elif token == \"(\":\n",
    "                result.extend(to_postfix(it))\n",
    "            elif token == \")\":\n",
    "                result.extend(reversed(stack))\n",
    "                break\n",
    "            else:\n",
    "                raise Exception(\"Invalid operator\")\n",
    "        else:\n",
    "            result.append(token)\n",
    "        \n",
    "    return result\n",
    "\n",
    "def simplify(postfix_expr):\n",
    "    stack = []\n",
    "    results = []\n",
    "    \n",
    "    for token in postfix_expr:\n",
    "        if token in OPERATORS:\n",
    "            if token  == \"OR\":\n",
    "                op2 = stack.pop()\n",
    "                op1 = stack.pop()\n",
    "                op1.extend(op2)\n",
    "                stack.append(op1)\n",
    "            elif token  == \"AND\":\n",
    "                op2 = stack.pop()\n",
    "                op1 = stack.pop()\n",
    "                stack.append([ \"{} AND {}\".format(o1, o2) for  o1 in op1 for  o2 in op2 ])\n",
    "        else:\n",
    "            stack.append([token] ) # push as a list\n",
    "    return stack\n",
    "\n",
    "\n",
    "for exp, res in expressions:\n",
    "    tokens = tokenize(exp)\n",
    "    postfix = to_postfix(tokens)\n",
    "    res = simplify(postfix)\n",
    "    \n",
    "    print(f\"\\nExpression : {exp}  \\t Result: {res} \")\n",
    "    print(tokens, postfix)\n"
   ]
  },
  {
   "cell_type": "code",
   "execution_count": null,
   "metadata": {},
   "outputs": [],
   "source": [
    "expressions = [(\"A AND ( B OR C )\", \"\"),\n",
    "              (\"A OR ( B AND C )\", \"\"),\n",
    "              (\"(A OR B) OR (C AND (D AND E)) OR (F AND (G OR H OR I))\", \"\")]"
   ]
  },
  {
   "cell_type": "code",
   "execution_count": 14,
   "metadata": {},
   "outputs": [
    {
     "name": "stdout",
     "output_type": "stream",
     "text": [
      "0\n"
     ]
    }
   ],
   "source": [
    "# Python3 program to solve the  \n",
    "# logical expression. \n",
    "import math as mt \n",
    "  \n",
    "# Function to evaluate the logical expression \n",
    "def logicalExpressionEvaluation(string): \n",
    "  \n",
    "    arr = list() \n",
    "  \n",
    "    # traversing string from the end. \n",
    "    n = len(string) \n",
    "    for i in range(n - 1, -1, -1): \n",
    "        if (string[i] == \"[\"): \n",
    "  \n",
    "            s = list() \n",
    "  \n",
    "            while (arr[-1] != \"]\"): \n",
    "                s.append(arr[-1]) \n",
    "                arr.pop() \n",
    "  \n",
    "            arr.pop() \n",
    "  \n",
    "            # for NOT operation \n",
    "            if (len(s) == 3): \n",
    "                if s[2] == \"1\": \n",
    "                    arr.append(\"0\") \n",
    "                else: \n",
    "                    arr.append(\"1\") \n",
    "  \n",
    "            # for AND and OR operation \n",
    "            elif (len(s) == 5): \n",
    "                a = int(s[0]) - 48\n",
    "                b = int(s[4]) - 48\n",
    "                c = 0\n",
    "                if s[2] == \"&\": \n",
    "                    c = a & b \n",
    "                else: \n",
    "                    c = a | b \n",
    "                arr.append((c) + 48) \n",
    "              \n",
    "        else: \n",
    "            arr.append(string[i]) \n",
    "  \n",
    "    return arr[-1] \n",
    "  \n",
    "# Driver code \n",
    "string= \"[[0,&,1],|,[!,1]]\"\n",
    "  \n",
    "print(logicalExpressionEvaluation(string)) \n"
   ]
  },
  {
   "cell_type": "code",
   "execution_count": null,
   "metadata": {},
   "outputs": [],
   "source": []
  },
  {
   "cell_type": "code",
   "execution_count": null,
   "metadata": {},
   "outputs": [],
   "source": []
  },
  {
   "cell_type": "code",
   "execution_count": 23,
   "metadata": {},
   "outputs": [],
   "source": [
    "expressions = [(\"A AND ( B OR C )\", \"\"),\n",
    "              (\"A OR ( B AND C )\", \"\"),\n",
    "              (\"( A OR B ) OR ( C AND ( D AND E ) ) OR ( F AND ( G OR H OR I ) )\", \"\"),\n",
    "              (\"( ( A ) OR B ) AND ( ( C ) OR D ) AND ( E )\",\"\")\n",
    "              ]"
   ]
  },
  {
   "cell_type": "code",
   "execution_count": 24,
   "metadata": {},
   "outputs": [
    {
     "name": "stdout",
     "output_type": "stream",
     "text": [
      "\n",
      "Expression : A AND ( B OR C )  \t Result: [['A AND B', 'A AND C']] \n",
      "['(', 'A', 'AND', '(', 'B', 'OR', 'C', ')', ')'] ['A', 'B', 'C', 'OR', 'AND']\n",
      "\n",
      "Expression : A OR ( B AND C )  \t Result: [['A', 'B AND C']] \n",
      "['(', 'A', 'OR', '(', 'B', 'AND', 'C', ')', ')'] ['A', 'B', 'C', 'AND', 'OR']\n",
      "\n",
      "Expression : ( A OR B ) OR ( C AND ( D AND E ) ) OR ( F AND ( G OR H OR I ) )  \t Result: [['A', 'B', 'C AND D AND E', 'F AND G', 'F AND H', 'F AND I']] \n",
      "['(', '(', 'A', 'OR', 'B', ')', 'OR', '(', 'C', 'AND', '(', 'D', 'AND', 'E', ')', ')', 'OR', '(', 'F', 'AND', '(', 'G', 'OR', 'H', 'OR', 'I', ')', ')', ')'] ['A', 'B', 'OR', 'C', 'D', 'E', 'AND', 'AND', 'OR', 'F', 'G', 'H', 'OR', 'I', 'OR', 'AND', 'OR']\n",
      "\n",
      "Expression : ( ( A ) OR B ) AND ( ( C ) OR D ) AND ( E )  \t Result: [['A AND C AND E', 'A AND D AND E', 'B AND C AND E', 'B AND D AND E']] \n",
      "['(', '(', '(', 'A', ')', 'OR', 'B', ')', 'AND', '(', '(', 'C', ')', 'OR', 'D', ')', 'AND', '(', 'E', ')', ')'] ['A', 'B', 'OR', 'C', 'D', 'OR', 'AND', 'E', 'AND']\n"
     ]
    }
   ],
   "source": [
    "OPERATORS = [\"(\", \")\", \"AND\", \"OR\"]\n",
    "\n",
    "def tokenize(expr):\n",
    "    tokens  = [val.strip() for val in expr.split()]\n",
    "    tokens.insert(0, \"(\")\n",
    "    tokens.append(\")\")\n",
    "    return tokens\n",
    "\n",
    "def is_eq_or_low_priority(op1, op2):\n",
    "    return OPERATORS.index(op1) <= OPERATORS.index(op2)\n",
    "\n",
    "def to_postfix(tokens):\n",
    "    stack = list()\n",
    "    result =  list()\n",
    "    it = iter(tokens)\n",
    "    while True:\n",
    "        token = next(it, None)\n",
    "        if token is None:\n",
    "            break\n",
    "\n",
    "        if token in OPERATORS:\n",
    "            if token == \"AND\" or token == \"OR\":\n",
    "                if len(stack) > 0 and is_eq_or_low_priority(stack[-1], token):\n",
    "                    result.append(stack.pop())\n",
    "                    stack.append(token)\n",
    "                else:\n",
    "                    stack.append(token)\n",
    "            elif token == \"(\":\n",
    "                result.extend(to_postfix(it))\n",
    "            elif token == \")\":\n",
    "                result.extend(reversed(stack))\n",
    "                break\n",
    "            else:\n",
    "                raise Exception(\"Invalid operator\")\n",
    "        else:\n",
    "            result.append(token)\n",
    "        \n",
    "    return result\n",
    "\n",
    "def simplify(postfix_expr):\n",
    "    stack = []\n",
    "    results = []\n",
    "    \n",
    "    for token in postfix_expr:\n",
    "        if token in OPERATORS:\n",
    "            if token  == \"OR\":\n",
    "                op2 = stack.pop()\n",
    "                op1 = stack.pop()\n",
    "                op1.extend(op2)\n",
    "                stack.append(op1)\n",
    "            elif token  == \"AND\":\n",
    "                op2 = stack.pop()\n",
    "                op1 = stack.pop()\n",
    "                stack.append([ \"{} AND {}\".format(o1, o2) for  o1 in op1 for  o2 in op2 ])\n",
    "        else:\n",
    "            stack.append([token] ) # push as a list\n",
    "    return stack\n",
    "\n",
    "\n",
    "for exp, res in expressions:\n",
    "    tokens = tokenize(exp)\n",
    "    postfix = to_postfix(tokens)\n",
    "    res = simplify(postfix)\n",
    "    \n",
    "    print(f\"\\nExpression : {exp}  \\t Result: {res} \")\n",
    "    print(tokens, postfix)\n"
   ]
  },
  {
   "cell_type": "code",
   "execution_count": 27,
   "metadata": {},
   "outputs": [
    {
     "name": "stdout",
     "output_type": "stream",
     "text": [
      "2 EstablishmentType\n",
      "2 <>\n",
      "2 'Hostel'\n",
      "1 OR\n",
      "2 EstablishmentType\n",
      "2 <>\n",
      "2 'BedAndBreakfast'\n",
      "{'A': \"EstablishmentType <> 'Hostel'\"}\n"
     ]
    }
   ],
   "source": [
    "import re\n",
    "exp = \"EstablishmentType <> 'Hostel' OR EstablishmentType <> 'BedAndBreakfast'\"\n",
    "OPERATORS = [\"(\", \")\", \"AND\", \"OR\"]\n",
    "n = 0\n",
    "exp_alpha = 65\n",
    "temp_list = []\n",
    "exp_dict = {}\n",
    "if 'OR' in exp:\n",
    "    for e in exp.split():       \n",
    "        if e in OPERATORS:\n",
    "            print(1,e)\n",
    "            n = 0\n",
    "            if temp_list:\n",
    "                exp_dict[chr(exp_alpha)] = ' '.join(temp_list)\n",
    "                exp_alpha += 1\n",
    "                temp_list = []\n",
    "        else:\n",
    "            temp_list.append(e)\n",
    "            n += 1\n",
    "            print(2,e)\n",
    "print(exp_dict)"
   ]
  },
  {
   "cell_type": "code",
   "execution_count": 26,
   "metadata": {},
   "outputs": [
    {
     "data": {
      "text/plain": [
       "'A'"
      ]
     },
     "execution_count": 26,
     "metadata": {},
     "output_type": "execute_result"
    }
   ],
   "source": []
  },
  {
   "cell_type": "code",
   "execution_count": null,
   "metadata": {},
   "outputs": [],
   "source": []
  }
 ],
 "metadata": {
  "kernelspec": {
   "display_name": "Python 3",
   "language": "python",
   "name": "python3"
  },
  "language_info": {
   "codemirror_mode": {
    "name": "ipython",
    "version": 3
   },
   "file_extension": ".py",
   "mimetype": "text/x-python",
   "name": "python",
   "nbconvert_exporter": "python",
   "pygments_lexer": "ipython3",
   "version": "3.7.6"
  }
 },
 "nbformat": 4,
 "nbformat_minor": 4
}
