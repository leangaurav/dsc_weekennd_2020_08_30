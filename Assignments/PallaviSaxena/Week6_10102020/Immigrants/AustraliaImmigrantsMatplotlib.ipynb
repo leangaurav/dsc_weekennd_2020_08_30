{
 "cells": [
  {
   "cell_type": "markdown",
   "metadata": {},
   "source": [
    "##### Use AustraliaFiltered.xlsx dataset generated earlier.\n",
    "\n",
    "- Plot bar chart of total no of immigrants for countires top 5 countires having max no of total immigrants\n",
    "- Find total immigrants from each category by area name and plot barchart for each area\n",
    "- Plot total immigration trend(immigration of world over the years i.e. year vs Total count for that year) using line plot.\n",
    "- Compare Immigration Trend for Asia, Africa and Europe AreaName (Use Line plot).\n",
    "- Plot Total Immigrants based on DevelopmenRegion \n",
    "\n",
    "  \n",
    "- Plot immigration trend for India using line plot  #Doubt\n",
    "- Plot immigration Trend(year vs count) for the coutries with top 5 total immigrants. Use Line plot\n",
    "- For the above use area plot with alpha = 0.5\n",
    "\n",
    "\n",
    "- Compare Immigration Trend for top-5 countires using stacked area plot"
   ]
  },
  {
   "cell_type": "code",
   "execution_count": 1,
   "metadata": {},
   "outputs": [],
   "source": [
    "import pandas as pd\n",
    "import matplotlib.pyplot as plt"
   ]
  },
  {
   "cell_type": "code",
   "execution_count": 2,
   "metadata": {},
   "outputs": [
    {
     "data": {
      "text/html": [
       "<div>\n",
       "<style scoped>\n",
       "    .dataframe tbody tr th:only-of-type {\n",
       "        vertical-align: middle;\n",
       "    }\n",
       "\n",
       "    .dataframe tbody tr th {\n",
       "        vertical-align: top;\n",
       "    }\n",
       "\n",
       "    .dataframe thead th {\n",
       "        text-align: right;\n",
       "    }\n",
       "</style>\n",
       "<table border=\"1\" class=\"dataframe\">\n",
       "  <thead>\n",
       "    <tr style=\"text-align: right;\">\n",
       "      <th></th>\n",
       "      <th>Country</th>\n",
       "      <th>AreaName</th>\n",
       "      <th>Region</th>\n",
       "      <th>DevName</th>\n",
       "      <th>1980</th>\n",
       "      <th>1981</th>\n",
       "      <th>1982</th>\n",
       "      <th>1983</th>\n",
       "      <th>1984</th>\n",
       "      <th>1985</th>\n",
       "      <th>...</th>\n",
       "      <th>2000</th>\n",
       "      <th>2001</th>\n",
       "      <th>2002</th>\n",
       "      <th>2003</th>\n",
       "      <th>2004</th>\n",
       "      <th>2005</th>\n",
       "      <th>2006</th>\n",
       "      <th>2007</th>\n",
       "      <th>2008</th>\n",
       "      <th>Total</th>\n",
       "    </tr>\n",
       "  </thead>\n",
       "  <tbody>\n",
       "    <tr>\n",
       "      <th>224</th>\n",
       "      <td>Afghanistan</td>\n",
       "      <td>Asia</td>\n",
       "      <td>Southern Asia</td>\n",
       "      <td>Developing regions</td>\n",
       "      <td>10</td>\n",
       "      <td>20</td>\n",
       "      <td>30</td>\n",
       "      <td>30</td>\n",
       "      <td>70</td>\n",
       "      <td>100</td>\n",
       "      <td>...</td>\n",
       "      <td>100</td>\n",
       "      <td>20</td>\n",
       "      <td>40</td>\n",
       "      <td>70</td>\n",
       "      <td>80</td>\n",
       "      <td>110</td>\n",
       "      <td>180</td>\n",
       "      <td>140</td>\n",
       "      <td>560</td>\n",
       "      <td>4630</td>\n",
       "    </tr>\n",
       "    <tr>\n",
       "      <th>225</th>\n",
       "      <td>Albania</td>\n",
       "      <td>Europe</td>\n",
       "      <td>Southern Europe</td>\n",
       "      <td>Developed regions</td>\n",
       "      <td>0</td>\n",
       "      <td>0</td>\n",
       "      <td>0</td>\n",
       "      <td>0</td>\n",
       "      <td>0</td>\n",
       "      <td>0</td>\n",
       "      <td>...</td>\n",
       "      <td>110</td>\n",
       "      <td>110</td>\n",
       "      <td>200</td>\n",
       "      <td>250</td>\n",
       "      <td>140</td>\n",
       "      <td>130</td>\n",
       "      <td>110</td>\n",
       "      <td>110</td>\n",
       "      <td>140</td>\n",
       "      <td>1910</td>\n",
       "    </tr>\n",
       "    <tr>\n",
       "      <th>226</th>\n",
       "      <td>Algeria</td>\n",
       "      <td>Africa</td>\n",
       "      <td>Northern Africa</td>\n",
       "      <td>Developing regions</td>\n",
       "      <td>10</td>\n",
       "      <td>50</td>\n",
       "      <td>30</td>\n",
       "      <td>10</td>\n",
       "      <td>20</td>\n",
       "      <td>20</td>\n",
       "      <td>...</td>\n",
       "      <td>20</td>\n",
       "      <td>30</td>\n",
       "      <td>60</td>\n",
       "      <td>20</td>\n",
       "      <td>20</td>\n",
       "      <td>50</td>\n",
       "      <td>30</td>\n",
       "      <td>30</td>\n",
       "      <td>60</td>\n",
       "      <td>730</td>\n",
       "    </tr>\n",
       "    <tr>\n",
       "      <th>227</th>\n",
       "      <td>American Samoa</td>\n",
       "      <td>Oceania</td>\n",
       "      <td>Polynesia</td>\n",
       "      <td>Developing regions</td>\n",
       "      <td>0</td>\n",
       "      <td>0</td>\n",
       "      <td>0</td>\n",
       "      <td>0</td>\n",
       "      <td>0</td>\n",
       "      <td>20</td>\n",
       "      <td>...</td>\n",
       "      <td>0</td>\n",
       "      <td>0</td>\n",
       "      <td>0</td>\n",
       "      <td>0</td>\n",
       "      <td>0</td>\n",
       "      <td>0</td>\n",
       "      <td>0</td>\n",
       "      <td>0</td>\n",
       "      <td>10</td>\n",
       "      <td>30</td>\n",
       "    </tr>\n",
       "    <tr>\n",
       "      <th>228</th>\n",
       "      <td>Andorra</td>\n",
       "      <td>Europe</td>\n",
       "      <td>Southern Europe</td>\n",
       "      <td>Developed regions</td>\n",
       "      <td>0</td>\n",
       "      <td>0</td>\n",
       "      <td>10</td>\n",
       "      <td>0</td>\n",
       "      <td>0</td>\n",
       "      <td>0</td>\n",
       "      <td>...</td>\n",
       "      <td>0</td>\n",
       "      <td>10</td>\n",
       "      <td>10</td>\n",
       "      <td>0</td>\n",
       "      <td>10</td>\n",
       "      <td>10</td>\n",
       "      <td>0</td>\n",
       "      <td>10</td>\n",
       "      <td>10</td>\n",
       "      <td>100</td>\n",
       "    </tr>\n",
       "  </tbody>\n",
       "</table>\n",
       "<p>5 rows × 34 columns</p>\n",
       "</div>"
      ],
      "text/plain": [
       "            Country AreaName           Region             DevName  1980  1981  \\\n",
       "224     Afghanistan     Asia    Southern Asia  Developing regions    10    20   \n",
       "225         Albania   Europe  Southern Europe   Developed regions     0     0   \n",
       "226         Algeria   Africa  Northern Africa  Developing regions    10    50   \n",
       "227  American Samoa  Oceania        Polynesia  Developing regions     0     0   \n",
       "228         Andorra   Europe  Southern Europe   Developed regions     0     0   \n",
       "\n",
       "     1982  1983  1984  1985  ...  2000  2001  2002  2003  2004  2005  2006  \\\n",
       "224    30    30    70   100  ...   100    20    40    70    80   110   180   \n",
       "225     0     0     0     0  ...   110   110   200   250   140   130   110   \n",
       "226    30    10    20    20  ...    20    30    60    20    20    50    30   \n",
       "227     0     0     0    20  ...     0     0     0     0     0     0     0   \n",
       "228    10     0     0     0  ...     0    10    10     0    10    10     0   \n",
       "\n",
       "     2007  2008  Total  \n",
       "224   140   560   4630  \n",
       "225   110   140   1910  \n",
       "226    30    60    730  \n",
       "227     0    10     30  \n",
       "228    10    10    100  \n",
       "\n",
       "[5 rows x 34 columns]"
      ]
     },
     "execution_count": 2,
     "metadata": {},
     "output_type": "execute_result"
    }
   ],
   "source": [
    "df = pd.read_excel(\"AustraliaFiltered.xlsx\", index_col=0)\n",
    "df.head()"
   ]
  },
  {
   "cell_type": "code",
   "execution_count": 3,
   "metadata": {},
   "outputs": [],
   "source": [
    "#Plot bar chart of total no of immigrants for countires top 5 countires having max no of total immigrants"
   ]
  },
  {
   "cell_type": "code",
   "execution_count": 4,
   "metadata": {},
   "outputs": [
    {
     "data": {
      "text/html": [
       "<div>\n",
       "<style scoped>\n",
       "    .dataframe tbody tr th:only-of-type {\n",
       "        vertical-align: middle;\n",
       "    }\n",
       "\n",
       "    .dataframe tbody tr th {\n",
       "        vertical-align: top;\n",
       "    }\n",
       "\n",
       "    .dataframe thead th {\n",
       "        text-align: right;\n",
       "    }\n",
       "</style>\n",
       "<table border=\"1\" class=\"dataframe\">\n",
       "  <thead>\n",
       "    <tr style=\"text-align: right;\">\n",
       "      <th></th>\n",
       "      <th>Country</th>\n",
       "      <th>AreaName</th>\n",
       "      <th>Region</th>\n",
       "      <th>DevName</th>\n",
       "      <th>1980</th>\n",
       "      <th>1981</th>\n",
       "      <th>1982</th>\n",
       "      <th>1983</th>\n",
       "      <th>1984</th>\n",
       "      <th>1985</th>\n",
       "      <th>...</th>\n",
       "      <th>2000</th>\n",
       "      <th>2001</th>\n",
       "      <th>2002</th>\n",
       "      <th>2003</th>\n",
       "      <th>2004</th>\n",
       "      <th>2005</th>\n",
       "      <th>2006</th>\n",
       "      <th>2007</th>\n",
       "      <th>2008</th>\n",
       "      <th>Total</th>\n",
       "    </tr>\n",
       "  </thead>\n",
       "  <tbody>\n",
       "    <tr>\n",
       "      <th>432</th>\n",
       "      <td>United Kingdom of Great Britain and Northern I...</td>\n",
       "      <td>Europe</td>\n",
       "      <td>Northern Europe</td>\n",
       "      <td>Developed regions</td>\n",
       "      <td>43540</td>\n",
       "      <td>57050</td>\n",
       "      <td>51730</td>\n",
       "      <td>31660</td>\n",
       "      <td>25150</td>\n",
       "      <td>27630</td>\n",
       "      <td>...</td>\n",
       "      <td>51000</td>\n",
       "      <td>52940</td>\n",
       "      <td>57330</td>\n",
       "      <td>70150</td>\n",
       "      <td>53140</td>\n",
       "      <td>53300</td>\n",
       "      <td>57250</td>\n",
       "      <td>61490</td>\n",
       "      <td>65160</td>\n",
       "      <td>1333340</td>\n",
       "    </tr>\n",
       "    <tr>\n",
       "      <th>367</th>\n",
       "      <td>New Zealand</td>\n",
       "      <td>Oceania</td>\n",
       "      <td>Australia and New Zealand</td>\n",
       "      <td>Developed regions</td>\n",
       "      <td>34370</td>\n",
       "      <td>34440</td>\n",
       "      <td>23920</td>\n",
       "      <td>13620</td>\n",
       "      <td>16900</td>\n",
       "      <td>27070</td>\n",
       "      <td>...</td>\n",
       "      <td>47230</td>\n",
       "      <td>45570</td>\n",
       "      <td>29500</td>\n",
       "      <td>28000</td>\n",
       "      <td>40710</td>\n",
       "      <td>44680</td>\n",
       "      <td>45550</td>\n",
       "      <td>39120</td>\n",
       "      <td>46960</td>\n",
       "      <td>898760</td>\n",
       "    </tr>\n",
       "    <tr>\n",
       "      <th>434</th>\n",
       "      <td>United States of America</td>\n",
       "      <td>Northern America</td>\n",
       "      <td>Northern America</td>\n",
       "      <td>Developed regions</td>\n",
       "      <td>10470</td>\n",
       "      <td>12080</td>\n",
       "      <td>12490</td>\n",
       "      <td>11110</td>\n",
       "      <td>11840</td>\n",
       "      <td>12480</td>\n",
       "      <td>...</td>\n",
       "      <td>18030</td>\n",
       "      <td>19230</td>\n",
       "      <td>18950</td>\n",
       "      <td>18980</td>\n",
       "      <td>18540</td>\n",
       "      <td>18490</td>\n",
       "      <td>17320</td>\n",
       "      <td>19260</td>\n",
       "      <td>20860</td>\n",
       "      <td>450370</td>\n",
       "    </tr>\n",
       "    <tr>\n",
       "      <th>266</th>\n",
       "      <td>China, Hong Kong Special Administrative Region</td>\n",
       "      <td>Asia</td>\n",
       "      <td>Eastern Asia</td>\n",
       "      <td>Developing regions</td>\n",
       "      <td>4170</td>\n",
       "      <td>4380</td>\n",
       "      <td>4980</td>\n",
       "      <td>5480</td>\n",
       "      <td>7450</td>\n",
       "      <td>6820</td>\n",
       "      <td>...</td>\n",
       "      <td>16410</td>\n",
       "      <td>18620</td>\n",
       "      <td>20200</td>\n",
       "      <td>19220</td>\n",
       "      <td>9740</td>\n",
       "      <td>10070</td>\n",
       "      <td>10270</td>\n",
       "      <td>9680</td>\n",
       "      <td>11030</td>\n",
       "      <td>388640</td>\n",
       "    </tr>\n",
       "    <tr>\n",
       "      <th>265</th>\n",
       "      <td>China</td>\n",
       "      <td>Asia</td>\n",
       "      <td>Eastern Asia</td>\n",
       "      <td>Developing regions</td>\n",
       "      <td>860</td>\n",
       "      <td>870</td>\n",
       "      <td>560</td>\n",
       "      <td>580</td>\n",
       "      <td>1220</td>\n",
       "      <td>2190</td>\n",
       "      <td>...</td>\n",
       "      <td>16700</td>\n",
       "      <td>22220</td>\n",
       "      <td>29000</td>\n",
       "      <td>33410</td>\n",
       "      <td>29860</td>\n",
       "      <td>28820</td>\n",
       "      <td>32190</td>\n",
       "      <td>42920</td>\n",
       "      <td>54300</td>\n",
       "      <td>387180</td>\n",
       "    </tr>\n",
       "  </tbody>\n",
       "</table>\n",
       "<p>5 rows × 34 columns</p>\n",
       "</div>"
      ],
      "text/plain": [
       "                                               Country          AreaName  \\\n",
       "432  United Kingdom of Great Britain and Northern I...            Europe   \n",
       "367                                        New Zealand           Oceania   \n",
       "434                           United States of America  Northern America   \n",
       "266     China, Hong Kong Special Administrative Region              Asia   \n",
       "265                                              China              Asia   \n",
       "\n",
       "                        Region             DevName   1980   1981   1982  \\\n",
       "432            Northern Europe   Developed regions  43540  57050  51730   \n",
       "367  Australia and New Zealand   Developed regions  34370  34440  23920   \n",
       "434           Northern America   Developed regions  10470  12080  12490   \n",
       "266               Eastern Asia  Developing regions   4170   4380   4980   \n",
       "265               Eastern Asia  Developing regions    860    870    560   \n",
       "\n",
       "      1983   1984   1985  ...   2000   2001   2002   2003   2004   2005  \\\n",
       "432  31660  25150  27630  ...  51000  52940  57330  70150  53140  53300   \n",
       "367  13620  16900  27070  ...  47230  45570  29500  28000  40710  44680   \n",
       "434  11110  11840  12480  ...  18030  19230  18950  18980  18540  18490   \n",
       "266   5480   7450   6820  ...  16410  18620  20200  19220   9740  10070   \n",
       "265    580   1220   2190  ...  16700  22220  29000  33410  29860  28820   \n",
       "\n",
       "      2006   2007   2008    Total  \n",
       "432  57250  61490  65160  1333340  \n",
       "367  45550  39120  46960   898760  \n",
       "434  17320  19260  20860   450370  \n",
       "266  10270   9680  11030   388640  \n",
       "265  32190  42920  54300   387180  \n",
       "\n",
       "[5 rows x 34 columns]"
      ]
     },
     "execution_count": 4,
     "metadata": {},
     "output_type": "execute_result"
    }
   ],
   "source": [
    "df.nlargest(5, columns = \"Total\")"
   ]
  },
  {
   "cell_type": "code",
   "execution_count": 5,
   "metadata": {},
   "outputs": [
    {
     "data": {
      "text/plain": [
       "432    United Kingdom of Great Britain and Northern I...\n",
       "367                                          New Zealand\n",
       "434                             United States of America\n",
       "266       China, Hong Kong Special Administrative Region\n",
       "265                                                China\n",
       "Name: Country, dtype: object"
      ]
     },
     "execution_count": 5,
     "metadata": {},
     "output_type": "execute_result"
    }
   ],
   "source": [
    "df.nlargest(5, columns = \"Total\").Country"
   ]
  },
  {
   "cell_type": "code",
   "execution_count": 6,
   "metadata": {},
   "outputs": [
    {
     "data": {
      "text/plain": [
       "([<matplotlib.axis.XTick at 0x25ee6ab9e48>,\n",
       "  <matplotlib.axis.XTick at 0x25ee7059a48>,\n",
       "  <matplotlib.axis.XTick at 0x25ee323b6c8>,\n",
       "  <matplotlib.axis.XTick at 0x25ee7025c08>,\n",
       "  <matplotlib.axis.XTick at 0x25ee7025308>],\n",
       " <a list of 5 Text xticklabel objects>)"
      ]
     },
     "execution_count": 6,
     "metadata": {},
     "output_type": "execute_result"
    },
    {
     "data": {
      "image/png": "[encoded data removed]",
      "text/plain": [
       "<Figure size 432x288 with 1 Axes>"
      ]
     },
     "metadata": {
      "needs_background": "light"
     },
     "output_type": "display_data"
    }
   ],
   "source": [
    "plt.bar(x=df.nlargest(5, columns = \"Total\").Country, height=df.nlargest(5, columns = \"Total\").Country.index)\n",
    "plt.xticks(df.nlargest(5, columns = \"Total\").Country, rotation=90)\n",
    "#plt.tight_layout()"
   ]
  },
  {
   "cell_type": "code",
   "execution_count": 7,
   "metadata": {},
   "outputs": [],
   "source": [
    "#Find total immigrants from each category by area name and plot barchart for each area"
   ]
  },
  {
   "cell_type": "code",
   "execution_count": 8,
   "metadata": {},
   "outputs": [
    {
     "data": {
      "text/plain": [
       "Africa                             56\n",
       "Asia                               51\n",
       "Latin America and the Caribbean    45\n",
       "Europe                             43\n",
       "Oceania                            23\n",
       "Northern America                    4\n",
       "Name: AreaName, dtype: int64"
      ]
     },
     "execution_count": 8,
     "metadata": {},
     "output_type": "execute_result"
    }
   ],
   "source": [
    "df['AreaName'].value_counts()"
   ]
  },
  {
   "cell_type": "code",
   "execution_count": 10,
   "metadata": {},
   "outputs": [
    {
     "data": {
      "image/png": "[encoded data removed]",
      "text/plain": [
       "<Figure size 432x288 with 1 Axes>"
      ]
     },
     "metadata": {
      "needs_background": "light"
     },
     "output_type": "display_data"
    }
   ],
   "source": [
    "plt.bar(x=df['AreaName'].value_counts().index, height=df['AreaName'].value_counts())\n",
    "plt.xticks(df['AreaName'].value_counts().index, rotation=90)\n",
    "plt.show()"
   ]
  },
  {
   "cell_type": "code",
   "execution_count": 11,
   "metadata": {},
   "outputs": [],
   "source": [
    "#Plot total immigration trend(immigration of world over the years i.e. year vs Total count for that year) using line plot."
   ]
  },
  {
   "cell_type": "code",
   "execution_count": 14,
   "metadata": {},
   "outputs": [
    {
     "data": {
      "text/plain": [
       "1980    180230\n",
       "1981    208250\n",
       "1982    191190\n",
       "1983    150350\n",
       "1984    149560\n",
       "1985    167940\n",
       "1986    191310\n",
       "1987    215100\n",
       "1988    247500\n",
       "1989    232690\n",
       "1990    228910\n",
       "1991    230300\n",
       "1992    212670\n",
       "1993    190780\n",
       "1994    216640\n",
       "1995    249600\n",
       "1996    256990\n",
       "1997    257290\n",
       "1998    264990\n",
       "1999    287020\n",
       "2000    312060\n",
       "2001    351320\n",
       "2002    359830\n",
       "2003    386690\n",
       "2004    349340\n",
       "2005    361670\n",
       "2006    399890\n",
       "2007    442340\n",
       "2008    531000\n",
       "dtype: int64"
      ]
     },
     "execution_count": 14,
     "metadata": {},
     "output_type": "execute_result"
    }
   ],
   "source": [
    "df.loc[:, '1980':'2008'].sum(axis=0)"
   ]
  },
  {
   "cell_type": "code",
   "execution_count": 17,
   "metadata": {},
   "outputs": [],
   "source": [
    "#plt.plot(x=df.loc[:, '1980':'2008'].sum(axis=0).index,y=df.loc[:, '1980':'2008'].sum(axis=0))"
   ]
  },
  {
   "cell_type": "code",
   "execution_count": 19,
   "metadata": {},
   "outputs": [
    {
     "data": {
      "text/plain": [
       "<matplotlib.axes._subplots.AxesSubplot at 0x25ee7c17708>"
      ]
     },
     "execution_count": 19,
     "metadata": {},
     "output_type": "execute_result"
    },
    {
     "data": {
      "image/png": "[encoded data removed]",
      "text/plain": [
       "<Figure size 432x288 with 1 Axes>"
      ]
     },
     "metadata": {
      "needs_background": "light"
     },
     "output_type": "display_data"
    }
   ],
   "source": [
    "df.loc[:, '1980':'2008'].sum(axis=0).plot()\n",
    "#plt.xticks(df.loc[:, '1980':'2008'].sum(axis=0).index, rotation=90)"
   ]
  },
  {
   "cell_type": "code",
   "execution_count": 20,
   "metadata": {},
   "outputs": [],
   "source": [
    "#Compare Immigration Trend for Asia, Africa and Europe AreaName (Use Line plot)."
   ]
  },
  {
   "cell_type": "code",
   "execution_count": 26,
   "metadata": {},
   "outputs": [
    {
     "data": {
      "text/plain": [
       "Africa                             56\n",
       "Asia                               51\n",
       "Latin America and the Caribbean    45\n",
       "Europe                             43\n",
       "Oceania                            23\n",
       "Northern America                    4\n",
       "Name: AreaName, dtype: int64"
      ]
     },
     "execution_count": 26,
     "metadata": {},
     "output_type": "execute_result"
    }
   ],
   "source": [
    "df['AreaName'].value_counts()"
   ]
  },
  {
   "cell_type": "code",
   "execution_count": 28,
   "metadata": {},
   "outputs": [
    {
     "data": {
      "text/plain": [
       "224     True\n",
       "225     True\n",
       "226     True\n",
       "227    False\n",
       "228     True\n",
       "       ...  \n",
       "441    False\n",
       "442     True\n",
       "443     True\n",
       "444     True\n",
       "445     True\n",
       "Name: AreaName, Length: 222, dtype: bool"
      ]
     },
     "execution_count": 28,
     "metadata": {},
     "output_type": "execute_result"
    }
   ],
   "source": [
    "df[\"AreaName\"].isin([\"Asia\",\"Africa\",\"Europe\"])"
   ]
  },
  {
   "cell_type": "code",
   "execution_count": 29,
   "metadata": {},
   "outputs": [
    {
     "data": {
      "text/html": [
       "<div>\n",
       "<style scoped>\n",
       "    .dataframe tbody tr th:only-of-type {\n",
       "        vertical-align: middle;\n",
       "    }\n",
       "\n",
       "    .dataframe tbody tr th {\n",
       "        vertical-align: top;\n",
       "    }\n",
       "\n",
       "    .dataframe thead th {\n",
       "        text-align: right;\n",
       "    }\n",
       "</style>\n",
       "<table border=\"1\" class=\"dataframe\">\n",
       "  <thead>\n",
       "    <tr style=\"text-align: right;\">\n",
       "      <th></th>\n",
       "      <th>Country</th>\n",
       "      <th>AreaName</th>\n",
       "      <th>Region</th>\n",
       "      <th>DevName</th>\n",
       "      <th>1980</th>\n",
       "      <th>1981</th>\n",
       "      <th>1982</th>\n",
       "      <th>1983</th>\n",
       "      <th>1984</th>\n",
       "      <th>1985</th>\n",
       "      <th>...</th>\n",
       "      <th>2000</th>\n",
       "      <th>2001</th>\n",
       "      <th>2002</th>\n",
       "      <th>2003</th>\n",
       "      <th>2004</th>\n",
       "      <th>2005</th>\n",
       "      <th>2006</th>\n",
       "      <th>2007</th>\n",
       "      <th>2008</th>\n",
       "      <th>Total</th>\n",
       "    </tr>\n",
       "  </thead>\n",
       "  <tbody>\n",
       "    <tr>\n",
       "      <th>224</th>\n",
       "      <td>Afghanistan</td>\n",
       "      <td>Asia</td>\n",
       "      <td>Southern Asia</td>\n",
       "      <td>Developing regions</td>\n",
       "      <td>10</td>\n",
       "      <td>20</td>\n",
       "      <td>30</td>\n",
       "      <td>30</td>\n",
       "      <td>70</td>\n",
       "      <td>100</td>\n",
       "      <td>...</td>\n",
       "      <td>100</td>\n",
       "      <td>20</td>\n",
       "      <td>40</td>\n",
       "      <td>70</td>\n",
       "      <td>80</td>\n",
       "      <td>110</td>\n",
       "      <td>180</td>\n",
       "      <td>140</td>\n",
       "      <td>560</td>\n",
       "      <td>4630</td>\n",
       "    </tr>\n",
       "    <tr>\n",
       "      <th>225</th>\n",
       "      <td>Albania</td>\n",
       "      <td>Europe</td>\n",
       "      <td>Southern Europe</td>\n",
       "      <td>Developed regions</td>\n",
       "      <td>0</td>\n",
       "      <td>0</td>\n",
       "      <td>0</td>\n",
       "      <td>0</td>\n",
       "      <td>0</td>\n",
       "      <td>0</td>\n",
       "      <td>...</td>\n",
       "      <td>110</td>\n",
       "      <td>110</td>\n",
       "      <td>200</td>\n",
       "      <td>250</td>\n",
       "      <td>140</td>\n",
       "      <td>130</td>\n",
       "      <td>110</td>\n",
       "      <td>110</td>\n",
       "      <td>140</td>\n",
       "      <td>1910</td>\n",
       "    </tr>\n",
       "    <tr>\n",
       "      <th>226</th>\n",
       "      <td>Algeria</td>\n",
       "      <td>Africa</td>\n",
       "      <td>Northern Africa</td>\n",
       "      <td>Developing regions</td>\n",
       "      <td>10</td>\n",
       "      <td>50</td>\n",
       "      <td>30</td>\n",
       "      <td>10</td>\n",
       "      <td>20</td>\n",
       "      <td>20</td>\n",
       "      <td>...</td>\n",
       "      <td>20</td>\n",
       "      <td>30</td>\n",
       "      <td>60</td>\n",
       "      <td>20</td>\n",
       "      <td>20</td>\n",
       "      <td>50</td>\n",
       "      <td>30</td>\n",
       "      <td>30</td>\n",
       "      <td>60</td>\n",
       "      <td>730</td>\n",
       "    </tr>\n",
       "    <tr>\n",
       "      <th>228</th>\n",
       "      <td>Andorra</td>\n",
       "      <td>Europe</td>\n",
       "      <td>Southern Europe</td>\n",
       "      <td>Developed regions</td>\n",
       "      <td>0</td>\n",
       "      <td>0</td>\n",
       "      <td>10</td>\n",
       "      <td>0</td>\n",
       "      <td>0</td>\n",
       "      <td>0</td>\n",
       "      <td>...</td>\n",
       "      <td>0</td>\n",
       "      <td>10</td>\n",
       "      <td>10</td>\n",
       "      <td>0</td>\n",
       "      <td>10</td>\n",
       "      <td>10</td>\n",
       "      <td>0</td>\n",
       "      <td>10</td>\n",
       "      <td>10</td>\n",
       "      <td>100</td>\n",
       "    </tr>\n",
       "    <tr>\n",
       "      <th>229</th>\n",
       "      <td>Angola</td>\n",
       "      <td>Africa</td>\n",
       "      <td>Middle Africa</td>\n",
       "      <td>Developing regions</td>\n",
       "      <td>0</td>\n",
       "      <td>0</td>\n",
       "      <td>0</td>\n",
       "      <td>10</td>\n",
       "      <td>0</td>\n",
       "      <td>0</td>\n",
       "      <td>...</td>\n",
       "      <td>10</td>\n",
       "      <td>10</td>\n",
       "      <td>10</td>\n",
       "      <td>20</td>\n",
       "      <td>10</td>\n",
       "      <td>10</td>\n",
       "      <td>20</td>\n",
       "      <td>30</td>\n",
       "      <td>20</td>\n",
       "      <td>170</td>\n",
       "    </tr>\n",
       "    <tr>\n",
       "      <th>...</th>\n",
       "      <td>...</td>\n",
       "      <td>...</td>\n",
       "      <td>...</td>\n",
       "      <td>...</td>\n",
       "      <td>...</td>\n",
       "      <td>...</td>\n",
       "      <td>...</td>\n",
       "      <td>...</td>\n",
       "      <td>...</td>\n",
       "      <td>...</td>\n",
       "      <td>...</td>\n",
       "      <td>...</td>\n",
       "      <td>...</td>\n",
       "      <td>...</td>\n",
       "      <td>...</td>\n",
       "      <td>...</td>\n",
       "      <td>...</td>\n",
       "      <td>...</td>\n",
       "      <td>...</td>\n",
       "      <td>...</td>\n",
       "      <td>...</td>\n",
       "    </tr>\n",
       "    <tr>\n",
       "      <th>440</th>\n",
       "      <td>Viet Nam</td>\n",
       "      <td>Asia</td>\n",
       "      <td>South-Eastern Asia</td>\n",
       "      <td>Developing regions</td>\n",
       "      <td>130</td>\n",
       "      <td>70</td>\n",
       "      <td>200</td>\n",
       "      <td>920</td>\n",
       "      <td>2860</td>\n",
       "      <td>2140</td>\n",
       "      <td>...</td>\n",
       "      <td>3430</td>\n",
       "      <td>3800</td>\n",
       "      <td>4410</td>\n",
       "      <td>4840</td>\n",
       "      <td>4500</td>\n",
       "      <td>5110</td>\n",
       "      <td>6610</td>\n",
       "      <td>8310</td>\n",
       "      <td>11210</td>\n",
       "      <td>119060</td>\n",
       "    </tr>\n",
       "    <tr>\n",
       "      <th>442</th>\n",
       "      <td>Western Sahara</td>\n",
       "      <td>Africa</td>\n",
       "      <td>Northern Africa</td>\n",
       "      <td>Developing regions</td>\n",
       "      <td>0</td>\n",
       "      <td>0</td>\n",
       "      <td>0</td>\n",
       "      <td>0</td>\n",
       "      <td>0</td>\n",
       "      <td>0</td>\n",
       "      <td>...</td>\n",
       "      <td>0</td>\n",
       "      <td>0</td>\n",
       "      <td>0</td>\n",
       "      <td>0</td>\n",
       "      <td>0</td>\n",
       "      <td>0</td>\n",
       "      <td>0</td>\n",
       "      <td>0</td>\n",
       "      <td>0</td>\n",
       "      <td>0</td>\n",
       "    </tr>\n",
       "    <tr>\n",
       "      <th>443</th>\n",
       "      <td>Yemen</td>\n",
       "      <td>Asia</td>\n",
       "      <td>Western Asia</td>\n",
       "      <td>Developing regions</td>\n",
       "      <td>10</td>\n",
       "      <td>0</td>\n",
       "      <td>0</td>\n",
       "      <td>10</td>\n",
       "      <td>20</td>\n",
       "      <td>10</td>\n",
       "      <td>...</td>\n",
       "      <td>20</td>\n",
       "      <td>60</td>\n",
       "      <td>40</td>\n",
       "      <td>150</td>\n",
       "      <td>40</td>\n",
       "      <td>20</td>\n",
       "      <td>10</td>\n",
       "      <td>40</td>\n",
       "      <td>40</td>\n",
       "      <td>570</td>\n",
       "    </tr>\n",
       "    <tr>\n",
       "      <th>444</th>\n",
       "      <td>Zambia</td>\n",
       "      <td>Africa</td>\n",
       "      <td>Eastern Africa</td>\n",
       "      <td>Developing regions</td>\n",
       "      <td>150</td>\n",
       "      <td>110</td>\n",
       "      <td>120</td>\n",
       "      <td>180</td>\n",
       "      <td>130</td>\n",
       "      <td>170</td>\n",
       "      <td>...</td>\n",
       "      <td>100</td>\n",
       "      <td>190</td>\n",
       "      <td>260</td>\n",
       "      <td>430</td>\n",
       "      <td>370</td>\n",
       "      <td>240</td>\n",
       "      <td>410</td>\n",
       "      <td>410</td>\n",
       "      <td>400</td>\n",
       "      <td>5590</td>\n",
       "    </tr>\n",
       "    <tr>\n",
       "      <th>445</th>\n",
       "      <td>Zimbabwe</td>\n",
       "      <td>Africa</td>\n",
       "      <td>Eastern Africa</td>\n",
       "      <td>Developing regions</td>\n",
       "      <td>630</td>\n",
       "      <td>1120</td>\n",
       "      <td>1190</td>\n",
       "      <td>980</td>\n",
       "      <td>640</td>\n",
       "      <td>500</td>\n",
       "      <td>...</td>\n",
       "      <td>910</td>\n",
       "      <td>1500</td>\n",
       "      <td>1670</td>\n",
       "      <td>2330</td>\n",
       "      <td>1790</td>\n",
       "      <td>1560</td>\n",
       "      <td>1880</td>\n",
       "      <td>2180</td>\n",
       "      <td>2270</td>\n",
       "      <td>27350</td>\n",
       "    </tr>\n",
       "  </tbody>\n",
       "</table>\n",
       "<p>150 rows × 34 columns</p>\n",
       "</div>"
      ],
      "text/plain": [
       "            Country AreaName              Region             DevName  1980  \\\n",
       "224     Afghanistan     Asia       Southern Asia  Developing regions    10   \n",
       "225         Albania   Europe     Southern Europe   Developed regions     0   \n",
       "226         Algeria   Africa     Northern Africa  Developing regions    10   \n",
       "228         Andorra   Europe     Southern Europe   Developed regions     0   \n",
       "229          Angola   Africa       Middle Africa  Developing regions     0   \n",
       "..              ...      ...                 ...                 ...   ...   \n",
       "440        Viet Nam     Asia  South-Eastern Asia  Developing regions   130   \n",
       "442  Western Sahara   Africa     Northern Africa  Developing regions     0   \n",
       "443           Yemen     Asia        Western Asia  Developing regions    10   \n",
       "444          Zambia   Africa      Eastern Africa  Developing regions   150   \n",
       "445        Zimbabwe   Africa      Eastern Africa  Developing regions   630   \n",
       "\n",
       "     1981  1982  1983  1984  1985  ...  2000  2001  2002  2003  2004  2005  \\\n",
       "224    20    30    30    70   100  ...   100    20    40    70    80   110   \n",
       "225     0     0     0     0     0  ...   110   110   200   250   140   130   \n",
       "226    50    30    10    20    20  ...    20    30    60    20    20    50   \n",
       "228     0    10     0     0     0  ...     0    10    10     0    10    10   \n",
       "229     0     0    10     0     0  ...    10    10    10    20    10    10   \n",
       "..    ...   ...   ...   ...   ...  ...   ...   ...   ...   ...   ...   ...   \n",
       "440    70   200   920  2860  2140  ...  3430  3800  4410  4840  4500  5110   \n",
       "442     0     0     0     0     0  ...     0     0     0     0     0     0   \n",
       "443     0     0    10    20    10  ...    20    60    40   150    40    20   \n",
       "444   110   120   180   130   170  ...   100   190   260   430   370   240   \n",
       "445  1120  1190   980   640   500  ...   910  1500  1670  2330  1790  1560   \n",
       "\n",
       "     2006  2007   2008   Total  \n",
       "224   180   140    560    4630  \n",
       "225   110   110    140    1910  \n",
       "226    30    30     60     730  \n",
       "228     0    10     10     100  \n",
       "229    20    30     20     170  \n",
       "..    ...   ...    ...     ...  \n",
       "440  6610  8310  11210  119060  \n",
       "442     0     0      0       0  \n",
       "443    10    40     40     570  \n",
       "444   410   410    400    5590  \n",
       "445  1880  2180   2270   27350  \n",
       "\n",
       "[150 rows x 34 columns]"
      ]
     },
     "execution_count": 29,
     "metadata": {},
     "output_type": "execute_result"
    }
   ],
   "source": [
    "df[df[\"AreaName\"].isin([\"Asia\",\"Africa\",\"Europe\"])]"
   ]
  },
  {
   "cell_type": "code",
   "execution_count": 30,
   "metadata": {},
   "outputs": [
    {
     "data": {
      "text/plain": [
       "224      Asia\n",
       "225    Europe\n",
       "226    Africa\n",
       "228    Europe\n",
       "229    Africa\n",
       "        ...  \n",
       "440      Asia\n",
       "442    Africa\n",
       "443      Asia\n",
       "444    Africa\n",
       "445    Africa\n",
       "Name: AreaName, Length: 150, dtype: object"
      ]
     },
     "execution_count": 30,
     "metadata": {},
     "output_type": "execute_result"
    }
   ],
   "source": [
    "df[df[\"AreaName\"].isin([\"Asia\",\"Africa\",\"Europe\"])][\"AreaName\"]"
   ]
  },
  {
   "cell_type": "code",
   "execution_count": 31,
   "metadata": {},
   "outputs": [
    {
     "data": {
      "text/plain": [
       "Africa    56\n",
       "Asia      51\n",
       "Europe    43\n",
       "Name: AreaName, dtype: int64"
      ]
     },
     "execution_count": 31,
     "metadata": {},
     "output_type": "execute_result"
    }
   ],
   "source": [
    "df[df[\"AreaName\"].isin([\"Asia\",\"Africa\",\"Europe\"])][\"AreaName\"].value_counts()"
   ]
  },
  {
   "cell_type": "code",
   "execution_count": 32,
   "metadata": {},
   "outputs": [
    {
     "data": {
      "text/plain": [
       "<matplotlib.axes._subplots.AxesSubplot at 0x25ee7c9f3c8>"
      ]
     },
     "execution_count": 32,
     "metadata": {},
     "output_type": "execute_result"
    },
    {
     "data": {
      "image/png": "[encoded data removed]",
      "text/plain": [
       "<Figure size 432x288 with 1 Axes>"
      ]
     },
     "metadata": {
      "needs_background": "light"
     },
     "output_type": "display_data"
    }
   ],
   "source": [
    "df[df[\"AreaName\"].isin([\"Asia\",\"Africa\",\"Europe\"])][\"AreaName\"].value_counts().plot()"
   ]
  },
  {
   "cell_type": "code",
   "execution_count": null,
   "metadata": {},
   "outputs": [],
   "source": []
  },
  {
   "cell_type": "code",
   "execution_count": null,
   "metadata": {},
   "outputs": [],
   "source": [
    "#Plot Total Immigrants based on DevelopmenRegion"
   ]
  },
  {
   "cell_type": "code",
   "execution_count": 33,
   "metadata": {},
   "outputs": [
    {
     "data": {
      "text/plain": [
       "224    Developing regions\n",
       "225     Developed regions\n",
       "226    Developing regions\n",
       "227    Developing regions\n",
       "228     Developed regions\n",
       "              ...        \n",
       "441    Developing regions\n",
       "442    Developing regions\n",
       "443    Developing regions\n",
       "444    Developing regions\n",
       "445    Developing regions\n",
       "Name: DevName, Length: 222, dtype: object"
      ]
     },
     "execution_count": 33,
     "metadata": {},
     "output_type": "execute_result"
    }
   ],
   "source": [
    "df['DevName']"
   ]
  },
  {
   "cell_type": "code",
   "execution_count": 34,
   "metadata": {},
   "outputs": [
    {
     "data": {
      "text/plain": [
       "Developing regions    172\n",
       "Developed regions      50\n",
       "Name: DevName, dtype: int64"
      ]
     },
     "execution_count": 34,
     "metadata": {},
     "output_type": "execute_result"
    }
   ],
   "source": [
    "df['DevName'].value_counts()"
   ]
  },
  {
   "cell_type": "code",
   "execution_count": 36,
   "metadata": {},
   "outputs": [
    {
     "data": {
      "text/plain": [
       "<matplotlib.axes._subplots.AxesSubplot at 0x25ee8d303c8>"
      ]
     },
     "execution_count": 36,
     "metadata": {},
     "output_type": "execute_result"
    },
    {
     "data": {
      "image/png": "[encoded data removed]",
      "text/plain": [
       "<Figure size 432x288 with 1 Axes>"
      ]
     },
     "metadata": {
      "needs_background": "light"
     },
     "output_type": "display_data"
    }
   ],
   "source": [
    "df['DevName'].value_counts().plot.bar()"
   ]
  },
  {
   "cell_type": "code",
   "execution_count": null,
   "metadata": {},
   "outputs": [],
   "source": []
  },
  {
   "cell_type": "code",
   "execution_count": null,
   "metadata": {},
   "outputs": [],
   "source": []
  },
  {
   "cell_type": "code",
   "execution_count": null,
   "metadata": {},
   "outputs": [],
   "source": []
  },
  {
   "cell_type": "code",
   "execution_count": null,
   "metadata": {},
   "outputs": [],
   "source": []
  },
  {
   "cell_type": "code",
   "execution_count": null,
   "metadata": {},
   "outputs": [],
   "source": []
  },
  {
   "cell_type": "code",
   "execution_count": null,
   "metadata": {},
   "outputs": [],
   "source": [
    "#Plot immigration trend for India using line plot"
   ]
  },
  {
   "cell_type": "code",
   "execution_count": 38,
   "metadata": {},
   "outputs": [
    {
     "data": {
      "text/html": [
       "<div>\n",
       "<style scoped>\n",
       "    .dataframe tbody tr th:only-of-type {\n",
       "        vertical-align: middle;\n",
       "    }\n",
       "\n",
       "    .dataframe tbody tr th {\n",
       "        vertical-align: top;\n",
       "    }\n",
       "\n",
       "    .dataframe thead th {\n",
       "        text-align: right;\n",
       "    }\n",
       "</style>\n",
       "<table border=\"1\" class=\"dataframe\">\n",
       "  <thead>\n",
       "    <tr style=\"text-align: right;\">\n",
       "      <th></th>\n",
       "      <th>Country</th>\n",
       "      <th>AreaName</th>\n",
       "      <th>Region</th>\n",
       "      <th>DevName</th>\n",
       "      <th>1980</th>\n",
       "      <th>1981</th>\n",
       "      <th>1982</th>\n",
       "      <th>1983</th>\n",
       "      <th>1984</th>\n",
       "      <th>1985</th>\n",
       "      <th>...</th>\n",
       "      <th>2000</th>\n",
       "      <th>2001</th>\n",
       "      <th>2002</th>\n",
       "      <th>2003</th>\n",
       "      <th>2004</th>\n",
       "      <th>2005</th>\n",
       "      <th>2006</th>\n",
       "      <th>2007</th>\n",
       "      <th>2008</th>\n",
       "      <th>Total</th>\n",
       "    </tr>\n",
       "  </thead>\n",
       "  <tbody>\n",
       "    <tr>\n",
       "      <th>319</th>\n",
       "      <td>India</td>\n",
       "      <td>Asia</td>\n",
       "      <td>Southern Asia</td>\n",
       "      <td>Developing regions</td>\n",
       "      <td>1220</td>\n",
       "      <td>1560</td>\n",
       "      <td>1870</td>\n",
       "      <td>2090</td>\n",
       "      <td>2300</td>\n",
       "      <td>2510</td>\n",
       "      <td>...</td>\n",
       "      <td>10390</td>\n",
       "      <td>9380</td>\n",
       "      <td>9240</td>\n",
       "      <td>15080</td>\n",
       "      <td>18310</td>\n",
       "      <td>19920</td>\n",
       "      <td>27880</td>\n",
       "      <td>41920</td>\n",
       "      <td>58400</td>\n",
       "      <td>291500</td>\n",
       "    </tr>\n",
       "  </tbody>\n",
       "</table>\n",
       "<p>1 rows × 34 columns</p>\n",
       "</div>"
      ],
      "text/plain": [
       "    Country AreaName         Region             DevName  1980  1981  1982  \\\n",
       "319   India     Asia  Southern Asia  Developing regions  1220  1560  1870   \n",
       "\n",
       "     1983  1984  1985  ...   2000  2001  2002   2003   2004   2005   2006  \\\n",
       "319  2090  2300  2510  ...  10390  9380  9240  15080  18310  19920  27880   \n",
       "\n",
       "      2007   2008   Total  \n",
       "319  41920  58400  291500  \n",
       "\n",
       "[1 rows x 34 columns]"
      ]
     },
     "execution_count": 38,
     "metadata": {},
     "output_type": "execute_result"
    }
   ],
   "source": [
    "df[df['Country']=='India']"
   ]
  },
  {
   "cell_type": "code",
   "execution_count": 39,
   "metadata": {},
   "outputs": [],
   "source": [
    "temp = df[df['Country']=='India']"
   ]
  },
  {
   "cell_type": "code",
   "execution_count": 40,
   "metadata": {},
   "outputs": [
    {
     "data": {
      "text/html": [
       "<div>\n",
       "<style scoped>\n",
       "    .dataframe tbody tr th:only-of-type {\n",
       "        vertical-align: middle;\n",
       "    }\n",
       "\n",
       "    .dataframe tbody tr th {\n",
       "        vertical-align: top;\n",
       "    }\n",
       "\n",
       "    .dataframe thead th {\n",
       "        text-align: right;\n",
       "    }\n",
       "</style>\n",
       "<table border=\"1\" class=\"dataframe\">\n",
       "  <thead>\n",
       "    <tr style=\"text-align: right;\">\n",
       "      <th></th>\n",
       "      <th>1980</th>\n",
       "      <th>1981</th>\n",
       "      <th>1982</th>\n",
       "      <th>1983</th>\n",
       "      <th>1984</th>\n",
       "      <th>1985</th>\n",
       "      <th>1986</th>\n",
       "      <th>1987</th>\n",
       "      <th>1988</th>\n",
       "      <th>1989</th>\n",
       "      <th>...</th>\n",
       "      <th>1999</th>\n",
       "      <th>2000</th>\n",
       "      <th>2001</th>\n",
       "      <th>2002</th>\n",
       "      <th>2003</th>\n",
       "      <th>2004</th>\n",
       "      <th>2005</th>\n",
       "      <th>2006</th>\n",
       "      <th>2007</th>\n",
       "      <th>2008</th>\n",
       "    </tr>\n",
       "  </thead>\n",
       "  <tbody>\n",
       "    <tr>\n",
       "      <th>319</th>\n",
       "      <td>1220</td>\n",
       "      <td>1560</td>\n",
       "      <td>1870</td>\n",
       "      <td>2090</td>\n",
       "      <td>2300</td>\n",
       "      <td>2510</td>\n",
       "      <td>2390</td>\n",
       "      <td>2900</td>\n",
       "      <td>2990</td>\n",
       "      <td>2980</td>\n",
       "      <td>...</td>\n",
       "      <td>8370</td>\n",
       "      <td>10390</td>\n",
       "      <td>9380</td>\n",
       "      <td>9240</td>\n",
       "      <td>15080</td>\n",
       "      <td>18310</td>\n",
       "      <td>19920</td>\n",
       "      <td>27880</td>\n",
       "      <td>41920</td>\n",
       "      <td>58400</td>\n",
       "    </tr>\n",
       "  </tbody>\n",
       "</table>\n",
       "<p>1 rows × 29 columns</p>\n",
       "</div>"
      ],
      "text/plain": [
       "     1980  1981  1982  1983  1984  1985  1986  1987  1988  1989  ...  1999  \\\n",
       "319  1220  1560  1870  2090  2300  2510  2390  2900  2990  2980  ...  8370   \n",
       "\n",
       "      2000  2001  2002   2003   2004   2005   2006   2007   2008  \n",
       "319  10390  9380  9240  15080  18310  19920  27880  41920  58400  \n",
       "\n",
       "[1 rows x 29 columns]"
      ]
     },
     "execution_count": 40,
     "metadata": {},
     "output_type": "execute_result"
    }
   ],
   "source": [
    "temp.loc[:, '1980':'2008']"
   ]
  },
  {
   "cell_type": "code",
   "execution_count": 42,
   "metadata": {},
   "outputs": [
    {
     "data": {
      "text/plain": [
       "<matplotlib.axes._subplots.AxesSubplot at 0x25ee6dbcd48>"
      ]
     },
     "execution_count": 42,
     "metadata": {},
     "output_type": "execute_result"
    },
    {
     "data": {
      "image/png": "[encoded data removed]",
      "text/plain": [
       "<Figure size 432x288 with 1 Axes>"
      ]
     },
     "metadata": {
      "needs_background": "light"
     },
     "output_type": "display_data"
    }
   ],
   "source": [
    "temp.loc[:, '1980':'2008'].T.plot()"
   ]
  },
  {
   "cell_type": "code",
   "execution_count": null,
   "metadata": {},
   "outputs": [],
   "source": []
  },
  {
   "cell_type": "code",
   "execution_count": null,
   "metadata": {},
   "outputs": [],
   "source": []
  },
  {
   "cell_type": "code",
   "execution_count": 24,
   "metadata": {},
   "outputs": [],
   "source": []
  },
  {
   "cell_type": "code",
   "execution_count": null,
   "metadata": {},
   "outputs": [],
   "source": [
    "#Plot immigration Trend(year vs count) for the coutries with top 5 total immigrants. Use Line plot"
   ]
  },
  {
   "cell_type": "code",
   "execution_count": null,
   "metadata": {},
   "outputs": [],
   "source": []
  },
  {
   "cell_type": "code",
   "execution_count": null,
   "metadata": {},
   "outputs": [],
   "source": []
  },
  {
   "cell_type": "code",
   "execution_count": null,
   "metadata": {},
   "outputs": [],
   "source": []
  },
  {
   "cell_type": "code",
   "execution_count": null,
   "metadata": {},
   "outputs": [],
   "source": []
  },
  {
   "cell_type": "code",
   "execution_count": null,
   "metadata": {},
   "outputs": [],
   "source": []
  },
  {
   "cell_type": "code",
   "execution_count": null,
   "metadata": {},
   "outputs": [],
   "source": []
  },
  {
   "cell_type": "code",
   "execution_count": null,
   "metadata": {},
   "outputs": [],
   "source": []
  },
  {
   "cell_type": "code",
   "execution_count": null,
   "metadata": {},
   "outputs": [],
   "source": []
  },
  {
   "cell_type": "code",
   "execution_count": null,
   "metadata": {},
   "outputs": [],
   "source": []
  },
  {
   "cell_type": "code",
   "execution_count": null,
   "metadata": {},
   "outputs": [],
   "source": []
  },
  {
   "cell_type": "code",
   "execution_count": null,
   "metadata": {},
   "outputs": [],
   "source": []
  },
  {
   "cell_type": "code",
   "execution_count": null,
   "metadata": {},
   "outputs": [],
   "source": []
  },
  {
   "cell_type": "code",
   "execution_count": null,
   "metadata": {},
   "outputs": [],
   "source": []
  },
  {
   "cell_type": "code",
   "execution_count": null,
   "metadata": {},
   "outputs": [],
   "source": [
    "#For the above use area plot with alpha = 0.5"
   ]
  },
  {
   "cell_type": "code",
   "execution_count": null,
   "metadata": {},
   "outputs": [],
   "source": []
  },
  {
   "cell_type": "code",
   "execution_count": null,
   "metadata": {},
   "outputs": [],
   "source": []
  },
  {
   "cell_type": "code",
   "execution_count": null,
   "metadata": {},
   "outputs": [],
   "source": []
  },
  {
   "cell_type": "code",
   "execution_count": null,
   "metadata": {},
   "outputs": [],
   "source": []
  },
  {
   "cell_type": "code",
   "execution_count": null,
   "metadata": {},
   "outputs": [],
   "source": []
  },
  {
   "cell_type": "code",
   "execution_count": null,
   "metadata": {},
   "outputs": [],
   "source": []
  },
  {
   "cell_type": "code",
   "execution_count": 25,
   "metadata": {},
   "outputs": [],
   "source": [
    "#Compare Immigration Trend for top-5 countires using stacked area plot"
   ]
  },
  {
   "cell_type": "code",
   "execution_count": null,
   "metadata": {},
   "outputs": [],
   "source": []
  },
  {
   "cell_type": "code",
   "execution_count": null,
   "metadata": {},
   "outputs": [],
   "source": []
  },
  {
   "cell_type": "code",
   "execution_count": null,
   "metadata": {},
   "outputs": [],
   "source": []
  }
 ],
 "metadata": {
  "kernelspec": {
   "display_name": "Python 3",
   "language": "python",
   "name": "python3"
  },
  "language_info": {
   "codemirror_mode": {
    "name": "ipython",
    "version": 3
   },
   "file_extension": ".py",
   "mimetype": "text/x-python",
   "name": "python",
   "nbconvert_exporter": "python",
   "pygments_lexer": "ipython3",
   "version": "3.7.6"
  }
 },
 "nbformat": 4,
 "nbformat_minor": 2
}
