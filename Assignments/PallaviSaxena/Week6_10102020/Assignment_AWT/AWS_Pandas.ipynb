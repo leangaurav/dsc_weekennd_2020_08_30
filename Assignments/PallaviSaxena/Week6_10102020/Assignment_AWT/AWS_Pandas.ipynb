{
 "cells": [
  {
   "cell_type": "markdown",
   "metadata": {},
   "source": [
    "### Description\n",
    "\n",
    "**Airport**: The IATA airport code of the selected airport.  \n",
    "**Terminal**: Terminal(s) associated with the airport selected.  \n",
    "**Date**: Arrival Date(s) of flights associated with the airport/terminal/date range selected.  \n",
    "**Hour**: Hour(s) of arriving flights during a 24 hour time period for the airport/terminal selected/date range selected.  \n",
    "**U.S. Citizen Wait Times**:\n",
    "\n",
    "    Average:The average wait time for all U.S. Citizen passengers on flights arriving in the one hour increment.\n",
    "    Max:The highest wait time for all U.S. Citizen passengers on a flight arriving in the one hour increment.\n",
    "\n",
    "**Non U.S. Citizen Wait Times**:\n",
    "\n",
    "    Average:The average wait time for all Non U.S. Citizen passengers on flights arriving in the one hour increment.\n",
    "    Max:The highest wait time for all Non U.S. Citizen passengers on a flight arriving in the one hour increment.\n",
    "\n",
    "**Wait Times**:\n",
    "\n",
    "    Average:The average wait time for all passengers on flights arriving in the one hour increment.\n",
    "    Max:The highest wait time for any passenger on a flight arriving in the one hour increment.\n",
    "\n",
    "**Number of Passengers Time Interval**:\n",
    "\n",
    "    0-15:The actual number of passengers on flights which arrived in the selected hour who were processed in (0-15) minutes.\n",
    "    16-30:The actual number of passengers on flights which arrived in the selected hour who were processed in (16-30) minutes.\n",
    "    31-45:The actual number of passengers on flights which arrived in the selected hour who were processed in (31-45) minutes.\n",
    "    46-60:The actual number of passengers on flights which arrived in the selected hour who were processed in (46-60) minutes.\n",
    "    61-90:The actual number of passengers on flights which arrived in the selected hour who were processed in (61-90) minutes.\n",
    "    91-120:The actual number of passengers on flights which arrived in the selected hour who were processed in (91-120) minutes.\n",
    "    121Plus:The actual number of passengers on flights which arrived in the selected hour who were processed in (121 Plus) minutes.\n",
    "\n",
    "**Excluded**:The actual number of passengers on flights which arrived in the selected hour who were excluded from wait time reporting.  \n",
    "**Total**:Total number of passengers aboard arriving flights during the one hour increment.  \n",
    "**Flights**:Number of flights arriving during the time period.  \n",
    "**Booths**:Number of staffed primary inspection booths open to process flights which arrived during the selected hour.   \n"
   ]
  },
  {
   "cell_type": "markdown",
   "metadata": {},
   "source": [
    "### Problems\n",
    "- read dataset and convert column headers to correct format (the first  4 rows are headers, but not all rows contain column names)\n",
    "- check datatype of each column\n",
    "- find out columns which have na values\n",
    "- check if there are any unique values in first two columns\n",
    "- based on above, are these two columns userful ?   \n",
    "  \n",
    "  \n",
    "- check if all hour values are present or not\n",
    "- drop the upper bound of  hour column\n",
    "  Ex: replace  0100 - 0200 with 0100 ...\n",
    "- check that hour values lie in range 0-2300 or not\n",
    "- convert hour column from string type to datetime type. (If this doesn't work out easily, then first solve next problem)\n",
    "- check that length of each hour value is 4, if  not, check why and fix it and then check again   \n",
    "  \n",
    "  \n",
    "- convert Date column to datetime type\n",
    "- check data types now\n",
    "- replace Hours with only time part and Date column with only date part (both should  be converted to datetime type before this)\n",
    "- check data types again\n",
    "- merge date and hour column into a new column date_time (type of date_time should be datetime not str)\n",
    "                                                          "
   ]
  },
  {
   "cell_type": "code",
   "execution_count": 1,
   "metadata": {},
   "outputs": [],
   "source": [
    "import pandas as pd\n",
    "import numpy as np"
   ]
  },
  {
   "cell_type": "markdown",
   "metadata": {},
   "source": [
    "read dataset and convert column headers to correct format (the first 4 rows are headers, but not all rows contain column names)"
   ]
  },
  {
   "cell_type": "code",
   "execution_count": 2,
   "metadata": {},
   "outputs": [],
   "source": [
    "df=pd.read_excel(\"AWT.xls\",header=[0,1,2,3])"
   ]
  },
  {
   "cell_type": "code",
   "execution_count": 3,
   "metadata": {},
   "outputs": [
    {
     "data": {
      "text/html": [
       "<div>\n",
       "<style scoped>\n",
       "    .dataframe tbody tr th:only-of-type {\n",
       "        vertical-align: middle;\n",
       "    }\n",
       "\n",
       "    .dataframe tbody tr th {\n",
       "        vertical-align: top;\n",
       "    }\n",
       "\n",
       "    .dataframe thead tr th {\n",
       "        text-align: left;\n",
       "    }\n",
       "</style>\n",
       "<table border=\"1\" class=\"dataframe\">\n",
       "  <thead>\n",
       "    <tr>\n",
       "      <th></th>\n",
       "      <th>Airport</th>\n",
       "      <th>Terminal</th>\n",
       "      <th>Date</th>\n",
       "      <th>Hour</th>\n",
       "      <th colspan=\"2\" halign=\"left\">U.S. Citizen</th>\n",
       "      <th colspan=\"2\" halign=\"left\">Non U.S. Citizen</th>\n",
       "      <th colspan=\"13\" halign=\"left\">All</th>\n",
       "    </tr>\n",
       "    <tr>\n",
       "      <th></th>\n",
       "      <th>Unnamed: 0_level_1</th>\n",
       "      <th>Unnamed: 1_level_1</th>\n",
       "      <th>Unnamed: 2_level_1</th>\n",
       "      <th>Unnamed: 3_level_1</th>\n",
       "      <th>Unnamed: 4_level_1</th>\n",
       "      <th>Unnamed: 5_level_1</th>\n",
       "      <th>Unnamed: 6_level_1</th>\n",
       "      <th>Unnamed: 7_level_1</th>\n",
       "      <th colspan=\"2\" halign=\"left\">Wait Times</th>\n",
       "      <th>...</th>\n",
       "      <th colspan=\"10\" halign=\"left\">Number Of Passengers Time Interval</th>\n",
       "    </tr>\n",
       "    <tr>\n",
       "      <th></th>\n",
       "      <th>Unnamed: 0_level_2</th>\n",
       "      <th>Unnamed: 1_level_2</th>\n",
       "      <th>Unnamed: 2_level_2</th>\n",
       "      <th>Unnamed: 3_level_2</th>\n",
       "      <th>Average Wait</th>\n",
       "      <th>Max Wait</th>\n",
       "      <th>Average Wait</th>\n",
       "      <th>Max Wait</th>\n",
       "      <th>Average Wait</th>\n",
       "      <th>Max Wait</th>\n",
       "      <th>...</th>\n",
       "      <th>16-30</th>\n",
       "      <th>31-45</th>\n",
       "      <th>46-60</th>\n",
       "      <th>61-90</th>\n",
       "      <th>91-120</th>\n",
       "      <th>120 plus</th>\n",
       "      <th>Excluded</th>\n",
       "      <th>Total</th>\n",
       "      <th>Flights</th>\n",
       "      <th>Booths</th>\n",
       "    </tr>\n",
       "    <tr>\n",
       "      <th></th>\n",
       "      <th>Unnamed: 0_level_3</th>\n",
       "      <th>Unnamed: 1_level_3</th>\n",
       "      <th>Unnamed: 2_level_3</th>\n",
       "      <th>Unnamed: 3_level_3</th>\n",
       "      <th>Time</th>\n",
       "      <th>Time</th>\n",
       "      <th>Time</th>\n",
       "      <th>Time</th>\n",
       "      <th>Time</th>\n",
       "      <th>Time</th>\n",
       "      <th>...</th>\n",
       "      <th>Unnamed: 11_level_3</th>\n",
       "      <th>Unnamed: 12_level_3</th>\n",
       "      <th>Unnamed: 13_level_3</th>\n",
       "      <th>Unnamed: 14_level_3</th>\n",
       "      <th>Unnamed: 15_level_3</th>\n",
       "      <th>Unnamed: 16_level_3</th>\n",
       "      <th>Unnamed: 17_level_3</th>\n",
       "      <th>Unnamed: 18_level_3</th>\n",
       "      <th>Unnamed: 19_level_3</th>\n",
       "      <th>Unnamed: 20_level_3</th>\n",
       "    </tr>\n",
       "  </thead>\n",
       "  <tbody>\n",
       "    <tr>\n",
       "      <th>0</th>\n",
       "      <td>ORD</td>\n",
       "      <td>Terminal 5</td>\n",
       "      <td>2017-01-01 00:00:00</td>\n",
       "      <td>0300 - 0400</td>\n",
       "      <td>0</td>\n",
       "      <td>0</td>\n",
       "      <td>0</td>\n",
       "      <td>0</td>\n",
       "      <td>0</td>\n",
       "      <td>0</td>\n",
       "      <td>...</td>\n",
       "      <td>0</td>\n",
       "      <td>0</td>\n",
       "      <td>0</td>\n",
       "      <td>0</td>\n",
       "      <td>0</td>\n",
       "      <td>0</td>\n",
       "      <td>7</td>\n",
       "      <td>7</td>\n",
       "      <td>1</td>\n",
       "      <td>0</td>\n",
       "    </tr>\n",
       "    <tr>\n",
       "      <th>1</th>\n",
       "      <td>ORD</td>\n",
       "      <td>Terminal 5</td>\n",
       "      <td>2017-01-01 00:00:00</td>\n",
       "      <td>0400 - 0500</td>\n",
       "      <td>18</td>\n",
       "      <td>51</td>\n",
       "      <td>28</td>\n",
       "      <td>51</td>\n",
       "      <td>20</td>\n",
       "      <td>51</td>\n",
       "      <td>...</td>\n",
       "      <td>160</td>\n",
       "      <td>60</td>\n",
       "      <td>8</td>\n",
       "      <td>0</td>\n",
       "      <td>0</td>\n",
       "      <td>0</td>\n",
       "      <td>13</td>\n",
       "      <td>362</td>\n",
       "      <td>3</td>\n",
       "      <td>10</td>\n",
       "    </tr>\n",
       "    <tr>\n",
       "      <th>2</th>\n",
       "      <td>ORD</td>\n",
       "      <td>Terminal 5</td>\n",
       "      <td>2017-01-01 00:00:00</td>\n",
       "      <td>0600 - 0700</td>\n",
       "      <td>11</td>\n",
       "      <td>49</td>\n",
       "      <td>27</td>\n",
       "      <td>49</td>\n",
       "      <td>20</td>\n",
       "      <td>49</td>\n",
       "      <td>...</td>\n",
       "      <td>81</td>\n",
       "      <td>64</td>\n",
       "      <td>19</td>\n",
       "      <td>0</td>\n",
       "      <td>0</td>\n",
       "      <td>0</td>\n",
       "      <td>10</td>\n",
       "      <td>328</td>\n",
       "      <td>1</td>\n",
       "      <td>10</td>\n",
       "    </tr>\n",
       "    <tr>\n",
       "      <th>3</th>\n",
       "      <td>ORD</td>\n",
       "      <td>Terminal 5</td>\n",
       "      <td>2017-01-01 00:00:00</td>\n",
       "      <td>0700 - 0800</td>\n",
       "      <td>7</td>\n",
       "      <td>24</td>\n",
       "      <td>12</td>\n",
       "      <td>26</td>\n",
       "      <td>10</td>\n",
       "      <td>26</td>\n",
       "      <td>...</td>\n",
       "      <td>88</td>\n",
       "      <td>0</td>\n",
       "      <td>0</td>\n",
       "      <td>0</td>\n",
       "      <td>0</td>\n",
       "      <td>0</td>\n",
       "      <td>10</td>\n",
       "      <td>370</td>\n",
       "      <td>2</td>\n",
       "      <td>12</td>\n",
       "    </tr>\n",
       "    <tr>\n",
       "      <th>4</th>\n",
       "      <td>ORD</td>\n",
       "      <td>Terminal 5</td>\n",
       "      <td>2017-01-01 00:00:00</td>\n",
       "      <td>0800 - 0900</td>\n",
       "      <td>5</td>\n",
       "      <td>25</td>\n",
       "      <td>13</td>\n",
       "      <td>37</td>\n",
       "      <td>10</td>\n",
       "      <td>37</td>\n",
       "      <td>...</td>\n",
       "      <td>121</td>\n",
       "      <td>16</td>\n",
       "      <td>0</td>\n",
       "      <td>0</td>\n",
       "      <td>0</td>\n",
       "      <td>0</td>\n",
       "      <td>11</td>\n",
       "      <td>446</td>\n",
       "      <td>2</td>\n",
       "      <td>12</td>\n",
       "    </tr>\n",
       "  </tbody>\n",
       "</table>\n",
       "<p>5 rows × 21 columns</p>\n",
       "</div>"
      ],
      "text/plain": [
       "             Airport           Terminal                 Date  \\\n",
       "  Unnamed: 0_level_1 Unnamed: 1_level_1   Unnamed: 2_level_1   \n",
       "  Unnamed: 0_level_2 Unnamed: 1_level_2   Unnamed: 2_level_2   \n",
       "  Unnamed: 0_level_3 Unnamed: 1_level_3   Unnamed: 2_level_3   \n",
       "0                ORD         Terminal 5  2017-01-01 00:00:00   \n",
       "1                ORD         Terminal 5  2017-01-01 00:00:00   \n",
       "2                ORD         Terminal 5  2017-01-01 00:00:00   \n",
       "3                ORD         Terminal 5  2017-01-01 00:00:00   \n",
       "4                ORD         Terminal 5  2017-01-01 00:00:00   \n",
       "\n",
       "                Hour       U.S. Citizen                      Non U.S. Citizen  \\\n",
       "  Unnamed: 3_level_1 Unnamed: 4_level_1 Unnamed: 5_level_1 Unnamed: 6_level_1   \n",
       "  Unnamed: 3_level_2       Average Wait           Max Wait       Average Wait   \n",
       "  Unnamed: 3_level_3               Time               Time               Time   \n",
       "0        0300 - 0400                  0                  0                  0   \n",
       "1        0400 - 0500                 18                 51                 28   \n",
       "2        0600 - 0700                 11                 49                 27   \n",
       "3        0700 - 0800                  7                 24                 12   \n",
       "4        0800 - 0900                  5                 25                 13   \n",
       "\n",
       "                              All           ...  \\\n",
       "  Unnamed: 7_level_1   Wait Times           ...   \n",
       "            Max Wait Average Wait Max Wait  ...   \n",
       "                Time         Time     Time  ...   \n",
       "0                  0            0        0  ...   \n",
       "1                 51           20       51  ...   \n",
       "2                 49           20       49  ...   \n",
       "3                 26           10       26  ...   \n",
       "4                 37           10       37  ...   \n",
       "\n",
       "                                                                              \\\n",
       "  Number Of Passengers Time Interval                                           \n",
       "                               16-30               31-45               46-60   \n",
       "                 Unnamed: 11_level_3 Unnamed: 12_level_3 Unnamed: 13_level_3   \n",
       "0                                  0                   0                   0   \n",
       "1                                160                  60                   8   \n",
       "2                                 81                  64                  19   \n",
       "3                                 88                   0                   0   \n",
       "4                                121                  16                   0   \n",
       "\n",
       "                                                               \\\n",
       "                                                                \n",
       "                61-90              91-120            120 plus   \n",
       "  Unnamed: 14_level_3 Unnamed: 15_level_3 Unnamed: 16_level_3   \n",
       "0                   0                   0                   0   \n",
       "1                   0                   0                   0   \n",
       "2                   0                   0                   0   \n",
       "3                   0                   0                   0   \n",
       "4                   0                   0                   0   \n",
       "\n",
       "                                                               \\\n",
       "                                                                \n",
       "             Excluded               Total             Flights   \n",
       "  Unnamed: 17_level_3 Unnamed: 18_level_3 Unnamed: 19_level_3   \n",
       "0                   7                   7                   1   \n",
       "1                  13                 362                   3   \n",
       "2                  10                 328                   1   \n",
       "3                  10                 370                   2   \n",
       "4                  11                 446                   2   \n",
       "\n",
       "                       \n",
       "                       \n",
       "               Booths  \n",
       "  Unnamed: 20_level_3  \n",
       "0                   0  \n",
       "1                  10  \n",
       "2                  10  \n",
       "3                  12  \n",
       "4                  12  \n",
       "\n",
       "[5 rows x 21 columns]"
      ]
     },
     "execution_count": 3,
     "metadata": {},
     "output_type": "execute_result"
    }
   ],
   "source": [
    "df.head()"
   ]
  },
  {
   "cell_type": "code",
   "execution_count": 4,
   "metadata": {},
   "outputs": [
    {
     "data": {
      "text/plain": [
       "MultiIndex([(         'Airport',                 'Unnamed: 0_level_1', ...),\n",
       "            (        'Terminal',                 'Unnamed: 1_level_1', ...),\n",
       "            (            'Date',                 'Unnamed: 2_level_1', ...),\n",
       "            (            'Hour',                 'Unnamed: 3_level_1', ...),\n",
       "            (    'U.S. Citizen',                 'Unnamed: 4_level_1', ...),\n",
       "            (    'U.S. Citizen',                 'Unnamed: 5_level_1', ...),\n",
       "            ('Non U.S. Citizen',                 'Unnamed: 6_level_1', ...),\n",
       "            ('Non U.S. Citizen',                 'Unnamed: 7_level_1', ...),\n",
       "            (             'All',                         'Wait Times', ...),\n",
       "            (             'All',                         'Wait Times', ...),\n",
       "            (             'All', 'Number Of Passengers Time Interval', ...),\n",
       "            (             'All', 'Number Of Passengers Time Interval', ...),\n",
       "            (             'All', 'Number Of Passengers Time Interval', ...),\n",
       "            (             'All', 'Number Of Passengers Time Interval', ...),\n",
       "            (             'All', 'Number Of Passengers Time Interval', ...),\n",
       "            (             'All', 'Number Of Passengers Time Interval', ...),\n",
       "            (             'All', 'Number Of Passengers Time Interval', ...),\n",
       "            (             'All', 'Number Of Passengers Time Interval', ...),\n",
       "            (             'All', 'Number Of Passengers Time Interval', ...),\n",
       "            (             'All', 'Number Of Passengers Time Interval', ...),\n",
       "            (             'All', 'Number Of Passengers Time Interval', ...)],\n",
       "           )"
      ]
     },
     "execution_count": 4,
     "metadata": {},
     "output_type": "execute_result"
    }
   ],
   "source": [
    "df.columns"
   ]
  },
  {
   "cell_type": "code",
   "execution_count": 5,
   "metadata": {},
   "outputs": [],
   "source": [
    "df=df.rename(columns=lambda x:x if not 'Unnamed' in str(x) else '')"
   ]
  },
  {
   "cell_type": "code",
   "execution_count": 6,
   "metadata": {},
   "outputs": [
    {
     "data": {
      "text/plain": [
       "MultiIndex([(         'Airport',                                   '', ...),\n",
       "            (        'Terminal',                                   '', ...),\n",
       "            (            'Date',                                   '', ...),\n",
       "            (            'Hour',                                   '', ...),\n",
       "            (    'U.S. Citizen',                                   '', ...),\n",
       "            (    'U.S. Citizen',                                   '', ...),\n",
       "            ('Non U.S. Citizen',                                   '', ...),\n",
       "            ('Non U.S. Citizen',                                   '', ...),\n",
       "            (             'All',                         'Wait Times', ...),\n",
       "            (             'All',                         'Wait Times', ...),\n",
       "            (             'All', 'Number Of Passengers Time Interval', ...),\n",
       "            (             'All', 'Number Of Passengers Time Interval', ...),\n",
       "            (             'All', 'Number Of Passengers Time Interval', ...),\n",
       "            (             'All', 'Number Of Passengers Time Interval', ...),\n",
       "            (             'All', 'Number Of Passengers Time Interval', ...),\n",
       "            (             'All', 'Number Of Passengers Time Interval', ...),\n",
       "            (             'All', 'Number Of Passengers Time Interval', ...),\n",
       "            (             'All', 'Number Of Passengers Time Interval', ...),\n",
       "            (             'All', 'Number Of Passengers Time Interval', ...),\n",
       "            (             'All', 'Number Of Passengers Time Interval', ...),\n",
       "            (             'All', 'Number Of Passengers Time Interval', ...)],\n",
       "           )"
      ]
     },
     "execution_count": 6,
     "metadata": {},
     "output_type": "execute_result"
    }
   ],
   "source": [
    "df.columns"
   ]
  },
  {
   "cell_type": "markdown",
   "metadata": {},
   "source": [
    "check datatype of each column"
   ]
  },
  {
   "cell_type": "code",
   "execution_count": 7,
   "metadata": {},
   "outputs": [
    {
     "data": {
      "text/plain": [
       "Airport                                                                     object\n",
       "Terminal                                                                    object\n",
       "Date                                                                        object\n",
       "Hour                                                                        object\n",
       "U.S. Citizen                                          Average Wait  Time     int64\n",
       "                                                      Max Wait      Time     int64\n",
       "Non U.S. Citizen                                      Average Wait  Time     int64\n",
       "                                                      Max Wait      Time     int64\n",
       "All               Wait Times                          Average Wait  Time     int64\n",
       "                                                      Max Wait      Time     int64\n",
       "                  Number Of Passengers Time Interval  0-15                   int64\n",
       "                                                      16-30                  int64\n",
       "                                                      31-45                  int64\n",
       "                                                      46-60                  int64\n",
       "                                                      61-90                  int64\n",
       "                                                      91-120                 int64\n",
       "                                                      120 plus               int64\n",
       "                                                      Excluded               int64\n",
       "                                                      Total                  int64\n",
       "                                                      Flights                int64\n",
       "                                                      Booths                 int64\n",
       "dtype: object"
      ]
     },
     "execution_count": 7,
     "metadata": {},
     "output_type": "execute_result"
    }
   ],
   "source": [
    "df.dtypes"
   ]
  },
  {
   "cell_type": "markdown",
   "metadata": {},
   "source": [
    "find out columns which have na values"
   ]
  },
  {
   "cell_type": "code",
   "execution_count": 8,
   "metadata": {},
   "outputs": [
    {
     "data": {
      "text/plain": [
       "False"
      ]
     },
     "execution_count": 8,
     "metadata": {},
     "output_type": "execute_result"
    }
   ],
   "source": [
    "df.isna().any().any()"
   ]
  },
  {
   "cell_type": "code",
   "execution_count": 9,
   "metadata": {},
   "outputs": [
    {
     "data": {
      "text/plain": [
       "Airport                                                                        1\n",
       "Terminal                                                                       1\n",
       "Date                                                                         365\n",
       "Hour                                                                          24\n",
       "U.S. Citizen                                          Average Wait  Time      44\n",
       "                                                      Max Wait      Time     154\n",
       "Non U.S. Citizen                                      Average Wait  Time      95\n",
       "                                                      Max Wait      Time     175\n",
       "All               Wait Times                          Average Wait  Time      63\n",
       "                                                      Max Wait      Time     175\n",
       "                  Number Of Passengers Time Interval  0-15                  1373\n",
       "                                                      16-30                  780\n",
       "                                                      31-45                  414\n",
       "                                                      46-60                  264\n",
       "                                                      61-90                  283\n",
       "                                                      91-120                 149\n",
       "                                                      120 plus                73\n",
       "                                                      Excluded               142\n",
       "                                                      Total                 2040\n",
       "                                                      Flights                 17\n",
       "                                                      Booths                  41\n",
       "dtype: int64"
      ]
     },
     "execution_count": 9,
     "metadata": {},
     "output_type": "execute_result"
    }
   ],
   "source": [
    "df.nunique()"
   ]
  },
  {
   "cell_type": "code",
   "execution_count": 10,
   "metadata": {},
   "outputs": [
    {
     "data": {
      "text/html": [
       "<div>\n",
       "<style scoped>\n",
       "    .dataframe tbody tr th:only-of-type {\n",
       "        vertical-align: middle;\n",
       "    }\n",
       "\n",
       "    .dataframe tbody tr th {\n",
       "        vertical-align: top;\n",
       "    }\n",
       "\n",
       "    .dataframe thead tr th {\n",
       "        text-align: left;\n",
       "    }\n",
       "</style>\n",
       "<table border=\"1\" class=\"dataframe\">\n",
       "  <thead>\n",
       "    <tr>\n",
       "      <th></th>\n",
       "      <th></th>\n",
       "      <th>Airport</th>\n",
       "      <th colspan=\"13\" halign=\"left\">All</th>\n",
       "      <th>Date</th>\n",
       "      <th>Hour</th>\n",
       "      <th colspan=\"2\" halign=\"left\">Non U.S. Citizen</th>\n",
       "      <th>Terminal</th>\n",
       "      <th colspan=\"2\" halign=\"left\">U.S. Citizen</th>\n",
       "    </tr>\n",
       "    <tr>\n",
       "      <th></th>\n",
       "      <th></th>\n",
       "      <th></th>\n",
       "      <th colspan=\"11\" halign=\"left\">Number Of Passengers Time Interval</th>\n",
       "      <th colspan=\"2\" halign=\"left\">Wait Times</th>\n",
       "      <th></th>\n",
       "      <th></th>\n",
       "      <th colspan=\"2\" halign=\"left\"></th>\n",
       "      <th></th>\n",
       "      <th colspan=\"2\" halign=\"left\"></th>\n",
       "    </tr>\n",
       "    <tr>\n",
       "      <th></th>\n",
       "      <th></th>\n",
       "      <th></th>\n",
       "      <th>0-15</th>\n",
       "      <th>120 plus</th>\n",
       "      <th>16-30</th>\n",
       "      <th>31-45</th>\n",
       "      <th>46-60</th>\n",
       "      <th>61-90</th>\n",
       "      <th>91-120</th>\n",
       "      <th>Booths</th>\n",
       "      <th>Excluded</th>\n",
       "      <th>...</th>\n",
       "      <th>Total</th>\n",
       "      <th>Average Wait</th>\n",
       "      <th>Max Wait</th>\n",
       "      <th></th>\n",
       "      <th></th>\n",
       "      <th>Average Wait</th>\n",
       "      <th>Max Wait</th>\n",
       "      <th></th>\n",
       "      <th>Average Wait</th>\n",
       "      <th>Max Wait</th>\n",
       "    </tr>\n",
       "  </thead>\n",
       "  <tbody>\n",
       "    <tr>\n",
       "      <th rowspan=\"2\" valign=\"top\">0</th>\n",
       "      <th></th>\n",
       "      <td>ORD</td>\n",
       "      <td>0.0</td>\n",
       "      <td>0.0</td>\n",
       "      <td>0.0</td>\n",
       "      <td>0.0</td>\n",
       "      <td>0.0</td>\n",
       "      <td>0.0</td>\n",
       "      <td>0.0</td>\n",
       "      <td>0.0</td>\n",
       "      <td>7.0</td>\n",
       "      <td>...</td>\n",
       "      <td>7.0</td>\n",
       "      <td>NaN</td>\n",
       "      <td>NaN</td>\n",
       "      <td>2017-01-01 00:00:00</td>\n",
       "      <td>0300 - 0400</td>\n",
       "      <td>NaN</td>\n",
       "      <td>NaN</td>\n",
       "      <td>Terminal 5</td>\n",
       "      <td>NaN</td>\n",
       "      <td>NaN</td>\n",
       "    </tr>\n",
       "    <tr>\n",
       "      <th>Time</th>\n",
       "      <td>NaN</td>\n",
       "      <td>NaN</td>\n",
       "      <td>NaN</td>\n",
       "      <td>NaN</td>\n",
       "      <td>NaN</td>\n",
       "      <td>NaN</td>\n",
       "      <td>NaN</td>\n",
       "      <td>NaN</td>\n",
       "      <td>NaN</td>\n",
       "      <td>NaN</td>\n",
       "      <td>...</td>\n",
       "      <td>NaN</td>\n",
       "      <td>0.0</td>\n",
       "      <td>0.0</td>\n",
       "      <td>NaN</td>\n",
       "      <td>NaN</td>\n",
       "      <td>0.0</td>\n",
       "      <td>0.0</td>\n",
       "      <td>NaN</td>\n",
       "      <td>0.0</td>\n",
       "      <td>0.0</td>\n",
       "    </tr>\n",
       "    <tr>\n",
       "      <th rowspan=\"2\" valign=\"top\">1</th>\n",
       "      <th></th>\n",
       "      <td>ORD</td>\n",
       "      <td>121.0</td>\n",
       "      <td>0.0</td>\n",
       "      <td>160.0</td>\n",
       "      <td>60.0</td>\n",
       "      <td>8.0</td>\n",
       "      <td>0.0</td>\n",
       "      <td>0.0</td>\n",
       "      <td>10.0</td>\n",
       "      <td>13.0</td>\n",
       "      <td>...</td>\n",
       "      <td>362.0</td>\n",
       "      <td>NaN</td>\n",
       "      <td>NaN</td>\n",
       "      <td>2017-01-01 00:00:00</td>\n",
       "      <td>0400 - 0500</td>\n",
       "      <td>NaN</td>\n",
       "      <td>NaN</td>\n",
       "      <td>Terminal 5</td>\n",
       "      <td>NaN</td>\n",
       "      <td>NaN</td>\n",
       "    </tr>\n",
       "    <tr>\n",
       "      <th>Time</th>\n",
       "      <td>NaN</td>\n",
       "      <td>NaN</td>\n",
       "      <td>NaN</td>\n",
       "      <td>NaN</td>\n",
       "      <td>NaN</td>\n",
       "      <td>NaN</td>\n",
       "      <td>NaN</td>\n",
       "      <td>NaN</td>\n",
       "      <td>NaN</td>\n",
       "      <td>NaN</td>\n",
       "      <td>...</td>\n",
       "      <td>NaN</td>\n",
       "      <td>20.0</td>\n",
       "      <td>51.0</td>\n",
       "      <td>NaN</td>\n",
       "      <td>NaN</td>\n",
       "      <td>28.0</td>\n",
       "      <td>51.0</td>\n",
       "      <td>NaN</td>\n",
       "      <td>18.0</td>\n",
       "      <td>51.0</td>\n",
       "    </tr>\n",
       "    <tr>\n",
       "      <th>2</th>\n",
       "      <th></th>\n",
       "      <td>ORD</td>\n",
       "      <td>154.0</td>\n",
       "      <td>0.0</td>\n",
       "      <td>81.0</td>\n",
       "      <td>64.0</td>\n",
       "      <td>19.0</td>\n",
       "      <td>0.0</td>\n",
       "      <td>0.0</td>\n",
       "      <td>10.0</td>\n",
       "      <td>10.0</td>\n",
       "      <td>...</td>\n",
       "      <td>328.0</td>\n",
       "      <td>NaN</td>\n",
       "      <td>NaN</td>\n",
       "      <td>2017-01-01 00:00:00</td>\n",
       "      <td>0600 - 0700</td>\n",
       "      <td>NaN</td>\n",
       "      <td>NaN</td>\n",
       "      <td>Terminal 5</td>\n",
       "      <td>NaN</td>\n",
       "      <td>NaN</td>\n",
       "    </tr>\n",
       "    <tr>\n",
       "      <th>...</th>\n",
       "      <th>...</th>\n",
       "      <td>...</td>\n",
       "      <td>...</td>\n",
       "      <td>...</td>\n",
       "      <td>...</td>\n",
       "      <td>...</td>\n",
       "      <td>...</td>\n",
       "      <td>...</td>\n",
       "      <td>...</td>\n",
       "      <td>...</td>\n",
       "      <td>...</td>\n",
       "      <td>...</td>\n",
       "      <td>...</td>\n",
       "      <td>...</td>\n",
       "      <td>...</td>\n",
       "      <td>...</td>\n",
       "      <td>...</td>\n",
       "      <td>...</td>\n",
       "      <td>...</td>\n",
       "      <td>...</td>\n",
       "      <td>...</td>\n",
       "      <td>...</td>\n",
       "    </tr>\n",
       "    <tr>\n",
       "      <th>6701</th>\n",
       "      <th>Time</th>\n",
       "      <td>NaN</td>\n",
       "      <td>NaN</td>\n",
       "      <td>NaN</td>\n",
       "      <td>NaN</td>\n",
       "      <td>NaN</td>\n",
       "      <td>NaN</td>\n",
       "      <td>NaN</td>\n",
       "      <td>NaN</td>\n",
       "      <td>NaN</td>\n",
       "      <td>NaN</td>\n",
       "      <td>...</td>\n",
       "      <td>NaN</td>\n",
       "      <td>7.0</td>\n",
       "      <td>18.0</td>\n",
       "      <td>NaN</td>\n",
       "      <td>NaN</td>\n",
       "      <td>8.0</td>\n",
       "      <td>18.0</td>\n",
       "      <td>NaN</td>\n",
       "      <td>7.0</td>\n",
       "      <td>18.0</td>\n",
       "    </tr>\n",
       "    <tr>\n",
       "      <th rowspan=\"2\" valign=\"top\">6702</th>\n",
       "      <th></th>\n",
       "      <td>ORD</td>\n",
       "      <td>4.0</td>\n",
       "      <td>0.0</td>\n",
       "      <td>119.0</td>\n",
       "      <td>38.0</td>\n",
       "      <td>0.0</td>\n",
       "      <td>0.0</td>\n",
       "      <td>0.0</td>\n",
       "      <td>3.0</td>\n",
       "      <td>6.0</td>\n",
       "      <td>...</td>\n",
       "      <td>167.0</td>\n",
       "      <td>NaN</td>\n",
       "      <td>NaN</td>\n",
       "      <td>12/31/2017</td>\n",
       "      <td>2100 - 2200</td>\n",
       "      <td>NaN</td>\n",
       "      <td>NaN</td>\n",
       "      <td>Terminal 5</td>\n",
       "      <td>NaN</td>\n",
       "      <td>NaN</td>\n",
       "    </tr>\n",
       "    <tr>\n",
       "      <th>Time</th>\n",
       "      <td>NaN</td>\n",
       "      <td>NaN</td>\n",
       "      <td>NaN</td>\n",
       "      <td>NaN</td>\n",
       "      <td>NaN</td>\n",
       "      <td>NaN</td>\n",
       "      <td>NaN</td>\n",
       "      <td>NaN</td>\n",
       "      <td>NaN</td>\n",
       "      <td>NaN</td>\n",
       "      <td>...</td>\n",
       "      <td>NaN</td>\n",
       "      <td>28.0</td>\n",
       "      <td>39.0</td>\n",
       "      <td>NaN</td>\n",
       "      <td>NaN</td>\n",
       "      <td>31.0</td>\n",
       "      <td>39.0</td>\n",
       "      <td>NaN</td>\n",
       "      <td>28.0</td>\n",
       "      <td>39.0</td>\n",
       "    </tr>\n",
       "    <tr>\n",
       "      <th rowspan=\"2\" valign=\"top\">6703</th>\n",
       "      <th></th>\n",
       "      <td>ORD</td>\n",
       "      <td>367.0</td>\n",
       "      <td>0.0</td>\n",
       "      <td>66.0</td>\n",
       "      <td>0.0</td>\n",
       "      <td>0.0</td>\n",
       "      <td>0.0</td>\n",
       "      <td>0.0</td>\n",
       "      <td>8.0</td>\n",
       "      <td>18.0</td>\n",
       "      <td>...</td>\n",
       "      <td>451.0</td>\n",
       "      <td>NaN</td>\n",
       "      <td>NaN</td>\n",
       "      <td>12/31/2017</td>\n",
       "      <td>2300 - 0000</td>\n",
       "      <td>NaN</td>\n",
       "      <td>NaN</td>\n",
       "      <td>Terminal 5</td>\n",
       "      <td>NaN</td>\n",
       "      <td>NaN</td>\n",
       "    </tr>\n",
       "    <tr>\n",
       "      <th>Time</th>\n",
       "      <td>NaN</td>\n",
       "      <td>NaN</td>\n",
       "      <td>NaN</td>\n",
       "      <td>NaN</td>\n",
       "      <td>NaN</td>\n",
       "      <td>NaN</td>\n",
       "      <td>NaN</td>\n",
       "      <td>NaN</td>\n",
       "      <td>NaN</td>\n",
       "      <td>NaN</td>\n",
       "      <td>...</td>\n",
       "      <td>NaN</td>\n",
       "      <td>8.0</td>\n",
       "      <td>25.0</td>\n",
       "      <td>NaN</td>\n",
       "      <td>NaN</td>\n",
       "      <td>11.0</td>\n",
       "      <td>25.0</td>\n",
       "      <td>NaN</td>\n",
       "      <td>7.0</td>\n",
       "      <td>25.0</td>\n",
       "    </tr>\n",
       "  </tbody>\n",
       "</table>\n",
       "<p>13408 rows × 21 columns</p>\n",
       "</div>"
      ],
      "text/plain": [
       "          Airport                                All                        \\\n",
       "                  Number Of Passengers Time Interval                         \n",
       "                                                0-15 120 plus  16-30 31-45   \n",
       "0             ORD                                0.0      0.0    0.0   0.0   \n",
       "     Time     NaN                                NaN      NaN    NaN   NaN   \n",
       "1             ORD                              121.0      0.0  160.0  60.0   \n",
       "     Time     NaN                                NaN      NaN    NaN   NaN   \n",
       "2             ORD                              154.0      0.0   81.0  64.0   \n",
       "...           ...                                ...      ...    ...   ...   \n",
       "6701 Time     NaN                                NaN      NaN    NaN   NaN   \n",
       "6702          ORD                                4.0      0.0  119.0  38.0   \n",
       "     Time     NaN                                NaN      NaN    NaN   NaN   \n",
       "6703          ORD                              367.0      0.0   66.0   0.0   \n",
       "     Time     NaN                                NaN      NaN    NaN   NaN   \n",
       "\n",
       "                                              ...                      \\\n",
       "                                              ...          Wait Times   \n",
       "          46-60 61-90 91-120 Booths Excluded  ...  Total Average Wait   \n",
       "0           0.0   0.0    0.0    0.0      7.0  ...    7.0          NaN   \n",
       "     Time   NaN   NaN    NaN    NaN      NaN  ...    NaN          0.0   \n",
       "1           8.0   0.0    0.0   10.0     13.0  ...  362.0          NaN   \n",
       "     Time   NaN   NaN    NaN    NaN      NaN  ...    NaN         20.0   \n",
       "2          19.0   0.0    0.0   10.0     10.0  ...  328.0          NaN   \n",
       "...         ...   ...    ...    ...      ...  ...    ...          ...   \n",
       "6701 Time   NaN   NaN    NaN    NaN      NaN  ...    NaN          7.0   \n",
       "6702        0.0   0.0    0.0    3.0      6.0  ...  167.0          NaN   \n",
       "     Time   NaN   NaN    NaN    NaN      NaN  ...    NaN         28.0   \n",
       "6703        0.0   0.0    0.0    8.0     18.0  ...  451.0          NaN   \n",
       "     Time   NaN   NaN    NaN    NaN      NaN  ...    NaN          8.0   \n",
       "\n",
       "                                   Date         Hour Non U.S. Citizen  \\\n",
       "                                                                        \n",
       "          Max Wait                                       Average Wait   \n",
       "0              NaN  2017-01-01 00:00:00  0300 - 0400              NaN   \n",
       "     Time      0.0                  NaN          NaN              0.0   \n",
       "1              NaN  2017-01-01 00:00:00  0400 - 0500              NaN   \n",
       "     Time     51.0                  NaN          NaN             28.0   \n",
       "2              NaN  2017-01-01 00:00:00  0600 - 0700              NaN   \n",
       "...            ...                  ...          ...              ...   \n",
       "6701 Time     18.0                  NaN          NaN              8.0   \n",
       "6702           NaN           12/31/2017  2100 - 2200              NaN   \n",
       "     Time     39.0                  NaN          NaN             31.0   \n",
       "6703           NaN           12/31/2017  2300 - 0000              NaN   \n",
       "     Time     25.0                  NaN          NaN             11.0   \n",
       "\n",
       "                      Terminal U.S. Citizen           \n",
       "                                                      \n",
       "          Max Wait             Average Wait Max Wait  \n",
       "0              NaN  Terminal 5          NaN      NaN  \n",
       "     Time      0.0         NaN          0.0      0.0  \n",
       "1              NaN  Terminal 5          NaN      NaN  \n",
       "     Time     51.0         NaN         18.0     51.0  \n",
       "2              NaN  Terminal 5          NaN      NaN  \n",
       "...            ...         ...          ...      ...  \n",
       "6701 Time     18.0         NaN          7.0     18.0  \n",
       "6702           NaN  Terminal 5          NaN      NaN  \n",
       "     Time     39.0         NaN         28.0     39.0  \n",
       "6703           NaN  Terminal 5          NaN      NaN  \n",
       "     Time     25.0         NaN          7.0     25.0  \n",
       "\n",
       "[13408 rows x 21 columns]"
      ]
     },
     "execution_count": 10,
     "metadata": {},
     "output_type": "execute_result"
    }
   ],
   "source": [
    "df.stack()"
   ]
  },
  {
   "cell_type": "code",
   "execution_count": null,
   "metadata": {},
   "outputs": [],
   "source": []
  },
  {
   "cell_type": "markdown",
   "metadata": {},
   "source": [
    "check if there are any unique values in first two columns"
   ]
  },
  {
   "cell_type": "code",
   "execution_count": 11,
   "metadata": {},
   "outputs": [
    {
     "data": {
      "text/plain": [
       "array(['ORD'], dtype=object)"
      ]
     },
     "execution_count": 11,
     "metadata": {},
     "output_type": "execute_result"
    }
   ],
   "source": [
    "df['Airport'].unique()"
   ]
  },
  {
   "cell_type": "code",
   "execution_count": 12,
   "metadata": {},
   "outputs": [
    {
     "data": {
      "text/plain": [
       "array(['Terminal 5'], dtype=object)"
      ]
     },
     "execution_count": 12,
     "metadata": {},
     "output_type": "execute_result"
    }
   ],
   "source": [
    "df['Terminal'].unique()"
   ]
  },
  {
   "cell_type": "code",
   "execution_count": 13,
   "metadata": {},
   "outputs": [
    {
     "data": {
      "text/plain": [
       "Airport           1\n",
       "Terminal          1\n",
       "dtype: int64"
      ]
     },
     "execution_count": 13,
     "metadata": {},
     "output_type": "execute_result"
    }
   ],
   "source": [
    "df[['Airport','Terminal']].nunique()"
   ]
  },
  {
   "cell_type": "markdown",
   "metadata": {},
   "source": [
    "based on above, are these two columns userful ?"
   ]
  },
  {
   "cell_type": "code",
   "execution_count": 14,
   "metadata": {},
   "outputs": [
    {
     "name": "stderr",
     "output_type": "stream",
     "text": [
      "C:\\Users\\pallavi.saxena\\Anaconda3\\lib\\site-packages\\pandas\\core\\generic.py:3884: PerformanceWarning: dropping on a non-lexsorted multi-index without a level parameter may impact performance.\n",
      "  obj = obj._drop_axis(labels, axis, level=level, errors=errors)\n"
     ]
    }
   ],
   "source": [
    "#No\n",
    "df.drop(['Airport','Terminal'], axis=1, inplace=True)"
   ]
  },
  {
   "cell_type": "code",
   "execution_count": 15,
   "metadata": {},
   "outputs": [
    {
     "data": {
      "text/plain": [
       "('U.S. Citizen', '', 'Max Wait', 'Time')"
      ]
     },
     "execution_count": 15,
     "metadata": {},
     "output_type": "execute_result"
    }
   ],
   "source": [
    "df.columns[3]"
   ]
  },
  {
   "cell_type": "markdown",
   "metadata": {},
   "source": [
    "check if all hour values are present or not"
   ]
  },
  {
   "cell_type": "code",
   "execution_count": 16,
   "metadata": {},
   "outputs": [
    {
     "data": {
      "text/html": [
       "<div>\n",
       "<style scoped>\n",
       "    .dataframe tbody tr th:only-of-type {\n",
       "        vertical-align: middle;\n",
       "    }\n",
       "\n",
       "    .dataframe tbody tr th {\n",
       "        vertical-align: top;\n",
       "    }\n",
       "\n",
       "    .dataframe thead tr th {\n",
       "        text-align: left;\n",
       "    }\n",
       "</style>\n",
       "<table border=\"1\" class=\"dataframe\">\n",
       "  <thead>\n",
       "    <tr>\n",
       "      <th></th>\n",
       "      <th>Date</th>\n",
       "      <th>Hour</th>\n",
       "      <th colspan=\"2\" halign=\"left\">U.S. Citizen</th>\n",
       "      <th colspan=\"2\" halign=\"left\">Non U.S. Citizen</th>\n",
       "      <th colspan=\"13\" halign=\"left\">All</th>\n",
       "    </tr>\n",
       "    <tr>\n",
       "      <th></th>\n",
       "      <th></th>\n",
       "      <th></th>\n",
       "      <th colspan=\"2\" halign=\"left\"></th>\n",
       "      <th colspan=\"2\" halign=\"left\"></th>\n",
       "      <th colspan=\"2\" halign=\"left\">Wait Times</th>\n",
       "      <th colspan=\"11\" halign=\"left\">Number Of Passengers Time Interval</th>\n",
       "    </tr>\n",
       "    <tr>\n",
       "      <th></th>\n",
       "      <th></th>\n",
       "      <th></th>\n",
       "      <th>Average Wait</th>\n",
       "      <th>Max Wait</th>\n",
       "      <th>Average Wait</th>\n",
       "      <th>Max Wait</th>\n",
       "      <th>Average Wait</th>\n",
       "      <th>Max Wait</th>\n",
       "      <th>0-15</th>\n",
       "      <th>16-30</th>\n",
       "      <th>31-45</th>\n",
       "      <th>46-60</th>\n",
       "      <th>61-90</th>\n",
       "      <th>91-120</th>\n",
       "      <th>120 plus</th>\n",
       "      <th>Excluded</th>\n",
       "      <th>Total</th>\n",
       "      <th>Flights</th>\n",
       "      <th>Booths</th>\n",
       "    </tr>\n",
       "    <tr>\n",
       "      <th></th>\n",
       "      <th></th>\n",
       "      <th></th>\n",
       "      <th>Time</th>\n",
       "      <th>Time</th>\n",
       "      <th>Time</th>\n",
       "      <th>Time</th>\n",
       "      <th>Time</th>\n",
       "      <th>Time</th>\n",
       "      <th></th>\n",
       "      <th></th>\n",
       "      <th></th>\n",
       "      <th></th>\n",
       "      <th></th>\n",
       "      <th></th>\n",
       "      <th></th>\n",
       "      <th></th>\n",
       "      <th></th>\n",
       "      <th></th>\n",
       "      <th></th>\n",
       "    </tr>\n",
       "  </thead>\n",
       "  <tbody>\n",
       "    <tr>\n",
       "      <th>0</th>\n",
       "      <td>2017-01-01 00:00:00</td>\n",
       "      <td>0300 - 0400</td>\n",
       "      <td>0</td>\n",
       "      <td>0</td>\n",
       "      <td>0</td>\n",
       "      <td>0</td>\n",
       "      <td>0</td>\n",
       "      <td>0</td>\n",
       "      <td>0</td>\n",
       "      <td>0</td>\n",
       "      <td>0</td>\n",
       "      <td>0</td>\n",
       "      <td>0</td>\n",
       "      <td>0</td>\n",
       "      <td>0</td>\n",
       "      <td>7</td>\n",
       "      <td>7</td>\n",
       "      <td>1</td>\n",
       "      <td>0</td>\n",
       "    </tr>\n",
       "    <tr>\n",
       "      <th>1</th>\n",
       "      <td>2017-01-01 00:00:00</td>\n",
       "      <td>0400 - 0500</td>\n",
       "      <td>18</td>\n",
       "      <td>51</td>\n",
       "      <td>28</td>\n",
       "      <td>51</td>\n",
       "      <td>20</td>\n",
       "      <td>51</td>\n",
       "      <td>121</td>\n",
       "      <td>160</td>\n",
       "      <td>60</td>\n",
       "      <td>8</td>\n",
       "      <td>0</td>\n",
       "      <td>0</td>\n",
       "      <td>0</td>\n",
       "      <td>13</td>\n",
       "      <td>362</td>\n",
       "      <td>3</td>\n",
       "      <td>10</td>\n",
       "    </tr>\n",
       "    <tr>\n",
       "      <th>2</th>\n",
       "      <td>2017-01-01 00:00:00</td>\n",
       "      <td>0600 - 0700</td>\n",
       "      <td>11</td>\n",
       "      <td>49</td>\n",
       "      <td>27</td>\n",
       "      <td>49</td>\n",
       "      <td>20</td>\n",
       "      <td>49</td>\n",
       "      <td>154</td>\n",
       "      <td>81</td>\n",
       "      <td>64</td>\n",
       "      <td>19</td>\n",
       "      <td>0</td>\n",
       "      <td>0</td>\n",
       "      <td>0</td>\n",
       "      <td>10</td>\n",
       "      <td>328</td>\n",
       "      <td>1</td>\n",
       "      <td>10</td>\n",
       "    </tr>\n",
       "    <tr>\n",
       "      <th>3</th>\n",
       "      <td>2017-01-01 00:00:00</td>\n",
       "      <td>0700 - 0800</td>\n",
       "      <td>7</td>\n",
       "      <td>24</td>\n",
       "      <td>12</td>\n",
       "      <td>26</td>\n",
       "      <td>10</td>\n",
       "      <td>26</td>\n",
       "      <td>272</td>\n",
       "      <td>88</td>\n",
       "      <td>0</td>\n",
       "      <td>0</td>\n",
       "      <td>0</td>\n",
       "      <td>0</td>\n",
       "      <td>0</td>\n",
       "      <td>10</td>\n",
       "      <td>370</td>\n",
       "      <td>2</td>\n",
       "      <td>12</td>\n",
       "    </tr>\n",
       "    <tr>\n",
       "      <th>4</th>\n",
       "      <td>2017-01-01 00:00:00</td>\n",
       "      <td>0800 - 0900</td>\n",
       "      <td>5</td>\n",
       "      <td>25</td>\n",
       "      <td>13</td>\n",
       "      <td>37</td>\n",
       "      <td>10</td>\n",
       "      <td>37</td>\n",
       "      <td>298</td>\n",
       "      <td>121</td>\n",
       "      <td>16</td>\n",
       "      <td>0</td>\n",
       "      <td>0</td>\n",
       "      <td>0</td>\n",
       "      <td>0</td>\n",
       "      <td>11</td>\n",
       "      <td>446</td>\n",
       "      <td>2</td>\n",
       "      <td>12</td>\n",
       "    </tr>\n",
       "  </tbody>\n",
       "</table>\n",
       "</div>"
      ],
      "text/plain": [
       "                  Date         Hour U.S. Citizen          Non U.S. Citizen  \\\n",
       "                                                                             \n",
       "                                    Average Wait Max Wait     Average Wait   \n",
       "                                            Time     Time             Time   \n",
       "0  2017-01-01 00:00:00  0300 - 0400            0        0                0   \n",
       "1  2017-01-01 00:00:00  0400 - 0500           18       51               28   \n",
       "2  2017-01-01 00:00:00  0600 - 0700           11       49               27   \n",
       "3  2017-01-01 00:00:00  0700 - 0800            7       24               12   \n",
       "4  2017-01-01 00:00:00  0800 - 0900            5       25               13   \n",
       "\n",
       "                    All                                                    \\\n",
       "             Wait Times          Number Of Passengers Time Interval         \n",
       "  Max Wait Average Wait Max Wait                               0-15 16-30   \n",
       "      Time         Time     Time                                            \n",
       "0        0            0        0                                  0     0   \n",
       "1       51           20       51                                121   160   \n",
       "2       49           20       49                                154    81   \n",
       "3       26           10       26                                272    88   \n",
       "4       37           10       37                                298   121   \n",
       "\n",
       "                                                                   \n",
       "                                                                   \n",
       "  31-45 46-60 61-90 91-120 120 plus Excluded Total Flights Booths  \n",
       "                                                                   \n",
       "0     0     0     0      0        0        7     7       1      0  \n",
       "1    60     8     0      0        0       13   362       3     10  \n",
       "2    64    19     0      0        0       10   328       1     10  \n",
       "3     0     0     0      0        0       10   370       2     12  \n",
       "4    16     0     0      0        0       11   446       2     12  "
      ]
     },
     "execution_count": 16,
     "metadata": {},
     "output_type": "execute_result"
    }
   ],
   "source": [
    "df.head()"
   ]
  },
  {
   "cell_type": "code",
   "execution_count": 17,
   "metadata": {},
   "outputs": [
    {
     "data": {
      "text/plain": [
       "1300 - 1400    365\n",
       "1400 - 1500    365\n",
       "1800 - 1900    365\n",
       "1900 - 2000    365\n",
       "1500 - 1600    365\n",
       "1700 - 1800    364\n",
       "1600 - 1700    364\n",
       "1200 - 1300    360\n",
       "1100 - 1200    359\n",
       "1000 - 1100    353\n",
       "0800 - 0900    347\n",
       "0000 - 0100    331\n",
       "2300 - 0000    329\n",
       "0600 - 0700    318\n",
       "0900 - 1000    316\n",
       "2000 - 2100    292\n",
       "0700 - 0800    248\n",
       "2200 - 2300    219\n",
       "0500 - 0600    200\n",
       "2100 - 2200    194\n",
       "0400 - 0500    159\n",
       "0100 - 0200     80\n",
       "0200 - 0300     24\n",
       "0300 - 0400     22\n",
       "Name: Hour, dtype: int64"
      ]
     },
     "execution_count": 17,
     "metadata": {},
     "output_type": "execute_result"
    }
   ],
   "source": [
    "df['Hour'].value_counts()"
   ]
  },
  {
   "cell_type": "markdown",
   "metadata": {},
   "source": [
    "drop the upper bound of hour column Ex: replace 0100 - 0200 with 0100 ..."
   ]
  },
  {
   "cell_type": "code",
   "execution_count": 18,
   "metadata": {},
   "outputs": [
    {
     "data": {
      "text/plain": [
       "0       0300 - 0400\n",
       "1       0400 - 0500\n",
       "2       0600 - 0700\n",
       "3       0700 - 0800\n",
       "4       0800 - 0900\n",
       "           ...     \n",
       "6699    1800 - 1900\n",
       "6700    1900 - 2000\n",
       "6701    2000 - 2100\n",
       "6702    2100 - 2200\n",
       "6703    2300 - 0000\n",
       "Name: Hour, Length: 6704, dtype: object"
      ]
     },
     "execution_count": 18,
     "metadata": {},
     "output_type": "execute_result"
    }
   ],
   "source": [
    "df['Hour']"
   ]
  },
  {
   "cell_type": "code",
   "execution_count": 19,
   "metadata": {},
   "outputs": [
    {
     "data": {
      "text/plain": [
       "dtype('O')"
      ]
     },
     "execution_count": 19,
     "metadata": {},
     "output_type": "execute_result"
    }
   ],
   "source": [
    "df['Hour'].dtype"
   ]
  },
  {
   "cell_type": "code",
   "execution_count": 20,
   "metadata": {},
   "outputs": [
    {
     "data": {
      "text/plain": [
       "0       [0300 ,  0400]\n",
       "1       [0400 ,  0500]\n",
       "2       [0600 ,  0700]\n",
       "3       [0700 ,  0800]\n",
       "4       [0800 ,  0900]\n",
       "             ...      \n",
       "6699    [1800 ,  1900]\n",
       "6700    [1900 ,  2000]\n",
       "6701    [2000 ,  2100]\n",
       "6702    [2100 ,  2200]\n",
       "6703    [2300 ,  0000]\n",
       "Name: Hour, Length: 6704, dtype: object"
      ]
     },
     "execution_count": 20,
     "metadata": {},
     "output_type": "execute_result"
    }
   ],
   "source": [
    "df['Hour'].str.split('-')"
   ]
  },
  {
   "cell_type": "code",
   "execution_count": 21,
   "metadata": {},
   "outputs": [
    {
     "data": {
      "text/plain": [
       "0       0300 \n",
       "1       0400 \n",
       "2       0600 \n",
       "3       0700 \n",
       "4       0800 \n",
       "        ...  \n",
       "6699    1800 \n",
       "6700    1900 \n",
       "6701    2000 \n",
       "6702    2100 \n",
       "6703    2300 \n",
       "Name: Hour, Length: 6704, dtype: object"
      ]
     },
     "execution_count": 21,
     "metadata": {},
     "output_type": "execute_result"
    }
   ],
   "source": [
    "df['Hour'].str.split('-').str[0]"
   ]
  },
  {
   "cell_type": "code",
   "execution_count": 22,
   "metadata": {},
   "outputs": [],
   "source": [
    "df['Hour'] = df['Hour'].str.split(' - ').str[0]"
   ]
  },
  {
   "cell_type": "code",
   "execution_count": 23,
   "metadata": {},
   "outputs": [
    {
     "data": {
      "text/html": [
       "<div>\n",
       "<style scoped>\n",
       "    .dataframe tbody tr th:only-of-type {\n",
       "        vertical-align: middle;\n",
       "    }\n",
       "\n",
       "    .dataframe tbody tr th {\n",
       "        vertical-align: top;\n",
       "    }\n",
       "\n",
       "    .dataframe thead tr th {\n",
       "        text-align: left;\n",
       "    }\n",
       "</style>\n",
       "<table border=\"1\" class=\"dataframe\">\n",
       "  <thead>\n",
       "    <tr>\n",
       "      <th></th>\n",
       "      <th>Date</th>\n",
       "      <th>Hour</th>\n",
       "      <th colspan=\"2\" halign=\"left\">U.S. Citizen</th>\n",
       "      <th colspan=\"2\" halign=\"left\">Non U.S. Citizen</th>\n",
       "      <th colspan=\"13\" halign=\"left\">All</th>\n",
       "    </tr>\n",
       "    <tr>\n",
       "      <th></th>\n",
       "      <th></th>\n",
       "      <th></th>\n",
       "      <th colspan=\"2\" halign=\"left\"></th>\n",
       "      <th colspan=\"2\" halign=\"left\"></th>\n",
       "      <th colspan=\"2\" halign=\"left\">Wait Times</th>\n",
       "      <th colspan=\"11\" halign=\"left\">Number Of Passengers Time Interval</th>\n",
       "    </tr>\n",
       "    <tr>\n",
       "      <th></th>\n",
       "      <th></th>\n",
       "      <th></th>\n",
       "      <th>Average Wait</th>\n",
       "      <th>Max Wait</th>\n",
       "      <th>Average Wait</th>\n",
       "      <th>Max Wait</th>\n",
       "      <th>Average Wait</th>\n",
       "      <th>Max Wait</th>\n",
       "      <th>0-15</th>\n",
       "      <th>16-30</th>\n",
       "      <th>31-45</th>\n",
       "      <th>46-60</th>\n",
       "      <th>61-90</th>\n",
       "      <th>91-120</th>\n",
       "      <th>120 plus</th>\n",
       "      <th>Excluded</th>\n",
       "      <th>Total</th>\n",
       "      <th>Flights</th>\n",
       "      <th>Booths</th>\n",
       "    </tr>\n",
       "    <tr>\n",
       "      <th></th>\n",
       "      <th></th>\n",
       "      <th></th>\n",
       "      <th>Time</th>\n",
       "      <th>Time</th>\n",
       "      <th>Time</th>\n",
       "      <th>Time</th>\n",
       "      <th>Time</th>\n",
       "      <th>Time</th>\n",
       "      <th></th>\n",
       "      <th></th>\n",
       "      <th></th>\n",
       "      <th></th>\n",
       "      <th></th>\n",
       "      <th></th>\n",
       "      <th></th>\n",
       "      <th></th>\n",
       "      <th></th>\n",
       "      <th></th>\n",
       "      <th></th>\n",
       "    </tr>\n",
       "  </thead>\n",
       "  <tbody>\n",
       "    <tr>\n",
       "      <th>0</th>\n",
       "      <td>2017-01-01 00:00:00</td>\n",
       "      <td>0300</td>\n",
       "      <td>0</td>\n",
       "      <td>0</td>\n",
       "      <td>0</td>\n",
       "      <td>0</td>\n",
       "      <td>0</td>\n",
       "      <td>0</td>\n",
       "      <td>0</td>\n",
       "      <td>0</td>\n",
       "      <td>0</td>\n",
       "      <td>0</td>\n",
       "      <td>0</td>\n",
       "      <td>0</td>\n",
       "      <td>0</td>\n",
       "      <td>7</td>\n",
       "      <td>7</td>\n",
       "      <td>1</td>\n",
       "      <td>0</td>\n",
       "    </tr>\n",
       "    <tr>\n",
       "      <th>1</th>\n",
       "      <td>2017-01-01 00:00:00</td>\n",
       "      <td>0400</td>\n",
       "      <td>18</td>\n",
       "      <td>51</td>\n",
       "      <td>28</td>\n",
       "      <td>51</td>\n",
       "      <td>20</td>\n",
       "      <td>51</td>\n",
       "      <td>121</td>\n",
       "      <td>160</td>\n",
       "      <td>60</td>\n",
       "      <td>8</td>\n",
       "      <td>0</td>\n",
       "      <td>0</td>\n",
       "      <td>0</td>\n",
       "      <td>13</td>\n",
       "      <td>362</td>\n",
       "      <td>3</td>\n",
       "      <td>10</td>\n",
       "    </tr>\n",
       "    <tr>\n",
       "      <th>2</th>\n",
       "      <td>2017-01-01 00:00:00</td>\n",
       "      <td>0600</td>\n",
       "      <td>11</td>\n",
       "      <td>49</td>\n",
       "      <td>27</td>\n",
       "      <td>49</td>\n",
       "      <td>20</td>\n",
       "      <td>49</td>\n",
       "      <td>154</td>\n",
       "      <td>81</td>\n",
       "      <td>64</td>\n",
       "      <td>19</td>\n",
       "      <td>0</td>\n",
       "      <td>0</td>\n",
       "      <td>0</td>\n",
       "      <td>10</td>\n",
       "      <td>328</td>\n",
       "      <td>1</td>\n",
       "      <td>10</td>\n",
       "    </tr>\n",
       "    <tr>\n",
       "      <th>3</th>\n",
       "      <td>2017-01-01 00:00:00</td>\n",
       "      <td>0700</td>\n",
       "      <td>7</td>\n",
       "      <td>24</td>\n",
       "      <td>12</td>\n",
       "      <td>26</td>\n",
       "      <td>10</td>\n",
       "      <td>26</td>\n",
       "      <td>272</td>\n",
       "      <td>88</td>\n",
       "      <td>0</td>\n",
       "      <td>0</td>\n",
       "      <td>0</td>\n",
       "      <td>0</td>\n",
       "      <td>0</td>\n",
       "      <td>10</td>\n",
       "      <td>370</td>\n",
       "      <td>2</td>\n",
       "      <td>12</td>\n",
       "    </tr>\n",
       "    <tr>\n",
       "      <th>4</th>\n",
       "      <td>2017-01-01 00:00:00</td>\n",
       "      <td>0800</td>\n",
       "      <td>5</td>\n",
       "      <td>25</td>\n",
       "      <td>13</td>\n",
       "      <td>37</td>\n",
       "      <td>10</td>\n",
       "      <td>37</td>\n",
       "      <td>298</td>\n",
       "      <td>121</td>\n",
       "      <td>16</td>\n",
       "      <td>0</td>\n",
       "      <td>0</td>\n",
       "      <td>0</td>\n",
       "      <td>0</td>\n",
       "      <td>11</td>\n",
       "      <td>446</td>\n",
       "      <td>2</td>\n",
       "      <td>12</td>\n",
       "    </tr>\n",
       "  </tbody>\n",
       "</table>\n",
       "</div>"
      ],
      "text/plain": [
       "                  Date  Hour U.S. Citizen          Non U.S. Citizen           \\\n",
       "                                                                               \n",
       "                             Average Wait Max Wait     Average Wait Max Wait   \n",
       "                                     Time     Time             Time     Time   \n",
       "0  2017-01-01 00:00:00  0300            0        0                0        0   \n",
       "1  2017-01-01 00:00:00  0400           18       51               28       51   \n",
       "2  2017-01-01 00:00:00  0600           11       49               27       49   \n",
       "3  2017-01-01 00:00:00  0700            7       24               12       26   \n",
       "4  2017-01-01 00:00:00  0800            5       25               13       37   \n",
       "\n",
       "           All                                                                \\\n",
       "    Wait Times          Number Of Passengers Time Interval                     \n",
       "  Average Wait Max Wait                               0-15 16-30 31-45 46-60   \n",
       "          Time     Time                                                        \n",
       "0            0        0                                  0     0     0     0   \n",
       "1           20       51                                121   160    60     8   \n",
       "2           20       49                                154    81    64    19   \n",
       "3           10       26                                272    88     0     0   \n",
       "4           10       37                                298   121    16     0   \n",
       "\n",
       "                                                       \n",
       "                                                       \n",
       "  61-90 91-120 120 plus Excluded Total Flights Booths  \n",
       "                                                       \n",
       "0     0      0        0        7     7       1      0  \n",
       "1     0      0        0       13   362       3     10  \n",
       "2     0      0        0       10   328       1     10  \n",
       "3     0      0        0       10   370       2     12  \n",
       "4     0      0        0       11   446       2     12  "
      ]
     },
     "execution_count": 23,
     "metadata": {},
     "output_type": "execute_result"
    }
   ],
   "source": [
    "df.head()"
   ]
  },
  {
   "cell_type": "markdown",
   "metadata": {},
   "source": [
    "check that hour values lie in range 0-2300 or not"
   ]
  },
  {
   "cell_type": "code",
   "execution_count": 24,
   "metadata": {},
   "outputs": [
    {
     "data": {
      "text/plain": [
       "1300    365\n",
       "1900    365\n",
       "1400    365\n",
       "1800    365\n",
       "1500    365\n",
       "1700    364\n",
       "1600    364\n",
       "1200    360\n",
       "1100    359\n",
       "1000    353\n",
       "0800    347\n",
       "0000    331\n",
       "2300    329\n",
       "0600    318\n",
       "0900    316\n",
       "2000    292\n",
       "0700    248\n",
       "2200    219\n",
       "0500    200\n",
       "2100    194\n",
       "0400    159\n",
       "0100     80\n",
       "0200     24\n",
       "0300     22\n",
       "Name: Hour, dtype: int64"
      ]
     },
     "execution_count": 24,
     "metadata": {},
     "output_type": "execute_result"
    }
   ],
   "source": [
    "df['Hour'].value_counts() "
   ]
  },
  {
   "cell_type": "code",
   "execution_count": 25,
   "metadata": {},
   "outputs": [
    {
     "data": {
      "text/plain": [
       "True    6704\n",
       "Name: Hour, dtype: int64"
      ]
     },
     "execution_count": 25,
     "metadata": {},
     "output_type": "execute_result"
    }
   ],
   "source": [
    "df['Hour'].astype(\"int32\").between(0, 2300).value_counts()"
   ]
  },
  {
   "cell_type": "markdown",
   "metadata": {},
   "source": [
    "- convert hour column from string type to datetime type. (If this doesn't work out easily, then first solve next problem)\n",
    "- check that length of each hour value is 4, if not, check why and fix it and then check again"
   ]
  },
  {
   "cell_type": "code",
   "execution_count": 26,
   "metadata": {},
   "outputs": [
    {
     "data": {
      "text/plain": [
       "1300    365\n",
       "1900    365\n",
       "1400    365\n",
       "1800    365\n",
       "1500    365\n",
       "1700    364\n",
       "1600    364\n",
       "1200    360\n",
       "1100    359\n",
       "1000    353\n",
       "0800    347\n",
       "0000    331\n",
       "2300    329\n",
       "0600    318\n",
       "0900    316\n",
       "2000    292\n",
       "0700    248\n",
       "2200    219\n",
       "0500    200\n",
       "2100    194\n",
       "0400    159\n",
       "0100     80\n",
       "0200     24\n",
       "0300     22\n",
       "Name: Hour, dtype: int64"
      ]
     },
     "execution_count": 26,
     "metadata": {},
     "output_type": "execute_result"
    }
   ],
   "source": [
    "df['Hour'].value_counts()"
   ]
  },
  {
   "cell_type": "code",
   "execution_count": 27,
   "metadata": {},
   "outputs": [],
   "source": [
    "df['Hour']=pd.to_datetime(df['Hour'], format='%H%M')#df['Hour']."
   ]
  },
  {
   "cell_type": "code",
   "execution_count": 28,
   "metadata": {},
   "outputs": [],
   "source": [
    "#df['Hour']=df['Hour'].dt.strftime('%H:%M')"
   ]
  },
  {
   "cell_type": "code",
   "execution_count": 29,
   "metadata": {},
   "outputs": [],
   "source": [
    "#pd.to_datetime(df['Hour'], format='%H%M')"
   ]
  },
  {
   "cell_type": "code",
   "execution_count": 30,
   "metadata": {},
   "outputs": [],
   "source": [
    "#df['Hour'].str.len().value_counts()"
   ]
  },
  {
   "cell_type": "code",
   "execution_count": 31,
   "metadata": {},
   "outputs": [],
   "source": [
    "#df['Hour'].str.strip()"
   ]
  },
  {
   "cell_type": "code",
   "execution_count": 32,
   "metadata": {},
   "outputs": [
    {
     "data": {
      "text/plain": [
       "dtype('<M8[ns]')"
      ]
     },
     "execution_count": 32,
     "metadata": {},
     "output_type": "execute_result"
    }
   ],
   "source": [
    "df['Hour'].dtype"
   ]
  },
  {
   "cell_type": "code",
   "execution_count": 33,
   "metadata": {},
   "outputs": [
    {
     "data": {
      "text/plain": [
       "Date                                                                                object\n",
       "Hour                                                                        datetime64[ns]\n",
       "U.S. Citizen                                          Average Wait  Time             int64\n",
       "                                                      Max Wait      Time             int64\n",
       "Non U.S. Citizen                                      Average Wait  Time             int64\n",
       "                                                      Max Wait      Time             int64\n",
       "All               Wait Times                          Average Wait  Time             int64\n",
       "                                                      Max Wait      Time             int64\n",
       "                  Number Of Passengers Time Interval  0-15                           int64\n",
       "                                                      16-30                          int64\n",
       "                                                      31-45                          int64\n",
       "                                                      46-60                          int64\n",
       "                                                      61-90                          int64\n",
       "                                                      91-120                         int64\n",
       "                                                      120 plus                       int64\n",
       "                                                      Excluded                       int64\n",
       "                                                      Total                          int64\n",
       "                                                      Flights                        int64\n",
       "                                                      Booths                         int64\n",
       "dtype: object"
      ]
     },
     "execution_count": 33,
     "metadata": {},
     "output_type": "execute_result"
    }
   ],
   "source": [
    "df.dtypes"
   ]
  },
  {
   "cell_type": "code",
   "execution_count": 34,
   "metadata": {},
   "outputs": [
    {
     "data": {
      "text/plain": [
       "<bound method DataFrame.info of                      Date                Hour U.S. Citizen           \\\n",
       "                                                                      \n",
       "                                              Average Wait Max Wait   \n",
       "                                                      Time     Time   \n",
       "0     2017-01-01 00:00:00 1900-01-01 03:00:00            0        0   \n",
       "1     2017-01-01 00:00:00 1900-01-01 04:00:00           18       51   \n",
       "2     2017-01-01 00:00:00 1900-01-01 06:00:00           11       49   \n",
       "3     2017-01-01 00:00:00 1900-01-01 07:00:00            7       24   \n",
       "4     2017-01-01 00:00:00 1900-01-01 08:00:00            5       25   \n",
       "...                   ...                 ...          ...      ...   \n",
       "6699           12/31/2017 1900-01-01 18:00:00           16       47   \n",
       "6700           12/31/2017 1900-01-01 19:00:00            7       23   \n",
       "6701           12/31/2017 1900-01-01 20:00:00            7       18   \n",
       "6702           12/31/2017 1900-01-01 21:00:00           28       39   \n",
       "6703           12/31/2017 1900-01-01 23:00:00            7       25   \n",
       "\n",
       "     Non U.S. Citizen                   All           \\\n",
       "                                 Wait Times            \n",
       "         Average Wait Max Wait Average Wait Max Wait   \n",
       "                 Time     Time         Time     Time   \n",
       "0                   0        0            0        0   \n",
       "1                  28       51           20       51   \n",
       "2                  27       49           20       49   \n",
       "3                  12       26           10       26   \n",
       "4                  13       37           10       37   \n",
       "...               ...      ...          ...      ...   \n",
       "6699               16       48           16       48   \n",
       "6700                9       23            7       23   \n",
       "6701                8       18            7       18   \n",
       "6702               31       39           28       39   \n",
       "6703               11       25            8       25   \n",
       "\n",
       "                                                                        \\\n",
       "     Number Of Passengers Time Interval                                  \n",
       "                                   0-15 16-30 31-45 46-60 61-90 91-120   \n",
       "                                                                         \n",
       "0                                     0     0     0     0     0      0   \n",
       "1                                   121   160    60     8     0      0   \n",
       "2                                   154    81    64    19     0      0   \n",
       "3                                   272    88     0     0     0      0   \n",
       "4                                   298   121    16     0     0      0   \n",
       "...                                 ...   ...   ...   ...   ...    ...   \n",
       "6699                                686   506   148     9     0      0   \n",
       "6700                                253    21     0     0     0      0   \n",
       "6701                                387    25     0     0     0      0   \n",
       "6702                                  4   119    38     0     0      0   \n",
       "6703                                367    66     0     0     0      0   \n",
       "\n",
       "                                             \n",
       "                                             \n",
       "     120 plus Excluded Total Flights Booths  \n",
       "                                             \n",
       "0           0        7     7       1      0  \n",
       "1           0       13   362       3     10  \n",
       "2           0       10   328       1     10  \n",
       "3           0       10   370       2     12  \n",
       "4           0       11   446       2     12  \n",
       "...       ...      ...   ...     ...    ...  \n",
       "6699        0       56  1405       9     17  \n",
       "6700        0       10   284       1     19  \n",
       "6701        0       15   427       2     14  \n",
       "6702        0        6   167       1      3  \n",
       "6703        0       18   451       3      8  \n",
       "\n",
       "[6704 rows x 19 columns]>"
      ]
     },
     "execution_count": 34,
     "metadata": {},
     "output_type": "execute_result"
    }
   ],
   "source": [
    "df.info"
   ]
  },
  {
   "cell_type": "markdown",
   "metadata": {},
   "source": [
    "- convert Date column to datetime type\n",
    "- check data types now\n",
    "- replace Hours with only time part and Date column with only date part (both should be converted to datetime type before this)\n",
    "- check data types again\n",
    "- merge date and hour column into a new column date_time (type of date_time should be datetime not str)"
   ]
  },
  {
   "cell_type": "code",
   "execution_count": 35,
   "metadata": {},
   "outputs": [
    {
     "data": {
      "text/plain": [
       "MultiIndex([(            'Date',                                   '', ...),\n",
       "            (            'Hour',                                   '', ...),\n",
       "            (    'U.S. Citizen',                                   '', ...),\n",
       "            (    'U.S. Citizen',                                   '', ...),\n",
       "            ('Non U.S. Citizen',                                   '', ...),\n",
       "            ('Non U.S. Citizen',                                   '', ...),\n",
       "            (             'All',                         'Wait Times', ...),\n",
       "            (             'All',                         'Wait Times', ...),\n",
       "            (             'All', 'Number Of Passengers Time Interval', ...),\n",
       "            (             'All', 'Number Of Passengers Time Interval', ...),\n",
       "            (             'All', 'Number Of Passengers Time Interval', ...),\n",
       "            (             'All', 'Number Of Passengers Time Interval', ...),\n",
       "            (             'All', 'Number Of Passengers Time Interval', ...),\n",
       "            (             'All', 'Number Of Passengers Time Interval', ...),\n",
       "            (             'All', 'Number Of Passengers Time Interval', ...),\n",
       "            (             'All', 'Number Of Passengers Time Interval', ...),\n",
       "            (             'All', 'Number Of Passengers Time Interval', ...),\n",
       "            (             'All', 'Number Of Passengers Time Interval', ...),\n",
       "            (             'All', 'Number Of Passengers Time Interval', ...)],\n",
       "           )"
      ]
     },
     "execution_count": 35,
     "metadata": {},
     "output_type": "execute_result"
    }
   ],
   "source": [
    "df.columns"
   ]
  },
  {
   "cell_type": "code",
   "execution_count": 36,
   "metadata": {},
   "outputs": [
    {
     "data": {
      "text/html": [
       "<div>\n",
       "<style scoped>\n",
       "    .dataframe tbody tr th:only-of-type {\n",
       "        vertical-align: middle;\n",
       "    }\n",
       "\n",
       "    .dataframe tbody tr th {\n",
       "        vertical-align: top;\n",
       "    }\n",
       "\n",
       "    .dataframe thead tr th {\n",
       "        text-align: left;\n",
       "    }\n",
       "</style>\n",
       "<table border=\"1\" class=\"dataframe\">\n",
       "  <thead>\n",
       "    <tr>\n",
       "      <th></th>\n",
       "      <th>Date</th>\n",
       "      <th>Hour</th>\n",
       "      <th colspan=\"2\" halign=\"left\">U.S. Citizen</th>\n",
       "      <th colspan=\"2\" halign=\"left\">Non U.S. Citizen</th>\n",
       "      <th colspan=\"13\" halign=\"left\">All</th>\n",
       "    </tr>\n",
       "    <tr>\n",
       "      <th></th>\n",
       "      <th></th>\n",
       "      <th></th>\n",
       "      <th colspan=\"2\" halign=\"left\"></th>\n",
       "      <th colspan=\"2\" halign=\"left\"></th>\n",
       "      <th colspan=\"2\" halign=\"left\">Wait Times</th>\n",
       "      <th colspan=\"11\" halign=\"left\">Number Of Passengers Time Interval</th>\n",
       "    </tr>\n",
       "    <tr>\n",
       "      <th></th>\n",
       "      <th></th>\n",
       "      <th></th>\n",
       "      <th>Average Wait</th>\n",
       "      <th>Max Wait</th>\n",
       "      <th>Average Wait</th>\n",
       "      <th>Max Wait</th>\n",
       "      <th>Average Wait</th>\n",
       "      <th>Max Wait</th>\n",
       "      <th>0-15</th>\n",
       "      <th>16-30</th>\n",
       "      <th>31-45</th>\n",
       "      <th>46-60</th>\n",
       "      <th>61-90</th>\n",
       "      <th>91-120</th>\n",
       "      <th>120 plus</th>\n",
       "      <th>Excluded</th>\n",
       "      <th>Total</th>\n",
       "      <th>Flights</th>\n",
       "      <th>Booths</th>\n",
       "    </tr>\n",
       "    <tr>\n",
       "      <th></th>\n",
       "      <th></th>\n",
       "      <th></th>\n",
       "      <th>Time</th>\n",
       "      <th>Time</th>\n",
       "      <th>Time</th>\n",
       "      <th>Time</th>\n",
       "      <th>Time</th>\n",
       "      <th>Time</th>\n",
       "      <th></th>\n",
       "      <th></th>\n",
       "      <th></th>\n",
       "      <th></th>\n",
       "      <th></th>\n",
       "      <th></th>\n",
       "      <th></th>\n",
       "      <th></th>\n",
       "      <th></th>\n",
       "      <th></th>\n",
       "      <th></th>\n",
       "    </tr>\n",
       "  </thead>\n",
       "  <tbody>\n",
       "    <tr>\n",
       "      <th>0</th>\n",
       "      <td>2017-01-01 00:00:00</td>\n",
       "      <td>1900-01-01 03:00:00</td>\n",
       "      <td>0</td>\n",
       "      <td>0</td>\n",
       "      <td>0</td>\n",
       "      <td>0</td>\n",
       "      <td>0</td>\n",
       "      <td>0</td>\n",
       "      <td>0</td>\n",
       "      <td>0</td>\n",
       "      <td>0</td>\n",
       "      <td>0</td>\n",
       "      <td>0</td>\n",
       "      <td>0</td>\n",
       "      <td>0</td>\n",
       "      <td>7</td>\n",
       "      <td>7</td>\n",
       "      <td>1</td>\n",
       "      <td>0</td>\n",
       "    </tr>\n",
       "    <tr>\n",
       "      <th>1</th>\n",
       "      <td>2017-01-01 00:00:00</td>\n",
       "      <td>1900-01-01 04:00:00</td>\n",
       "      <td>18</td>\n",
       "      <td>51</td>\n",
       "      <td>28</td>\n",
       "      <td>51</td>\n",
       "      <td>20</td>\n",
       "      <td>51</td>\n",
       "      <td>121</td>\n",
       "      <td>160</td>\n",
       "      <td>60</td>\n",
       "      <td>8</td>\n",
       "      <td>0</td>\n",
       "      <td>0</td>\n",
       "      <td>0</td>\n",
       "      <td>13</td>\n",
       "      <td>362</td>\n",
       "      <td>3</td>\n",
       "      <td>10</td>\n",
       "    </tr>\n",
       "    <tr>\n",
       "      <th>2</th>\n",
       "      <td>2017-01-01 00:00:00</td>\n",
       "      <td>1900-01-01 06:00:00</td>\n",
       "      <td>11</td>\n",
       "      <td>49</td>\n",
       "      <td>27</td>\n",
       "      <td>49</td>\n",
       "      <td>20</td>\n",
       "      <td>49</td>\n",
       "      <td>154</td>\n",
       "      <td>81</td>\n",
       "      <td>64</td>\n",
       "      <td>19</td>\n",
       "      <td>0</td>\n",
       "      <td>0</td>\n",
       "      <td>0</td>\n",
       "      <td>10</td>\n",
       "      <td>328</td>\n",
       "      <td>1</td>\n",
       "      <td>10</td>\n",
       "    </tr>\n",
       "    <tr>\n",
       "      <th>3</th>\n",
       "      <td>2017-01-01 00:00:00</td>\n",
       "      <td>1900-01-01 07:00:00</td>\n",
       "      <td>7</td>\n",
       "      <td>24</td>\n",
       "      <td>12</td>\n",
       "      <td>26</td>\n",
       "      <td>10</td>\n",
       "      <td>26</td>\n",
       "      <td>272</td>\n",
       "      <td>88</td>\n",
       "      <td>0</td>\n",
       "      <td>0</td>\n",
       "      <td>0</td>\n",
       "      <td>0</td>\n",
       "      <td>0</td>\n",
       "      <td>10</td>\n",
       "      <td>370</td>\n",
       "      <td>2</td>\n",
       "      <td>12</td>\n",
       "    </tr>\n",
       "    <tr>\n",
       "      <th>4</th>\n",
       "      <td>2017-01-01 00:00:00</td>\n",
       "      <td>1900-01-01 08:00:00</td>\n",
       "      <td>5</td>\n",
       "      <td>25</td>\n",
       "      <td>13</td>\n",
       "      <td>37</td>\n",
       "      <td>10</td>\n",
       "      <td>37</td>\n",
       "      <td>298</td>\n",
       "      <td>121</td>\n",
       "      <td>16</td>\n",
       "      <td>0</td>\n",
       "      <td>0</td>\n",
       "      <td>0</td>\n",
       "      <td>0</td>\n",
       "      <td>11</td>\n",
       "      <td>446</td>\n",
       "      <td>2</td>\n",
       "      <td>12</td>\n",
       "    </tr>\n",
       "  </tbody>\n",
       "</table>\n",
       "</div>"
      ],
      "text/plain": [
       "                  Date                Hour U.S. Citizen           \\\n",
       "                                                                   \n",
       "                                           Average Wait Max Wait   \n",
       "                                                   Time     Time   \n",
       "0  2017-01-01 00:00:00 1900-01-01 03:00:00            0        0   \n",
       "1  2017-01-01 00:00:00 1900-01-01 04:00:00           18       51   \n",
       "2  2017-01-01 00:00:00 1900-01-01 06:00:00           11       49   \n",
       "3  2017-01-01 00:00:00 1900-01-01 07:00:00            7       24   \n",
       "4  2017-01-01 00:00:00 1900-01-01 08:00:00            5       25   \n",
       "\n",
       "  Non U.S. Citizen                   All           \\\n",
       "                              Wait Times            \n",
       "      Average Wait Max Wait Average Wait Max Wait   \n",
       "              Time     Time         Time     Time   \n",
       "0                0        0            0        0   \n",
       "1               28       51           20       51   \n",
       "2               27       49           20       49   \n",
       "3               12       26           10       26   \n",
       "4               13       37           10       37   \n",
       "\n",
       "                                                                              \\\n",
       "  Number Of Passengers Time Interval                                           \n",
       "                                0-15 16-30 31-45 46-60 61-90 91-120 120 plus   \n",
       "                                                                               \n",
       "0                                  0     0     0     0     0      0        0   \n",
       "1                                121   160    60     8     0      0        0   \n",
       "2                                154    81    64    19     0      0        0   \n",
       "3                                272    88     0     0     0      0        0   \n",
       "4                                298   121    16     0     0      0        0   \n",
       "\n",
       "                                 \n",
       "                                 \n",
       "  Excluded Total Flights Booths  \n",
       "                                 \n",
       "0        7     7       1      0  \n",
       "1       13   362       3     10  \n",
       "2       10   328       1     10  \n",
       "3       10   370       2     12  \n",
       "4       11   446       2     12  "
      ]
     },
     "execution_count": 36,
     "metadata": {},
     "output_type": "execute_result"
    }
   ],
   "source": [
    "df.head()"
   ]
  },
  {
   "cell_type": "code",
   "execution_count": 37,
   "metadata": {},
   "outputs": [
    {
     "data": {
      "text/plain": [
       "dtype('O')"
      ]
     },
     "execution_count": 37,
     "metadata": {},
     "output_type": "execute_result"
    }
   ],
   "source": [
    "df['Date'].dtype"
   ]
  },
  {
   "cell_type": "code",
   "execution_count": 38,
   "metadata": {},
   "outputs": [],
   "source": [
    "#pd.to_datetime(df['Date'], format='%Y-%m-%d %H:%M:%S')"
   ]
  },
  {
   "cell_type": "code",
   "execution_count": 39,
   "metadata": {},
   "outputs": [],
   "source": [
    "#df['Date']=df['Date'].str.replace('/', '-')"
   ]
  },
  {
   "cell_type": "code",
   "execution_count": 40,
   "metadata": {},
   "outputs": [],
   "source": [
    "#pd.to_datetime(df['Date'], format='%Y-%m-%d %H:%M:%S')"
   ]
  },
  {
   "cell_type": "code",
   "execution_count": 41,
   "metadata": {},
   "outputs": [],
   "source": [
    "#df['Date']=df['Date'].str.zfill(10)"
   ]
  },
  {
   "cell_type": "code",
   "execution_count": 42,
   "metadata": {},
   "outputs": [],
   "source": [
    "#pd.to_datetime(df['Date'], format='%Y-%m-%d')"
   ]
  },
  {
   "cell_type": "code",
   "execution_count": 43,
   "metadata": {},
   "outputs": [
    {
     "data": {
      "text/plain": [
       "0      2017-01-01\n",
       "1      2017-01-01\n",
       "2      2017-01-01\n",
       "3      2017-01-01\n",
       "4      2017-01-01\n",
       "          ...    \n",
       "6699   2017-12-31\n",
       "6700   2017-12-31\n",
       "6701   2017-12-31\n",
       "6702   2017-12-31\n",
       "6703   2017-12-31\n",
       "Name: Date, Length: 6704, dtype: datetime64[ns]"
      ]
     },
     "execution_count": 43,
     "metadata": {},
     "output_type": "execute_result"
    }
   ],
   "source": [
    "pd.to_datetime(df['Date'])"
   ]
  },
  {
   "cell_type": "code",
   "execution_count": 44,
   "metadata": {},
   "outputs": [],
   "source": [
    "df['Date'] = pd.to_datetime(df['Date'])"
   ]
  },
  {
   "cell_type": "code",
   "execution_count": 45,
   "metadata": {},
   "outputs": [
    {
     "data": {
      "text/plain": [
       "dtype('<M8[ns]')"
      ]
     },
     "execution_count": 45,
     "metadata": {},
     "output_type": "execute_result"
    }
   ],
   "source": [
    "df['Date'].dtype"
   ]
  },
  {
   "cell_type": "code",
   "execution_count": 46,
   "metadata": {},
   "outputs": [
    {
     "data": {
      "text/plain": [
       "dtype('<M8[ns]')"
      ]
     },
     "execution_count": 46,
     "metadata": {},
     "output_type": "execute_result"
    }
   ],
   "source": [
    "df['Hour'].dtype"
   ]
  },
  {
   "cell_type": "code",
   "execution_count": 47,
   "metadata": {},
   "outputs": [
    {
     "data": {
      "text/plain": [
       "0       03:00:00\n",
       "1       04:00:00\n",
       "2       06:00:00\n",
       "3       07:00:00\n",
       "4       08:00:00\n",
       "          ...   \n",
       "6699    18:00:00\n",
       "6700    19:00:00\n",
       "6701    20:00:00\n",
       "6702    21:00:00\n",
       "6703    23:00:00\n",
       "Name: Hour, Length: 6704, dtype: object"
      ]
     },
     "execution_count": 47,
     "metadata": {},
     "output_type": "execute_result"
    }
   ],
   "source": [
    "df['Hour'].dt.time"
   ]
  },
  {
   "cell_type": "code",
   "execution_count": 48,
   "metadata": {},
   "outputs": [],
   "source": [
    "df['Hour'] = df['Hour'].dt.time"
   ]
  },
  {
   "cell_type": "code",
   "execution_count": 49,
   "metadata": {},
   "outputs": [
    {
     "data": {
      "text/plain": [
       "Date          datetime64[ns]\n",
       "Hour                  object\n",
       "dtype: object"
      ]
     },
     "execution_count": 49,
     "metadata": {},
     "output_type": "execute_result"
    }
   ],
   "source": [
    "df[['Date','Hour']].dtypes"
   ]
  },
  {
   "cell_type": "code",
   "execution_count": 50,
   "metadata": {},
   "outputs": [
    {
     "data": {
      "text/plain": [
       "0       2017-01-01\n",
       "1       2017-01-01\n",
       "2       2017-01-01\n",
       "3       2017-01-01\n",
       "4       2017-01-01\n",
       "           ...    \n",
       "6699    2017-12-31\n",
       "6700    2017-12-31\n",
       "6701    2017-12-31\n",
       "6702    2017-12-31\n",
       "6703    2017-12-31\n",
       "Name: Date, Length: 6704, dtype: object"
      ]
     },
     "execution_count": 50,
     "metadata": {},
     "output_type": "execute_result"
    }
   ],
   "source": [
    "df['Date'].dt.date"
   ]
  },
  {
   "cell_type": "code",
   "execution_count": 51,
   "metadata": {},
   "outputs": [],
   "source": [
    "df['Date'] = df['Date'].dt.date"
   ]
  },
  {
   "cell_type": "code",
   "execution_count": 52,
   "metadata": {},
   "outputs": [
    {
     "data": {
      "text/plain": [
       "Date          object\n",
       "Hour          object\n",
       "dtype: object"
      ]
     },
     "execution_count": 52,
     "metadata": {},
     "output_type": "execute_result"
    }
   ],
   "source": [
    "df[['Date','Hour']].dtypes"
   ]
  },
  {
   "cell_type": "code",
   "execution_count": 53,
   "metadata": {},
   "outputs": [],
   "source": [
    "#date_time\n",
    "#df['Date']+df['Hour']"
   ]
  },
  {
   "cell_type": "code",
   "execution_count": 54,
   "metadata": {},
   "outputs": [],
   "source": [
    "#df['Date'].str.cat(df['Hour'], sep =\" \") "
   ]
  },
  {
   "cell_type": "code",
   "execution_count": 55,
   "metadata": {},
   "outputs": [],
   "source": [
    "#df[['Date', 'Hour']].apply(lambda x: ' '.join(x), axis = 1) "
   ]
  },
  {
   "cell_type": "code",
   "execution_count": 56,
   "metadata": {},
   "outputs": [],
   "source": [
    "df['date_time']=df['Date'].astype('str').str.cat(df['Hour'].astype('str'), sep =\" \") "
   ]
  },
  {
   "cell_type": "code",
   "execution_count": 57,
   "metadata": {},
   "outputs": [
    {
     "data": {
      "text/plain": [
       "dtype('O')"
      ]
     },
     "execution_count": 57,
     "metadata": {},
     "output_type": "execute_result"
    }
   ],
   "source": [
    "df['date_time'].dtype"
   ]
  },
  {
   "cell_type": "code",
   "execution_count": 59,
   "metadata": {},
   "outputs": [
    {
     "data": {
      "text/plain": [
       "0      2017-01-01 03:00:00\n",
       "1      2017-01-01 04:00:00\n",
       "2      2017-01-01 06:00:00\n",
       "3      2017-01-01 07:00:00\n",
       "4      2017-01-01 08:00:00\n",
       "               ...        \n",
       "6699   2017-12-31 18:00:00\n",
       "6700   2017-12-31 19:00:00\n",
       "6701   2017-12-31 20:00:00\n",
       "6702   2017-12-31 21:00:00\n",
       "6703   2017-12-31 23:00:00\n",
       "Name: date_time, Length: 6704, dtype: datetime64[ns]"
      ]
     },
     "execution_count": 59,
     "metadata": {},
     "output_type": "execute_result"
    }
   ],
   "source": [
    "#df['Date'] = \n",
    "pd.to_datetime(df['date_time'])"
   ]
  },
  {
   "cell_type": "code",
   "execution_count": 60,
   "metadata": {},
   "outputs": [],
   "source": [
    "df['date_time'] = pd.to_datetime(df['date_time'])"
   ]
  },
  {
   "cell_type": "code",
   "execution_count": 61,
   "metadata": {},
   "outputs": [
    {
     "data": {
      "text/plain": [
       "dtype('<M8[ns]')"
      ]
     },
     "execution_count": 61,
     "metadata": {},
     "output_type": "execute_result"
    }
   ],
   "source": [
    "df['date_time'].dtype"
   ]
  },
  {
   "cell_type": "code",
   "execution_count": null,
   "metadata": {},
   "outputs": [],
   "source": []
  }
 ],
 "metadata": {
  "kernelspec": {
   "display_name": "Python 3",
   "language": "python",
   "name": "python3"
  },
  "language_info": {
   "codemirror_mode": {
    "name": "ipython",
    "version": 3
   },
   "file_extension": ".py",
   "mimetype": "text/x-python",
   "name": "python",
   "nbconvert_exporter": "python",
   "pygments_lexer": "ipython3",
   "version": "3.7.6"
  }
 },
 "nbformat": 4,
 "nbformat_minor": 2
}
