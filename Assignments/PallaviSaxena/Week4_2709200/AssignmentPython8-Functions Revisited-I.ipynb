{
 "cells": [
  {
   "cell_type": "markdown",
   "metadata": {},
   "source": [
    "### 1. Write lambdas to:\n",
    "##### a. Square a number x2\n",
    "##### b. Inverse a number 1/x\n",
    "##### c. Negate a number"
   ]
  },
  {
   "cell_type": "code",
   "execution_count": 1,
   "metadata": {},
   "outputs": [
    {
     "data": {
      "text/plain": [
       "<function __main__.<lambda>(x)>"
      ]
     },
     "execution_count": 1,
     "metadata": {},
     "output_type": "execute_result"
    }
   ],
   "source": [
    "lambda x : x ** 2"
   ]
  },
  {
   "cell_type": "code",
   "execution_count": 2,
   "metadata": {},
   "outputs": [
    {
     "data": {
      "text/plain": [
       "<function __main__.<lambda>(x)>"
      ]
     },
     "execution_count": 2,
     "metadata": {},
     "output_type": "execute_result"
    }
   ],
   "source": [
    "lambda x : 1/x"
   ]
  },
  {
   "cell_type": "code",
   "execution_count": 3,
   "metadata": {},
   "outputs": [
    {
     "data": {
      "text/plain": [
       "<function __main__.<lambda>(x)>"
      ]
     },
     "execution_count": 3,
     "metadata": {},
     "output_type": "execute_result"
    }
   ],
   "source": [
    "lambda x : -x"
   ]
  },
  {
   "cell_type": "markdown",
   "metadata": {},
   "source": [
    "### 2. Use reduce function and an appropriate lambda to find the maximum number in a list."
   ]
  },
  {
   "cell_type": "code",
   "execution_count": 7,
   "metadata": {},
   "outputs": [
    {
     "name": "stdout",
     "output_type": "stream",
     "text": [
      "111\n"
     ]
    }
   ],
   "source": [
    "from functools import reduce\n",
    "list1=[5,8,4,9,3,111,7,2,56,1]\n",
    "max_no = reduce(lambda x,y: x if x>y else y, list1)\n",
    "print(max_no)"
   ]
  },
  {
   "cell_type": "markdown",
   "metadata": {},
   "source": [
    "### 3. Write a function map_multiple that takes a list of functions/lambdas as first argument and a\n",
    "##### sequence type as second argument.\n",
    "##### The function picks first lambda from list, applies it to first element, then applies the second\n",
    "##### function to the result of first one and ….\n",
    "##### Similarly it does for each element and generates a mapping of input to output\n",
    "##### def map_multiple(functs, sequence):\n",
    "##### # write definition here\n",
    "##### Ex: let list of lambdas be from question 1 and the list on numbers be [1,2,4]\n",
    "##### So first function gives [1, 4, 16]\n",
    "##### Second gives [1, 0.25, 0.0625]\n",
    "##### Third gives [-1, -0.25, -0.0625]. Which is the final result."
   ]
  },
  {
   "cell_type": "code",
   "execution_count": 14,
   "metadata": {},
   "outputs": [
    {
     "name": "stdout",
     "output_type": "stream",
     "text": [
      "[1, 4, 16]\n",
      "[1.0, 0.25, 0.0625]\n",
      "[-1.0, -0.25, -0.0625]\n"
     ]
    }
   ],
   "source": [
    "def map_multiple(functs, sequence):\n",
    "    for l in functs:\n",
    "        sequence = list(map(l, sequence))\n",
    "        print(sequence)        \n",
    "\n",
    "functs = [lambda x : x ** 2, lambda x : 1/x, lambda x : -x]\n",
    "\n",
    "li = [1,2,4]\n",
    "map_multiple(functs, li)"
   ]
  },
  {
   "cell_type": "markdown",
   "metadata": {},
   "source": [
    "### 4. Predict the output of following code:"
   ]
  },
  {
   "cell_type": "code",
   "execution_count": 16,
   "metadata": {},
   "outputs": [
    {
     "name": "stdout",
     "output_type": "stream",
     "text": [
      "50\n"
     ]
    }
   ],
   "source": [
    "from functools import reduce\n",
    "f = lambda x,y : x if x > y else y\n",
    "l = [10, 30, 50, 30, 10]\n",
    "num = reduce(f, l)\n",
    "print(num)"
   ]
  },
  {
   "cell_type": "markdown",
   "metadata": {},
   "source": [
    "### 5. Find output of following:"
   ]
  },
  {
   "cell_type": "code",
   "execution_count": 17,
   "metadata": {},
   "outputs": [
    {
     "name": "stdout",
     "output_type": "stream",
     "text": [
      "[1.0, 0.5, 0.25, 0.125]\n"
     ]
    }
   ],
   "source": [
    "functs = [lambda x : x ** 0.5, lambda x : 1/x]\n",
    "l = [1, 4, 16, 64]\n",
    "ans = []\n",
    "for num in l:\n",
    "    res = num\n",
    "    for funct in functs:\n",
    "        res = funct(res)\n",
    "    ans.append(res)\n",
    "print(ans)"
   ]
  },
  {
   "cell_type": "markdown",
   "metadata": {},
   "source": [
    "### 6. Use filter function to filter a list of numbers and strings such that the result contains only\n",
    "##### numbers. (Hint : Use isinstance method)"
   ]
  },
  {
   "cell_type": "code",
   "execution_count": 20,
   "metadata": {},
   "outputs": [
    {
     "data": {
      "text/plain": [
       "[1, 3, 8]"
      ]
     },
     "execution_count": 20,
     "metadata": {},
     "output_type": "execute_result"
    }
   ],
   "source": [
    "l = [1, 3, 's' , 'A', 'hi', 8]\n",
    "l_int = list(filter(lambda x : isinstance(x, int), l))\n",
    "print(l_int)"
   ]
  },
  {
   "cell_type": "markdown",
   "metadata": {},
   "source": [
    "### 7. Assume a list containing heights ft and inches in the form of a list of string\n",
    "##### Example : l = [‘5ft10in’, ‘5ft’, ….]\n",
    "##### Write a function to convert the heights to meter. Use map function along with your function to\n",
    "##### convert everything to m."
   ]
  },
  {
   "cell_type": "code",
   "execution_count": 37,
   "metadata": {},
   "outputs": [
    {
     "name": "stdout",
     "output_type": "stream",
     "text": [
      "[1.778, 1.524, 2.4638]\n"
     ]
    }
   ],
   "source": [
    "def heights(d):\n",
    "    d_li = d.split('ft')\n",
    "    #print(d_li)\n",
    "    f = d_li[0]\n",
    "    i = d_li[1][:-2] if d_li[1] != '' else '0'\n",
    "    #print(f,i) \n",
    "    f_ht = int(f) + (int(i) / 12)\n",
    "    #print(f_ht) \n",
    "    return round(f_ht * 0.3048, 4)\n",
    "    \n",
    "l = ['5ft10in', '5ft', '8ft1in']\n",
    "\n",
    "\n",
    "li = list(map(heights, l))\n",
    "print(li)"
   ]
  },
  {
   "cell_type": "markdown",
   "metadata": {},
   "source": [
    "### 8. Write the implementation for the map function yourself by the name my_map()"
   ]
  },
  {
   "cell_type": "code",
   "execution_count": 38,
   "metadata": {},
   "outputs": [
    {
     "name": "stdout",
     "output_type": "stream",
     "text": [
      "[1, 4, 9]\n",
      "[4.0, 5.0, 6.0]\n"
     ]
    }
   ],
   "source": [
    "def my_map(func, seq):\n",
    "    return [func(i) for i in seq]\n",
    "\n",
    "def my_sq(x):\n",
    "    return x ** 2\n",
    "\n",
    "def my_sqrt(x):\n",
    "    return x ** 0.5\n",
    "\n",
    "print(my_map(my_sq,[1,2,3]))\n",
    "print(my_map(my_sqrt,[16,25,36]))"
   ]
  },
  {
   "cell_type": "code",
   "execution_count": 40,
   "metadata": {},
   "outputs": [
    {
     "name": "stdout",
     "output_type": "stream",
     "text": [
      "<generator object my_map at 0x0000021F295A8948>\n",
      "<generator object my_map at 0x0000021F295A8948>\n",
      "[1, 4, 9]\n",
      "[4.0, 5.0, 6.0]\n"
     ]
    }
   ],
   "source": [
    "def my_map(func, seq):\n",
    "    for i in seq:\n",
    "        yield func(i)\n",
    "\n",
    "def my_sq(x):\n",
    "    return x ** 2\n",
    "\n",
    "def my_sqrt(x):\n",
    "    return x ** 0.5\n",
    "\n",
    "print(my_map(my_sq,[1,2,3]))\n",
    "print(my_map(my_sqrt,[16,25,36]))\n",
    "print(list(my_map(my_sq,[1,2,3])))\n",
    "print(list(my_map(my_sqrt,[16,25,36])))"
   ]
  },
  {
   "cell_type": "code",
   "execution_count": null,
   "metadata": {},
   "outputs": [],
   "source": []
  }
 ],
 "metadata": {
  "kernelspec": {
   "display_name": "Python 3",
   "language": "python",
   "name": "python3"
  },
  "language_info": {
   "codemirror_mode": {
    "name": "ipython",
    "version": 3
   },
   "file_extension": ".py",
   "mimetype": "text/x-python",
   "name": "python",
   "nbconvert_exporter": "python",
   "pygments_lexer": "ipython3",
   "version": "3.7.6"
  }
 },
 "nbformat": 4,
 "nbformat_minor": 4
}
