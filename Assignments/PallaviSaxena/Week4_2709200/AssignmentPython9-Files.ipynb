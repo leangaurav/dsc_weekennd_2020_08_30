{
 "cells": [
  {
   "cell_type": "markdown",
   "metadata": {},
   "source": [
    "### 1. Write a program in python that stores alphabets from a to z in a text file."
   ]
  },
  {
   "cell_type": "code",
   "execution_count": 7,
   "metadata": {},
   "outputs": [],
   "source": [
    "import string\n",
    "with open(\"file1.txt\",\"w\") as f:\n",
    "    f.write(string.ascii_lowercase)"
   ]
  },
  {
   "cell_type": "code",
   "execution_count": 10,
   "metadata": {},
   "outputs": [],
   "source": [
    "import string\n",
    "with open(\"file1.txt\",\"w\") as f:\n",
    "    for c in string.ascii_lowercase:\n",
    "        f.write(c+'\\n')"
   ]
  },
  {
   "cell_type": "markdown",
   "metadata": {},
   "source": [
    "### 2. Write a program to read itself and print on the screen (Use Command Line Arguments)."
   ]
  },
  {
   "cell_type": "code",
   "execution_count": 12,
   "metadata": {},
   "outputs": [
    {
     "name": "stdout",
     "output_type": "stream",
     "text": [
      "\"\"\"Entry point for launching an IPython kernel.\n",
      "\n",
      "This is separate from the ipykernel package so we can avoid doing imports until\n",
      "after removing the cwd from sys.path.\n",
      "\"\"\"\n",
      "\n",
      "import sys\n",
      "\n",
      "if __name__ == '__main__':\n",
      "    # Remove the CWD from sys.path while we load stuff.\n",
      "    # This is added back by InteractiveShellApp.init_path()\n",
      "    if sys.path[0] == '':\n",
      "        del sys.path[0]\n",
      "\n",
      "    from ipykernel import kernelapp as app\n",
      "    app.launch_new_instance()\n",
      "\n"
     ]
    }
   ],
   "source": [
    "import sys\n",
    "with open(sys.argv[0],\"r\") as f:\n",
    "    print(f.read())"
   ]
  },
  {
   "cell_type": "markdown",
   "metadata": {},
   "source": [
    "### 3. Predict output of the following piece of code:"
   ]
  },
  {
   "cell_type": "code",
   "execution_count": 3,
   "metadata": {},
   "outputs": [
    {
     "name": "stdout",
     "output_type": "stream",
     "text": [
      "0\n",
      "line\n",
      "4\n"
     ]
    }
   ],
   "source": [
    "f = open('file','w')\n",
    "f.write('line with some characters')\n",
    "f.close()\n",
    "\n",
    "f = open('file','r')\n",
    "print(f.tell())\n",
    "print(f.read(4))\n",
    "print(f.tell())"
   ]
  },
  {
   "cell_type": "markdown",
   "metadata": {},
   "source": [
    "### 4. Write a program to read a file and copy it into a new file."
   ]
  },
  {
   "cell_type": "code",
   "execution_count": 13,
   "metadata": {},
   "outputs": [],
   "source": [
    "with open(\"file1.txt\", \"r\") as f1:\n",
    "    with open(\"file1_copy.txt\", \"w\") as f2:\n",
    "        f2.write(f1.read())"
   ]
  },
  {
   "cell_type": "markdown",
   "metadata": {},
   "source": [
    "### 5. Write a program to read a file and copy the contents to a new file such that the case gets\n",
    "##### reversed. i.e. upper case becomes lower case and vice versa."
   ]
  },
  {
   "cell_type": "code",
   "execution_count": 14,
   "metadata": {},
   "outputs": [],
   "source": [
    "with open(\"file1.txt\", \"r\") as f1:\n",
    "    with open(\"file3_copy.txt\", \"w\") as f2:\n",
    "        f2.write(f1.read().swapcase())"
   ]
  },
  {
   "cell_type": "markdown",
   "metadata": {},
   "source": [
    "### 6. Write a program that take a file name as command line argument, opens it and then counts\n",
    "##### number of space characters in that file."
   ]
  },
  {
   "cell_type": "code",
   "execution_count": 17,
   "metadata": {},
   "outputs": [
    {
     "name": "stdout",
     "output_type": "stream",
     "text": [
      "80\n"
     ]
    }
   ],
   "source": [
    "import sys\n",
    "with open(sys.argv[1], \"r\") as f:\n",
    "    print(f.read().count(\" \"))"
   ]
  },
  {
   "cell_type": "markdown",
   "metadata": {},
   "source": [
    "### 7. Modify the above program to count the occurrence of each symbol i.e. count of alphabet ‘a’,\n",
    "###### count of spaces, count of commas and so forth."
   ]
  },
  {
   "cell_type": "code",
   "execution_count": 18,
   "metadata": {},
   "outputs": [
    {
     "name": "stdout",
     "output_type": "stream",
     "text": [
      "{'\"': 6, 'E': 1, 'n': 22, 't': 22, 'r': 17, 'y': 10, ' ': 80, 'p': 21, 'o': 16, 'i': 23, 'f': 10, 'l': 12, 'a': 26, 'u': 4, 'c': 8, 'h': 15, 'g': 4, 'I': 2, 'P': 1, 'k': 6, 'e': 29, '.': 9, '\\n': 16, 'T': 2, 's': 20, 'm': 11, 'w': 5, 'v': 4, 'd': 8, '_': 11, '=': 4, \"'\": 4, ':': 2, '#': 2, 'R': 1, 'C': 1, 'W': 1, 'D': 1, 'b': 2, 'S': 1, 'A': 1, '(': 2, ')': 2, '[': 2, '0': 2, ']': 2}\n"
     ]
    }
   ],
   "source": [
    "import sys\n",
    "count_dict = {}\n",
    "with open(sys.argv[1], \"r\") as f:\n",
    "    for c in f.read():\n",
    "        if c in count_dict.keys():\n",
    "            count_dict[c] += 1\n",
    "        else:\n",
    "            count_dict[c] = 1\n",
    "print(count_dict)"
   ]
  },
  {
   "cell_type": "markdown",
   "metadata": {},
   "source": [
    "### 8. Write a script called diff.py that take two file names as arguments and checks if the content of\n",
    "##### both the files is same and prints true or false."
   ]
  },
  {
   "cell_type": "code",
   "execution_count": null,
   "metadata": {},
   "outputs": [],
   "source": [
    "import sys\n",
    "with open(sys.argv[1],\"r\") as f1:\n",
    "    content1=f1.read()\n",
    "with open (sys.argv[2],\"r\") as f2:\n",
    "    content2=f2.read()\n",
    "print(content1==content2)"
   ]
  },
  {
   "cell_type": "markdown",
   "metadata": {},
   "source": [
    "#### 9. WAP to count the number of words in a file."
   ]
  },
  {
   "cell_type": "code",
   "execution_count": 1,
   "metadata": {},
   "outputs": [
    {
     "name": "stdout",
     "output_type": "stream",
     "text": [
      "64\n"
     ]
    }
   ],
   "source": [
    "import sys\n",
    "with open(sys.argv[1], \"r\") as f:\n",
    "    print(len(f.read().split()))"
   ]
  },
  {
   "cell_type": "markdown",
   "metadata": {},
   "source": [
    "#### 10. Update the above program to count the number of palindromes present in the file."
   ]
  },
  {
   "cell_type": "code",
   "execution_count": 2,
   "metadata": {},
   "outputs": [
    {
     "name": "stdout",
     "output_type": "stream",
     "text": [
      "Number of palindromes are:  6\n"
     ]
    }
   ],
   "source": [
    "import sys\n",
    "c = 0\n",
    "with open(sys.argv[1], \"r\") as f:\n",
    "    words = f.read().split()\n",
    "    for w in words:\n",
    "        if w[::-1] in words and len(w) != 1:\n",
    "            c += 1\n",
    "            print(w)\n",
    "print(\"Number of palindromes are: \", c)"
   ]
  },
  {
   "cell_type": "markdown",
   "metadata": {},
   "source": [
    "#### 11. Update the program again to count and print number of anagrams in the file."
   ]
  },
  {
   "cell_type": "code",
   "execution_count": 9,
   "metadata": {},
   "outputs": [
    {
     "name": "stdout",
     "output_type": "stream",
     "text": [
      "Number of anargrams are:  11\n",
      "List of anargrams are:  {'\"\"\"Enrty': 1, 'inopt': 1, 'for': 1, 'acghilnnu': 1, 'an': 1, 'IPhnoty': 1, '.eeklnr': 1, 'This': 2, 'is': 2, 'aaeeprst': 1, 'fmor': 4, 'eht': 3, 'eeiklnpry': 2, 'aacegkp': 1, 'os': 1, 'ew': 2, 'acn': 1, 'adiov': 1, 'dgino': 1, 'imoprst': 1, 'ilntu': 1, 'aefrt': 1, 'egimnorv': 1, 'cdw': 1, '..ahpssty': 1, '\"\"\"': 1, 'imoprt': 2, 'ssy': 1, 'fi': 2, '____aemn': 1, '==': 2, \"'':____aimn\": 1, '#': 2, 'Reemov': 1, 'CDW': 1, '.ahpssty': 1, 'ehilw': 1, 'adlo': 1, '.ffstu': 1, 'addde': 1, 'abck': 1, 'by': 1, '().AIS_aaceeehhiiillnnppprttttv': 1, '.0[]ahpssty': 2, \"'':\": 1, 'del': 1, 'aeeklnppr': 1, 'as': 1, 'app': 1, '().__aaacceehilnnnnppstuw': 1}\n"
     ]
    }
   ],
   "source": [
    "import sys\n",
    "count_dict = {}\n",
    "total = 0\n",
    "with open(sys.argv[0], \"r\") as f:\n",
    "    sorted_words = [''.join(sorted(w)) for w in f.read().split()]\n",
    "    for w in sorted_words:\n",
    "        if w in count_dict.keys():\n",
    "            count_dict[w] += 1\n",
    "        else:\n",
    "            count_dict[w] = 1 \n",
    "for c in count_dict.keys():\n",
    "    if count_dict[c] > 1:\n",
    "        total += 1\n",
    "        \n",
    "print(\"Number of anargrams are: \", total)\n",
    "print(\"List of anargrams are: \", count_dict)"
   ]
  },
  {
   "cell_type": "code",
   "execution_count": null,
   "metadata": {},
   "outputs": [],
   "source": []
  }
 ],
 "metadata": {
  "kernelspec": {
   "display_name": "Python 3",
   "language": "python",
   "name": "python3"
  },
  "language_info": {
   "codemirror_mode": {
    "name": "ipython",
    "version": 3
   },
   "file_extension": ".py",
   "mimetype": "text/x-python",
   "name": "python",
   "nbconvert_exporter": "python",
   "pygments_lexer": "ipython3",
   "version": "3.7.6"
  }
 },
 "nbformat": 4,
 "nbformat_minor": 4
}
