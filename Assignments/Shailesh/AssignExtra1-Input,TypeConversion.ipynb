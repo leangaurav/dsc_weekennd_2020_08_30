{
 "cells": [
  {
   "cell_type": "markdown",
   "metadata": {},
   "source": [
    "# 1.Input temperature in Fahrenheit in print in Celsius."
   ]
  },
  {
   "cell_type": "code",
   "execution_count": 4,
   "metadata": {},
   "outputs": [
    {
     "name": "stdout",
     "output_type": "stream",
     "text": [
      "Enter the Temeperature in Fahrenheit68.8\n",
      "Temperature in Celcius 20.444444444444443\n"
     ]
    }
   ],
   "source": [
    "Temp = float(input(\"Enter the Temeperature in Fahrenheit\"));\n",
    "Celc = (Temp-32)*5/9;\n",
    "print(\"Temperature in Celcius\",Celc);"
   ]
  },
  {
   "cell_type": "markdown",
   "metadata": {},
   "source": [
    "# Write a program to input a number and print its square and cube."
   ]
  },
  {
   "cell_type": "code",
   "execution_count": 17,
   "metadata": {},
   "outputs": [
    {
     "name": "stdout",
     "output_type": "stream",
     "text": [
      "Enter a number5\n",
      "Square: 25.0 Cube 125.0\n"
     ]
    }
   ],
   "source": [
    "Num = float(input(\"Enter a number\"));\n",
    "print(\"Square:\", Num*Num,\"Cube\",Num*Num*Num)"
   ]
  },
  {
   "cell_type": "markdown",
   "metadata": {},
   "source": [
    "# WAP to input a number n and a number m and print the result of following\n",
    "n2 + m2"
   ]
  },
  {
   "cell_type": "code",
   "execution_count": 20,
   "metadata": {},
   "outputs": [
    {
     "name": "stdout",
     "output_type": "stream",
     "text": [
      "Enter a Number5\n",
      "Enter another Number3\n",
      "34\n"
     ]
    }
   ],
   "source": [
    "N =int(input(\"Enter a Number\"));\n",
    "M= int(input(\"Enter another Number\"));\n",
    "P =N**2+M**2;\n",
    "print(P)"
   ]
  },
  {
   "cell_type": "markdown",
   "metadata": {},
   "source": [
    "# 4. WAP to input a numbers M and N and print result of MN. (use both ** and pow)"
   ]
  },
  {
   "cell_type": "code",
   "execution_count": 22,
   "metadata": {},
   "outputs": [
    {
     "name": "stdout",
     "output_type": "stream",
     "text": [
      "Enter a Number5\n",
      "Enter another Number3\n",
      "243 243\n"
     ]
    }
   ],
   "source": [
    "N =int(input(\"Enter a Number\"));\n",
    "M= int(input(\"Enter another Number\"));\n",
    "p =M**N\n",
    "q =pow(M,N,mod=None)\n",
    "print(p,q)"
   ]
  },
  {
   "cell_type": "markdown",
   "metadata": {},
   "source": [
    "# 5. Write a simple interest calculator."
   ]
  },
  {
   "cell_type": "code",
   "execution_count": 23,
   "metadata": {},
   "outputs": [
    {
     "name": "stdout",
     "output_type": "stream",
     "text": [
      "Enter Principle500\n",
      "Enter percent rate of interest10\n",
      "ENter a period2\n",
      "Simple Interest 100.0\n"
     ]
    }
   ],
   "source": [
    "P =float(input(\"Enter Principle\"));\n",
    "R= float(input(\"Enter percent rate of interest\"));\n",
    "N =int(input(\"ENter a period\"));\n",
    "SI=(P*N*R)/100;\n",
    "print(\"Simple Interest\", SI);"
   ]
  },
  {
   "cell_type": "markdown",
   "metadata": {},
   "source": [
    "# 6. Input Principal, Rate, Time and print Compound Interest and Amount."
   ]
  },
  {
   "cell_type": "code",
   "execution_count": 30,
   "metadata": {},
   "outputs": [
    {
     "name": "stdout",
     "output_type": "stream",
     "text": [
      "Enter Principle500\n",
      "Enter percent rate of interest10\n",
      "ENter a period2\n",
      "Amount: 605.0000000000001 CI: 105.00000000000011\n"
     ]
    }
   ],
   "source": [
    "P =float(input(\"Enter Principle\"));\n",
    "R= float(input(\"Enter percent rate of interest\"));\n",
    "N =int(input(\"ENter a period\"));\n",
    "Amount = (P*(1+(R/100))**N);\n",
    "CI=Amount-P;\n",
    "print(\"Amount:\",Amount,\"CI:\",CI)"
   ]
  },
  {
   "cell_type": "markdown",
   "metadata": {},
   "source": [
    "# 7. WAP to print sum of first n natural numbers. (n needs to be taken as input)."
   ]
  },
  {
   "cell_type": "code",
   "execution_count": 47,
   "metadata": {},
   "outputs": [
    {
     "name": "stdout",
     "output_type": "stream",
     "text": [
      "Enter number5\n",
      "SUM: 15.0\n"
     ]
    }
   ],
   "source": [
    "N =int(input(\"Enter number\"));\n",
    "s = N * (N + 1) / 2\n",
    "        \n",
    "print(\"SUM:\", s)"
   ]
  },
  {
   "cell_type": "code",
   "execution_count": 37,
   "metadata": {},
   "outputs": [
    {
     "data": {
      "text/plain": [
       "['ArithmeticError',\n",
       " 'AssertionError',\n",
       " 'AttributeError',\n",
       " 'BaseException',\n",
       " 'BlockingIOError',\n",
       " 'BrokenPipeError',\n",
       " 'BufferError',\n",
       " 'BytesWarning',\n",
       " 'ChildProcessError',\n",
       " 'ConnectionAbortedError',\n",
       " 'ConnectionError',\n",
       " 'ConnectionRefusedError',\n",
       " 'ConnectionResetError',\n",
       " 'DeprecationWarning',\n",
       " 'EOFError',\n",
       " 'Ellipsis',\n",
       " 'EnvironmentError',\n",
       " 'Exception',\n",
       " 'False',\n",
       " 'FileExistsError',\n",
       " 'FileNotFoundError',\n",
       " 'FloatingPointError',\n",
       " 'FutureWarning',\n",
       " 'GeneratorExit',\n",
       " 'IOError',\n",
       " 'ImportError',\n",
       " 'ImportWarning',\n",
       " 'IndentationError',\n",
       " 'IndexError',\n",
       " 'InterruptedError',\n",
       " 'IsADirectoryError',\n",
       " 'KeyError',\n",
       " 'KeyboardInterrupt',\n",
       " 'LookupError',\n",
       " 'MemoryError',\n",
       " 'ModuleNotFoundError',\n",
       " 'NameError',\n",
       " 'None',\n",
       " 'NotADirectoryError',\n",
       " 'NotImplemented',\n",
       " 'NotImplementedError',\n",
       " 'OSError',\n",
       " 'OverflowError',\n",
       " 'PendingDeprecationWarning',\n",
       " 'PermissionError',\n",
       " 'ProcessLookupError',\n",
       " 'RecursionError',\n",
       " 'ReferenceError',\n",
       " 'ResourceWarning',\n",
       " 'RuntimeError',\n",
       " 'RuntimeWarning',\n",
       " 'StopAsyncIteration',\n",
       " 'StopIteration',\n",
       " 'SyntaxError',\n",
       " 'SyntaxWarning',\n",
       " 'SystemError',\n",
       " 'SystemExit',\n",
       " 'TabError',\n",
       " 'TimeoutError',\n",
       " 'True',\n",
       " 'TypeError',\n",
       " 'UnboundLocalError',\n",
       " 'UnicodeDecodeError',\n",
       " 'UnicodeEncodeError',\n",
       " 'UnicodeError',\n",
       " 'UnicodeTranslateError',\n",
       " 'UnicodeWarning',\n",
       " 'UserWarning',\n",
       " 'ValueError',\n",
       " 'Warning',\n",
       " 'WindowsError',\n",
       " 'ZeroDivisionError',\n",
       " '__IPYTHON__',\n",
       " '__build_class__',\n",
       " '__debug__',\n",
       " '__doc__',\n",
       " '__import__',\n",
       " '__loader__',\n",
       " '__name__',\n",
       " '__package__',\n",
       " '__spec__',\n",
       " 'abs',\n",
       " 'all',\n",
       " 'any',\n",
       " 'ascii',\n",
       " 'bin',\n",
       " 'bool',\n",
       " 'breakpoint',\n",
       " 'bytearray',\n",
       " 'bytes',\n",
       " 'callable',\n",
       " 'chr',\n",
       " 'classmethod',\n",
       " 'compile',\n",
       " 'complex',\n",
       " 'copyright',\n",
       " 'credits',\n",
       " 'delattr',\n",
       " 'dict',\n",
       " 'dir',\n",
       " 'display',\n",
       " 'divmod',\n",
       " 'enumerate',\n",
       " 'eval',\n",
       " 'exec',\n",
       " 'filter',\n",
       " 'float',\n",
       " 'format',\n",
       " 'frozenset',\n",
       " 'get_ipython',\n",
       " 'getattr',\n",
       " 'globals',\n",
       " 'hasattr',\n",
       " 'hash',\n",
       " 'help',\n",
       " 'hex',\n",
       " 'id',\n",
       " 'input',\n",
       " 'int',\n",
       " 'isinstance',\n",
       " 'issubclass',\n",
       " 'iter',\n",
       " 'len',\n",
       " 'license',\n",
       " 'list',\n",
       " 'locals',\n",
       " 'map',\n",
       " 'max',\n",
       " 'memoryview',\n",
       " 'min',\n",
       " 'next',\n",
       " 'object',\n",
       " 'oct',\n",
       " 'open',\n",
       " 'ord',\n",
       " 'pow',\n",
       " 'print',\n",
       " 'property',\n",
       " 'range',\n",
       " 'repr',\n",
       " 'reversed',\n",
       " 'round',\n",
       " 'set',\n",
       " 'setattr',\n",
       " 'slice',\n",
       " 'sorted',\n",
       " 'staticmethod',\n",
       " 'str',\n",
       " 'sum',\n",
       " 'super',\n",
       " 'tuple',\n",
       " 'type',\n",
       " 'vars',\n",
       " 'zip']"
      ]
     },
     "execution_count": 37,
     "metadata": {},
     "output_type": "execute_result"
    }
   ],
   "source": [
    "dir(__builtin__)"
   ]
  },
  {
   "cell_type": "markdown",
   "metadata": {},
   "source": [
    "# 8. WAP to input 2 numbers and swap them. (write using both normal logic with temp variable and\n",
    "also the pythonic way)."
   ]
  },
  {
   "cell_type": "code",
   "execution_count": 49,
   "metadata": {},
   "outputs": [
    {
     "name": "stdout",
     "output_type": "stream",
     "text": [
      "Enter first Number5\n",
      "Enter Second Number3\n",
      "first Number: 3 Second Number: 5\n"
     ]
    }
   ],
   "source": [
    "#Normal Logic\n",
    "N =input(\"Enter first Number\");\n",
    "M =input(\"Enter Second Number\");\n",
    "temp =N;\n",
    "N =M;\n",
    "M = temp;\n",
    "print(\"first Number:\", N, \"Second Number:\", M);\n"
   ]
  },
  {
   "cell_type": "code",
   "execution_count": 50,
   "metadata": {},
   "outputs": [
    {
     "name": "stdout",
     "output_type": "stream",
     "text": [
      "Enter first Number5\n",
      "Enter Second Number3\n",
      "first Number: 3 Second Number: 5\n"
     ]
    }
   ],
   "source": [
    "#Pythonic way\n",
    "N =input(\"Enter first Number\");\n",
    "M =input(\"Enter Second Number\");\n",
    "N,M=M,N\n",
    "print(\"first Number:\", N, \"Second Number:\", M);"
   ]
  },
  {
   "cell_type": "markdown",
   "metadata": {},
   "source": [
    "# 9. WAP to print ascii value of all white-space characters present in python."
   ]
  },
  {
   "cell_type": "code",
   "execution_count": 55,
   "metadata": {},
   "outputs": [
    {
     "name": "stdout",
     "output_type": "stream",
     "text": [
      "10\n",
      "39\n",
      "34\n",
      "92\n",
      "7\n",
      "8\n",
      "12\n",
      "13\n",
      "9\n",
      "11\n"
     ]
    }
   ],
   "source": [
    "print(ord(\"\\n\"))\n",
    "print(ord(\"\\'\"))\n",
    "print(ord(\"\\\"\"))\n",
    "#print(ord(\"\\?\"))\n",
    "print(ord(\"\\\\\"))\n",
    "print(ord(\"\\a\"))\n",
    "print(ord(\"\\b\"))\n",
    "print(ord(\"\\f\"))\n",
    "print(ord(\"\\r\"))\n",
    "print(ord(\"\\t\"))\n",
    "print(ord(\"\\v\"))"
   ]
  },
  {
   "cell_type": "markdown",
   "metadata": {},
   "source": [
    "# 10. Input a single character and print its ascii values."
   ]
  },
  {
   "cell_type": "code",
   "execution_count": 56,
   "metadata": {},
   "outputs": [
    {
     "name": "stdout",
     "output_type": "stream",
     "text": [
      "Enter a single charatera\n",
      "97\n"
     ]
    }
   ],
   "source": [
    "s =str(input(\"Enter a single charater\"));\n",
    "print(ord(s))"
   ]
  },
  {
   "cell_type": "markdown",
   "metadata": {},
   "source": [
    "# 11. WAP that takes area of a circle and gives back the radius and circumference."
   ]
  },
  {
   "cell_type": "code",
   "execution_count": 61,
   "metadata": {},
   "outputs": [
    {
     "name": "stdout",
     "output_type": "stream",
     "text": [
      "Enter area of circle56\n",
      "Radius: 4.2230788418473315 \n",
      " CIrcumference: 26.52093512680124\n"
     ]
    }
   ],
   "source": [
    "A= float(input(\"Enter area of circle\"));\n",
    "R = pow(A/3.14,0.5);\n",
    "Cir = 2*3.14*R;\n",
    "print(\"Radius:\", R, \"\\n\",\"CIrcumference:\",Cir)"
   ]
  },
  {
   "cell_type": "markdown",
   "metadata": {},
   "source": [
    "# 12. We need to input marks in 5 subjects out of 100 and print percentage."
   ]
  },
  {
   "cell_type": "code",
   "execution_count": 63,
   "metadata": {},
   "outputs": [
    {
     "name": "stdout",
     "output_type": "stream",
     "text": [
      "ENter maths marks90\n",
      "ENter English marks90\n",
      "ENter Science marks90\n",
      "ENter History marks90\n",
      "Enter Physics marks90\n",
      "Percentage 90.0\n"
     ]
    }
   ],
   "source": [
    "Math =int(input(\"ENter maths marks\"));\n",
    "English =int(input(\"ENter English marks\"));\n",
    "Scince =int(input(\"ENter Science marks\"));\n",
    "History =int(input(\"ENter History marks\"));\n",
    "Physics =int(input(\"Enter Physics marks\"));\n",
    "Total =Math+English+Scince+History+Physics;\n",
    "Percent = Total*100/500;\n",
    "print(\"Percentage\",Percent);"
   ]
  }
 ],
 "metadata": {
  "kernelspec": {
   "display_name": "Python 3",
   "language": "python",
   "name": "python3"
  },
  "language_info": {
   "codemirror_mode": {
    "name": "ipython",
    "version": 3
   },
   "file_extension": ".py",
   "mimetype": "text/x-python",
   "name": "python",
   "nbconvert_exporter": "python",
   "pygments_lexer": "ipython3",
   "version": "3.8.3"
  }
 },
 "nbformat": 4,
 "nbformat_minor": 4
}
