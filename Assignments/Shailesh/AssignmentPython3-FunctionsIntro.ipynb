{
 "cells": [
  {
   "cell_type": "code",
   "execution_count": 5,
   "metadata": {},
   "outputs": [
    {
     "name": "stdout",
     "output_type": "stream",
     "text": [
      "('nikkhar', 'shailesh')\n"
     ]
    }
   ],
   "source": [
    "#1. WAP to input 2 strings and swap the strings\n",
    "\n",
    "def swap(str1,str2):\n",
    "    str2,str1=str1,str2\n",
    "    return(str1,str2)\n",
    "\n",
    "str1=\"shailesh\"\n",
    "str2=\"nikkhar\"\n",
    "print(swap(str1,str2))"
   ]
  },
  {
   "cell_type": "code",
   "execution_count": 59,
   "metadata": {},
   "outputs": [
    {
     "name": "stdout",
     "output_type": "stream",
     "text": [
      "11.75\n"
     ]
    }
   ],
   "source": [
    "#2. WAP to generate 4 random numbers in the range 0-26 and print their average\n",
    "\n",
    "\n",
    "r1 = random.randrange(0,26);\n",
    "r2 = random.randrange(0,26);\n",
    "r3 = random.randrange(0,26);\n",
    "r4 = random.randrange(0,26);\n",
    "total =r1+r2+r3+r4;\n",
    "ave =total/4\n",
    "\n",
    "print(ave)\n"
   ]
  },
  {
   "cell_type": "raw",
   "metadata": {},
   "source": [
    "import string\n",
    "import random\n",
    "r1 = random.randrange(ord('A'),ord('z'));\n",
    "r=chr(r1)\n",
    "print(r.upper(),r.lower())"
   ]
  },
  {
   "cell_type": "code",
   "execution_count": 60,
   "metadata": {},
   "outputs": [
    {
     "name": "stdout",
     "output_type": "stream",
     "text": [
      "B b\n"
     ]
    }
   ],
   "source": [
    "import string\n",
    "import random\n",
    "r1 = random.randrange(ord('A'),ord('z'));\n",
    "r=chr(r1)\n",
    "print(r.upper(),r.lower())"
   ]
  },
  {
   "cell_type": "code",
   "execution_count": 63,
   "metadata": {},
   "outputs": [
    {
     "name": "stdout",
     "output_type": "stream",
     "text": [
      "ENter a Num25\n",
      "Enter other numb23\n",
      "(1.0869565217391304, 2)\n"
     ]
    }
   ],
   "source": [
    "# WAP get_q_r() taking 2 numbers as parameters and returns the quotient and\n",
    "#remainder in the form of a tuple.\n",
    "def get_q_r(M,N):\n",
    "    Q=M/N;\n",
    "    R=M%N;\n",
    "    return(Q,R)\n",
    "    \n",
    "M=int(input(\"ENter a Num\"));\n",
    "N=int(input(\"Enter other numb\"));\n",
    "print(get_q_r(M,N))\n",
    "\n"
   ]
  },
  {
   "cell_type": "code",
   "execution_count": 66,
   "metadata": {},
   "outputs": [
    {
     "name": "stdout",
     "output_type": "stream",
     "text": [
      "x:100\n",
      "(1.6666666666666667, 0.02777777777777778, 0.0011574074074074076)\n"
     ]
    }
   ],
   "source": [
    "#WAP to input number of seconds and print in days, hours, minutes and seconds\n",
    "\n",
    "def second(x):\n",
    "    print(f\"x:{x}\")\n",
    "    m=x/60;\n",
    "    h=m/60;\n",
    "    d=h/24;\n",
    "    return(m,h,d)\n",
    "\n",
    "print(second(100))\n",
    "    "
   ]
  },
  {
   "cell_type": "code",
   "execution_count": 70,
   "metadata": {},
   "outputs": [
    {
     "data": {
      "text/plain": [
       "sys.version_info(major=3, minor=8, micro=3, releaselevel='final', serial=0)"
      ]
     },
     "execution_count": 70,
     "metadata": {},
     "output_type": "execute_result"
    }
   ],
   "source": [
    "--version"
   ]
  },
  {
   "cell_type": "code",
   "execution_count": 71,
   "metadata": {},
   "outputs": [
    {
     "name": "stdout",
     "output_type": "stream",
     "text": [
      "None\n"
     ]
    }
   ],
   "source": [
    "def func():\n",
    "    pass\n",
    "\n",
    "print(func())"
   ]
  }
 ],
 "metadata": {
  "kernelspec": {
   "display_name": "Python 3",
   "language": "python",
   "name": "python3"
  },
  "language_info": {
   "codemirror_mode": {
    "name": "ipython",
    "version": 3
   },
   "file_extension": ".py",
   "mimetype": "text/x-python",
   "name": "python",
   "nbconvert_exporter": "python",
   "pygments_lexer": "ipython3",
   "version": "3.8.3"
  }
 },
 "nbformat": 4,
 "nbformat_minor": 4
}
