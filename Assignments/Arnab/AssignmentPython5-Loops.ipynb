{
 "cells": [
  {
   "cell_type": "markdown",
   "metadata": {},
   "source": [
    "# Ex 1"
   ]
  },
  {
   "cell_type": "code",
   "execution_count": 4,
   "metadata": {},
   "outputs": [
    {
     "name": "stdout",
     "output_type": "stream",
     "text": [
      "How many natural nos. to be printed: 20\n",
      "1 2 3 4 5 6 7 8 9 10 11 12 13 14 15 16 17 18 19 20 "
     ]
    }
   ],
   "source": [
    "n = int(input(\"How many natural nos. to be printed: \"))\n",
    "for i in (range(1,n+1)): \n",
    "    print(i, end=\" \")"
   ]
  },
  {
   "cell_type": "markdown",
   "metadata": {},
   "source": [
    "# Ex 2"
   ]
  },
  {
   "cell_type": "code",
   "execution_count": 5,
   "metadata": {},
   "outputs": [
    {
     "name": "stdout",
     "output_type": "stream",
     "text": [
      "How many natural nos. to be added: 30\n",
      "1 2 3 4 5 6 7 8 9 10 11 12 13 14 15 16 17 18 19 20 21 22 23 24 25 26 27 28 29 30 Sum:  465\n"
     ]
    }
   ],
   "source": [
    "sum = 0\n",
    "n = int(input(\"How many natural nos. to be added: \"))\n",
    "for i in range(1, n+1): \n",
    "    print(i, end=\" \")\n",
    "    sum += i\n",
    "print(\"Sum: \", sum)"
   ]
  },
  {
   "cell_type": "markdown",
   "metadata": {},
   "source": [
    "# Ex 3"
   ]
  },
  {
   "cell_type": "code",
   "execution_count": 10,
   "metadata": {},
   "outputs": [
    {
     "name": "stdout",
     "output_type": "stream",
     "text": [
      "How many natural nos. to be printed: 20\n",
      "20 19 18 17 16 15 14 13 12 11 10 9 8 7 6 5 4 3 2 1 "
     ]
    }
   ],
   "source": [
    "n = int(input(\"How many natural nos. to be printed: \"))\n",
    "for i in range(n, 0, -1): \n",
    "    print(i, end=\" \")"
   ]
  },
  {
   "cell_type": "markdown",
   "metadata": {},
   "source": [
    "# Ex 4"
   ]
  },
  {
   "cell_type": "code",
   "execution_count": 18,
   "metadata": {},
   "outputs": [
    {
     "name": "stdout",
     "output_type": "stream",
     "text": [
      "Input a number: 100\n",
      "Factorial of  100  is  93326215443944152681699238856266700490715968264381621468592963895217599993229915608941463976156518286253697920827223758251185210916864000000000000000000000000\n"
     ]
    }
   ],
   "source": [
    "def fact (n):\n",
    "    f = 1\n",
    "    for i in range(1, n+1):\n",
    "        f = f * i\n",
    "    return f\n",
    "\n",
    "n = int(input(\"Input a number: \"))\n",
    "print(\"Factorial of \", n, \" is \", fact(n))"
   ]
  },
  {
   "cell_type": "markdown",
   "metadata": {},
   "source": [
    "# Ex 5"
   ]
  },
  {
   "cell_type": "code",
   "execution_count": 22,
   "metadata": {},
   "outputs": [
    {
     "name": "stdout",
     "output_type": "stream",
     "text": [
      "Input a number for Fibonnaci sequence: 20\n",
      "Fibonnaci of  20  is  [0, 1, 1, 2, 3, 5, 8, 13, 21, 34, 55, 89, 144, 233, 377, 610, 987, 1597, 2584, 4181]\n"
     ]
    }
   ],
   "source": [
    "def fibonnaci_n (n):\n",
    "    fib_list = [0, 1]\n",
    "    for i in range(2, n):\n",
    "        new_val = fib_list[i-2] + fib_list[i-1]\n",
    "        fib_list.append(new_val)\n",
    "    return fib_list;\n",
    "\n",
    "n = int(input(\"Input a number for Fibonnaci sequence: \"))\n",
    "print(\"Fibonnaci of \", n, \" is \", fibonnaci_n(n))"
   ]
  },
  {
   "cell_type": "markdown",
   "metadata": {},
   "source": [
    "# Ex 6"
   ]
  },
  {
   "cell_type": "code",
   "execution_count": 2,
   "metadata": {},
   "outputs": [
    {
     "name": "stdout",
     "output_type": "stream",
     "text": [
      "Input a number: 123123n3213131\n",
      "'123123n3213131'  is not a number\n"
     ]
    }
   ],
   "source": [
    "str = input(\"Input a number: \")\n",
    "if str.isdigit() == False:\n",
    "    print(repr(str), \" is not a number\");\n",
    "else: \n",
    "    print(\"All digits of \", str, \" is \", \" \".join(str))"
   ]
  },
  {
   "cell_type": "markdown",
   "metadata": {},
   "source": [
    "# Ex 10"
   ]
  },
  {
   "cell_type": "code",
   "execution_count": 11,
   "metadata": {},
   "outputs": [
    {
     "name": "stdout",
     "output_type": "stream",
     "text": [
      "* \n",
      "* * \n",
      "* * * \n",
      "* * * * \n",
      "* * * * * \n"
     ]
    }
   ],
   "source": [
    "for i in range(1,6):\n",
    "    print(\"* \" * i)\n"
   ]
  },
  {
   "cell_type": "code",
   "execution_count": 12,
   "metadata": {},
   "outputs": [
    {
     "name": "stdout",
     "output_type": "stream",
     "text": [
      "* * * * * \n",
      "* * * * \n",
      "* * * \n",
      "* * \n",
      "* \n"
     ]
    }
   ],
   "source": [
    "for i in range(5, 0, -1):\n",
    "        print(\"* \" * i)"
   ]
  },
  {
   "cell_type": "code",
   "execution_count": 16,
   "metadata": {},
   "outputs": [
    {
     "name": "stdout",
     "output_type": "stream",
     "text": [
      "         * \n",
      "       * * \n",
      "     * * * \n",
      "   * * * * \n",
      " * * * * * \n"
     ]
    }
   ],
   "source": [
    "for i in range(1,6):\n",
    "    print(\"  \" * (5-i), \"* \" * i)"
   ]
  },
  {
   "cell_type": "code",
   "execution_count": 17,
   "metadata": {},
   "outputs": [
    {
     "name": "stdout",
     "output_type": "stream",
     "text": [
      "     * \n",
      "    * * \n",
      "   * * * \n",
      "  * * * * \n",
      " * * * * * \n"
     ]
    }
   ],
   "source": [
    "for i in range(1,6):\n",
    "    print(\" \" * (5-i), \"* \" * i)"
   ]
  },
  {
   "cell_type": "markdown",
   "metadata": {},
   "source": [
    "# Ex 11"
   ]
  },
  {
   "cell_type": "code",
   "execution_count": 19,
   "metadata": {},
   "outputs": [
    {
     "name": "stdout",
     "output_type": "stream",
     "text": [
      "1   \n",
      "1   2   \n",
      "1   2   3   \n",
      "1   2   3   4   \n",
      "1   2   3   4   5   \n"
     ]
    }
   ],
   "source": [
    "for i in range(1,6):\n",
    "    for n in range(1, i+1):\n",
    "        print(n, \" \", end=\" \")\n",
    "    print()"
   ]
  },
  {
   "cell_type": "code",
   "execution_count": 4,
   "metadata": {},
   "outputs": [
    {
     "name": "stdout",
     "output_type": "stream",
     "text": [
      "         1 \n",
      "       2 2 \n",
      "     3 3 3 \n",
      "   4 4 4 4 \n",
      " 5 5 5 5 5 \n"
     ]
    }
   ],
   "source": [
    "for i in range(1,6):\n",
    "    num = str(i) + \" \"\n",
    "    print(\"  \" * (5-i), num * i)"
   ]
  },
  {
   "cell_type": "markdown",
   "metadata": {},
   "source": [
    "# Ex 12"
   ]
  },
  {
   "cell_type": "code",
   "execution_count": 16,
   "metadata": {},
   "outputs": [
    {
     "name": "stdout",
     "output_type": "stream",
     "text": [
      "A \n",
      "A B \n",
      "A B C \n",
      "A B C D \n",
      "A B C D E \n"
     ]
    }
   ],
   "source": [
    "for i in range(ord('A'), ord('F')):\n",
    "    for n in range(ord('A'), i+1):\n",
    "        print(chr(n), end=\" \")\n",
    "    print()"
   ]
  },
  {
   "cell_type": "code",
   "execution_count": 51,
   "metadata": {},
   "outputs": [
    {
     "name": "stdout",
     "output_type": "stream",
     "text": [
      "    A\n",
      "   ABA\n",
      "  ABCBA\n",
      " ABCDCBA\n",
      "ABCDEDCBA\n"
     ]
    }
   ],
   "source": [
    "mid = ord('A')\n",
    "left = \"\"\n",
    "total_cols = 9\n",
    "for row in range(0, 5):\n",
    "    start = ord('A')\n",
    "    left = []\n",
    "    filled = 0\n",
    "    for i in range(0, row):\n",
    "        filled += 1\n",
    "        left.append(chr(start + i))\n",
    "    right = left[::-1]\n",
    "    \n",
    "    total_cols -= filled*2\n",
    "    #print(\"total_cols: \", total_cols)\n",
    "    space = \" \"*(total_cols//2)\n",
    "    total_cols = 9\n",
    "    #print(\"space \", repr(space))\n",
    "    print(\"\".join(space),  \"\".join(left),  chr(mid), \"\".join(right), end=\"\", sep=\"\")\n",
    "    print()\n",
    "    mid += 1\n",
    "        "
   ]
  },
  {
   "cell_type": "code",
   "execution_count": null,
   "metadata": {},
   "outputs": [],
   "source": []
  }
 ],
 "metadata": {
  "kernelspec": {
   "display_name": "Python 3",
   "language": "python",
   "name": "python3"
  },
  "language_info": {
   "codemirror_mode": {
    "name": "ipython",
    "version": 3
   },
   "file_extension": ".py",
   "mimetype": "text/x-python",
   "name": "python",
   "nbconvert_exporter": "python",
   "pygments_lexer": "ipython3",
   "version": "3.8.3"
  }
 },
 "nbformat": 4,
 "nbformat_minor": 4
}
