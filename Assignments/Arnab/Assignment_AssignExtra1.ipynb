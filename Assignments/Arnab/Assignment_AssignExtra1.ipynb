{
 "cells": [
  {
   "cell_type": "code",
   "execution_count": 2,
   "metadata": {},
   "outputs": [],
   "source": [
    "# Exercise 1\n",
    "# f = 9C/5 + 32\n",
    "# C = (f - 32)*5/9"
   ]
  },
  {
   "cell_type": "code",
   "execution_count": 8,
   "metadata": {},
   "outputs": [
    {
     "name": "stdout",
     "output_type": "stream",
     "text": [
      "Input Fahrenheit: 96\n",
      "Celsius is:  5\n"
     ]
    }
   ],
   "source": [
    "def f_to_c(f):\n",
    "    c = (f - 32)*5%9\n",
    "    return c\n",
    "\n",
    "f = int(input(\"Input Fahrenheit: \"))\n",
    "print(\"Celsius is: \", f_to_c(f))\n",
    "    "
   ]
  },
  {
   "cell_type": "code",
   "execution_count": 9,
   "metadata": {},
   "outputs": [],
   "source": [
    "# Exercise 2\n",
    "# Square and Cube of a number"
   ]
  },
  {
   "cell_type": "code",
   "execution_count": 14,
   "metadata": {},
   "outputs": [
    {
     "name": "stdout",
     "output_type": "stream",
     "text": [
      "Input a number: 10\n",
      "Type 1 for square, 2 for cube: 2\n",
      "cube  of  10  is  1000\n"
     ]
    }
   ],
   "source": [
    "def get_square(n):\n",
    "    return n**2\n",
    "\n",
    "def get_cube(n):\n",
    "    return n**3\n",
    "\n",
    "n = int(input(\"Input a number: \"))\n",
    "c = int(input(\"Type 1 for square, 2 for cube: \"))\n",
    "\n",
    "f = [get_square, get_cube]\n",
    "l_str = [\"square\", \"cube\"]\n",
    "\n",
    "print(l_str[c-1], \" of \", n, \" is \", f[c-1](n))\n"
   ]
  },
  {
   "cell_type": "code",
   "execution_count": 15,
   "metadata": {},
   "outputs": [],
   "source": [
    "# Exercise 3: square(n) + square(m)"
   ]
  },
  {
   "cell_type": "code",
   "execution_count": 18,
   "metadata": {},
   "outputs": [
    {
     "name": "stdout",
     "output_type": "stream",
     "text": [
      "Input a number n: -1\n",
      "Input a number m: -2\n",
      "sq(n) + sq(m) =  5\n"
     ]
    }
   ],
   "source": [
    "n = int(input(\"Input a number n: \"))\n",
    "m = int(input(\"Input a number m: \"))\n",
    "\n",
    "print(\"sq(n) + sq(m) = \", get_square(n) + get_square(m))"
   ]
  },
  {
   "cell_type": "code",
   "execution_count": null,
   "metadata": {},
   "outputs": [],
   "source": [
    "# Exercise 5: SI"
   ]
  },
  {
   "cell_type": "code",
   "execution_count": 19,
   "metadata": {},
   "outputs": [
    {
     "name": "stdout",
     "output_type": "stream",
     "text": [
      "Input Principal amount: 2\n",
      "Input Rate of Interest: 10\n",
      "Input Tenure : 1\n",
      "Simple interest:  0.2\n"
     ]
    }
   ],
   "source": [
    "def get_si(p, r, t):\n",
    "    return (p*r*t)/100\n",
    "\n",
    "p = int(input(\"Input Principal amount: \"))\n",
    "r = int(input(\"Input Rate of Interest: \"))\n",
    "t = int(input(\"Input Tenure : \"))\n",
    "print(\"Simple interest: \", get_si(p, r, t))"
   ]
  },
  {
   "cell_type": "code",
   "execution_count": 20,
   "metadata": {},
   "outputs": [],
   "source": [
    "# Exercise 7: sum of first N natural numbers - 1, 2, 3, etc.. "
   ]
  },
  {
   "cell_type": "code",
   "execution_count": 22,
   "metadata": {},
   "outputs": [
    {
     "name": "stdout",
     "output_type": "stream",
     "text": [
      "How many natural numbers do you want to add? 20\n",
      "Sum of first  20  natural numbers is:  210\n"
     ]
    }
   ],
   "source": [
    "def get_sum_nn(N): \n",
    "    sum = 0\n",
    "    for i in range(1, N+1):\n",
    "        sum += i\n",
    "    return sum\n",
    "\n",
    "N = int(input(\"How many natural numbers do you want to add? \"))\n",
    "print(\"Sum of first \", N, \" natural numbers is: \", get_sum_nn(N))\n"
   ]
  },
  {
   "cell_type": "code",
   "execution_count": 23,
   "metadata": {},
   "outputs": [],
   "source": [
    "# Exercise 8: swap 2 numbers"
   ]
  },
  {
   "cell_type": "code",
   "execution_count": 28,
   "metadata": {},
   "outputs": [
    {
     "name": "stdout",
     "output_type": "stream",
     "text": [
      "Input X: 72\n",
      "Input Y: 98\n",
      " X and Y after swapping:  (98, 72)\n",
      " X and Y after swapping (pythonic way):  98 72\n"
     ]
    }
   ],
   "source": [
    "def swap_simple(x, y):\n",
    "    tmp = y\n",
    "    y = x\n",
    "    x = tmp\n",
    "    return x, y\n",
    "\n",
    "x = int(input(\"Input X: \"))\n",
    "y = int(input(\"Input Y: \"))\n",
    "print(\" X and Y after swapping: \",  swap_simple(x, y))\n",
    "\n",
    "# Pythonic way!\n",
    "x, y = y, x\n",
    "print(\" X and Y after swapping (pythonic way): \", x, y) \n"
   ]
  },
  {
   "cell_type": "code",
   "execution_count": 29,
   "metadata": {},
   "outputs": [],
   "source": [
    "# Exercise 10"
   ]
  },
  {
   "cell_type": "code",
   "execution_count": 38,
   "metadata": {},
   "outputs": [
    {
     "name": "stdout",
     "output_type": "stream",
     "text": [
      "Input a char:  Z\n",
      "Ascii val of  Z  is  90\n"
     ]
    }
   ],
   "source": [
    "x = input(\"Input a char:  \")\n",
    "print (\"Ascii val of \", x, \" is \", ord(x))"
   ]
  },
  {
   "cell_type": "code",
   "execution_count": 39,
   "metadata": {},
   "outputs": [],
   "source": [
    "# Exercise 12: % of marks in 5 subjects"
   ]
  },
  {
   "cell_type": "code",
   "execution_count": 10,
   "metadata": {},
   "outputs": [
    {
     "name": "stdout",
     "output_type": "stream",
     "text": [
      "Input marks for English (out of 100):  80\n",
      "Input marks for Maths (out of 100):  90\n",
      "Input marks for Hindi (out of 100):  80\n",
      "Input marks for Physics (out of 100):  90\n",
      "Input marks for Chemistry (out of 100):  80\n",
      "Total percentage for 5 subjects:  84.0  %\n"
     ]
    }
   ],
   "source": [
    "marks = []\n",
    "marks.append(int(input(\"Input marks for English (out of 100):  \")))\n",
    "marks.append(int(input(\"Input marks for Maths (out of 100):  \")))\n",
    "marks.append(int(input(\"Input marks for Hindi (out of 100):  \")))\n",
    "marks.append(int(input(\"Input marks for Physics (out of 100):  \")))\n",
    "marks.append(int(input(\"Input marks for Chemistry (out of 100):  \")))\n",
    "\n",
    "print (\"Total percentage for 5 subjects: \", (sum(marks)/500)*100, \" %\")"
   ]
  },
  {
   "cell_type": "code",
   "execution_count": null,
   "metadata": {},
   "outputs": [],
   "source": []
  },
  {
   "cell_type": "code",
   "execution_count": null,
   "metadata": {},
   "outputs": [],
   "source": []
  }
 ],
 "metadata": {
  "kernelspec": {
   "display_name": "Python 3",
   "language": "python",
   "name": "python3"
  },
  "language_info": {
   "codemirror_mode": {
    "name": "ipython",
    "version": 3
   },
   "file_extension": ".py",
   "mimetype": "text/x-python",
   "name": "python",
   "nbconvert_exporter": "python",
   "pygments_lexer": "ipython3",
   "version": "3.8.3"
  }
 },
 "nbformat": 4,
 "nbformat_minor": 4
}
