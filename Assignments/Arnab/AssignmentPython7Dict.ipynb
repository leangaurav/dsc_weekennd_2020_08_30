{
 "cells": [
  {
   "cell_type": "markdown",
   "metadata": {},
   "source": [
    "# Ex 1"
   ]
  },
  {
   "cell_type": "code",
   "execution_count": 2,
   "metadata": {},
   "outputs": [
    {
     "name": "stdout",
     "output_type": "stream",
     "text": [
      "dict:  dict_items([(1, -1), (2, -2), (3, -3), (4, -4), (5, -5)])\n"
     ]
    }
   ],
   "source": [
    "d = {}\n",
    "for i in range(1,6): \n",
    "    d[i] = 0 - i\n",
    "print(\"dict: \", d.items())"
   ]
  },
  {
   "cell_type": "code",
   "execution_count": 3,
   "metadata": {},
   "outputs": [
    {
     "name": "stdout",
     "output_type": "stream",
     "text": [
      "dict:  dict_items([(1, -1), (2, -2), (3, -3), (4, -4), (5, -5)])\n"
     ]
    }
   ],
   "source": [
    "d = {}\n",
    "lis = [1,2,3,4,5]\n",
    "for i in lis: \n",
    "    d[i] = 0 - i\n",
    "print(\"dict: \", d.items())"
   ]
  },
  {
   "cell_type": "markdown",
   "metadata": {},
   "source": [
    "# Ex 2"
   ]
  },
  {
   "cell_type": "code",
   "execution_count": 4,
   "metadata": {},
   "outputs": [],
   "source": [
    "# following will work: 2, 4, 5, 6, 7, 10"
   ]
  },
  {
   "cell_type": "code",
   "execution_count": 5,
   "metadata": {},
   "outputs": [
    {
     "ename": "SyntaxError",
     "evalue": "invalid syntax (<ipython-input-5-dba965ec7a9c>, line 1)",
     "output_type": "error",
     "traceback": [
      "\u001b[1;36m  File \u001b[1;32m\"<ipython-input-5-dba965ec7a9c>\"\u001b[1;36m, line \u001b[1;32m1\u001b[0m\n\u001b[1;33m    d = {1=2, 2=3}\u001b[0m\n\u001b[1;37m          ^\u001b[0m\n\u001b[1;31mSyntaxError\u001b[0m\u001b[1;31m:\u001b[0m invalid syntax\n"
     ]
    }
   ],
   "source": [
    "d = {1=2, 2=3}"
   ]
  },
  {
   "cell_type": "code",
   "execution_count": 6,
   "metadata": {},
   "outputs": [
    {
     "ename": "SyntaxError",
     "evalue": "invalid syntax (<ipython-input-6-8e299bf6f15e>, line 1)",
     "output_type": "error",
     "traceback": [
      "\u001b[1;36m  File \u001b[1;32m\"<ipython-input-6-8e299bf6f15e>\"\u001b[1;36m, line \u001b[1;32m1\u001b[0m\n\u001b[1;33m    d = {1,2; 2,3}\u001b[0m\n\u001b[1;37m            ^\u001b[0m\n\u001b[1;31mSyntaxError\u001b[0m\u001b[1;31m:\u001b[0m invalid syntax\n"
     ]
    }
   ],
   "source": [
    "d = {1,2; 2,3}"
   ]
  },
  {
   "cell_type": "code",
   "execution_count": 8,
   "metadata": {},
   "outputs": [],
   "source": [
    "d = {'a': 'A', 'b':1, 'c':[1234]}"
   ]
  },
  {
   "cell_type": "code",
   "execution_count": 9,
   "metadata": {},
   "outputs": [
    {
     "data": {
      "text/plain": [
       "{'a': 'A', 'b': 1, 'c': [1234]}"
      ]
     },
     "execution_count": 9,
     "metadata": {},
     "output_type": "execute_result"
    }
   ],
   "source": [
    "d"
   ]
  },
  {
   "cell_type": "code",
   "execution_count": 10,
   "metadata": {},
   "outputs": [
    {
     "data": {
      "text/plain": [
       "{'x': 2, 'y': 3}"
      ]
     },
     "execution_count": 10,
     "metadata": {},
     "output_type": "execute_result"
    }
   ],
   "source": [
    "d = dict(x=2, y=3)\n",
    "d"
   ]
  },
  {
   "cell_type": "code",
   "execution_count": 11,
   "metadata": {},
   "outputs": [
    {
     "ename": "SyntaxError",
     "evalue": "expression cannot contain assignment, perhaps you meant \"==\"? (<ipython-input-11-96921fc85313>, line 1)",
     "output_type": "error",
     "traceback": [
      "\u001b[1;36m  File \u001b[1;32m\"<ipython-input-11-96921fc85313>\"\u001b[1;36m, line \u001b[1;32m1\u001b[0m\n\u001b[1;33m    d = dict('x'=2, 'y'=3)\u001b[0m\n\u001b[1;37m             ^\u001b[0m\n\u001b[1;31mSyntaxError\u001b[0m\u001b[1;31m:\u001b[0m expression cannot contain assignment, perhaps you meant \"==\"?\n"
     ]
    }
   ],
   "source": [
    "d = dict('x'=2, 'y'=3)\n",
    "d\n"
   ]
  },
  {
   "cell_type": "code",
   "execution_count": 12,
   "metadata": {},
   "outputs": [
    {
     "ename": "SyntaxError",
     "evalue": "expression cannot contain assignment, perhaps you meant \"==\"? (<ipython-input-12-cf413a9f5bcb>, line 1)",
     "output_type": "error",
     "traceback": [
      "\u001b[1;36m  File \u001b[1;32m\"<ipython-input-12-cf413a9f5bcb>\"\u001b[1;36m, line \u001b[1;32m1\u001b[0m\n\u001b[1;33m    d = dict(1=2, 2=3)\u001b[0m\n\u001b[1;37m             ^\u001b[0m\n\u001b[1;31mSyntaxError\u001b[0m\u001b[1;31m:\u001b[0m expression cannot contain assignment, perhaps you meant \"==\"?\n"
     ]
    }
   ],
   "source": [
    "d = dict(1=2, 2=3)\n",
    "d"
   ]
  },
  {
   "cell_type": "markdown",
   "metadata": {},
   "source": [
    "# Ex 3"
   ]
  },
  {
   "cell_type": "code",
   "execution_count": 14,
   "metadata": {},
   "outputs": [
    {
     "data": {
      "text/plain": [
       "{1: 10, 2: 20, 3: 30, 4: 40}"
      ]
     },
     "execution_count": 14,
     "metadata": {},
     "output_type": "execute_result"
    }
   ],
   "source": [
    "l1 = [1,2,3,4]\n",
    "l2 = [10,20,30,40]\n",
    "d = dict(zip(l1, l2))\n",
    "d"
   ]
  },
  {
   "cell_type": "markdown",
   "metadata": {},
   "source": [
    "# Ex 4"
   ]
  },
  {
   "cell_type": "code",
   "execution_count": 19,
   "metadata": {},
   "outputs": [
    {
     "name": "stdout",
     "output_type": "stream",
     "text": [
      "{'A': 65, 'B': 66, 'C': 67, 'D': 68, 'E': 69, 'F': 70, 'G': 71, 'H': 72, 'I': 73, 'J': 74, 'K': 75, 'L': 76, 'M': 77, 'N': 78, 'O': 79, 'P': 80, 'Q': 81, 'R': 82, 'S': 83, 'T': 84, 'U': 85, 'V': 86, 'W': 87, 'X': 88, 'Y': 89, 'Z': 90}\n"
     ]
    }
   ],
   "source": [
    "d = {}\n",
    "for alph in range(ord('A'), ord('Z')+1):\n",
    "    d[chr(alph)] = alph\n",
    "print (d)"
   ]
  },
  {
   "cell_type": "markdown",
   "metadata": {},
   "source": [
    "# Ex 5"
   ]
  },
  {
   "cell_type": "code",
   "execution_count": 32,
   "metadata": {},
   "outputs": [
    {
     "name": "stdout",
     "output_type": "stream",
     "text": [
      "Enter a number between 0 - 9: 6\n",
      "Word for  6  is  six\n",
      "dict_keys([0, 1, 2, 3, 4, 5, 6, 7, 8, 9])\n",
      "dict_values(['zero', 'one', 'two', 'three', 'four', 'five', 'six', 'seven', 'eight', 'nine'])\n",
      "dict_items([(0, 'zero'), (1, 'one'), (2, 'two'), (3, 'three'), (4, 'four'), (5, 'five'), (6, 'six'), (7, 'seven'), (8, 'eight'), (9, 'nine')])\n"
     ]
    }
   ],
   "source": [
    "l1 = [0,1,2,3,4,5,6,7,8,9]\n",
    "l2 = ['zero', 'one', 'two', 'three', 'four', 'five', 'six', 'seven', 'eight', 'nine']\n",
    "d = dict(zip(l1, l2))\n",
    "\n",
    "num = int(input(\"Enter a number between 0 - 9: \"))\n",
    "if d.get(num, -1) != -1:\n",
    "    print(\"Word for \", num, \" is \", d[num])\n",
    "else:\n",
    "    print(num, \" not found..\")\n",
    "\n",
    "print(d.keys())\n",
    "print(d.values())\n",
    "print(d.items())"
   ]
  },
  {
   "cell_type": "markdown",
   "metadata": {},
   "source": [
    "# Ex 6"
   ]
  },
  {
   "cell_type": "code",
   "execution_count": 33,
   "metadata": {},
   "outputs": [],
   "source": [
    "# Probable output:\n",
    "d2 = {\"A\": \"Apple\", \"C\":\"Cat\"}"
   ]
  },
  {
   "cell_type": "code",
   "execution_count": 34,
   "metadata": {},
   "outputs": [
    {
     "name": "stdout",
     "output_type": "stream",
     "text": [
      "{'A': 'Apple', 'C': 'Cat'}\n"
     ]
    }
   ],
   "source": [
    "l1 = ['A', 'B', 'C', 'D']\n",
    "l2 = ['Apple', 'Ball', 'Cat', 'Dog']\n",
    "d1 = dict(zip(l1, l2))\n",
    "d2 = dict(list(d1.items())[::2])\n",
    "print(d2)"
   ]
  },
  {
   "cell_type": "markdown",
   "metadata": {},
   "source": [
    "# Ex 7"
   ]
  },
  {
   "cell_type": "code",
   "execution_count": 52,
   "metadata": {},
   "outputs": [
    {
     "name": "stdout",
     "output_type": "stream",
     "text": [
      "Enter a string: Hello World! Welcome to the world of Python..\n",
      "Vowels in the string: \n",
      "a : 0\n",
      "e : 4\n",
      "i : 0\n",
      "o : 7\n",
      "u : 0\n"
     ]
    }
   ],
   "source": [
    "def get_vowel_count(s): \n",
    "    d = {\"a\":0, \"e\":0, \"i\":0, \"o\":0, \"u\":0}\n",
    "    for c in s.lower():\n",
    "        if c in \"aeiou\":\n",
    "            d[c] += 1\n",
    "    return d\n",
    "\n",
    "s = input(\"Enter a string: \")\n",
    "print(\"Vowels in the string: \")\n",
    "d1 = get_vowel_count(s)\n",
    "for v in d1.keys():\n",
    "    print(v, \":\", d1[v])"
   ]
  },
  {
   "cell_type": "markdown",
   "metadata": {},
   "source": [
    "# Ex 8"
   ]
  },
  {
   "cell_type": "code",
   "execution_count": 67,
   "metadata": {},
   "outputs": [
    {
     "name": "stdout",
     "output_type": "stream",
     "text": [
      "Enter a string: Hellow! World.. 123\n",
      "Characterization in the string: \n",
      "h : 1\n",
      "e : 1\n",
      "l : 3\n",
      "o : 2\n",
      "w : 2\n",
      "r : 1\n",
      "d : 1\n"
     ]
    }
   ],
   "source": [
    "def get_alphabets_count(s): \n",
    "    d = {}\n",
    "    for c in s.lower():\n",
    "        if c in d.keys():\n",
    "            d[c] = d[c] + 1 \n",
    "        elif c.isalpha():\n",
    "            d[c] = 1\n",
    "    return d\n",
    "\n",
    "s = input(\"Enter a string: \")\n",
    "print(\"Characterization in the string: \")\n",
    "d1 = get_alphabets_count(s)\n",
    "for v in d1.keys():\n",
    "    print(v, \":\", d1[v])"
   ]
  },
  {
   "cell_type": "code",
   "execution_count": 73,
   "metadata": {},
   "outputs": [
    {
     "name": "stdout",
     "output_type": "stream",
     "text": [
      "Enter a string: Although Python 2.X and 3.X offer much the same functionality, they package it differently. In fact, the mapping from 2.X to 3.X string types is not completely direct— 2.X’s str equates to both str and bytes in\n",
      "Word characterization in the string: \n",
      "Although : 1\n",
      "Python : 1\n",
      "2.X : 2\n",
      "and : 2\n",
      "3.X : 2\n",
      "offer : 1\n",
      "much : 1\n",
      "the : 2\n",
      "same : 1\n",
      "functionality, : 1\n",
      "they : 1\n",
      "package : 1\n",
      "it : 1\n",
      "differently. : 1\n",
      "In : 1\n",
      "fact, : 1\n",
      "mapping : 1\n",
      "from : 1\n",
      "to : 2\n",
      "string : 1\n",
      "types : 1\n",
      "is : 1\n",
      "not : 1\n",
      "completely : 1\n",
      "direct— : 1\n",
      "2.X’s : 1\n",
      "str : 2\n",
      "equates : 1\n",
      "both : 1\n",
      "bytes : 1\n",
      "in : 1\n"
     ]
    }
   ],
   "source": [
    "def get_word_count(s): \n",
    "    d = {}\n",
    "    for word in s:\n",
    "        if word in d.keys():\n",
    "            d[word] = d[word] + 1 \n",
    "        else:\n",
    "            d[word] = 1\n",
    "    return d\n",
    "\n",
    "s = input(\"Enter a string: \").split()\n",
    "print(\"Word characterization in the string: \")\n",
    "d1 = get_word_count(s)\n",
    "for v in d1.keys():\n",
    "    print(v, \":\", d1[v])"
   ]
  },
  {
   "cell_type": "code",
   "execution_count": null,
   "metadata": {},
   "outputs": [],
   "source": []
  }
 ],
 "metadata": {
  "kernelspec": {
   "display_name": "Python 3",
   "language": "python",
   "name": "python3"
  },
  "language_info": {
   "codemirror_mode": {
    "name": "ipython",
    "version": 3
   },
   "file_extension": ".py",
   "mimetype": "text/x-python",
   "name": "python",
   "nbconvert_exporter": "python",
   "pygments_lexer": "ipython3",
   "version": "3.8.3"
  }
 },
 "nbformat": 4,
 "nbformat_minor": 4
}
