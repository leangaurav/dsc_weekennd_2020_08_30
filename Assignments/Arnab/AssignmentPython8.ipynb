{
 "cells": [
  {
   "cell_type": "markdown",
   "metadata": {},
   "source": [
    "# Ex 1"
   ]
  },
  {
   "cell_type": "code",
   "execution_count": 5,
   "metadata": {},
   "outputs": [
    {
     "name": "stdout",
     "output_type": "stream",
     "text": [
      "Enter a number: 100\n"
     ]
    },
    {
     "data": {
      "text/plain": [
       "10000"
      ]
     },
     "execution_count": 5,
     "metadata": {},
     "output_type": "execute_result"
    }
   ],
   "source": [
    "i = int(input(\"Enter a number to square: \"))\n",
    "(lambda x: x**2)(i)"
   ]
  },
  {
   "cell_type": "code",
   "execution_count": 8,
   "metadata": {},
   "outputs": [
    {
     "name": "stdout",
     "output_type": "stream",
     "text": [
      "Enter a number to inverse: 1\n"
     ]
    },
    {
     "data": {
      "text/plain": [
       "1.0"
      ]
     },
     "execution_count": 8,
     "metadata": {},
     "output_type": "execute_result"
    }
   ],
   "source": [
    "i = int(input(\"Enter a number to inverse: \"))\n",
    "(lambda x: 1/x)(i)"
   ]
  },
  {
   "cell_type": "code",
   "execution_count": 13,
   "metadata": {},
   "outputs": [
    {
     "name": "stdout",
     "output_type": "stream",
     "text": [
      "Enter a number to inverse: -1902\n"
     ]
    },
    {
     "data": {
      "text/plain": [
       "1902"
      ]
     },
     "execution_count": 13,
     "metadata": {},
     "output_type": "execute_result"
    }
   ],
   "source": [
    "i = int(input(\"Enter a number to inverse: \"))\n",
    "(lambda x: 0 - x)(i)"
   ]
  },
  {
   "cell_type": "markdown",
   "metadata": {},
   "source": [
    "# Ex 2"
   ]
  },
  {
   "cell_type": "code",
   "execution_count": 139,
   "metadata": {},
   "outputs": [
    {
     "data": {
      "text/plain": [
       "67910"
      ]
     },
     "execution_count": 139,
     "metadata": {},
     "output_type": "execute_result"
    }
   ],
   "source": [
    "import functools\n",
    "\n",
    "l1 = [100, 2, 7000, 9, 3 , 0, 67910, 300, -200, -67910]\n",
    "functools.reduce((lambda x,y : x if x > y else y), l1)"
   ]
  },
  {
   "cell_type": "markdown",
   "metadata": {},
   "source": [
    "# Ex 3"
   ]
  },
  {
   "cell_type": "code",
   "execution_count": 148,
   "metadata": {},
   "outputs": [
    {
     "name": "stdout",
     "output_type": "stream",
     "text": [
      "Enter a list of numbers: 1 1 2 2 4 4\n",
      "iter l1:  [1, 1, 4, 4, 16, 16]\n",
      "iter l1:  [1.0, 1.0, 0.25, 0.25, 0.0625, 0.0625]\n",
      "iter l1:  [-1.0, -1.0, -0.25, -0.25, -0.0625, -0.0625]\n",
      "Final result:  [-1.0, -1.0, -0.25, -0.25, -0.0625, -0.0625]\n"
     ]
    }
   ],
   "source": [
    "def map_multiple(func, seq): \n",
    "    l1 = list.copy(seq)\n",
    "    for f in func:\n",
    "        l1 = list(map((lambda x: f(x)), l1))\n",
    "        print(\"iter l1: \", l1)\n",
    "    return l1\n",
    "\n",
    "if __name__ == \"__main__\":\n",
    "    in_list = input(\"Enter a list of numbers: \").split()\n",
    "    in_list = [int(x) for x in in_list]\n",
    "    f = [(lambda x: x**2), (lambda x: 1/x), (lambda x: 0-x)]\n",
    "    list_l1 = map_multiple(f, in_list)\n",
    "    print(\"Final result: \", list_l1)"
   ]
  },
  {
   "cell_type": "markdown",
   "metadata": {},
   "source": [
    "\n",
    "# Ex 4"
   ]
  },
  {
   "cell_type": "code",
   "execution_count": 23,
   "metadata": {},
   "outputs": [],
   "source": [
    "# Answer: 89 (finding max)"
   ]
  },
  {
   "cell_type": "code",
   "execution_count": 42,
   "metadata": {},
   "outputs": [
    {
     "name": "stdout",
     "output_type": "stream",
     "text": [
      "89\n"
     ]
    }
   ],
   "source": [
    "from functools import reduce\n",
    "\n",
    "l1 = [10, 30, 50, 89, 10]\n",
    "num = reduce(lambda x,y : x if x > y else y, l1)\n",
    "print(num)"
   ]
  },
  {
   "cell_type": "markdown",
   "metadata": {},
   "source": [
    "# Ex 6"
   ]
  },
  {
   "cell_type": "code",
   "execution_count": 40,
   "metadata": {},
   "outputs": [
    {
     "name": "stdout",
     "output_type": "stream",
     "text": [
      "Filtered numbers: 10 21 22 -34 "
     ]
    }
   ],
   "source": [
    "nList = [\"hello\", 10, \"world\", 21, 22, \"program\", -34]\n",
    "print(\"Filtered numbers: \", end=\"\")\n",
    "for i in filter((lambda x: x if isinstance(x, int) == True else None), nList):\n",
    "    print (i, end=\" \")\n"
   ]
  },
  {
   "cell_type": "markdown",
   "metadata": {},
   "source": [
    "# Ex 7"
   ]
  },
  {
   "cell_type": "code",
   "execution_count": 138,
   "metadata": {},
   "outputs": [
    {
     "name": "stdout",
     "output_type": "stream",
     "text": [
      "Input number list:  ['5ft10in', '5ft', '23in', '100in', '10ft', '1in', '1']\n",
      "Converted to m:  [1.778, 1.524, 0.5841999999999999, 2.54, 3.048, 0.0254, 0.0]\n"
     ]
    }
   ],
   "source": [
    "    \n",
    "def convert_to_m (s): \n",
    "    s1 = s.split(\"ft\") if \"ft\" in s else []\n",
    "    if len(s1) > 1:\n",
    "        s1[1] = s1[1].split(\"in\")[0] if \"in\" in s1[1]  else \"0\"\n",
    "        s1 = [int(x) for x in s1 if x != '']\n",
    "        total_inches = s1[0]*12 + s1[1]\n",
    "    else :\n",
    "        s1 = s.split(\"in\") if \"in\" in s else []\n",
    "        s1 = [int(x) for x in s1 if x != '']\n",
    "        total_inches = s1[0] if len(s1) > 0 else 0\n",
    "    return total_inches * 0.0254\n",
    "\n",
    "l1 = [\"5ft10in\", \"5ft\", \"23in\", \"100in\", \"10ft\", \"1in\", \"1\"]\n",
    "print(\"Input number list: \", l1)\n",
    "if __name__ == \"__main__\":\n",
    "    print(\"Converted to m: \", list(map(convert_to_m, l1)))\n",
    "    "
   ]
  },
  {
   "cell_type": "code",
   "execution_count": null,
   "metadata": {},
   "outputs": [],
   "source": []
  }
 ],
 "metadata": {
  "kernelspec": {
   "display_name": "Python 3",
   "language": "python",
   "name": "python3"
  },
  "language_info": {
   "codemirror_mode": {
    "name": "ipython",
    "version": 3
   },
   "file_extension": ".py",
   "mimetype": "text/x-python",
   "name": "python",
   "nbconvert_exporter": "python",
   "pygments_lexer": "ipython3",
   "version": "3.8.3"
  }
 },
 "nbformat": 4,
 "nbformat_minor": 4
}
