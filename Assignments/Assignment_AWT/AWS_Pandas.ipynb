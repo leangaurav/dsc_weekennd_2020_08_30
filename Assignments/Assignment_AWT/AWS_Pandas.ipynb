{
 "cells": [
  {
   "cell_type": "markdown",
   "metadata": {},
   "source": [
    "### Description\n",
    "\n",
    "**Airport**: The IATA airport code of the selected airport.  \n",
    "**Terminal**: Terminal(s) associated with the airport selected.  \n",
    "**Date**: Arrival Date(s) of flights associated with the airport/terminal/date range selected.  \n",
    "**Hour**: Hour(s) of arriving flights during a 24 hour time period for the airport/terminal selected/date range selected.  \n",
    "**U.S. Citizen Wait Times**:\n",
    "\n",
    "    Average:The average wait time for all U.S. Citizen passengers on flights arriving in the one hour increment.\n",
    "    Max:The highest wait time for all U.S. Citizen passengers on a flight arriving in the one hour increment.\n",
    "\n",
    "**Non U.S. Citizen Wait Times**:\n",
    "\n",
    "    Average:The average wait time for all Non U.S. Citizen passengers on flights arriving in the one hour increment.\n",
    "    Max:The highest wait time for all Non U.S. Citizen passengers on a flight arriving in the one hour increment.\n",
    "\n",
    "**Wait Times**:\n",
    "\n",
    "    Average:The average wait time for all passengers on flights arriving in the one hour increment.\n",
    "    Max:The highest wait time for any passenger on a flight arriving in the one hour increment.\n",
    "\n",
    "**Number of Passengers Time Interval**:\n",
    "\n",
    "    0-15:The actual number of passengers on flights which arrived in the selected hour who were processed in (0-15) minutes.\n",
    "    16-30:The actual number of passengers on flights which arrived in the selected hour who were processed in (16-30) minutes.\n",
    "    31-45:The actual number of passengers on flights which arrived in the selected hour who were processed in (31-45) minutes.\n",
    "    46-60:The actual number of passengers on flights which arrived in the selected hour who were processed in (46-60) minutes.\n",
    "    61-90:The actual number of passengers on flights which arrived in the selected hour who were processed in (61-90) minutes.\n",
    "    91-120:The actual number of passengers on flights which arrived in the selected hour who were processed in (91-120) minutes.\n",
    "    121Plus:The actual number of passengers on flights which arrived in the selected hour who were processed in (121 Plus) minutes.\n",
    "\n",
    "**Excluded**:The actual number of passengers on flights which arrived in the selected hour who were excluded from wait time reporting.  \n",
    "**Total**:Total number of passengers aboard arriving flights during the one hour increment.  \n",
    "**Flights**:Number of flights arriving during the time period.  \n",
    "**Booths**:Number of staffed primary inspection booths open to process flights which arrived during the selected hour.   \n"
   ]
  },
  {
   "cell_type": "markdown",
   "metadata": {},
   "source": [
    "### Problems\n",
    "- read dataset and convert column headers to correct format (the first  4 rows are headers, but not all rows contain column names)\n",
    "- check datatype of each column\n",
    "- find out columns which have na values\n",
    "- check if there are any unique values in first two columns\n",
    "- based on above, are these two columns userful ?   \n",
    "  \n",
    "  \n",
    "- check if all hour values are present or not\n",
    "- drop the upper bound of  hour column\n",
    "  Ex: replace  0100 - 0200 with 0100 ...\n",
    "- check that hour values lie in range 0-2300 or not\n",
    "- convert hour column from string type to datetime type. (If this doesn't work out easily, then first solve next problem)\n",
    "- check that length of each hour value is 4, if  not, check why and fix it and then check again   \n",
    "  \n",
    "  \n",
    "- convert Date column to datetime type\n",
    "- check data types now\n",
    "- replace Hours with only time part and Date column with only date part (both should  be converted to datetime type before this)\n",
    "- check data types again\n",
    "- merge date and hour column into a new column date_time (type of date_time should be datetime not str)\n",
    "                                                          "
   ]
  },
  {
   "cell_type": "code",
   "execution_count": null,
   "metadata": {},
   "outputs": [],
   "source": []
  }
 ],
 "metadata": {
  "kernelspec": {
   "display_name": "Python 3",
   "language": "python",
   "name": "python3"
  },
  "language_info": {
   "codemirror_mode": {
    "name": "ipython",
    "version": 3
   },
   "file_extension": ".py",
   "mimetype": "text/x-python",
   "name": "python",
   "nbconvert_exporter": "python",
   "pygments_lexer": "ipython3",
   "version": "3.8.3"
  }
 },
 "nbformat": 4,
 "nbformat_minor": 2
}
