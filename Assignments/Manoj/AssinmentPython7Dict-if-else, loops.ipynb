{
 "metadata": {
  "language_info": {
   "codemirror_mode": {
    "name": "ipython",
    "version": 3
   },
   "file_extension": ".py",
   "mimetype": "text/x-python",
   "name": "python",
   "nbconvert_exporter": "python",
   "pygments_lexer": "ipython3",
   "version": "3.7.4-final"
  },
  "orig_nbformat": 2,
  "kernelspec": {
   "name": "python3",
   "display_name": "Python 3"
  }
 },
 "nbformat": 4,
 "nbformat_minor": 2,
 "cells": [
  {
   "source": [
    "# WAP to create a dictionary of numbers mapped to their negative value for numbers from 1-5. The dictionary should contain something like this: Do with both with and without range based for loop. {1:-1,2:-2,3:-3....}"
   ],
   "cell_type": "markdown",
   "metadata": {}
  },
  {
   "source": [
    "### With LOOP"
   ],
   "cell_type": "markdown",
   "metadata": {}
  },
  {
   "cell_type": "code",
   "execution_count": 3,
   "metadata": {},
   "outputs": [
    {
     "output_type": "execute_result",
     "data": {
      "text/plain": "{1: -1, 2: -2, 3: -3, 4: -4, 5: -5}"
     },
     "metadata": {},
     "execution_count": 3
    }
   ],
   "source": [
    "df = {}\n",
    "for x in range(1, 6):\n",
    "    df[x] = -1 * x\n",
    "df"
   ]
  },
  {
   "cell_type": "code",
   "execution_count": 4,
   "metadata": {},
   "outputs": [],
   "source": [
    "df1 = {1: -1, 2: -2, 3: -3, 4: -4, 5: -5}"
   ]
  },
  {
   "cell_type": "code",
   "execution_count": null,
   "metadata": {},
   "outputs": [],
   "source": []
  },
  {
   "source": [
    "# Check which of the following declarations will work"
   ],
   "cell_type": "markdown",
   "metadata": {}
  },
  {
   "cell_type": "code",
   "execution_count": 5,
   "metadata": {},
   "outputs": [
    {
     "output_type": "error",
     "ename": "SyntaxError",
     "evalue": "invalid syntax (<ipython-input-5-dba965ec7a9c>, line 1)",
     "traceback": [
      "\u001b[1;36m  File \u001b[1;32m\"<ipython-input-5-dba965ec7a9c>\"\u001b[1;36m, line \u001b[1;32m1\u001b[0m\n\u001b[1;33m    d = {1=2, 2=3}\u001b[0m\n\u001b[1;37m          ^\u001b[0m\n\u001b[1;31mSyntaxError\u001b[0m\u001b[1;31m:\u001b[0m invalid syntax\n"
     ]
    }
   ],
   "source": [
    "d = {1=2, 2=3}"
   ]
  },
  {
   "cell_type": "code",
   "execution_count": 7,
   "metadata": {},
   "outputs": [
    {
     "output_type": "execute_result",
     "data": {
      "text/plain": "{1: 2, 2: 3}"
     },
     "metadata": {},
     "execution_count": 7
    }
   ],
   "source": [
    "d = {1:2, 2:3}\n",
    "d"
   ]
  },
  {
   "cell_type": "code",
   "execution_count": 8,
   "metadata": {},
   "outputs": [
    {
     "output_type": "error",
     "ename": "SyntaxError",
     "evalue": "invalid syntax (<ipython-input-8-a8833e529f34>, line 1)",
     "traceback": [
      "\u001b[1;36m  File \u001b[1;32m\"<ipython-input-8-a8833e529f34>\"\u001b[1;36m, line \u001b[1;32m1\u001b[0m\n\u001b[1;33m    d = {1,2 ; 2,3}\u001b[0m\n\u001b[1;37m             ^\u001b[0m\n\u001b[1;31mSyntaxError\u001b[0m\u001b[1;31m:\u001b[0m invalid syntax\n"
     ]
    }
   ],
   "source": [
    "d = {1,2 ; 2,3}"
   ]
  },
  {
   "cell_type": "code",
   "execution_count": 11,
   "metadata": {},
   "outputs": [
    {
     "output_type": "execute_result",
     "data": {
      "text/plain": "set"
     },
     "metadata": {},
     "execution_count": 11
    }
   ],
   "source": [
    "d = {(1,2), (2,3)}\n",
    "type(d)"
   ]
  },
  {
   "cell_type": "code",
   "execution_count": 14,
   "metadata": {},
   "outputs": [
    {
     "output_type": "error",
     "ename": "NameError",
     "evalue": "name 'c' is not defined",
     "traceback": [
      "\u001b[1;31m---------------------------------------------------------------------------\u001b[0m",
      "\u001b[1;31mNameError\u001b[0m                                 Traceback (most recent call last)",
      "\u001b[1;32m<ipython-input-14-014a0c0e201c>\u001b[0m in \u001b[0;36m<module>\u001b[1;34m\u001b[0m\n\u001b[1;32m----> 1\u001b[1;33m \u001b[0md\u001b[0m \u001b[1;33m=\u001b[0m \u001b[1;33m{\u001b[0m\u001b[1;34m'a'\u001b[0m\u001b[1;33m:\u001b[0m\u001b[1;34m'A'\u001b[0m\u001b[1;33m,\u001b[0m \u001b[1;34m'b'\u001b[0m\u001b[1;33m:\u001b[0m\u001b[1;36m1\u001b[0m\u001b[1;33m,\u001b[0m \u001b[0mc\u001b[0m\u001b[1;33m:\u001b[0m\u001b[1;33m[\u001b[0m\u001b[1;36m1234\u001b[0m\u001b[1;33m]\u001b[0m\u001b[1;33m}\u001b[0m\u001b[1;33m\u001b[0m\u001b[1;33m\u001b[0m\u001b[0m\n\u001b[0m",
      "\u001b[1;31mNameError\u001b[0m: name 'c' is not defined"
     ]
    }
   ],
   "source": [
    "d = {'a':'A', 'b':1, c:[1234]}"
   ]
  },
  {
   "cell_type": "code",
   "execution_count": 15,
   "metadata": {},
   "outputs": [],
   "source": [
    "d = {'a':'A', 'b':1, 'c':[1234]}"
   ]
  },
  {
   "cell_type": "code",
   "execution_count": 18,
   "metadata": {},
   "outputs": [
    {
     "output_type": "execute_result",
     "data": {
      "text/plain": "{1: 2, 2: 3}"
     },
     "metadata": {},
     "execution_count": 18
    }
   ],
   "source": [
    "d = dict([(1,2), (2,3)])\n",
    "d"
   ]
  },
  {
   "cell_type": "code",
   "execution_count": 22,
   "metadata": {},
   "outputs": [
    {
     "output_type": "execute_result",
     "data": {
      "text/plain": "{1: 2, 2: 3}"
     },
     "metadata": {},
     "execution_count": 22
    }
   ],
   "source": [
    "d = dict(((1,2), (2,3)))\n",
    "d"
   ]
  },
  {
   "cell_type": "code",
   "execution_count": 23,
   "metadata": {},
   "outputs": [],
   "source": [
    "d = dict(([1,2], (2,3)))\n",
    "d"
   ]
  },
  {
   "cell_type": "code",
   "execution_count": null,
   "metadata": {},
   "outputs": [],
   "source": []
  },
  {
   "source": [
    "# Read help for zip and write a program that has two lists l1 = [1,2,3,4] l2 = [10,20,30,40]And converts them to a dictionary d containing { 1:10,2:20 .......}"
   ],
   "cell_type": "markdown",
   "metadata": {}
  },
  {
   "cell_type": "code",
   "execution_count": 24,
   "metadata": {},
   "outputs": [
    {
     "output_type": "execute_result",
     "data": {
      "text/plain": "{1: 10, 2: 20, 3: 30, 4: 40}"
     },
     "metadata": {},
     "execution_count": 24
    }
   ],
   "source": [
    "list1 = [1,2,3,4]\n",
    "list2 = [10,20,30,40]\n",
    "df = {}\n",
    "for x, y in zip(list1, list2):\n",
    "    df[x] = y\n",
    "df"
   ]
  },
  {
   "cell_type": "code",
   "execution_count": 26,
   "metadata": {},
   "outputs": [
    {
     "output_type": "execute_result",
     "data": {
      "text/plain": "{'A': 65,\n 'B': 66,\n 'C': 67,\n 'D': 68,\n 'E': 69,\n 'F': 70,\n 'G': 71,\n 'H': 72,\n 'I': 73,\n 'J': 74,\n 'K': 75,\n 'L': 76,\n 'M': 77,\n 'N': 78,\n 'O': 79,\n 'P': 80,\n 'Q': 81,\n 'R': 82,\n 'S': 83,\n 'T': 84,\n 'U': 85,\n 'V': 86,\n 'W': 87,\n 'X': 88,\n 'Y': 89,\n 'Z': 90}"
     },
     "metadata": {},
     "execution_count": 26
    }
   ],
   "source": [
    "df = {}\n",
    "for x in range(65, 91):\n",
    "    df[chr(x)] = x\n",
    "df"
   ]
  },
  {
   "cell_type": "code",
   "execution_count": null,
   "metadata": {},
   "outputs": [],
   "source": []
  },
  {
   "source": [
    "# Create a mapping of number to word from 0-9. (0:’zero’......)\n",
    "•     Ask user for a single digit number and print the corresponding word format. \n",
    "•     Print all keys of above dictionary \n",
    "•     Print all Values of a dictionary \n",
    "•     Print all Key and Value pairs of above dictionary"
   ],
   "cell_type": "markdown",
   "metadata": {}
  },
  {
   "cell_type": "code",
   "execution_count": 28,
   "metadata": {},
   "outputs": [],
   "source": [
    "df = {0:'zero', 1:'one', 2:'two', 3:'three', 4:'four', 5:'five', 6:'six', 7:'seven', 8:'eight', 9:'nine'}"
   ]
  },
  {
   "cell_type": "code",
   "execution_count": 29,
   "metadata": {
    "tags": []
   },
   "outputs": [
    {
     "output_type": "stream",
     "name": "stdout",
     "text": "Number in words six\n"
    }
   ],
   "source": [
    "num  = int(input(\"Enter number from 0-9\"))\n",
    "print(\"Number in words\",df[num])"
   ]
  },
  {
   "cell_type": "code",
   "execution_count": 31,
   "metadata": {
    "tags": []
   },
   "outputs": [
    {
     "output_type": "stream",
     "name": "stdout",
     "text": "Key is  0\nVal is  zero\nKey is  1\nVal is  one\nKey is  2\nVal is  two\nKey is  3\nVal is  three\nKey is  4\nVal is  four\nKey is  5\nVal is  five\nKey is  6\nVal is  six\nKey is  7\nVal is  seven\nKey is  8\nVal is  eight\nKey is  9\nVal is  nine\n"
    }
   ],
   "source": [
    "for key, val in df.items():\n",
    "    print(\"Key is \", key)\n",
    "    print(\"Val is \", val)\n",
    "    "
   ]
  },
  {
   "cell_type": "code",
   "execution_count": 32,
   "metadata": {
    "tags": []
   },
   "outputs": [
    {
     "output_type": "stream",
     "name": "stdout",
     "text": "(0, 'zero')\n(1, 'one')\n(2, 'two')\n(3, 'three')\n(4, 'four')\n(5, 'five')\n(6, 'six')\n(7, 'seven')\n(8, 'eight')\n(9, 'nine')\n"
    }
   ],
   "source": [
    "for pair in df.items():\n",
    "    print(pair)"
   ]
  },
  {
   "cell_type": "code",
   "execution_count": null,
   "metadata": {},
   "outputs": [],
   "source": []
  },
  {
   "source": [
    "# Predict the output\n",
    "#### l1 = ['A', 'B', 'C', 'D']\n",
    "#### l2 = ['Apple', 'Ball', 'Cat', 'Dog']\n",
    "#### d1 = dict(zip(l1, l2))\n",
    "#### print(d1)\n",
    "#### d2 = dict(list(d1.items())[::2])\n",
    "#### print(d2)"
   ],
   "cell_type": "markdown",
   "metadata": {}
  },
  {
   "cell_type": "code",
   "execution_count": null,
   "metadata": {},
   "outputs": [],
   "source": [
    "# {'A':'Apple', 'B':'Ball', 'C':'Cat', 'D','Dog'}\n",
    "# {'A':'Apple', 'C':'Cat'}\n"
   ]
  },
  {
   "cell_type": "code",
   "execution_count": null,
   "metadata": {},
   "outputs": [],
   "source": []
  },
  {
   "cell_type": "code",
   "execution_count": null,
   "metadata": {},
   "outputs": [],
   "source": []
  },
  {
   "source": [
    "# WAP to input a string and count occurrence of each vowel in a string. Ex: if user enters: “Beautiful Day” Output should Be: a:2 e:1 I :1 o:0 u:2"
   ],
   "cell_type": "markdown",
   "metadata": {}
  },
  {
   "cell_type": "code",
   "execution_count": 64,
   "metadata": {
    "tags": []
   },
   "outputs": [
    {
     "output_type": "stream",
     "name": "stdout",
     "text": "enterted string is  kjsdjf asjfhojasf qwhfiv f\n"
    },
    {
     "output_type": "execute_result",
     "data": {
      "text/plain": "{'a': 2, 'o': 1, 'i': 1}"
     },
     "metadata": {},
     "execution_count": 64
    }
   ],
   "source": [
    "import string\n",
    "vowels = 'aeiou'\n",
    "df = {}\n",
    "str1 = input()\n",
    "print(\"enterted string is \", str1)\n",
    "for c in list(str1):\n",
    "    if c in vowels:\n",
    "        df[c] = str.count(str1, c)\n",
    "df\n"
   ]
  },
  {
   "cell_type": "code",
   "execution_count": null,
   "metadata": {},
   "outputs": [],
   "source": []
  },
  {
   "source": [
    "# Update above program to print frequency of each alphabet present in string. "
   ],
   "cell_type": "markdown",
   "metadata": {}
  },
  {
   "cell_type": "code",
   "execution_count": 63,
   "metadata": {
    "tags": []
   },
   "outputs": [
    {
     "output_type": "stream",
     "name": "stdout",
     "text": "enterted string is  sdfsdgdfgnqwhiunvqwf vquhfvcf qar\n"
    },
    {
     "output_type": "execute_result",
     "data": {
      "text/plain": "{'s': 2,\n 'd': 3,\n 'f': 5,\n 'g': 2,\n 'n': 2,\n 'q': 4,\n 'w': 2,\n 'h': 2,\n 'i': 1,\n 'u': 2,\n 'v': 3,\n ' ': 2,\n 'c': 1,\n 'a': 1,\n 'r': 1}"
     },
     "metadata": {},
     "execution_count": 63
    }
   ],
   "source": [
    "str1 = input()\n",
    "print(\"enterted string is \", str1)\n",
    "df = {}\n",
    "for c in list(str1):\n",
    "    df[c] = str.count(str1, c)\n",
    "\n",
    "df\n"
   ]
  },
  {
   "cell_type": "code",
   "execution_count": null,
   "metadata": {},
   "outputs": [],
   "source": []
  },
  {
   "source": [
    "# WAP that takes a string as input and prints frequency of each word. Ex: if input is “count the words in the sentence in”Output: count: 1 the: 2 words: 1 in: 2 sentence: 1 "
   ],
   "cell_type": "markdown",
   "metadata": {}
  },
  {
   "cell_type": "code",
   "execution_count": 76,
   "metadata": {
    "tags": []
   },
   "outputs": [
    {
     "output_type": "stream",
     "name": "stdout",
     "text": "enterted string is  count the words in the sentence in\n"
    },
    {
     "output_type": "execute_result",
     "data": {
      "text/plain": "{'count': 1, 'the': 2, 'words': 1, 'in': 2, 'sentence': 1}"
     },
     "metadata": {},
     "execution_count": 76
    }
   ],
   "source": [
    "str1 = input()\n",
    "print(\"enterted string is \", str1)\n",
    "df = {}\n",
    "str1_list  = str1.split(' ')\n",
    "for word in str1_list:\n",
    "    df[word] = str.count(str1, word)\n",
    "\n",
    "df"
   ]
  }
 ]
}