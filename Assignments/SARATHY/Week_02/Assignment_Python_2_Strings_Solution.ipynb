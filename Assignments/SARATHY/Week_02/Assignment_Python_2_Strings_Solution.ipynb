{
 "cells": [
  {
   "cell_type": "markdown",
   "metadata": {},
   "source": [
    "#  1) Guess output of each \n"
   ]
  },
  {
   "cell_type": "code",
   "execution_count": 15,
   "metadata": {},
   "outputs": [
    {
     "data": {
      "text/plain": [
       "'s= \\'Python is Object Oriented\\'\\n\\ns[-1] = \"d\" -----> since this index represents the last element\\n\\ns[::-1] = \"detneirO tcejbO si nohtyP\" ------> go from start to end since no ranges are specified for both \\n                                            , but access from the reverse direction \\ns[:-1] = \"Python is Object Oriente\" -----> Go from start since no value in that but stop before the last element\\n\\ns[1:1] = No result -----> first value tells us to consider , but second value tells us not to consider, \\n                          so there is a clash between them resulting in no value \\n\\ns[4:10] = \"on is\" ------>starting from 4th element \"o\" and ending with 9th element \"s\" : '"
      ]
     },
     "execution_count": 15,
     "metadata": {},
     "output_type": "execute_result"
    }
   ],
   "source": [
    "'''s= 'Python is Object Oriented'\n",
    "\n",
    "s[-1] = \"d\" -----> since this index represents the last element\n",
    "\n",
    "s[::-1] = \"detneirO tcejbO si nohtyP\" ------> go from start to end since no ranges are specified for both \n",
    "                                            , but access from the reverse direction \n",
    "s[:-1] = \"Python is Object Oriente\" -----> Go from start since no value in that but stop before the last element\n",
    "\n",
    "s[1:1] = No result -----> first value tells us to consider , but second value tells us not to consider, \n",
    "                          so there is a clash between them resulting in no value \n",
    "\n",
    "s[4:10] = \"on is\" ------>starting from 4th element \"o\" and ending with 9th element \"s\" : '''\n",
    "\n"
   ]
  },
  {
   "cell_type": "markdown",
   "metadata": {},
   "source": [
    "# 2)  What error do you see for following statements:\n",
    "\n"
   ]
  },
  {
   "cell_type": "code",
   "execution_count": 6,
   "metadata": {},
   "outputs": [
    {
     "data": {
      "text/plain": [
       "\"\\ns = ''\\nprint(s[1])\\n\\nThe result would give an exception : IndexError: string index out of range\\n\\nReason is we are trying to access an element's index but that index is out of the given range\\n\\nif the code contains series of strings ,then  the white spaces has the capability to hold  index , but not in the above case\\n\\nthese errors are not errors but they are exceptions , to be specific they are built-in exceptions\\n\\nthey can be found in dir(__builtins__) : To check this type either of the following : print(dir(__builtins__))\\n                                                                                      IndexError in dir(__builtins__)\\n\\n\\n\""
      ]
     },
     "execution_count": 6,
     "metadata": {},
     "output_type": "execute_result"
    }
   ],
   "source": [
    "'''\n",
    "s = ''\n",
    "print(s[1])\n",
    "\n",
    "The result would give an exception : IndexError: string index out of range\n",
    "\n",
    "Reason is we are trying to access an element's index but that index is out of the given range\n",
    "\n",
    "if the code contains series of strings ,then  the white spaces has the capability to hold  index , but not in the above case\n",
    "\n",
    "these errors are not errors but they are exceptions , to be specific they are built-in exceptions\n",
    "\n",
    "they can be found in dir(__builtins__) : To check this type either of the following : print(dir(__builtins__))\n",
    "                                                                                      IndexError in dir(__builtins__)\n",
    "\n",
    "\n",
    "'''\n",
    "\n",
    "\n"
   ]
  },
  {
   "cell_type": "markdown",
   "metadata": {},
   "source": [
    "# 3) Do you get any error for the following code, if not give the output:"
   ]
  },
  {
   "cell_type": "code",
   "execution_count": 45,
   "metadata": {},
   "outputs": [
    {
     "data": {
      "text/plain": [
       "\"\\nS ='Gaurav'\\nprint(s[1])\\n\\n\\nError Came : name 's' is not defined\\n\\nReason : Python is case sensitive\\n\\n\\n\\n\""
      ]
     },
     "execution_count": 45,
     "metadata": {},
     "output_type": "execute_result"
    }
   ],
   "source": [
    "'''\n",
    "S ='Gaurav'\n",
    "print(s[1])\n",
    "\n",
    "\n",
    "Error Came : name 's' is not defined\n",
    "\n",
    "Reason : Python is case sensitive\n",
    "\n",
    "\n",
    "\n",
    "'''"
   ]
  },
  {
   "cell_type": "markdown",
   "metadata": {},
   "source": [
    "# 4 )Find output of the following:"
   ]
  },
  {
   "cell_type": "code",
   "execution_count": 48,
   "metadata": {},
   "outputs": [
    {
     "name": "stdout",
     "output_type": "stream",
     "text": [
      "6\n",
      "abc\n",
      "3\n"
     ]
    }
   ],
   "source": [
    "s='a b cd'\n",
    "print(len(s)) # 4 characters + 2 white spaces\n",
    "print(s[::2]) # first to end with increment of 2 , includes a then b then c\n",
    "print(len(s[::2])) # fetches only 3 values with this trange"
   ]
  },
  {
   "cell_type": "code",
   "execution_count": 55,
   "metadata": {},
   "outputs": [
    {
     "name": "stdout",
     "output_type": "stream",
     "text": [
      "['a#b#c#d#']\n",
      "['a', 'b', 'c', 'd', '']\n",
      "a$b$c$d$\n"
     ]
    }
   ],
   "source": [
    "s = 'a#b#c#d#'\n",
    "print(s.split()) # split fn creates a list ,however the since the split char is not specified ,created a single string List\n",
    "print(s.split('#')) # the character '#' splits in to a list containing a ,b,c,d\n",
    "l= s.split('#')\n",
    "s ='$'.join(l) # List can be rolled back by join commmand.Here $ is used to concatenate the strings in the list\n",
    "print(s)"
   ]
  },
  {
   "cell_type": "code",
   "execution_count": 61,
   "metadata": {},
   "outputs": [
    {
     "name": "stdout",
     "output_type": "stream",
     "text": [
      "av\n"
     ]
    }
   ],
   "source": [
    "S='Gaurav'\n",
    "S=S[::-2][::-2] # the 1st slicing yiels v r a (from reverse with increments of 2) ,2nd slicing is done from  1st slicing output\n",
    "print(S)"
   ]
  },
  {
   "cell_type": "code",
   "execution_count": 63,
   "metadata": {},
   "outputs": [
    {
     "name": "stdout",
     "output_type": "stream",
     "text": [
      "False\n"
     ]
    }
   ],
   "source": [
    "print(1>2) # returns a boolean typed  value (i.e)True or False .In this case its False"
   ]
  },
  {
   "cell_type": "code",
   "execution_count": 68,
   "metadata": {},
   "outputs": [
    {
     "name": "stdout",
     "output_type": "stream",
     "text": [
      "0,1,4\n"
     ]
    }
   ],
   "source": [
    "print(4%2, 5%2, 4%5, sep=',') # modulus returns the remainder .If dividend < divisor, then it returns the dividend value itself"
   ]
  },
  {
   "cell_type": "code",
   "execution_count": 76,
   "metadata": {},
   "outputs": [
    {
     "name": "stdout",
     "output_type": "stream",
     "text": [
      "abcba\n",
      "0,0,0,"
     ]
    }
   ],
   "source": [
    "s='abcba'\n",
    "s.upper()\n",
    "print(s)\n",
    "print(s.count('A'), end = ',')\n",
    "print(s.count('A', 2,4) , end = ',') # search for the occurence  starts from 2nd index till 3rd index (4th is excluded)\n",
    "print(s.count('a', 2,4) , end = ',')"
   ]
  },
  {
   "cell_type": "markdown",
   "metadata": {},
   "source": [
    "# 5) WAP to input a string and remove all spaces from it."
   ]
  },
  {
   "cell_type": "code",
   "execution_count": 5,
   "metadata": {},
   "outputs": [
    {
     "name": "stdout",
     "output_type": "stream",
     "text": [
      "Enter the string :PYTHON IS A GENERAL PURPOSE PROGRAMMING LANGUAGE\n",
      "PYTHONISAGENERALPURPOSEPROGRAMMINGLANGUAGE\n"
     ]
    }
   ],
   "source": [
    "print(input(\"Enter the string :\").replace(\" \",\"\"))"
   ]
  },
  {
   "cell_type": "markdown",
   "metadata": {},
   "source": [
    "# 6) What does this symbol denote: []"
   ]
  },
  {
   "cell_type": "code",
   "execution_count": 6,
   "metadata": {},
   "outputs": [
    {
     "data": {
      "text/plain": [
       "'[] -------->   signifies a List : A list  is a one kind of data structure that holds a collection of Values , \\n                                    strings or even a combination of both with a ordered sequence . it can have duplicates also\\n                                    Lists are also mutable meaning they can be able to adapt within the same id upon modification '"
      ]
     },
     "execution_count": 6,
     "metadata": {},
     "output_type": "execute_result"
    }
   ],
   "source": [
    "\n",
    "'''[] -------->   signifies an Empty  List : A list  is a one kind of data structure that holds a collection of Values , \n",
    "                                    strings or even a combination of both with a ordered sequence . it can have duplicates also\n",
    "                                    Lists are also mutable meaning they can be able to adapt within the same id upon modification '''"
   ]
  },
  {
   "cell_type": "markdown",
   "metadata": {},
   "source": [
    "# 7) WAP to print all methods(functions/operations) available in a string (Hint : dir())"
   ]
  },
  {
   "cell_type": "code",
   "execution_count": 9,
   "metadata": {},
   "outputs": [
    {
     "name": "stdout",
     "output_type": "stream",
     "text": [
      "<class 'str'>\n"
     ]
    }
   ],
   "source": [
    "s = 'Example'\n",
    "print(type(s))\n"
   ]
  },
  {
   "cell_type": "code",
   "execution_count": 10,
   "metadata": {},
   "outputs": [
    {
     "name": "stdout",
     "output_type": "stream",
     "text": [
      "['__add__', '__class__', '__contains__', '__delattr__', '__dir__', '__doc__', '__eq__', '__format__', '__ge__', '__getattribute__', '__getitem__', '__getnewargs__', '__gt__', '__hash__', '__init__', '__init_subclass__', '__iter__', '__le__', '__len__', '__lt__', '__mod__', '__mul__', '__ne__', '__new__', '__reduce__', '__reduce_ex__', '__repr__', '__rmod__', '__rmul__', '__setattr__', '__sizeof__', '__str__', '__subclasshook__', 'capitalize', 'casefold', 'center', 'count', 'encode', 'endswith', 'expandtabs', 'find', 'format', 'format_map', 'index', 'isalnum', 'isalpha', 'isascii', 'isdecimal', 'isdigit', 'isidentifier', 'islower', 'isnumeric', 'isprintable', 'isspace', 'istitle', 'isupper', 'join', 'ljust', 'lower', 'lstrip', 'maketrans', 'partition', 'replace', 'rfind', 'rindex', 'rjust', 'rpartition', 'rsplit', 'rstrip', 'split', 'splitlines', 'startswith', 'strip', 'swapcase', 'title', 'translate', 'upper', 'zfill']\n"
     ]
    }
   ],
   "source": [
    "print(dir(str))"
   ]
  },
  {
   "cell_type": "markdown",
   "metadata": {},
   "source": [
    "# 8) Write statement to check if rstrip method is available in the str\n"
   ]
  },
  {
   "cell_type": "code",
   "execution_count": 1,
   "metadata": {},
   "outputs": [
    {
     "data": {
      "text/plain": [
       "True"
      ]
     },
     "execution_count": 1,
     "metadata": {},
     "output_type": "execute_result"
    }
   ],
   "source": [
    "'rstrip' in dir(str)"
   ]
  },
  {
   "cell_type": "markdown",
   "metadata": {},
   "source": [
    "# 9) WAP to store the following patterns in a string variable and then print them:\n",
    " "
   ]
  },
  {
   "cell_type": "code",
   "execution_count": 1,
   "metadata": {},
   "outputs": [
    {
     "name": "stdout",
     "output_type": "stream",
     "text": [
      "\n",
      "            * * * * *\n",
      "                *\n",
      "                *\n",
      "                *\n",
      "                * \n",
      "            \n",
      "\n",
      "            *         *\n",
      "            *  *   *  *\n",
      "            *    *    *\n",
      "            *         * \n",
      "                \n",
      "            \n",
      "\n",
      "              ______ \n",
      "              |     |\n",
      "              O     |\n",
      "             /|\\    |\n",
      "             / \\    |\n",
      "           _________|  \n",
      "              \n"
     ]
    }
   ],
   "source": [
    "pattern_1=   '''\n",
    "            * * * * *\n",
    "                *\n",
    "                *\n",
    "                *\n",
    "                * \n",
    "            '''\n",
    "\n",
    "\n",
    "pattern_2=   '''\n",
    "            *         *\n",
    "            *  *   *  *\n",
    "            *    *    *\n",
    "            *         * \n",
    "                \n",
    "            '''\n",
    "\n",
    "pattern_3=   '''\n",
    "              ______ \n",
    "              |     |\n",
    "              O     |\n",
    "             /|\\    |\n",
    "             / \\    |\n",
    "           _________|  \n",
    "              '''\n",
    "\n",
    "\n",
    "\n",
    "print(pattern_1)\n",
    "print(pattern_2)\n",
    "print(pattern_3)\n",
    "\n",
    "\n",
    "\n"
   ]
  },
  {
   "cell_type": "markdown",
   "metadata": {},
   "source": [
    "#    10) WAP to input a string and replace all space with new lines (\\n) and print again."
   ]
  },
  {
   "cell_type": "code",
   "execution_count": 1,
   "metadata": {},
   "outputs": [
    {
     "name": "stdout",
     "output_type": "stream",
     "text": [
      "Enter the String with spaces : ASSIGNMENT TWO IS IN PROGRESS\n",
      "ASSIGNMENT\n",
      "TWO\n",
      "IS\n",
      "IN\n",
      "PROGRESS\n"
     ]
    }
   ],
   "source": [
    "x = (input(\"Enter the String with spaces : \").replace(' ','\\n'))\n",
    "print(x)\n",
    "    "
   ]
  },
  {
   "cell_type": "markdown",
   "metadata": {},
   "source": [
    "# 11) WAP to input complete name(first and last name separated by space) and print first and lastname separately along with their length in upper case."
   ]
  },
  {
   "cell_type": "code",
   "execution_count": 11,
   "metadata": {},
   "outputs": [
    {
     "name": "stdout",
     "output_type": "stream",
     "text": [
      "Enter the full name with space :andy roddick\n",
      "ANDY With the length : 4\n",
      "RODDICK With the length : 7\n"
     ]
    }
   ],
   "source": [
    "x,y =input(\"Enter the full name with space :\").split()\n",
    "print(x.upper() ,'With the length :',len(x))\n",
    "print(y.upper() ,'With the length :',len(y))\n"
   ]
  },
  {
   "cell_type": "markdown",
   "metadata": {},
   "source": [
    "# 12) WAP to input a string and split it into 2 halves. The string can be of any length"
   ]
  },
  {
   "cell_type": "code",
   "execution_count": 44,
   "metadata": {},
   "outputs": [
    {
     "name": "stdout",
     "output_type": "stream",
     "text": [
      "Enter the String for bisection :POPEYE\n",
      "POP\n",
      "EYE\n"
     ]
    }
   ],
   "source": [
    "x = input(\"Enter the String for bisection :\")\n",
    "y = len(x)//2\n",
    "print(x[:y])\n",
    "print(x[y:])             "
   ]
  }
 ],
 "metadata": {
  "kernelspec": {
   "display_name": "Python 3",
   "language": "python",
   "name": "python3"
  },
  "language_info": {
   "codemirror_mode": {
    "name": "ipython",
    "version": 3
   },
   "file_extension": ".py",
   "mimetype": "text/x-python",
   "name": "python",
   "nbconvert_exporter": "python",
   "pygments_lexer": "ipython3",
   "version": "3.7.6"
  }
 },
 "nbformat": 4,
 "nbformat_minor": 4
}
