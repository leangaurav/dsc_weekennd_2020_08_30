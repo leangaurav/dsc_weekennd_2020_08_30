{
 "cells": [
  {
   "cell_type": "markdown",
   "metadata": {},
   "source": [
    "# 1) Predict the Output\n",
    "\n"
   ]
  },
  {
   "cell_type": "code",
   "execution_count": 2,
   "metadata": {},
   "outputs": [
    {
     "name": "stdout",
     "output_type": "stream",
     "text": [
      "6 19\n"
     ]
    },
    {
     "data": {
      "text/plain": [
       "'\\nMost of the programming languages calculates length from index 1 \\nThis calculation also takes in to account special characters and also escape sequences\\n\\n'"
      ]
     },
     "execution_count": 2,
     "metadata": {},
     "output_type": "execute_result"
    }
   ],
   "source": [
    "s1 = 'Gaurav'\n",
    "s2 = 'tuteur.py@gmail.com'\n",
    "print(len(s1),len(s2))\n",
    "\n",
    "\n",
    "'''\n",
    "Most of the programming languages calculates length from index 1 \n",
    "This calculation also takes in to account special characters and also escape sequences\n",
    "\n",
    "'''"
   ]
  },
  {
   "cell_type": "markdown",
   "metadata": {},
   "source": [
    "# 2) WAP to input a string and print its length\n"
   ]
  },
  {
   "cell_type": "code",
   "execution_count": 17,
   "metadata": {},
   "outputs": [
    {
     "name": "stdout",
     "output_type": "stream",
     "text": [
      "Enter the string : DATA SCIENCE\n",
      "12\n"
     ]
    }
   ],
   "source": [
    "print(len(input(\"Enter the string : \")))"
   ]
  },
  {
   "cell_type": "markdown",
   "metadata": {},
   "source": [
    "# 3)WAP to input 2 numbers and print their sum and difference."
   ]
  },
  {
   "cell_type": "code",
   "execution_count": 6,
   "metadata": {},
   "outputs": [
    {
     "name": "stdout",
     "output_type": "stream",
     "text": [
      "Enter the two numbers for the add and sub operations 40 34\n",
      "74 6\n"
     ]
    }
   ],
   "source": [
    "x,y = input(\"Enter the two numbers for the add and sub operations \" ).split()\n",
    "print(int(x)+int(y) ,int(x)-int(y))"
   ]
  },
  {
   "cell_type": "markdown",
   "metadata": {},
   "source": [
    "# 4) Predict output:"
   ]
  },
  {
   "cell_type": "code",
   "execution_count": 1,
   "metadata": {},
   "outputs": [
    {
     "name": "stdout",
     "output_type": "stream",
     "text": [
      "abde\n"
     ]
    },
    {
     "data": {
      "text/plain": [
       "'Whenver the + operator is used for string , its more of a concatenation .It merges the two strings \\n.So the resulting output will be abde'"
      ]
     },
     "execution_count": 1,
     "metadata": {},
     "output_type": "execute_result"
    }
   ],
   "source": [
    "s1 = 'ab'\n",
    "s2 ='de'\n",
    "s3 =s1+s2\n",
    "print(s3)\n",
    "\n",
    "'''Whenver the + operator is used for string , its more of a concatenation .It merges the two strings \n",
    ".So the resulting output will be abde'''"
   ]
  },
  {
   "cell_type": "markdown",
   "metadata": {},
   "source": [
    "# 5) Predict output:"
   ]
  },
  {
   "cell_type": "code",
   "execution_count": 9,
   "metadata": {},
   "outputs": [],
   "source": [
    "# Result is same as of 4) "
   ]
  },
  {
   "cell_type": "markdown",
   "metadata": {},
   "source": [
    "# 6. Predict output:"
   ]
  },
  {
   "cell_type": "code",
   "execution_count": 3,
   "metadata": {},
   "outputs": [
    {
     "name": "stdout",
     "output_type": "stream",
     "text": [
      "abababab\n"
     ]
    },
    {
     "data": {
      "text/plain": [
       "' * opertor can be also used for the combination of string and int\\n.The resulting output will be printing the no of instances of the given string.No of instances decided by value of int  '"
      ]
     },
     "execution_count": 3,
     "metadata": {},
     "output_type": "execute_result"
    }
   ],
   "source": [
    "s1 = 'ab'*4\n",
    "print(s1)\n",
    "\n",
    "''' * opertor can be also used for the combination of string and int\n",
    ".The resulting output will be printing the no of instances of the given string.No of instances decided by value of int  '''"
   ]
  },
  {
   "cell_type": "markdown",
   "metadata": {},
   "source": [
    "# 7. Predict output:"
   ]
  },
  {
   "cell_type": "code",
   "execution_count": 5,
   "metadata": {},
   "outputs": [
    {
     "name": "stdout",
     "output_type": "stream",
     "text": [
      "ab\n",
      "ab\n",
      "ab\n",
      "ab\n",
      "\n"
     ]
    },
    {
     "data": {
      "text/plain": [
       "\"resulting o/p will be same as previous \\nexcept that it has an escape sequence '/n' which prints on a new line for every instance \""
      ]
     },
     "execution_count": 5,
     "metadata": {},
     "output_type": "execute_result"
    }
   ],
   "source": [
    "s1 = 'ab\\n'*4\n",
    "print(s1)\n",
    "\n",
    "'''resulting o/p will be same as previous \n",
    "except that it has an escape sequence '/n' which prints on a new line for every instance '''"
   ]
  },
  {
   "cell_type": "markdown",
   "metadata": {},
   "source": [
    "# 8A ) WAP to input a string s and a number n. Print the string n times on the screen, each should appear in a separate line (do not use any kind of loops, use the multiplication)\n"
   ]
  },
  {
   "cell_type": "code",
   "execution_count": 21,
   "metadata": {},
   "outputs": [
    {
     "name": "stdout",
     "output_type": "stream",
     "text": [
      "Enter the stringLEARNBAY\n",
      "Enter the number4\n",
      "LEARNBAY\n",
      "LEARNBAY\n",
      "LEARNBAY\n",
      "LEARNBAY\n",
      "\n"
     ]
    }
   ],
   "source": [
    "s = (input(\"Enter the string\")+'\\n')\n",
    "n = int(input(\"Enter the number\"))\n",
    "print(s*n)"
   ]
  },
  {
   "cell_type": "markdown",
   "metadata": {},
   "source": [
    "# 8B ) WAP to input a string s and a number n. Alternate approach"
   ]
  },
  {
   "cell_type": "code",
   "execution_count": 23,
   "metadata": {},
   "outputs": [
    {
     "name": "stdout",
     "output_type": "stream",
     "text": [
      "Enter the stringLEARNBAY\n",
      "Enter the number5\n",
      "LEARNBAY\n",
      "LEARNBAY\n",
      "LEARNBAY\n",
      "LEARNBAY\n",
      "LEARNBAY\n",
      "\n"
     ]
    }
   ],
   "source": [
    "s,n =((input(\"Enter the string\")+'\\n'),int(input(\"Enter the number\")))\n",
    "print(s*n)"
   ]
  },
  {
   "cell_type": "markdown",
   "metadata": {},
   "source": [
    "# 9) Predict Output:"
   ]
  },
  {
   "cell_type": "code",
   "execution_count": 8,
   "metadata": {},
   "outputs": [
    {
     "name": "stdout",
     "output_type": "stream",
     "text": [
      "Gaurav\n",
      "None\n"
     ]
    }
   ],
   "source": [
    "res = print('Gaurav')\n",
    "print(res)\n",
    "\n",
    "'''print() is one of the builtin functions that returns none..In the functions ,\n",
    "we can either return the outcome of a fn or we can use print() to execute inside the fn itself'''"
   ]
  },
  {
   "cell_type": "markdown",
   "metadata": {},
   "source": [
    "# 10) Predict Output:"
   ]
  },
  {
   "cell_type": "code",
   "execution_count": 10,
   "metadata": {},
   "outputs": [
    {
     "name": "stdout",
     "output_type": "stream",
     "text": [
      "<class 'int'>\n"
     ]
    }
   ],
   "source": [
    "res = len('tuteur.py@gmail.com')\n",
    "print(type(res))\n",
    "\n",
    "# len function return the length which is of type int"
   ]
  },
  {
   "cell_type": "markdown",
   "metadata": {},
   "source": [
    "# 11)Predict Output:"
   ]
  },
  {
   "cell_type": "code",
   "execution_count": 11,
   "metadata": {},
   "outputs": [
    {
     "name": "stdout",
     "output_type": "stream",
     "text": [
      "<class 'str'>\n",
      "26\n"
     ]
    },
    {
     "data": {
      "text/plain": [
       "\"\\nhere two strings are concatenated along with an escape seq which also takes some memory and space\\n.So totally len(s1)+len(s2)+len('\\n') = 6+19+1=26..\\n\\n\\n\""
      ]
     },
     "execution_count": 11,
     "metadata": {},
     "output_type": "execute_result"
    }
   ],
   "source": [
    "s1 = 'Gaurav'\n",
    "s2 = 'tuteur.py@gmail.com'\n",
    "s3 = s1 + '\\n' + s2\n",
    "print(type(s3))\n",
    "print(len(s3))\n",
    "\n",
    "\n",
    "'''\n",
    "here two strings are concatenated along with an escape seq which also takes some memory and space\n",
    ".So totally len(s1)+len(s2)+len('\\n') = 6+19+1=26..\n",
    "\n",
    "\n",
    "'''"
   ]
  },
  {
   "cell_type": "markdown",
   "metadata": {},
   "source": [
    "# 12) Find the name of function to find the square root. (see all the options available in dir() of math)"
   ]
  },
  {
   "cell_type": "code",
   "execution_count": 31,
   "metadata": {},
   "outputs": [
    {
     "name": "stdout",
     "output_type": "stream",
     "text": [
      "['__doc__', '__loader__', '__name__', '__package__', '__spec__', 'acos', 'acosh', 'asin', 'asinh', 'atan', 'atan2', 'atanh', 'ceil', 'copysign', 'cos', 'cosh', 'degrees', 'e', 'erf', 'erfc', 'exp', 'expm1', 'fabs', 'factorial', 'floor', 'fmod', 'frexp', 'fsum', 'gamma', 'gcd', 'hypot', 'inf', 'isclose', 'isfinite', 'isinf', 'isnan', 'ldexp', 'lgamma', 'log', 'log10', 'log1p', 'log2', 'modf', 'nan', 'pi', 'pow', 'radians', 'remainder', 'sin', 'sinh', 'sqrt', 'tan', 'tanh', 'tau', 'trunc']\n"
     ]
    }
   ],
   "source": [
    "import math as mt\n",
    "\n",
    "print(dir(mt))\n",
    "\n",
    " # The Function that is available under math module to find square root is 'sqrt'\n",
    " # Usage : For direct module import use math.sqrt(number) , if we import sqrt from math , then use directly sqrt(number)\n",
    "\n"
   ]
  },
  {
   "cell_type": "markdown",
   "metadata": {},
   "source": [
    "# 13) WAP to input a number and print its square root ()."
   ]
  },
  {
   "cell_type": "code",
   "execution_count": 35,
   "metadata": {},
   "outputs": [
    {
     "name": "stdout",
     "output_type": "stream",
     "text": [
      "Enter the number : 81\n",
      "9.0\n"
     ]
    }
   ],
   "source": [
    "import math as mt\n",
    "\n",
    "print(mt.sqrt(int(input(\"Enter the number : \"))))"
   ]
  },
  {
   "cell_type": "markdown",
   "metadata": {},
   "source": [
    "# 14) WAP to input 4 numbers from user and print their average"
   ]
  },
  {
   "cell_type": "code",
   "execution_count": 37,
   "metadata": {},
   "outputs": [
    {
     "name": "stdout",
     "output_type": "stream",
     "text": [
      "Enter the 4 numbers for averaging5 8 9 21\n",
      "10.75\n"
     ]
    }
   ],
   "source": [
    "a,b,c,d = input(\"Enter the 4 numbers for averaging\").split()\n",
    "print((int(a)+int(b)+int(c)+int(d))/4)"
   ]
  },
  {
   "cell_type": "markdown",
   "metadata": {},
   "source": [
    "# 15)Use the help function to check what the abs function in python does."
   ]
  },
  {
   "cell_type": "code",
   "execution_count": 44,
   "metadata": {},
   "outputs": [
    {
     "name": "stdout",
     "output_type": "stream",
     "text": [
      "Help on built-in function abs in module builtins:\n",
      "\n",
      "abs(x, /)\n",
      "    Return the absolute value of the argument.\n",
      "\n",
      "4.5\n"
     ]
    }
   ],
   "source": [
    "help(abs)\n",
    "\n",
    "print(abs(-4.5))"
   ]
  },
  {
   "cell_type": "markdown",
   "metadata": {},
   "source": [
    "# 16) What is the output of this code when run from python interpreter."
   ]
  },
  {
   "cell_type": "code",
   "execution_count": 50,
   "metadata": {},
   "outputs": [
    {
     "data": {
      "text/plain": [
       "'Type \"help\", \"copyright\", \"credits\" or \"license\" for more information.\\nprint(__name__)\\n__main__'"
      ]
     },
     "execution_count": 50,
     "metadata": {},
     "output_type": "execute_result"
    }
   ],
   "source": [
    "'''Type \"help\", \"copyright\", \"credits\" or \"license\" for more information.\n",
    ">>> print(__name__)\n",
    "__main__'''\n",
    "\n",
    "# In the interpreter it is     __main__\n"
   ]
  },
  {
   "cell_type": "markdown",
   "metadata": {},
   "source": [
    "# 17) What is the output of this code when run from a python script.\n"
   ]
  },
  {
   "cell_type": "code",
   "execution_count": 47,
   "metadata": {},
   "outputs": [
    {
     "name": "stdout",
     "output_type": "stream",
     "text": [
      "__main__\n"
     ]
    }
   ],
   "source": [
    "print(__name__)"
   ]
  },
  {
   "cell_type": "markdown",
   "metadata": {},
   "source": [
    "# 18) Does the dir of int class contain an attribute __name__ (Y/N)."
   ]
  },
  {
   "cell_type": "code",
   "execution_count": 56,
   "metadata": {},
   "outputs": [
    {
     "name": "stdout",
     "output_type": "stream",
     "text": [
      "['__abs__', '__add__', '__and__', '__bool__', '__ceil__', '__class__', '__delattr__', '__dir__', '__divmod__', '__doc__', '__eq__', '__float__', '__floor__', '__floordiv__', '__format__', '__ge__', '__getattribute__', '__getnewargs__', '__gt__', '__hash__', '__index__', '__init__', '__init_subclass__', '__int__', '__invert__', '__le__', '__lshift__', '__lt__', '__mod__', '__mul__', '__ne__', '__neg__', '__new__', '__or__', '__pos__', '__pow__', '__radd__', '__rand__', '__rdivmod__', '__reduce__', '__reduce_ex__', '__repr__', '__rfloordiv__', '__rlshift__', '__rmod__', '__rmul__', '__ror__', '__round__', '__rpow__', '__rrshift__', '__rshift__', '__rsub__', '__rtruediv__', '__rxor__', '__setattr__', '__sizeof__', '__str__', '__sub__', '__subclasshook__', '__truediv__', '__trunc__', '__xor__', 'bit_length', 'conjugate', 'denominator', 'from_bytes', 'imag', 'numerator', 'real', 'to_bytes']\n"
     ]
    },
    {
     "data": {
      "text/plain": [
       "False"
      ]
     },
     "execution_count": 56,
     "metadata": {},
     "output_type": "execute_result"
    }
   ],
   "source": [
    "print(dir(int))\n",
    "\n",
    "__name__ in dir(int)\n",
    "\n",
    "# the class 'int' does not have __name__ in it .So the answer is No"
   ]
  },
  {
   "cell_type": "markdown",
   "metadata": {},
   "source": [
    "# 19) Predict the output of:"
   ]
  },
  {
   "cell_type": "code",
   "execution_count": 16,
   "metadata": {},
   "outputs": [
    {
     "name": "stdout",
     "output_type": "stream",
     "text": [
      "__main__\n",
      "builtins\n",
      "int\n"
     ]
    },
    {
     "data": {
      "text/plain": [
       "\"\\n__name__ is a built-in variable used for storing the name of the current module.If the current module is executed it will be __main__\\n\\notherwise it would be the imported module's name\\n\\nUsage : Let's say if we want to execute our main module only once and not every time (ex) \\n\\nconsidering a welcome note.. which is to be provided only once for the whole module\\n\\nin that case we can use this __name__ so that we can make it executable only if we run that module directly \\n\\n\\n\""
      ]
     },
     "execution_count": 16,
     "metadata": {},
     "output_type": "execute_result"
    }
   ],
   "source": [
    "print(__name__)\n",
    "print(__builtins__.__name__)\n",
    "print(int.__name__)\n",
    "\n",
    "'''\n",
    "__name__ is a built-in variable used for storing the name of the current module.If the current module is executed it will be __main__\n",
    "\n",
    "otherwise it would be the imported module's name\n",
    "\n",
    "Usage : Let's say if we want to execute our main module only once and not every time (ex) \n",
    "\n",
    "considering a welcome note.. which is to be provided only once for the whole module\n",
    "\n",
    "in that case we can use this __name__ so that we can make it executable only if we run that module directly \n",
    "\n",
    "\n",
    "'''"
   ]
  }
 ],
 "metadata": {
  "kernelspec": {
   "display_name": "Python 3",
   "language": "python",
   "name": "python3"
  },
  "language_info": {
   "codemirror_mode": {
    "name": "ipython",
    "version": 3
   },
   "file_extension": ".py",
   "mimetype": "text/x-python",
   "name": "python",
   "nbconvert_exporter": "python",
   "pygments_lexer": "ipython3",
   "version": "3.7.6"
  }
 },
 "nbformat": 4,
 "nbformat_minor": 4
}
