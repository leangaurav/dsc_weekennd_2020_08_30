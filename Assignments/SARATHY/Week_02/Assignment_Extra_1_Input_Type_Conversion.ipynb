{
 "cells": [
  {
   "cell_type": "markdown",
   "metadata": {},
   "source": [
    "# 1. Input temperature in Fahrenheit in print in Celsius."
   ]
  },
  {
   "cell_type": "code",
   "execution_count": 9,
   "metadata": {},
   "outputs": [
    {
     "name": "stdout",
     "output_type": "stream",
     "text": [
      "Enter the temperature of the body in Farenheit :98.4\n",
      "36.888888888888886\n"
     ]
    }
   ],
   "source": [
    "f = float(input(\"Enter the temperature of the body in Farenheit :\"))\n",
    "print((f - 32) * 5.0/9.0)"
   ]
  },
  {
   "cell_type": "markdown",
   "metadata": {},
   "source": [
    "# 2. Write a program to input a number and print its square and cube."
   ]
  },
  {
   "cell_type": "code",
   "execution_count": 17,
   "metadata": {},
   "outputs": [
    {
     "name": "stdout",
     "output_type": "stream",
     "text": [
      "Enter a nummber of choice : 5\n",
      "25::125\n"
     ]
    }
   ],
   "source": [
    "x =int(input(\"Enter a nummber of choice : \"))\n",
    "print(x**2 ,x**3 , sep = '::')"
   ]
  },
  {
   "cell_type": "markdown",
   "metadata": {},
   "source": [
    "# 3. WAP to input a number n and a number m and print the result of following n2 + m2"
   ]
  },
  {
   "cell_type": "code",
   "execution_count": 28,
   "metadata": {},
   "outputs": [
    {
     "name": "stdout",
     "output_type": "stream",
     "text": [
      "Enter the two numbers n and m :5 7\n",
      "74\n"
     ]
    }
   ],
   "source": [
    "n,m = input(\"Enter the two numbers n and m :\").split()\n",
    "\n",
    "print(int(n)**2+int(m)**2)"
   ]
  },
  {
   "cell_type": "markdown",
   "metadata": {},
   "source": [
    "# 4. WAP to input a numbers M and N and print result of MN. (use both ** and pow)"
   ]
  },
  {
   "cell_type": "code",
   "execution_count": 4,
   "metadata": {},
   "outputs": [
    {
     "name": "stdout",
     "output_type": "stream",
     "text": [
      "Enter the two numbers M and N :5 7 \n",
      "78125<--->78125.0\n"
     ]
    }
   ],
   "source": [
    "import math\n",
    "\n",
    "M,N = input(\"Enter the two numbers M and N :\").split()\n",
    "print(int(M)**int(N), math.pow(int(M),int(N)),sep = \"<--->\")"
   ]
  },
  {
   "cell_type": "markdown",
   "metadata": {},
   "source": [
    "# 5. Write a simple interest calculator."
   ]
  },
  {
   "cell_type": "code",
   "execution_count": 3,
   "metadata": {},
   "outputs": [
    {
     "name": "stdout",
     "output_type": "stream",
     "text": [
      "Enter the Principal to be invested :500000\n",
      "Enter the period of investment :10\n",
      "Enter the annual interest rate : 9.5\n",
      "Simple interest is :   475000.0\n"
     ]
    }
   ],
   "source": [
    "p = float(input(\"Enter the Principal to be invested :\"))\n",
    "n = float(input(\"Enter the period of investment :\"))\n",
    "r = float(input(\"Enter the annual interest rate : \"))\n",
    "si = (p*n*r)/100\n",
    "print(\"Simple interest is :  \",si)"
   ]
  },
  {
   "cell_type": "markdown",
   "metadata": {},
   "source": [
    "# 6. Input Principal, Rate, Time and print Compound Interest and Amount."
   ]
  },
  {
   "cell_type": "code",
   "execution_count": 8,
   "metadata": {},
   "outputs": [
    {
     "name": "stdout",
     "output_type": "stream",
     "text": [
      "Enter the Principal 100000\n",
      "Enter the ROI 12\n",
      "Enter the POI 5\n",
      " Your interest is compounded @ INR: 76234.16832000008 And the amount is  176234.16832000008\n"
     ]
    }
   ],
   "source": [
    "p = float(input(\"Enter the Principal \"))\n",
    "r = float(input(\"Enter the ROI \"))\n",
    "t = float(input(\"Enter the POI \"))\n",
    "amt = p*(pow((1 + r/ 100), t)) \n",
    "ci = amt-p\n",
    "print(\" Your interest is compounded @ INR:\",ci , \"And the amount is \", amt)\n"
   ]
  },
  {
   "cell_type": "markdown",
   "metadata": {},
   "source": [
    "# 7. WAP to print sum of first n natural numbers. (n needs to be taken as input)."
   ]
  },
  {
   "cell_type": "code",
   "execution_count": 11,
   "metadata": {},
   "outputs": [
    {
     "name": "stdout",
     "output_type": "stream",
     "text": [
      "Enter the value for n :10\n",
      "55.0\n"
     ]
    }
   ],
   "source": [
    "n = int(input(\"Enter the value for n :\"))\n",
    "print((n*(n+1))/2)"
   ]
  },
  {
   "cell_type": "markdown",
   "metadata": {},
   "source": [
    "# 8 .WAP to input 2 numbers and swap them. (write using both normal logic with temp variable and also the pythonic way)."
   ]
  },
  {
   "cell_type": "code",
   "execution_count": 16,
   "metadata": {},
   "outputs": [
    {
     "name": "stdout",
     "output_type": "stream",
     "text": [
      "Enter the two numbers :5 6\n",
      "Before Swapping : 5 6\n",
      "After Swapping : 6 5\n"
     ]
    }
   ],
   "source": [
    "# Using temp variable\n",
    "\n",
    "\n",
    "a,b = input(\"Enter the two numbers :\").split()\n",
    "print(\"Before Swapping :\" ,a ,b )\n",
    "temp = int(a)\n",
    "a =int(b)\n",
    "b =temp\n",
    "print(\"After Swapping :\" ,a ,b )\n",
    "\n",
    "\n"
   ]
  },
  {
   "cell_type": "code",
   "execution_count": 17,
   "metadata": {},
   "outputs": [
    {
     "name": "stdout",
     "output_type": "stream",
     "text": [
      "Enter the two numbers :8 9\n",
      "Before Swapping : 8 9\n",
      "After Swapping : 9 8\n"
     ]
    }
   ],
   "source": [
    "# Using Pythonic way\n",
    "\n",
    "a,b = input(\"Enter the two numbers :\").split()\n",
    "print(\"Before Swapping :\" ,a ,b )\n",
    "a,b = int(b),int(a)\n",
    "print(\"After Swapping :\" ,a ,b )"
   ]
  },
  {
   "cell_type": "code",
   "execution_count": 19,
   "metadata": {},
   "outputs": [
    {
     "name": "stdout",
     "output_type": "stream",
     "text": [
      "Enter the first number :6\n",
      "Enter the second number :5\n",
      "Before Swapping : 6 5\n",
      "After Swapping : 5 6\n"
     ]
    }
   ],
   "source": [
    "# Using the expressions (Alternate Approach)\n",
    "a = int(input(\"Enter the first number :\"))\n",
    "b = int(input(\"Enter the second number :\"))\n",
    "print(\"Before Swapping :\" ,a ,b )\n",
    "a = a+b\n",
    "b =a-b\n",
    "a=a-b\n",
    "print(\"After Swapping :\" ,a ,b )\n"
   ]
  },
  {
   "cell_type": "markdown",
   "metadata": {},
   "source": [
    "# 9 .WAP to print ascii value of all white-space characters present in python."
   ]
  },
  {
   "cell_type": "code",
   "execution_count": 6,
   "metadata": {},
   "outputs": [
    {
     "name": "stdout",
     "output_type": "stream",
     "text": [
      "ASCII value of a blank space :  32\n",
      "ASCII value of a horizontal tab :  9\n",
      "ASCII value of a new line:  10\n",
      "ASCII value of a vertical tab :  11\n",
      "ASCII value of a line feed :  12\n",
      "ASCII value of a carriage return :  13\n"
     ]
    }
   ],
   "source": [
    "'''Whitesapce  characters in Python are space(' '),horizonatal tab('\\t')\n",
    ",verticaltab('\\v'),newline('\\n'),feed('\\f')and carriage return ('\\r') '''\n",
    "\n",
    "\n",
    "# code snippet\n",
    "\n",
    "print(\"ASCII value of a blank space : \" ,ord(' '))\n",
    "print(\"ASCII value of a horizontal tab : \" ,ord('\\t'))\n",
    "print(\"ASCII value of a new line: \" ,ord('\\n'))\n",
    "print(\"ASCII value of a vertical tab : \" ,ord('\\v'))\n",
    "print(\"ASCII value of a line feed : \" ,ord('\\f'))\n",
    "print(\"ASCII value of a carriage return : \" ,ord('\\r'))\n"
   ]
  },
  {
   "cell_type": "markdown",
   "metadata": {},
   "source": [
    "# 10 .Input a single character and print its ascii values."
   ]
  },
  {
   "cell_type": "code",
   "execution_count": 24,
   "metadata": {},
   "outputs": [
    {
     "name": "stdout",
     "output_type": "stream",
     "text": [
      "Enter any character: F\n",
      "The ASCII value of char F is:  70\n"
     ]
    }
   ],
   "source": [
    "char = input(\"Enter any character: \")\n",
    "\n",
    "print(\"The ASCII value of char \" + char + \" is: \",ord(char))"
   ]
  },
  {
   "cell_type": "markdown",
   "metadata": {},
   "source": [
    "# 11. WAP that takes area of a circle and gives back the radius and circumference"
   ]
  },
  {
   "cell_type": "code",
   "execution_count": 30,
   "metadata": {},
   "outputs": [
    {
     "name": "stdout",
     "output_type": "stream",
     "text": [
      "Enter the Area of a Circle :56\n",
      "Radius is : 4.222008245644752 Circumference is : 26.52766017582617\n"
     ]
    }
   ],
   "source": [
    "import math\n",
    "\n",
    "area = int(input(\"Enter the Area of a Circle :\"))\n",
    "radius =math.sqrt(area/(math.pi))\n",
    "circum = 2*(math.pi)*radius\n",
    "print(\"Radius is :\",radius ,\"Circumference is :\",circum)\n"
   ]
  },
  {
   "cell_type": "markdown",
   "metadata": {},
   "source": [
    "# 12 .We need to input marks in 5 subjects out of 100 and print percentage"
   ]
  },
  {
   "cell_type": "code",
   "execution_count": 43,
   "metadata": {},
   "outputs": [
    {
     "name": "stdout",
     "output_type": "stream",
     "text": [
      "Enter the Math SC SS EVS & Lang Marks : 89 78 56 97 62\n",
      "Math ⏎\n",
      "89%\n",
      "Science⏎\n",
      "78%\n",
      "Social⏎\n",
      "56%\n",
      "EVS⏎\n",
      "97%\n",
      "Language⏎\n",
      "62%\n"
     ]
    }
   ],
   "source": [
    "maths,science,social,evs,language = input(\"Enter the Math SC SS EVS & Lang Marks : \").split()\n",
    "print(\"Math ⏎\" ,maths+\"%\",\"Science⏎\" ,science+\"%\",\"Social⏎\" ,social+\"%\",\"EVS⏎\" ,evs+\"%\",\"Language⏎\" ,language+\"%\",sep=\"\\n\")"
   ]
  }
 ],
 "metadata": {
  "kernelspec": {
   "display_name": "Python 3",
   "language": "python",
   "name": "python3"
  },
  "language_info": {
   "codemirror_mode": {
    "name": "ipython",
    "version": 3
   },
   "file_extension": ".py",
   "mimetype": "text/x-python",
   "name": "python",
   "nbconvert_exporter": "python",
   "pygments_lexer": "ipython3",
   "version": "3.7.6"
  }
 },
 "nbformat": 4,
 "nbformat_minor": 4
}
