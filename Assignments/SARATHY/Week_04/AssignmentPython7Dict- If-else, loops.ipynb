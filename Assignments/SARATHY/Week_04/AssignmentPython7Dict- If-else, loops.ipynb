{
 "cells": [
  {
   "cell_type": "markdown",
   "metadata": {},
   "source": [
    "# 1. WAP to create a dictionary of numbers mapped to their negative value for numbers from 1-5.\n",
    "- The dictionary should contain something like this:\n",
    "- Do with both with and without range based for loop.\n",
    "- {1:-1,2:-2,3:-3….}"
   ]
  },
  {
   "cell_type": "code",
   "execution_count": 2,
   "metadata": {},
   "outputs": [
    {
     "name": "stdout",
     "output_type": "stream",
     "text": [
      "{1: -1, 2: -2, 3: -3, 4: -4, 5: -5}\n",
      "{1: -1, 2: -2, 3: -3, 4: -4, 5: -5}\n"
     ]
    }
   ],
   "source": [
    "# With Range based for loop\n",
    "y = {i:-i for i in range(1,6)}\n",
    "print(y)\n",
    "\n",
    "# (or)\n",
    "\n",
    "print({i:-i for i in range(1,6)})"
   ]
  },
  {
   "cell_type": "code",
   "execution_count": 5,
   "metadata": {},
   "outputs": [
    {
     "name": "stdout",
     "output_type": "stream",
     "text": [
      "{1: -1, 2: -2, 3: -3, 4: -4, 5: -5}\n"
     ]
    }
   ],
   "source": [
    "# Without range based for loop\n",
    "\n",
    "d = {1:-1,2:-2,3:-3,4:-4,5:-5}\n",
    "print(d)"
   ]
  },
  {
   "cell_type": "markdown",
   "metadata": {},
   "source": [
    "# 2. Check which of the following declarations will work"
   ]
  },
  {
   "cell_type": "code",
   "execution_count": 120,
   "metadata": {},
   "outputs": [],
   "source": [
    "# d = {1=2,2=3} ------> Will not work: should be represented as d[1]=2 and d[2]=3\n",
    "# d ={1:2,2:3}-----------> Will work \n",
    "# d ={1,2:2,3})------> Will not work : should be () or [] enclosed \n",
    "    #But [] not to be used for keys since it is hashable\n",
    "# d = {(1,2),(2,3)}-------> Will  work\n",
    "# d ={'a':'A','b':1,c:[1234]} ----->Name error , c is not defined   \n",
    "# d ={'a':'A','b':1,'c':[1234]} ----->Will work , c is defined  \n",
    "# d = dict([(1,2),(2,3)]) ----> Will work\n",
    "# d = dict(((1,2),(2,3)))----> Will work\n",
    "# d = dict((1,2),(2,3)])-----> Will not work\n",
    "#d =dict(x=2,y=3)-----------> Will work , since keys is a valid identifier when it comes with expression\n",
    "#d = dict('x'=2,'y'=3)-------> Will not work :Key should be a valid identifier for an expression \n",
    "#d = dict(1=2,2=3) -------> Will not work :Key should be a valid identifier for an expression \n",
    "   # but d = dict(((1,2),(2,3))) will work\n",
    "\n",
    "\n"
   ]
  },
  {
   "cell_type": "markdown",
   "metadata": {},
   "source": [
    "# 3. Read help for zip and write a program that has two lists"
   ]
  },
  {
   "cell_type": "code",
   "execution_count": 54,
   "metadata": {},
   "outputs": [
    {
     "name": "stdout",
     "output_type": "stream",
     "text": [
      "Help on class zip in module builtins:\n",
      "\n",
      "class zip(object)\n",
      " |  zip(*iterables) --> zip object\n",
      " |  \n",
      " |  Return a zip object whose .__next__() method returns a tuple where\n",
      " |  the i-th element comes from the i-th iterable argument.  The .__next__()\n",
      " |  method continues until the shortest iterable in the argument sequence\n",
      " |  is exhausted and then it raises StopIteration.\n",
      " |  \n",
      " |  Methods defined here:\n",
      " |  \n",
      " |  __getattribute__(self, name, /)\n",
      " |      Return getattr(self, name).\n",
      " |  \n",
      " |  __iter__(self, /)\n",
      " |      Implement iter(self).\n",
      " |  \n",
      " |  __next__(self, /)\n",
      " |      Implement next(self).\n",
      " |  \n",
      " |  __reduce__(...)\n",
      " |      Return state information for pickling.\n",
      " |  \n",
      " |  ----------------------------------------------------------------------\n",
      " |  Static methods defined here:\n",
      " |  \n",
      " |  __new__(*args, **kwargs) from builtins.type\n",
      " |      Create and return a new object.  See help(type) for accurate signature.\n",
      "\n"
     ]
    }
   ],
   "source": [
    "help(zip)\n"
   ]
  },
  {
   "cell_type": "code",
   "execution_count": 55,
   "metadata": {},
   "outputs": [
    {
     "name": "stdout",
     "output_type": "stream",
     "text": [
      "{1: 10, 2: 20, 3: 30, 4: 40}\n"
     ]
    }
   ],
   "source": [
    "l1 = [1,2,3,4]\n",
    "l2 = [10,20,30,40]\n",
    "\n",
    "l3 = dict(zip(l1,l2))\n",
    "print(l3)"
   ]
  },
  {
   "cell_type": "markdown",
   "metadata": {},
   "source": [
    "# 4. Use range based for loop to store all upper case alphabets and their corresponding ASCII\n",
    "# values in the dictionary d.\n",
    "# The result should be d = {‘A’: 65, ‘B’:66,…..}"
   ]
  },
  {
   "cell_type": "code",
   "execution_count": 58,
   "metadata": {},
   "outputs": [
    {
     "name": "stdout",
     "output_type": "stream",
     "text": [
      "{'A': 65, 'B': 66, 'C': 67, 'D': 68, 'E': 69, 'F': 70, 'G': 71, 'H': 72, 'I': 73, 'J': 74, 'K': 75, 'L': 76, 'M': 77, 'N': 78, 'O': 79, 'P': 80, 'Q': 81, 'R': 82, 'S': 83, 'T': 84, 'U': 85, 'V': 86, 'W': 87, 'X': 88, 'Y': 89, 'Z': 90}\n"
     ]
    }
   ],
   "source": [
    "import string\n",
    "caps = string.ascii_uppercase\n",
    "d ={i:ord(i) for i in caps}\n",
    "print(d)"
   ]
  },
  {
   "cell_type": "markdown",
   "metadata": {},
   "source": [
    "# 5. Create a mapping of number to word from 0-9. (0:’zero’……)\n",
    "-  Ask user for a single digit number and print the corresponding word format.\n",
    "-  Print all keys of above dictionary\n",
    "- Print all Values of a dictionary\n",
    "- Print all Key and Value pairs of above dictionary"
   ]
  },
  {
   "cell_type": "code",
   "execution_count": 114,
   "metadata": {},
   "outputs": [
    {
     "name": "stdout",
     "output_type": "stream",
     "text": [
      "Enter the Number from 0 to 9 :5\n",
      "The word format for your number is  Five\n",
      "dict_keys([0, 1, 2, 3, 4, 5, 6, 7, 8, 9])\n",
      "dict_values(['Zero', 'One', 'Two', 'Three', 'Four', 'Five', 'Six', 'Seven', 'Eight', 'Nine'])\n",
      "dict_items([(0, 'Zero'), (1, 'One'), (2, 'Two'), (3, 'Three'), (4, 'Four'), (5, 'Five'), (6, 'Six'), (7, 'Seven'), (8, 'Eight'), (9, 'Nine')])\n",
      "[(0, 'Zero'), (1, 'One'), (2, 'Two'), (3, 'Three'), (4, 'Four'), (5, 'Five'), (6, 'Six'), (7, 'Seven'), (8, 'Eight'), (9, 'Nine')]\n"
     ]
    }
   ],
   "source": [
    "d = {0:'Zero',1:'One',2:'Two',3:'Three',4:'Four',5:'Five',6:'Six',7:'Seven',8:'Eight',9:'Nine'}\n",
    "\n",
    "x = input(\"Enter the Number from 0 to 9 :\")\n",
    "\n",
    "if x.isdigit()==False:  \n",
    "    print(\"Enter the Valid number\")\n",
    "    \n",
    "elif int(x) not in range(10):\n",
    "    print(\"The number is not in range\")\n",
    "else :\n",
    "    print(\"The word format for your number is \",d.get(int(x)))\n",
    "    print(d.keys())\n",
    "    print(d.values())\n",
    "    print(d.items())\n",
    "    print(list(d.items()))"
   ]
  },
  {
   "cell_type": "markdown",
   "metadata": {},
   "source": [
    "# 6. Predict Output of:"
   ]
  },
  {
   "cell_type": "code",
   "execution_count": 119,
   "metadata": {},
   "outputs": [
    {
     "name": "stdout",
     "output_type": "stream",
     "text": [
      "{'A': 'Apple', 'B': 'Ball', 'C': 'Cat', 'D': 'Dog'}\n",
      "{'A': 'Apple', 'C': 'Cat'}\n"
     ]
    }
   ],
   "source": [
    "l1 =['A','B','C','D']\n",
    "l2 =['Apple','Ball','Cat','Dog']\n",
    "d1 = dict(zip(l1,l2))\n",
    "print(d1)\n",
    "d2 =dict(list(d1.items())[::2])\n",
    "print(d2)"
   ]
  },
  {
   "cell_type": "markdown",
   "metadata": {},
   "source": [
    "# 7. WAP to input a string and count occurrence of each vowel in a string.\n",
    "\n",
    "# Ex: if user enters:\n",
    "- “Beautiful Day”\n",
    "- Output should Be:\n",
    "- a:2\n",
    "- e:1\n",
    "- I :1\n",
    "- o:0\n",
    "- u:2\n",
    "# [Hint: Use a list of a dictionary (preferably dictionary)]"
   ]
  },
  {
   "cell_type": "code",
   "execution_count": 13,
   "metadata": {},
   "outputs": [
    {
     "name": "stdout",
     "output_type": "stream",
     "text": [
      "Enter a stringBeautiful Day\n",
      "{'a': 2, 'e': 1, 'i': 1, 'o': 0, 'u': 2}\n",
      "\n",
      "\n",
      "a 2\n",
      "e 1\n",
      "i 1\n",
      "o 0\n",
      "u 2\n"
     ]
    }
   ],
   "source": [
    "x = input(\"Enter a string\")\n",
    "v =['a','e','i','o','u']\n",
    "vow = {v[i]:x.count(v[i]) for i in range(5)}\n",
    "print(vow)\n",
    "print()\n",
    "print()\n",
    "for i,j in vow.items():\n",
    "    print(i,j)\n",
    " "
   ]
  },
  {
   "cell_type": "markdown",
   "metadata": {},
   "source": [
    "# 8. Update above program to print frequency of each alphabet present in string."
   ]
  },
  {
   "cell_type": "code",
   "execution_count": 24,
   "metadata": {},
   "outputs": [
    {
     "name": "stdout",
     "output_type": "stream",
     "text": [
      "Enter a string Beautiful Day\n",
      "{'B': 1, 'e': 1, 'a': 2, 'u': 2, 't': 1, 'i': 1, 'f': 1, 'l': 1, 'D': 1, 'y': 1}\n"
     ]
    }
   ],
   "source": [
    "x = input(\"Enter a string \")\n",
    "freq = {}\n",
    "for j in x:\n",
    "    if j!=' ':\n",
    "        if j in freq:\n",
    "            freq[j]+=1\n",
    "        else:\n",
    "            freq[j]=1\n",
    "print(freq)\n",
    "    "
   ]
  },
  {
   "cell_type": "markdown",
   "metadata": {},
   "source": [
    "# 9. WAP that takes a string as input and prints frequency of each word.\n",
    "- Ex: if input is “count the words in the sentence in”\n",
    "-  Output:\n",
    "- count: 1\n",
    "- the: 2\n",
    "- words: 1\n",
    "- in: 2\n",
    "- sentence: 1"
   ]
  },
  {
   "cell_type": "code",
   "execution_count": 30,
   "metadata": {},
   "outputs": [
    {
     "name": "stdout",
     "output_type": "stream",
     "text": [
      "Enter the sentence :  count the words in the sentence in\n",
      "{'count': 1, 'the': 2, 'words': 1, 'in': 2, 'sentence': 1}\n",
      "\n",
      "count : 1\n",
      "the : 2\n",
      "words : 1\n",
      "in : 2\n",
      "sentence : 1\n"
     ]
    }
   ],
   "source": [
    "x = input(\"Enter the sentence :  \").split()\n",
    "count = {}\n",
    "for i in x:\n",
    "    if i in count:\n",
    "        count[i]+=1\n",
    "    else:\n",
    "        count[i]=1\n",
    "print(count)\n",
    "print()\n",
    "for i,j in count.items():\n",
    "    print(i,':',j)"
   ]
  },
  {
   "cell_type": "code",
   "execution_count": null,
   "metadata": {},
   "outputs": [],
   "source": []
  }
 ],
 "metadata": {
  "kernelspec": {
   "display_name": "Python 3",
   "language": "python",
   "name": "python3"
  },
  "language_info": {
   "codemirror_mode": {
    "name": "ipython",
    "version": 3
   },
   "file_extension": ".py",
   "mimetype": "text/x-python",
   "name": "python",
   "nbconvert_exporter": "python",
   "pygments_lexer": "ipython3",
   "version": "3.7.6"
  }
 },
 "nbformat": 4,
 "nbformat_minor": 4
}
