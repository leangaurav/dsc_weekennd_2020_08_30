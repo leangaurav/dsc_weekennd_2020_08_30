{
 "cells": [
  {
   "cell_type": "markdown",
   "metadata": {},
   "source": [
    "# 1. Write lambdas to:\n",
    "- Square a number x2\n",
    "- Inverse a number 1/x\n",
    "- Negate a number"
   ]
  },
  {
   "cell_type": "code",
   "execution_count": 2,
   "metadata": {},
   "outputs": [
    {
     "name": "stdout",
     "output_type": "stream",
     "text": [
      "16\n",
      "0.25\n",
      "-4\n"
     ]
    }
   ],
   "source": [
    "s = lambda x :x*x\n",
    "print(s(4))\n",
    "i=lambda x:(1/x)\n",
    "print(i(4))\n",
    "n= lambda x:-x\n",
    "print(n(4))"
   ]
  },
  {
   "cell_type": "markdown",
   "metadata": {},
   "source": [
    "# 2. Use reduce function and an appropriate lambda to find the maximum number in a list."
   ]
  },
  {
   "cell_type": "code",
   "execution_count": 14,
   "metadata": {},
   "outputs": [
    {
     "name": "stdout",
     "output_type": "stream",
     "text": [
      "9\n"
     ]
    }
   ],
   "source": [
    "from functools import reduce\n",
    "ls=[8,4,9,1,0]      \n",
    "maxi = reduce(lambda x,y: x if x>y else y ,ls)\n",
    "print(maxi)"
   ]
  },
  {
   "cell_type": "markdown",
   "metadata": {},
   "source": [
    "# 3. Write a function map_multiple that takes a list of functions/lambdas as first argument and a\n",
    "- sequence type as second argument.\n",
    "- The function picks first lambda from list, applies it to first element, then applies the second\n",
    "- function to the result of first one and ….\n",
    "- Similarly it does for each element and generates a mapping of input to output\n",
    "- def map_multiple(functs, sequence):\n",
    "- write definition here\n",
    "- Ex: let list of lambdas be from question 1 and the list on numbers be [1,2,4]\n",
    "- So first function gives [1, 4, 16]\n",
    "- Second gives [1, 0.25, 0.0625]\n",
    "- Third gives [-1, -0.25, -0.0625]. Which is the final result."
   ]
  },
  {
   "cell_type": "code",
   "execution_count": 2,
   "metadata": {},
   "outputs": [
    {
     "name": "stdout",
     "output_type": "stream",
     "text": [
      "First Sequcnce :  [1, 2, 4]\n",
      "[1, 4, 16]\n",
      "[1.0, 0.25, 0.0625]\n",
      "[-1.0, -0.25, -0.0625]\n"
     ]
    }
   ],
   "source": [
    "def map_multiple(functs,sequence):\n",
    "    end=[]\n",
    "    for i in functs:\n",
    "        end=[i(j) for j in sequence]       \n",
    "        sequence=end\n",
    "        print(sequence)\n",
    "        end=[]              \n",
    "lambs = [lambda x :x*x,lambda x:(1/x),lambda x:-x]\n",
    "ls=[1,2,4]\n",
    "print(\"First Sequcnce : \" , ls)\n",
    "map_multiple(lambs,ls)\n"
   ]
  },
  {
   "cell_type": "markdown",
   "metadata": {},
   "source": [
    "# 4. Predict the output of following code:"
   ]
  },
  {
   "cell_type": "code",
   "execution_count": 16,
   "metadata": {},
   "outputs": [],
   "source": [
    "from functools import reduce \n",
    "f = lambda x,y : x if x>y else y\n",
    "l=[10,30,50,30,10]\n",
    "num = reduce(f,l)\n",
    "print(num)\n",
    "\n",
    "# At first takes 10 and 30 \n",
    "#                         returns 30 ---> takes 30,50 \n",
    "#                         returns 50 ---> takes 50,30\n",
    "#                         returns 50 ---> takes 50,10\n",
    "#                         returns 50"
   ]
  },
  {
   "cell_type": "markdown",
   "metadata": {},
   "source": [
    "# 5. Find output of following:"
   ]
  },
  {
   "cell_type": "code",
   "execution_count": 18,
   "metadata": {},
   "outputs": [
    {
     "name": "stdout",
     "output_type": "stream",
     "text": [
      "[1.0, 0.5, 0.25, 0.125]\n"
     ]
    }
   ],
   "source": [
    "functs = [lambda x:x**0.5 , lambda x:1/x]\n",
    "l=[1,4,16,64]\n",
    "ans =[]\n",
    "for num in l:\n",
    "    res=num \n",
    "    for funct in functs:\n",
    "        res = funct(res)\n",
    "    ans.append(res)\n",
    "print(ans)\n",
    "                "
   ]
  },
  {
   "cell_type": "markdown",
   "metadata": {},
   "source": [
    "# 6. Use filter function to filter a list of numbers and strings such that the result contains only numbers. (Hint : Use isinstance method)"
   ]
  },
  {
   "cell_type": "code",
   "execution_count": 5,
   "metadata": {},
   "outputs": [
    {
     "name": "stdout",
     "output_type": "stream",
     "text": [
      "[1, 56, 7]\n"
     ]
    }
   ],
   "source": [
    "ls = [1,'apple','bat','3','cave',56,'den','egg',7]\n",
    "print(list(filter(lambda x:isinstance(x,int),ls)))"
   ]
  },
  {
   "cell_type": "markdown",
   "metadata": {},
   "source": [
    "# 7. Assume a list containing heights ft and inches in the form of a list of string\n",
    "- Example : l = [‘5ft10in’, ‘5ft’, ….]\n",
    "- Write a function to convert the heights to meter. Use map function along with your function to convert everything to m"
   ]
  },
  {
   "cell_type": "code",
   "execution_count": 19,
   "metadata": {},
   "outputs": [
    {
     "name": "stdout",
     "output_type": "stream",
     "text": [
      "{'5ft10in': 1.778, '5ft': 1.524, '6ft2in': 1.8796000000000002, '5ft5in': 1.651, '6ft': 1.8288000000000002}\n"
     ]
    }
   ],
   "source": [
    "height =['5ft10in','5ft','6ft2in','5ft5in','6ft']\n",
    "height_in_mts=[]\n",
    "for i in  height:\n",
    "    if 'ft' and 'in' in i:\n",
    "         j=i.replace('ft','*0.3048+').replace('in','*0.0254')\n",
    "         height_in_mts.append(eval(j))      \n",
    "    elif ('ft' in i) and ('in' not in i):\n",
    "          k=i.replace('ft','*0.3048')\n",
    "          height_in_mts.append(eval(k))                \n",
    "    else :\n",
    "        l=i.replace('in','*0.0254')\n",
    "        height_in_mts.append(eval(l))                        \n",
    "print(dict(zip(height,height_in_mts)))"
   ]
  },
  {
   "cell_type": "markdown",
   "metadata": {},
   "source": [
    "# 8. Write the implementation for the map function yourself by the name my_map()"
   ]
  },
  {
   "cell_type": "code",
   "execution_count": 27,
   "metadata": {},
   "outputs": [
    {
     "name": "stdout",
     "output_type": "stream",
     "text": [
      "[1, 4, 16]\n",
      "[1, 4, 16]\n"
     ]
    }
   ],
   "source": [
    "# Function definition \n",
    "def squa(x):\n",
    "    return x*x\n",
    "\n",
    "# Snippet for built-in map function\n",
    "\n",
    "print(list(map(lambda x:x*x,[1,2,4]))) \n",
    "\n",
    "# User-built map fn\n",
    "\n",
    "def my_map(func,seq):\n",
    "    res =[func(i) for i in seq]\n",
    "    return res\n",
    "\n",
    "\n",
    "print(list(my_map(squa,[1,2,4])))\n"
   ]
  }
 ],
 "metadata": {
  "kernelspec": {
   "display_name": "Python 3",
   "language": "python",
   "name": "python3"
  },
  "language_info": {
   "codemirror_mode": {
    "name": "ipython",
    "version": 3
   },
   "file_extension": ".py",
   "mimetype": "text/x-python",
   "name": "python",
   "nbconvert_exporter": "python",
   "pygments_lexer": "ipython3",
   "version": "3.7.6"
  }
 },
 "nbformat": 4,
 "nbformat_minor": 4
}
