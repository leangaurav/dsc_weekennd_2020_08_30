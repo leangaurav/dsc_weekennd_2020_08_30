{
 "cells": [
  {
   "cell_type": "markdown",
   "metadata": {},
   "source": [
    "## NUMPY\n",
    "- create a numpy array of 5 zeros.\n",
    "    - check datatype, itemsize and shape of above\n",
    "- create a numpy array of ones of shape (5,4)\n",
    "- create a matrix of shape 4,5 with numbers from 1-20\n",
    "- multiply all elements of above array by 10\n",
    "- print odd elements from array\n",
    "- replace all even elements by their negative\n",
    "  \n",
    "  \n",
    "  \n",
    "- create a linearly spaced matrix M1 of size 4x4 having values in range 1-16\n",
    "- create a transpose of above matrix call it M2\n",
    "- find sum of above matrix M3 = (M1 + M2)\n",
    "- Find Transpose of M3, Call it MT1. Check if M3 == MT1\n",
    "- find diffrence of M4 = (M1 - M2)\n",
    "- Find Transpose of M4, Call it MT2. Check if M4 == MT2. Also check if M4 == -MT2\n",
    "  \n",
    "\n",
    "- create a matrix (3x4) R1 of random numbers between 10-40\n",
    "- find min and max column wise\n",
    "- replace the last column with sum of all the columns\n",
    "\n",
    "\n",
    "- create a matrix (3x4) R1 of random numbers between 10-40\n",
    "- replace all even elements with nan in R1\n",
    "- count number of nan in R1\n",
    "\n",
    "\n",
    "\n",
    "- check output of this code  \n",
    "`a1 = np.arange(1,10).reshape(3,3)\n",
    "a2 = np.arange(11,20).reshape(3,3)\n",
    "a3 = np.append(a1,a2)\n",
    "print(a3)\n",
    "a3 = np.append(a1,a2, axis = 0)\n",
    "print(a3)\n",
    "a3 = np.append(a1,a2, axis = 1)\n",
    "print(a3)\n",
    "\n"
   ]
  },
  {
   "cell_type": "code",
   "execution_count": 10,
   "metadata": {},
   "outputs": [
    {
     "name": "stdout",
     "output_type": "stream",
     "text": [
      "float64\n",
      "8\n",
      "(1, 5)\n"
     ]
    }
   ],
   "source": [
    "# 1  create a numpy array of 5 zeros.check datatype, itemsize and shape of above\n",
    "\n",
    "import numpy as np\n",
    "zer = np.zeros((1,5))\n",
    "print(zer.dtype)\n",
    "print(zer.itemsize)\n",
    "print(zer.shape)"
   ]
  },
  {
   "cell_type": "code",
   "execution_count": 14,
   "metadata": {},
   "outputs": [
    {
     "name": "stdout",
     "output_type": "stream",
     "text": [
      "[[1 1 1 1]\n",
      " [1 1 1 1]\n",
      " [1 1 1 1]\n",
      " [1 1 1 1]\n",
      " [1 1 1 1]]\n"
     ]
    }
   ],
   "source": [
    "# 2 create a numpy array of ones of shape (5,4)\n",
    "\n",
    "one = np.ones((5,4),dtype=np.int64)\n",
    "print(one)\n"
   ]
  },
  {
   "cell_type": "code",
   "execution_count": 16,
   "metadata": {},
   "outputs": [
    {
     "name": "stdout",
     "output_type": "stream",
     "text": [
      "[[ 0  1  2  3  4]\n",
      " [ 5  6  7  8  9]\n",
      " [10 11 12 13 14]\n",
      " [15 16 17 18 19]]\n"
     ]
    }
   ],
   "source": [
    "# 3 create a matrix of shape 4,5 with numbers from 1-20\n",
    "m= np.arange(20).reshape(4,5)\n",
    "print(m)"
   ]
  },
  {
   "cell_type": "code",
   "execution_count": 17,
   "metadata": {},
   "outputs": [
    {
     "name": "stdout",
     "output_type": "stream",
     "text": [
      "[[  0  10  20  30  40]\n",
      " [ 50  60  70  80  90]\n",
      " [100 110 120 130 140]\n",
      " [150 160 170 180 190]]\n"
     ]
    }
   ],
   "source": [
    "# 4 multiply all elements of above array by 10\n",
    "\n",
    "print(m*10)"
   ]
  },
  {
   "cell_type": "code",
   "execution_count": 35,
   "metadata": {},
   "outputs": [
    {
     "name": "stdout",
     "output_type": "stream",
     "text": [
      "[[ 0  1  2  3  4]\n",
      " [ 5  6  7  8  9]\n",
      " [10 11 12 13 14]]\n",
      "\n",
      "[ 1  3  5  7  9 11 13]\n"
     ]
    }
   ],
   "source": [
    "# 5 print odd elements from array\n",
    "n = np.arange(15).reshape(3,5)\n",
    "print(n)\n",
    "print()\n",
    "odd_idx = n%2!=0\n",
    "print(n[odd_idx])"
   ]
  },
  {
   "cell_type": "code",
   "execution_count": 29,
   "metadata": {},
   "outputs": [
    {
     "name": "stdout",
     "output_type": "stream",
     "text": [
      "Original :\n",
      "[[ 0  1  2  3  4]\n",
      " [ 5  6  7  8  9]\n",
      " [10 11 12 13 14]]\n",
      "Negated : \n",
      "[[  0   1  -2   3  -4]\n",
      " [  5  -6   7  -8   9]\n",
      " [-10  11 -12  13 -14]]\n"
     ]
    }
   ],
   "source": [
    "# 6  replace all even elements by their negative\n",
    "\n",
    "# using the above array\n",
    "even_idx = n%2==0\n",
    "pos = np.where(even_idx,-n,n)\n",
    "print(\"Original :\")\n",
    "print(n)\n",
    "print(\"Negated : \")\n",
    "print(pos)"
   ]
  },
  {
   "cell_type": "code",
   "execution_count": 36,
   "metadata": {},
   "outputs": [
    {
     "name": "stdout",
     "output_type": "stream",
     "text": [
      "[[ 0  1  2  3]\n",
      " [ 4  5  6  7]\n",
      " [ 8  9 10 11]\n",
      " [12 13 14 15]]\n"
     ]
    }
   ],
   "source": [
    "# 7 create a linearly spaced matrix M1 of size 4x4 having values in range 1-16\n",
    "M1 = (np.arange(16).reshape(4,4))\n",
    "print(M1)"
   ]
  },
  {
   "cell_type": "code",
   "execution_count": 41,
   "metadata": {},
   "outputs": [
    {
     "name": "stdout",
     "output_type": "stream",
     "text": [
      "[[ 0  4  8 12]\n",
      " [ 1  5  9 13]\n",
      " [ 2  6 10 14]\n",
      " [ 3  7 11 15]]\n"
     ]
    }
   ],
   "source": [
    "# 8 create a transpose of above matrix call it M2\n",
    "\n",
    "M2=np.transpose(M1)\n",
    "print(M2)"
   ]
  },
  {
   "cell_type": "code",
   "execution_count": 42,
   "metadata": {},
   "outputs": [
    {
     "name": "stdout",
     "output_type": "stream",
     "text": [
      "[[ 0  5 10 15]\n",
      " [ 5 10 15 20]\n",
      " [10 15 20 25]\n",
      " [15 20 25 30]]\n"
     ]
    }
   ],
   "source": [
    "# 9 find sum of above matrix M3 = (M1 + M2)\n",
    "M3=M1+M2\n",
    "print(M3)\n"
   ]
  },
  {
   "cell_type": "code",
   "execution_count": 84,
   "metadata": {},
   "outputs": [
    {
     "name": "stdout",
     "output_type": "stream",
     "text": [
      "[[ True  True  True  True]\n",
      " [ True  True  True  True]\n",
      " [ True  True  True  True]\n",
      " [ True  True  True  True]]\n",
      "True\n"
     ]
    }
   ],
   "source": [
    "# 10 Find Transpose of M3, Call it MT1. Check if M3 == MT1\n",
    "MT1 = np.transpose(M3)\n",
    "print(M3==MT1)\n",
    "check=(M3==MT1)\n",
    "print(check.all())"
   ]
  },
  {
   "cell_type": "code",
   "execution_count": 46,
   "metadata": {},
   "outputs": [
    {
     "name": "stdout",
     "output_type": "stream",
     "text": [
      "[[ 0 -3 -6 -9]\n",
      " [ 3  0 -3 -6]\n",
      " [ 6  3  0 -3]\n",
      " [ 9  6  3  0]]\n"
     ]
    }
   ],
   "source": [
    "#11 Find diffrence of M4 = (M1 - M2)\n",
    "M4=(M1-M2)\n",
    "print(M4)"
   ]
  },
  {
   "cell_type": "code",
   "execution_count": 88,
   "metadata": {},
   "outputs": [
    {
     "name": "stdout",
     "output_type": "stream",
     "text": [
      "M4\n",
      "\n",
      "[[ 0 -3 -6 -9]\n",
      " [ 3  0 -3 -6]\n",
      " [ 6  3  0 -3]\n",
      " [ 9  6  3  0]]\n",
      "MT2\n",
      "\n",
      "[[ 0  3  6  9]\n",
      " [-3  0  3  6]\n",
      " [-6 -3  0  3]\n",
      " [-9 -6 -3  0]]\n",
      "\n",
      "[[ True False False False]\n",
      " [False  True False False]\n",
      " [False False  True False]\n",
      " [False False False  True]]\n",
      "\n",
      "False\n",
      "\n",
      "[[ True  True  True  True]\n",
      " [ True  True  True  True]\n",
      " [ True  True  True  True]\n",
      " [ True  True  True  True]]\n",
      "True\n"
     ]
    }
   ],
   "source": [
    "# 12 Find Transpose of M4, Call it MT2. Check if M4 == MT2. Also check if M4 == -MT2\n",
    "\n",
    "MT2=np.transpose(M4)\n",
    "print(\"M4\")\n",
    "print()\n",
    "print(M4)\n",
    "print(\"MT2\")\n",
    "print()\n",
    "print(MT2)\n",
    "print()\n",
    "print(M4==MT2)\n",
    "print()\n",
    "checkA=(M4==MT2)\n",
    "print(checkA.all())\n",
    "print()\n",
    "print(M4==-MT2)\n",
    "checkB=(M4==-MT2)\n",
    "print(checkB.all())"
   ]
  },
  {
   "cell_type": "code",
   "execution_count": 58,
   "metadata": {},
   "outputs": [
    {
     "name": "stdout",
     "output_type": "stream",
     "text": [
      "[[11 38 19 24]\n",
      " [14 30 24 27]\n",
      " [22 16 33 31]]\n"
     ]
    }
   ],
   "source": [
    "# 13 create a matrix (3x4) R1 of random numbers between 10-40\n",
    "R1 = np.random.randint(10,40,size=(3,4))\n",
    "print(R1)"
   ]
  },
  {
   "cell_type": "code",
   "execution_count": 67,
   "metadata": {},
   "outputs": [
    {
     "name": "stdout",
     "output_type": "stream",
     "text": [
      "[11 16 19 24]\n",
      "[22 38 33 31]\n"
     ]
    }
   ],
   "source": [
    "# 14 find min and max column wise\n",
    "# Using the above matrix\n",
    "print(np.amin(R1,axis=0))\n",
    "print(np.amax(R1,axis=0))"
   ]
  },
  {
   "cell_type": "code",
   "execution_count": 73,
   "metadata": {},
   "outputs": [
    {
     "name": "stdout",
     "output_type": "stream",
     "text": [
      "[[ 11  38  19  92]\n",
      " [ 14  30  24  95]\n",
      " [ 22  16  33 102]]\n",
      "[160 163 173]\n",
      "[[ 11  38  19 160]\n",
      " [ 14  30  24 163]\n",
      " [ 22  16  33 173]]\n"
     ]
    }
   ],
   "source": [
    "# 15 replace the last column with sum of all the columns\n",
    "print(R1)\n",
    "print(R1.sum(axis=1))\n",
    "R1[(0,1,2),(3,3,3)]=R1.sum(axis=1)\n",
    "print(R1)"
   ]
  },
  {
   "cell_type": "code",
   "execution_count": 77,
   "metadata": {},
   "outputs": [
    {
     "name": "stdout",
     "output_type": "stream",
     "text": [
      "[[25 35 12 22]\n",
      " [38 26 22 34]\n",
      " [17 22 19 23]]\n"
     ]
    }
   ],
   "source": [
    "# 16 create a matrix (3x4) R1 of random numbers between 10-40\n",
    "\n",
    "R1= np.random.randint(10,40,size=(3,4))\n",
    "print(R1)"
   ]
  },
  {
   "cell_type": "code",
   "execution_count": 80,
   "metadata": {},
   "outputs": [
    {
     "name": "stdout",
     "output_type": "stream",
     "text": [
      "[[False False  True  True]\n",
      " [ True  True  True  True]\n",
      " [False  True False False]]\n",
      "[[25. 35. nan nan]\n",
      " [nan nan nan nan]\n",
      " [17. nan 19. 23.]]\n"
     ]
    }
   ],
   "source": [
    "# 17 replace all even elements with nan in R1\n",
    "even_idex=R1%2==0\n",
    "print(even_idex)\n",
    "R1 = np.where(even_idex,np.nan,R1)\n",
    "print(R1)"
   ]
  },
  {
   "cell_type": "code",
   "execution_count": 82,
   "metadata": {},
   "outputs": [
    {
     "name": "stdout",
     "output_type": "stream",
     "text": [
      "7\n"
     ]
    }
   ],
   "source": [
    "# 18 count number of nan in R1\n",
    "print(np.isnan(R1).sum())"
   ]
  },
  {
   "cell_type": "code",
   "execution_count": 70,
   "metadata": {},
   "outputs": [
    {
     "name": "stdout",
     "output_type": "stream",
     "text": [
      "[ 1  2  3  4  5  6  7  8  9 11 12 13 14 15 16 17 18 19]\n",
      "[[ 1  2  3]\n",
      " [ 4  5  6]\n",
      " [ 7  8  9]\n",
      " [11 12 13]\n",
      " [14 15 16]\n",
      " [17 18 19]]\n",
      "[[ 1  2  3 11 12 13]\n",
      " [ 4  5  6 14 15 16]\n",
      " [ 7  8  9 17 18 19]]\n"
     ]
    }
   ],
   "source": [
    "# 19   Check the Output of this code \n",
    "\n",
    "a1 = np.arange(1,10).reshape(3,3)\n",
    "a2 = np.arange(11,20).reshape(3,3)\n",
    "a3 = np.append(a1,a2)\n",
    "print(a3)\n",
    "a3 = np.append(a1,a2, axis = 0)\n",
    "print(a3)\n",
    "a3 = np.append(a1,a2, axis = 1)\n",
    "print(a3)"
   ]
  },
  {
   "cell_type": "code",
   "execution_count": null,
   "metadata": {},
   "outputs": [],
   "source": []
  }
 ],
 "metadata": {
  "kernelspec": {
   "display_name": "Python 3",
   "language": "python",
   "name": "python3"
  },
  "language_info": {
   "codemirror_mode": {
    "name": "ipython",
    "version": 3
   },
   "file_extension": ".py",
   "mimetype": "text/x-python",
   "name": "python",
   "nbconvert_exporter": "python",
   "pygments_lexer": "ipython3",
   "version": "3.7.6"
  }
 },
 "nbformat": 4,
 "nbformat_minor": 4
}
