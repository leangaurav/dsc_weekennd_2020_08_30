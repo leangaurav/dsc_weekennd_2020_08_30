{
 "cells": [
  {
   "cell_type": "markdown",
   "metadata": {},
   "source": [
    "# 1. WAP to input 2 strings and swap the strings"
   ]
  },
  {
   "cell_type": "code",
   "execution_count": 21,
   "metadata": {},
   "outputs": [
    {
     "name": "stdout",
     "output_type": "stream",
     "text": [
      "Enter the two strings for swapping :1 4 \n",
      "Enter the valid strings to proceed with the swap\n"
     ]
    }
   ],
   "source": [
    "import string \n",
    "\n",
    "\n",
    "x,y = input('Enter the two strings for swapping :').split()\n",
    "\n",
    "if x in string.ascii_lowercase or x in string.ascii_uppercase:\n",
    "    print(\"Before swapping \", x ,y)\n",
    "    x,y=y,x\n",
    "    print(\"After swapping \", x ,y)\n",
    "    \n",
    "else:\n",
    "    print(\"Enter the valid strings to proceed with the swap\")\n",
    "    "
   ]
  },
  {
   "cell_type": "markdown",
   "metadata": {},
   "source": [
    "# 2. WAP to generate 4 random numbers in the range 0-26 and print their average"
   ]
  },
  {
   "cell_type": "code",
   "execution_count": 19,
   "metadata": {},
   "outputs": [
    {
     "name": "stdout",
     "output_type": "stream",
     "text": [
      "[24, 8, 1, 4]\n",
      "9.25\n"
     ]
    }
   ],
   "source": [
    "import random\n",
    "samp = random.sample(range(0,26),4)\n",
    "print(samp)\n",
    "print(sum(samp)/len(samp))"
   ]
  },
  {
   "cell_type": "markdown",
   "metadata": {},
   "source": [
    "# 3 .WAP to generate and print a random uppercase or lowercase alphabet. Try these:\n",
    "• Create a string containing all alphabets and then select a random alphabet.\n",
    "• Check the module string"
   ]
  },
  {
   "cell_type": "code",
   "execution_count": 28,
   "metadata": {},
   "outputs": [
    {
     "name": "stdout",
     "output_type": "stream",
     "text": [
      " the random lower case is k and the random upper case is N\n"
     ]
    }
   ],
   "source": [
    "import string\n",
    "import random\n",
    "# print(dir(string)) ------> To check the functions under the string module\n",
    "asc_low = random.choice(string.ascii_lowercase)\n",
    "asc_upp =random.choice(string.ascii_uppercase)\n",
    "print(f\" the random lower case is {asc_low} and the random upper case is {asc_upp}\")"
   ]
  },
  {
   "cell_type": "markdown",
   "metadata": {},
   "source": [
    "# 4. WAF get_si() that takes Principle, Rate and Time as arguments and returns the Simple Interest."
   ]
  },
  {
   "cell_type": "code",
   "execution_count": 4,
   "metadata": {},
   "outputs": [
    {
     "name": "stdout",
     "output_type": "stream",
     "text": [
      "900.0\n"
     ]
    }
   ],
   "source": [
    "def get_si(p,n,r):\n",
    "    return (p*n*r)/100\n",
    "\n",
    "si = get_si(2000,5,9)\n",
    "print(si)"
   ]
  },
  {
   "cell_type": "markdown",
   "metadata": {},
   "source": [
    "# 5. WAF get_amount() that takes Principle, Rate and Time as arguments and returns the\n",
    "Total amount using the get_si() function from above to calculate the SI. Also provide\n",
    "Rate = 10 and Time = 1 as default arguments.\n"
   ]
  },
  {
   "cell_type": "code",
   "execution_count": 6,
   "metadata": {},
   "outputs": [
    {
     "name": "stdout",
     "output_type": "stream",
     "text": [
      "33000.0\n"
     ]
    }
   ],
   "source": [
    "def get_amount(p,n=1,r=10):\n",
    "    return (get_si(p,n,r)+p)\n",
    "amt  = get_amount(30000)\n",
    "print(amt)"
   ]
  },
  {
   "cell_type": "markdown",
   "metadata": {},
   "source": [
    "# 6. WAP get_ci() that takes Principle, Rate and Time as arguments and returns the\n",
    "Compound Interest."
   ]
  },
  {
   "cell_type": "code",
   "execution_count": 7,
   "metadata": {},
   "outputs": [
    {
     "name": "stdout",
     "output_type": "stream",
     "text": [
      "17751.032126976774\n"
     ]
    }
   ],
   "source": [
    "def get_ci(p,n,r):\n",
    "    Amount = p * (pow((1 + r/ 100), n)) \n",
    "    ci = Amount-p \n",
    "    return ci\n",
    "\n",
    "print(get_ci(20000,7,9.5))"
   ]
  },
  {
   "cell_type": "markdown",
   "metadata": {},
   "source": [
    "# 7. WAP get_q_r() taking 2 numbers as parameters and returns the quotient and remainder in the form of a tuple."
   ]
  },
  {
   "cell_type": "code",
   "execution_count": 2,
   "metadata": {},
   "outputs": [
    {
     "name": "stdout",
     "output_type": "stream",
     "text": [
      "(5, 1)\n"
     ]
    }
   ],
   "source": [
    "def get_q_r(a,b):\n",
    "    return a//b , a%b   \n",
    "print(get_q_r(16,3))\n"
   ]
  },
  {
   "cell_type": "markdown",
   "metadata": {},
   "source": [
    "# 8. WAP to find the length of hypotenuse of a right angled triangle, input the height and base from user."
   ]
  },
  {
   "cell_type": "code",
   "execution_count": 13,
   "metadata": {},
   "outputs": [
    {
     "name": "stdout",
     "output_type": "stream",
     "text": [
      "5.830951894845301\n"
     ]
    }
   ],
   "source": [
    "import math\n",
    "\n",
    "def hyp(base,height):\n",
    "    return math.sqrt(base**2+height**2)\n",
    "\n",
    "print(hyp(3,5))"
   ]
  },
  {
   "cell_type": "markdown",
   "metadata": {},
   "source": [
    "# 9. WAP to input number of seconds and print in days, hours, minutes and seconds   ex: input = 10000 Output = 0 day 2 hour 46 minute 40 second"
   ]
  },
  {
   "cell_type": "code",
   "execution_count": 2,
   "metadata": {},
   "outputs": [
    {
     "name": "stdout",
     "output_type": "stream",
     "text": [
      "Enter the total seconds10000\n",
      " 0 days , 2 hours , 46 minutes and 40 seconds\n"
     ]
    }
   ],
   "source": [
    "\n",
    "seconds = int(input(\"Enter the total seconds\"))\n",
    "\n",
    "# a day in seconds = 86400\n",
    "# an hour in seconds = 3600\n",
    "# a minute in seconds = 60\n",
    "\n",
    "day = seconds//86400\n",
    "remain_secs_from_day = seconds%86400\n",
    "hour = remain_secs_from_day//3600\n",
    "remain_secs_from_hour =remain_secs_from_day%3600\n",
    "minute = remain_secs_from_hour//60\n",
    "remain_secs_from_minute =remain_secs_from_hour%60\n",
    "print(f\" {day} days , {hour} hours , {minute} minutes and {remain_secs_from_minute} seconds\")                       \n"
   ]
  },
  {
   "cell_type": "code",
   "execution_count": 3,
   "metadata": {},
   "outputs": [
    {
     "name": "stdout",
     "output_type": "stream",
     "text": [
      "Enter the total seconds10000\n",
      "0 days , 2 hours , 46 minutes and 40 seconds\n"
     ]
    }
   ],
   "source": [
    "seconds = int(input(\"Enter the total seconds\"))\n",
    "\n",
    "# a day in seconds = 86400\n",
    "# an hour in seconds = 3600\n",
    "# a minute in seconds = 60\n",
    "\n",
    "\n",
    "day,rem_day = get_q_r(seconds,86400)\n",
    "hour,rem_hour = get_q_r(rem_day,3600)\n",
    "mint,rem_mint = get_q_r(rem_hour,60)\n",
    "print(f\"{day} days , {hour} hours , {mint} minutes and {rem_mint} seconds\")\n"
   ]
  },
  {
   "cell_type": "markdown",
   "metadata": {},
   "source": [
    "# 10. Check your version of python interpreter without opening the interpreter (Whichcommand needs to be used on the command line)."
   ]
  },
  {
   "cell_type": "code",
   "execution_count": 45,
   "metadata": {},
   "outputs": [
    {
     "data": {
      "text/plain": [
       "'3.7.6 (default, Jan  8 2020, 20:23:39) [MSC v.1916 64 bit (AMD64)]'"
      ]
     },
     "execution_count": 45,
     "metadata": {},
     "output_type": "execute_result"
    }
   ],
   "source": [
    "sys.version"
   ]
  },
  {
   "cell_type": "markdown",
   "metadata": {},
   "source": [
    "# 11. Find output:"
   ]
  },
  {
   "cell_type": "code",
   "execution_count": 46,
   "metadata": {},
   "outputs": [
    {
     "name": "stdout",
     "output_type": "stream",
     "text": [
      "2 -2\n"
     ]
    }
   ],
   "source": [
    "X= 2 \n",
    "X*=3   #--------> 6\n",
    "X =X%4 # --------> 2\n",
    "Y =-X # ----------->-2\n",
    "print(X,Y)"
   ]
  },
  {
   "cell_type": "markdown",
   "metadata": {},
   "source": [
    "# 12. Find output:"
   ]
  },
  {
   "cell_type": "code",
   "execution_count": 47,
   "metadata": {},
   "outputs": [
    {
     "name": "stdout",
     "output_type": "stream",
     "text": [
      "None\n"
     ]
    }
   ],
   "source": [
    "def funct():\n",
    "    pass\n",
    "print(funct())\n",
    "\n",
    "# Pass command is used to maintain & fulfill the syntactical rule  of a fn without doing any operations "
   ]
  },
  {
   "cell_type": "code",
   "execution_count": null,
   "metadata": {},
   "outputs": [],
   "source": []
  }
 ],
 "metadata": {
  "kernelspec": {
   "display_name": "Python 3",
   "language": "python",
   "name": "python3"
  },
  "language_info": {
   "codemirror_mode": {
    "name": "ipython",
    "version": 3
   },
   "file_extension": ".py",
   "mimetype": "text/x-python",
   "name": "python",
   "nbconvert_exporter": "python",
   "pygments_lexer": "ipython3",
   "version": "3.7.6"
  }
 },
 "nbformat": 4,
 "nbformat_minor": 4
}
