{
 "cells": [
  {
   "cell_type": "markdown",
   "metadata": {},
   "source": [
    "# 1. WAP to input 2 numbers and check whether the first is divisible by the second and print true orfalse depending on the divisibility."
   ]
  },
  {
   "cell_type": "code",
   "execution_count": 17,
   "metadata": {},
   "outputs": [
    {
     "name": "stdout",
     "output_type": "stream",
     "text": [
      "Enter the numbers : 8 3\n",
      "False\n"
     ]
    }
   ],
   "source": [
    "x,y = (input(\"Enter the numbers : \")).split()\n",
    "a = int(x)\n",
    "b =int(y)\n",
    "def div(a,b):     \n",
    "    if int(a)%int(b)==0:\n",
    "        return True\n",
    "    else:\n",
    "        return False\n",
    "print(div(a,b))"
   ]
  },
  {
   "cell_type": "markdown",
   "metadata": {},
   "source": [
    "# 2. In the palindrome example, make the code case insensitive.\n",
    "# i.e. Naman should also be treated as a palindrome (HINT: first convert to either upper or lower case)."
   ]
  },
  {
   "cell_type": "code",
   "execution_count": 7,
   "metadata": {},
   "outputs": [
    {
     "name": "stdout",
     "output_type": "stream",
     "text": [
      "Enter the string :Naman\n",
      "Its a palindrome\n"
     ]
    }
   ],
   "source": [
    "\n",
    "\n",
    "x = input(\"Enter the string :\")\n",
    "if x.istitle() ==True:     \n",
    "    y =x.lower()\n",
    "else:\n",
    "    y=x    \n",
    "if y[::-1]==y:\n",
    "    print(\"Its a palindrome\")\n",
    "\n",
    "else:   \n",
    "    print(\"Not a palindrome\")\n",
    "\n"
   ]
  },
  {
   "cell_type": "markdown",
   "metadata": {},
   "source": [
    "# 3. WAP to input the sides of a triangle and print whether equilateral(all sides equal), isosceles (2 sides equal), or scalene (no sides equal)."
   ]
  },
  {
   "cell_type": "code",
   "execution_count": 16,
   "metadata": {},
   "outputs": [
    {
     "name": "stdout",
     "output_type": "stream",
     "text": [
      "Enter the sides of the triangle5 6 5\n",
      "Isoceles Δ\n"
     ]
    }
   ],
   "source": [
    "x,y,z = input(\"Enter the sides of the triangle\").split()\n",
    "a,b,c=int(x),int(y),int(z)\n",
    "\n",
    "if a==b==c:\n",
    "    print(\"Equilateral Δ\")\n",
    "elif a==b or b==c or c==a:\n",
    "    print(\"Isoceles Δ\")\n",
    "else :\n",
    "    print(\"Scalene Δ\")"
   ]
  },
  {
   "cell_type": "markdown",
   "metadata": {},
   "source": [
    "# 4. WAP to input a number and print if it is even or odd."
   ]
  },
  {
   "cell_type": "code",
   "execution_count": 18,
   "metadata": {},
   "outputs": [
    {
     "name": "stdout",
     "output_type": "stream",
     "text": [
      "Enter a number5\n",
      "The number is odd\n"
     ]
    }
   ],
   "source": [
    "if (int(input(\"Enter a number\")))%2:\n",
    "    print(\"The number is odd\")\n",
    "else :\n",
    "    print(\"The number is even\")"
   ]
  },
  {
   "cell_type": "markdown",
   "metadata": {},
   "source": [
    "# 5. WAP to input age and print the respective text depending on the age ranges as present in the table.\n",
    "\n",
    "# Age             Text to be displayed\n",
    "# 0-12             Child\n",
    "# 13-17           Teen\n",
    "# 18-50            Adult\n",
    "# 51-100          Senior Citizen\n",
    "# age > 100     Contratulations "
   ]
  },
  {
   "cell_type": "code",
   "execution_count": 8,
   "metadata": {},
   "outputs": [
    {
     "name": "stdout",
     "output_type": "stream",
     "text": [
      "Enter the age102\n",
      "Contratulations\n"
     ]
    }
   ],
   "source": [
    "age = int(input(\"Enter the age\"))\n",
    "\n",
    "if 0<age<12:\n",
    "    print(\"Child\")\n",
    "elif 13<age<17:\n",
    "    print('Teen')\n",
    "elif 18<age<50:\n",
    "    print(\"Adult\")\n",
    "elif 51<age<100:\n",
    "    print(\"Senior citizen\")\n",
    "else :\n",
    "    print(\"Contratulations\")"
   ]
  },
  {
   "cell_type": "markdown",
   "metadata": {},
   "source": [
    "# 6. WAP to input year (check if user enters valid year. Should be 4-digit number and should not be\n",
    "# negative) and print whether leap year or not. (If really interested in why you also have to check\n",
    "# the divisibility by 400 just google the exact time it takes for the earth to revolve around the sub)"
   ]
  },
  {
   "cell_type": "code",
   "execution_count": 14,
   "metadata": {},
   "outputs": [
    {
     "name": "stdout",
     "output_type": "stream",
     "text": [
      "Enter the year :1997\n",
      "Non-Leap Year\n"
     ]
    }
   ],
   "source": [
    "year = int(input(\"Enter the year :\"))\n",
    "\n",
    "if year>0 and len(str(year))==4:\n",
    "    if (year % 4) == 0:\n",
    "        if (year % 100) == 0:\n",
    "            if (year % 400) == 0:\n",
    "                print(\"Leap Year\")\n",
    "            else:             \n",
    "                print(\"Non-Leap year\")\n",
    "        else:\n",
    "            print(\"Leap Year\")           \n",
    "    else:\n",
    "         print(\"Non-Leap Year\")       \n",
    "else :\n",
    "    print(\"Enter a valid year\")"
   ]
  },
  {
   "cell_type": "markdown",
   "metadata": {},
   "source": [
    "# 7. WAP to input a string and convert it to Upper Case if number of characters is odd and convert to lower case otherwise."
   ]
  },
  {
   "cell_type": "code",
   "execution_count": 8,
   "metadata": {},
   "outputs": [
    {
     "name": "stdout",
     "output_type": "stream",
     "text": [
      "Enter the stringnot\n",
      "NOT\n"
     ]
    }
   ],
   "source": [
    "x = input(\"Enter the string\")\n",
    "\n",
    "if len(x)%2:\n",
    "    y =x.upper()\n",
    "else :\n",
    "    y =x.lower()\n",
    "print(y)    "
   ]
  },
  {
   "cell_type": "markdown",
   "metadata": {},
   "source": [
    "# 8. WAP to input a string and print Veg if the string doesn’t contain the word egg. Otherwise print Non-Veg. As usual eggs can be both big and small."
   ]
  },
  {
   "cell_type": "code",
   "execution_count": 38,
   "metadata": {},
   "outputs": [
    {
     "name": "stdout",
     "output_type": "stream",
     "text": [
      "Choose from the Menu :Egg Pasta\n",
      "Non-Veg\n"
     ]
    }
   ],
   "source": [
    "x = input(\"Choose from the Menu :\")\n",
    "\n",
    "if x.split()[0] == \"EGG\" or x.split()[0] == \"egg\" or x.split()[0] == \"Egg\":\n",
    "    print(\"Non-Veg\")   \n",
    "else:\n",
    "    print(\"Veg\")\n",
    "    "
   ]
  },
  {
   "cell_type": "markdown",
   "metadata": {},
   "source": [
    "# 9. Give output of:"
   ]
  },
  {
   "cell_type": "code",
   "execution_count": 39,
   "metadata": {},
   "outputs": [
    {
     "name": "stdout",
     "output_type": "stream",
     "text": [
      "True\n"
     ]
    }
   ],
   "source": [
    "if not 1:\n",
    "    print(\"False\")\n",
    "else :\n",
    "    print(\"True\")\n",
    "# If statement return 0 which is false so it goes in to else statemnt and prints True"
   ]
  },
  {
   "cell_type": "code",
   "execution_count": 40,
   "metadata": {},
   "outputs": [
    {
     "name": "stdout",
     "output_type": "stream",
     "text": [
      "True\n"
     ]
    }
   ],
   "source": [
    "if 1:\n",
    "    print(\"True\")\n",
    "else :\n",
    "    print(\"False\")\n",
    " # If statement return 1 which is True so it executes the body inside the if statement  "
   ]
  },
  {
   "cell_type": "code",
   "execution_count": 42,
   "metadata": {},
   "outputs": [
    {
     "name": "stdout",
     "output_type": "stream",
     "text": [
      "Weird\n"
     ]
    }
   ],
   "source": [
    "if 'a'>'A':\n",
    "    print(\"Weird\")\n",
    "else :\n",
    "    print('Makes sense')\n",
    "    \n",
    "    \n",
    "# Compares based on ascii value ..returns weird since ascii value of a is > A"
   ]
  },
  {
   "cell_type": "code",
   "execution_count": 45,
   "metadata": {},
   "outputs": [
    {
     "name": "stdout",
     "output_type": "stream",
     "text": [
      "[4, 3, 2, 1]\n"
     ]
    }
   ],
   "source": [
    "a =[1,2,3,4]\n",
    "if 1>1:\n",
    "    a = a[::-1]\n",
    "else :\n",
    "    a = a[-1::-1]\n",
    "print(a)\n",
    "\n",
    "\n",
    "# If statement is returning False so it goes in to else ..listed in reverse manner"
   ]
  },
  {
   "cell_type": "markdown",
   "metadata": {},
   "source": [
    "# 10. WAP to input marks in 5 subjects and print the grade as per following logic:\n",
    "# % between 90-100 Grade-A\n",
    "# % between 80 - 89 Grade-B\n",
    "# % between 60 - 79 Grade-C\n",
    "# % < 60 Grade-F"
   ]
  },
  {
   "cell_type": "code",
   "execution_count": 56,
   "metadata": {},
   "outputs": [
    {
     "name": "stdout",
     "output_type": "stream",
     "text": [
      "Enter the Science , Soccial , EVS ,Language & Math Marks 86 56 97 64 78\n",
      "Grade-C\n"
     ]
    }
   ],
   "source": [
    "total = input(\"Enter the Science , Soccial , EVS ,Language & Math Marks \").split()\n",
    "\n",
    "total = [int(i) for i in total]\n",
    "\n",
    "if  90<(sum(total)/5)<100:\n",
    "    print(\"Grade-A\")\n",
    "elif 80<(sum(total)/5)<89:\n",
    "    print(\"Grade-B\")\n",
    "elif 60<(sum(total)/5)<79:\n",
    "    print(\"Grade-C\")\n",
    "else :\n",
    "    print(\"Grade-F\")\n",
    "    "
   ]
  },
  {
   "cell_type": "markdown",
   "metadata": {},
   "source": [
    "# 11 . WAP to input age and salary and calculate Tax as per tax rates if following table:"
   ]
  },
  {
   "cell_type": "code",
   "execution_count": 24,
   "metadata": {},
   "outputs": [
    {
     "name": "stdout",
     "output_type": "stream",
     "text": [
      "Enter the salary and Age :900000 48\n",
      "10 %\n",
      "Taxable Amount is  90000.0\n"
     ]
    }
   ],
   "source": [
    "sal,age = input(\"Enter the salary and Age :\").split()\n",
    "if 0<int(sal)<=250000:\n",
    "    print(\" 0 %\")\n",
    "elif 250001<int(sal)<+500000:\n",
    "    if int(age)<60:\n",
    "        print('5 %')\n",
    "        print('Taxable Amount is ' ,int(sal)*0.05)\n",
    "    else :\n",
    "        print('3 %')\n",
    "        print('Taxable Amount is ' ,int(sal)*0.03)\n",
    "elif 500001<int(sal)<+1000000:\n",
    "    if int(age)<60:\n",
    "        print('10 %')\n",
    "        print('Taxable Amount is ' ,int(sal)*0.1)\n",
    "    else :\n",
    "        print('8 %')\n",
    "        print('Taxable Amount is ' ,int(sal)*0.08)\n",
    "else :\n",
    "    if int(age)<60:\n",
    "        print('15 %')\n",
    "        print('Taxable Amount is ' ,int(sal)*0.15)\n",
    "    else :\n",
    "        print('12 %')\n",
    "        print('Taxable Amount is ' ,int(sal)*0.12)\n",
    "    \n"
   ]
  },
  {
   "cell_type": "markdown",
   "metadata": {},
   "source": [
    "# 12. Try each of the below statements separately (remember difference between statement and expression) on the python interpreter and guess the output before trying:"
   ]
  },
  {
   "cell_type": "code",
   "execution_count": 14,
   "metadata": {},
   "outputs": [
    {
     "name": "stdout",
     "output_type": "stream",
     "text": [
      "10\n",
      "10\n",
      "10\n",
      "OMG\n"
     ]
    }
   ],
   "source": [
    "print(20 if not 1==1 else 10) \n",
    "print(30 if not 1==1 else 20 if 'a'<'A' else 10 )\n",
    "print(40 if not 1==1 else 30 if 'a'<'A' else 20 if '' else 10 )\n",
    "print('No' if not 1==1 else ('No' if 'a'<'A' else ('OMG' if 'oh!!' else 'No')))\n",
    "\n",
    "\n",
    "#   Each statement is returning false so directly goes to else statement .\n",
    "# In the fourth statement , it executes the if statement from the else block"
   ]
  },
  {
   "cell_type": "markdown",
   "metadata": {},
   "source": [
    "# 13. WAF: bmi() that takes the weight in kg and height in cm of a person, calculates and returns the\n",
    "# BMI.\n",
    "# Write code that calls this function after taking height and weight as inputs and then prints\n",
    "# underweight, normal, overweight or obese depending on the value of BMI.\n",
    "# Refer this link for the ranges:\n",
    "# https://en.wikipedia.org/wiki/Body_mass_index"
   ]
  },
  {
   "cell_type": "code",
   "execution_count": 18,
   "metadata": {},
   "outputs": [
    {
     "name": "stdout",
     "output_type": "stream",
     "text": [
      "Enter weight in kg: 78\n",
      "Enter height in cm: 150\n",
      "34.0\n",
      "Obese\n"
     ]
    }
   ],
   "source": [
    "# The BMI is a convenient rule of thumb used to broadly categorize a person as underweight, normal weight, overweight, or\n",
    "# obese based on tissue mass\n",
    "# (muscle, fat, and bone) and height. Commonly accepted BMI ranges are underweight (under 18.5 kg/m2), \n",
    "# normal weight (18.5 to 25), overweight (25 to 30), and obese (over 30)\n",
    "\n",
    "def bmi(wt, ht):\n",
    "    return wt // ((ht/100) ** 2)\n",
    "    \n",
    "wt = float(input(\"Enter weight in kg: \"))\n",
    "ht = float(input(\"Enter height in cm: \"))\n",
    "bmi_value = bmi(wt, ht)\n",
    "print('{}'.format(bmi_value))\n",
    "if 0 < bmi_value < 18.5:\n",
    "    print(\"Underweight\")\n",
    "elif 18.5 <= bmi_value < 25:\n",
    "    print(\"Normal\")\n",
    "elif 25 <= bmi_value < 30:\n",
    "    print(\"Overweight\")\n",
    "elif bmi_value >= 30:\n",
    "    print(\"Obese\")"
   ]
  },
  {
   "cell_type": "markdown",
   "metadata": {},
   "source": [
    "# 14. Take input of age of 3 people by user and determine oldest and youngest among them."
   ]
  },
  {
   "cell_type": "code",
   "execution_count": 32,
   "metadata": {},
   "outputs": [
    {
     "name": "stdout",
     "output_type": "stream",
     "text": [
      "Enter the person 1 Age :58 \n",
      "Enter the person 2 Age :87 \n",
      "Enter the person 3 Age :41\n",
      "The youngest is  41\n",
      "The youngest is  87\n"
     ]
    }
   ],
   "source": [
    "ram = int(input(\"Enter the person 1 Age :\"))\n",
    "john = int(input(\"Enter the person 2 Age :\"))             \n",
    "viki = int(input(\"Enter the person 3 Age :\"))\n",
    "             \n",
    "                 \n",
    "print(\"The youngest is \" ,min(ram,john,viki))\n",
    "print(\"The youngest is \" ,max(ram,john,viki))\n"
   ]
  },
  {
   "cell_type": "markdown",
   "metadata": {},
   "source": [
    "# 15. WAP to input a number and check if number is divisible by both 5 and 7."
   ]
  },
  {
   "cell_type": "code",
   "execution_count": 35,
   "metadata": {},
   "outputs": [
    {
     "name": "stdout",
     "output_type": "stream",
     "text": [
      "Enter the number 35\n",
      "Number is both 5 and 7 divisible\n"
     ]
    }
   ],
   "source": [
    "x = int(input(\"Enter the number \"))\n",
    "if x%5==0 and x%7==0:\n",
    "    print(\"Number is both 5 and 7 divisible\")\n",
    "else :\n",
    "    print(\"Number is not divisible both by 5 & 7\")"
   ]
  }
 ],
 "metadata": {
  "kernelspec": {
   "display_name": "Python 3",
   "language": "python",
   "name": "python3"
  },
  "language_info": {
   "codemirror_mode": {
    "name": "ipython",
    "version": 3
   },
   "file_extension": ".py",
   "mimetype": "text/x-python",
   "name": "python",
   "nbconvert_exporter": "python",
   "pygments_lexer": "ipython3",
   "version": "3.7.6"
  }
 },
 "nbformat": 4,
 "nbformat_minor": 4
}
