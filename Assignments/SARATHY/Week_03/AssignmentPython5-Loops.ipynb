{
 "cells": [
  {
   "cell_type": "markdown",
   "metadata": {},
   "source": [
    "# 1. WAP to print first n natural numbers (input n from user)."
   ]
  },
  {
   "cell_type": "code",
   "execution_count": 6,
   "metadata": {},
   "outputs": [
    {
     "name": "stdout",
     "output_type": "stream",
     "text": [
      "Enter the number12\n",
      "[1, 2, 3, 4, 5, 6, 7, 8, 9, 10, 11, 12]\n"
     ]
    }
   ],
   "source": [
    "x = list()\n",
    "\n",
    "for i in range(1,int(input(\"Enter the number\"))+1):\n",
    "    x.append(i)\n",
    "print(x)"
   ]
  },
  {
   "cell_type": "markdown",
   "metadata": {},
   "source": [
    "# 2. WAP to find sum of first n natural numbers"
   ]
  },
  {
   "cell_type": "code",
   "execution_count": 7,
   "metadata": {},
   "outputs": [
    {
     "name": "stdout",
     "output_type": "stream",
     "text": [
      "Enter the number12\n",
      "78\n"
     ]
    }
   ],
   "source": [
    "sum =0\n",
    "for i in range(1,int(input(\"Enter the number\"))+1):\n",
    "    sum+=i\n",
    "print(sum)\n",
    "    "
   ]
  },
  {
   "cell_type": "markdown",
   "metadata": {},
   "source": [
    "# 3. WAP to print first n natural numbers in reverse order."
   ]
  },
  {
   "cell_type": "code",
   "execution_count": 19,
   "metadata": {},
   "outputs": [
    {
     "name": "stdout",
     "output_type": "stream",
     "text": [
      "Enter the number15\n",
      "[15, 14, 13, 12, 11, 10, 9, 8, 7, 6, 5, 4, 3, 2, 1]\n"
     ]
    }
   ],
   "source": [
    "x = list()\n",
    "for i in range(int(input(\"Enter the number\")),0,-1):\n",
    "    x.append(i)\n",
    "print(x)"
   ]
  },
  {
   "cell_type": "markdown",
   "metadata": {},
   "source": [
    "# 4. WAP to input a number and print its factorial."
   ]
  },
  {
   "cell_type": "code",
   "execution_count": 28,
   "metadata": {},
   "outputs": [],
   "source": [
    "\n",
    "def fact(num):\n",
    "    f =1\n",
    "    for i in range(1,num+1):\n",
    "        f = f*i\n",
    "    return f"
   ]
  },
  {
   "cell_type": "code",
   "execution_count": 29,
   "metadata": {},
   "outputs": [
    {
     "name": "stdout",
     "output_type": "stream",
     "text": [
      "Enter the number for factorial :5\n",
      "120\n"
     ]
    }
   ],
   "source": [
    "\n",
    "n = int(input(\"Enter the number for factorial :\"))\n",
    "print(fact(n))"
   ]
  },
  {
   "cell_type": "markdown",
   "metadata": {},
   "source": [
    "# 5. WAP to print Fibonacci sequence till n."
   ]
  },
  {
   "cell_type": "code",
   "execution_count": 6,
   "metadata": {},
   "outputs": [
    {
     "name": "stdout",
     "output_type": "stream",
     "text": [
      "Enter the n10\n",
      "0\n",
      "1\n",
      "1\n",
      "2\n",
      "3\n",
      "5\n",
      "8\n",
      "13\n",
      "21\n",
      "34\n"
     ]
    }
   ],
   "source": [
    "\n",
    "# # # CODE SNIPPET FOR N instances of fibonacci\n",
    "\n",
    "x = int(input(\"Enter the n :\"))\n",
    "a=0;b=1;i=0\n",
    "while i<x:\n",
    "    print(a)\n",
    "    a,b=b,a+b\n",
    "    i+=1\n",
    "\n",
    "    "
   ]
  },
  {
   "cell_type": "code",
   "execution_count": 7,
   "metadata": {},
   "outputs": [
    {
     "name": "stdout",
     "output_type": "stream",
     "text": [
      "Enter the n10\n",
      "0\n",
      "1\n",
      "1\n",
      "2\n",
      "3\n",
      "5\n",
      "8\n"
     ]
    }
   ],
   "source": [
    "x = int(input(\"Enter the n :\"))\n",
    "a=0;b=1;i=0\n",
    "while a<x:\n",
    "    print(a)\n",
    "    a,b=b,a+b"
   ]
  },
  {
   "cell_type": "markdown",
   "metadata": {},
   "source": [
    "# 6. WAP to print all digits of a number input from user."
   ]
  },
  {
   "cell_type": "code",
   "execution_count": 20,
   "metadata": {},
   "outputs": [
    {
     "name": "stdout",
     "output_type": "stream",
     "text": [
      "Enter the number1447443\n",
      "1\n",
      "4\n",
      "4\n",
      "7\n",
      "4\n",
      "4\n",
      "3\n"
     ]
    }
   ],
   "source": [
    "x = input(\"Enter the number\")\n",
    "\n",
    "for i in x:\n",
    "    if i.isdigit():\n",
    "        print(int(i))"
   ]
  },
  {
   "cell_type": "markdown",
   "metadata": {},
   "source": [
    "# 7. WAP to find sum of all digits of a number"
   ]
  },
  {
   "cell_type": "code",
   "execution_count": 23,
   "metadata": {},
   "outputs": [
    {
     "name": "stdout",
     "output_type": "stream",
     "text": [
      "Enter the number :8536958\n",
      "44\n"
     ]
    }
   ],
   "source": [
    "x = input(\"Enter the number :\")\n",
    "sum =0\n",
    "for i in x:\n",
    "    if i.isdigit():\n",
    "        sum+=int(i)\n",
    "print(sum)\n",
    "        "
   ]
  },
  {
   "cell_type": "markdown",
   "metadata": {},
   "source": [
    "# 8. WAP to find sum of following series given n as input from user : 1 + 2! + 3! + 4! + 5! + ….n!"
   ]
  },
  {
   "cell_type": "code",
   "execution_count": 34,
   "metadata": {},
   "outputs": [
    {
     "name": "stdout",
     "output_type": "stream",
     "text": [
      "Enter the number :5\n",
      "153\n"
     ]
    }
   ],
   "source": [
    "x = int(input(\"Enter the number :\"))\n",
    "sum_fact =0\n",
    "for i in range(1,x+1):\n",
    "    sum_fact+=fact(i)\n",
    "print(sum_fact)\n"
   ]
  },
  {
   "cell_type": "markdown",
   "metadata": {},
   "source": [
    "# 9. WAP to input base and exponent and print result without using inbuilt function pow(use for or while loop)."
   ]
  },
  {
   "cell_type": "code",
   "execution_count": 41,
   "metadata": {},
   "outputs": [
    {
     "name": "stdout",
     "output_type": "stream",
     "text": [
      "Enter the base :2\n",
      "Enter the exponent :6\n",
      "64\n"
     ]
    }
   ],
   "source": [
    "base = int(input(\"Enter the base :\"))\n",
    "prod =1\n",
    "exp = int(input(\"Enter the exponent :\"))           \n",
    "for i in range(1,exp+1):\n",
    "    prod*=base\n",
    "print(prod)           "
   ]
  },
  {
   "cell_type": "markdown",
   "metadata": {},
   "source": [
    "# 10. Print following patterns:"
   ]
  },
  {
   "cell_type": "code",
   "execution_count": 9,
   "metadata": {},
   "outputs": [
    {
     "name": "stdout",
     "output_type": "stream",
     "text": [
      "* \n",
      "* * \n",
      "* * * \n",
      "* * * * \n",
      "* * * * * \n"
     ]
    }
   ],
   "source": [
    "i =1\n",
    "while i<=5:\n",
    "    j=1\n",
    "    while j<=i:\n",
    "        print('*',end=' ')\n",
    "        j+=1\n",
    "    print()\n",
    "    i+=1  "
   ]
  },
  {
   "cell_type": "code",
   "execution_count": 4,
   "metadata": {},
   "outputs": [
    {
     "name": "stdout",
     "output_type": "stream",
     "text": [
      "* * * * * \n",
      "* * * * \n",
      "* * * \n",
      "* * \n",
      "* \n"
     ]
    }
   ],
   "source": [
    "i =1\n",
    "while i<=5:\n",
    "    j=5\n",
    "    while j>=i:\n",
    "        print('*',end=' ')\n",
    "        j-=1\n",
    "    print()\n",
    "    i+=1"
   ]
  },
  {
   "cell_type": "code",
   "execution_count": 25,
   "metadata": {},
   "outputs": [
    {
     "name": "stdout",
     "output_type": "stream",
     "text": [
      "        * \n",
      "      * * \n",
      "    * * * \n",
      "  * * * * \n",
      "* * * * * \n"
     ]
    }
   ],
   "source": [
    "\n",
    "n=6;u=1\n",
    "for i in range(1,6):\n",
    "    for j in range(1,n-1):\n",
    "        print(\" \",end =' ')\n",
    "    for k in range(1,u+1):\n",
    "        print('*',end =' ')\n",
    "    u+=1\n",
    "    n-=1\n",
    "    print()"
   ]
  },
  {
   "cell_type": "code",
   "execution_count": 4,
   "metadata": {},
   "outputs": [
    {
     "name": "stdout",
     "output_type": "stream",
     "text": [
      "    * \n",
      "   * * \n",
      "  * * * \n",
      " * * * * \n"
     ]
    }
   ],
   "source": [
    "for i in range(4):\n",
    "    for j in range(4-i):\n",
    "        print(' ',end='')\n",
    "    for j in range(i+1):\n",
    "        print('*',end=' ')\n",
    "    print()"
   ]
  },
  {
   "cell_type": "markdown",
   "metadata": {},
   "source": [
    "# 11. Print following number patterns:"
   ]
  },
  {
   "cell_type": "code",
   "execution_count": 4,
   "metadata": {},
   "outputs": [
    {
     "name": "stdout",
     "output_type": "stream",
     "text": [
      "1\n",
      "22\n",
      "333\n",
      "4444\n",
      "55555\n"
     ]
    }
   ],
   "source": [
    "n=2;u=1\n",
    "for i in range(5):    \n",
    "    for j in range(1,n):\n",
    "        print(u,end='')\n",
    "    n+=1\n",
    "    u+=1\n",
    "    print()       "
   ]
  },
  {
   "cell_type": "code",
   "execution_count": 6,
   "metadata": {},
   "outputs": [
    {
     "name": "stdout",
     "output_type": "stream",
     "text": [
      "1\n",
      "12\n",
      "123\n",
      "1234\n",
      "12345\n"
     ]
    }
   ],
   "source": [
    "n =2\n",
    "\n",
    "for i in range(5):\n",
    "    for j in range(1,n):\n",
    "        print(j,end='')\n",
    "    n+=1\n",
    "    print()"
   ]
  },
  {
   "cell_type": "code",
   "execution_count": 8,
   "metadata": {},
   "outputs": [
    {
     "name": "stdout",
     "output_type": "stream",
     "text": [
      "5\n",
      "44\n",
      "333\n",
      "2222\n",
      "11111\n"
     ]
    }
   ],
   "source": [
    "u=5;n=2\n",
    "\n",
    "for i in range(5):\n",
    "    for j in range(1,n):\n",
    "        print(u,end='')\n",
    "    print()\n",
    "    u-=1\n",
    "    n+=1\n",
    "    \n",
    "    "
   ]
  },
  {
   "cell_type": "code",
   "execution_count": 12,
   "metadata": {},
   "outputs": [
    {
     "name": "stdout",
     "output_type": "stream",
     "text": [
      "    1\n",
      "   22\n",
      "  333\n",
      " 4444\n",
      "55555\n"
     ]
    }
   ],
   "source": [
    "n=5;u=2;l=1\n",
    "\n",
    "\n",
    "for i in range(5):\n",
    "    for j in range(n-1):\n",
    "        print(' ',end='')\n",
    "    for k in range(1,u):\n",
    "        print(l,end='')\n",
    "    print()\n",
    "    l+=1;n-=1;u+=1\n",
    "        "
   ]
  },
  {
   "cell_type": "markdown",
   "metadata": {},
   "source": [
    "# 12. Print following character patterns:"
   ]
  },
  {
   "cell_type": "code",
   "execution_count": 20,
   "metadata": {},
   "outputs": [],
   "source": [
    "import string\n",
    "\n",
    "uc =list(string.ascii_uppercase)\n"
   ]
  },
  {
   "cell_type": "code",
   "execution_count": 26,
   "metadata": {},
   "outputs": [
    {
     "name": "stdout",
     "output_type": "stream",
     "text": [
      "A\n",
      "AB\n",
      "ABC\n",
      "ABCD\n",
      "ABCDE\n"
     ]
    }
   ],
   "source": [
    "n =2\n",
    "for i in range(5):\n",
    "    for j in range(1,n):\n",
    "        print(uc[j-1],end='')\n",
    "    n+=1\n",
    "    print()"
   ]
  },
  {
   "cell_type": "code",
   "execution_count": 37,
   "metadata": {},
   "outputs": [
    {
     "name": "stdout",
     "output_type": "stream",
     "text": [
      "A\n",
      "BC\n",
      "DEF\n",
      "GHIJ\n",
      "KLMNO\n"
     ]
    }
   ],
   "source": [
    "n =1;k=0;c=1\n",
    "for i in range(5):\n",
    "    for j in range(k,n):\n",
    "        print(uc[j],end='')\n",
    "    k=n\n",
    "    c+=1\n",
    "    n+=c\n",
    "    print()\n",
    "    "
   ]
  },
  {
   "cell_type": "code",
   "execution_count": 38,
   "metadata": {},
   "outputs": [
    {
     "name": "stdout",
     "output_type": "stream",
     "text": [
      "A\n",
      "BB\n",
      "CCC\n",
      "DDDD\n",
      "EEEEE\n"
     ]
    }
   ],
   "source": [
    "n=2;u=0\n",
    "for i in range(5):    \n",
    "    for j in range(1,n):\n",
    "        print(uc[u],end='')\n",
    "    n+=1\n",
    "    u+=1\n",
    "    print() "
   ]
  },
  {
   "cell_type": "code",
   "execution_count": 1,
   "metadata": {},
   "outputs": [
    {
     "name": "stdout",
     "output_type": "stream",
     "text": [
      "     A\n",
      "    ABA\n",
      "   ABCBA\n",
      "  ABCDCBA\n",
      " ABCDEDCBA\n"
     ]
    }
   ],
   "source": [
    "for i in range(5):\n",
    "    for j in range(5-i):\n",
    "        print(' ',end='')\n",
    "    ch=65\n",
    "    for j in range(i+1):\n",
    "        print(chr(ch),end='')\n",
    "        ch+=1\n",
    "    ch-=1\n",
    "    for j in range(i):\n",
    "        ch-=1\n",
    "        print(chr(ch),end='')\n",
    "    print()"
   ]
  }
 ],
 "metadata": {
  "kernelspec": {
   "display_name": "Python 3",
   "language": "python",
   "name": "python3"
  },
  "language_info": {
   "codemirror_mode": {
    "name": "ipython",
    "version": 3
   },
   "file_extension": ".py",
   "mimetype": "text/x-python",
   "name": "python",
   "nbconvert_exporter": "python",
   "pygments_lexer": "ipython3",
   "version": "3.7.6"
  }
 },
 "nbformat": 4,
 "nbformat_minor": 4
}
