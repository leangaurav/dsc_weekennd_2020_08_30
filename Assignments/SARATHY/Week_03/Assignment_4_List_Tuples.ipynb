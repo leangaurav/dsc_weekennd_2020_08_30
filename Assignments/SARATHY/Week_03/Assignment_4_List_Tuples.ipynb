{
 "cells": [
  {
   "cell_type": "markdown",
   "metadata": {},
   "source": [
    "# 1.Convert a Tuple t = (1,2,3,4,5) to a list "
   ]
  },
  {
   "cell_type": "code",
   "execution_count": 1,
   "metadata": {},
   "outputs": [
    {
     "name": "stdout",
     "output_type": "stream",
     "text": [
      "[1, 2, 3, 4, 5]\n"
     ]
    }
   ],
   "source": [
    "t = (1,2,3,4,5)\n",
    "\n",
    "print(list(t))"
   ]
  },
  {
   "cell_type": "markdown",
   "metadata": {},
   "source": [
    "# 2. WAP to join a list and a tuple n& Store the result in a list LS"
   ]
  },
  {
   "cell_type": "code",
   "execution_count": 19,
   "metadata": {},
   "outputs": [
    {
     "name": "stdout",
     "output_type": "stream",
     "text": [
      "[1, 3, 5, 7, 8, 6, 4, 2]\n"
     ]
    }
   ],
   "source": [
    "L = [1,3,5,7]\n",
    "T = (8,6,4,2)\n",
    "LS = L+list(T)\n",
    "print(LS)"
   ]
  },
  {
   "cell_type": "markdown",
   "metadata": {},
   "source": [
    "# 3. What is difference between list and tuple"
   ]
  },
  {
   "cell_type": "code",
   "execution_count": 4,
   "metadata": {},
   "outputs": [],
   "source": [
    "# List and tuple both comes under the category of sequential data types\n",
    "\n",
    "# List and tuple both are capable of storing the array of data  inside them in a sequential manner\n",
    "\n",
    "# Main difference between List and tuple is that Lists are mutable (i.e) They are able to adapt themselves without even changing the reference \n",
    "\n",
    "# Tuple on the other hand is immutable .It can be evident to see the modules under tuple where we cannot find the methods which would be making it mutable\n"
   ]
  },
  {
   "cell_type": "markdown",
   "metadata": {},
   "source": [
    "# 4. Print the list in reverse order"
   ]
  },
  {
   "cell_type": "code",
   "execution_count": 12,
   "metadata": {},
   "outputs": [
    {
     "name": "stdout",
     "output_type": "stream",
     "text": [
      "['C', 'A', 'c', 'd', 'a']\n"
     ]
    }
   ],
   "source": [
    "l = ['a','d','c','A','C']\n",
    "# print(dir(l))\n",
    "# help(l.reverse)\n",
    "l.reverse()\n",
    "print(l)"
   ]
  },
  {
   "cell_type": "markdown",
   "metadata": {},
   "source": [
    "# 5. Print Elements at Odd indexes from a list (Do not use loop)"
   ]
  },
  {
   "cell_type": "code",
   "execution_count": 13,
   "metadata": {},
   "outputs": [
    {
     "name": "stdout",
     "output_type": "stream",
     "text": [
      "[11, 21, 31, 41]\n"
     ]
    }
   ],
   "source": [
    "l = [10,11,20, 21,30, 31, 40, 41]\n",
    "\n",
    "print(l[1::2])"
   ]
  },
  {
   "cell_type": "markdown",
   "metadata": {},
   "source": [
    "# 6. How many ways you can copy a list."
   ]
  },
  {
   "cell_type": "code",
   "execution_count": 14,
   "metadata": {},
   "outputs": [],
   "source": [
    " #List can be copied in two ways : Shallow copy and Deep Copy \n",
    "        \n",
    " # For the cases of nested list , if we do the normal copy , copy of the nested list will still have the same reference as original\n",
    "\n",
    "#  This means that copy is shallow . It makes the mutable functions that we carry out will impact the copied ones as well \n",
    "\n",
    "# Like the global list we can also copy this nested list seperately and now nested list will have copy with new reference\n",
    "\n",
    "# But not all the time we can use this especially when list contains the list (list(list(list))) and so on..\n",
    "\n",
    "# This can be overcome by applying deepcopy\n",
    "\n",
    "# Aavailable in copy module .This creates copy of all nested list thereby creating their own references after the copy\n",
    "\n",
    "\n"
   ]
  },
  {
   "cell_type": "markdown",
   "metadata": {},
   "source": [
    "# 7. Predict output"
   ]
  },
  {
   "cell_type": "code",
   "execution_count": 16,
   "metadata": {},
   "outputs": [
    {
     "name": "stdout",
     "output_type": "stream",
     "text": [
      "a\n",
      "5\n"
     ]
    }
   ],
   "source": [
    "n_list =[\"Happy\",[2,0,1,5]]\n",
    "\n",
    "# global list contains only two indices  & each indices have thier own elements \n",
    "\n",
    "print(n_list[0][1]) # -----> first index second element (i.e) 'a' is the output\n",
    "print(n_list[1][3]) # -------> second index third element (i.e) 5 is the output\n"
   ]
  },
  {
   "cell_type": "markdown",
   "metadata": {},
   "source": [
    "# 8. Predict output"
   ]
  },
  {
   "cell_type": "code",
   "execution_count": 18,
   "metadata": {},
   "outputs": [
    {
     "name": "stdout",
     "output_type": "stream",
     "text": [
      "[1, 4, 6, 8]\n",
      "[1, 3, 5, 7]\n"
     ]
    }
   ],
   "source": [
    "odd = [2,4,6,8]\n",
    "odd[0]=1 # ----------> first index replaced by (i.e) [1,4,6,8]\n",
    "print(odd)  \n",
    "odd[1:4] =[3,5,7] # --------------> rest of the indices replaced by 3 5 7 .result is [1,3,5,7]\n",
    "print(odd)"
   ]
  },
  {
   "cell_type": "markdown",
   "metadata": {},
   "source": [
    "# 9. Predict output"
   ]
  },
  {
   "cell_type": "code",
   "execution_count": 21,
   "metadata": {},
   "outputs": [
    {
     "name": "stdout",
     "output_type": "stream",
     "text": [
      "[1, 3, 5, [7, 9]]\n",
      "[1, 3, 5, [7, 9], 11, 13]\n"
     ]
    }
   ],
   "source": [
    "odd = [1,3,5]\n",
    "odd.append([7,9]) # appending a list itself creates a nested list \n",
    "print(odd) # [1,3,5,[7,9]]\n",
    "odd.extend([11,13]) # nesting will not be done even when the list is inputted but its extended to the existing list\n",
    "# extend will give output as [1,3,5,[7,9],11,13]\n",
    "print(odd)"
   ]
  },
  {
   "cell_type": "markdown",
   "metadata": {},
   "source": [
    "# 10 .Predict output"
   ]
  },
  {
   "cell_type": "code",
   "execution_count": 1,
   "metadata": {},
   "outputs": [],
   "source": [
    "x =1,2,3   # array of values with commas defines this as a tuple so the tyoe will be class 'tuple'\n",
    "x = (1)  # class would be of type 'int' since only one value , but if the same is enclosed in [] , it would be a list type\n",
    "# the above snippet can be make it as tuple type  by rewriting as x =(1,) \n",
    "\n",
    "x =1 # it will be type 'int'\n",
    "x =1, # it will be of type 'tuple' \n",
    "\n",
    "# remember for tuple creation brackets not necesary but should not be a single value .Also the the array of data should be inside only one variable\n",
    "\n"
   ]
  },
  {
   "cell_type": "markdown",
   "metadata": {},
   "source": [
    "# 11. Try to represent a matrix with following data in python: \n",
    "\n",
    "# 1 2 3 \n",
    "# 4 5 6\n",
    "# 7 8 9\n",
    "\n"
   ]
  },
  {
   "cell_type": "code",
   "execution_count": 42,
   "metadata": {},
   "outputs": [],
   "source": [
    "M =  ([1,2,3],\n",
    "      [4,5,6],\n",
    "      [7,8,9])\n",
    "# The above one is represented as matrix with 3 rows and 3 columns \n",
    "# Example : accesing 1st row 1st column is M[0][0] and for 2nd row 1st column will be M[1][0]\n"
   ]
  },
  {
   "cell_type": "markdown",
   "metadata": {},
   "source": [
    "# 12. Predict output"
   ]
  },
  {
   "cell_type": "code",
   "execution_count": 7,
   "metadata": {},
   "outputs": [],
   "source": [
    "# t = tuple('string') # creates a tuple with array of characters (i.e)('s','t','r','i','n','g')\n",
    "# t[::-1] # prints from first to last but in a reversed fashion (i.e) ('g','n','i','r','t','s')\n",
    "# t[::2][::-2] # first slicing creates a list of alternate values (n','r','s') \n",
    "#              #.second slicing is done on the new list and creates  ('n','s')"
   ]
  },
  {
   "cell_type": "markdown",
   "metadata": {},
   "source": [
    "# 13. Predict output"
   ]
  },
  {
   "cell_type": "code",
   "execution_count": 13,
   "metadata": {},
   "outputs": [],
   "source": [
    "# t = tuple([10,20,30,40,50,60]) \n",
    "\n",
    "# 60 in t ----> Prints True \n",
    "# '60'in t---> prints False since it is not a string\n",
    "# t.count(10)-----> counts no of instances (i.e) 1\n",
    "# t.index(40)------> prints the index (i.e) 3\n"
   ]
  },
  {
   "cell_type": "markdown",
   "metadata": {},
   "source": [
    "# 14. Write a program to input a string and print if it is palindrome or not."
   ]
  },
  {
   "cell_type": "code",
   "execution_count": 6,
   "metadata": {},
   "outputs": [
    {
     "name": "stdout",
     "output_type": "stream",
     "text": [
      "Enter the string :MALAYALAM\n",
      "Its a palindrome\n",
      "Enter the string :KONKANI\n",
      "Not a palindrome\n"
     ]
    }
   ],
   "source": [
    "for i in range(2):\n",
    "\n",
    "    x = input(\"Enter the string :\")\n",
    "    if x[::-1]==x:\n",
    "        print(\"Its a palindrome\")\n",
    "\n",
    "    else :\n",
    "        print(\"Not a palindrome\")\n"
   ]
  },
  {
   "cell_type": "markdown",
   "metadata": {},
   "source": [
    "# 15. Use the range method and create a tuple containing the following values: (20, 15, 10, 5)"
   ]
  },
  {
   "cell_type": "code",
   "execution_count": 15,
   "metadata": {},
   "outputs": [
    {
     "name": "stdout",
     "output_type": "stream",
     "text": [
      "(20, 15, 10, 5)\n"
     ]
    }
   ],
   "source": [
    "print(tuple(range(20,4,-5)))\n"
   ]
  },
  {
   "cell_type": "markdown",
   "metadata": {},
   "source": [
    "# 16. WAP to convert string to list of characters."
   ]
  },
  {
   "cell_type": "code",
   "execution_count": 22,
   "metadata": {},
   "outputs": [
    {
     "name": "stdout",
     "output_type": "stream",
     "text": [
      "Enter the stringEDUCATION\n",
      "['E', 'D', 'U', 'C', 'A', 'T', 'I', 'O', 'N']\n"
     ]
    }
   ],
   "source": [
    "\n",
    "# Method 1\n",
    "x = input(\"Enter the string :\")\n",
    "print(list(x))\n",
    "\n",
    "# Method 2\n",
    "\n",
    "x = input(\"Enter the string :\")\n",
    "empty = []\n",
    "for i in x:\n",
    "    empty.append(i)\n",
    "print(empty)\n",
    "    \n"
   ]
  },
  {
   "cell_type": "markdown",
   "metadata": {},
   "source": [
    "# 17. What is the return type of:"
   ]
  },
  {
   "cell_type": "code",
   "execution_count": 37,
   "metadata": {},
   "outputs": [
    {
     "name": "stdout",
     "output_type": "stream",
     "text": [
      "<class 'bool'>\n"
     ]
    }
   ],
   "source": [
    "#type('1 2'.split()) # type is of list .default seperator is space when none is specified \n",
    "\n",
    "# type([1,3,2].sort()) ----> retunrs NoneType .since lists are mutable it sorts and adapts in place and it doesnt return a new list\n",
    "\n",
    "\n",
    "\n",
    "#type('abc'.upper()) ---------> returns type str \n",
    "# type(1 in [1,2])) ---------> returns a bool type"
   ]
  },
  {
   "cell_type": "code",
   "execution_count": null,
   "metadata": {},
   "outputs": [],
   "source": []
  }
 ],
 "metadata": {
  "kernelspec": {
   "display_name": "Python 3",
   "language": "python",
   "name": "python3"
  },
  "language_info": {
   "codemirror_mode": {
    "name": "ipython",
    "version": 3
   },
   "file_extension": ".py",
   "mimetype": "text/x-python",
   "name": "python",
   "nbconvert_exporter": "python",
   "pygments_lexer": "ipython3",
   "version": "3.7.6"
  }
 },
 "nbformat": 4,
 "nbformat_minor": 4
}
