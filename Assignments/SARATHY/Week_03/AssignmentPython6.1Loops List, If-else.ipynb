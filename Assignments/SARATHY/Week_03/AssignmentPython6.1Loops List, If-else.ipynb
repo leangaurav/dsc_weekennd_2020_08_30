{
 "cells": [
  {
   "cell_type": "markdown",
   "metadata": {},
   "source": [
    "# 1. WAP to input a string and print individual characters in the string using for loop."
   ]
  },
  {
   "cell_type": "code",
   "execution_count": 1,
   "metadata": {},
   "outputs": [
    {
     "name": "stdout",
     "output_type": "stream",
     "text": [
      "Enter the string INPUT\n",
      "I\n",
      "N\n",
      "P\n",
      "U\n",
      "T\n"
     ]
    }
   ],
   "source": [
    "for i in input(\"Enter the string \"):\n",
    "    print(i)"
   ]
  },
  {
   "cell_type": "markdown",
   "metadata": {},
   "source": [
    "# 2. WAP to input a string and print the ASCII value of each character in the string."
   ]
  },
  {
   "cell_type": "code",
   "execution_count": 2,
   "metadata": {},
   "outputs": [
    {
     "name": "stdout",
     "output_type": "stream",
     "text": [
      "Enter the stringAEIOU\n",
      "65\n",
      "69\n",
      "73\n",
      "79\n",
      "85\n"
     ]
    }
   ],
   "source": [
    "for i in input(\"Enter the string\"):\n",
    "    print(ord(i))"
   ]
  },
  {
   "cell_type": "markdown",
   "metadata": {},
   "source": [
    "# 3. Write a function that takes a list of numbers from user as argument and returns the sum of only odd numbers (Use only for loop. No need to use if statement)."
   ]
  },
  {
   "cell_type": "code",
   "execution_count": 17,
   "metadata": {},
   "outputs": [
    {
     "name": "stdout",
     "output_type": "stream",
     "text": [
      "Enter the list of numbers 1 4 8 11 61\n",
      "[1, 4, 8, 11, 61]\n",
      "73\n"
     ]
    }
   ],
   "source": [
    "x = input(\"Enter the list of numbers \").split(' ')\n",
    "x = [int(i) for i in x]\n",
    "print(x)\n",
    "odd_list =[]\n",
    "def odd_sum(ls):\n",
    "    for i in ls:\n",
    "        if i%2:\n",
    "            odd_list.append(i)           \n",
    "    return sum(odd_list)         \n",
    "    print(\"The odd list :\",odd_list)  \n",
    "print(odd_sum(x))\n"
   ]
  },
  {
   "cell_type": "markdown",
   "metadata": {},
   "source": [
    "# 4. WAP to input a list of numbers and store in a tuple. Now input another number and print the index of this number in the tuple. [Use index function]"
   ]
  },
  {
   "cell_type": "code",
   "execution_count": 22,
   "metadata": {},
   "outputs": [
    {
     "name": "stdout",
     "output_type": "stream",
     "text": [
      "Enter the list of numbers 1 6 9 8 7\n",
      "Enter a number8\n",
      "3\n"
     ]
    }
   ],
   "source": [
    "x = input(\"Enter the list of numbers \").split(' ')\n",
    "x = [int(i) for i in x]\n",
    "y=tuple(x)\n",
    "int_input = int(input(\"Enter a number\"))\n",
    "print(y.index(int_input))\n"
   ]
  },
  {
   "cell_type": "markdown",
   "metadata": {},
   "source": [
    "# 5. Create a list of 10 random numbers and then print the list, sum of all numbers and average. Use a for loop. Also print elements at only even indexes in the list."
   ]
  },
  {
   "cell_type": "code",
   "execution_count": 35,
   "metadata": {},
   "outputs": [
    {
     "name": "stdout",
     "output_type": "stream",
     "text": [
      "[5, 17, 25, 11, 25, 91, 11, 4, 70, 98]\n",
      "Sum of the List  357\n",
      "Average of the list  35.7\n",
      "[5, 25, 25, 11, 70]\n"
     ]
    }
   ],
   "source": [
    "import random\n",
    "\n",
    "ls = []\n",
    "for i in range(10):\n",
    "    ls.append(random.randrange(1,100))\n",
    "print(ls)\n",
    "print(\"Sum of the List \",sum(ls))\n",
    "print(\"Average of the list \",(sum(ls)/len(ls)))\n",
    "print(ls[::2])"
   ]
  },
  {
   "cell_type": "markdown",
   "metadata": {},
   "source": [
    "# 6. WAP to input 10 numbers repeatedly (using range based for loop) and store them in a list. Print the list and sum of numbers in the list."
   ]
  },
  {
   "cell_type": "code",
   "execution_count": 38,
   "metadata": {},
   "outputs": [
    {
     "name": "stdout",
     "output_type": "stream",
     "text": [
      "Enter the number :1\n",
      "Enter the number :2\n",
      "Enter the number :3\n",
      "Enter the number :6\n",
      "Enter the number :4\n",
      "Enter the number :5\n",
      "Enter the number :9\n",
      "Enter the number :7\n",
      "Enter the number :8\n",
      "Enter the number :10\n",
      "[1, 2, 3, 6, 4, 5, 9, 7, 8, 10]\n",
      "Sum of the list  55\n"
     ]
    }
   ],
   "source": [
    "lst =[]\n",
    "for i in range(10):\n",
    "    lst.append(int(input(\"Enter the number :\")))\n",
    "print(lst)\n",
    "print('Sum of the list ',sum(lst))   "
   ]
  },
  {
   "cell_type": "markdown",
   "metadata": {},
   "source": [
    "# 7. WAP to input a number and print its table. Ex: if user enters the number as 7, output should be in 7 table format"
   ]
  },
  {
   "cell_type": "code",
   "execution_count": 47,
   "metadata": {},
   "outputs": [
    {
     "name": "stdout",
     "output_type": "stream",
     "text": [
      "Enter the number 9\n",
      "9 x 1 = 9\n",
      "9 x 2 = 18\n",
      "9 x 3 = 27\n",
      "9 x 4 = 36\n",
      "9 x 5 = 45\n",
      "9 x 6 = 54\n",
      "9 x 7 = 63\n",
      "9 x 8 = 72\n",
      "9 x 9 = 81\n",
      "9 x 10 = 90\n"
     ]
    }
   ],
   "source": [
    "num =int(input(\"Enter the number \"))\n",
    "for i in range(1,11):\n",
    "    print(num,'x',i,'=',num*i)    "
   ]
  },
  {
   "cell_type": "markdown",
   "metadata": {},
   "source": [
    "# 8. WAP to print total number of spaces in a string (Use for loop to iterate over the string. Don’t use count function)"
   ]
  },
  {
   "cell_type": "code",
   "execution_count": 12,
   "metadata": {},
   "outputs": [
    {
     "name": "stdout",
     "output_type": "stream",
     "text": [
      "Enter the stringSAR THY\n",
      "1\n"
     ]
    }
   ],
   "source": [
    "count=0\n",
    "for i in input(\"Enter the string\"):\n",
    "    if i == ' ':\n",
    "        count+=1\n",
    "    \n",
    "    \n",
    "print(count)  \n",
    "        "
   ]
  },
  {
   "cell_type": "markdown",
   "metadata": {},
   "source": [
    "# 9. WAP to input a string and count number of vowels in the string. [Note: it should work for both capital and small alphabets]"
   ]
  },
  {
   "cell_type": "code",
   "execution_count": 51,
   "metadata": {},
   "outputs": [
    {
     "name": "stdout",
     "output_type": "stream",
     "text": [
      "Enter the string :Education\n",
      "5\n"
     ]
    }
   ],
   "source": [
    "count=0\n",
    "for i in input(\"Enter the string :\"):    \n",
    "    if i in 'AEIOU' or i in 'aeiou':\n",
    "        count+=1\n",
    "    \n",
    "print(count)        "
   ]
  },
  {
   "cell_type": "markdown",
   "metadata": {},
   "source": [
    "# 10. WAP to input a string and replace all vowels with ‘_’.\n",
    "\n",
    "#[Hint: Convert string to list. Remember!! Strings are immutable. Replace in the list and then join]"
   ]
  },
  {
   "cell_type": "code",
   "execution_count": 5,
   "metadata": {},
   "outputs": [
    {
     "name": "stdout",
     "output_type": "stream",
     "text": [
      "Enter the stringINTELLIGENT\n",
      "['I', 'N', 'T', 'E', 'L', 'L', 'I', 'G', 'E', 'N', 'T']\n",
      "['_', 'N', 'T', '_', 'L', 'L', '_', 'G', '_', 'N', 'T']\n",
      "_NT_LL_G_NT\n"
     ]
    }
   ],
   "source": [
    "x = list((input(\"Enter the string\")))\n",
    "print(x)\n",
    "\n",
    "\n",
    "for i in range(len(x)):\n",
    "    if x[i] in 'AEIOU' or x[i] in 'aeiou':\n",
    "         x[i]='_'            \n",
    "print(x)  \n",
    "print(''.join(x))"
   ]
  },
  {
   "cell_type": "markdown",
   "metadata": {},
   "source": [
    "# 11. Find output:"
   ]
  },
  {
   "cell_type": "code",
   "execution_count": 14,
   "metadata": {},
   "outputs": [
    {
     "name": "stdout",
     "output_type": "stream",
     "text": [
      "Num : 0\n",
      "Loop Ends\n"
     ]
    }
   ],
   "source": [
    "for  num in range(10):\n",
    "    print(\"Num :\",num)\n",
    "    if num%4==0:\n",
    "        break\n",
    "print(\"Loop Ends\")\n",
    "\n",
    " "
   ]
  },
  {
   "cell_type": "code",
   "execution_count": 15,
   "metadata": {},
   "outputs": [
    {
     "name": "stdout",
     "output_type": "stream",
     "text": [
      "Num : 0\n"
     ]
    },
    {
     "ename": "SystemExit",
     "evalue": "",
     "output_type": "error",
     "traceback": [
      "An exception has occurred, use %tb to see the full traceback.\n",
      "\u001b[1;31mSystemExit\u001b[0m\n"
     ]
    },
    {
     "name": "stderr",
     "output_type": "stream",
     "text": [
      "C:\\Users\\Sarathy\\anaconda3\\lib\\site-packages\\IPython\\core\\interactiveshell.py:3339: UserWarning: To exit: use 'exit', 'quit', or Ctrl-D.\n",
      "  warn(\"To exit: use 'exit', 'quit', or Ctrl-D.\", stacklevel=1)\n"
     ]
    }
   ],
   "source": [
    "import sys\n",
    "for num in range (10):\n",
    "    print(\"Num :\",num)\n",
    "    if num%4==0:\n",
    "        sys.exit()\n",
    "print(\"Loop Ends\")"
   ]
  },
  {
   "cell_type": "markdown",
   "metadata": {},
   "source": [
    "# 12. Find the output of the following code snippets."
   ]
  },
  {
   "cell_type": "code",
   "execution_count": 16,
   "metadata": {},
   "outputs": [
    {
     "name": "stdout",
     "output_type": "stream",
     "text": [
      "*****\n",
      "*****\n",
      "*****\n",
      "*****\n",
      "*****\n"
     ]
    }
   ],
   "source": [
    "for i1 in range(1,6):\n",
    "    for i2 in range(5):\n",
    "        print('*',end='')\n",
    "    print()\n",
    "    "
   ]
  },
  {
   "cell_type": "code",
   "execution_count": 17,
   "metadata": {},
   "outputs": [
    {
     "name": "stdout",
     "output_type": "stream",
     "text": [
      "1\n",
      "22\n",
      "333\n",
      "4444\n",
      "55555\n"
     ]
    }
   ],
   "source": [
    "for i1 in range(1,6):\n",
    "    for i2 in range(i1):\n",
    "        print(i1,end='')\n",
    "    print()\n"
   ]
  },
  {
   "cell_type": "code",
   "execution_count": 18,
   "metadata": {},
   "outputs": [
    {
     "name": "stdout",
     "output_type": "stream",
     "text": [
      "1\n",
      "22\n",
      "333\n",
      "4444\n",
      "55555\n"
     ]
    }
   ],
   "source": [
    "for i1 in range(1,6):\n",
    "    print(str(i1)*i1)"
   ]
  },
  {
   "cell_type": "code",
   "execution_count": 20,
   "metadata": {},
   "outputs": [
    {
     "name": "stdout",
     "output_type": "stream",
     "text": [
      "**\n",
      "***\n",
      "****\n",
      "*****\n",
      "******\n"
     ]
    }
   ],
   "source": [
    "for i1 in range(1,6):\n",
    "    for i2 in range(i1+1):\n",
    "        print('*',end='')\n",
    "    print()"
   ]
  }
 ],
 "metadata": {
  "kernelspec": {
   "display_name": "Python 3",
   "language": "python",
   "name": "python3"
  },
  "language_info": {
   "codemirror_mode": {
    "name": "ipython",
    "version": 3
   },
   "file_extension": ".py",
   "mimetype": "text/x-python",
   "name": "python",
   "nbconvert_exporter": "python",
   "pygments_lexer": "ipython3",
   "version": "3.7.6"
  }
 },
 "nbformat": 4,
 "nbformat_minor": 4
}
