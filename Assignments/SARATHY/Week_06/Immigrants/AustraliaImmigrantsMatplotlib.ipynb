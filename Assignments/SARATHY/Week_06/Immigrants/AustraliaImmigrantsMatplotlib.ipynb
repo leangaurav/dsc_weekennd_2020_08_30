{
 "cells": [
  {
   "cell_type": "markdown",
   "metadata": {},
   "source": [
    "##### Use AustraliaFiltered.xlsx dataset generated earlier.\n",
    "\n",
    "- Plot bar chart of total no of immigrants for countires top 5 countires having max no of total immigrants\n",
    "- Find total immigrants from each category by area name and plot barchart for each area\n",
    "- Plot total immigration trend(immigration of world over the years i.e. year vs Total count for that year) using line plot.\n",
    "- Compare Immigration Trend for Asia, Africa and Europe AreaName (Use Line plot).\n",
    "- Plot Total Immigrants based on DevelopmenRegion \n",
    "\n",
    "  \n",
    "- Plot immigration trend for India using line plot\n",
    "- Plot immigration Trend(year vs count) for the coutries with top 5 total immigrants. Use Line plot\n",
    "- For the above use area plot with alpha = 0.5\n",
    "\n",
    "\n",
    "- Compare Immigration Trend for top-5 countires using stacked area plot"
   ]
  }
 ],
 "metadata": {
  "kernelspec": {
   "display_name": "Python 3",
   "language": "python",
   "name": "python3"
  },
  "language_info": {
   "codemirror_mode": {
    "name": "ipython",
    "version": 3
   },
   "file_extension": ".py",
   "mimetype": "text/x-python",
   "name": "python",
   "nbconvert_exporter": "python",
   "pygments_lexer": "ipython3",
   "version": "3.7.3"
  }
 },
 "nbformat": 4,
 "nbformat_minor": 2
}
