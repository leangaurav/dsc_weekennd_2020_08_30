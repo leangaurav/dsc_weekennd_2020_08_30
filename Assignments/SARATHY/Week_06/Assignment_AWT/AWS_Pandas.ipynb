{
 "cells": [
  {
   "cell_type": "markdown",
   "metadata": {},
   "source": [
    "### Description\n",
    "\n",
    "**Airport**: The IATA airport code of the selected airport.  \n",
    "**Terminal**: Terminal(s) associated with the airport selected.  \n",
    "**Date**: Arrival Date(s) of flights associated with the airport/terminal/date range selected.  \n",
    "**Hour**: Hour(s) of arriving flights during a 24 hour time period for the airport/terminal selected/date range selected.  \n",
    "**U.S. Citizen Wait Times**:\n",
    "\n",
    "    Average:The average wait time for all U.S. Citizen passengers on flights arriving in the one hour increment.\n",
    "    Max:The highest wait time for all U.S. Citizen passengers on a flight arriving in the one hour increment.\n",
    "\n",
    "**Non U.S. Citizen Wait Times**:\n",
    "\n",
    "    Average:The average wait time for all Non U.S. Citizen passengers on flights arriving in the one hour increment.\n",
    "    Max:The highest wait time for all Non U.S. Citizen passengers on a flight arriving in the one hour increment.\n",
    "\n",
    "**Wait Times**:\n",
    "\n",
    "    Average:The average wait time for all passengers on flights arriving in the one hour increment.\n",
    "    Max:The highest wait time for any passenger on a flight arriving in the one hour increment.\n",
    "\n",
    "**Number of Passengers Time Interval**:\n",
    "\n",
    "    0-15:The actual number of passengers on flights which arrived in the selected hour who were processed in (0-15) minutes.\n",
    "    16-30:The actual number of passengers on flights which arrived in the selected hour who were processed in (16-30) minutes.\n",
    "    31-45:The actual number of passengers on flights which arrived in the selected hour who were processed in (31-45) minutes.\n",
    "    46-60:The actual number of passengers on flights which arrived in the selected hour who were processed in (46-60) minutes.\n",
    "    61-90:The actual number of passengers on flights which arrived in the selected hour who were processed in (61-90) minutes.\n",
    "    91-120:The actual number of passengers on flights which arrived in the selected hour who were processed in (91-120) minutes.\n",
    "    121Plus:The actual number of passengers on flights which arrived in the selected hour who were processed in (121 Plus) minutes.\n",
    "\n",
    "**Excluded**:The actual number of passengers on flights which arrived in the selected hour who were excluded from wait time reporting.  \n",
    "**Total**:Total number of passengers aboard arriving flights during the one hour increment.  \n",
    "**Flights**:Number of flights arriving during the time period.  \n",
    "**Booths**:Number of staffed primary inspection booths open to process flights which arrived during the selected hour.   \n"
   ]
  },
  {
   "cell_type": "markdown",
   "metadata": {},
   "source": [
    "### Problems\n",
    "- read dataset and convert column headers to correct format (the first  4 rows are headers, but not all rows contain column names)\n",
    "- check datatype of each column\n",
    "- find out columns which have na values\n",
    "- check if there are any unique values in first two columns\n",
    "- based on above, are these two columns userful ?   \n",
    "  \n",
    "  \n",
    "- drop the upper bound of  hour column Ex: replace  0100 - 0200 with 0100 ...\n",
    "- check that hour values lie in range 0-2300 or not\n",
    "- check if all hour values are present or not\n",
    "- convert hour column from string type to datetime type. (If this doesn't work out easily, then first solve next problem)\n",
    "- check that length of each hour value is 4, if  not, check why and fix it and then check again   \n",
    "  \n",
    "  \n",
    "- convert Date column to datetime type\n",
    "- check data types now\n",
    "- replace Hours with only time part and Date column with only date part (both should  be converted to datetime type before this)\n",
    "- check data types again\n",
    "- merge date and hour column into a new column date_time (type of date_time should be datetime not str)"
   ]
  },
  {
   "cell_type": "code",
   "execution_count": 1,
   "metadata": {},
   "outputs": [],
   "source": [
    "import pandas as pd"
   ]
  },
  {
   "cell_type": "code",
   "execution_count": 2,
   "metadata": {},
   "outputs": [
    {
     "data": {
      "text/plain": [
       "('Airport', 'Unnamed: 0_level_1', 'Unnamed: 0_level_2', 'Unnamed: 0_level_3')"
      ]
     },
     "execution_count": 2,
     "metadata": {},
     "output_type": "execute_result"
    }
   ],
   "source": [
    "\n",
    "\n",
    "w = pd.read_excel('AWT.xls',header=[0,1,2,3])\n",
    "w.columns[0]\n"
   ]
  },
  {
   "cell_type": "code",
   "execution_count": 3,
   "metadata": {},
   "outputs": [
    {
     "data": {
      "text/plain": [
       "Index(['Airport', 'Terminal', 'Date', 'Hour', 'U.S. Citizen Average Wait Time',\n",
       "       'U.S. Citizen Max Wait Time', 'Non U.S. Citizen Average Wait Time',\n",
       "       'Non U.S. Citizen Max Wait Time', 'All Wait Times Average Wait Time',\n",
       "       'All Wait Times Max Wait Time', 'All 0-15', 'All 16-30', 'All 31-45',\n",
       "       'All 46-60', 'All 61-90', 'All 91-120', 'All 120 plus', 'All Excluded',\n",
       "       'All Total', 'All Flights', 'All Booths'],\n",
       "      dtype='object')"
      ]
     },
     "execution_count": 3,
     "metadata": {},
     "output_type": "execute_result"
    }
   ],
   "source": [
    "# read dataset and convert column headers to correct format (the first 4 rows are headers, but not all rows contain column names)\n",
    "\n",
    "idx  =[]\n",
    "for col in w.columns:\n",
    "    idx.append(' '.join(filter(lambda x: not ('Unnamed' in x or 'Passengers' in x ),col)))   \n",
    "w.columns = idx\n",
    "w.columns\n"
   ]
  },
  {
   "cell_type": "code",
   "execution_count": 4,
   "metadata": {},
   "outputs": [
    {
     "data": {
      "text/plain": [
       "Airport                               object\n",
       "Terminal                              object\n",
       "Date                                  object\n",
       "Hour                                  object\n",
       "U.S. Citizen Average Wait Time         int64\n",
       "U.S. Citizen Max Wait Time             int64\n",
       "Non U.S. Citizen Average Wait Time     int64\n",
       "Non U.S. Citizen Max Wait Time         int64\n",
       "All Wait Times Average Wait Time       int64\n",
       "All Wait Times Max Wait Time           int64\n",
       "All 0-15                               int64\n",
       "All 16-30                              int64\n",
       "All 31-45                              int64\n",
       "All 46-60                              int64\n",
       "All 61-90                              int64\n",
       "All 91-120                             int64\n",
       "All 120 plus                           int64\n",
       "All Excluded                           int64\n",
       "All Total                              int64\n",
       "All Flights                            int64\n",
       "All Booths                             int64\n",
       "dtype: object"
      ]
     },
     "execution_count": 4,
     "metadata": {},
     "output_type": "execute_result"
    }
   ],
   "source": [
    "# check datatype of each column\n",
    "w.dtypes"
   ]
  },
  {
   "cell_type": "code",
   "execution_count": 5,
   "metadata": {},
   "outputs": [
    {
     "data": {
      "text/plain": [
       "False"
      ]
     },
     "execution_count": 5,
     "metadata": {},
     "output_type": "execute_result"
    }
   ],
   "source": [
    "# find out columns which have na values\n",
    "w.isnull().any().any()"
   ]
  },
  {
   "cell_type": "code",
   "execution_count": 6,
   "metadata": {},
   "outputs": [
    {
     "data": {
      "text/plain": [
       "Airport     1\n",
       "Terminal    1\n",
       "dtype: int64"
      ]
     },
     "execution_count": 6,
     "metadata": {},
     "output_type": "execute_result"
    }
   ],
   "source": [
    "# check if there are any unique values in first two columns\n",
    "w[['Airport','Terminal']].nunique()"
   ]
  },
  {
   "cell_type": "markdown",
   "metadata": {},
   "source": [
    "# based on above, are these two columns userful ?\n",
    "- The Above columns are not useful since the airport is a unique item and it is invariant .Also Terminal is 5 for every days"
   ]
  },
  {
   "cell_type": "code",
   "execution_count": 7,
   "metadata": {},
   "outputs": [
    {
     "data": {
      "text/plain": [
       "0       4\n",
       "1       4\n",
       "2       4\n",
       "3       4\n",
       "4       4\n",
       "       ..\n",
       "6699    4\n",
       "6700    4\n",
       "6701    4\n",
       "6702    4\n",
       "6703    4\n",
       "Name: Hour, Length: 6704, dtype: int64"
      ]
     },
     "execution_count": 7,
     "metadata": {},
     "output_type": "execute_result"
    }
   ],
   "source": [
    "# drop the upper bound of hour column Ex: replace 0100 - 0200 with 0100 ...\n",
    "\n",
    "w['Hour'] =w['Hour'].str.split('-').str[0].str.strip()\n",
    "w['Hour'].str.len()"
   ]
  },
  {
   "cell_type": "code",
   "execution_count": 8,
   "metadata": {},
   "outputs": [
    {
     "data": {
      "text/plain": [
       "True"
      ]
     },
     "execution_count": 8,
     "metadata": {},
     "output_type": "execute_result"
    }
   ],
   "source": [
    "# check that hour values lie in range 0-2300 or not\n",
    "w['Hour'].astype('int32').between(0,2300).all()"
   ]
  },
  {
   "cell_type": "code",
   "execution_count": 9,
   "metadata": {},
   "outputs": [
    {
     "data": {
      "text/plain": [
       "1400    365\n",
       "1500    365\n",
       "1900    365\n",
       "1800    365\n",
       "1300    365\n",
       "1600    364\n",
       "1700    364\n",
       "1200    360\n",
       "1100    359\n",
       "1000    353\n",
       "0800    347\n",
       "0000    331\n",
       "2300    329\n",
       "0600    318\n",
       "0900    316\n",
       "2000    292\n",
       "0700    248\n",
       "2200    219\n",
       "0500    200\n",
       "2100    194\n",
       "0400    159\n",
       "0100     80\n",
       "0200     24\n",
       "0300     22\n",
       "Name: Hour, dtype: int64"
      ]
     },
     "execution_count": 9,
     "metadata": {},
     "output_type": "execute_result"
    }
   ],
   "source": [
    "# check if all hour values are present or not\n",
    "w['Hour'].value_counts()\n"
   ]
  },
  {
   "cell_type": "code",
   "execution_count": 10,
   "metadata": {},
   "outputs": [],
   "source": [
    "\n",
    "#convert hour column from string type to datetime type. (If this doesn't work out easily, then first solve next problem)\n",
    "# check that length of each hour value is 4, if not, check why and fix it and then check again"
   ]
  },
  {
   "cell_type": "code",
   "execution_count": 11,
   "metadata": {},
   "outputs": [
    {
     "name": "stdout",
     "output_type": "stream",
     "text": [
      "4    6704\n",
      "Name: Hour, dtype: int64\n"
     ]
    },
    {
     "data": {
      "text/plain": [
       "6704"
      ]
     },
     "execution_count": 11,
     "metadata": {},
     "output_type": "execute_result"
    }
   ],
   "source": [
    "print(w['Hour'].str.len().value_counts())\n",
    "w.shape[0]"
   ]
  },
  {
   "cell_type": "code",
   "execution_count": 30,
   "metadata": {},
   "outputs": [
    {
     "data": {
      "text/plain": [
       "0      2017-01-01\n",
       "1      2017-01-01\n",
       "2      2017-01-01\n",
       "3      2017-01-01\n",
       "4      2017-01-01\n",
       "          ...    \n",
       "6699   2017-12-31\n",
       "6700   2017-12-31\n",
       "6701   2017-12-31\n",
       "6702   2017-12-31\n",
       "6703   2017-12-31\n",
       "Name: Date, Length: 6704, dtype: datetime64[ns]"
      ]
     },
     "execution_count": 30,
     "metadata": {},
     "output_type": "execute_result"
    }
   ],
   "source": [
    "\n",
    "\n",
    "w['Date'] = pd.to_datetime(w['Date'])\n",
    "w['Date']"
   ]
  },
  {
   "cell_type": "code",
   "execution_count": 31,
   "metadata": {},
   "outputs": [
    {
     "data": {
      "text/plain": [
       "0      1900-01-01 03:00:00\n",
       "1      1900-01-01 04:00:00\n",
       "2      1900-01-01 06:00:00\n",
       "3      1900-01-01 07:00:00\n",
       "4      1900-01-01 08:00:00\n",
       "               ...        \n",
       "6699   1900-01-01 18:00:00\n",
       "6700   1900-01-01 19:00:00\n",
       "6701   1900-01-01 20:00:00\n",
       "6702   1900-01-01 21:00:00\n",
       "6703   1900-01-01 23:00:00\n",
       "Name: Hour, Length: 6704, dtype: datetime64[ns]"
      ]
     },
     "execution_count": 31,
     "metadata": {},
     "output_type": "execute_result"
    }
   ],
   "source": [
    "w['Hour']=pd.to_datetime(w['Hour'], format='%H%M')\n",
    "w['Hour']"
   ]
  },
  {
   "cell_type": "code",
   "execution_count": 13,
   "metadata": {},
   "outputs": [
    {
     "data": {
      "text/plain": [
       "dtype('<M8[ns]')"
      ]
     },
     "execution_count": 13,
     "metadata": {},
     "output_type": "execute_result"
    }
   ],
   "source": [
    "w['Hour'].dtype\n"
   ]
  },
  {
   "cell_type": "code",
   "execution_count": 14,
   "metadata": {},
   "outputs": [
    {
     "data": {
      "text/plain": [
       "0   1900-01-01 03:00:00\n",
       "1   1900-01-01 04:00:00\n",
       "2   1900-01-01 06:00:00\n",
       "3   1900-01-01 07:00:00\n",
       "4   1900-01-01 08:00:00\n",
       "Name: Hour, dtype: datetime64[ns]"
      ]
     },
     "execution_count": 14,
     "metadata": {},
     "output_type": "execute_result"
    }
   ],
   "source": [
    "w['Hour'].head()"
   ]
  },
  {
   "cell_type": "code",
   "execution_count": 22,
   "metadata": {},
   "outputs": [
    {
     "data": {
      "text/plain": [
       "Airport                                       object\n",
       "Terminal                                      object\n",
       "Date                                  datetime64[ns]\n",
       "Hour                                  datetime64[ns]\n",
       "U.S. Citizen Average Wait Time                 int64\n",
       "U.S. Citizen Max Wait Time                     int64\n",
       "Non U.S. Citizen Average Wait Time             int64\n",
       "Non U.S. Citizen Max Wait Time                 int64\n",
       "All Wait Times Average Wait Time               int64\n",
       "All Wait Times Max Wait Time                   int64\n",
       "All 0-15                                       int64\n",
       "All 16-30                                      int64\n",
       "All 31-45                                      int64\n",
       "All 46-60                                      int64\n",
       "All 61-90                                      int64\n",
       "All 91-120                                     int64\n",
       "All 120 plus                                   int64\n",
       "All Excluded                                   int64\n",
       "All Total                                      int64\n",
       "All Flights                                    int64\n",
       "All Booths                                     int64\n",
       "dtype: object"
      ]
     },
     "execution_count": 22,
     "metadata": {},
     "output_type": "execute_result"
    }
   ],
   "source": [
    "# check data types now\n",
    "w.dtypes"
   ]
  },
  {
   "cell_type": "code",
   "execution_count": null,
   "metadata": {},
   "outputs": [],
   "source": [
    "# replace Hours with only time part and Date column with only date part \n",
    "#(both should be converted to datetime type before this)"
   ]
  },
  {
   "cell_type": "code",
   "execution_count": 23,
   "metadata": {},
   "outputs": [
    {
     "data": {
      "text/plain": [
       "Hour    datetime64[ns]\n",
       "Date    datetime64[ns]\n",
       "dtype: object"
      ]
     },
     "execution_count": 23,
     "metadata": {},
     "output_type": "execute_result"
    }
   ],
   "source": [
    "w[['Hour','Date']].dtypes"
   ]
  },
  {
   "cell_type": "code",
   "execution_count": 25,
   "metadata": {},
   "outputs": [
    {
     "data": {
      "text/plain": [
       "0   1900-01-01 03:00:00\n",
       "1   1900-01-01 04:00:00\n",
       "2   1900-01-01 06:00:00\n",
       "3   1900-01-01 07:00:00\n",
       "4   1900-01-01 08:00:00\n",
       "Name: Hour, dtype: datetime64[ns]"
      ]
     },
     "execution_count": 25,
     "metadata": {},
     "output_type": "execute_result"
    }
   ],
   "source": [
    "w['Hour'].head()"
   ]
  },
  {
   "cell_type": "code",
   "execution_count": 26,
   "metadata": {},
   "outputs": [
    {
     "name": "stdout",
     "output_type": "stream",
     "text": [
      "['__annotations__', '__class__', '__delattr__', '__dict__', '__dir__', '__doc__', '__eq__', '__format__', '__ge__', '__getattribute__', '__gt__', '__hash__', '__init__', '__init_subclass__', '__le__', '__lt__', '__module__', '__ne__', '__new__', '__reduce__', '__reduce_ex__', '__repr__', '__setattr__', '__sizeof__', '__str__', '__subclasshook__', '__weakref__', '_accessors', '_add_delegate_accessors', '_constructor', '_delegate_method', '_delegate_property_get', '_delegate_property_set', '_deprecations', '_dir_additions', '_dir_deletions', '_freeze', '_get_values', '_reset_cache', 'ceil', 'date', 'day', 'day_name', 'dayofweek', 'dayofyear', 'days_in_month', 'daysinmonth', 'floor', 'freq', 'hour', 'is_leap_year', 'is_month_end', 'is_month_start', 'is_quarter_end', 'is_quarter_start', 'is_year_end', 'is_year_start', 'microsecond', 'minute', 'month', 'month_name', 'nanosecond', 'normalize', 'quarter', 'round', 'second', 'strftime', 'time', 'timetz', 'to_period', 'to_pydatetime', 'tz', 'tz_convert', 'tz_localize', 'week', 'weekday', 'weekofyear', 'year']\n"
     ]
    }
   ],
   "source": [
    "print(dir(w['Hour'].dt))"
   ]
  },
  {
   "cell_type": "code",
   "execution_count": 32,
   "metadata": {},
   "outputs": [],
   "source": [
    "w['Hour']= w['Hour'].dt.time\n",
    "w['Date']=w['Date'].dt.date"
   ]
  },
  {
   "cell_type": "code",
   "execution_count": 36,
   "metadata": {},
   "outputs": [
    {
     "name": "stdout",
     "output_type": "stream",
     "text": [
      "0    03:00:00\n",
      "1    04:00:00\n",
      "2    06:00:00\n",
      "3    07:00:00\n",
      "4    08:00:00\n",
      "Name: Hour, dtype: object\n",
      "\n",
      "0    2017-01-01\n",
      "1    2017-01-01\n",
      "2    2017-01-01\n",
      "3    2017-01-01\n",
      "4    2017-01-01\n",
      "Name: Date, dtype: object\n"
     ]
    }
   ],
   "source": [
    "print(w['Hour'].head())\n",
    "print()\n",
    "print(w['Date'].head())"
   ]
  },
  {
   "cell_type": "code",
   "execution_count": 38,
   "metadata": {},
   "outputs": [
    {
     "data": {
      "text/plain": [
       "Airport                               object\n",
       "Terminal                              object\n",
       "Date                                  object\n",
       "Hour                                  object\n",
       "U.S. Citizen Average Wait Time         int64\n",
       "U.S. Citizen Max Wait Time             int64\n",
       "Non U.S. Citizen Average Wait Time     int64\n",
       "Non U.S. Citizen Max Wait Time         int64\n",
       "All Wait Times Average Wait Time       int64\n",
       "All Wait Times Max Wait Time           int64\n",
       "All 0-15                               int64\n",
       "All 16-30                              int64\n",
       "All 31-45                              int64\n",
       "All 46-60                              int64\n",
       "All 61-90                              int64\n",
       "All 91-120                             int64\n",
       "All 120 plus                           int64\n",
       "All Excluded                           int64\n",
       "All Total                              int64\n",
       "All Flights                            int64\n",
       "All Booths                             int64\n",
       "dtype: object"
      ]
     },
     "execution_count": 38,
     "metadata": {},
     "output_type": "execute_result"
    }
   ],
   "source": [
    "# check data types again\n",
    "w.dtypes"
   ]
  },
  {
   "cell_type": "code",
   "execution_count": 43,
   "metadata": {},
   "outputs": [
    {
     "data": {
      "text/plain": [
       "0       03:00:00 2017-01-01\n",
       "1       04:00:00 2017-01-01\n",
       "2       06:00:00 2017-01-01\n",
       "3       07:00:00 2017-01-01\n",
       "4       08:00:00 2017-01-01\n",
       "               ...         \n",
       "6699    18:00:00 2017-12-31\n",
       "6700    19:00:00 2017-12-31\n",
       "6701    20:00:00 2017-12-31\n",
       "6702    21:00:00 2017-12-31\n",
       "6703    23:00:00 2017-12-31\n",
       "Name: date_time, Length: 6704, dtype: object"
      ]
     },
     "execution_count": 43,
     "metadata": {},
     "output_type": "execute_result"
    }
   ],
   "source": [
    "# merge date and hour column into a new column date_time \n",
    "# (type of date_time should be datetime not str)\n",
    "\n",
    "w['date_time'] = w['Hour'].astype('str')+ ' '+w['Date'].astype('str')\n",
    "w['date_time']"
   ]
  },
  {
   "cell_type": "code",
   "execution_count": 44,
   "metadata": {},
   "outputs": [
    {
     "data": {
      "text/html": [
       "<div>\n",
       "<style scoped>\n",
       "    .dataframe tbody tr th:only-of-type {\n",
       "        vertical-align: middle;\n",
       "    }\n",
       "\n",
       "    .dataframe tbody tr th {\n",
       "        vertical-align: top;\n",
       "    }\n",
       "\n",
       "    .dataframe thead th {\n",
       "        text-align: right;\n",
       "    }\n",
       "</style>\n",
       "<table border=\"1\" class=\"dataframe\">\n",
       "  <thead>\n",
       "    <tr style=\"text-align: right;\">\n",
       "      <th></th>\n",
       "      <th>Airport</th>\n",
       "      <th>Terminal</th>\n",
       "      <th>Date</th>\n",
       "      <th>Hour</th>\n",
       "      <th>U.S. Citizen Average Wait Time</th>\n",
       "      <th>U.S. Citizen Max Wait Time</th>\n",
       "      <th>Non U.S. Citizen Average Wait Time</th>\n",
       "      <th>Non U.S. Citizen Max Wait Time</th>\n",
       "      <th>All Wait Times Average Wait Time</th>\n",
       "      <th>All Wait Times Max Wait Time</th>\n",
       "      <th>...</th>\n",
       "      <th>All 31-45</th>\n",
       "      <th>All 46-60</th>\n",
       "      <th>All 61-90</th>\n",
       "      <th>All 91-120</th>\n",
       "      <th>All 120 plus</th>\n",
       "      <th>All Excluded</th>\n",
       "      <th>All Total</th>\n",
       "      <th>All Flights</th>\n",
       "      <th>All Booths</th>\n",
       "      <th>date_time</th>\n",
       "    </tr>\n",
       "  </thead>\n",
       "  <tbody>\n",
       "    <tr>\n",
       "      <th>0</th>\n",
       "      <td>ORD</td>\n",
       "      <td>Terminal 5</td>\n",
       "      <td>2017-01-01</td>\n",
       "      <td>03:00:00</td>\n",
       "      <td>0</td>\n",
       "      <td>0</td>\n",
       "      <td>0</td>\n",
       "      <td>0</td>\n",
       "      <td>0</td>\n",
       "      <td>0</td>\n",
       "      <td>...</td>\n",
       "      <td>0</td>\n",
       "      <td>0</td>\n",
       "      <td>0</td>\n",
       "      <td>0</td>\n",
       "      <td>0</td>\n",
       "      <td>7</td>\n",
       "      <td>7</td>\n",
       "      <td>1</td>\n",
       "      <td>0</td>\n",
       "      <td>03:00:00 2017-01-01</td>\n",
       "    </tr>\n",
       "    <tr>\n",
       "      <th>1</th>\n",
       "      <td>ORD</td>\n",
       "      <td>Terminal 5</td>\n",
       "      <td>2017-01-01</td>\n",
       "      <td>04:00:00</td>\n",
       "      <td>18</td>\n",
       "      <td>51</td>\n",
       "      <td>28</td>\n",
       "      <td>51</td>\n",
       "      <td>20</td>\n",
       "      <td>51</td>\n",
       "      <td>...</td>\n",
       "      <td>60</td>\n",
       "      <td>8</td>\n",
       "      <td>0</td>\n",
       "      <td>0</td>\n",
       "      <td>0</td>\n",
       "      <td>13</td>\n",
       "      <td>362</td>\n",
       "      <td>3</td>\n",
       "      <td>10</td>\n",
       "      <td>04:00:00 2017-01-01</td>\n",
       "    </tr>\n",
       "    <tr>\n",
       "      <th>2</th>\n",
       "      <td>ORD</td>\n",
       "      <td>Terminal 5</td>\n",
       "      <td>2017-01-01</td>\n",
       "      <td>06:00:00</td>\n",
       "      <td>11</td>\n",
       "      <td>49</td>\n",
       "      <td>27</td>\n",
       "      <td>49</td>\n",
       "      <td>20</td>\n",
       "      <td>49</td>\n",
       "      <td>...</td>\n",
       "      <td>64</td>\n",
       "      <td>19</td>\n",
       "      <td>0</td>\n",
       "      <td>0</td>\n",
       "      <td>0</td>\n",
       "      <td>10</td>\n",
       "      <td>328</td>\n",
       "      <td>1</td>\n",
       "      <td>10</td>\n",
       "      <td>06:00:00 2017-01-01</td>\n",
       "    </tr>\n",
       "    <tr>\n",
       "      <th>3</th>\n",
       "      <td>ORD</td>\n",
       "      <td>Terminal 5</td>\n",
       "      <td>2017-01-01</td>\n",
       "      <td>07:00:00</td>\n",
       "      <td>7</td>\n",
       "      <td>24</td>\n",
       "      <td>12</td>\n",
       "      <td>26</td>\n",
       "      <td>10</td>\n",
       "      <td>26</td>\n",
       "      <td>...</td>\n",
       "      <td>0</td>\n",
       "      <td>0</td>\n",
       "      <td>0</td>\n",
       "      <td>0</td>\n",
       "      <td>0</td>\n",
       "      <td>10</td>\n",
       "      <td>370</td>\n",
       "      <td>2</td>\n",
       "      <td>12</td>\n",
       "      <td>07:00:00 2017-01-01</td>\n",
       "    </tr>\n",
       "    <tr>\n",
       "      <th>4</th>\n",
       "      <td>ORD</td>\n",
       "      <td>Terminal 5</td>\n",
       "      <td>2017-01-01</td>\n",
       "      <td>08:00:00</td>\n",
       "      <td>5</td>\n",
       "      <td>25</td>\n",
       "      <td>13</td>\n",
       "      <td>37</td>\n",
       "      <td>10</td>\n",
       "      <td>37</td>\n",
       "      <td>...</td>\n",
       "      <td>16</td>\n",
       "      <td>0</td>\n",
       "      <td>0</td>\n",
       "      <td>0</td>\n",
       "      <td>0</td>\n",
       "      <td>11</td>\n",
       "      <td>446</td>\n",
       "      <td>2</td>\n",
       "      <td>12</td>\n",
       "      <td>08:00:00 2017-01-01</td>\n",
       "    </tr>\n",
       "    <tr>\n",
       "      <th>...</th>\n",
       "      <td>...</td>\n",
       "      <td>...</td>\n",
       "      <td>...</td>\n",
       "      <td>...</td>\n",
       "      <td>...</td>\n",
       "      <td>...</td>\n",
       "      <td>...</td>\n",
       "      <td>...</td>\n",
       "      <td>...</td>\n",
       "      <td>...</td>\n",
       "      <td>...</td>\n",
       "      <td>...</td>\n",
       "      <td>...</td>\n",
       "      <td>...</td>\n",
       "      <td>...</td>\n",
       "      <td>...</td>\n",
       "      <td>...</td>\n",
       "      <td>...</td>\n",
       "      <td>...</td>\n",
       "      <td>...</td>\n",
       "      <td>...</td>\n",
       "    </tr>\n",
       "    <tr>\n",
       "      <th>6699</th>\n",
       "      <td>ORD</td>\n",
       "      <td>Terminal 5</td>\n",
       "      <td>2017-12-31</td>\n",
       "      <td>18:00:00</td>\n",
       "      <td>16</td>\n",
       "      <td>47</td>\n",
       "      <td>16</td>\n",
       "      <td>48</td>\n",
       "      <td>16</td>\n",
       "      <td>48</td>\n",
       "      <td>...</td>\n",
       "      <td>148</td>\n",
       "      <td>9</td>\n",
       "      <td>0</td>\n",
       "      <td>0</td>\n",
       "      <td>0</td>\n",
       "      <td>56</td>\n",
       "      <td>1405</td>\n",
       "      <td>9</td>\n",
       "      <td>17</td>\n",
       "      <td>18:00:00 2017-12-31</td>\n",
       "    </tr>\n",
       "    <tr>\n",
       "      <th>6700</th>\n",
       "      <td>ORD</td>\n",
       "      <td>Terminal 5</td>\n",
       "      <td>2017-12-31</td>\n",
       "      <td>19:00:00</td>\n",
       "      <td>7</td>\n",
       "      <td>23</td>\n",
       "      <td>9</td>\n",
       "      <td>23</td>\n",
       "      <td>7</td>\n",
       "      <td>23</td>\n",
       "      <td>...</td>\n",
       "      <td>0</td>\n",
       "      <td>0</td>\n",
       "      <td>0</td>\n",
       "      <td>0</td>\n",
       "      <td>0</td>\n",
       "      <td>10</td>\n",
       "      <td>284</td>\n",
       "      <td>1</td>\n",
       "      <td>19</td>\n",
       "      <td>19:00:00 2017-12-31</td>\n",
       "    </tr>\n",
       "    <tr>\n",
       "      <th>6701</th>\n",
       "      <td>ORD</td>\n",
       "      <td>Terminal 5</td>\n",
       "      <td>2017-12-31</td>\n",
       "      <td>20:00:00</td>\n",
       "      <td>7</td>\n",
       "      <td>18</td>\n",
       "      <td>8</td>\n",
       "      <td>18</td>\n",
       "      <td>7</td>\n",
       "      <td>18</td>\n",
       "      <td>...</td>\n",
       "      <td>0</td>\n",
       "      <td>0</td>\n",
       "      <td>0</td>\n",
       "      <td>0</td>\n",
       "      <td>0</td>\n",
       "      <td>15</td>\n",
       "      <td>427</td>\n",
       "      <td>2</td>\n",
       "      <td>14</td>\n",
       "      <td>20:00:00 2017-12-31</td>\n",
       "    </tr>\n",
       "    <tr>\n",
       "      <th>6702</th>\n",
       "      <td>ORD</td>\n",
       "      <td>Terminal 5</td>\n",
       "      <td>2017-12-31</td>\n",
       "      <td>21:00:00</td>\n",
       "      <td>28</td>\n",
       "      <td>39</td>\n",
       "      <td>31</td>\n",
       "      <td>39</td>\n",
       "      <td>28</td>\n",
       "      <td>39</td>\n",
       "      <td>...</td>\n",
       "      <td>38</td>\n",
       "      <td>0</td>\n",
       "      <td>0</td>\n",
       "      <td>0</td>\n",
       "      <td>0</td>\n",
       "      <td>6</td>\n",
       "      <td>167</td>\n",
       "      <td>1</td>\n",
       "      <td>3</td>\n",
       "      <td>21:00:00 2017-12-31</td>\n",
       "    </tr>\n",
       "    <tr>\n",
       "      <th>6703</th>\n",
       "      <td>ORD</td>\n",
       "      <td>Terminal 5</td>\n",
       "      <td>2017-12-31</td>\n",
       "      <td>23:00:00</td>\n",
       "      <td>7</td>\n",
       "      <td>25</td>\n",
       "      <td>11</td>\n",
       "      <td>25</td>\n",
       "      <td>8</td>\n",
       "      <td>25</td>\n",
       "      <td>...</td>\n",
       "      <td>0</td>\n",
       "      <td>0</td>\n",
       "      <td>0</td>\n",
       "      <td>0</td>\n",
       "      <td>0</td>\n",
       "      <td>18</td>\n",
       "      <td>451</td>\n",
       "      <td>3</td>\n",
       "      <td>8</td>\n",
       "      <td>23:00:00 2017-12-31</td>\n",
       "    </tr>\n",
       "  </tbody>\n",
       "</table>\n",
       "<p>6704 rows × 22 columns</p>\n",
       "</div>"
      ],
      "text/plain": [
       "     Airport    Terminal        Date      Hour  \\\n",
       "0        ORD  Terminal 5  2017-01-01  03:00:00   \n",
       "1        ORD  Terminal 5  2017-01-01  04:00:00   \n",
       "2        ORD  Terminal 5  2017-01-01  06:00:00   \n",
       "3        ORD  Terminal 5  2017-01-01  07:00:00   \n",
       "4        ORD  Terminal 5  2017-01-01  08:00:00   \n",
       "...      ...         ...         ...       ...   \n",
       "6699     ORD  Terminal 5  2017-12-31  18:00:00   \n",
       "6700     ORD  Terminal 5  2017-12-31  19:00:00   \n",
       "6701     ORD  Terminal 5  2017-12-31  20:00:00   \n",
       "6702     ORD  Terminal 5  2017-12-31  21:00:00   \n",
       "6703     ORD  Terminal 5  2017-12-31  23:00:00   \n",
       "\n",
       "      U.S. Citizen Average Wait Time  U.S. Citizen Max Wait Time  \\\n",
       "0                                  0                           0   \n",
       "1                                 18                          51   \n",
       "2                                 11                          49   \n",
       "3                                  7                          24   \n",
       "4                                  5                          25   \n",
       "...                              ...                         ...   \n",
       "6699                              16                          47   \n",
       "6700                               7                          23   \n",
       "6701                               7                          18   \n",
       "6702                              28                          39   \n",
       "6703                               7                          25   \n",
       "\n",
       "      Non U.S. Citizen Average Wait Time  Non U.S. Citizen Max Wait Time  \\\n",
       "0                                      0                               0   \n",
       "1                                     28                              51   \n",
       "2                                     27                              49   \n",
       "3                                     12                              26   \n",
       "4                                     13                              37   \n",
       "...                                  ...                             ...   \n",
       "6699                                  16                              48   \n",
       "6700                                   9                              23   \n",
       "6701                                   8                              18   \n",
       "6702                                  31                              39   \n",
       "6703                                  11                              25   \n",
       "\n",
       "      All Wait Times Average Wait Time  All Wait Times Max Wait Time  ...  \\\n",
       "0                                    0                             0  ...   \n",
       "1                                   20                            51  ...   \n",
       "2                                   20                            49  ...   \n",
       "3                                   10                            26  ...   \n",
       "4                                   10                            37  ...   \n",
       "...                                ...                           ...  ...   \n",
       "6699                                16                            48  ...   \n",
       "6700                                 7                            23  ...   \n",
       "6701                                 7                            18  ...   \n",
       "6702                                28                            39  ...   \n",
       "6703                                 8                            25  ...   \n",
       "\n",
       "      All 31-45  All 46-60  All 61-90  All 91-120  All 120 plus  All Excluded  \\\n",
       "0             0          0          0           0             0             7   \n",
       "1            60          8          0           0             0            13   \n",
       "2            64         19          0           0             0            10   \n",
       "3             0          0          0           0             0            10   \n",
       "4            16          0          0           0             0            11   \n",
       "...         ...        ...        ...         ...           ...           ...   \n",
       "6699        148          9          0           0             0            56   \n",
       "6700          0          0          0           0             0            10   \n",
       "6701          0          0          0           0             0            15   \n",
       "6702         38          0          0           0             0             6   \n",
       "6703          0          0          0           0             0            18   \n",
       "\n",
       "      All Total  All Flights  All Booths            date_time  \n",
       "0             7            1           0  03:00:00 2017-01-01  \n",
       "1           362            3          10  04:00:00 2017-01-01  \n",
       "2           328            1          10  06:00:00 2017-01-01  \n",
       "3           370            2          12  07:00:00 2017-01-01  \n",
       "4           446            2          12  08:00:00 2017-01-01  \n",
       "...         ...          ...         ...                  ...  \n",
       "6699       1405            9          17  18:00:00 2017-12-31  \n",
       "6700        284            1          19  19:00:00 2017-12-31  \n",
       "6701        427            2          14  20:00:00 2017-12-31  \n",
       "6702        167            1           3  21:00:00 2017-12-31  \n",
       "6703        451            3           8  23:00:00 2017-12-31  \n",
       "\n",
       "[6704 rows x 22 columns]"
      ]
     },
     "execution_count": 44,
     "metadata": {},
     "output_type": "execute_result"
    }
   ],
   "source": [
    "w"
   ]
  },
  {
   "cell_type": "code",
   "execution_count": null,
   "metadata": {},
   "outputs": [],
   "source": []
  }
 ],
 "metadata": {
  "kernelspec": {
   "display_name": "Python 3",
   "language": "python",
   "name": "python3"
  },
  "language_info": {
   "codemirror_mode": {
    "name": "ipython",
    "version": 3
   },
   "file_extension": ".py",
   "mimetype": "text/x-python",
   "name": "python",
   "nbconvert_exporter": "python",
   "pygments_lexer": "ipython3",
   "version": "3.8.3"
  }
 },
 "nbformat": 4,
 "nbformat_minor": 2
}
