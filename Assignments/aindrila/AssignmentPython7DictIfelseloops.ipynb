{
 "cells": [
  {
   "cell_type": "code",
   "execution_count": 2,
   "metadata": {},
   "outputs": [
    {
     "name": "stdout",
     "output_type": "stream",
     "text": [
      "Input a number 5\n",
      "{1: -1, 2: -2, 3: -3, 4: -4, 5: -5}\n"
     ]
    }
   ],
   "source": [
    "#WAP to create a dictionary of numbers mapped to their negative value for numbers from 1-5. \n",
    "#The dictionary should contain something like this: \n",
    "#Do with both with and without range based for loop.\n",
    "\n",
    "n=int(input(\"Input a number \"))\n",
    "d = dict()\n",
    "\n",
    "for x in range(1,n+1):\n",
    "    d[x]=-x\n",
    "\n",
    "print(d) \n",
    "\n"
   ]
  },
  {
   "cell_type": "code",
   "execution_count": 5,
   "metadata": {},
   "outputs": [
    {
     "name": "stdout",
     "output_type": "stream",
     "text": [
      "Input a number 5\n",
      "\n",
      "Dictionary =  {1: -1, 2: -2, 3: -3, 4: -4, 5: -5}\n",
      "{1: -1, 2: -2, 3: -3, 4: -4, 5: -5}\n"
     ]
    }
   ],
   "source": [
    "n=int(input(\"Input a number \"))\n",
    "myDict = dict()\n",
    "\n",
    "myDict = {x:-x for x in range(1, n + 1)}\n",
    "    \n",
    "print(\"\\nDictionary = \", myDict)\n",
    " "
   ]
  },
  {
   "cell_type": "code",
   "execution_count": 25,
   "metadata": {},
   "outputs": [
    {
     "ename": "SyntaxError",
     "evalue": "expression cannot contain assignment, perhaps you meant \"==\"? (<ipython-input-25-369978ebbd18>, line 12)",
     "output_type": "error",
     "traceback": [
      "\u001b[1;36m  File \u001b[1;32m\"<ipython-input-25-369978ebbd18>\"\u001b[1;36m, line \u001b[1;32m12\u001b[0m\n\u001b[1;33m    d=dict(1=2,2=3)\u001b[0m\n\u001b[1;37m           ^\u001b[0m\n\u001b[1;31mSyntaxError\u001b[0m\u001b[1;31m:\u001b[0m expression cannot contain assignment, perhaps you meant \"==\"?\n"
     ]
    }
   ],
   "source": [
    "#d={1=2,2=3}#invalid syntax\n",
    "#d={1:2,2:3}#correct\n",
    "#d={1,2;2,3}#invalid syntax\n",
    "#d={(1,2),(2,3)}#correct\n",
    "#d={'a':'A','b':1,c:[1234]}#invalid syntax\n",
    "#d={'a':'A','b':1,'c':[1234]}#correct\n",
    "#d=dict([(1,2),(2,3)])#correct {1: 2, 2: 3}\n",
    "#d=dict(((1,2),(2,3)))#correct {1: 2, 2: 3}\n",
    "#d=dict((1,2),(2,3))#incorrect\n",
    "#d=dict(x=2,y=3)#correct {'x': 2, 'y': 3}\n",
    "#d=dict('x'= 2,'y'= 3)#invalid\n",
    "#d=dict(1=2,2=3)#invalid\n",
    "print(d)"
   ]
  },
  {
   "cell_type": "code",
   "execution_count": 26,
   "metadata": {},
   "outputs": [
    {
     "data": {
      "text/plain": [
       "{'a': 1, 'b': 2}"
      ]
     },
     "execution_count": 26,
     "metadata": {},
     "output_type": "execute_result"
    }
   ],
   "source": [
    "t = ((1, 'a'),(2, 'b'))\n",
    "dict((y, x) for x, y in t)"
   ]
  },
  {
   "cell_type": "code",
   "execution_count": 51,
   "metadata": {},
   "outputs": [
    {
     "name": "stdout",
     "output_type": "stream",
     "text": [
      "Resultant dictionary is : {1: 10, 2: 20, 3: 30, 4: 40}\n"
     ]
    }
   ],
   "source": [
    "#Read help for zip and write a program that has two lists \n",
    "#l1 = [1,2,3,4] l2 = [10,20,30,40]\n",
    "#And converts them to a dictionary d containing { 1:10,2:20 …….}\n",
    "res=dict()\n",
    "l1=[1,2,3,4]\n",
    "l2=[10,20,30,40]\n",
    "\n",
    "#res = {l1[i]: l2[i] for i in range(len(l1))} \n",
    "res=dict(zip(l1,l2))\n",
    "# Printing resultant dictionary  \n",
    "print (\"Resultant dictionary is : \" +  str(res)) \n",
    "\n"
   ]
  },
  {
   "cell_type": "code",
   "execution_count": 32,
   "metadata": {},
   "outputs": [
    {
     "name": "stdout",
     "output_type": "stream",
     "text": [
      "Resultant dictionary is : {'A': 65, 'B': 66, 'C': 67, 'D': 68, 'E': 69, 'F': 70, 'G': 71, 'H': 72, 'I': 73, 'J': 74, 'K': 75, 'L': 76, 'M': 77, 'N': 78, 'O': 79, 'P': 80, 'Q': 81, 'R': 82, 'S': 83, 'T': 84, 'U': 85, 'V': 86, 'W': 87, 'X': 88, 'Y': 89, 'Z': 90}\n"
     ]
    }
   ],
   "source": [
    "#Use range based for loop to store all upper case alphabets and their corresponding ASCII values in the dictionary d.\n",
    "d=dict()\n",
    " \n",
    "d = {chr(c): c  for c in range(65, 91)} \n",
    "  \n",
    "# Printing resultant dictionary  \n",
    "print (\"Resultant dictionary is : \" +  str(d)) \n",
    "\n"
   ]
  },
  {
   "cell_type": "code",
   "execution_count": 50,
   "metadata": {},
   "outputs": [
    {
     "name": "stdout",
     "output_type": "stream",
     "text": [
      "enter single digit : 3\n",
      "Three\n",
      "dict_keys(['0', '1', '2', '3', '4', '5', '6', '7', '8', '9'])\n",
      "dict_values(['Zero', 'One', 'Two', 'Three', 'Four', 'Five', 'Six', 'Seven', 'Eight', 'Nine'])\n",
      "('0', 'Zero')\n",
      "('1', 'One')\n",
      "('2', 'Two')\n",
      "('3', 'Three')\n",
      "('4', 'Four')\n",
      "('5', 'Five')\n",
      "('6', 'Six')\n",
      "('7', 'Seven')\n",
      "('8', 'Eight')\n",
      "('9', 'Nine')\n"
     ]
    }
   ],
   "source": [
    "#Create a mapping of number to word from 0-9.\n",
    "\n",
    "d={'0':'Zero','1':'One','2':'Two','3':'Three','4':'Four','5':'Five','6':'Six','7':'Seven','8':'Eight','9':'Nine'}\n",
    "\n",
    "n=input(\"enter single digit : \")\n",
    "print(d[n])\n",
    "print(d.keys()) \n",
    "print(d.values()) \n",
    "for pair in d.items():\n",
    "#Iterate through contents of `a_dictionary`\n",
    "\n",
    "     print(pair)"
   ]
  },
  {
   "cell_type": "code",
   "execution_count": 53,
   "metadata": {},
   "outputs": [
    {
     "name": "stdout",
     "output_type": "stream",
     "text": [
      "{'A': 'Apple', 'B': 'Ball', 'C': 'Cat', 'D': 'Dog'}\n",
      "{'A': 'Apple', 'C': 'Cat'}\n"
     ]
    }
   ],
   "source": [
    "l1=['A','B','C','D']\n",
    "l2=['Apple','Ball','Cat','Dog']\n",
    "d1=dict(zip(l1,l2))\n",
    "print(d1)\n",
    "d2=dict(list(d1.items())[::2])\n",
    "print(d2)"
   ]
  },
  {
   "cell_type": "code",
   "execution_count": 65,
   "metadata": {},
   "outputs": [
    {
     "name": "stdout",
     "output_type": "stream",
     "text": [
      "enter a string aindrila\n",
      "Final:  {'a': 2, 'e': 0, 'i': 2, 'o': 0, 'u': 0}\n"
     ]
    }
   ],
   "source": [
    "     \n",
    "   \n",
    "      \n",
    "# Driver Code \n",
    "vowels = 'aeiou'\n",
    "string = input(\"enter a string \")\n",
    " # casefold has been used to ignore cases \n",
    "string = string.casefold() \n",
    "      \n",
    "    # Forms a dictionary with key as a vowel \n",
    "    # and the value as 0 \n",
    "count = {}.fromkeys(vowels, 0) \n",
    "      \n",
    "    # To count the vowels \n",
    "for i in string: \n",
    "    if i in count: \n",
    "        \n",
    "        count[i] += 1    \n",
    "        \n",
    "\n",
    "        \n",
    "print(\"Final: \", count) "
   ]
  },
  {
   "cell_type": "code",
   "execution_count": 64,
   "metadata": {},
   "outputs": [
    {
     "name": "stdout",
     "output_type": "stream",
     "text": [
      "aindrila\n",
      "Count of all characters in :\n",
      "  {'a': 2, 'i': 2, 'n': 1, 'd': 1, 'r': 1, 'l': 1}\n"
     ]
    }
   ],
   "source": [
    "# initializing string  \n",
    "test_str = input()\n",
    "  \n",
    "# using naive method to get count  \n",
    "# of each element in string  \n",
    "all_freq = {} \n",
    "  \n",
    "for i in test_str: \n",
    "    if i in all_freq: \n",
    "        all_freq[i] += 1\n",
    "    else: \n",
    "        all_freq[i] = 1\n",
    "  \n",
    "# printing result  \n",
    "print (\"Count of all characters in :\\n \",  str(all_freq)) \n"
   ]
  },
  {
   "cell_type": "code",
   "execution_count": 89,
   "metadata": {},
   "outputs": [
    {
     "name": "stdout",
     "output_type": "stream",
     "text": [
      "Frequency of  javascript is : 2\n",
      "Frequency of  php is : 2\n",
      "Frequency of  python is : 3\n",
      "Frequency of  csharp is : 3\n",
      "{'javascript': 2, 'php': 2, 'python': 3, 'csharp': 3}\n"
     ]
    }
   ],
   "source": [
    "#Program: Python program to count frequency of each word in a string\n",
    "input_string ='python csharp javascript php python javascript csharp python csharp php'\n",
    "# break the string into list of words \n",
    "input_string_list = input_string.split() \n",
    "d=dict()\n",
    "# gives set of unique words \n",
    "unique_string_set = set(input_string_list) \n",
    "   \n",
    "for entry in unique_string_set : \n",
    "            print('Frequency of ', entry , 'is :', input_string_list.count(entry)) \n",
    "            d.update( {entry : input_string_list.count(entry)} )\n",
    "\n",
    "    \n",
    "print(d)"
   ]
  },
  {
   "cell_type": "code",
   "execution_count": 3,
   "metadata": {},
   "outputs": [
    {
     "name": "stdout",
     "output_type": "stream",
     "text": [
      "{'Apple': 1, 'Mango': 3, 'Orange': 1, 'Guava': 2}\n",
      "Frequency of  Apple is : 1\n",
      "Frequency of  Mango is : 3\n",
      "Frequency of  Orange is : 1\n",
      "Frequency of  Guava is : 2\n"
     ]
    }
   ],
   "source": [
    "def count(elements): \n",
    "    \n",
    "    if elements[-1] == '.': \n",
    "        elements = elements[0:len(elements) - 1] \n",
    "   \n",
    "   \n",
    "    if elements in dictionary: \n",
    "        dictionary[elements] += 1\n",
    "   \n",
    "   \n",
    "    else: \n",
    "        dictionary.update({elements: 1}) \n",
    "   \n",
    "   \n",
    "# driver input to check the program. \n",
    "   \n",
    "Sentence = \"Apple Mango Orange Mango Guava Guava Mango\"\n",
    "   \n",
    "# Declare a dictionary \n",
    "dictionary = {} \n",
    "   \n",
    "# split all the word of the string. \n",
    "lst = Sentence.split() \n",
    "   \n",
    "# take each word from lst and pass it to the method count. \n",
    "for elements in lst: \n",
    "    count(elements) \n",
    "     \n",
    "# print the keys and its corresponding values. \n",
    "print(dictionary)\n",
    "for key in dictionary:\n",
    "        print('Frequency of ', key , 'is :', dictionary[key]) "
   ]
  },
  {
   "cell_type": "code",
   "execution_count": null,
   "metadata": {},
   "outputs": [],
   "source": []
  }
 ],
 "metadata": {
  "kernelspec": {
   "display_name": "Python 3",
   "language": "python",
   "name": "python3"
  },
  "language_info": {
   "codemirror_mode": {
    "name": "ipython",
    "version": 3
   },
   "file_extension": ".py",
   "mimetype": "text/x-python",
   "name": "python",
   "nbconvert_exporter": "python",
   "pygments_lexer": "ipython3",
   "version": "3.8.3"
  }
 },
 "nbformat": 4,
 "nbformat_minor": 4
}
