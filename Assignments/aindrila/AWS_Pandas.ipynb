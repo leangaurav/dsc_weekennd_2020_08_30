{
 "cells": [
  {
   "cell_type": "markdown",
   "metadata": {},
   "source": [
    "### Description\n",
    "\n",
    "**Airport**: The IATA airport code of the selected airport.  \n",
    "**Terminal**: Terminal(s) associated with the airport selected.  \n",
    "**Date**: Arrival Date(s) of flights associated with the airport/terminal/date range selected.  \n",
    "**Hour**: Hour(s) of arriving flights during a 24 hour time period for the airport/terminal selected/date range selected.  \n",
    "**U.S. Citizen Wait Times**:\n",
    "\n",
    "    Average:The average wait time for all U.S. Citizen passengers on flights arriving in the one hour increment.\n",
    "    Max:The highest wait time for all U.S. Citizen passengers on a flight arriving in the one hour increment.\n",
    "\n",
    "**Non U.S. Citizen Wait Times**:\n",
    "\n",
    "    Average:The average wait time for all Non U.S. Citizen passengers on flights arriving in the one hour increment.\n",
    "    Max:The highest wait time for all Non U.S. Citizen passengers on a flight arriving in the one hour increment.\n",
    "\n",
    "**Wait Times**:\n",
    "\n",
    "    Average:The average wait time for all passengers on flights arriving in the one hour increment.\n",
    "    Max:The highest wait time for any passenger on a flight arriving in the one hour increment.\n",
    "\n",
    "**Number of Passengers Time Interval**:\n",
    "\n",
    "    0-15:The actual number of passengers on flights which arrived in the selected hour who were processed in (0-15) minutes.\n",
    "    16-30:The actual number of passengers on flights which arrived in the selected hour who were processed in (16-30) minutes.\n",
    "    31-45:The actual number of passengers on flights which arrived in the selected hour who were processed in (31-45) minutes.\n",
    "    46-60:The actual number of passengers on flights which arrived in the selected hour who were processed in (46-60) minutes.\n",
    "    61-90:The actual number of passengers on flights which arrived in the selected hour who were processed in (61-90) minutes.\n",
    "    91-120:The actual number of passengers on flights which arrived in the selected hour who were processed in (91-120) minutes.\n",
    "    121Plus:The actual number of passengers on flights which arrived in the selected hour who were processed in (121 Plus) minutes.\n",
    "\n",
    "**Excluded**:The actual number of passengers on flights which arrived in the selected hour who were excluded from wait time reporting.  \n",
    "**Total**:Total number of passengers aboard arriving flights during the one hour increment.  \n",
    "**Flights**:Number of flights arriving during the time period.  \n",
    "**Booths**:Number of staffed primary inspection booths open to process flights which arrived during the selected hour.   \n"
   ]
  },
  {
   "cell_type": "code",
   "execution_count": null,
   "metadata": {},
   "outputs": [],
   "source": []
  },
  {
   "cell_type": "markdown",
   "metadata": {},
   "source": [
    "### Problems\n",
    "- read dataset and convert column headers to correct format (the first  4 rows are headers, but not all rows contain column names)\n",
    "- check datatype of each column\n",
    "- find out columns which have na values\n",
    "- check if there are any unique values in first two columns\n",
    "- based on above, are these two columns userful ?   \n",
    "  \n",
    "  \n",
    "- check if all hour values are present or not\n",
    "- drop the upper bound of  hour column\n",
    "  Ex: replace  0100 - 0200 with 0100 ...\n",
    "- check that hour values lie in range 0-2300 or not\n",
    "- convert hour column from string type to datetime type. (If this doesn't work out easily, then first solve next problem)\n",
    "- check that length of each hour value is 4, if  not, check why and fix it and then check again   \n",
    "  \n",
    "  \n",
    "- convert Date column to datetime type\n",
    "- check data types now\n",
    "- replace Hours with only time part and Date column with only date part (both should  be converted to datetime type before this)\n",
    "- check data types again\n",
    "- merge date and hour column into a new column date_time (type of date_time should be datetime not str)\n",
    "                                                          "
   ]
  },
  {
   "cell_type": "code",
   "execution_count": 1,
   "metadata": {},
   "outputs": [
    {
     "name": "stdout",
     "output_type": "stream",
     "text": [
      "                Airport           Terminal                 Date  \\\n",
      "     Unnamed: 0_level_1 Unnamed: 1_level_1   Unnamed: 2_level_1   \n",
      "     Unnamed: 0_level_2 Unnamed: 1_level_2   Unnamed: 2_level_2   \n",
      "     Unnamed: 0_level_3 Unnamed: 1_level_3   Unnamed: 2_level_3   \n",
      "0                   ORD         Terminal 5  2017-01-01 00:00:00   \n",
      "1                   ORD         Terminal 5  2017-01-01 00:00:00   \n",
      "2                   ORD         Terminal 5  2017-01-01 00:00:00   \n",
      "3                   ORD         Terminal 5  2017-01-01 00:00:00   \n",
      "4                   ORD         Terminal 5  2017-01-01 00:00:00   \n",
      "...                 ...                ...                  ...   \n",
      "6699                ORD         Terminal 5           12/31/2017   \n",
      "6700                ORD         Terminal 5           12/31/2017   \n",
      "6701                ORD         Terminal 5           12/31/2017   \n",
      "6702                ORD         Terminal 5           12/31/2017   \n",
      "6703                ORD         Terminal 5           12/31/2017   \n",
      "\n",
      "                   Hour       U.S. Citizen                     \\\n",
      "     Unnamed: 3_level_1 Unnamed: 4_level_1 Unnamed: 5_level_1   \n",
      "     Unnamed: 3_level_2       Average Wait           Max Wait   \n",
      "     Unnamed: 3_level_3               Time               Time   \n",
      "0           0300 - 0400                  0                  0   \n",
      "1           0400 - 0500                 18                 51   \n",
      "2           0600 - 0700                 11                 49   \n",
      "3           0700 - 0800                  7                 24   \n",
      "4           0800 - 0900                  5                 25   \n",
      "...                 ...                ...                ...   \n",
      "6699        1800 - 1900                 16                 47   \n",
      "6700        1900 - 2000                  7                 23   \n",
      "6701        2000 - 2100                  7                 18   \n",
      "6702        2100 - 2200                 28                 39   \n",
      "6703        2300 - 0000                  7                 25   \n",
      "\n",
      "       Non U.S. Citizen                             All           ...  \\\n",
      "     Unnamed: 6_level_1 Unnamed: 7_level_1   Wait Times           ...   \n",
      "           Average Wait           Max Wait Average Wait Max Wait  ...   \n",
      "                   Time               Time         Time     Time  ...   \n",
      "0                     0                  0            0        0  ...   \n",
      "1                    28                 51           20       51  ...   \n",
      "2                    27                 49           20       49  ...   \n",
      "3                    12                 26           10       26  ...   \n",
      "4                    13                 37           10       37  ...   \n",
      "...                 ...                ...          ...      ...  ...   \n",
      "6699                 16                 48           16       48  ...   \n",
      "6700                  9                 23            7       23  ...   \n",
      "6701                  8                 18            7       18  ...   \n",
      "6702                 31                 39           28       39  ...   \n",
      "6703                 11                 25            8       25  ...   \n",
      "\n",
      "                                                             \\\n",
      "     Number Of Passengers Time Interval                       \n",
      "                                  16-30               31-45   \n",
      "                    Unnamed: 11_level_3 Unnamed: 12_level_3   \n",
      "0                                     0                   0   \n",
      "1                                   160                  60   \n",
      "2                                    81                  64   \n",
      "3                                    88                   0   \n",
      "4                                   121                  16   \n",
      "...                                 ...                 ...   \n",
      "6699                                506                 148   \n",
      "6700                                 21                   0   \n",
      "6701                                 25                   0   \n",
      "6702                                119                  38   \n",
      "6703                                 66                   0   \n",
      "\n",
      "                                                                  \\\n",
      "                                                                   \n",
      "                   46-60               61-90              91-120   \n",
      "     Unnamed: 13_level_3 Unnamed: 14_level_3 Unnamed: 15_level_3   \n",
      "0                      0                   0                   0   \n",
      "1                      8                   0                   0   \n",
      "2                     19                   0                   0   \n",
      "3                      0                   0                   0   \n",
      "4                      0                   0                   0   \n",
      "...                  ...                 ...                 ...   \n",
      "6699                   9                   0                   0   \n",
      "6700                   0                   0                   0   \n",
      "6701                   0                   0                   0   \n",
      "6702                   0                   0                   0   \n",
      "6703                   0                   0                   0   \n",
      "\n",
      "                                                                  \\\n",
      "                                                                   \n",
      "                120 plus            Excluded               Total   \n",
      "     Unnamed: 16_level_3 Unnamed: 17_level_3 Unnamed: 18_level_3   \n",
      "0                      0                   7                   7   \n",
      "1                      0                  13                 362   \n",
      "2                      0                  10                 328   \n",
      "3                      0                  10                 370   \n",
      "4                      0                  11                 446   \n",
      "...                  ...                 ...                 ...   \n",
      "6699                   0                  56                1405   \n",
      "6700                   0                  10                 284   \n",
      "6701                   0                  15                 427   \n",
      "6702                   0                   6                 167   \n",
      "6703                   0                  18                 451   \n",
      "\n",
      "                                              \n",
      "                                              \n",
      "                 Flights              Booths  \n",
      "     Unnamed: 19_level_3 Unnamed: 20_level_3  \n",
      "0                      1                   0  \n",
      "1                      3                  10  \n",
      "2                      1                  10  \n",
      "3                      2                  12  \n",
      "4                      2                  12  \n",
      "...                  ...                 ...  \n",
      "6699                   9                  17  \n",
      "6700                   1                  19  \n",
      "6701                   2                  14  \n",
      "6702                   1                   3  \n",
      "6703                   3                   8  \n",
      "\n",
      "[6704 rows x 21 columns]\n",
      "MultiIndex([(         'Airport',                 'Unnamed: 0_level_1', ...),\n",
      "            (        'Terminal',                 'Unnamed: 1_level_1', ...),\n",
      "            (            'Date',                 'Unnamed: 2_level_1', ...),\n",
      "            (            'Hour',                 'Unnamed: 3_level_1', ...),\n",
      "            (    'U.S. Citizen',                 'Unnamed: 4_level_1', ...),\n",
      "            (    'U.S. Citizen',                 'Unnamed: 5_level_1', ...),\n",
      "            ('Non U.S. Citizen',                 'Unnamed: 6_level_1', ...),\n",
      "            ('Non U.S. Citizen',                 'Unnamed: 7_level_1', ...),\n",
      "            (             'All',                         'Wait Times', ...),\n",
      "            (             'All',                         'Wait Times', ...),\n",
      "            (             'All', 'Number Of Passengers Time Interval', ...),\n",
      "            (             'All', 'Number Of Passengers Time Interval', ...),\n",
      "            (             'All', 'Number Of Passengers Time Interval', ...),\n",
      "            (             'All', 'Number Of Passengers Time Interval', ...),\n",
      "            (             'All', 'Number Of Passengers Time Interval', ...),\n",
      "            (             'All', 'Number Of Passengers Time Interval', ...),\n",
      "            (             'All', 'Number Of Passengers Time Interval', ...),\n",
      "            (             'All', 'Number Of Passengers Time Interval', ...),\n",
      "            (             'All', 'Number Of Passengers Time Interval', ...),\n",
      "            (             'All', 'Number Of Passengers Time Interval', ...),\n",
      "            (             'All', 'Number Of Passengers Time Interval', ...)],\n",
      "           )\n"
     ]
    }
   ],
   "source": [
    "#read dataset and convert column headers to correct format \n",
    "#(the first 4 rows are headers, but not all rows contain column names)\n",
    "\n",
    "import pandas as pd\n",
    "import numpy as np\n",
    "file_loc = \"AWT.xls\"\n",
    "#aiir = pd.read_excel(file_loc, index_col=None, na_values=['NA'], usecols = \"A:U\")\n",
    "df_dict = pd.read_excel(file_loc, header=[0,1,2,3],sheet_name='ExcelSheetName')\n",
    "print(df_dict)\n",
    "print(df_dict.columns)\n",
    "#aiir = pd.concat(df_dict.values(), axis=0)\n"
   ]
  },
  {
   "cell_type": "code",
   "execution_count": 2,
   "metadata": {},
   "outputs": [
    {
     "data": {
      "text/plain": [
       "Index([   ('Airport', 'Unnamed: 0_level_1', 'Unnamed: 0_level_2', 'Unnamed: 0_level_3'),\n",
       "         ('Terminal', 'Unnamed: 1_level_1', 'Unnamed: 1_level_2', 'Unnamed: 1_level_3'),\n",
       "             ('Date', 'Unnamed: 2_level_1', 'Unnamed: 2_level_2', 'Unnamed: 2_level_3'),\n",
       "             ('Hour', 'Unnamed: 3_level_1', 'Unnamed: 3_level_2', 'Unnamed: 3_level_3'),\n",
       "                         ('U.S. Citizen', 'Unnamed: 4_level_1', 'Average Wait', 'Time'),\n",
       "                             ('U.S. Citizen', 'Unnamed: 5_level_1', 'Max Wait', 'Time'),\n",
       "                     ('Non U.S. Citizen', 'Unnamed: 6_level_1', 'Average Wait', 'Time'),\n",
       "                         ('Non U.S. Citizen', 'Unnamed: 7_level_1', 'Max Wait', 'Time'),\n",
       "                                          ('All', 'Wait Times', 'Average Wait', 'Time'),\n",
       "                                              ('All', 'Wait Times', 'Max Wait', 'Time'),\n",
       "           ('All', 'Number Of Passengers Time Interval', '0-15', 'Unnamed: 10_level_3'),\n",
       "          ('All', 'Number Of Passengers Time Interval', '16-30', 'Unnamed: 11_level_3'),\n",
       "          ('All', 'Number Of Passengers Time Interval', '31-45', 'Unnamed: 12_level_3'),\n",
       "          ('All', 'Number Of Passengers Time Interval', '46-60', 'Unnamed: 13_level_3'),\n",
       "          ('All', 'Number Of Passengers Time Interval', '61-90', 'Unnamed: 14_level_3'),\n",
       "         ('All', 'Number Of Passengers Time Interval', '91-120', 'Unnamed: 15_level_3'),\n",
       "       ('All', 'Number Of Passengers Time Interval', '120 plus', 'Unnamed: 16_level_3'),\n",
       "       ('All', 'Number Of Passengers Time Interval', 'Excluded', 'Unnamed: 17_level_3'),\n",
       "          ('All', 'Number Of Passengers Time Interval', 'Total', 'Unnamed: 18_level_3'),\n",
       "        ('All', 'Number Of Passengers Time Interval', 'Flights', 'Unnamed: 19_level_3'),\n",
       "         ('All', 'Number Of Passengers Time Interval', 'Booths', 'Unnamed: 20_level_3')],\n",
       "      dtype='object')"
      ]
     },
     "execution_count": 2,
     "metadata": {},
     "output_type": "execute_result"
    }
   ],
   "source": [
    "\n",
    "#df_awt = pd.read_excel(file_loc,sheet_name='ExcelSheetName')\n",
    "df_dict.columns.to_flat_index()"
   ]
  },
  {
   "cell_type": "code",
   "execution_count": 3,
   "metadata": {},
   "outputs": [
    {
     "name": "stdout",
     "output_type": "stream",
     "text": [
      "Airport           Unnamed: 0_level_1                  Unnamed: 0_level_2  Unnamed: 0_level_3     object\n",
      "Terminal          Unnamed: 1_level_1                  Unnamed: 1_level_2  Unnamed: 1_level_3     object\n",
      "Date              Unnamed: 2_level_1                  Unnamed: 2_level_2  Unnamed: 2_level_3     object\n",
      "Hour              Unnamed: 3_level_1                  Unnamed: 3_level_2  Unnamed: 3_level_3     object\n",
      "U.S. Citizen      Unnamed: 4_level_1                  Average Wait        Time                    int64\n",
      "                  Unnamed: 5_level_1                  Max Wait            Time                    int64\n",
      "Non U.S. Citizen  Unnamed: 6_level_1                  Average Wait        Time                    int64\n",
      "                  Unnamed: 7_level_1                  Max Wait            Time                    int64\n",
      "All               Wait Times                          Average Wait        Time                    int64\n",
      "                                                      Max Wait            Time                    int64\n",
      "                  Number Of Passengers Time Interval  0-15                Unnamed: 10_level_3     int64\n",
      "                                                      16-30               Unnamed: 11_level_3     int64\n",
      "                                                      31-45               Unnamed: 12_level_3     int64\n",
      "                                                      46-60               Unnamed: 13_level_3     int64\n",
      "                                                      61-90               Unnamed: 14_level_3     int64\n",
      "                                                      91-120              Unnamed: 15_level_3     int64\n",
      "                                                      120 plus            Unnamed: 16_level_3     int64\n",
      "                                                      Excluded            Unnamed: 17_level_3     int64\n",
      "                                                      Total               Unnamed: 18_level_3     int64\n",
      "                                                      Flights             Unnamed: 19_level_3     int64\n",
      "                                                      Booths              Unnamed: 20_level_3     int64\n",
      "dtype: object\n"
     ]
    }
   ],
   "source": [
    "print(df_dict.dtypes)"
   ]
  },
  {
   "cell_type": "code",
   "execution_count": 4,
   "metadata": {},
   "outputs": [
    {
     "name": "stdout",
     "output_type": "stream",
     "text": [
      "                Airport           Terminal                 Date  \\\n",
      "     Unnamed: 0_level_1 Unnamed: 1_level_1   Unnamed: 2_level_1   \n",
      "     Unnamed: 0_level_2 Unnamed: 1_level_2   Unnamed: 2_level_2   \n",
      "     Unnamed: 0_level_3 Unnamed: 1_level_3   Unnamed: 2_level_3   \n",
      "0                   ORD         Terminal 5  2017-01-01 00:00:00   \n",
      "1                   ORD         Terminal 5  2017-01-01 00:00:00   \n",
      "2                   ORD         Terminal 5  2017-01-01 00:00:00   \n",
      "3                   ORD         Terminal 5  2017-01-01 00:00:00   \n",
      "4                   ORD         Terminal 5  2017-01-01 00:00:00   \n",
      "...                 ...                ...                  ...   \n",
      "6699                ORD         Terminal 5           12/31/2017   \n",
      "6700                ORD         Terminal 5           12/31/2017   \n",
      "6701                ORD         Terminal 5           12/31/2017   \n",
      "6702                ORD         Terminal 5           12/31/2017   \n",
      "6703                ORD         Terminal 5           12/31/2017   \n",
      "\n",
      "                   Hour       U.S. Citizen                     \\\n",
      "     Unnamed: 3_level_1 Unnamed: 4_level_1 Unnamed: 5_level_1   \n",
      "     Unnamed: 3_level_2       Average Wait           Max Wait   \n",
      "     Unnamed: 3_level_3               Time               Time   \n",
      "0           0300 - 0400                NaN                NaN   \n",
      "1           0400 - 0500               18.0               51.0   \n",
      "2           0600 - 0700               11.0               49.0   \n",
      "3           0700 - 0800                7.0               24.0   \n",
      "4           0800 - 0900                5.0               25.0   \n",
      "...                 ...                ...                ...   \n",
      "6699        1800 - 1900               16.0               47.0   \n",
      "6700        1900 - 2000                7.0               23.0   \n",
      "6701        2000 - 2100                7.0               18.0   \n",
      "6702        2100 - 2200               28.0               39.0   \n",
      "6703        2300 - 0000                7.0               25.0   \n",
      "\n",
      "       Non U.S. Citizen                             All           ...  \\\n",
      "     Unnamed: 6_level_1 Unnamed: 7_level_1   Wait Times           ...   \n",
      "           Average Wait           Max Wait Average Wait Max Wait  ...   \n",
      "                   Time               Time         Time     Time  ...   \n",
      "0                   NaN                NaN          NaN      NaN  ...   \n",
      "1                  28.0               51.0         20.0     51.0  ...   \n",
      "2                  27.0               49.0         20.0     49.0  ...   \n",
      "3                  12.0               26.0         10.0     26.0  ...   \n",
      "4                  13.0               37.0         10.0     37.0  ...   \n",
      "...                 ...                ...          ...      ...  ...   \n",
      "6699               16.0               48.0         16.0     48.0  ...   \n",
      "6700                9.0               23.0          7.0     23.0  ...   \n",
      "6701                8.0               18.0          7.0     18.0  ...   \n",
      "6702               31.0               39.0         28.0     39.0  ...   \n",
      "6703               11.0               25.0          8.0     25.0  ...   \n",
      "\n",
      "                                                             \\\n",
      "     Number Of Passengers Time Interval                       \n",
      "                                  16-30               31-45   \n",
      "                    Unnamed: 11_level_3 Unnamed: 12_level_3   \n",
      "0                                   NaN                 NaN   \n",
      "1                                 160.0                60.0   \n",
      "2                                  81.0                64.0   \n",
      "3                                  88.0                 NaN   \n",
      "4                                 121.0                16.0   \n",
      "...                                 ...                 ...   \n",
      "6699                              506.0               148.0   \n",
      "6700                               21.0                 NaN   \n",
      "6701                               25.0                 NaN   \n",
      "6702                              119.0                38.0   \n",
      "6703                               66.0                 NaN   \n",
      "\n",
      "                                                                  \\\n",
      "                                                                   \n",
      "                   46-60               61-90              91-120   \n",
      "     Unnamed: 13_level_3 Unnamed: 14_level_3 Unnamed: 15_level_3   \n",
      "0                    NaN                 NaN                 NaN   \n",
      "1                    8.0                 NaN                 NaN   \n",
      "2                   19.0                 NaN                 NaN   \n",
      "3                    NaN                 NaN                 NaN   \n",
      "4                    NaN                 NaN                 NaN   \n",
      "...                  ...                 ...                 ...   \n",
      "6699                 9.0                 NaN                 NaN   \n",
      "6700                 NaN                 NaN                 NaN   \n",
      "6701                 NaN                 NaN                 NaN   \n",
      "6702                 NaN                 NaN                 NaN   \n",
      "6703                 NaN                 NaN                 NaN   \n",
      "\n",
      "                                                                  \\\n",
      "                                                                   \n",
      "                120 plus            Excluded               Total   \n",
      "     Unnamed: 16_level_3 Unnamed: 17_level_3 Unnamed: 18_level_3   \n",
      "0                    NaN                 7.0                   7   \n",
      "1                    NaN                13.0                 362   \n",
      "2                    NaN                10.0                 328   \n",
      "3                    NaN                10.0                 370   \n",
      "4                    NaN                11.0                 446   \n",
      "...                  ...                 ...                 ...   \n",
      "6699                 NaN                56.0                1405   \n",
      "6700                 NaN                10.0                 284   \n",
      "6701                 NaN                15.0                 427   \n",
      "6702                 NaN                 6.0                 167   \n",
      "6703                 NaN                18.0                 451   \n",
      "\n",
      "                                              \n",
      "                                              \n",
      "                 Flights              Booths  \n",
      "     Unnamed: 19_level_3 Unnamed: 20_level_3  \n",
      "0                      1                 NaN  \n",
      "1                      3                10.0  \n",
      "2                      1                10.0  \n",
      "3                      2                12.0  \n",
      "4                      2                12.0  \n",
      "...                  ...                 ...  \n",
      "6699                   9                17.0  \n",
      "6700                   1                19.0  \n",
      "6701                   2                14.0  \n",
      "6702                   1                 3.0  \n",
      "6703                   3                 8.0  \n",
      "\n",
      "[6704 rows x 21 columns]\n",
      " \n",
      "Count total NaN at each column in a DataFrame : \n",
      "\n",
      " Airport           Unnamed: 0_level_1                  Unnamed: 0_level_2  Unnamed: 0_level_3        0\n",
      "Terminal          Unnamed: 1_level_1                  Unnamed: 1_level_2  Unnamed: 1_level_3        0\n",
      "Date              Unnamed: 2_level_1                  Unnamed: 2_level_2  Unnamed: 2_level_3        0\n",
      "Hour              Unnamed: 3_level_1                  Unnamed: 3_level_2  Unnamed: 3_level_3        0\n",
      "U.S. Citizen      Unnamed: 4_level_1                  Average Wait        Time                     57\n",
      "                  Unnamed: 5_level_1                  Max Wait            Time                      5\n",
      "Non U.S. Citizen  Unnamed: 6_level_1                  Average Wait        Time                     23\n",
      "                  Unnamed: 7_level_1                  Max Wait            Time                     19\n",
      "All               Wait Times                          Average Wait        Time                     10\n",
      "                                                      Max Wait            Time                      2\n",
      "                  Number Of Passengers Time Interval  0-15                Unnamed: 10_level_3       6\n",
      "                                                      16-30               Unnamed: 11_level_3     320\n",
      "                                                      31-45               Unnamed: 12_level_3    2060\n",
      "                                                      46-60               Unnamed: 13_level_3    4011\n",
      "                                                      61-90               Unnamed: 14_level_3    5184\n",
      "                                                      91-120              Unnamed: 15_level_3    6300\n",
      "                                                      120 plus            Unnamed: 16_level_3    6601\n",
      "                                                      Excluded            Unnamed: 17_level_3      11\n",
      "                                                      Total               Unnamed: 18_level_3       0\n",
      "                                                      Flights             Unnamed: 19_level_3       0\n",
      "                                                      Booths              Unnamed: 20_level_3       3\n",
      "dtype: int64\n"
     ]
    }
   ],
   "source": [
    "df=df_dict.replace(0,np.NaN)\n",
    "print(df)\n",
    "\n",
    "  \n",
    "# Count total NaN at each column in a DataFrame \n",
    "print(\" \\nCount total NaN at each column in a DataFrame : \\n\\n\", df.isna().sum())"
   ]
  },
  {
   "cell_type": "code",
   "execution_count": 5,
   "metadata": {},
   "outputs": [
    {
     "name": "stdout",
     "output_type": "stream",
     "text": [
      "['ORD' 'Terminal 5']\n"
     ]
    }
   ],
   "source": [
    "#check if there are any unique values in first two columns\n",
    "column_values = df[['Airport', 'Terminal']].values.ravel()\n",
    "unique_values = pd.unique(column_values)\n",
    "print(unique_values)\n"
   ]
  },
  {
   "cell_type": "code",
   "execution_count": 6,
   "metadata": {},
   "outputs": [
    {
     "name": "stdout",
     "output_type": "stream",
     "text": [
      "Unnamed: 3_level_1  Unnamed: 3_level_2  Unnamed: 3_level_3    0\n",
      "dtype: int64\n"
     ]
    }
   ],
   "source": [
    "#check if all hour values are present or not\n",
    "\n",
    "bool_series = pd.isnull(df[\"Hour\"])\n",
    "print(bool_series.sum())"
   ]
  },
  {
   "cell_type": "code",
   "execution_count": 31,
   "metadata": {},
   "outputs": [
    {
     "name": "stdout",
     "output_type": "stream",
     "text": [
      "     Airport    Terminal                 Date   Hour  U.S. Citizen Unnamed: 5  \\\n",
      "0        NaN         NaN                  NaN    NaN           NaN        NaN   \n",
      "1        NaN         NaN                  NaN    NaN  Average Wait   Max Wait   \n",
      "2        NaN         NaN                  NaN    NaN          Time       Time   \n",
      "3        ORD  Terminal 5  2017-01-01 00:00:00  0300              0          0   \n",
      "4        ORD  Terminal 5  2017-01-01 00:00:00  0400             18         51   \n",
      "...      ...         ...                  ...    ...           ...        ...   \n",
      "6702     ORD  Terminal 5           12/31/2017  1800             16         47   \n",
      "6703     ORD  Terminal 5           12/31/2017  1900              7         23   \n",
      "6704     ORD  Terminal 5           12/31/2017  2000              7         18   \n",
      "6705     ORD  Terminal 5           12/31/2017  2100             28         39   \n",
      "6706     ORD  Terminal 5           12/31/2017  2300              7         25   \n",
      "\n",
      "     Non U.S. Citizen Unnamed: 7           All Unnamed: 9  ... Unnamed: 11  \\\n",
      "0                 NaN        NaN    Wait Times        NaN  ...         NaN   \n",
      "1        Average Wait   Max Wait  Average Wait   Max Wait  ...       16-30   \n",
      "2                Time       Time          Time       Time  ...         NaN   \n",
      "3                   0          0             0          0  ...           0   \n",
      "4                  28         51            20         51  ...         160   \n",
      "...               ...        ...           ...        ...  ...         ...   \n",
      "6702               16         48            16         48  ...         506   \n",
      "6703                9         23             7         23  ...          21   \n",
      "6704                8         18             7         18  ...          25   \n",
      "6705               31         39            28         39  ...         119   \n",
      "6706               11         25             8         25  ...          66   \n",
      "\n",
      "     Unnamed: 12 Unnamed: 13 Unnamed: 14 Unnamed: 15 Unnamed: 16 Unnamed: 17  \\\n",
      "0            NaN         NaN         NaN         NaN         NaN         NaN   \n",
      "1          31-45       46-60       61-90      91-120    120 plus    Excluded   \n",
      "2            NaN         NaN         NaN         NaN         NaN         NaN   \n",
      "3              0           0           0           0           0           7   \n",
      "4             60           8           0           0           0          13   \n",
      "...          ...         ...         ...         ...         ...         ...   \n",
      "6702         148           9           0           0           0          56   \n",
      "6703           0           0           0           0           0          10   \n",
      "6704           0           0           0           0           0          15   \n",
      "6705          38           0           0           0           0           6   \n",
      "6706           0           0           0           0           0          18   \n",
      "\n",
      "     Unnamed: 18 Unnamed: 19 Unnamed: 20  \n",
      "0            NaN         NaN         NaN  \n",
      "1          Total     Flights      Booths  \n",
      "2            NaN         NaN         NaN  \n",
      "3              7           1           0  \n",
      "4            362           3          10  \n",
      "...          ...         ...         ...  \n",
      "6702        1405           9          17  \n",
      "6703         284           1          19  \n",
      "6704         427           2          14  \n",
      "6705         167           1           3  \n",
      "6706         451           3           8  \n",
      "\n",
      "[6707 rows x 21 columns]\n",
      "object\n"
     ]
    }
   ],
   "source": [
    "#drop the upper bound of hour column Ex: replace 0100 - 0200 with 0100 ...\n",
    "import pandas as pd\n",
    "import numpy as np\n",
    "file_loc = \"AWT.xls\"\n",
    "#aiir = pd.read_excel(file_loc, index_col=None, na_values=['NA'], usecols = \"A:U\")\n",
    "df_dict = pd.read_excel(file_loc,sheet_name='ExcelSheetName')\n",
    "df_dict['Hour'] = df_dict['Hour'].str.split('-').str[0]\n",
    "print (df_dict)\n",
    "df_dict['Hour'].astype(str)\n",
    "print(df_dict['Hour'].dtype)"
   ]
  },
  {
   "cell_type": "code",
   "execution_count": 37,
   "metadata": {},
   "outputs": [
    {
     "name": "stdout",
     "output_type": "stream",
     "text": [
      "(6707,)\n"
     ]
    }
   ],
   "source": [
    "#check that hour values lie in range 0-2300 or not\n",
    "import pandas as pd\n",
    "import numpy as np\n",
    "file_loc = \"AWT.xls\"\n",
    "#aiir = pd.read_excel(file_loc, index_col=None, na_values=['NA'], usecols = \"A:U\")\n",
    "fd = pd.read_excel(file_loc,sheet_name='ExcelSheetName')\n",
    "df2 = fd['Hour'].between('0','2300')\n",
    "\n",
    "print(df2.shape)"
   ]
  },
  {
   "cell_type": "code",
   "execution_count": null,
   "metadata": {},
   "outputs": [],
   "source": [
    "#convert hour column from string type to datetime type. (If this doesn't work out easily, then first solve next problem)\n",
    "#check that length of each hour value is 4, if not, check why and fix it and then check again\n"
   ]
  },
  {
   "cell_type": "code",
   "execution_count": 66,
   "metadata": {},
   "outputs": [
    {
     "name": "stdout",
     "output_type": "stream",
     "text": [
      "datetime64[ns]\n",
      "0      NaT\n",
      "1      NaT\n",
      "2      NaT\n",
      "3      NaT\n",
      "4      NaT\n",
      "        ..\n",
      "6702   NaT\n",
      "6703   NaT\n",
      "6704   NaT\n",
      "6705   NaT\n",
      "6706   NaT\n",
      "Name: Hour, Length: 6707, dtype: datetime64[ns]\n"
     ]
    }
   ],
   "source": [
    "df_dict['Hour'] =  pd.to_datetime(df_dict['Hour'],errors='coerce', format='%m%d%Y')\n",
    "print(df_dict['Hour'].dtype)\n",
    "print(df_dict['Hour'])"
   ]
  },
  {
   "cell_type": "code",
   "execution_count": 58,
   "metadata": {},
   "outputs": [
    {
     "name": "stdout",
     "output_type": "stream",
     "text": [
      "0        NaN\n",
      "1        NaN\n",
      "2        NaN\n",
      "3       0300\n",
      "4       0400\n",
      "        ... \n",
      "6702    1800\n",
      "6703    1900\n",
      "6704    2000\n",
      "6705    2100\n",
      "6706    2300\n",
      "Name: Hour, Length: 6707, dtype: object\n"
     ]
    },
    {
     "data": {
      "text/plain": [
       "0       NaN\n",
       "1       NaN\n",
       "2       NaN\n",
       "3       4.0\n",
       "4       4.0\n",
       "       ... \n",
       "6702    4.0\n",
       "6703    4.0\n",
       "6704    4.0\n",
       "6705    4.0\n",
       "6706    4.0\n",
       "Name: Hour, Length: 6707, dtype: float64"
      ]
     },
     "execution_count": 58,
     "metadata": {},
     "output_type": "execute_result"
    }
   ],
   "source": [
    "df_dict['Hour']=df_dict['Hour'].str.rstrip()\n",
    "print(df_dict['Hour'])\n",
    "df_dict['Hour'].str.len()"
   ]
  },
  {
   "cell_type": "code",
   "execution_count": 64,
   "metadata": {},
   "outputs": [
    {
     "name": "stdout",
     "output_type": "stream",
     "text": [
      "datetime64[ns]\n",
      "0      NaT\n",
      "1      NaT\n",
      "2      NaT\n",
      "3      NaT\n",
      "4      NaT\n",
      "        ..\n",
      "6702   NaT\n",
      "6703   NaT\n",
      "6704   NaT\n",
      "6705   NaT\n",
      "6706   NaT\n",
      "Name: Hour, Length: 6707, dtype: datetime64[ns]\n"
     ]
    }
   ],
   "source": []
  },
  {
   "cell_type": "code",
   "execution_count": 50,
   "metadata": {},
   "outputs": [
    {
     "name": "stdout",
     "output_type": "stream",
     "text": [
      "object\n"
     ]
    }
   ],
   "source": [
    "#convert Date column to datetime type\n",
    "#check data types now\n",
    "print(df_dict['Date'].dtype)"
   ]
  },
  {
   "cell_type": "code",
   "execution_count": 60,
   "metadata": {},
   "outputs": [
    {
     "name": "stdout",
     "output_type": "stream",
     "text": [
      "object\n"
     ]
    }
   ],
   "source": [
    "print(df_dict['Hour'].dtype)"
   ]
  },
  {
   "cell_type": "code",
   "execution_count": 76,
   "metadata": {},
   "outputs": [
    {
     "name": "stdout",
     "output_type": "stream",
     "text": [
      "datetime64[ns]\n",
      "0             NaT\n",
      "1             NaT\n",
      "2             NaT\n",
      "3      2017-01-01\n",
      "4      2017-01-01\n",
      "          ...    \n",
      "6702   2017-12-31\n",
      "6703   2017-12-31\n",
      "6704   2017-12-31\n",
      "6705   2017-12-31\n",
      "6706   2017-12-31\n",
      "Name: Date, Length: 6707, dtype: datetime64[ns]\n",
      "0      NaT\n",
      "1      NaT\n",
      "2      NaT\n",
      "3      NaT\n",
      "4      NaT\n",
      "        ..\n",
      "6702   NaT\n",
      "6703   NaT\n",
      "6704   NaT\n",
      "6705   NaT\n",
      "6706   NaT\n",
      "Name: Hour, Length: 6707, dtype: datetime64[ns]\n"
     ]
    }
   ],
   "source": [
    "df_dict['Date'] =  pd.to_datetime(df_dict['Date'])\n",
    "print(df_dict['Date'].dtype)\n",
    "print(df_dict['Date'])\n",
    "print(df_dict['Hour'])"
   ]
  },
  {
   "cell_type": "code",
   "execution_count": null,
   "metadata": {},
   "outputs": [],
   "source": [
    "replace Hours with only time part and Date column with only date part (both should be converted to datetime type before this)\n",
    "check data types again\n",
    "merge date and hour column into a new column date_time (type of date_time should be datetime not str)"
   ]
  },
  {
   "cell_type": "code",
   "execution_count": 71,
   "metadata": {},
   "outputs": [
    {
     "name": "stdout",
     "output_type": "stream",
     "text": [
      "datetime64[ns]\n",
      "datetime64[ns]\n"
     ]
    }
   ],
   "source": [
    "print(df_dict['Date'].dtype)\n",
    "print(df_dict['Hour'].dtype)"
   ]
  },
  {
   "cell_type": "code",
   "execution_count": 75,
   "metadata": {},
   "outputs": [
    {
     "ename": "TypeError",
     "evalue": "unsupported type for timedelta days component: NaTType",
     "output_type": "error",
     "traceback": [
      "\u001b[1;31m---------------------------------------------------------------------------\u001b[0m",
      "\u001b[1;31mTypeError\u001b[0m                                 Traceback (most recent call last)",
      "\u001b[1;32m<ipython-input-75-486a6689ef1c>\u001b[0m in \u001b[0;36m<module>\u001b[1;34m\u001b[0m\n\u001b[0;32m      1\u001b[0m \u001b[1;32mimport\u001b[0m \u001b[0mdatetime\u001b[0m \u001b[1;32mas\u001b[0m \u001b[0mdt\u001b[0m\u001b[1;33m\u001b[0m\u001b[1;33m\u001b[0m\u001b[0m\n\u001b[1;32m----> 2\u001b[1;33m \u001b[0mdf_dict\u001b[0m\u001b[1;33m[\u001b[0m\u001b[1;34m\"date_time\"\u001b[0m\u001b[1;33m]\u001b[0m \u001b[1;33m=\u001b[0m \u001b[0mdf_dict\u001b[0m\u001b[1;33m[\u001b[0m\u001b[1;34m\"Date\"\u001b[0m\u001b[1;33m]\u001b[0m \u001b[1;33m+\u001b[0m \u001b[0mdf_dict\u001b[0m\u001b[1;33m[\u001b[0m\u001b[1;34m\"Hour\"\u001b[0m\u001b[1;33m]\u001b[0m\u001b[1;33m.\u001b[0m\u001b[0mmap\u001b[0m\u001b[1;33m(\u001b[0m\u001b[0mdt\u001b[0m\u001b[1;33m.\u001b[0m\u001b[0mtimedelta\u001b[0m\u001b[1;33m)\u001b[0m\u001b[1;33m\u001b[0m\u001b[1;33m\u001b[0m\u001b[0m\n\u001b[0m",
      "\u001b[1;32mC:\\ProgramData\\Anaconda3\\lib\\site-packages\\pandas\\core\\series.py\u001b[0m in \u001b[0;36mmap\u001b[1;34m(self, arg, na_action)\u001b[0m\n\u001b[0;32m   3628\u001b[0m         \u001b[0mdtype\u001b[0m\u001b[1;33m:\u001b[0m \u001b[0mobject\u001b[0m\u001b[1;33m\u001b[0m\u001b[1;33m\u001b[0m\u001b[0m\n\u001b[0;32m   3629\u001b[0m         \"\"\"\n\u001b[1;32m-> 3630\u001b[1;33m         \u001b[0mnew_values\u001b[0m \u001b[1;33m=\u001b[0m \u001b[0msuper\u001b[0m\u001b[1;33m(\u001b[0m\u001b[1;33m)\u001b[0m\u001b[1;33m.\u001b[0m\u001b[0m_map_values\u001b[0m\u001b[1;33m(\u001b[0m\u001b[0marg\u001b[0m\u001b[1;33m,\u001b[0m \u001b[0mna_action\u001b[0m\u001b[1;33m=\u001b[0m\u001b[0mna_action\u001b[0m\u001b[1;33m)\u001b[0m\u001b[1;33m\u001b[0m\u001b[1;33m\u001b[0m\u001b[0m\n\u001b[0m\u001b[0;32m   3631\u001b[0m         \u001b[1;32mreturn\u001b[0m \u001b[0mself\u001b[0m\u001b[1;33m.\u001b[0m\u001b[0m_constructor\u001b[0m\u001b[1;33m(\u001b[0m\u001b[0mnew_values\u001b[0m\u001b[1;33m,\u001b[0m \u001b[0mindex\u001b[0m\u001b[1;33m=\u001b[0m\u001b[0mself\u001b[0m\u001b[1;33m.\u001b[0m\u001b[0mindex\u001b[0m\u001b[1;33m)\u001b[0m\u001b[1;33m.\u001b[0m\u001b[0m__finalize__\u001b[0m\u001b[1;33m(\u001b[0m\u001b[0mself\u001b[0m\u001b[1;33m)\u001b[0m\u001b[1;33m\u001b[0m\u001b[1;33m\u001b[0m\u001b[0m\n\u001b[0;32m   3632\u001b[0m \u001b[1;33m\u001b[0m\u001b[0m\n",
      "\u001b[1;32mC:\\ProgramData\\Anaconda3\\lib\\site-packages\\pandas\\core\\base.py\u001b[0m in \u001b[0;36m_map_values\u001b[1;34m(self, mapper, na_action)\u001b[0m\n\u001b[0;32m   1143\u001b[0m \u001b[1;33m\u001b[0m\u001b[0m\n\u001b[0;32m   1144\u001b[0m         \u001b[1;31m# mapper is a function\u001b[0m\u001b[1;33m\u001b[0m\u001b[1;33m\u001b[0m\u001b[1;33m\u001b[0m\u001b[0m\n\u001b[1;32m-> 1145\u001b[1;33m         \u001b[0mnew_values\u001b[0m \u001b[1;33m=\u001b[0m \u001b[0mmap_f\u001b[0m\u001b[1;33m(\u001b[0m\u001b[0mvalues\u001b[0m\u001b[1;33m,\u001b[0m \u001b[0mmapper\u001b[0m\u001b[1;33m)\u001b[0m\u001b[1;33m\u001b[0m\u001b[1;33m\u001b[0m\u001b[0m\n\u001b[0m\u001b[0;32m   1146\u001b[0m \u001b[1;33m\u001b[0m\u001b[0m\n\u001b[0;32m   1147\u001b[0m         \u001b[1;32mreturn\u001b[0m \u001b[0mnew_values\u001b[0m\u001b[1;33m\u001b[0m\u001b[1;33m\u001b[0m\u001b[0m\n",
      "\u001b[1;32mpandas\\_libs\\lib.pyx\u001b[0m in \u001b[0;36mpandas._libs.lib.map_infer\u001b[1;34m()\u001b[0m\n",
      "\u001b[1;31mTypeError\u001b[0m: unsupported type for timedelta days component: NaTType"
     ]
    }
   ],
   "source": [
    "import datetime as dt\n",
    "df_dict[\"date_time\"] = df_dict[\"Date\"] + df_dict[\"Hour\"].map(dt.timedelta)"
   ]
  },
  {
   "cell_type": "code",
   "execution_count": null,
   "metadata": {},
   "outputs": [],
   "source": []
  }
 ],
 "metadata": {
  "kernelspec": {
   "display_name": "Python 3",
   "language": "python",
   "name": "python3"
  },
  "language_info": {
   "codemirror_mode": {
    "name": "ipython",
    "version": 3
   },
   "file_extension": ".py",
   "mimetype": "text/x-python",
   "name": "python",
   "nbconvert_exporter": "python",
   "pygments_lexer": "ipython3",
   "version": "3.8.3"
  }
 },
 "nbformat": 4,
 "nbformat_minor": 2
}
