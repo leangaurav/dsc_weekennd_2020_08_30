{
 "cells": [
  {
   "cell_type": "code",
   "execution_count": 6,
   "metadata": {},
   "outputs": [
    {
     "name": "stdout",
     "output_type": "stream",
     "text": [
      "Matrix a : \n",
      " [0 0 0 0 0]\n",
      "int32\n",
      "(5,)\n",
      "4\n"
     ]
    }
   ],
   "source": [
    "#create a numpy array of 5 zeros.\n",
    "#check datatype, itemsize and shape of above\n",
    "import numpy\n",
    "\n",
    "arr =  numpy.zeros(5, dtype = int)  \n",
    "print(\"Matrix a : \\n\", arr)  \n",
    "\n",
    "print(arr.dtype)\n",
    "print(arr.shape)\n",
    "print(arr.itemsize)"
   ]
  },
  {
   "cell_type": "code",
   "execution_count": 8,
   "metadata": {},
   "outputs": [
    {
     "name": "stdout",
     "output_type": "stream",
     "text": [
      "Matrix a : \n",
      " [[1 1 1 1]\n",
      " [1 1 1 1]\n",
      " [1 1 1 1]\n",
      " [1 1 1 1]\n",
      " [1 1 1 1]]\n"
     ]
    }
   ],
   "source": [
    "#create a numpy array of ones of shape (5,4)\n",
    "import numpy\n",
    "\n",
    "arr =  numpy.ones([5,4], dtype = int)  \n",
    "print(\"Matrix a : \\n\", arr)"
   ]
  },
  {
   "cell_type": "code",
   "execution_count": 19,
   "metadata": {},
   "outputs": [
    {
     "name": "stdout",
     "output_type": "stream",
     "text": [
      "Matrix a : \n",
      " [[ 0  1  2  3  4]\n",
      " [ 5  6  7  8  9]\n",
      " [10 11 12 13 14]\n",
      " [15 16 17 18 19]]\n",
      "Matrix a : \n",
      " [[ 0  1  2  3  4]\n",
      " [ 5  6  7  8  9]\n",
      " [10 11 12 13 14]\n",
      " [15 16 17 18 19]]\n",
      "[[  0  10  20  30  40]\n",
      " [ 50  60  70  80  90]\n",
      " [100 110 120 130 140]\n",
      " [150 160 170 180 190]]\n",
      "[ 1  3  5  7  9 11 13 15 17 19]\n",
      "[  0  -2  -4  -6  -8 -10 -12 -14 -16 -18]\n"
     ]
    }
   ],
   "source": [
    "#create a matrix of shape 4,5 with numbers from 1-20\n",
    "#multiply all elements of above array by 10\n",
    "#print odd elements from array\n",
    "import numpy\n",
    "\n",
    "a = numpy.arange(20).reshape(4,5)\n",
    "print(\"Matrix a : \\n\", a)\n",
    "\n",
    "print(\"Matrix a : \\n\", a)\n",
    "print (a * 10)\n",
    "\n",
    "answer = a[a%2==1]\n",
    "print (answer)\n",
    "#replace all even elements by their negative\n",
    "answer = a[a%2==0]*-1\n",
    "print (answer)"
   ]
  },
  {
   "cell_type": "code",
   "execution_count": null,
   "metadata": {},
   "outputs": [],
   "source": [
    "#create a linearly spaced matrix M1 of size 4x4 having values in range 1-16\n",
    "#create a transpose of above matrix call it M2\n",
    "#find sum of above matrix M3 = (M1 + M2)"
   ]
  },
  {
   "cell_type": "code",
   "execution_count": 38,
   "metadata": {},
   "outputs": [
    {
     "name": "stdout",
     "output_type": "stream",
     "text": [
      "[[ 0  1  2  3]\n",
      " [ 4  5  6  7]\n",
      " [ 8  9 10 11]\n",
      " [12 13 14 15]]\n",
      "[[ 0  4  8 12]\n",
      " [ 1  5  9 13]\n",
      " [ 2  6 10 14]\n",
      " [ 3  7 11 15]]\n",
      " matrix M3 = (M1 + M2)\n",
      "M3\n",
      "\n",
      "[[ 0  5 10 15]\n",
      " [ 5 10 15 20]\n",
      " [10 15 20 25]\n",
      " [15 20 25 30]]\n",
      "[[ 0  5 10 15]\n",
      " [ 5 10 15 20]\n",
      " [10 15 20 25]\n",
      " [15 20 25 30]]\n",
      "True\n",
      "M4\n",
      "\n",
      "[[ 0 -3 -6 -9]\n",
      " [ 3  0 -3 -6]\n",
      " [ 6  3  0 -3]\n",
      " [ 9  6  3  0]]\n",
      "[[ 0  3  6  9]\n",
      " [-3  0  3  6]\n",
      " [-6 -3  0  3]\n",
      " [-9 -6 -3  0]]\n",
      "M4 == MT2\n",
      "\n",
      "False\n",
      "M4 == -MT2\n",
      "\n",
      "True\n"
     ]
    }
   ],
   "source": [
    "import numpy as np\n",
    "\n",
    "m1 = np.arange(16).reshape(4,4)\n",
    "print(m1)\n",
    "m2=np.transpose(m1)\n",
    "print(m2)\n",
    "print(\" matrix M3 = (M1 + M2)\")\n",
    "m3=np.add(m1, m2)\n",
    "print(\"M3\\n\")\n",
    "print(m3)\n",
    "\n",
    "#Find Transpose of M3, Call it MT1. Check if M3 == MT1\n",
    "mt1=np.transpose(m3)\n",
    "print(mt1)\n",
    "\n",
    "comparison = mt1 == m3\n",
    "equal_arrays = comparison.all()\n",
    "\n",
    "print(equal_arrays)\n",
    "\n",
    "#find diffrence of M4 = (M1 - M2)\n",
    "m4=np.subtract(m1,m2)\n",
    "print(\"M4\\n\")\n",
    "print(m4)\n",
    "#Find Transpose of M4, Call it MT2. Check if M4 == MT2. Also check if M4 == -MT2\n",
    "mt2=np.transpose(m4)\n",
    "print(mt2)\n",
    "print(\"M4 == MT2\\n\")\n",
    "c1 = m4 == mt2\n",
    "eq = c1.all()\n",
    "\n",
    "print(eq)\n",
    "print(\"M4 == -MT2\\n\")\n",
    "c2 = m4 == -mt2\n",
    "eq1= c2.all()\n",
    "print(eq1)"
   ]
  },
  {
   "cell_type": "code",
   "execution_count": 50,
   "metadata": {},
   "outputs": [
    {
     "name": "stdout",
     "output_type": "stream",
     "text": [
      "[[13 30 37 31]\n",
      " [34 30 20 34]\n",
      " [26 30 34 23]]\n",
      "Min  13\n",
      "Max  37\n",
      "\n",
      "Sum of arr :  342\n",
      "replace the last column with sum of all the columns: \n",
      "[[ 13  30  37 342]\n",
      " [ 34  30  20 342]\n",
      " [ 26  30  34 342]]\n"
     ]
    }
   ],
   "source": [
    "#create a matrix (3x4) R1 of random numbers between 10-40\n",
    "#find min and max column wise\n",
    "#replace the last column with sum of all the columns\n",
    "\n",
    "import numpy as np\n",
    "random_matrix_array = np.random.randint(10,40,size=(3,4))\n",
    "print(random_matrix_array)\n",
    "\n",
    "print(\"Min \", np.amin(random_matrix_array))\n",
    "print(\"Max \", np.amax(random_matrix_array))\n",
    "b=np.sum(random_matrix_array)\n",
    "print(\"\\nSum of arr : \",np.sum(random_matrix_array) ) \n",
    "\n",
    "for i in range(3):\n",
    "    random_matrix_array[i,3]=b\n",
    "\n",
    "print('replace the last column with sum of all the columns: ')\n",
    "print(random_matrix_array)"
   ]
  },
  {
   "cell_type": "code",
   "execution_count": 64,
   "metadata": {},
   "outputs": [
    {
     "name": "stdout",
     "output_type": "stream",
     "text": [
      "[[26 16 16 23]\n",
      " [34 26 15 30]\n",
      " [28 16 35 21]]\n",
      "[[ True  True  True False]\n",
      " [ True  True False  True]\n",
      " [ True  True False False]]\n",
      "[[nan nan nan 23.]\n",
      " [nan nan 15. nan]\n",
      " [nan nan 35. 21.]]\n",
      "[[nan nan nan 23.]\n",
      " [nan nan 15. nan]\n",
      " [nan nan 35. 21.]]\n"
     ]
    }
   ],
   "source": [
    "#create a matrix (3x4) R1 of random numbers between 10-40\n",
    "#replace all even elements with nan in R1\n",
    "#count number of nan in R1\n",
    "\n",
    "import numpy as np\n",
    "a = np.random.randint(10,40,size=(3,4))\n",
    "print(a)\n",
    "\n",
    "e_idx=a%2==0\n",
    "\n",
    "print(e_idx)\n",
    "print(np.where(e_idx,np.nan,a**1))\n",
    "a=np.where(e_idx,np.nan,a**1)\n",
    "print(a)"
   ]
  },
  {
   "cell_type": "code",
   "execution_count": 67,
   "metadata": {},
   "outputs": [
    {
     "name": "stdout",
     "output_type": "stream",
     "text": [
      "[[1 2 3]\n",
      " [4 5 6]\n",
      " [7 8 9]]\n",
      "a3 1st\n",
      "[ 1  2  3  4  5  6  7  8  9 11 12 13 14 15 16 17 18 19]\n",
      "a3 2nd\n",
      "[[ 1  2  3]\n",
      " [ 4  5  6]\n",
      " [ 7  8  9]\n",
      " [11 12 13]\n",
      " [14 15 16]\n",
      " [17 18 19]]\n",
      "a3 3rd\n",
      "[[ 1  2  3 11 12 13]\n",
      " [ 4  5  6 14 15 16]\n",
      " [ 7  8  9 17 18 19]]\n"
     ]
    }
   ],
   "source": [
    "#check output of this code\n",
    "a1 = np.arange(1,10).reshape(3,3)\n",
    "\n",
    "a2 = np.arange(11,20).reshape(3,3)\n",
    "a3 = np.append(a1,a2)\n",
    "print(\"a3 1st\")\n",
    "print(a3)\n",
    "print(\"a3 2nd\")\n",
    "a3 = np.append(a1,a2, axis = 0)\n",
    "print(a3)\n",
    "print(\"a3 3rd\")\n",
    "a3 = np.append(a1,a2, axis = 1)\n",
    "print(a3)"
   ]
  },
  {
   "cell_type": "code",
   "execution_count": null,
   "metadata": {},
   "outputs": [],
   "source": []
  }
 ],
 "metadata": {
  "kernelspec": {
   "display_name": "Python 3",
   "language": "python",
   "name": "python3"
  },
  "language_info": {
   "codemirror_mode": {
    "name": "ipython",
    "version": 3
   },
   "file_extension": ".py",
   "mimetype": "text/x-python",
   "name": "python",
   "nbconvert_exporter": "python",
   "pygments_lexer": "ipython3",
   "version": "3.8.3"
  }
 },
 "nbformat": 4,
 "nbformat_minor": 4
}
