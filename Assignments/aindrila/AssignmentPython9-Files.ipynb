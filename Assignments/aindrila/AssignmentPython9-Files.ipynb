{
 "cells": [
  {
   "cell_type": "markdown",
   "metadata": {},
   "source": [
    "# Write a program in python that stores alphabets from a to z in a text file."
   ]
  },
  {
   "cell_type": "code",
   "execution_count": 7,
   "metadata": {},
   "outputs": [],
   "source": [
    "import string\n",
    "def lowercaseAlphabets():   \n",
    "    # lowercase \n",
    "    with open(\"words1.txt\", \"w\") as f:\n",
    "            alphabet = string.ascii_lowercase\n",
    "            letters = [alphabet[i] + \"\\n\" for i in range(0, len(alphabet))]\n",
    "            f.writelines(letters)\n",
    "#print(\"Lowercase Alphabets \"); \n",
    "lowercaseAlphabets(); "
   ]
  },
  {
   "cell_type": "code",
   "execution_count": 8,
   "metadata": {},
   "outputs": [
    {
     "name": "stdout",
     "output_type": "stream",
     "text": [
      "start\n",
      "a\n",
      "b\n",
      "c\n",
      "d\n",
      "e\n",
      "f\n",
      "g\n",
      "h\n",
      "i\n",
      "j\n",
      "k\n",
      "l\n",
      "m\n",
      "n\n",
      "o\n",
      "p\n",
      "q\n",
      "r\n",
      "s\n",
      "t\n",
      "u\n",
      "v\n",
      "w\n",
      "x\n",
      "y\n",
      "z\n",
      "\n",
      "End\n"
     ]
    }
   ],
   "source": [
    "#Write a program to read itself and print on the screen (Use Command Line Arguments)\n",
    "print(\"start\")\n",
    "\n",
    "with open(\"words1.txt\",\"r\") as f:\n",
    "    for line in f:\n",
    "        print(line,end='')\n",
    "\n",
    "print(\"\\nEnd\")"
   ]
  },
  {
   "cell_type": "code",
   "execution_count": null,
   "metadata": {},
   "outputs": [],
   "source": [
    "import sys\n",
    "print(\"start\")\n",
    "print(\"input the file name\")\n",
    "print (sys.argv)\n",
    "with open(sys.argv[1], \"r\") as f1:\n",
    "    for line in f1:\n",
    "        print(line,end='')\n",
    "\n",
    "print(\"\\nEnd\")"
   ]
  },
  {
   "cell_type": "code",
   "execution_count": 9,
   "metadata": {},
   "outputs": [
    {
     "name": "stdout",
     "output_type": "stream",
     "text": [
      "0\n",
      "line\n",
      "4\n"
     ]
    }
   ],
   "source": [
    "f=open('file','w')\n",
    "f.write('line with some characters')\n",
    "f.close()\n",
    "\n",
    "f=open('file','r')\n",
    "print(f.tell())\n",
    "print(f.read(4))\n",
    "print(f.tell())"
   ]
  },
  {
   "cell_type": "code",
   "execution_count": 16,
   "metadata": {},
   "outputs": [
    {
     "name": "stdout",
     "output_type": "stream",
     "text": [
      "asdasd\n"
     ]
    }
   ],
   "source": [
    "#Write a program to read a file and copy it into a new file.\n",
    "new_file = open(\"sonfile.txt\", \"w\")\n",
    "with open(\"motherfile.txt\", \"r\") as f:\n",
    "    print(f.read())\n",
    "    new_file.write(f.read())\n",
    "\n",
    "new_file.close()"
   ]
  },
  {
   "cell_type": "code",
   "execution_count": null,
   "metadata": {},
   "outputs": [],
   "source": [
    "#Write a program to read a file and copy the contents to a new file such that the case gets \n",
    "#reversed. i.e. upper case becomes lower case and vice versa.\n",
    "def swap_string(s):\n",
    "    \n",
    "    swapped_string=\"\"\n",
    "    swapped_string+=s.swapcase()\n",
    "    return swapped_string\n",
    "\n",
    "new_file = open(\"sonfile.txt\", \"w\")\n",
    "with open(\"motherfile.txt\", \"r\") as f:\n",
    "    l=swap_string(f.read())\n",
    "    new_file.write(l)\n",
    "\n",
    "new_file.close()\n"
   ]
  },
  {
   "cell_type": "code",
   "execution_count": 1,
   "metadata": {},
   "outputs": [
    {
     "name": "stdout",
     "output_type": "stream",
     "text": [
      "start\n",
      "input the file name\n",
      "I Am LearningThe number of blank space is:  2\n",
      "\n",
      "End\n"
     ]
    }
   ],
   "source": [
    "#Write a program that take a file name as command line argument, opens it and then counts \n",
    "#number of space characters in that file.\n",
    "\n",
    "import sys\n",
    "print(\"start\")\n",
    "print(\"input the file name\")\n",
    "#print (sys.argv)\n",
    "space=0\n",
    "with open(\"motherfile.txt\", \"r\") as f1:\n",
    "    for line in f1:\n",
    "        print(line,end='')\n",
    "        for i in line:\n",
    "              if(i.isspace()):\n",
    "                space=space+1\n",
    "print(\"The number of blank space is: \",space)\n",
    "print(\"\\nEnd\")"
   ]
  },
  {
   "cell_type": "code",
   "execution_count": 5,
   "metadata": {},
   "outputs": [
    {
     "name": "stdout",
     "output_type": "stream",
     "text": [
      "File Name: motherfile.txt\n",
      "Counter({'I': 2,\n",
      "         ' ': 2,\n",
      "         'A': 2,\n",
      "         'N': 2,\n",
      "         'M': 1,\n",
      "         'L': 1,\n",
      "         'E': 1,\n",
      "         'R': 1,\n",
      "         'G': 1})\n"
     ]
    }
   ],
   "source": [
    "import collections\n",
    "import pprint\n",
    "file_input = input('File Name: ')\n",
    "with open(file_input, 'r') as info:\n",
    "    count = collections.Counter(info.read().upper())\n",
    "    value = pprint.pformat(count)\n",
    "print(value)"
   ]
  },
  {
   "cell_type": "code",
   "execution_count": 16,
   "metadata": {},
   "outputs": [
    {
     "name": "stdout",
     "output_type": "stream",
     "text": [
      "True\n"
     ]
    }
   ],
   "source": [
    "\n",
    "file1 = input(\"enter the file name \")\n",
    "# Path of second file \n",
    "file2 = input(\"enter the file name \")\n",
    "\n",
    "comp = filecmp.cmp(file1, file2) \n",
    "  \n",
    "# Print the result of comparison \n",
    "print(comp) \n"
   ]
  },
  {
   "cell_type": "code",
   "execution_count": 18,
   "metadata": {},
   "outputs": [
    {
     "name": "stdout",
     "output_type": "stream",
     "text": [
      "Number of words in text file : 3\n"
     ]
    }
   ],
   "source": [
    "#WAP to count the number of words in a file.\n",
    "\n",
    "file = open(\"file.txt\", \"rt\")\n",
    "data = file.read()\n",
    "words = data.split()\n",
    "\n",
    "print('Number of words in text file :', len(words))"
   ]
  },
  {
   "cell_type": "code",
   "execution_count": 31,
   "metadata": {},
   "outputs": [
    {
     "name": "stdout",
     "output_type": "stream",
     "text": [
      "['MAM', 'ABA', 'Aindrila']\n",
      "MAM\n",
      "ABA\n",
      "Aindrila\n",
      "number of palindromes present in the file:  2\n"
     ]
    }
   ],
   "source": [
    "#Update the above program to count the number of palindromes present in the file.\n",
    "def read_words(words_file):\n",
    "    return [word for line in open(words_file, 'r') for word in line.split()]\n",
    "palindromes_list=read_words(\"palindrome_test.txt\")\n",
    "\n",
    "count=0\n",
    "for i in palindromes_list:\n",
    "        print(i)\n",
    "        if i==i[::-1]:\n",
    "            count+=1\n",
    "print(\"number of palindromes present in the file: \" ,count)       "
   ]
  },
  {
   "cell_type": "code",
   "execution_count": 76,
   "metadata": {},
   "outputs": [
    {
     "data": {
      "text/plain": [
       "0"
      ]
     },
     "execution_count": 76,
     "metadata": {},
     "output_type": "execute_result"
    }
   ],
   "source": [
    "# Update the program again to count and print number of anagrams in the file."
   ]
  },
  {
   "cell_type": "code",
   "execution_count": 24,
   "metadata": {},
   "outputs": [
    {
     "name": "stdout",
     "output_type": "stream",
     "text": [
      "number of anagrams in the file  4\n"
     ]
    }
   ],
   "source": [
    "def read_words(words_file):\n",
    "    return [word for line in open(words_file, 'r') for word in line.split()]\n",
    "word_list = read_words(\"anagram.txt\")\n",
    "# initialize a list\n",
    "anagram_list = []\n",
    "for word_1 in word_list: \n",
    "    for word_2 in word_list: \n",
    "        if word_1 != word_2 and (sorted(word_1)==sorted(word_2)):\n",
    "            anagram_list.append(word_1)\n",
    "print(\"number of anagrams in the file \",len(anagram_list))"
   ]
  },
  {
   "cell_type": "code",
   "execution_count": 20,
   "metadata": {},
   "outputs": [
    {
     "data": {
      "text/plain": [
       "['MAM', 'ABA', 'Aindrila']"
      ]
     },
     "execution_count": 20,
     "metadata": {},
     "output_type": "execute_result"
    }
   ],
   "source": [
    "\n",
    "\n"
   ]
  },
  {
   "cell_type": "code",
   "execution_count": 19,
   "metadata": {},
   "outputs": [
    {
     "name": "stdout",
     "output_type": "stream",
     "text": [
      "['MAM ABA Aindrila\\n']\n"
     ]
    }
   ],
   "source": []
  },
  {
   "cell_type": "code",
   "execution_count": null,
   "metadata": {},
   "outputs": [],
   "source": []
  }
 ],
 "metadata": {
  "kernelspec": {
   "display_name": "Python 3",
   "language": "python",
   "name": "python3"
  },
  "language_info": {
   "codemirror_mode": {
    "name": "ipython",
    "version": 3
   },
   "file_extension": ".py",
   "mimetype": "text/x-python",
   "name": "python",
   "nbconvert_exporter": "python",
   "pygments_lexer": "ipython3",
   "version": "3.8.3"
  }
 },
 "nbformat": 4,
 "nbformat_minor": 4
}
