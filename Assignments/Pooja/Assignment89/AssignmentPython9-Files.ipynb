{
 "cells": [
  {
   "cell_type": "markdown",
   "metadata": {},
   "source": [
    "### 1. Write a program in python that stores alphabets from a to z in a text file."
   ]
  },
  {
   "cell_type": "code",
   "execution_count": 2,
   "metadata": {
    "scrolled": true
   },
   "outputs": [
    {
     "name": "stdout",
     "output_type": "stream",
     "text": [
      "Start\n",
      "End\n"
     ]
    }
   ],
   "source": [
    "print('Start')\n",
    "with open(\"Ass9File1.txt\",\"w\") as f:\n",
    "    for i in range(97,123):\n",
    "        print(chr(i), file=f)\n",
    "print('End')    "
   ]
  },
  {
   "cell_type": "markdown",
   "metadata": {},
   "source": [
    "### 2. Write a program to read itself and print on the screen (Use Command Line Arguments)."
   ]
  },
  {
   "cell_type": "code",
   "execution_count": null,
   "metadata": {},
   "outputs": [],
   "source": []
  },
  {
   "cell_type": "markdown",
   "metadata": {},
   "source": [
    "### 3. Predict output of the following piece of code:"
   ]
  },
  {
   "cell_type": "code",
   "execution_count": 28,
   "metadata": {},
   "outputs": [
    {
     "name": "stdout",
     "output_type": "stream",
     "text": [
      "0\n",
      "line\n",
      "4\n"
     ]
    }
   ],
   "source": [
    "f = open('file','w')\n",
    "f.write('line with some characters')\n",
    "f.close()\n",
    "\n",
    "f=open('file','r')\n",
    "print(f.tell())\n",
    "print(f.read(4))\n",
    "print(f.tell())"
   ]
  },
  {
   "cell_type": "markdown",
   "metadata": {},
   "source": [
    "### 4. Write a program to read a file and copy it into a new file."
   ]
  },
  {
   "cell_type": "code",
   "execution_count": 4,
   "metadata": {},
   "outputs": [
    {
     "name": "stdout",
     "output_type": "stream",
     "text": [
      "Start\n",
      "End\n"
     ]
    }
   ],
   "source": [
    "import sys\n",
    "print('Start')\n",
    "with open(\"Ass9File1.txt\",\"r\") as f1:\n",
    "    with open(\"Ass9File1_copy.txt\",\"w\") as f2:\n",
    "        f2.write(f1.read())\n",
    "print('End')"
   ]
  },
  {
   "cell_type": "markdown",
   "metadata": {},
   "source": [
    "### 5. Write a program to read a file and copy the contents to a new file such that the case gets reversed. i.e. upper case becomes lower case and vice versa."
   ]
  },
  {
   "cell_type": "code",
   "execution_count": 5,
   "metadata": {},
   "outputs": [
    {
     "name": "stdout",
     "output_type": "stream",
     "text": [
      "Start\n",
      "End\n"
     ]
    }
   ],
   "source": [
    "import sys\n",
    "import string\n",
    "print('Start')\n",
    "with open(\"Ass9File1.txt\",\"r\") as f1:\n",
    "    with open(\"Ass9File1_copy(1).txt\",\"w\") as f2:\n",
    "        content=f1.read()\n",
    "        f2.write(content.swapcase())\n",
    "print('End')"
   ]
  },
  {
   "cell_type": "markdown",
   "metadata": {},
   "source": [
    "### 6. Write a program that take a file name as command line argument, opens it and then counts number of space characters in that file."
   ]
  },
  {
   "cell_type": "code",
   "execution_count": null,
   "metadata": {},
   "outputs": [],
   "source": []
  },
  {
   "cell_type": "markdown",
   "metadata": {},
   "source": [
    "### 7. Modify the above program to count the occurrence of each symbol i.e. count of alphabet ‘a’, count of spaces, count of commas and so forth."
   ]
  },
  {
   "cell_type": "code",
   "execution_count": null,
   "metadata": {},
   "outputs": [],
   "source": []
  },
  {
   "cell_type": "markdown",
   "metadata": {},
   "source": [
    "### 8. Write a script called diff.py that take two file names as arguments and checks if the content of both the files is same and prints true or false."
   ]
  },
  {
   "cell_type": "code",
   "execution_count": null,
   "metadata": {},
   "outputs": [],
   "source": []
  },
  {
   "cell_type": "markdown",
   "metadata": {},
   "source": [
    "### 9. WAP to count the number of words in a file."
   ]
  },
  {
   "cell_type": "code",
   "execution_count": 6,
   "metadata": {},
   "outputs": [
    {
     "name": "stdout",
     "output_type": "stream",
     "text": [
      "Start\n",
      "5\n",
      "End\n"
     ]
    }
   ],
   "source": [
    "import string\n",
    "print('Start')\n",
    "with open(\"temp.txt\",\"r\") as f1:\n",
    "        content=f1.read()\n",
    "        content1=content.split()\n",
    "print(len(content1))\n",
    "print('End')"
   ]
  },
  {
   "cell_type": "markdown",
   "metadata": {},
   "source": [
    "### 10. Update the above program to count the number of palindromes present in the file."
   ]
  },
  {
   "cell_type": "code",
   "execution_count": 5,
   "metadata": {},
   "outputs": [
    {
     "name": "stdout",
     "output_type": "stream",
     "text": [
      "Start\n",
      "1\n",
      "End\n"
     ]
    }
   ],
   "source": [
    "import string\n",
    "print('Start')\n",
    "with open(\"temp.txt\",\"r\") as f1:\n",
    "        content=f1.read()\n",
    "        count1=0\n",
    "        content1=content.split()\n",
    "        for i in content1:\n",
    "            rev=i[::-1]\n",
    "            if i==rev:\n",
    "                count1+=1\n",
    "print(count1)\n",
    "print('End')"
   ]
  },
  {
   "cell_type": "markdown",
   "metadata": {},
   "source": [
    "### 11. Update the program again to count and print number of anagrams in the file."
   ]
  },
  {
   "cell_type": "code",
   "execution_count": 27,
   "metadata": {},
   "outputs": [
    {
     "name": "stdout",
     "output_type": "stream",
     "text": [
      "Start\n",
      "Number of anagrams is 2\n",
      "['My', 'aemn', 'is', 'Pajoo', 'aabbc', 'is', 'My']\n",
      "End\n"
     ]
    }
   ],
   "source": [
    "import string\n",
    "print('Start')\n",
    "with open(\"temp.txt\",\"r\") as f1:\n",
    "        content=f1.read()\n",
    "        #count1=0\n",
    "        content1=content.split()\n",
    "        content2=[]\n",
    "        for i in content1:\n",
    "            j=''.join(sorted(i))\n",
    "            content2.append(j)\n",
    "        for k in content2:\n",
    "            count1=content2.count(k)\n",
    "if count1>1:\n",
    "    print(f'Number of anagrams is {count1}')\n",
    "    print(content2)\n",
    "#print(content2)\n",
    "#print(count1)\n",
    "    print('End')"
   ]
  }
 ],
 "metadata": {
  "kernelspec": {
   "display_name": "Python 3",
   "language": "python",
   "name": "python3"
  },
  "language_info": {
   "codemirror_mode": {
    "name": "ipython",
    "version": 3
   },
   "file_extension": ".py",
   "mimetype": "text/x-python",
   "name": "python",
   "nbconvert_exporter": "python",
   "pygments_lexer": "ipython3",
   "version": "3.8.3"
  }
 },
 "nbformat": 4,
 "nbformat_minor": 4
}
