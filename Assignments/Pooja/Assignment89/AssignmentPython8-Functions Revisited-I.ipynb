{
 "cells": [
  {
   "cell_type": "markdown",
   "metadata": {},
   "source": [
    "### 1. Write lambdas to:\n",
    "- a. Square a number x2\n",
    "- b. Inverse a number 1/x\n",
    "- c. Negate a number"
   ]
  },
  {
   "cell_type": "code",
   "execution_count": 32,
   "metadata": {},
   "outputs": [
    {
     "name": "stdout",
     "output_type": "stream",
     "text": [
      "Enter a number: 6\n",
      "Square of 6 is  36\n",
      "Inverse of 6 is  0.16666666666666666\n",
      "Negation of 6 is -0.16666666666666666\n"
     ]
    }
   ],
   "source": [
    "try:\n",
    "    x = int(input(\"Enter a number: \"))\n",
    "    sq=lambda x: x*x\n",
    "    print(f'Square of {x} is ',sq(x))\n",
    "    inv=lambda x: 1/x\n",
    "    print(f'Inverse of {x} is ',inv(x))\n",
    "    neg=lambda x: -(x)\n",
    "    print(f'Negation of {x} is',neg(x))\n",
    "except:\n",
    "    print('Something went wrong!!')"
   ]
  },
  {
   "cell_type": "markdown",
   "metadata": {},
   "source": [
    "### 2. Use reduce function and an appropriate lambda to find the maximum number in a list."
   ]
  },
  {
   "cell_type": "code",
   "execution_count": 31,
   "metadata": {},
   "outputs": [
    {
     "name": "stdout",
     "output_type": "stream",
     "text": [
      "100\n"
     ]
    }
   ],
   "source": [
    "from functools import reduce\n",
    "li=[8,7,45,13,100]\n",
    "maxnum= lambda x,y:max(x,y)\n",
    "res=reduce(maxnum,li)\n",
    "print(res)"
   ]
  },
  {
   "cell_type": "markdown",
   "metadata": {},
   "source": [
    "### 3. Write a function map_multiple that takes a list of functions/lambdas as first argument and a sequence type as second argument. The function picks first lambda from list, applies it to first element, then applies the second function to the result of first one and …. Similarly it does for each element and generates a mapping of input to output \n",
    "- def map_multiple(functs, sequence):\n",
    "#### write definition here\n",
    "- Ex: let list of lambdas be from question 1 and the list on numbers be [1,2,4]\n",
    "- So first function gives [1, 4, 16]\n",
    "- Second gives [1, 0.25, 0.0625]\n",
    "- Third gives [-1, -0.25, -0.0625]. Which is the final result."
   ]
  },
  {
   "cell_type": "code",
   "execution_count": 52,
   "metadata": {},
   "outputs": [
    {
     "name": "stdout",
     "output_type": "stream",
     "text": [
      "[1, 4, 16]\n",
      "[1.0, 0.25, 0.0625]\n",
      "[-1.0, -0.25, -0.0625]\n"
     ]
    }
   ],
   "source": [
    "def map_multiple(functs,sequence):\n",
    "\n",
    "    for i in range(len(functs)):\n",
    "        sequence=list(map(functs[i],sequence))\n",
    "        print(sequence)\n",
    "\n",
    "sq=lambda x: x*x\n",
    "inv=lambda x: 1/x    \n",
    "neg=lambda x: -(x)\n",
    "    \n",
    "res= map_multiple([sq,inv,neg],[1,2,4])"
   ]
  },
  {
   "cell_type": "markdown",
   "metadata": {},
   "source": [
    "### 4. Predict the output of following code:"
   ]
  },
  {
   "cell_type": "code",
   "execution_count": 1,
   "metadata": {},
   "outputs": [
    {
     "name": "stdout",
     "output_type": "stream",
     "text": [
      "50\n"
     ]
    }
   ],
   "source": [
    "from functools import reduce\n",
    "f = lambda x,y : x if x>y else y\n",
    "l=[10,30,50,30,10]\n",
    "num=reduce(f,l)\n",
    "print(num) #50"
   ]
  },
  {
   "cell_type": "markdown",
   "metadata": {},
   "source": [
    "### 5. Find output of following:"
   ]
  },
  {
   "cell_type": "code",
   "execution_count": 2,
   "metadata": {},
   "outputs": [
    {
     "name": "stdout",
     "output_type": "stream",
     "text": [
      "[1.0, 0.5, 0.25, 0.125]\n"
     ]
    }
   ],
   "source": [
    "functs = [lambda x: x**0.5, lambda x:1/x]\n",
    "l=[1,4,16,64]\n",
    "ans=[]\n",
    "for num in l:\n",
    "    res=num\n",
    "    for funct in functs:\n",
    "        res=funct(res)\n",
    "    ans.append(res)\n",
    "print(ans) # [1,1,2,0.5,4,0.25,8,0.125]\n"
   ]
  },
  {
   "cell_type": "markdown",
   "metadata": {},
   "source": [
    "### 6. Use filter function to filter a list of numbers and strings such that the result contains only numbers. (Hint : Use isinstance method)"
   ]
  },
  {
   "cell_type": "code",
   "execution_count": 55,
   "metadata": {},
   "outputs": [
    {
     "name": "stdout",
     "output_type": "stream",
     "text": [
      "[1, 2, 7, 8, 17]\n"
     ]
    }
   ],
   "source": [
    "li=[1,2,'Pooja',7,'Priya','Manu',8,17]\n",
    "f=lambda x: isinstance(x,int)\n",
    "res=filter(f,li)\n",
    "print(list(res))"
   ]
  },
  {
   "cell_type": "markdown",
   "metadata": {},
   "source": [
    "### 7. Assume a list containing heights ft and inches in the form of a list of string Example : l = [‘5ft10in’, ‘5ft’, ….] Write a function to convert the heights to meter. Use map function along with your function to convert everything to m."
   ]
  },
  {
   "cell_type": "code",
   "execution_count": 4,
   "metadata": {},
   "outputs": [
    {
     "name": "stdout",
     "output_type": "stream",
     "text": [
      "50000\n",
      "50\n",
      "[]\n"
     ]
    }
   ],
   "source": [
    "num=['5ft10in','5ft']\n",
    "units = {'ft':10,'in':100} \n",
    "result=[]\n",
    "for n in num:\n",
    "    if 'ft' and 'in' in n:\n",
    "        n=n.replace('ft','*10*') \n",
    "        n=n.replace('in','*100')\n",
    "        print(eval(n))\n",
    "    elif n[len(n)-2:len(n)]=='ft':\n",
    "        n=n.replace('ft','*10')\n",
    "        print(eval(n))\n",
    "    else:\n",
    "        n=n.replace('in','*100')\n",
    "        print(eval(n))\n",
    "\n",
    "print(result)"
   ]
  },
  {
   "cell_type": "markdown",
   "metadata": {},
   "source": [
    "### 8. Write the implementation for the map function yourself by the name my_map()"
   ]
  },
  {
   "cell_type": "code",
   "execution_count": 64,
   "metadata": {},
   "outputs": [
    {
     "name": "stdout",
     "output_type": "stream",
     "text": [
      "Result using map function:  [1, 4, 9]\n",
      "Result using my_map:  [1, 4, 9]\n"
     ]
    }
   ],
   "source": [
    "import math\n",
    "def my_map(f,seq):\n",
    "    li=[x*x for x in seq]\n",
    "    return li\n",
    "    \n",
    "def square(x):\n",
    "    return x*x\n",
    "\n",
    "#using map\n",
    "res=list(map(square,[1,2,3]))\n",
    "print('Result using map function: ',res)\n",
    "#using my_map\n",
    "res1=my_map(square,[1,2,3])\n",
    "print('Result using my_map: ',res)"
   ]
  }
 ],
 "metadata": {
  "kernelspec": {
   "display_name": "Python 3",
   "language": "python",
   "name": "python3"
  },
  "language_info": {
   "codemirror_mode": {
    "name": "ipython",
    "version": 3
   },
   "file_extension": ".py",
   "mimetype": "text/x-python",
   "name": "python",
   "nbconvert_exporter": "python",
   "pygments_lexer": "ipython3",
   "version": "3.8.3"
  }
 },
 "nbformat": 4,
 "nbformat_minor": 4
}
