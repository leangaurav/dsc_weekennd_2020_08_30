{
 "cells": [
  {
   "cell_type": "markdown",
   "metadata": {},
   "source": [
    "|Variable|Definition|Key|\n",
    "|---|---|---|\n",
    "|survival|Survival|0 = No, 1 = Yes|\n",
    "|pclass|Ticket class|1 = 1st, 2 = 2nd, 3 = 3rd|\n",
    "|gender|gender ||\n",
    "|Age |Age in years| |\n",
    "|sibsp |number of siblings / spouses aboard|\t|\n",
    "|parch |number of parents / children aboard| |\n",
    "|ticket|Ticket number ||\n",
    "|fare | fare| \t|\n",
    "|cabin |Cabin number|\t|\n",
    "|embarked|Port of Embarkation|C = Cherbourg, Q = Queenstown, S = Southampton|\n",
    "|boat | Lifeboat||\n",
    "|body | Body Identification Number||\n",
    "|home.dest| Home/destination||"
   ]
  },
  {
   "cell_type": "markdown",
   "metadata": {},
   "source": []
  },
  {
   "cell_type": "markdown",
   "metadata": {},
   "source": [
    "- Read data and describe it\n",
    "- Find columns with missingdata\n",
    "- Print shape of dataset\n",
    "- drop columns with more than 25% missing data\n",
    "- drop columns having independent values(which do not affect the survival rate).\n",
    "\n",
    "\n",
    "- check data types of all columns\n",
    "- convert price to numeric\n",
    "- find columns still having missing/na values and also count of missing data\n",
    "- fill na with mean for fare and age column column.\n",
    "- drop na values for embarked column.\n",
    "- dump the dataframe to a csv file 'titanic_filtered.csv'.\n",
    "\n",
    "\n",
    "- for surviced column replace 0 with D and 1 with A\n",
    "- find the frequency of different values in survived column\n",
    "- group by gender and survived and see the counts in each category\n",
    "- find different pclass and no of people in each class\n",
    "\n",
    "- find top 5 people with highest values of age. Count no of male and females in the top 5\n",
    "- find max age male and female who survived\n",
    "- get average age by gender\n",
    "- get average age by people survived vs not-survived\n"
   ]
  },
  {
   "cell_type": "code",
   "execution_count": 1,
   "metadata": {},
   "outputs": [],
   "source": [
    "import pandas as pd"
   ]
  },
  {
   "cell_type": "code",
   "execution_count": 2,
   "metadata": {},
   "outputs": [
    {
     "name": "stdout",
     "output_type": "stream",
     "text": [
      "         Unnamed: 0       pclass     survived              name gender  \\\n",
      "count   1309.000000  1309.000000  1309.000000              1309   1309   \n",
      "unique          NaN          NaN          NaN              1307      2   \n",
      "top             NaN          NaN          NaN  Kelly, Mr. James   male   \n",
      "freq            NaN          NaN          NaN                 2    843   \n",
      "mean     654.000000     2.294882     0.381971               NaN    NaN   \n",
      "std      378.020061     0.837836     0.486055               NaN    NaN   \n",
      "min        0.000000     1.000000     0.000000               NaN    NaN   \n",
      "25%      327.000000     2.000000     0.000000               NaN    NaN   \n",
      "50%      654.000000     3.000000     0.000000               NaN    NaN   \n",
      "75%      981.000000     3.000000     1.000000               NaN    NaN   \n",
      "max     1308.000000     3.000000     1.000000               NaN    NaN   \n",
      "\n",
      "                age        sibsp        parch    ticket    fare        cabin  \\\n",
      "count   1046.000000  1309.000000  1309.000000      1309    1308          295   \n",
      "unique          NaN          NaN          NaN       929     263          186   \n",
      "top             NaN          NaN          NaN  CA. 2343  $8.05   C23 C25 C27   \n",
      "freq            NaN          NaN          NaN        11      60            6   \n",
      "mean      29.881135     0.498854     0.385027       NaN     NaN          NaN   \n",
      "std       14.413500     1.041658     0.865560       NaN     NaN          NaN   \n",
      "min        0.166700     0.000000     0.000000       NaN     NaN          NaN   \n",
      "25%       21.000000     0.000000     0.000000       NaN     NaN          NaN   \n",
      "50%       28.000000     0.000000     0.000000       NaN     NaN          NaN   \n",
      "75%       39.000000     1.000000     0.000000       NaN     NaN          NaN   \n",
      "max       80.000000     8.000000     9.000000       NaN     NaN          NaN   \n",
      "\n",
      "       embarked boat        body     home.dest  \n",
      "count      1307  486  121.000000           745  \n",
      "unique        3   27         NaN           369  \n",
      "top           S   13         NaN  New York, NY  \n",
      "freq        914   39         NaN            64  \n",
      "mean        NaN  NaN  160.809917           NaN  \n",
      "std         NaN  NaN   97.696922           NaN  \n",
      "min         NaN  NaN    1.000000           NaN  \n",
      "25%         NaN  NaN   72.000000           NaN  \n",
      "50%         NaN  NaN  155.000000           NaN  \n",
      "75%         NaN  NaN  256.000000           NaN  \n",
      "max         NaN  NaN  328.000000           NaN  \n"
     ]
    }
   ],
   "source": [
    "# Read and Describe Data\n",
    "df = pd.read_csv('titanic_dataset.csv')\n",
    "print(df.describe(include = 'all'))"
   ]
  },
  {
   "cell_type": "code",
   "execution_count": 3,
   "metadata": {},
   "outputs": [
    {
     "name": "stdout",
     "output_type": "stream",
     "text": [
      "Unnamed: 0    False\n",
      "pclass        False\n",
      "survived      False\n",
      "name          False\n",
      "gender        False\n",
      "age            True\n",
      "sibsp         False\n",
      "parch         False\n",
      "ticket        False\n",
      "fare           True\n",
      "cabin          True\n",
      "embarked       True\n",
      "boat           True\n",
      "body           True\n",
      "home.dest      True\n",
      "dtype: bool\n",
      "\n",
      "Index(['age', 'fare', 'cabin', 'embarked', 'boat', 'body', 'home.dest'], dtype='object')\n",
      "Unnamed: 0    0.000000\n",
      "pclass        0.000000\n",
      "survived      0.000000\n",
      "name          0.000000\n",
      "gender        0.000000\n",
      "age           0.200917\n",
      "sibsp         0.000000\n",
      "parch         0.000000\n",
      "ticket        0.000000\n",
      "fare          0.000764\n",
      "cabin         0.774637\n",
      "embarked      0.001528\n",
      "boat          0.628724\n",
      "body          0.907563\n",
      "home.dest     0.430863\n",
      "dtype: float64\n"
     ]
    }
   ],
   "source": [
    "# columns with missing data\n",
    "print(df.isna().any())\n",
    "print()\n",
    "print(df.columns[df.isna().any() == True])\n",
    "\n",
    "print(df.isna().sum()/df.shape[0])"
   ]
  },
  {
   "cell_type": "code",
   "execution_count": 4,
   "metadata": {},
   "outputs": [
    {
     "name": "stdout",
     "output_type": "stream",
     "text": [
      "(1309, 15)\n"
     ]
    }
   ],
   "source": [
    "# Print shape of dataset\n",
    "print(df.shape)"
   ]
  },
  {
   "cell_type": "code",
   "execution_count": 5,
   "metadata": {},
   "outputs": [
    {
     "name": "stdout",
     "output_type": "stream",
     "text": [
      "   Unnamed: 0  pclass  survived                            name  gender  \\\n",
      "0           0       1         1   Allen, Miss. Elisabeth Walton  female   \n",
      "1           1       1         1  Allison, Master. Hudson Trevor    male   \n",
      "\n",
      "       age  sibsp  parch  ticket      fare embarked  \n",
      "0  29.0000      0      0   24160  $211.34         S  \n",
      "1   0.9167      1      2  113781  $151.55         S  \n"
     ]
    }
   ],
   "source": [
    "# drop columns with more than 25% missing data\n",
    "df.dropna(axis = 'columns', thresh = df.shape[0]*0.75, inplace = True)\n",
    "print(df.head(2))"
   ]
  },
  {
   "cell_type": "code",
   "execution_count": 6,
   "metadata": {},
   "outputs": [
    {
     "name": "stdout",
     "output_type": "stream",
     "text": [
      "   pclass  survived  gender      age  sibsp  parch      fare embarked\n",
      "0       1         1  female  29.0000      0      0  $211.34         S\n",
      "1       1         1    male   0.9167      1      2  $151.55         S\n"
     ]
    }
   ],
   "source": [
    "# drop columns having independent values(which do not affect the survival rate).\n",
    "df.drop(columns = ['Unnamed: 0','name', 'ticket'], inplace = True)\n",
    "print(df.head(2))"
   ]
  },
  {
   "cell_type": "code",
   "execution_count": 7,
   "metadata": {},
   "outputs": [
    {
     "name": "stdout",
     "output_type": "stream",
     "text": [
      "pclass        int64\n",
      "survived      int64\n",
      "gender       object\n",
      "age         float64\n",
      "sibsp         int64\n",
      "parch         int64\n",
      "fare         object\n",
      "embarked     object\n",
      "dtype: object\n"
     ]
    }
   ],
   "source": [
    "# check data types of all columns\n",
    "print(df.dtypes)"
   ]
  },
  {
   "cell_type": "code",
   "execution_count": 8,
   "metadata": {},
   "outputs": [
    {
     "name": "stdout",
     "output_type": "stream",
     "text": [
      "0    211.34 \n",
      "1    151.55 \n",
      "2    151.55 \n",
      "3    151.55 \n",
      "4    151.55 \n",
      "Name: fare, dtype: object\n",
      "0    211.34 \n",
      "1    151.55 \n",
      "2    151.55 \n",
      "3    151.55 \n",
      "4    151.55 \n",
      "Name: fare, dtype: object\n",
      "   pclass  survived  gender      age  sibsp  parch     fare embarked\n",
      "0       1         1  female  29.0000      0      0  211.34         S\n",
      "1       1         1    male   0.9167      1      2  151.55         S\n",
      "2       1         0  female   2.0000      1      2  151.55         S\n",
      "3       1         0    male  30.0000      1      2  151.55         S\n",
      "4       1         0  female  25.0000      1      2  151.55         S\n",
      "\n",
      "pclass        int64\n",
      "survived      int64\n",
      "gender       object\n",
      "age         float64\n",
      "sibsp         int64\n",
      "parch         int64\n",
      "fare        float64\n",
      "embarked     object\n",
      "dtype: object\n"
     ]
    }
   ],
   "source": [
    "# convert price to numeric\n",
    "\n",
    "# method-1\n",
    "c1 = df.fare.replace(r'\\$', '', regex = True)\n",
    "print(c1.head()) \n",
    "\n",
    "# method-2. \n",
    "c2 = df.fare.str.replace('$', '')\n",
    "print(c2.head())#No inplace option available so replace old col with result of replace\n",
    "\n",
    "# Here I use method-1 \n",
    "df.fare.replace(r'\\$', '', regex = True, inplace = True)\n",
    "print(df.head())\n",
    "\n",
    "# finally change datatype\n",
    "print()\n",
    "df.fare = df.fare.astype('float64')\n",
    "print(df.dtypes)\n",
    "\n"
   ]
  },
  {
   "cell_type": "code",
   "execution_count": 9,
   "metadata": {},
   "outputs": [
    {
     "name": "stdout",
     "output_type": "stream",
     "text": [
      "pclass      False\n",
      "survived    False\n",
      "gender      False\n",
      "age          True\n",
      "sibsp       False\n",
      "parch       False\n",
      "fare         True\n",
      "embarked     True\n",
      "dtype: bool\n",
      "\n",
      "pclass        0\n",
      "survived      0\n",
      "gender        0\n",
      "age         263\n",
      "sibsp         0\n",
      "parch         0\n",
      "fare          1\n",
      "embarked      2\n",
      "dtype: int64\n"
     ]
    }
   ],
   "source": [
    "#find columns still having missing/na values and also count of missing data\n",
    "print(df.isna().any())\n",
    "print()\n",
    "print(df.isna().sum())"
   ]
  },
  {
   "cell_type": "code",
   "execution_count": 10,
   "metadata": {},
   "outputs": [
    {
     "name": "stdout",
     "output_type": "stream",
     "text": [
      "pclass      0\n",
      "survived    0\n",
      "gender      0\n",
      "age         0\n",
      "sibsp       0\n",
      "parch       0\n",
      "fare        0\n",
      "embarked    2\n",
      "dtype: int64\n"
     ]
    }
   ],
   "source": [
    "# fill na with mean for fare and age column column.\n",
    "df.fare.fillna(df.fare.mean(), inplace = True)\n",
    "df.age.fillna(df.age.mean(), inplace = True)\n",
    "print(df.isna().sum())"
   ]
  },
  {
   "cell_type": "code",
   "execution_count": 11,
   "metadata": {},
   "outputs": [
    {
     "name": "stdout",
     "output_type": "stream",
     "text": [
      "pclass      0\n",
      "survived    0\n",
      "gender      0\n",
      "age         0\n",
      "sibsp       0\n",
      "parch       0\n",
      "fare        0\n",
      "embarked    0\n",
      "dtype: int64\n"
     ]
    }
   ],
   "source": [
    "# drop na values for embarked column.\n",
    "df.dropna(subset = ['embarked'], inplace = True)\n",
    "print(df.isna().sum())"
   ]
  },
  {
   "cell_type": "code",
   "execution_count": 12,
   "metadata": {},
   "outputs": [],
   "source": [
    "# dump the dataframe to a csv file 'titanic_filtered.csv'.\n",
    "df.to_csv('titanic_filtered.csv')"
   ]
  },
  {
   "cell_type": "code",
   "execution_count": 13,
   "metadata": {},
   "outputs": [
    {
     "name": "stdout",
     "output_type": "stream",
     "text": [
      "0    A\n",
      "1    A\n",
      "2    D\n",
      "3    D\n",
      "4    D\n",
      "Name: survived, dtype: object\n"
     ]
    }
   ],
   "source": [
    "# for surviced column replace 0 with D and 1 with A\n",
    "df.survived.replace({0:'D', 1:'A'}, inplace = True)\n",
    "print(df.survived.head())"
   ]
  },
  {
   "cell_type": "code",
   "execution_count": 14,
   "metadata": {},
   "outputs": [
    {
     "name": "stdout",
     "output_type": "stream",
     "text": [
      "D    809\n",
      "A    498\n",
      "Name: survived, dtype: int64\n"
     ]
    }
   ],
   "source": [
    "#find the frequency of different values in survived column\n",
    "print( df.survived.value_counts() )"
   ]
  },
  {
   "cell_type": "code",
   "execution_count": 15,
   "metadata": {},
   "outputs": [
    {
     "data": {
      "text/html": [
       "<div>\n",
       "<style scoped>\n",
       "    .dataframe tbody tr th:only-of-type {\n",
       "        vertical-align: middle;\n",
       "    }\n",
       "\n",
       "    .dataframe tbody tr th {\n",
       "        vertical-align: top;\n",
       "    }\n",
       "\n",
       "    .dataframe thead th {\n",
       "        text-align: right;\n",
       "    }\n",
       "</style>\n",
       "<table border=\"1\" class=\"dataframe\">\n",
       "  <thead>\n",
       "    <tr style=\"text-align: right;\">\n",
       "      <th></th>\n",
       "      <th></th>\n",
       "      <th>pclass</th>\n",
       "      <th>age</th>\n",
       "      <th>sibsp</th>\n",
       "      <th>parch</th>\n",
       "      <th>fare</th>\n",
       "      <th>embarked</th>\n",
       "    </tr>\n",
       "    <tr>\n",
       "      <th>gender</th>\n",
       "      <th>survived</th>\n",
       "      <th></th>\n",
       "      <th></th>\n",
       "      <th></th>\n",
       "      <th></th>\n",
       "      <th></th>\n",
       "      <th></th>\n",
       "    </tr>\n",
       "  </thead>\n",
       "  <tbody>\n",
       "    <tr>\n",
       "      <th rowspan=\"2\" valign=\"top\">female</th>\n",
       "      <th>A</th>\n",
       "      <td>337</td>\n",
       "      <td>337</td>\n",
       "      <td>337</td>\n",
       "      <td>337</td>\n",
       "      <td>337</td>\n",
       "      <td>337</td>\n",
       "    </tr>\n",
       "    <tr>\n",
       "      <th>D</th>\n",
       "      <td>127</td>\n",
       "      <td>127</td>\n",
       "      <td>127</td>\n",
       "      <td>127</td>\n",
       "      <td>127</td>\n",
       "      <td>127</td>\n",
       "    </tr>\n",
       "    <tr>\n",
       "      <th rowspan=\"2\" valign=\"top\">male</th>\n",
       "      <th>A</th>\n",
       "      <td>161</td>\n",
       "      <td>161</td>\n",
       "      <td>161</td>\n",
       "      <td>161</td>\n",
       "      <td>161</td>\n",
       "      <td>161</td>\n",
       "    </tr>\n",
       "    <tr>\n",
       "      <th>D</th>\n",
       "      <td>682</td>\n",
       "      <td>682</td>\n",
       "      <td>682</td>\n",
       "      <td>682</td>\n",
       "      <td>682</td>\n",
       "      <td>682</td>\n",
       "    </tr>\n",
       "  </tbody>\n",
       "</table>\n",
       "</div>"
      ],
      "text/plain": [
       "                 pclass  age  sibsp  parch  fare  embarked\n",
       "gender survived                                           \n",
       "female A            337  337    337    337   337       337\n",
       "       D            127  127    127    127   127       127\n",
       "male   A            161  161    161    161   161       161\n",
       "       D            682  682    682    682   682       682"
      ]
     },
     "execution_count": 15,
     "metadata": {},
     "output_type": "execute_result"
    }
   ],
   "source": [
    "#group by gender and survived and see the counts in each category\n",
    "g1 = df.groupby(['gender', 'survived'])\n",
    "g1.count()"
   ]
  },
  {
   "cell_type": "code",
   "execution_count": 16,
   "metadata": {},
   "outputs": [
    {
     "name": "stdout",
     "output_type": "stream",
     "text": [
      "[1 2 3]\n",
      "\n",
      "3    709\n",
      "1    321\n",
      "2    277\n",
      "Name: pclass, dtype: int64\n"
     ]
    }
   ],
   "source": [
    "# find different pclass and no of people in each class\n",
    "print(df.pclass.unique())\n",
    "print()\n",
    "print(df.pclass.value_counts())"
   ]
  },
  {
   "cell_type": "code",
   "execution_count": 17,
   "metadata": {},
   "outputs": [
    {
     "name": "stdout",
     "output_type": "stream",
     "text": [
      "      pclass survived  gender   age  sibsp  parch   fare embarked\n",
      "14         1        A    male  80.0      0      0  30.00        S\n",
      "61         1        A  female  76.0      1      0  78.85        S\n",
      "1235       3        D    male  74.0      0      0   7.78        S\n",
      "9          1        D    male  71.0      0      0  49.50        C\n",
      "135        1        D    male  71.0      0      0  34.65        C\n",
      "male      4\n",
      "female    1\n",
      "Name: gender, dtype: int64\n"
     ]
    }
   ],
   "source": [
    "# find top 5 people with highest values of age. Count no of male and females in the top 5\n",
    "res = df.nlargest(5, 'age')\n",
    "print(res)\n",
    "print(res.gender.value_counts())"
   ]
  },
  {
   "cell_type": "code",
   "execution_count": 18,
   "metadata": {},
   "outputs": [
    {
     "name": "stdout",
     "output_type": "stream",
     "text": [
      "    pclass survived gender   age  sibsp  parch  fare embarked\n",
      "14       1        A   male  80.0      0      0  30.0        S\n",
      "    pclass survived  gender   age  sibsp  parch   fare embarked\n",
      "61       1        A  female  76.0      1      0  78.85        S\n"
     ]
    }
   ],
   "source": [
    "# find max age male and female who survived\n",
    "res = df[(df.survived == 'A') & (df.gender == 'male')]\n",
    "print(res.nlargest(1, 'age'))\n",
    "\n",
    "res = df[(df.survived == 'A') & (df.gender == 'female')]\n",
    "print(res.nlargest(1, 'age'))"
   ]
  },
  {
   "cell_type": "code",
   "execution_count": 19,
   "metadata": {},
   "outputs": [
    {
     "name": "stdout",
     "output_type": "stream",
     "text": [
      "gender\n",
      "female    28.795931\n",
      "male      30.430716\n",
      "Name: age, dtype: float64\n"
     ]
    }
   ],
   "source": [
    "# get average age by gender\n",
    "print(df.groupby('gender').age.mean())"
   ]
  },
  {
   "cell_type": "code",
   "execution_count": 20,
   "metadata": {},
   "outputs": [
    {
     "name": "stdout",
     "output_type": "stream",
     "text": [
      "survived\n",
      "A    28.974711\n",
      "D    30.389368\n",
      "Name: age, dtype: float64\n"
     ]
    }
   ],
   "source": [
    "# get average age by people survived vs not-survived\n",
    "print(df.groupby('survived').age.mean())"
   ]
  }
 ],
 "metadata": {
  "kernelspec": {
   "display_name": "Python 3",
   "language": "python",
   "name": "python3"
  },
  "language_info": {
   "codemirror_mode": {
    "name": "ipython",
    "version": 3
   },
   "file_extension": ".py",
   "mimetype": "text/x-python",
   "name": "python",
   "nbconvert_exporter": "python",
   "pygments_lexer": "ipython3",
   "version": "3.7.4"
  }
 },
 "nbformat": 4,
 "nbformat_minor": 2
}
