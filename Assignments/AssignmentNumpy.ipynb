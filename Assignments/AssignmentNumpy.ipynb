{
 "cells": [
  {
   "cell_type": "markdown",
   "metadata": {},
   "source": [
    "## NUMPY\n",
    "- create a numpy array of 5 zeros.\n",
    "    - check datatype, itemsize and shape of above\n",
    "- create a numpy array of ones of shape (5,4)\n",
    "- create a matrix of shape 4,5 with numbers from 1-20\n",
    "- multiply all elements of above array by 10\n",
    "- print odd elements from array\n",
    "- replace all even elements by their negative\n",
    "  \n",
    "  \n",
    "  \n",
    "- create a linearly spaced matrix M1 of size 4x4 having values in range 1-16\n",
    "- create a transpose of above matrix call it M2\n",
    "- find sum of above matrix M3 = (M1 + M2)\n",
    "- Find Transpose of M3, Call it MT1. Check if M3 == MT1\n",
    "- find diffrence of M4 = (M1 - M2)\n",
    "- Find Transpose of M4, Call it MT2. Check if M4 == MT2. Also check if M4 == -MT2\n",
    "  \n",
    "\n",
    "- create a matrix (3x4) R1 of random numbers between 10-40\n",
    "- find min and max column wise\n",
    "- replace the last column with sum of all the columns\n",
    "\n",
    "\n",
    "- create a matrix (3x4) R1 of random numbers between 10-40\n",
    "- replace all even elements with nan in R1\n",
    "- count number of nan in R1\n",
    "\n",
    "\n",
    "\n",
    "- check output of this code  \n",
    "`a1 = np.arange(1,10).reshape(3,3)\n",
    "a2 = np.arange(11,20).reshape(3,3)\n",
    "a3 = np.append(a1,a2)\n",
    "print(a3)\n",
    "a3 = np.append(a1,a2, axis = 0)\n",
    "print(a3)\n",
    "a3 = np.append(a1,a2, axis = 1)\n",
    "print(a3)\n",
    "`\n"
   ]
  }
 ],
 "metadata": {
  "kernelspec": {
   "display_name": "Python 3",
   "language": "python",
   "name": "python3"
  },
  "language_info": {
   "codemirror_mode": {
    "name": "ipython",
    "version": 3
   },
   "file_extension": ".py",
   "mimetype": "text/x-python",
   "name": "python",
   "nbconvert_exporter": "python",
   "pygments_lexer": "ipython3",
   "version": "3.7.3"
  }
 },
 "nbformat": 4,
 "nbformat_minor": 2
}
