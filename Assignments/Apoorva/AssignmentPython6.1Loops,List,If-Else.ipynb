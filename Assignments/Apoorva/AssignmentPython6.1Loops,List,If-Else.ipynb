{
 "cells": [
  {
   "cell_type": "markdown",
   "metadata": {},
   "source": [
    "### 1. WAP to input a string and print individual characters in the string using for loop. "
   ]
  },
  {
   "cell_type": "code",
   "execution_count": 1,
   "metadata": {},
   "outputs": [
    {
     "name": "stdout",
     "output_type": "stream",
     "text": [
      "Enter a string Python Jupyter\n",
      "P\n",
      "y\n",
      "t\n",
      "h\n",
      "o\n",
      "n\n",
      " \n",
      "J\n",
      "u\n",
      "p\n",
      "y\n",
      "t\n",
      "e\n",
      "r\n"
     ]
    }
   ],
   "source": [
    "s = input('Enter a string ')\n",
    "for i in s:\n",
    "    print(i)"
   ]
  },
  {
   "cell_type": "markdown",
   "metadata": {},
   "source": [
    "### 2. WAP to input a string and print the ASCII value of each character in the string. "
   ]
  },
  {
   "cell_type": "code",
   "execution_count": 2,
   "metadata": {},
   "outputs": [
    {
     "name": "stdout",
     "output_type": "stream",
     "text": [
      "Enter a string Python\n",
      "80\n",
      "121\n",
      "116\n",
      "104\n",
      "111\n",
      "110\n"
     ]
    }
   ],
   "source": [
    "s = input('Enter a string ')\n",
    "for i in s:\n",
    "    print(ord(i))"
   ]
  },
  {
   "cell_type": "markdown",
   "metadata": {},
   "source": [
    "### 3. Write a function that takes a list of numbers from user as argument and returns the sum of only odd numbers (Use only for loop. No need to use if statement).   ????"
   ]
  },
  {
   "cell_type": "code",
   "execution_count": 12,
   "metadata": {},
   "outputs": [
    {
     "name": "stdout",
     "output_type": "stream",
     "text": [
      "Enter length of list: 2\n",
      "Enter number: 3\n",
      "Enter number: 3\n",
      "Sum of odd:  6\n"
     ]
    }
   ],
   "source": [
    "n = int(input('Enter length of list: '))\n",
    "l=[]\n",
    "for i in range(0,n):\n",
    "    l.append(int(input(\"Enter number: \")))\n",
    "\n",
    "def sumOfOdd(l):\n",
    "    s=0\n",
    "    for i in l:\n",
    "        s+=i\n",
    "    return s\n",
    "\n",
    "print('Sum of odd: ',sumOfOdd(l))"
   ]
  },
  {
   "cell_type": "markdown",
   "metadata": {},
   "source": [
    "### 4. WAP to input a list of numbers and store in a tuple. Now input another number and print the index of this number in the tuple. [Use index function] \n"
   ]
  },
  {
   "cell_type": "code",
   "execution_count": 4,
   "metadata": {},
   "outputs": [
    {
     "name": "stdout",
     "output_type": "stream",
     "text": [
      "Enter length of list: 4\n",
      "Enter number: 2\n",
      "Enter number: 3\n",
      "Enter number: 5\n",
      "Enter number: 6\n",
      "(2, 3, 5, 6)\n",
      "ENter number to search: 5\n",
      "At index  2\n"
     ]
    }
   ],
   "source": [
    "#print(dir(tuple))\n",
    "\n",
    "n = int(input('Enter length of list: '))\n",
    "l=[]\n",
    "for i in range(0,n):\n",
    "    l.append(int(input(\"Enter number: \")))\n",
    "t=tuple(l)\n",
    "print(t)\n",
    "\n",
    "a = int(input('ENter number to search: '))\n",
    "\n",
    "print(\"At index \",t.index(a)) \n"
   ]
  },
  {
   "cell_type": "markdown",
   "metadata": {},
   "source": [
    "### 5. Create a list of 10 random numbers and then print the list, sum of all numbers and average. Use a for loop. Also print elements at only even indexes in the list. "
   ]
  },
  {
   "cell_type": "code",
   "execution_count": 39,
   "metadata": {},
   "outputs": [
    {
     "name": "stdout",
     "output_type": "stream",
     "text": [
      "[4, 1, 6, 5, 7, 3, 5, 1, 7, 9]\n",
      "sum =  48 Avg =  4.8\n",
      "4\n",
      "6\n",
      "7\n",
      "5\n",
      "7\n"
     ]
    }
   ],
   "source": [
    "import random as rd\n",
    "l=[]\n",
    "#print(dir(rd))\n",
    "#print(dir(__builtins__))\n",
    "for i in range(0,10):\n",
    "    l.append(round(rd.random()*10))\n",
    "print(l)\n",
    "s=0\n",
    "for i in l:\n",
    "    s+=i\n",
    "print(\"sum = \", s, \"Avg = \",s/10 )\n",
    "\n",
    "for i in range(0,10,2):\n",
    "    print(l[i])\n",
    "    "
   ]
  },
  {
   "cell_type": "markdown",
   "metadata": {},
   "source": [
    "### 6. WAP to input 10 numbers repeatedly (using range based for loop) and store them in a list. Print the list and sum of numbers in the list.                                   ========> "
   ]
  },
  {
   "cell_type": "code",
   "execution_count": 43,
   "metadata": {},
   "outputs": [
    {
     "name": "stdout",
     "output_type": "stream",
     "text": [
      "Enter number: 5\n",
      "Enter number: 4\n",
      "Enter number: 6\n",
      "Enter number: 45\n",
      "Enter number: 6\n",
      "Enter number: 1\n",
      "Enter number: 2\n",
      "Enter number: 3\n",
      "Enter number: 55\n",
      "Enter number: 8\n",
      "[5, 4, 6, 45, 6, 1, 2, 3, 55, 8]\n",
      "135\n"
     ]
    }
   ],
   "source": [
    "l=[]\n",
    "for i in range(0,10):\n",
    "    l.append(int(input(\"Enter number: \")))\n",
    "print(l)\n",
    "print(sum(l))  # "
   ]
  },
  {
   "cell_type": "markdown",
   "metadata": {},
   "source": [
    "### 7. WAP to input a number and print its table. Ex: if user enters the number as 7, output should be "
   ]
  },
  {
   "cell_type": "code",
   "execution_count": 44,
   "metadata": {},
   "outputs": [
    {
     "name": "stdout",
     "output_type": "stream",
     "text": [
      "Enter number: 7\n",
      "7 x 1 =  7\n",
      "7 x 2 =  14\n",
      "7 x 3 =  21\n",
      "7 x 4 =  28\n",
      "7 x 5 =  35\n",
      "7 x 6 =  42\n",
      "7 x 7 =  49\n",
      "7 x 8 =  56\n",
      "7 x 9 =  63\n",
      "7 x 10 =  70\n"
     ]
    }
   ],
   "source": [
    "n = int(input('Enter number: '))\n",
    "\n",
    "for i in range(1,11):\n",
    "    print(f'{n} x {i} = ',n*i)"
   ]
  },
  {
   "cell_type": "markdown",
   "metadata": {},
   "source": [
    "### 8. WAP to print total number of spaces in a string (Use for loop to iterate over the string. Don’t use count function). "
   ]
  },
  {
   "cell_type": "code",
   "execution_count": 46,
   "metadata": {},
   "outputs": [
    {
     "name": "stdout",
     "output_type": "stream",
     "text": [
      "Enter the string:  The fox jumped over jumped over the lazy dog \n",
      "' The fox jumped over jumped over the lazy dog '\n",
      "10\n"
     ]
    }
   ],
   "source": [
    "s = input('Enter the string: ')\n",
    "print(repr(s))\n",
    "c=0\n",
    "for i in s:\n",
    "    if i==' ':\n",
    "        c+=1\n",
    "print(c)"
   ]
  },
  {
   "cell_type": "markdown",
   "metadata": {},
   "source": [
    "### 9. WAP to input a string and count number of vowels in the string. [Note: it should work for both capital and small alphabets] "
   ]
  },
  {
   "cell_type": "code",
   "execution_count": 48,
   "metadata": {},
   "outputs": [
    {
     "name": "stdout",
     "output_type": "stream",
     "text": [
      "Enter string: qwerty\n",
      "Number of Vowels=  1\n"
     ]
    }
   ],
   "source": [
    "#import string\n",
    "#print(dir(string))\n",
    "s = input('Enter string: ')\n",
    "c=0\n",
    "for i in s.lower():\n",
    "    if i in 'aeiou':\n",
    "        c+=1\n",
    "        \n",
    "print(\"Number of Vowels= \",c)"
   ]
  },
  {
   "cell_type": "markdown",
   "metadata": {},
   "source": [
    "### 10. WAP to input a string and replace all vowels with ‘_’.\n",
    "[Hint: Convert string to list. Remember!! Strings are immutable. Replace in the list and then join] \n"
   ]
  },
  {
   "cell_type": "code",
   "execution_count": 2,
   "metadata": {},
   "outputs": [
    {
     "name": "stdout",
     "output_type": "stream",
     "text": [
      "Enter a string: bird goat camel dog APPLE\n",
      "~~~~~~~~Using lists split join~~~~~~~~~~~\n",
      "\n",
      "b_rd g__t c_m_l d_g _PPL_ \n",
      "\n",
      "~~~~~~~Using replace function~~~~~~~~~\n",
      "\n",
      "b_rd g__t c_m_l d_g _PPL_\n"
     ]
    }
   ],
   "source": [
    "s = input('Enter a string: ')\n",
    "s1 =s\n",
    "\n",
    "l = list(s1)\n",
    "\n",
    "\n",
    "print('~~~~~~~~Using lists split join~~~~~~~~~~~\\n')\n",
    "for i in range(0,len(l)):\n",
    "    if l[i].lower() in 'aeiou':   \n",
    "        l[i]='_'\n",
    "print(''.join(l),'\\n')\n",
    "\n",
    "print('~~~~~~~Using replace function~~~~~~~~~\\n')\n",
    "for i in 'aeiouAEIOU':\n",
    "    s = s.replace(i,'_')\n",
    "\n",
    "print(s)\n"
   ]
  },
  {
   "cell_type": "markdown",
   "metadata": {},
   "source": [
    "### 11. Find output: "
   ]
  },
  {
   "cell_type": "code",
   "execution_count": 12,
   "metadata": {},
   "outputs": [
    {
     "name": "stdout",
     "output_type": "stream",
     "text": [
      "Num:  0\n",
      "Loop Ends\n"
     ]
    }
   ],
   "source": [
    "#Num: 0\n",
    "#Loop Ends\n",
    "for num in range(10):\n",
    "    print(\"Num: \",num)\n",
    "    if num%4 ==0:\n",
    "        break\n",
    "print(\"Loop Ends\")\n",
    "            "
   ]
  },
  {
   "cell_type": "code",
   "execution_count": 1,
   "metadata": {
    "scrolled": true
   },
   "outputs": [],
   "source": [
    "# Num : 0\n",
    "# System Exit\n"
   ]
  },
  {
   "cell_type": "markdown",
   "metadata": {},
   "source": [
    "### 12. Find the output of the following code snippets.  #  ==========>"
   ]
  },
  {
   "cell_type": "code",
   "execution_count": 16,
   "metadata": {},
   "outputs": [
    {
     "name": "stdout",
     "output_type": "stream",
     "text": [
      "*****\n",
      "*****\n",
      "*****\n",
      "*****\n",
      "*****\n"
     ]
    }
   ],
   "source": [
    "\"\"\"\n",
    "\n",
    "*****\n",
    "*****\n",
    "*****\n",
    "*****\n",
    "*****\n",
    "\n",
    "\"\"\"\n",
    "for i1 in range (1,6):\n",
    "    for i2 in range(5):\n",
    "        print('*', end='')\n",
    "    print()"
   ]
  },
  {
   "cell_type": "code",
   "execution_count": 17,
   "metadata": {},
   "outputs": [
    {
     "name": "stdout",
     "output_type": "stream",
     "text": [
      "1\n",
      "22\n",
      "333\n",
      "4444\n",
      "55555\n"
     ]
    }
   ],
   "source": [
    "\"\"\"\n",
    "1\n",
    "22\n",
    "333\n",
    "4444      \n",
    "55555\n",
    "\"\"\"\n",
    "for i1 in range(1,6):\n",
    "    print(str(i1)*i1)"
   ]
  },
  {
   "cell_type": "code",
   "execution_count": 20,
   "metadata": {},
   "outputs": [
    {
     "name": "stdout",
     "output_type": "stream",
     "text": [
      "**\n",
      "***\n",
      "****\n",
      "*****\n",
      "******\n"
     ]
    }
   ],
   "source": [
    "\"\"\"\n",
    "**\n",
    "***\n",
    "****\n",
    "*****\n",
    "******\n",
    "\"\"\"\n",
    "for i1 in range (1,6):\n",
    "    for i2 in range(i1+1):\n",
    "        print('*', end='')\n",
    "    print()"
   ]
  },
  {
   "cell_type": "code",
   "execution_count": null,
   "metadata": {},
   "outputs": [],
   "source": []
  },
  {
   "cell_type": "code",
   "execution_count": null,
   "metadata": {},
   "outputs": [],
   "source": []
  }
 ],
 "metadata": {
  "kernelspec": {
   "display_name": "Python 3",
   "language": "python",
   "name": "python3"
  },
  "language_info": {
   "codemirror_mode": {
    "name": "ipython",
    "version": 3
   },
   "file_extension": ".py",
   "mimetype": "text/x-python",
   "name": "python",
   "nbconvert_exporter": "python",
   "pygments_lexer": "ipython3",
   "version": "3.7.9"
  }
 },
 "nbformat": 4,
 "nbformat_minor": 4
}
