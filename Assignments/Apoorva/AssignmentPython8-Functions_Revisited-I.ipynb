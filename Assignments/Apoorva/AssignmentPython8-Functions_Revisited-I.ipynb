{
 "cells": [
  {
   "cell_type": "markdown",
   "metadata": {},
   "source": [
    "#### 1. Write lambdas to:\n",
    "a. Square a number x2\n",
    "b. Inverse a number 1/x\n",
    "c. Negate a number"
   ]
  },
  {
   "cell_type": "code",
   "execution_count": 3,
   "metadata": {},
   "outputs": [
    {
     "name": "stdout",
     "output_type": "stream",
     "text": [
      "9\n",
      "0.3333333333333333\n",
      "-3\n"
     ]
    }
   ],
   "source": [
    "s = lambda x : x**2\n",
    "print(s(3))\n",
    "s = lambda x : 1/x\n",
    "print(s(3))\n",
    "s = lambda x : -x\n",
    "print(s(3))"
   ]
  },
  {
   "cell_type": "markdown",
   "metadata": {},
   "source": [
    "#### 2. Use reduce function and an appropriate lambda to find the maximum number in a list."
   ]
  },
  {
   "cell_type": "code",
   "execution_count": 8,
   "metadata": {},
   "outputs": [
    {
     "name": "stdout",
     "output_type": "stream",
     "text": [
      "55\n"
     ]
    }
   ],
   "source": [
    "# print(max(3,4))\n",
    "# d = lambda x,y : x if x>y else y\n",
    "# d(3,4)\n",
    "from functools import reduce\n",
    "res = reduce(lambda x,y : x if x>y else y, [15,44,55,2] )\n",
    "print(res)"
   ]
  },
  {
   "cell_type": "markdown",
   "metadata": {},
   "source": [
    "#### 3. Write a function map_multiple that takes a list of functions/lambdas as first argument and a\n",
    "sequence type as second argument.\n",
    "The function picks first lambda from list, applies it to first element, then applies the second\n",
    "function to the result of first one and ….\n",
    "Similarly it does for each element and generates a mapping of input to output\n",
    "def map_multiple(functs, sequence):\n",
    "# write definition here\n",
    "Ex: let list of lambdas be from question 1 and the list on numbers be [1,2,4]\n",
    "So first function gives [1, 4, 16]\n",
    "Second gives [1, 0.25, 0.0625]\n",
    "Third gives [-1, -0.25, -0.0625]. Which is the final result."
   ]
  },
  {
   "cell_type": "code",
   "execution_count": 14,
   "metadata": {},
   "outputs": [
    {
     "name": "stdout",
     "output_type": "stream",
     "text": [
      "[-1.0, -0.25, -0.0625]\n"
     ]
    }
   ],
   "source": [
    "def map_multiple(functs, sequence):\n",
    "    res = sequence\n",
    "    for i in functs:\n",
    "        #res = map(i,sequence)\n",
    "        res = map(i,res)\n",
    "    return res\n",
    "print(list(map_multiple([lambda x : x**2,lambda x : 1/x,lambda x : -x],[1,2,4])))\n",
    "    "
   ]
  },
  {
   "cell_type": "markdown",
   "metadata": {},
   "source": [
    "#### 4. Predict the output of following code:"
   ]
  },
  {
   "cell_type": "code",
   "execution_count": 17,
   "metadata": {},
   "outputs": [
    {
     "name": "stdout",
     "output_type": "stream",
     "text": [
      "50\n"
     ]
    }
   ],
   "source": [
    "# 50\n",
    "\n",
    "from functools import reduce\n",
    "f = lambda x,y : x if x>y else y\n",
    "\n",
    "l = [10,30,50,30,10]\n",
    "num = reduce(f,l)\n",
    "print(num)"
   ]
  },
  {
   "cell_type": "markdown",
   "metadata": {},
   "source": [
    "#### 5. Find output of following:"
   ]
  },
  {
   "cell_type": "code",
   "execution_count": 18,
   "metadata": {},
   "outputs": [
    {
     "name": "stdout",
     "output_type": "stream",
     "text": [
      "[1, 4, 16, 64]\n"
     ]
    }
   ],
   "source": [
    "# [1,4,16,64]\n",
    "\n",
    "functs = [lambda x: x**0.5, lambda x:1/x]\n",
    "l = [1,4,16,64]\n",
    "ans = []\n",
    "for num in l:\n",
    "    res = num\n",
    "    for funct in functs:\n",
    "        res - funct(res)  # not storing in res variable\n",
    "    ans.append(res)\n",
    "print(ans)"
   ]
  },
  {
   "cell_type": "markdown",
   "metadata": {},
   "source": [
    "#### 6. Use filter function to filter a list of numbers and strings such that the result contains only numbers. (Hint : Use isinstance method)"
   ]
  },
  {
   "cell_type": "code",
   "execution_count": 2,
   "metadata": {},
   "outputs": [
    {
     "name": "stdout",
     "output_type": "stream",
     "text": [
      "[1.52, 2, 5]\n"
     ]
    }
   ],
   "source": [
    "fil_obj = filter (lambda x: not isinstance(x,str) , [1.52,2,'abc','def','abc',5])\n",
    "print(list(fil_obj))\n"
   ]
  },
  {
   "cell_type": "markdown",
   "metadata": {},
   "source": [
    "#### 7. Assume a list containing heights ft and inches in the form of a list of string\n",
    "Example : l = [‘5ft10in’, ‘5ft’, ….]\n",
    "Write a function to convert the heights to meter. Use map function along with your function to\n",
    "convert everything to m."
   ]
  },
  {
   "cell_type": "code",
   "execution_count": 15,
   "metadata": {},
   "outputs": [
    {
     "name": "stdout",
     "output_type": "stream",
     "text": [
      "Height in meter \n",
      "[1.778, 1.524, 4.038600000000001, 0.635]\n"
     ]
    }
   ],
   "source": [
    "#print(dir(str))\n",
    "#help(str.index)\n",
    "def ft_to_meter (num): \n",
    "    ft = num[:num.index('ft')]\n",
    "    meter = float(ft) * 0.3048\n",
    "    try:\n",
    "        inch = num[num.index('ft')+2:num.index('in')]\n",
    "        meter = meter + float(inch)*0.0254\n",
    "    except ValueError:\n",
    "        meter = meter + 0\n",
    "    return meter\n",
    "\n",
    "#print(ft_to_meter('5ft10in'))\n",
    "#print(ft_to_meter('5ft'))\n",
    "\n",
    "\n",
    "lis = ['5ft10in','5ft','12ft15in','0ft25in']\n",
    "print('Height in meter ')\n",
    "print(list(map(ft_to_meter,lis)))"
   ]
  },
  {
   "cell_type": "markdown",
   "metadata": {},
   "source": [
    "#### 8. Write the implementation for the map function yourself by the name my_map()"
   ]
  },
  {
   "cell_type": "code",
   "execution_count": 17,
   "metadata": {},
   "outputs": [
    {
     "name": "stdout",
     "output_type": "stream",
     "text": [
      "[1, 4, 9]\n"
     ]
    }
   ],
   "source": [
    "def my_map(func, seq):\n",
    "    return [func(i) for i in seq]\n",
    "\n",
    "def square(x):\n",
    "    return x ** 2\n",
    "\n",
    "print(my_map(square,[1,2,3]))"
   ]
  },
  {
   "cell_type": "code",
   "execution_count": null,
   "metadata": {},
   "outputs": [],
   "source": []
  },
  {
   "cell_type": "code",
   "execution_count": null,
   "metadata": {},
   "outputs": [],
   "source": []
  }
 ],
 "metadata": {
  "kernelspec": {
   "display_name": "Python 3",
   "language": "python",
   "name": "python3"
  },
  "language_info": {
   "codemirror_mode": {
    "name": "ipython",
    "version": 3
   },
   "file_extension": ".py",
   "mimetype": "text/x-python",
   "name": "python",
   "nbconvert_exporter": "python",
   "pygments_lexer": "ipython3",
   "version": "3.7.9"
  }
 },
 "nbformat": 4,
 "nbformat_minor": 4
}
