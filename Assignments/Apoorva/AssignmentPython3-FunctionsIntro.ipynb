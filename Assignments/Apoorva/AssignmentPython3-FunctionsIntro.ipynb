{
 "cells": [
  {
   "cell_type": "markdown",
   "metadata": {},
   "source": [
    "### 1. WAP to input 2 strings and swap the strings"
   ]
  },
  {
   "cell_type": "code",
   "execution_count": 1,
   "metadata": {},
   "outputs": [
    {
     "name": "stdout",
     "output_type": "stream",
     "text": [
      "Enter first string abc\n",
      "Enter second string def\n",
      "s1 =  def\n",
      "s2 =  abc\n"
     ]
    }
   ],
   "source": [
    "s1 = input('Enter first string ');\n",
    "s2 = input('Enter second string ');\n",
    "s1,s2 =s2,s1\n",
    "print(\"s1 = \",s1)\n",
    "print(\"s2 = \",s2)"
   ]
  },
  {
   "cell_type": "markdown",
   "metadata": {},
   "source": [
    "### 2. WAP to generate 4 random numbers in the range 0-26 and print their average"
   ]
  },
  {
   "cell_type": "code",
   "execution_count": 2,
   "metadata": {},
   "outputs": [
    {
     "name": "stdout",
     "output_type": "stream",
     "text": [
      "13\n",
      "4\n",
      "22\n",
      "6\n",
      "Average =  11.25\n"
     ]
    }
   ],
   "source": [
    "import random\n",
    "sum =0 # without sum =0 error comes up if not present in namespace or takes garbage\n",
    "#print(dir())\n",
    "for i in range(1,5):\n",
    "    x = random.randint(0,26)\n",
    "    print(x)\n",
    "    sum = sum + x;\n",
    "    \n",
    "\n",
    "print('Average = ',sum/4)\n",
    "\n"
   ]
  },
  {
   "cell_type": "markdown",
   "metadata": {},
   "source": [
    "### 3. WAP to generate and print a random uppercase or lowercase alphabet. Try these:\n",
    "• Create a string containing all alphabets and then select a random alphabet.<br>\n",
    "• Check the module string"
   ]
  },
  {
   "cell_type": "code",
   "execution_count": 15,
   "metadata": {},
   "outputs": [
    {
     "name": "stdout",
     "output_type": "stream",
     "text": [
      "h\n"
     ]
    }
   ],
   "source": [
    "import string\n",
    "#print(dir(string))\n",
    "s = string.ascii_lowercase + string.ascii_uppercase\n",
    "#print(s)\n",
    "print(s[random.randint(0,len(s))])"
   ]
  },
  {
   "cell_type": "markdown",
   "metadata": {},
   "source": [
    "### 4. WAF get_si() that takes Principle, Rate and Time as arguments and returns the Simple Interest."
   ]
  },
  {
   "cell_type": "code",
   "execution_count": 17,
   "metadata": {},
   "outputs": [
    {
     "name": "stdout",
     "output_type": "stream",
     "text": [
      "Simple Interest is : 4.5\n"
     ]
    }
   ],
   "source": [
    "def get_si(p,r,t):\n",
    "    return p*r*t/100;\n",
    "    \n",
    "print(\"Simple Interest is : \" + str(get_si(100,1.5,3)))"
   ]
  },
  {
   "cell_type": "markdown",
   "metadata": {},
   "source": [
    "### 5. WAF get_amount() that takes Principle, Rate and Time as arguments and returns the \n",
    "Total amount using the get_si() function from above to calculate the SI. \n",
    "Also provide Rate = 10 and Time = 1 as default arguments."
   ]
  },
  {
   "cell_type": "code",
   "execution_count": 19,
   "metadata": {},
   "outputs": [
    {
     "name": "stdout",
     "output_type": "stream",
     "text": [
      "Amount  is : 104.5\n",
      "Amount  is : 103.0\n"
     ]
    }
   ],
   "source": [
    "def get_amount(p,r=10,t=1):\n",
    "    return p + get_si(p,r,t)\n",
    "\n",
    "print(\"Amount  is : \" + str(get_amount(100,1.5,3)))\n",
    "print(\"Amount  is : \" + str(get_amount(100,3)))"
   ]
  },
  {
   "cell_type": "markdown",
   "metadata": {},
   "source": [
    "### 6. WAP get_ci() that takes Principle, Rate and Time as arguments and returns the Compound Interest."
   ]
  },
  {
   "cell_type": "code",
   "execution_count": 21,
   "metadata": {},
   "outputs": [
    {
     "name": "stdout",
     "output_type": "stream",
     "text": [
      "Compount Interest is : 4.567837499999968\n"
     ]
    }
   ],
   "source": [
    "def get_ci(p,r,t):\n",
    "    return p*(1+r/100)**t-p;\n",
    "print(\"Compount Interest is : \" + str(get_ci(100,1.5,3)))"
   ]
  },
  {
   "cell_type": "markdown",
   "metadata": {},
   "source": [
    "### 7. WAP get_q_r() taking 2 numbers as parameters and returns the quotient and remainder in the form of a tuple."
   ]
  },
  {
   "cell_type": "code",
   "execution_count": 24,
   "metadata": {},
   "outputs": [
    {
     "name": "stdout",
     "output_type": "stream",
     "text": [
      "(3.0, 1.1000000000000005)\n",
      "(3.2894736842105265, 1.1000000000000005)\n"
     ]
    }
   ],
   "source": [
    "def get_q_r(x,y):\n",
    "    q = x//y\n",
    "    r =x%y\n",
    "    return q,r\n",
    "print(get_q_r(12.5,3.8))\n",
    "\n",
    "def get_q_r2(x,y):\n",
    "    q = x/y\n",
    "    r =x%y\n",
    "    return q,r\n",
    "print(get_q_r2(12.5,3.8))"
   ]
  },
  {
   "cell_type": "markdown",
   "metadata": {},
   "source": [
    "### 8. WAP to find the length of hypotenuse of a right angled triangle, input the height and base from user."
   ]
  },
  {
   "cell_type": "code",
   "execution_count": 26,
   "metadata": {},
   "outputs": [
    {
     "name": "stdout",
     "output_type": "stream",
     "text": [
      "Enter height: 3\n",
      "Enter base: 4\n",
      "Hypotenuse:  5.0\n"
     ]
    }
   ],
   "source": [
    "import math\n",
    "h = int(input(\"Enter height: \"))\n",
    "b = int(input(\"Enter base: \"))\n",
    "\n",
    "print('Hypotenuse: ',math.sqrt(h**2+b**2))"
   ]
  },
  {
   "cell_type": "markdown",
   "metadata": {},
   "source": [
    "### 9. WAP to input number of seconds and print in days, hours, minutes and seconds\n",
    "ex: input = 10000\n",
    "Output = 0 day 2 hour 46 minute 40 second"
   ]
  },
  {
   "cell_type": "code",
   "execution_count": 28,
   "metadata": {},
   "outputs": [
    {
     "name": "stdout",
     "output_type": "stream",
     "text": [
      "Enter seconds: 172800\n",
      "DAys:  2.0\n",
      "hrs:  48.0\n",
      "minutes:  2880.0\n",
      "seconds:  172800\n"
     ]
    }
   ],
   "source": [
    "sec = int(input('Enter seconds: '))\n",
    "print('DAys: ',sec/60/60/24)\n",
    "print('hrs: ',sec/60/60)\n",
    "print('minutes: ',sec/60)\n",
    "print('seconds: ',sec)"
   ]
  },
  {
   "cell_type": "markdown",
   "metadata": {},
   "source": [
    "### 10. Check your version of python interpreter without opening the interpreter (Which command needs to be used on the command line)."
   ]
  },
  {
   "cell_type": "markdown",
   "metadata": {},
   "source": [
    "Python 3.7.9"
   ]
  },
  {
   "attachments": {},
   "cell_type": "markdown",
   "metadata": {},
   "source": [
    "### 11. Find output:\n"
   ]
  },
  {
   "cell_type": "code",
   "execution_count": 30,
   "metadata": {},
   "outputs": [
    {
     "name": "stdout",
     "output_type": "stream",
     "text": [
      "2 -2\n"
     ]
    }
   ],
   "source": [
    "x=2\n",
    "x*=3\n",
    "x=x%4\n",
    "y=-x\n",
    "print(x,y)\n",
    "\n",
    "# Output ==> 2,-2"
   ]
  },
  {
   "cell_type": "markdown",
   "metadata": {},
   "source": [
    "### 12. Find output:"
   ]
  },
  {
   "cell_type": "code",
   "execution_count": 31,
   "metadata": {},
   "outputs": [
    {
     "name": "stdout",
     "output_type": "stream",
     "text": [
      "None\n"
     ]
    }
   ],
   "source": [
    "def funct():\n",
    "    pass\n",
    "print(funct())\n",
    "# Output==> None"
   ]
  },
  {
   "cell_type": "markdown",
   "metadata": {},
   "source": [
    "### 13. Read and complete till Part-3: (Part-4 After OOPs)\n",
    "https://medium.com/the-python-diary/getting-around-complex-numbers-77308982178d"
   ]
  },
  {
   "cell_type": "code",
   "execution_count": null,
   "metadata": {},
   "outputs": [],
   "source": []
  }
 ],
 "metadata": {
  "kernelspec": {
   "display_name": "Python 3",
   "language": "python",
   "name": "python3"
  },
  "language_info": {
   "codemirror_mode": {
    "name": "ipython",
    "version": 3
   },
   "file_extension": ".py",
   "mimetype": "text/x-python",
   "name": "python",
   "nbconvert_exporter": "python",
   "pygments_lexer": "ipython3",
   "version": "3.7.9"
  }
 },
 "nbformat": 4,
 "nbformat_minor": 4
}
