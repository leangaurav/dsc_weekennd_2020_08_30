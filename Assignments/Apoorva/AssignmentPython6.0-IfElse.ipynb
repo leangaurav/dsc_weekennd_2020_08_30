{
 "cells": [
  {
   "cell_type": "markdown",
   "metadata": {},
   "source": [
    "### 1. WAP to input 2 numbers and check whether the first is divisible by the second and print true or false depending on the divisibility."
   ]
  },
  {
   "cell_type": "code",
   "execution_count": 3,
   "metadata": {},
   "outputs": [
    {
     "name": "stdout",
     "output_type": "stream",
     "text": [
      "Enter number 1: 10\n",
      "Enter number 2: 2\n",
      "10 is divisible by 2\n"
     ]
    }
   ],
   "source": [
    "n1 = int(input('Enter number 1: '))\n",
    "n2 = int(input('Enter number 2: '))\n",
    "\n",
    "if (n1%n2):\n",
    "    print(f'{n1} is not divisible by {n2}')\n",
    "else:\n",
    "    print(f'{n1} is divisible by {n2}')"
   ]
  },
  {
   "cell_type": "markdown",
   "metadata": {},
   "source": [
    "### 2. In the palindrome example, make the code case insensitive. i.e. Naman should also be treated as a palindrome (HINT: first convert to either upper or lower case). "
   ]
  },
  {
   "cell_type": "code",
   "execution_count": 16,
   "metadata": {},
   "outputs": [
    {
     "name": "stdout",
     "output_type": "stream",
     "text": [
      "ENter string: Naman\n",
      "Is palindrome\n"
     ]
    }
   ],
   "source": [
    "s = input('ENter string: ')\n",
    "s= s.upper()\n",
    "#print(dir(str))\n",
    "i=0\n",
    "count =0\n",
    "while i<len(s)//2:\n",
    "    if(s[i] == s[len(s)-1-i]):\n",
    "        count+=1\n",
    "    i+=1\n",
    "\n",
    "if count == len(s)//2:\n",
    "    print('Is palindrome')\n",
    "else:\n",
    "    print('Not Palindrome')"
   ]
  },
  {
   "cell_type": "markdown",
   "metadata": {},
   "source": [
    "### 3. WAP to input the sides of a triangle and print whether equilateral(all sides equal), isosceles (2 sides equal), or scalene (no sides equal). "
   ]
  },
  {
   "cell_type": "code",
   "execution_count": 18,
   "metadata": {},
   "outputs": [
    {
     "name": "stdout",
     "output_type": "stream",
     "text": [
      "Enter 3 sides: 5\n",
      "3\n",
      "5\n",
      "Isosceles \n"
     ]
    }
   ],
   "source": [
    "a = int(input('Enter 3 sides: '))\n",
    "b = int(input())\n",
    "c = int(input())\n",
    "\n",
    "if(a==b and b==c and c==a):\n",
    "    print('Equilateral ')\n",
    "elif (a==b or b==c or c==a):\n",
    "    print('Isosceles ')\n",
    "else:\n",
    "    print('Scalene ')"
   ]
  },
  {
   "cell_type": "markdown",
   "metadata": {},
   "source": [
    "### 4. WAP to input a number and print if it is even or odd. "
   ]
  },
  {
   "cell_type": "code",
   "execution_count": 21,
   "metadata": {},
   "outputs": [
    {
     "name": "stdout",
     "output_type": "stream",
     "text": [
      "Enter number 50\n",
      "Even\n"
     ]
    }
   ],
   "source": [
    "n =int(input('Enter number '))\n",
    "if(n%2):\n",
    " print('Odd')\n",
    "else:\n",
    " print('Even')"
   ]
  },
  {
   "cell_type": "markdown",
   "metadata": {},
   "source": [
    "### 5. WAP to input age and print the respective text depending on the age ranges as present in the table. "
   ]
  },
  {
   "cell_type": "code",
   "execution_count": 27,
   "metadata": {},
   "outputs": [
    {
     "name": "stdout",
     "output_type": "stream",
     "text": [
      "Enter Age: 1000\n",
      "Congratulations\n"
     ]
    }
   ],
   "source": [
    "age = int(input('Enter Age: '))\n",
    "\n",
    "if 0<=age<=12:\n",
    "    print('Child')\n",
    "elif age<=17:\n",
    "    print('Teen')\n",
    "elif age<=50:\n",
    "    print('Adult')\n",
    "elif age<=100:\n",
    "    print('Senior Citizen')\n",
    "else:\n",
    "    print('Congratulations')\n",
    "    "
   ]
  },
  {
   "cell_type": "markdown",
   "metadata": {},
   "source": [
    "### 6. WAP to input year (check if user enters valid year. Should be 4-digit number and should not be negative) and print whether leap year or not. (If really interested in why you also have to check the divisibility by 400 just google the exact time it takes for the earth to revolve around the sub) "
   ]
  },
  {
   "cell_type": "code",
   "execution_count": 39,
   "metadata": {},
   "outputs": [
    {
     "name": "stdout",
     "output_type": "stream",
     "text": [
      "Enter year: 1230\n",
      "Not leap year \n"
     ]
    }
   ],
   "source": [
    "year = int(input('Enter year: '))\n",
    "if(year<0 or year <1000):\n",
    "    print('not a valid year ')\n",
    "else:\n",
    "    if (year%4 == 0 ):\n",
    "        if (year%100 != 0 ):\n",
    "            print('Leap Year')\n",
    "        elif ( year %400==0 ): #year %100 == 0 and year %400==0\n",
    "            print('Leap Year')\n",
    "        elif (year %400!=0): #year %100 == 0 and year %400!=0\n",
    "            print('Not Leap Year') \n",
    "    else:\n",
    "        print('Not leap year ')"
   ]
  },
  {
   "cell_type": "markdown",
   "metadata": {},
   "source": [
    "### 7. WAP to input a string and convert it to Upper Case if number of characters is odd and convert to lower case otherwise. "
   ]
  },
  {
   "cell_type": "code",
   "execution_count": 45,
   "metadata": {},
   "outputs": [
    {
     "name": "stdout",
     "output_type": "stream",
     "text": [
      "ENter string: ssssspppAAAAA\n",
      "SSSSSPPPAAAAA\n"
     ]
    }
   ],
   "source": [
    "s = input('ENter string: ')\n",
    "if(len(s) % 2 != 0):\n",
    "    print(s.upper())\n",
    "else:\n",
    "    print(s.lower())"
   ]
  },
  {
   "cell_type": "markdown",
   "metadata": {},
   "source": [
    "### 8. WAP to input a string and print Veg if the string doesn’t contain the word egg. Otherwise print Non-Veg. As usual eggs can be both big and small. "
   ]
  },
  {
   "cell_type": "code",
   "execution_count": 6,
   "metadata": {},
   "outputs": [
    {
     "name": "stdout",
     "output_type": "stream",
     "text": [
      "ENter string: chicken or EGG ?\n",
      "Non-Veg\n"
     ]
    }
   ],
   "source": [
    "s = input('ENter string: ')\n",
    "#print(dir(s))\n",
    "#i = s.find('ghg')\n",
    "#print(i)\n",
    "\n",
    "if(s.lower().find(' egg ')!=-1 or s.lower().find(' eggs ')!=-1 ): # finds word ' egg ' or ' eggs ' => Note the space\n",
    "    print('Non-Veg')\n",
    "else:\n",
    "    print('Veg')"
   ]
  },
  {
   "cell_type": "markdown",
   "metadata": {},
   "source": [
    "### 9. Give output of: "
   ]
  },
  {
   "cell_type": "code",
   "execution_count": 7,
   "metadata": {},
   "outputs": [
    {
     "name": "stdout",
     "output_type": "stream",
     "text": [
      "True\n"
     ]
    }
   ],
   "source": [
    "#True\n",
    "#\n",
    "if not 1:\n",
    "    print(\"False\")\n",
    "else:\n",
    "    print(\"True\")"
   ]
  },
  {
   "cell_type": "code",
   "execution_count": 8,
   "metadata": {},
   "outputs": [
    {
     "name": "stdout",
     "output_type": "stream",
     "text": [
      "True\n"
     ]
    }
   ],
   "source": [
    "#True\n",
    "if 1:\n",
    "    print(\"True\")\n",
    "else:\n",
    "    print(\"False\")"
   ]
  },
  {
   "cell_type": "code",
   "execution_count": 12,
   "metadata": {},
   "outputs": [
    {
     "name": "stdout",
     "output_type": "stream",
     "text": [
      "Weird !!\n",
      "Make Sense\n"
     ]
    }
   ],
   "source": [
    "#Weird !!\n",
    "if 'a'>'A':\n",
    "    print('Weird !!')\n",
    "else:\n",
    "    print('Make Sense')\n",
    "\n",
    "#Make Sense => 'b'>'B'\n",
    "if 'aBC'>'abc':\n",
    "    print('Weird !!')\n",
    "else:\n",
    "    print('Make Sense')"
   ]
  },
  {
   "cell_type": "code",
   "execution_count": 13,
   "metadata": {},
   "outputs": [
    {
     "name": "stdout",
     "output_type": "stream",
     "text": [
      "[4, 3, 2, 1]\n"
     ]
    }
   ],
   "source": [
    "# [4,3,2,1]\n",
    "a= [1,2,3,4]\n",
    "if 1>1:\n",
    "    a=a[::-1]\n",
    "else:\n",
    "    a=a[-1::-1]\n",
    "print(a)"
   ]
  },
  {
   "cell_type": "markdown",
   "metadata": {},
   "source": [
    "### 10. WAP to input marks in 5 subjects and print the grade as per following logic:\n",
    "% between 90-100 Grade-A <br>\n",
    "% between 80 - 89 Grade-B<br>\n",
    "% between 60 - 79 Grade-C<br>\n",
    "% < 60 Grade-F "
   ]
  },
  {
   "cell_type": "code",
   "execution_count": 14,
   "metadata": {},
   "outputs": [
    {
     "name": "stdout",
     "output_type": "stream",
     "text": [
      "Enter marks in 5 subjects: 85\n",
      "85\n",
      "85\n",
      "85\n",
      "85\n",
      "Grade B \n"
     ]
    }
   ],
   "source": [
    "sub1 = int(input('Enter marks in 5 subjects: '))\n",
    "sub2 = int(input())\n",
    "sub3 = int(input())\n",
    "sub4 = int(input())\n",
    "sub5 = int(input())\n",
    "\n",
    "per = (sub1+sub2+sub3+sub4+sub5)/5\n",
    "\n",
    "if (per>=90):\n",
    "    print(\"Grade A \")\n",
    "elif(per>=80):\n",
    "    print(\"Grade B \")\n",
    "elif(per>=60):\n",
    "    print(\"Grade C \")\n",
    "else:\n",
    "    print(\"Grade D \")"
   ]
  },
  {
   "cell_type": "markdown",
   "metadata": {},
   "source": [
    "### 11. WAP to input age and salary and calculate Tax as per tax rates if following table: "
   ]
  },
  {
   "cell_type": "code",
   "execution_count": 17,
   "metadata": {},
   "outputs": [
    {
     "name": "stdout",
     "output_type": "stream",
     "text": [
      "Enter salary: 10000000\n",
      "ENter age: 21\n",
      "1500000.0\n"
     ]
    }
   ],
   "source": [
    "sal = float(input(\"Enter salary: \"))\n",
    "age = int(input('ENter age: '))\n",
    "if (sal<=250000):\n",
    "    tax_rate=0\n",
    "elif (sal<=500000):\n",
    "    if(age<60):\n",
    "        tax_rate=5\n",
    "    else:\n",
    "        tax_rate=3\n",
    "elif (sal<=1000000):\n",
    "    if(age<60):\n",
    "        tax_rate=10\n",
    "    else:\n",
    "        tax_rate=8\n",
    "else:\n",
    "    if(age<60):\n",
    "        tax_rate=15\n",
    "    else:\n",
    "        tax_rate=12\n",
    "        \n",
    "tax = tax_rate*sal/100\n",
    "print(tax)"
   ]
  },
  {
   "cell_type": "markdown",
   "metadata": {},
   "source": [
    "### 12. Try each of the below statements separately (remember difference between statement and expression) on the python interpreter and guess the output before trying: "
   ]
  },
  {
   "cell_type": "markdown",
   "metadata": {},
   "source": [
    "### Statements   ==============>\n",
    "Dont evaluate to anything \\\n",
    "Can't print results \\\n",
    "if, for\n",
    "\n",
    "if condn: \\\n",
    "stmt \\\n",
    "else:\\\n",
    " stmt"
   ]
  },
  {
   "cell_type": "markdown",
   "metadata": {},
   "source": [
    "### Expressions\n",
    "Evaluate to something \\\n",
    "Can print results \\\n",
    "Fn call\n",
    "\n",
    "if expression \\\n",
    "exp_if_true if condn else exp_if_false"
   ]
  },
  {
   "cell_type": "code",
   "execution_count": 19,
   "metadata": {},
   "outputs": [
    {
     "name": "stdout",
     "output_type": "stream",
     "text": [
      "10\n"
     ]
    }
   ],
   "source": [
    "#10\n",
    "print(20 if not 1==1 else 10)"
   ]
  },
  {
   "cell_type": "code",
   "execution_count": 31,
   "metadata": {},
   "outputs": [
    {
     "name": "stdout",
     "output_type": "stream",
     "text": [
      "10\n"
     ]
    }
   ],
   "source": [
    "#10\n",
    "print(30 if not 1==1 else 20 if 'a'<'A' else 10)"
   ]
  },
  {
   "cell_type": "code",
   "execution_count": 21,
   "metadata": {},
   "outputs": [
    {
     "name": "stdout",
     "output_type": "stream",
     "text": [
      "10\n"
     ]
    }
   ],
   "source": [
    "#10 \n",
    "print(40 if not 1==1 else 30 if 'a' < 'A' else 20 if '' else 10)"
   ]
  },
  {
   "cell_type": "code",
   "execution_count": 30,
   "metadata": {},
   "outputs": [
    {
     "name": "stdout",
     "output_type": "stream",
     "text": [
      "OMG\n"
     ]
    }
   ],
   "source": [
    "#OMG\n",
    "print('No' if not 1==1 else ('No' if 'a'< 'A' else ('OMG' if 'oh!!' else 'No')))"
   ]
  },
  {
   "cell_type": "markdown",
   "metadata": {},
   "source": [
    "### 13. WAF: bmi() that takes the weight in kg and height in cm of a person, calculates and returns the\n",
    "BMI.\n",
    "Write code that calls this function after taking height and weight as inputs and then prints\n",
    "underweight, normal, overweight or obese depending on the value of BMI.\n",
    "Refer this link for the ranges:\n",
    " https://en.wikipedia.org/wiki/Body_mass_index \n"
   ]
  },
  {
   "cell_type": "code",
   "execution_count": 39,
   "metadata": {},
   "outputs": [
    {
     "name": "stdout",
     "output_type": "stream",
     "text": [
      "Enter Height in meters: 1.7\n",
      "Enter Weight in kg: 60\n",
      "Normal \n"
     ]
    }
   ],
   "source": [
    "height =float (input(\"Enter Height in meters: \"))\n",
    "weight =float (input(\"Enter Weight in kg: \"))\n",
    "\n",
    "def bmi(height , weight):\n",
    "    #print(weight/height**2 )\n",
    "    return weight/height**2 \n",
    "\n",
    "if 16<=bmi(height, weight)<=18.5:\n",
    "    print('Underweight ')\n",
    "elif bmi(height, weight)<=25:\n",
    "     print('Normal ')\n",
    "elif bmi(height, weight)<=30:\n",
    "     print('Overweight ')\n",
    "else:\n",
    "    print('Obese')"
   ]
  },
  {
   "cell_type": "markdown",
   "metadata": {},
   "source": [
    "### 14. Take input of age of 3 people by user and determine oldest and youngest among them. "
   ]
  },
  {
   "cell_type": "code",
   "execution_count": 40,
   "metadata": {},
   "outputs": [
    {
     "name": "stdout",
     "output_type": "stream",
     "text": [
      "Age 1: 20\n",
      "Age 2: 21\n",
      "Age 3: 100\n",
      "1 is the youngest\n",
      "3 is the oldest\n"
     ]
    }
   ],
   "source": [
    "age1 = int(input('Age 1: '))\n",
    "age2 = int(input('Age 2: '))\n",
    "age3 = int(input('Age 3: '))\n",
    "\n",
    "if(age1 <age2 and age1< age3):\n",
    "    print('1 is the youngest')\n",
    "elif age2 <age1 and age2< age3:\n",
    "    print('2 is the youngest')\n",
    "else:\n",
    "    print('3 is the youngest')\n",
    "    \n",
    "if(age1 >age2 and age1> age3):\n",
    "    print('1 is the oldest')\n",
    "elif age2 >age1 and age2> age3:\n",
    "    print('2 is the oldest')\n",
    "else:\n",
    "    print('3 is the oldest')"
   ]
  },
  {
   "cell_type": "markdown",
   "metadata": {},
   "source": [
    "### 15. WAP to input a number and check if number is divisible by both 5 and 7. "
   ]
  },
  {
   "cell_type": "code",
   "execution_count": null,
   "metadata": {},
   "outputs": [],
   "source": [
    "n = int(input('Enter number: '))\n",
    "if(n%5 ==0 and n%7==0):\n",
    "    print('Divisible by both 5 and 7')\n",
    "else:\n",
    "    print('Not divisible by 5 and 7')"
   ]
  }
 ],
 "metadata": {
  "kernelspec": {
   "display_name": "Python 3",
   "language": "python",
   "name": "python3"
  },
  "language_info": {
   "codemirror_mode": {
    "name": "ipython",
    "version": 3
   },
   "file_extension": ".py",
   "mimetype": "text/x-python",
   "name": "python",
   "nbconvert_exporter": "python",
   "pygments_lexer": "ipython3",
   "version": "3.7.9"
  }
 },
 "nbformat": 4,
 "nbformat_minor": 4
}
