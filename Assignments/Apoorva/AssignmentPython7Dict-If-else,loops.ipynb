{
 "cells": [
  {
   "cell_type": "markdown",
   "metadata": {},
   "source": [
    "### 1. WAP to create a dictionary of numbers mapped to their negative value for numbers from 1-5.\n",
    "The dictionary should contain something like this:\n",
    "Do with both with and without range based for loop.\n",
    "{1:-1,2:-2,3:-3….} \n"
   ]
  },
  {
   "cell_type": "code",
   "execution_count": 5,
   "metadata": {},
   "outputs": [
    {
     "name": "stdout",
     "output_type": "stream",
     "text": [
      "Range based for:  {1: -1, 2: -2, 3: -3, 4: -4}\n",
      "Without range based for:  {1: -1, 2: -2, 3: -3, 4: -4, 5: -5}\n"
     ]
    }
   ],
   "source": [
    "d={}\n",
    "d1={}\n",
    "for i in range(1,5):\n",
    "     d[i]=-i\n",
    "print(\"Range based for: \",d)\n",
    "\n",
    "i=1\n",
    "while i<=5:\n",
    "    d1[i]=-i\n",
    "    i+=1\n",
    "print(\"Without range based for: \",d1)"
   ]
  },
  {
   "cell_type": "markdown",
   "metadata": {},
   "source": [
    "### 2. Check which of the following declarations will work "
   ]
  },
  {
   "cell_type": "markdown",
   "metadata": {},
   "source": [
    "1. not work \n",
    "2. work \n",
    "3. not work \n",
    "4. work (it is a set not a dictionary)\n",
    "5. will work if c is declared \n",
    "6. work \n",
    "7. work \n",
    "8. work \n",
    "9. not work \n",
    "10. work \n",
    "11. not work \n",
    "12. not work"
   ]
  },
  {
   "cell_type": "markdown",
   "metadata": {},
   "source": [
    "### 3. Read help for zip and write a program that has two lists\n",
    "l1 = [1,2,3,4]\n",
    "l2 = [10,20,30,40]\n",
    "And converts them to a dictionary d containing { 1:10,2:20 …….}"
   ]
  },
  {
   "cell_type": "code",
   "execution_count": 1,
   "metadata": {},
   "outputs": [
    {
     "name": "stdout",
     "output_type": "stream",
     "text": [
      "{1: 10, 2: 20, 3: 30, 4: 40}\n",
      "\n"
     ]
    }
   ],
   "source": [
    "l1 = [1,2,3,4]\n",
    "l2 = [10,20,30,40]\n",
    "\n",
    "#help(zip())\n",
    "\n",
    "print(dict(zip(l1,l2)))\n",
    "print()"
   ]
  },
  {
   "cell_type": "markdown",
   "metadata": {},
   "source": [
    "### 4. Use range based for loop to store all upper case alphabets and their corresponding ASCII\n",
    "values in the dictionary d.\n",
    "The result should be d = {‘A’: 65, ‘B’:66,…..}"
   ]
  },
  {
   "cell_type": "code",
   "execution_count": 7,
   "metadata": {},
   "outputs": [
    {
     "name": "stdout",
     "output_type": "stream",
     "text": [
      "{'A': 0, 'B': 1, 'C': 2, 'D': 3, 'E': 4, 'F': 5, 'G': 6, 'H': 7, 'I': 8, 'J': 9, 'K': 10, 'L': 11, 'M': 12, 'N': 13, 'O': 14, 'P': 15, 'Q': 16, 'R': 17, 'S': 18, 'T': 19, 'U': 20, 'V': 21, 'W': 22, 'X': 23, 'Y': 24, 'Z': 25}\n"
     ]
    }
   ],
   "source": [
    "d={}\n",
    "for i in range(0,26):\n",
    "    d[chr(65+i)] = i\n",
    "print(d)"
   ]
  },
  {
   "cell_type": "markdown",
   "metadata": {},
   "source": [
    "### 5. Create a mapping of number to word from 0-9. (0:’zero’……)\n",
    "• Ask user for a single digit number and print the corresponding word format.\\\n",
    "• Print all keys of above dictionary\\\n",
    "• Print all Values of a dictionary\\\n",
    "• Print all Key and Value pairs of above dictionary"
   ]
  },
  {
   "cell_type": "code",
   "execution_count": 8,
   "metadata": {},
   "outputs": [
    {
     "name": "stdout",
     "output_type": "stream",
     "text": [
      "Enter a digit: 5\n",
      "In word:  five\n",
      "Keys:  dict_keys([0, 1, 2, 3, 4, 5, 6, 7, 8, 9])\n",
      "Values:  dict_values(['zero', 'one', 'two', 'three', 'four', 'five', 'six', 'seven', 'eight', 'nine'])\n",
      "Pairs:  dict_items([(0, 'zero'), (1, 'one'), (2, 'two'), (3, 'three'), (4, 'four'), (5, 'five'), (6, 'six'), (7, 'seven'), (8, 'eight'), (9, 'nine')])\n"
     ]
    }
   ],
   "source": [
    "d ={0:'zero',1:'one',2:'two',3:'three',4:'four',5:'five',6:'six',7:'seven',8:'eight',9:'nine'}\n",
    "dig = int(input('Enter a digit: '))\n",
    "print(\"In word: \",d[dig])\n",
    "print(\"Keys: \",d.keys())\n",
    "print(\"Values: \",d.values())\n",
    "print(\"Pairs: \",d.items())"
   ]
  },
  {
   "cell_type": "markdown",
   "metadata": {},
   "source": [
    "### 6. Predict Output of: "
   ]
  },
  {
   "cell_type": "code",
   "execution_count": 9,
   "metadata": {},
   "outputs": [],
   "source": [
    "# Solution:\n",
    "# {'A':'Apple','B':'Ball','C':'Cat','D':'Dog'}\n",
    "# {'A':'Apple','C':'Cat'}\n"
   ]
  },
  {
   "cell_type": "code",
   "execution_count": 14,
   "metadata": {},
   "outputs": [
    {
     "name": "stdout",
     "output_type": "stream",
     "text": [
      "{'A': 'Apple', 'B': 'Ball', 'C': 'Cat', 'D': 'Dog'}\n",
      "{'A': 'Apple', 'C': 'Cat'}\n"
     ]
    }
   ],
   "source": [
    "l1 =['A','B','C','D']\n",
    "l2 =['Apple','Ball','Cat','Dog']\n",
    "d1 = dict(zip(l1,l2))\n",
    "print(d1)\n",
    "d2 = dict(list(d1.items())[::2])\n",
    "print(d2)\n",
    "\n",
    "#print(list(d1.items()))"
   ]
  },
  {
   "cell_type": "markdown",
   "metadata": {},
   "source": [
    "### 7. WAP to input a string and count occurrence of each vowel in a string.\n",
    "Ex: if user enters:\\\n",
    " “Beautiful Day”\\\n",
    "Output should Be:\\\n",
    " a:2 \\\n",
    " e:1 \\\n",
    " I :1\\\n",
    " o:0\\\n",
    " u:2 \n"
   ]
  },
  {
   "cell_type": "code",
   "execution_count": 2,
   "metadata": {},
   "outputs": [
    {
     "name": "stdout",
     "output_type": "stream",
     "text": [
      "Enter string: Beautiful Day\n",
      "a : 2\n",
      "e : 1\n",
      "i : 1\n",
      "o : 0\n",
      "u : 2\n"
     ]
    }
   ],
   "source": [
    "s = input('Enter string: ')\n",
    "\n",
    "d={'a':0,'e':0,'i':0,'o':0,'u':0}\n",
    "for i in s.lower():\n",
    "    if i in 'aeiou':\n",
    "        d[i]+=1\n",
    "for i,j in d.items():\n",
    "    print(i,\":\",j)"
   ]
  },
  {
   "cell_type": "markdown",
   "metadata": {},
   "source": [
    "### 8. Update above program to print frequency of each alphabet present in string. "
   ]
  },
  {
   "cell_type": "code",
   "execution_count": 25,
   "metadata": {},
   "outputs": [
    {
     "name": "stdout",
     "output_type": "stream",
     "text": [
      "Enter string: Beautiful Day\n",
      "b : 1\n",
      "e : 1\n",
      "a : 2\n",
      "u : 2\n",
      "t : 1\n",
      "i : 1\n",
      "f : 1\n",
      "l : 1\n",
      "d : 1\n",
      "y : 1\n"
     ]
    }
   ],
   "source": [
    "import string\n",
    "#print(dir(string))\n",
    "\n",
    "s = input('Enter string: ')\n",
    "d={}\n",
    "for i in s.lower():\n",
    "    if i in string.ascii_letters:\n",
    "        d[i]=d.get(i,0)+1\n",
    "for i,j in d.items():\n",
    "    print(i,\":\",j)"
   ]
  },
  {
   "cell_type": "markdown",
   "metadata": {},
   "source": [
    "### 9. WAP that takes a string as input and prints frequency of each word. "
   ]
  },
  {
   "cell_type": "code",
   "execution_count": 29,
   "metadata": {},
   "outputs": [
    {
     "name": "stdout",
     "output_type": "stream",
     "text": [
      "Enter string: count the words in the sentence in\n",
      "{'count': 1, 'the': 2, 'words': 1, 'in': 2, 'sentence': 1}\n"
     ]
    }
   ],
   "source": [
    "s = input('Enter string: ')\n",
    "lis = s.split()\n",
    "d={}\n",
    "for i in lis:\n",
    "    if i in d:\n",
    "        d[i] = d[i] + 1\n",
    "    else:\n",
    "        d[i] = 1\n",
    "print(d)"
   ]
  },
  {
   "cell_type": "code",
   "execution_count": null,
   "metadata": {},
   "outputs": [],
   "source": []
  },
  {
   "cell_type": "code",
   "execution_count": null,
   "metadata": {},
   "outputs": [],
   "source": []
  }
 ],
 "metadata": {
  "kernelspec": {
   "display_name": "Python 3",
   "language": "python",
   "name": "python3"
  },
  "language_info": {
   "codemirror_mode": {
    "name": "ipython",
    "version": 3
   },
   "file_extension": ".py",
   "mimetype": "text/x-python",
   "name": "python",
   "nbconvert_exporter": "python",
   "pygments_lexer": "ipython3",
   "version": "3.7.9"
  }
 },
 "nbformat": 4,
 "nbformat_minor": 4
}
