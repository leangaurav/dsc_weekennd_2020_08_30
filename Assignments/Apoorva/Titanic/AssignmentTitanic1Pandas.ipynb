{
 "cells": [
  {
   "cell_type": "markdown",
   "metadata": {},
   "source": [
    "|Variable|Definition|Key|\n",
    "|---|---|---|\n",
    "|survival|Survival|0 = No, 1 = Yes|\n",
    "|pclass|Ticket class|1 = 1st, 2 = 2nd, 3 = 3rd|\n",
    "|gender|gender ||\n",
    "|Age |Age in years| |\n",
    "|sibsp |number of siblings / spouses aboard|\t|\n",
    "|parch |number of parents / children aboard| |\n",
    "|ticket|Ticket number ||\n",
    "|fare | fare| \t|\n",
    "|cabin |Cabin number|\t|\n",
    "|embarked|Port of Embarkation|C = Cherbourg, Q = Queenstown, S = Southampton|\n",
    "|boat | Lifeboat||\n",
    "|body | Body Identification Number||\n",
    "|home.dest| Home/destination||"
   ]
  },
  {
   "cell_type": "markdown",
   "metadata": {},
   "source": []
  },
  {
   "cell_type": "markdown",
   "metadata": {},
   "source": [
    "- Read data and describe it\n",
    "- Find columns with missingdata\n",
    "- Print shape of dataset\n",
    "- drop columns with more than 25% missing data\n",
    "- drop columns having independent values(which do not affect the survival rate).\n",
    "\n",
    "\n",
    "- check data types of all columns\n",
    "- convert price to numeric\n",
    "- find columns still having missing/na values and also count of missing data\n",
    "- fill na with mean for fare and age column column.\n",
    "- drop na values for embarked column.\n",
    "- dump the dataframe to a csv file 'titanic_filtered.csv'.\n",
    "\n",
    "\n",
    "- for surviced column replace 0 with D and 1 with A\n",
    "- find the frequency of different values in survived column\n",
    "- group by gender and survived and see the counts in each category\n",
    "- find different pclass and no of people in each class\n",
    "\n",
    "- find top 5 people with highest values of age. Count no of male and females in the top 5\n",
    "- find max age male and female who survived\n",
    "- get average age by gender\n",
    "- get average age by people survived vs not-survived"
   ]
  },
  {
   "cell_type": "markdown",
   "metadata": {},
   "source": [
    "### Set 1"
   ]
  },
  {
   "cell_type": "markdown",
   "metadata": {},
   "source": [
    "#### Read data and describe it"
   ]
  },
  {
   "cell_type": "code",
   "execution_count": 6,
   "metadata": {},
   "outputs": [],
   "source": [
    "import pandas as pd\n",
    "import numpy as np"
   ]
  },
  {
   "cell_type": "code",
   "execution_count": 22,
   "metadata": {},
   "outputs": [
    {
     "name": "stdout",
     "output_type": "stream",
     "text": [
      "            pclass     survived          age        sibsp        parch  \\\n",
      "count  1309.000000  1309.000000  1046.000000  1309.000000  1309.000000   \n",
      "mean      2.294882     0.381971    29.881135     0.498854     0.385027   \n",
      "std       0.837836     0.486055    14.413500     1.041658     0.865560   \n",
      "min       1.000000     0.000000     0.166700     0.000000     0.000000   \n",
      "25%       2.000000     0.000000    21.000000     0.000000     0.000000   \n",
      "50%       3.000000     0.000000    28.000000     0.000000     0.000000   \n",
      "75%       3.000000     1.000000    39.000000     1.000000     0.000000   \n",
      "max       3.000000     1.000000    80.000000     8.000000     9.000000   \n",
      "\n",
      "             body  \n",
      "count  121.000000  \n",
      "mean   160.809917  \n",
      "std     97.696922  \n",
      "min      1.000000  \n",
      "25%     72.000000  \n",
      "50%    155.000000  \n",
      "75%    256.000000  \n",
      "max    328.000000  \n"
     ]
    }
   ],
   "source": [
    "df = pd.read_csv('titanic_dataset.csv' , index_col=0)\n",
    "#print(df)\n",
    "print(df.describe())\n",
    "df1 = df"
   ]
  },
  {
   "cell_type": "markdown",
   "metadata": {},
   "source": [
    "#### Find columns with missingdata"
   ]
  },
  {
   "cell_type": "code",
   "execution_count": 23,
   "metadata": {},
   "outputs": [
    {
     "name": "stdout",
     "output_type": "stream",
     "text": [
      "      pclass  survived   name  gender    age  sibsp  parch  ticket   fare  \\\n",
      "0      False     False  False   False  False  False  False   False  False   \n",
      "1      False     False  False   False  False  False  False   False  False   \n",
      "2      False     False  False   False  False  False  False   False  False   \n",
      "3      False     False  False   False  False  False  False   False  False   \n",
      "4      False     False  False   False  False  False  False   False  False   \n",
      "...      ...       ...    ...     ...    ...    ...    ...     ...    ...   \n",
      "1304   False     False  False   False  False  False  False   False  False   \n",
      "1305   False     False  False   False   True  False  False   False  False   \n",
      "1306   False     False  False   False  False  False  False   False  False   \n",
      "1307   False     False  False   False  False  False  False   False  False   \n",
      "1308   False     False  False   False  False  False  False   False  False   \n",
      "\n",
      "      cabin  embarked   boat   body  home.dest  \n",
      "0     False     False  False   True      False  \n",
      "1     False     False  False   True      False  \n",
      "2     False     False   True   True      False  \n",
      "3     False     False   True  False      False  \n",
      "4     False     False   True   True      False  \n",
      "...     ...       ...    ...    ...        ...  \n",
      "1304   True     False   True  False       True  \n",
      "1305   True     False   True   True       True  \n",
      "1306   True     False   True  False       True  \n",
      "1307   True     False   True   True       True  \n",
      "1308   True     False   True   True       True  \n",
      "\n",
      "[1309 rows x 14 columns]\n",
      "\n",
      "~~~The columns with missing data are: ~~~~\n",
      "age          True\n",
      "fare         True\n",
      "cabin        True\n",
      "embarked     True\n",
      "boat         True\n",
      "body         True\n",
      "home.dest    True\n",
      "dtype: bool\n"
     ]
    }
   ],
   "source": [
    "r = df.isna()\n",
    "print(r)\n",
    "#print(r.any())\n",
    "print()\n",
    "print('~~~The columns with missing data are: ~~~~')\n",
    "print(r.any()[r.any()])\n",
    "#df[~ r]"
   ]
  },
  {
   "cell_type": "markdown",
   "metadata": {},
   "source": [
    "#### Print shape of dataset"
   ]
  },
  {
   "cell_type": "code",
   "execution_count": 24,
   "metadata": {},
   "outputs": [
    {
     "name": "stdout",
     "output_type": "stream",
     "text": [
      "(1309, 14)\n"
     ]
    }
   ],
   "source": [
    "print(df.shape)\n",
    "#print(df)"
   ]
  },
  {
   "cell_type": "markdown",
   "metadata": {},
   "source": [
    "#### drop columns with more than 25% missing data"
   ]
  },
  {
   "cell_type": "code",
   "execution_count": 25,
   "metadata": {},
   "outputs": [
    {
     "name": "stdout",
     "output_type": "stream",
     "text": [
      "      pclass  survived                                             name  \\\n",
      "0          1         1                    Allen, Miss. Elisabeth Walton   \n",
      "1          1         1                   Allison, Master. Hudson Trevor   \n",
      "2          1         0                     Allison, Miss. Helen Loraine   \n",
      "3          1         0             Allison, Mr. Hudson Joshua Creighton   \n",
      "4          1         0  Allison, Mrs. Hudson J C (Bessie Waldo Daniels)   \n",
      "...      ...       ...                                              ...   \n",
      "1304       3         0                             Zabour, Miss. Hileni   \n",
      "1305       3         0                            Zabour, Miss. Thamine   \n",
      "1306       3         0                        Zakarian, Mr. Mapriededer   \n",
      "1307       3         0                              Zakarian, Mr. Ortin   \n",
      "1308       3         0                               Zimmerman, Mr. Leo   \n",
      "\n",
      "      gender      age  sibsp  parch  ticket      fare embarked  \n",
      "0     female  29.0000      0      0   24160  $211.34         S  \n",
      "1       male   0.9167      1      2  113781  $151.55         S  \n",
      "2     female   2.0000      1      2  113781  $151.55         S  \n",
      "3       male  30.0000      1      2  113781  $151.55         S  \n",
      "4     female  25.0000      1      2  113781  $151.55         S  \n",
      "...      ...      ...    ...    ...     ...       ...      ...  \n",
      "1304  female  14.5000      1      0    2665   $14.45         C  \n",
      "1305  female      NaN      1      0    2665   $14.45         C  \n",
      "1306    male  26.5000      0      0    2656    $7.23         C  \n",
      "1307    male  27.0000      0      0    2670    $7.23         C  \n",
      "1308    male  29.0000      0      0  315082    $7.88         S  \n",
      "\n",
      "[1309 rows x 10 columns]\n",
      "(1309, 10)\n"
     ]
    }
   ],
   "source": [
    "df.dropna(axis=1, thresh=0.75*df.shape[0], inplace=True )\n",
    "print(df)\n",
    "print(df.shape)"
   ]
  },
  {
   "cell_type": "markdown",
   "metadata": {},
   "source": [
    "#### drop columns having independent values(which do not affect the survival rate)"
   ]
  },
  {
   "cell_type": "code",
   "execution_count": 26,
   "metadata": {},
   "outputs": [
    {
     "name": "stdout",
     "output_type": "stream",
     "text": [
      "   pclass  survived                            name  gender      age  sibsp  \\\n",
      "0       1         1   Allen, Miss. Elisabeth Walton  female  29.0000      0   \n",
      "1       1         1  Allison, Master. Hudson Trevor    male   0.9167      1   \n",
      "\n",
      "   parch  ticket      fare embarked  \n",
      "0      0   24160  $211.34         S  \n",
      "1      2  113781  $151.55         S  \n"
     ]
    }
   ],
   "source": [
    "print(df.head(2))"
   ]
  },
  {
   "cell_type": "code",
   "execution_count": 30,
   "metadata": {},
   "outputs": [
    {
     "name": "stdout",
     "output_type": "stream",
     "text": [
      "      pclass  survived  gender      age  sibsp  parch      fare embarked\n",
      "0          1         1  female  29.0000      0      0  $211.34         S\n",
      "1          1         1    male   0.9167      1      2  $151.55         S\n",
      "2          1         0  female   2.0000      1      2  $151.55         S\n",
      "3          1         0    male  30.0000      1      2  $151.55         S\n",
      "4          1         0  female  25.0000      1      2  $151.55         S\n",
      "...      ...       ...     ...      ...    ...    ...       ...      ...\n",
      "1304       3         0  female  14.5000      1      0   $14.45         C\n",
      "1305       3         0  female      NaN      1      0   $14.45         C\n",
      "1306       3         0    male  26.5000      0      0    $7.23         C\n",
      "1307       3         0    male  27.0000      0      0    $7.23         C\n",
      "1308       3         0    male  29.0000      0      0    $7.88         S\n",
      "\n",
      "[1309 rows x 8 columns]\n"
     ]
    }
   ],
   "source": [
    "#help(df.drop)\n",
    "r = df.drop(['name','ticket'],axis=1,inplace=True)\n",
    "#print(r)\n",
    "print(df)"
   ]
  },
  {
   "cell_type": "code",
   "execution_count": 31,
   "metadata": {},
   "outputs": [
    {
     "name": "stdout",
     "output_type": "stream",
     "text": [
      "(1309, 8)\n"
     ]
    }
   ],
   "source": [
    "#print(r.shape)\n",
    "print(df.shape)"
   ]
  },
  {
   "cell_type": "code",
   "execution_count": 54,
   "metadata": {},
   "outputs": [],
   "source": [
    "res_1 = df\n",
    "#df= res_1"
   ]
  },
  {
   "cell_type": "markdown",
   "metadata": {},
   "source": [
    "### Set 2"
   ]
  },
  {
   "cell_type": "markdown",
   "metadata": {},
   "source": [
    "#### check data types of all columns"
   ]
  },
  {
   "cell_type": "code",
   "execution_count": 40,
   "metadata": {},
   "outputs": [
    {
     "name": "stdout",
     "output_type": "stream",
     "text": [
      "pclass        int64\n",
      "survived      int64\n",
      "gender       object\n",
      "age         float64\n",
      "sibsp         int64\n",
      "parch         int64\n",
      "fare         object\n",
      "embarked     object\n",
      "dtype: object\n"
     ]
    }
   ],
   "source": [
    "print(df.dtypes)"
   ]
  },
  {
   "cell_type": "markdown",
   "metadata": {},
   "source": [
    "#### convert price to numeric"
   ]
  },
  {
   "cell_type": "code",
   "execution_count": 55,
   "metadata": {},
   "outputs": [
    {
     "data": {
      "text/plain": [
       "pclass        int64\n",
       "survived      int64\n",
       "gender       object\n",
       "age         float64\n",
       "sibsp         int64\n",
       "parch         int64\n",
       "fare        float64\n",
       "embarked     object\n",
       "dtype: object"
      ]
     },
     "execution_count": 55,
     "metadata": {},
     "output_type": "execute_result"
    }
   ],
   "source": [
    "\n",
    "\n",
    "df['fare'] = df['fare'].replace('[\\$]', '',regex=True).astype(float)\n",
    "df.dtypes\n"
   ]
  },
  {
   "cell_type": "code",
   "execution_count": 56,
   "metadata": {},
   "outputs": [
    {
     "name": "stdout",
     "output_type": "stream",
     "text": [
      "      pclass  survived  gender      age  sibsp  parch    fare embarked\n",
      "0          1         1  female  29.0000      0      0  211.34        S\n",
      "1          1         1    male   0.9167      1      2  151.55        S\n",
      "2          1         0  female   2.0000      1      2  151.55        S\n",
      "3          1         0    male  30.0000      1      2  151.55        S\n",
      "4          1         0  female  25.0000      1      2  151.55        S\n",
      "...      ...       ...     ...      ...    ...    ...     ...      ...\n",
      "1304       3         0  female  14.5000      1      0   14.45        C\n",
      "1305       3         0  female      NaN      1      0   14.45        C\n",
      "1306       3         0    male  26.5000      0      0    7.23        C\n",
      "1307       3         0    male  27.0000      0      0    7.23        C\n",
      "1308       3         0    male  29.0000      0      0    7.88        S\n",
      "\n",
      "[1309 rows x 8 columns]\n"
     ]
    }
   ],
   "source": [
    "print(df)"
   ]
  },
  {
   "cell_type": "markdown",
   "metadata": {},
   "source": [
    "#### find columns still having missing/na values and also count of missing data    ==================>"
   ]
  },
  {
   "cell_type": "code",
   "execution_count": 64,
   "metadata": {},
   "outputs": [
    {
     "name": "stdout",
     "output_type": "stream",
     "text": [
      "pclass      1309\n",
      "survived    1309\n",
      "gender      1309\n",
      "age         1046\n",
      "sibsp       1309\n",
      "parch       1309\n",
      "fare        1308\n",
      "embarked    1307\n",
      "dtype: int64\n",
      "[False False False  True False False  True  True]\n"
     ]
    }
   ],
   "source": [
    "s1 = df.count() \n",
    "print(s1) \n",
    "r = s1.values < df.shape[0]\n",
    "print(r)\n"
   ]
  },
  {
   "cell_type": "markdown",
   "metadata": {},
   "source": [
    "#### fill na with mean for fare and age column column.         ==================>"
   ]
  },
  {
   "cell_type": "code",
   "execution_count": 72,
   "metadata": {},
   "outputs": [
    {
     "name": "stdout",
     "output_type": "stream",
     "text": [
      "            pclass     survived          age        sibsp        parch  \\\n",
      "count  1309.000000  1309.000000  1046.000000  1309.000000  1309.000000   \n",
      "mean      2.294882     0.381971    29.881135     0.498854     0.385027   \n",
      "std       0.837836     0.486055    14.413500     1.041658     0.865560   \n",
      "min       1.000000     0.000000     0.166700     0.000000     0.000000   \n",
      "25%       2.000000     0.000000    21.000000     0.000000     0.000000   \n",
      "50%       3.000000     0.000000    28.000000     0.000000     0.000000   \n",
      "75%       3.000000     1.000000    39.000000     1.000000     0.000000   \n",
      "max       3.000000     1.000000    80.000000     8.000000     9.000000   \n",
      "\n",
      "              fare  \n",
      "count  1308.000000  \n",
      "mean     33.296261  \n",
      "std      51.758691  \n",
      "min       0.000000  \n",
      "25%       7.900000  \n",
      "50%      14.450000  \n",
      "75%      31.280000  \n",
      "max     512.330000  \n",
      "      pclass  survived  gender        age  sibsp  parch    fare embarked\n",
      "0          1         1  female  29.000000      0      0  211.34        S\n",
      "1          1         1    male   0.916700      1      2  151.55        S\n",
      "2          1         0  female   2.000000      1      2  151.55        S\n",
      "3          1         0    male  30.000000      1      2  151.55        S\n",
      "4          1         0  female  25.000000      1      2  151.55        S\n",
      "...      ...       ...     ...        ...    ...    ...     ...      ...\n",
      "1304       3         0  female  14.500000      1      0   14.45        C\n",
      "1305       3         0  female  29.881135      1      0   14.45        C\n",
      "1306       3         0    male  26.500000      0      0    7.23        C\n",
      "1307       3         0    male  27.000000      0      0    7.23        C\n",
      "1308       3         0    male  29.000000      0      0    7.88        S\n",
      "\n",
      "[1309 rows x 8 columns]\n",
      "pclass      1309\n",
      "survived    1309\n",
      "gender      1309\n",
      "age         1309\n",
      "sibsp       1309\n",
      "parch       1309\n",
      "fare        1309\n",
      "embarked    1307\n",
      "dtype: int64\n"
     ]
    }
   ],
   "source": [
    "print(df.describe())\n",
    "r = df.fillna({'fare':df.describe()['fare'].loc['mean'], 'age': df.describe()['age'].loc['mean']} ,inplace=True)\n",
    "#print(r)\n",
    "#print(r.count())\n",
    "print(df)\n",
    "print(df.count())"
   ]
  },
  {
   "cell_type": "markdown",
   "metadata": {},
   "source": [
    "#### drop na values for embarked column."
   ]
  },
  {
   "cell_type": "code",
   "execution_count": 75,
   "metadata": {},
   "outputs": [
    {
     "name": "stdout",
     "output_type": "stream",
     "text": [
      "pclass      1307\n",
      "survived    1307\n",
      "gender      1307\n",
      "age         1307\n",
      "sibsp       1307\n",
      "parch       1307\n",
      "fare        1307\n",
      "embarked    1307\n",
      "dtype: int64\n"
     ]
    }
   ],
   "source": [
    "r = df.dropna(axis=0, how='any' ,inplace=True) #drop row with na in embarked\n",
    "#r.count()\n",
    "print(df.count())"
   ]
  },
  {
   "cell_type": "markdown",
   "metadata": {},
   "source": [
    "#### dump the dataframe to a csv file 'titanic_filtered.csv'."
   ]
  },
  {
   "cell_type": "code",
   "execution_count": 76,
   "metadata": {},
   "outputs": [],
   "source": [
    "df.to_csv(\"titanic_filtered.csv\")"
   ]
  },
  {
   "cell_type": "code",
   "execution_count": 77,
   "metadata": {},
   "outputs": [],
   "source": [
    "res_2 =df"
   ]
  },
  {
   "cell_type": "markdown",
   "metadata": {},
   "source": [
    "### Set 3"
   ]
  },
  {
   "cell_type": "markdown",
   "metadata": {},
   "source": [
    "#### for survived column replace 0 with D and 1 with A"
   ]
  },
  {
   "cell_type": "code",
   "execution_count": 81,
   "metadata": {},
   "outputs": [],
   "source": [
    "df.survived = df.survived.replace({0:'D' , 1:'A' })"
   ]
  },
  {
   "cell_type": "code",
   "execution_count": 82,
   "metadata": {},
   "outputs": [
    {
     "name": "stdout",
     "output_type": "stream",
     "text": [
      "      pclass survived  gender        age  sibsp  parch    fare embarked\n",
      "0          1        A  female  29.000000      0      0  211.34        S\n",
      "1          1        A    male   0.916700      1      2  151.55        S\n",
      "2          1        D  female   2.000000      1      2  151.55        S\n",
      "3          1        D    male  30.000000      1      2  151.55        S\n",
      "4          1        D  female  25.000000      1      2  151.55        S\n",
      "...      ...      ...     ...        ...    ...    ...     ...      ...\n",
      "1304       3        D  female  14.500000      1      0   14.45        C\n",
      "1305       3        D  female  29.881135      1      0   14.45        C\n",
      "1306       3        D    male  26.500000      0      0    7.23        C\n",
      "1307       3        D    male  27.000000      0      0    7.23        C\n",
      "1308       3        D    male  29.000000      0      0    7.88        S\n",
      "\n",
      "[1307 rows x 8 columns]\n"
     ]
    }
   ],
   "source": [
    "print(df)"
   ]
  },
  {
   "cell_type": "markdown",
   "metadata": {},
   "source": [
    "#### find the frequency of different values in survived column"
   ]
  },
  {
   "cell_type": "code",
   "execution_count": 85,
   "metadata": {},
   "outputs": [
    {
     "name": "stdout",
     "output_type": "stream",
     "text": [
      "D    809\n",
      "A    498\n",
      "Name: survived, dtype: int64\n"
     ]
    }
   ],
   "source": [
    "#print(df.value_counts())\n",
    "print(df.survived.value_counts())"
   ]
  },
  {
   "cell_type": "markdown",
   "metadata": {},
   "source": [
    "#### group by gender and survived and see the counts in each category"
   ]
  },
  {
   "cell_type": "code",
   "execution_count": 94,
   "metadata": {},
   "outputs": [
    {
     "name": "stdout",
     "output_type": "stream",
     "text": [
      "<pandas.core.groupby.generic.DataFrameGroupBy object at 0x000001F51B9987C8>\n",
      "{'female': [0, 2, 4, 6, 8, 11, 12, 13, 17, 18, 21, 23, 24, 27, 28, 32, 33, 35, 36, 41, 42, 43, 44, 48, 50, 55, 57, 59, 61, 63, 65, 66, 67, 69, 72, 73, 76, 78, 79, 82, 83, 85, 88, 90, 92, 95, 97, 98, 99, 102, 103, 104, 105, 107, 108, 111, 112, 113, 116, 117, 121, 122, 124, 127, 129, 130, 131, 134, 137, 139, 141, 144, 146, 149, 153, 155, 159, 160, 161, 163, 167, 169, 176, 178, 180, 181, 182, 186, 187, 188, 190, 192, 193, 195, 198, 199, 204, 207, 208, 213, ...], 'male': [1, 3, 5, 7, 9, 10, 14, 15, 16, 19, 20, 22, 25, 26, 29, 30, 31, 34, 37, 38, 39, 40, 45, 46, 47, 49, 51, 52, 53, 54, 56, 58, 60, 62, 64, 68, 70, 71, 74, 75, 77, 80, 81, 84, 86, 87, 89, 91, 93, 94, 96, 100, 101, 106, 109, 110, 114, 115, 118, 119, 120, 123, 125, 126, 128, 132, 133, 135, 136, 138, 140, 142, 143, 145, 147, 148, 150, 151, 152, 154, 156, 157, 158, 162, 164, 165, 166, 170, 171, 172, 173, 174, 175, 177, 179, 183, 184, 185, 189, 191, ...]}\n",
      "        pclass  survived  age  sibsp  parch  fare  embarked\n",
      "gender                                                     \n",
      "female     464       464  464    464    464   464       464\n",
      "male       843       843  843    843    843   843       843\n",
      "\n",
      "gender\n",
      "female    464\n",
      "male      843\n",
      "Name: survived, dtype: int64\n"
     ]
    }
   ],
   "source": [
    "grp = df.groupby(by=\"gender\")\n",
    "print(grp)\n",
    "print(grp.groups)\n",
    "print(grp.count())\n",
    "print()\n",
    "print(grp.survived.count())"
   ]
  },
  {
   "cell_type": "markdown",
   "metadata": {},
   "source": [
    "#### find different pclass and no of people in each class"
   ]
  },
  {
   "cell_type": "code",
   "execution_count": 98,
   "metadata": {},
   "outputs": [
    {
     "name": "stdout",
     "output_type": "stream",
     "text": [
      "<pandas.core.groupby.generic.DataFrameGroupBy object at 0x000001F51BBE3208>\n",
      "{1: [0, 1, 2, 3, 4, 5, 6, 7, 8, 9, 10, 11, 12, 13, 14, 15, 16, 17, 18, 19, 20, 21, 22, 23, 24, 25, 26, 27, 28, 29, 30, 31, 32, 33, 34, 35, 36, 37, 38, 39, 40, 41, 42, 43, 44, 45, 46, 47, 48, 49, 50, 51, 52, 53, 54, 55, 56, 57, 58, 59, 60, 61, 62, 63, 64, 65, 66, 67, 68, 69, 70, 71, 72, 73, 74, 75, 76, 77, 78, 79, 80, 81, 82, 83, 84, 85, 86, 87, 88, 89, 90, 91, 92, 93, 94, 95, 96, 97, 98, 99, ...], 2: [323, 324, 325, 326, 327, 328, 329, 330, 331, 332, 333, 334, 335, 336, 337, 338, 339, 340, 341, 342, 343, 344, 345, 346, 347, 348, 349, 350, 351, 352, 353, 354, 355, 356, 357, 358, 359, 360, 361, 362, 363, 364, 365, 366, 367, 368, 369, 370, 371, 372, 373, 374, 375, 376, 377, 378, 379, 380, 381, 382, 383, 384, 385, 386, 387, 388, 389, 390, 391, 392, 393, 394, 395, 396, 397, 398, 399, 400, 401, 402, 403, 404, 405, 406, 407, 408, 409, 410, 411, 412, 413, 414, 415, 416, 417, 418, 419, 420, 421, 422, ...], 3: [600, 601, 602, 603, 604, 605, 606, 607, 608, 609, 610, 611, 612, 613, 614, 615, 616, 617, 618, 619, 620, 621, 622, 623, 624, 625, 626, 627, 628, 629, 630, 631, 632, 633, 634, 635, 636, 637, 638, 639, 640, 641, 642, 643, 644, 645, 646, 647, 648, 649, 650, 651, 652, 653, 654, 655, 656, 657, 658, 659, 660, 661, 662, 663, 664, 665, 666, 667, 668, 669, 670, 671, 672, 673, 674, 675, 676, 677, 678, 679, 680, 681, 682, 683, 684, 685, 686, 687, 688, 689, 690, 691, 692, 693, 694, 695, 696, 697, 698, 699, ...]}\n",
      "\n",
      "pclass\n",
      "1    321\n",
      "2    277\n",
      "3    709\n",
      "Name: age, dtype: int64\n",
      "\n",
      "pclass\n",
      "1    321\n",
      "2    277\n",
      "3    709\n",
      "Name: pclass, dtype: int64\n"
     ]
    }
   ],
   "source": [
    "grp = df.groupby(by='pclass')\n",
    "print(grp)\n",
    "print(grp.groups)\n",
    "print()\n",
    "print(grp.age.count())\n",
    "print()\n",
    "print(grp.pclass.count())"
   ]
  },
  {
   "cell_type": "markdown",
   "metadata": {},
   "source": [
    "#### find top 5 people with highest values of age. Count no of male and females in the top 5"
   ]
  },
  {
   "cell_type": "code",
   "execution_count": 103,
   "metadata": {},
   "outputs": [
    {
     "name": "stdout",
     "output_type": "stream",
     "text": [
      "      pclass survived  gender   age  sibsp  parch   fare embarked\n",
      "14         1        A    male  80.0      0      0  30.00        S\n",
      "61         1        A  female  76.0      1      0  78.85        S\n",
      "1235       3        D    male  74.0      0      0   7.78        S\n",
      "135        1        D    male  71.0      0      0  34.65        C\n",
      "9          1        D    male  71.0      0      0  49.50        C\n",
      "\n",
      "~~~~~~Number of Male and Female in top 5 people with highest values of Age~~~\n",
      "gender\n",
      "female    1\n",
      "male      4\n",
      "Name: gender, dtype: int64\n"
     ]
    }
   ],
   "source": [
    "df_top5 = df.sort_values(by='age', ascending=False).head(5)\n",
    "print(df_top5)\n",
    "print()\n",
    "print('~~~~~~Number of Male and Female in top 5 people with highest values of Age~~~')\n",
    "grp = df_top5.groupby(by='gender')\n",
    "print(grp.gender.count())"
   ]
  },
  {
   "cell_type": "markdown",
   "metadata": {},
   "source": [
    "#### find max age male and female who survived"
   ]
  },
  {
   "cell_type": "code",
   "execution_count": 116,
   "metadata": {},
   "outputs": [
    {
     "name": "stdout",
     "output_type": "stream",
     "text": [
      "0        True\n",
      "1        True\n",
      "2       False\n",
      "3       False\n",
      "4       False\n",
      "        ...  \n",
      "1304    False\n",
      "1305    False\n",
      "1306    False\n",
      "1307    False\n",
      "1308    False\n",
      "Name: survived, Length: 1307, dtype: bool\n",
      "The ones who survived \n",
      "      pclass survived  gender      age  sibsp  parch   fare embarked\n",
      "14         1        A    male  80.0000      0      0  30.00        S\n",
      "61         1        A  female  76.0000      1      0  78.85        S\n",
      "78         1        A  female  64.0000      0      2  83.16        C\n",
      "83         1        A  female  64.0000      1      1  26.55        S\n",
      "6          1        A  female  63.0000      1      0  77.96        S\n",
      "...      ...      ...     ...      ...    ...    ...    ...      ...\n",
      "657        3        A  female   0.7500      2      1  19.26        C\n",
      "658        3        A  female   0.7500      2      1  19.26        C\n",
      "427        2        A    male   0.6667      1      1  14.50        S\n",
      "1240       3        A    male   0.4167      0      1   8.52        C\n",
      "763        3        A  female   0.1667      1      2  20.58        S\n",
      "\n",
      "[498 rows x 8 columns]\n",
      "\n",
      "{'female': [61, 78, 83, 6, 1261, 304, 116, 43, 42, 192, 50, 33, 139, 233, 79, 186, 441, 308, 449, 95, 104, 247, 48, 8, 282, 155, 188, 161, 17, 551, 570, 529, 314, 181, 146, 98, 288, 99, 253, 387, 124, 440, 1290, 63, 21, 471, 371, 131, 647, 141, 851, 311, 35, 178, 436, 41, 160, 281, 238, 358, 489, 23, 502, 44, 352, 564, 260, 583, 275, 296, 291, 76, 180, 218, 263, 103, 85, 1286, 646, 208, 329, 333, 342, 759, 322, 66, 57, 82, 355, 735, 302, 362, 257, 603, 127, 149, 163, 28, 167, 129, ...], 'male': [14, 432, 123, 264, 280, 136, 93, 231, 86, 119, 100, 170, 133, 292, 145, 5, 274, 742, 68, 240, 1233, 120, 454, 177, 47, 31, 917, 1064, 165, 20, 758, 49, 56, 202, 109, 261, 183, 164, 259, 343, 905, 909, 278, 1088, 336, 1131, 981, 714, 674, 596, 1228, 298, 91, 538, 209, 760, 858, 805, 798, 874, 597, 1035, 1034, 152, 1080, 1121, 1162, 37, 524, 1033, 887, 320, 926, 945, 256, 254, 991, 235, 196, 1003, 219, 1000, 746, 935, 1196, 526, 880, 29, 265, 630, 978, 87, 151, 857, 64, 889, 949, 613, 22, 360, ...]}\n",
      "\n",
      "Male\n",
      "pclass         1\n",
      "survived       A\n",
      "gender      male\n",
      "age           80\n",
      "sibsp          0\n",
      "parch          0\n",
      "fare          30\n",
      "embarked       S\n",
      "Name: 14, dtype: object\n",
      "\n",
      "Female\n",
      "pclass           1\n",
      "survived         A\n",
      "gender      female\n",
      "age             76\n",
      "sibsp            1\n",
      "parch            0\n",
      "fare         78.85\n",
      "embarked         S\n",
      "Name: 61, dtype: object\n"
     ]
    }
   ],
   "source": [
    "r1 = df.survived == 'A'\n",
    "print(r1)\n",
    "print('The ones who survived ')\n",
    "r2 = df[r1].sort_values(by='age', ascending=False)\n",
    "print(r2)\n",
    "print()\n",
    "\n",
    "grp = r2.groupby(by='gender')\n",
    "print(grp.groups)\n",
    "\n",
    "print()\n",
    "print('Male')\n",
    "print(df.loc[grp.groups['male'][0]])\n",
    "print()\n",
    "print('Female')\n",
    "print(df.loc[grp.groups['female'][0]])"
   ]
  },
  {
   "cell_type": "markdown",
   "metadata": {},
   "source": [
    "#### get average age by gender"
   ]
  },
  {
   "cell_type": "code",
   "execution_count": 127,
   "metadata": {},
   "outputs": [
    {
     "name": "stdout",
     "output_type": "stream",
     "text": [
      "      pclass survived gender        age  sibsp  parch    fare embarked\n",
      "1          1        A   male   0.916700      1      2  151.55        S\n",
      "3          1        D   male  30.000000      1      2  151.55        S\n",
      "5          1        A   male  48.000000      0      0   26.55        S\n",
      "7          1        D   male  39.000000      0      0    0.00        S\n",
      "9          1        D   male  71.000000      0      0   49.50        C\n",
      "...      ...      ...    ...        ...    ...    ...     ...      ...\n",
      "1302       3        D   male  29.881135      0      0    7.23        C\n",
      "1303       3        D   male  29.881135      0      0   14.46        C\n",
      "1306       3        D   male  26.500000      0      0    7.23        C\n",
      "1307       3        D   male  27.000000      0      0    7.23        C\n",
      "1308       3        D   male  29.000000      0      0    7.88        S\n",
      "\n",
      "[843 rows x 8 columns]\n",
      "Average male Age: \n",
      "30.430715521707075\n",
      "\n",
      "Average female Age: \n",
      "28.79593080165825\n"
     ]
    }
   ],
   "source": [
    "df_male = df[df.gender == 'male']\n",
    "print(df_male)\n",
    "print('Average male Age: ')\n",
    "print(df_male.describe()[\"age\"][\"mean\"])\n",
    "print()\n",
    "print('Average female Age: ')\n",
    "print( df[df.gender == 'female'].describe()[\"age\"].loc[\"mean\"])"
   ]
  },
  {
   "cell_type": "markdown",
   "metadata": {},
   "source": [
    "#### get average age by people survived vs not-survived"
   ]
  },
  {
   "cell_type": "code",
   "execution_count": 128,
   "metadata": {},
   "outputs": [
    {
     "name": "stdout",
     "output_type": "stream",
     "text": [
      "Average survived Age: \n",
      "28.97471128395037\n",
      "\n",
      "Average not survived Age: \n",
      "30.38936817968011\n"
     ]
    }
   ],
   "source": [
    "print('Average survived Age: ')\n",
    "print( df[df.survived == 'A'].describe()[\"age\"].loc[\"mean\"])\n",
    "print()\n",
    "print('Average not survived Age: ')\n",
    "print( df[df.survived == 'D'].describe()[\"age\"].loc[\"mean\"])"
   ]
  }
 ],
 "metadata": {
  "kernelspec": {
   "display_name": "Python 3",
   "language": "python",
   "name": "python3"
  },
  "language_info": {
   "codemirror_mode": {
    "name": "ipython",
    "version": 3
   },
   "file_extension": ".py",
   "mimetype": "text/x-python",
   "name": "python",
   "nbconvert_exporter": "python",
   "pygments_lexer": "ipython3",
   "version": "3.7.9"
  }
 },
 "nbformat": 4,
 "nbformat_minor": 2
}
