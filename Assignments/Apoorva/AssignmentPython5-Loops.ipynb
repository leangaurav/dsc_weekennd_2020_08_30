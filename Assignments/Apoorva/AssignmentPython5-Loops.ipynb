{
 "cells": [
  {
   "cell_type": "markdown",
   "metadata": {},
   "source": [
    "### 1. WAP to print first n natural numbers (input n from user)."
   ]
  },
  {
   "cell_type": "code",
   "execution_count": 3,
   "metadata": {},
   "outputs": [
    {
     "name": "stdout",
     "output_type": "stream",
     "text": [
      "Enter n: 5\n",
      "Using for: \n",
      "1\n",
      "2\n",
      "3\n",
      "4\n",
      "5\n",
      "Using while: \n",
      "1\n",
      "2\n",
      "3\n",
      "4\n",
      "5\n"
     ]
    }
   ],
   "source": [
    "n = int(input('Enter n: '))\n",
    "print('Using for: ');\n",
    "for i in range(1,n+1):\n",
    "    print(i)\n",
    "    \n",
    "print('Using while: ');\n",
    "i=1\n",
    "while i<=n:\n",
    "    print(i)\n",
    "    i+=1;"
   ]
  },
  {
   "cell_type": "markdown",
   "metadata": {},
   "source": [
    "### 2. WAP to find sum of first n natural numbers"
   ]
  },
  {
   "cell_type": "code",
   "execution_count": 1,
   "metadata": {},
   "outputs": [
    {
     "name": "stdout",
     "output_type": "stream",
     "text": [
      "Enter n: 5\n",
      "sum=  15\n"
     ]
    }
   ],
   "source": [
    "n = int(input('Enter n: '))\n",
    "s = 0\n",
    "for i in range(1,n+1):\n",
    "    s =s+i;\n",
    "print('sum= ',s)"
   ]
  },
  {
   "cell_type": "markdown",
   "metadata": {},
   "source": [
    "### 3. WAP to print first n natural numbers in reverse order."
   ]
  },
  {
   "cell_type": "code",
   "execution_count": 13,
   "metadata": {},
   "outputs": [
    {
     "name": "stdout",
     "output_type": "stream",
     "text": [
      "Enter n: 5\n",
      "Using for: \n",
      "5\n",
      "4\n",
      "3\n",
      "2\n",
      "1\n",
      "Using while: \n",
      "5\n",
      "4\n",
      "3\n",
      "2\n",
      "1\n"
     ]
    }
   ],
   "source": [
    "n = int(input('Enter n: '))\n",
    "#print(help(range))\n",
    "print('Using for: ');\n",
    "for i in range(n,0,-1):\n",
    "    print(i)\n",
    "    \n",
    "print('Using while: ');\n",
    "i=n\n",
    "while i>=1:\n",
    "    print(i)\n",
    "    i-=1\n"
   ]
  },
  {
   "cell_type": "markdown",
   "metadata": {},
   "source": [
    "### 4. WAP to input a number and print its factorial."
   ]
  },
  {
   "cell_type": "code",
   "execution_count": 17,
   "metadata": {},
   "outputs": [
    {
     "name": "stdout",
     "output_type": "stream",
     "text": [
      "Enter n: 5\n",
      "Factorial:  120\n"
     ]
    }
   ],
   "source": [
    "n = int(input('Enter n: '))\n",
    "fact=1;\n",
    "for i in range(1,n+1):\n",
    "    fact *=i\n",
    "\n",
    "print(\"Factorial: \",fact)"
   ]
  },
  {
   "cell_type": "markdown",
   "metadata": {},
   "source": [
    "### 5. WAP to print Fibonacci sequence till n."
   ]
  },
  {
   "cell_type": "code",
   "execution_count": 28,
   "metadata": {},
   "outputs": [
    {
     "name": "stdout",
     "output_type": "stream",
     "text": [
      "Enter n: 6\n",
      "~~~~ fibonnaci numbers till n\n",
      "1\n",
      "1\n",
      "2\n",
      "3\n",
      "5\n",
      "~~~~ n fibonnaci numbers \n",
      "1\n",
      "1\n",
      "2\n",
      "3\n",
      "5\n",
      "8\n"
     ]
    }
   ],
   "source": [
    "n = int(input('Enter n: '))\n",
    "a=1\n",
    "b=1\n",
    "print('~~~~ fibonnaci numbers till n')\n",
    "while a<=n:\n",
    "    print(a)\n",
    "    c=a+b\n",
    "    a=b\n",
    "    b=c\n",
    "\n",
    "a=1\n",
    "b=1\n",
    "print('~~~~ n fibonnaci numbers ')\n",
    "for i in range(0,n):\n",
    "    print(a)\n",
    "    c=a+b\n",
    "    a=b\n",
    "    b=c"
   ]
  },
  {
   "cell_type": "markdown",
   "metadata": {},
   "source": [
    "## 6. WAP to print all digits of a number input from user."
   ]
  },
  {
   "cell_type": "code",
   "execution_count": 2,
   "metadata": {},
   "outputs": [
    {
     "name": "stdout",
     "output_type": "stream",
     "text": [
      "Enter n: 532\n",
      "Number of digits:  3\n",
      "5\n",
      "3\n",
      "2\n"
     ]
    }
   ],
   "source": [
    "n = int(input('Enter n: '))\n",
    "num =n \n",
    "# find number of digits:\n",
    "\n",
    "def find_digs(n):\n",
    "    digs=0;\n",
    "    while n>0:\n",
    "        n=n//10;\n",
    "        digs+=1;\n",
    "    print(\"Number of digits: \",digs)\n",
    "    return digs\n",
    "\n",
    "digs =find_digs(n)\n",
    "\n",
    "while digs>0:\n",
    "    print(num//10**(digs-1))\n",
    "    num=num%10**(digs-1)\n",
    "    #print(\"num is \",num)\n",
    "    digs-=1"
   ]
  },
  {
   "cell_type": "markdown",
   "metadata": {},
   "source": [
    "### 7. WAP to find sum of all digits of a number."
   ]
  },
  {
   "cell_type": "code",
   "execution_count": 9,
   "metadata": {},
   "outputs": [
    {
     "name": "stdout",
     "output_type": "stream",
     "text": [
      "Enter n: 532\n",
      "Number of digits:  3\n",
      "Sum =  10\n"
     ]
    }
   ],
   "source": [
    "num = int(input('Enter n: '))\n",
    "\n",
    "digs = find_digs(n)\n",
    "s=0\n",
    "while digs>0:\n",
    "    s += num//10**(digs-1)\n",
    "    #print(s)\n",
    "    num = num % 10**(digs-1)\n",
    "    digs-=1\n",
    "    \n",
    "print(\"Sum = \",s)"
   ]
  },
  {
   "cell_type": "markdown",
   "metadata": {},
   "source": [
    "### 8. WAP to find sum of following series given n as input from user\n",
    "1 + 2! + 3! + 4! + 5! + ….n!\n",
    "<br>\n",
    "Where n! denotes the factorial of number n."
   ]
  },
  {
   "cell_type": "code",
   "execution_count": 14,
   "metadata": {},
   "outputs": [
    {
     "name": "stdout",
     "output_type": "stream",
     "text": [
      "Enter n: 5\n",
      "sum =  153\n"
     ]
    }
   ],
   "source": [
    "num = int(input('Enter n: '))\n",
    "s=0\n",
    "for i in range(1,num+1):\n",
    "    fact=1\n",
    "    for j in range(1,i+1):\n",
    "        fact *=j\n",
    "    s += fact\n",
    "    \n",
    "print(\"sum = \",s)"
   ]
  },
  {
   "cell_type": "markdown",
   "metadata": {},
   "source": [
    "### 9. WAP to input base and exponent and print result without using inbuilt function pow(use for or while loop)."
   ]
  },
  {
   "cell_type": "code",
   "execution_count": 4,
   "metadata": {},
   "outputs": [
    {
     "name": "stdout",
     "output_type": "stream",
     "text": [
      "Enter base value 5\n",
      "Enter the exponent 3\n",
      "125\n"
     ]
    }
   ],
   "source": [
    "base = int(input('Enter base value '))\n",
    "exp = int(input('Enter the exponent '))\n",
    "val=1\n",
    "while exp>0:\n",
    "    val = val*base\n",
    "    exp-=1\n",
    "    \n",
    "print(val)"
   ]
  },
  {
   "cell_type": "markdown",
   "metadata": {},
   "source": [
    "### 10. Print following patterns:"
   ]
  },
  {
   "cell_type": "code",
   "execution_count": 3,
   "metadata": {},
   "outputs": [
    {
     "name": "stdout",
     "output_type": "stream",
     "text": [
      "Enter n: 5\n",
      "* \n",
      "* * \n",
      "* * * \n",
      "* * * * \n",
      "* * * * * \n"
     ]
    }
   ],
   "source": [
    "n = int(input(\"Enter n: \"))\n",
    "i =1\n",
    "while i<=n:\n",
    "    j=1\n",
    "    while j<=i:\n",
    "        print('*',end=' ')\n",
    "        j+=1\n",
    "    print()\n",
    "    i+=1"
   ]
  },
  {
   "cell_type": "code",
   "execution_count": 5,
   "metadata": {},
   "outputs": [
    {
     "name": "stdout",
     "output_type": "stream",
     "text": [
      "Enter n: 5\n",
      "* * * * * \n",
      "* * * * \n",
      "* * * \n",
      "* * \n",
      "* \n"
     ]
    }
   ],
   "source": [
    "n = int(input(\"Enter n: \"))\n",
    "i =1\n",
    "while i<=n:\n",
    "    j=1\n",
    "    while j<=n-i+1:\n",
    "        print('*',end=' ')\n",
    "        j+=1\n",
    "    print()\n",
    "    i+=1"
   ]
  },
  {
   "cell_type": "code",
   "execution_count": 6,
   "metadata": {},
   "outputs": [
    {
     "name": "stdout",
     "output_type": "stream",
     "text": [
      "Enter n: 5\n",
      "        * \n",
      "      * * \n",
      "    * * * \n",
      "  * * * * \n",
      "* * * * * \n"
     ]
    }
   ],
   "source": [
    "n = int(input(\"Enter n: \"))\n",
    "i =1\n",
    "while i<=n:\n",
    "    k=1\n",
    "    while k<=n-i:\n",
    "        print(' ',end=' ')\n",
    "        k+=1\n",
    "    j=1\n",
    "    while j<=i:\n",
    "        print('*',end=' ')\n",
    "        j+=1\n",
    "    print()\n",
    "    i+=1"
   ]
  },
  {
   "cell_type": "code",
   "execution_count": 10,
   "metadata": {},
   "outputs": [
    {
     "name": "stdout",
     "output_type": "stream",
     "text": [
      "Enter n: 4\n",
      "      *  \n",
      "    *  *  \n",
      "  *  *  *  \n",
      "*  *  *  *  \n"
     ]
    }
   ],
   "source": [
    "n = int(input(\"Enter n: \"))\n",
    "i =1\n",
    "while i<=n:\n",
    "    k=1\n",
    "    while k<=n-i:\n",
    "        print(' ',end=' ')\n",
    "        k+=1\n",
    "    j=1\n",
    "    while j<=i:\n",
    "        print('* ',end=' ')\n",
    "        j+=1\n",
    "    print()\n",
    "    i+=1"
   ]
  },
  {
   "cell_type": "markdown",
   "metadata": {},
   "source": [
    "### 11. Print following number patterns:"
   ]
  },
  {
   "cell_type": "code",
   "execution_count": 11,
   "metadata": {},
   "outputs": [
    {
     "name": "stdout",
     "output_type": "stream",
     "text": [
      "Enter n: 5\n",
      "1 \n",
      "1 2 \n",
      "1 2 3 \n",
      "1 2 3 4 \n",
      "1 2 3 4 5 \n"
     ]
    }
   ],
   "source": [
    "n = int(input(\"Enter n: \"))\n",
    "i =1\n",
    "while i<=n:\n",
    "    j=1\n",
    "    while j<=i:\n",
    "        print(j,end=' ')\n",
    "        j+=1\n",
    "    print()\n",
    "    i+=1"
   ]
  },
  {
   "cell_type": "code",
   "execution_count": 12,
   "metadata": {},
   "outputs": [
    {
     "name": "stdout",
     "output_type": "stream",
     "text": [
      "Enter n: 5\n",
      "5 \n",
      "5 4 \n",
      "5 4 3 \n",
      "5 4 3 2 \n",
      "5 4 3 2 1 \n"
     ]
    }
   ],
   "source": [
    "n = int(input(\"Enter n: \"))\n",
    "i =1\n",
    "while i<=n:\n",
    "    j=1\n",
    "    while j<=i:\n",
    "        print(n-j+1,end=' ')\n",
    "        j+=1\n",
    "    print()\n",
    "    i+=1"
   ]
  },
  {
   "cell_type": "code",
   "execution_count": 18,
   "metadata": {},
   "outputs": [
    {
     "name": "stdout",
     "output_type": "stream",
     "text": [
      "Enter n: 5\n",
      "    1\n",
      "   22\n",
      "  333\n",
      " 4444\n",
      "55555\n"
     ]
    }
   ],
   "source": [
    "n = int(input(\"Enter n: \"))\n",
    "i =1\n",
    "while i<=n:\n",
    "    k=1\n",
    "    while k<=n-i:\n",
    "        print(' ',end='')\n",
    "        k+=1\n",
    "    j=1\n",
    "    while j<=i:\n",
    "        print(i,end='')\n",
    "        j+=1\n",
    "    print()\n",
    "    i+=1"
   ]
  },
  {
   "cell_type": "markdown",
   "metadata": {},
   "source": [
    "### 12. Print following character patterns:"
   ]
  },
  {
   "cell_type": "code",
   "execution_count": 17,
   "metadata": {},
   "outputs": [
    {
     "name": "stdout",
     "output_type": "stream",
     "text": [
      "Enter n: 5\n",
      "A\n",
      "AB\n",
      "ABC\n",
      "ABCD\n",
      "ABCDE\n"
     ]
    }
   ],
   "source": [
    "n = int(input(\"Enter n: \"))\n",
    "i =1\n",
    "while i<=n:\n",
    "    j=1\n",
    "    while j<=i:\n",
    "        print(chr(65+j-1),end='')\n",
    "        j+=1\n",
    "    print()\n",
    "    i+=1"
   ]
  },
  {
   "cell_type": "code",
   "execution_count": 20,
   "metadata": {},
   "outputs": [
    {
     "name": "stdout",
     "output_type": "stream",
     "text": [
      "Enter n: 5\n",
      "A\n",
      "BC\n",
      "CDE\n",
      "DEFG\n",
      "EFGHI\n"
     ]
    }
   ],
   "source": [
    "n = int(input(\"Enter n: \"))\n",
    "i =1\n",
    "while i<=n:\n",
    "    j=1\n",
    "    while j<=i:\n",
    "        print(chr(65+j+i-2),end='')\n",
    "        j+=1\n",
    "    print()\n",
    "    i+=1"
   ]
  },
  {
   "cell_type": "code",
   "execution_count": 22,
   "metadata": {},
   "outputs": [
    {
     "name": "stdout",
     "output_type": "stream",
     "text": [
      "Enter n: 5\n",
      "A\n",
      "BB\n",
      "CCC\n",
      "DDDD\n",
      "EEEEE\n"
     ]
    }
   ],
   "source": [
    "n = int(input(\"Enter n: \"))\n",
    "i =1\n",
    "while i<=n:\n",
    "    j=1\n",
    "    while j<=i:\n",
    "        print(chr(65+i-1),end='')\n",
    "        j+=1\n",
    "    print()\n",
    "    i+=1"
   ]
  },
  {
   "cell_type": "code",
   "execution_count": 2,
   "metadata": {},
   "outputs": [
    {
     "name": "stdout",
     "output_type": "stream",
     "text": [
      "Enter n: 5\n",
      "    A\n",
      "   ABA\n",
      "  ABCAB\n",
      " ABCDABC\n",
      "ABCDEABCD\n"
     ]
    }
   ],
   "source": [
    "n = int(input(\"Enter n: \"))\n",
    "i =1\n",
    "while i<=n:\n",
    "    j=1\n",
    "    while j<=n-i:\n",
    "        print(' ',end='')\n",
    "        j+=1\n",
    "    k=1\n",
    "    while k<=i:\n",
    "        print(chr(65+k-1),end='')\n",
    "        k+=1\n",
    "    l=1\n",
    "    while l<i:\n",
    "        print(chr(65+l-1),end='')\n",
    "        l+=1\n",
    "    i+=1\n",
    "    print()\n",
    "        "
   ]
  },
  {
   "cell_type": "code",
   "execution_count": null,
   "metadata": {},
   "outputs": [],
   "source": []
  }
 ],
 "metadata": {
  "kernelspec": {
   "display_name": "Python 3",
   "language": "python",
   "name": "python3"
  },
  "language_info": {
   "codemirror_mode": {
    "name": "ipython",
    "version": 3
   },
   "file_extension": ".py",
   "mimetype": "text/x-python",
   "name": "python",
   "nbconvert_exporter": "python",
   "pygments_lexer": "ipython3",
   "version": "3.7.9"
  }
 },
 "nbformat": 4,
 "nbformat_minor": 4
}
