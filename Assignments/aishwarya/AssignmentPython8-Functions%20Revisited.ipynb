{
 "cells": [
  {
   "cell_type": "markdown",
   "metadata": {},
   "source": [
    "# Write lambdas to: a. Square a number x2 b. Inverse a number 1/x c. Negate a number "
   ]
  },
  {
   "cell_type": "code",
   "execution_count": 2,
   "metadata": {},
   "outputs": [
    {
     "name": "stdout",
     "output_type": "stream",
     "text": [
      "100\n",
      "0.1\n",
      "-10\n"
     ]
    }
   ],
   "source": [
    "f1 = lambda x : x**2\n",
    "print(f1(10))\n",
    "\n",
    "f2 = lambda x : 1/x\n",
    "print(f2(10))\n",
    "\n",
    "f3 = lambda x : x*(-1)\n",
    "print(f3(10))"
   ]
  },
  {
   "cell_type": "markdown",
   "metadata": {},
   "source": [
    "# Use reduce function and an appropriate lambda to find the maximum number in a list. "
   ]
  },
  {
   "cell_type": "code",
   "execution_count": 39,
   "metadata": {},
   "outputs": [
    {
     "name": "stdout",
     "output_type": "stream",
     "text": [
      "95\n"
     ]
    }
   ],
   "source": [
    "from functools import reduce\n",
    "a = [10,20,15,60,55,70,95 ,80,80]\n",
    "f = reduce(lambda x,y : x if x > y else y , a)\n",
    "\n",
    "print(f)"
   ]
  },
  {
   "cell_type": "markdown",
   "metadata": {},
   "source": [
    "# Write a function map_multiple that takes a list of functions/lambdas as first argument and a sequence type as second argument.  The function picks first lambda from list, applies it to first element, then applies the second function to the result of first one and …. Similarly it does for each element and generates a mapping of input to output def map_multiple(functs, sequence):  # write definition here Ex: let list of lambdas be from question 1 and the list on numbers be [1,2,4]  So first function gives [1, 4, 16]  Second gives [1, 0.25, 0.0625]  Third gives [-1, -0.25, -0.0625]. Which is the final result. "
   ]
  },
  {
   "cell_type": "code",
   "execution_count": 40,
   "metadata": {},
   "outputs": [
    {
     "name": "stdout",
     "output_type": "stream",
     "text": [
      "[1, 4, 16]\n",
      "[1.0, 0.25, 0.0625]\n",
      "[-1.0, -0.25, -0.0625]\n"
     ]
    }
   ],
   "source": [
    "def map_multiple(f , seq):\n",
    "    b= [f(a) for a in seq]\n",
    "    return b \n",
    "\n",
    "seq = [1,2,4]\n",
    "f1 = map_multiple(lambda x: x**2 , seq)\n",
    "print(f1)\n",
    "f2 = map_multiple(lambda x:1/x , f1)\n",
    "print(f2)\n",
    "print(map_multiple(lambda x : x*(-1) , f2))\n",
    "\n",
    "\n",
    "\n",
    "\n",
    "    "
   ]
  },
  {
   "cell_type": "code",
   "execution_count": 3,
   "metadata": {},
   "outputs": [
    {
     "name": "stdout",
     "output_type": "stream",
     "text": [
      "[1.0, 0.5, 0.25, 0.125]\n"
     ]
    }
   ],
   "source": [
    "#Find output of following: \n",
    "\n",
    "functs = [ lambda x: x**0.5, lambda x:1/x]\n",
    "l = [1,4,16,64]\n",
    "ans = []\n",
    "for num in l:\n",
    "    res = num \n",
    "    for funct in functs:\n",
    "        res = funct(res)\n",
    "    ans.append(res)\n",
    "print(ans)\n",
    "    "
   ]
  },
  {
   "cell_type": "markdown",
   "metadata": {},
   "source": [
    "# Use filter function to filter a list of numbers and strings such that the result contains only numbers. (Hint : Use isinstance method"
   ]
  },
  {
   "cell_type": "code",
   "execution_count": 7,
   "metadata": {},
   "outputs": [
    {
     "name": "stdout",
     "output_type": "stream",
     "text": [
      "[123, 12, 56, 78]\n"
     ]
    }
   ],
   "source": [
    "def filter_num (x):\n",
    "    return isinstance(x,(int))\n",
    "a = [123, 12,56,78, \"abc\", \"12\",\"aish\"]\n",
    "f = filter(filter_num , a)\n",
    "print(list(f))\n",
    "\n",
    "    "
   ]
  },
  {
   "cell_type": "markdown",
   "metadata": {},
   "source": [
    "# Assume a list containing heights ft and inches in the form of a list of string Example : l = [‘5ft10in’, ‘5ft’, ….] Write a function to convert the heights to meter. Use map function along with your function to convert everything to m. "
   ]
  },
  {
   "cell_type": "code",
   "execution_count": 10,
   "metadata": {},
   "outputs": [
    {
     "name": "stdout",
     "output_type": "stream",
     "text": [
      "[1.778, 1.829, 1.372, 1.854]\n"
     ]
    }
   ],
   "source": [
    "\n",
    " def hights(h):\n",
    "        h1 = h.split('ft')\n",
    "        h11 = h1[0]\n",
    "        h2 = h1[1][:-2] if h[1] != '' else 0\n",
    "        l = int(h11) + int(h2)/12\n",
    "        meter = round(l /3.281 ,3)\n",
    "        return meter\n",
    "\n",
    "L1 = ['5ft10in','5ft12in','4ft6in','6ft1in']\n",
    "M1 = list(map(hights , L1))\n",
    "print(M1)\n",
    "    \n",
    "    \n",
    "    \n",
    "    "
   ]
  },
  {
   "cell_type": "markdown",
   "metadata": {},
   "source": [
    "# Write the implementation for the map function yourself by the name my_map()"
   ]
  },
  {
   "cell_type": "code",
   "execution_count": 11,
   "metadata": {},
   "outputs": [
    {
     "name": "stdout",
     "output_type": "stream",
     "text": [
      "[120, 24, 6, 5040, 40320]\n"
     ]
    }
   ],
   "source": [
    "def my_map(a):\n",
    "    fac = 1 \n",
    "    for i in range(1,a+1):\n",
    "        fac = fac * i \n",
    "    return fac\n",
    "num = [ 5,4,3,7,8]\n",
    "factorial = list(map(my_map,num))\n",
    "print(factorial)\n",
    "    "
   ]
  }
 ],
 "metadata": {
  "kernelspec": {
   "display_name": "Python 3",
   "language": "python",
   "name": "python3"
  },
  "language_info": {
   "codemirror_mode": {
    "name": "ipython",
    "version": 3
   },
   "file_extension": ".py",
   "mimetype": "text/x-python",
   "name": "python",
   "nbconvert_exporter": "python",
   "pygments_lexer": "ipython3",
   "version": "3.8.3"
  }
 },
 "nbformat": 4,
 "nbformat_minor": 4
}
