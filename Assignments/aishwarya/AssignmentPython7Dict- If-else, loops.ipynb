{
 "cells": [
  {
   "cell_type": "markdown",
   "metadata": {},
   "source": [
    "# 1. WAP to create a dictionary of numbers mapped to their negative value for numbers from 1-5.\n",
    "The dictionary should contain something like this:\n",
    "Do with both with and without range based for loop.\n",
    "{1:-1,2:-2,3:-3….}"
   ]
  },
  {
   "cell_type": "code",
   "execution_count": 11,
   "metadata": {},
   "outputs": [
    {
     "name": "stdout",
     "output_type": "stream",
     "text": [
      "{1: -1, 2: -2, 3: -3, 4: -4, 5: -5}\n"
     ]
    }
   ],
   "source": [
    "d = {}\n",
    "for i in range(1,6):\n",
    "    d[i] = i*(-1)\n",
    "    \n",
    "print(d)"
   ]
  },
  {
   "cell_type": "markdown",
   "metadata": {},
   "source": [
    "# 3.Read help for zip and write a program that has two lists\n",
    "l1 = [1,2,3,4]\n",
    "l2 = [10,20,30,40]\n",
    "And converts them to a dictionary d containing { 1:10,2:20 …….}"
   ]
  },
  {
   "cell_type": "code",
   "execution_count": 9,
   "metadata": {},
   "outputs": [
    {
     "name": "stdout",
     "output_type": "stream",
     "text": [
      "{1: 10, 2: 20, 3: 30, 4: 40}\n"
     ]
    }
   ],
   "source": [
    "l1 = [1,2,3,4] \n",
    "l2 = [10,20,30,40]\n",
    "d = dict(zip(l1,l2))\n",
    "print(d)"
   ]
  },
  {
   "cell_type": "markdown",
   "metadata": {},
   "source": [
    "# 4. Use range based for loop to store all upper case alphabets and their corresponding ASCII\n",
    "values in the dictionary d.\n",
    "The result should be d = {‘A’: 65, ‘B’:66,…..}"
   ]
  },
  {
   "cell_type": "code",
   "execution_count": 12,
   "metadata": {},
   "outputs": [
    {
     "name": "stdout",
     "output_type": "stream",
     "text": [
      "{'A': 65, 'B': 66, 'C': 67, 'D': 68, 'E': 69, 'F': 70, 'G': 71, 'H': 72, 'I': 73, 'J': 74, 'K': 75, 'L': 76, 'M': 77, 'N': 78, 'O': 79, 'P': 80, 'Q': 81, 'R': 82, 'S': 83, 'T': 84, 'U': 85, 'V': 86, 'W': 87, 'X': 88, 'Y': 89, 'Z': 90}\n"
     ]
    }
   ],
   "source": [
    "d = {}\n",
    "for i in range(65,91):\n",
    "    d[chr(i)]= i\n",
    "print(d)"
   ]
  },
  {
   "cell_type": "markdown",
   "metadata": {},
   "source": [
    "# 5.Create a mapping of number to word from 0-9. (0:’zero’……)\n",
    "• Ask user for a single digit number and print the corresponding word format.\n",
    "• Print all keys of above dictionary\n",
    "• Print all Values of a dictionary\n",
    "• Print all Key and Value pairs of above dictionary"
   ]
  },
  {
   "cell_type": "code",
   "execution_count": 3,
   "metadata": {},
   "outputs": [
    {
     "name": "stdout",
     "output_type": "stream",
     "text": [
      "Note: you may need to restart the kernel to use updated packages.\n"
     ]
    },
    {
     "name": "stderr",
     "output_type": "stream",
     "text": [
      "'C:\\Users\\surendra' is not recognized as an internal or external command,\n",
      "operable program or batch file.\n"
     ]
    }
   ],
   "source": [
    "pip install num2words\n",
    "from num2word import num2word\n",
    "d = {}\n",
    "for i in range(0,10):\n",
    "    n = int(input(\"enter single digit number\"))\n",
    "    d[n] = num2word(n, to = 'ordinal')\n",
    "print(d)\n",
    "print()"
   ]
  },
  {
   "cell_type": "code",
   "execution_count": 16,
   "metadata": {},
   "outputs": [
    {
     "name": "stdout",
     "output_type": "stream",
     "text": [
      "enter single digit number0\n",
      "enter single digit number1\n",
      "enter single digit number2\n",
      "enter single digit number3\n",
      "enter single digit number4\n",
      "enter single digit number5\n",
      "enter single digit number6\n",
      "enter single digit number7\n",
      "enter single digit number8\n",
      "enter single digit number9\n",
      "{0: 'Zero', 1: 'one', 2: 'Two', 3: 'Three', 4: 'Four', 5: 'Five', 6: 'Six', 7: 'Seven', 8: 'Eight', 9: 'Nine'}\n",
      "dict_keys([0, 1, 2, 3, 4, 5, 6, 7, 8, 9])\n",
      "dict_values(['Zero', 'one', 'Two', 'Three', 'Four', 'Five', 'Six', 'Seven', 'Eight', 'Nine'])\n",
      "dict_items([(0, 'Zero'), (1, 'one'), (2, 'Two'), (3, 'Three'), (4, 'Four'), (5, 'Five'), (6, 'Six'), (7, 'Seven'), (8, 'Eight'), (9, 'Nine')])\n"
     ]
    }
   ],
   "source": [
    "d = {}\n",
    "for i in range(0,10):\n",
    "    n = int(input(\"enter single digit number\"))\n",
    "    if n == 0:\n",
    "        d[0]= 'Zero'\n",
    "    elif n == 1:\n",
    "        d[1] = 'one'\n",
    "    elif n == 2:\n",
    "        d[2] = 'Two'\n",
    "    elif n == 3:\n",
    "        d[3] = 'Three'\n",
    "    elif n==4 :\n",
    "        d[4] = 'Four'\n",
    "    elif n ==5 :\n",
    "        d[5]= 'Five'\n",
    "    elif n ==6 :\n",
    "        d[6] = 'Six'\n",
    "    elif n == 7:\n",
    "        d[7] = 'Seven'\n",
    "    elif n ==8:\n",
    "        d[8]= 'Eight'\n",
    "    elif n == 9:\n",
    "        d[9]='Nine'\n",
    "    else:\n",
    "        pass\n",
    "print(d)\n",
    "print(d.keys())\n",
    "print(d.values())\n",
    "print(d.items())\n"
   ]
  },
  {
   "cell_type": "markdown",
   "metadata": {},
   "source": [
    "# 6. Predict Output of:"
   ]
  },
  {
   "cell_type": "code",
   "execution_count": 6,
   "metadata": {},
   "outputs": [
    {
     "name": "stdout",
     "output_type": "stream",
     "text": [
      "{'A': 'APPLE', 'B': 'BALL', 'C': 'CAT', 'D': 'DOG'}\n",
      "{'A': 'APPLE', 'C': 'CAT'}\n"
     ]
    }
   ],
   "source": [
    "L1 = ['A','B','C','D']\n",
    "L2 = ['APPLE','BALL','CAT','DOG']\n",
    "D1 = dict(zip(L1,L2))\n",
    "print(D1)\n",
    "d2 = dict(list(D1.items())[::2])\n",
    "print(d2)"
   ]
  },
  {
   "cell_type": "markdown",
   "metadata": {},
   "source": [
    "# WAP to input a string and count occurrence of each vowel in a string.\n",
    "Ex: if user enters:\n",
    "“Beautiful Day”\n",
    "Output should Be:\n",
    "a:2\n",
    "e:1\n",
    "I :1\n",
    "o:0\n",
    "u:2"
   ]
  },
  {
   "cell_type": "code",
   "execution_count": 35,
   "metadata": {},
   "outputs": [
    {
     "name": "stdout",
     "output_type": "stream",
     "text": [
      "beautiful day\n",
      "{'e': 1, 'a': 2, 'u': 2, 'i': 1}\n"
     ]
    }
   ],
   "source": [
    "s = input().lower()\n",
    "l = list(s)\n",
    "d = {}\n",
    "for c in l:\n",
    "    if c in 'aeiou':\n",
    "        if c in d :\n",
    "            d[c] =d[c]+1\n",
    "            \n",
    "            \n",
    "            \n",
    "            \n",
    "            \n",
    "            \n",
    "            \n",
    "            \n",
    "            \n",
    "            \n",
    "            \n",
    "            \n",
    "            \n",
    "            \n",
    "            \n",
    "            \n",
    "        \n",
    "        else :\n",
    "            d[c] = 1\n",
    "print(d)"
   ]
  },
  {
   "cell_type": "code",
   "execution_count": 11,
   "metadata": {},
   "outputs": [
    {
     "name": "stdout",
     "output_type": "stream",
     "text": [
      "Beautiful day\n",
      "{'b': 1, 'e': 1, 'a': 2, 'u': 2, 't': 1, 'i': 1, 'f': 1, 'l': 1, ' ': 1, 'd': 1, 'y': 1}\n"
     ]
    }
   ],
   "source": [
    "s = input().lower()\n",
    "l = list(s)\n",
    "d = {}\n",
    "for i in l:\n",
    "    if i in d:\n",
    "        d[i]= d[i] + 1\n",
    "    else :\n",
    "        d[i] = 1\n",
    "print(d)\n",
    "    "
   ]
  },
  {
   "cell_type": "markdown",
   "metadata": {},
   "source": [
    "# WAP that takes a string as input and prints frequency of each word.\n",
    "Ex: if input is “count the words in the sentence in”\n",
    "Output:\n",
    "count: 1\n",
    "the: 2\n",
    "words: 1\n",
    "in: 2\n",
    "sentence: 1"
   ]
  },
  {
   "cell_type": "code",
   "execution_count": 10,
   "metadata": {},
   "outputs": [
    {
     "name": "stdout",
     "output_type": "stream",
     "text": [
      "count of the word in the sentence in \n",
      "{'count': 1, 'of': 1, 'the': 2, 'word': 1, 'in': 2, 'sentence': 1}\n"
     ]
    }
   ],
   "source": [
    "s = input()\n",
    "l =s.split()\n",
    "\n",
    "d = {}\n",
    "for i in range(len(l)):\n",
    "    if l[i] in d:\n",
    "        d[l[i]] = d[l[i]]+1\n",
    "    else:\n",
    "        d[l[i]]=1\n",
    "print(d)"
   ]
  },
  {
   "cell_type": "code",
   "execution_count": 30,
   "metadata": {},
   "outputs": [
    {
     "name": "stdout",
     "output_type": "stream",
     "text": [
      "{(1, 2), (2, 3)}\n",
      "{'a': 'a', 'b': 1, 'y': [1234]}\n",
      "{1: 2, 2: 3}\n",
      "{1: 2, 2: 3}\n",
      "{'x': 2, 'y': 3}\n"
     ]
    }
   ],
   "source": [
    "d= {(1,2),(2,3)}\n",
    "print(d)\n",
    "\n",
    "d = {'a':'a','b':1,c:[1234]} #-------- why C replaced with Y \n",
    "print(d)\n",
    "\n",
    "d = dict([(1,2),(2,3)])\n",
    "print(d)\n",
    "\n",
    "d = dict(((1,2),(2,3)))\n",
    "print(d)\n",
    "\n",
    "d = dict(x=2,y=3)\n",
    "print(d)\n",
    "\n"
   ]
  }
 ],
 "metadata": {
  "kernelspec": {
   "display_name": "Python 3",
   "language": "python",
   "name": "python3"
  },
  "language_info": {
   "codemirror_mode": {
    "name": "ipython",
    "version": 3
   },
   "file_extension": ".py",
   "mimetype": "text/x-python",
   "name": "python",
   "nbconvert_exporter": "python",
   "pygments_lexer": "ipython3",
   "version": "3.8.3"
  }
 },
 "nbformat": 4,
 "nbformat_minor": 4
}
