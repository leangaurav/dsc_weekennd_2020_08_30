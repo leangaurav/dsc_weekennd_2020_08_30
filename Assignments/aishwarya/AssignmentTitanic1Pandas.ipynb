{
 "cells": [
  {
   "cell_type": "code",
   "execution_count": 1,
   "metadata": {},
   "outputs": [],
   "source": [
    "import pandas as pd "
   ]
  },
  {
   "cell_type": "code",
   "execution_count": 2,
   "metadata": {},
   "outputs": [
    {
     "name": "stdout",
     "output_type": "stream",
     "text": [
      "      pclass  survived                                             name  \\\n",
      "0          1         1                    Allen, Miss. Elisabeth Walton   \n",
      "1          1         1                   Allison, Master. Hudson Trevor   \n",
      "2          1         0                     Allison, Miss. Helen Loraine   \n",
      "3          1         0             Allison, Mr. Hudson Joshua Creighton   \n",
      "4          1         0  Allison, Mrs. Hudson J C (Bessie Waldo Daniels)   \n",
      "...      ...       ...                                              ...   \n",
      "1304       3         0                             Zabour, Miss. Hileni   \n",
      "1305       3         0                            Zabour, Miss. Thamine   \n",
      "1306       3         0                        Zakarian, Mr. Mapriededer   \n",
      "1307       3         0                              Zakarian, Mr. Ortin   \n",
      "1308       3         0                               Zimmerman, Mr. Leo   \n",
      "\n",
      "      gender      age  sibsp  parch  ticket      fare    cabin embarked boat  \\\n",
      "0     female  29.0000      0      0   24160  $211.34        B5        S    2   \n",
      "1       male   0.9167      1      2  113781  $151.55   C22 C26        S   11   \n",
      "2     female   2.0000      1      2  113781  $151.55   C22 C26        S  NaN   \n",
      "3       male  30.0000      1      2  113781  $151.55   C22 C26        S  NaN   \n",
      "4     female  25.0000      1      2  113781  $151.55   C22 C26        S  NaN   \n",
      "...      ...      ...    ...    ...     ...       ...      ...      ...  ...   \n",
      "1304  female  14.5000      1      0    2665   $14.45       NaN        C  NaN   \n",
      "1305  female      NaN      1      0    2665   $14.45       NaN        C  NaN   \n",
      "1306    male  26.5000      0      0    2656    $7.23       NaN        C  NaN   \n",
      "1307    male  27.0000      0      0    2670    $7.23       NaN        C  NaN   \n",
      "1308    male  29.0000      0      0  315082    $7.88       NaN        S  NaN   \n",
      "\n",
      "       body                        home.dest  \n",
      "0       NaN                     St Louis, MO  \n",
      "1       NaN  Montreal, PQ / Chesterville, ON  \n",
      "2       NaN  Montreal, PQ / Chesterville, ON  \n",
      "3     135.0  Montreal, PQ / Chesterville, ON  \n",
      "4       NaN  Montreal, PQ / Chesterville, ON  \n",
      "...     ...                              ...  \n",
      "1304  328.0                              NaN  \n",
      "1305    NaN                              NaN  \n",
      "1306  304.0                              NaN  \n",
      "1307    NaN                              NaN  \n",
      "1308    NaN                              NaN  \n",
      "\n",
      "[1309 rows x 14 columns]\n"
     ]
    }
   ],
   "source": [
    "df1= pd.read_csv(r\"C:\\Users\\raina\\python\\My_program\\CODE\\Titanic\\titanic_dataset.csv\", index_col= 0)\n",
    "print(df1)"
   ]
  },
  {
   "cell_type": "code",
   "execution_count": 93,
   "metadata": {},
   "outputs": [
    {
     "name": "stdout",
     "output_type": "stream",
     "text": [
      "            pclass     survived          age        sibsp        parch  \\\n",
      "count  1309.000000  1309.000000  1046.000000  1309.000000  1309.000000   \n",
      "mean      2.294882     0.381971    29.881135     0.498854     0.385027   \n",
      "std       0.837836     0.486055    14.413500     1.041658     0.865560   \n",
      "min       1.000000     0.000000     0.166700     0.000000     0.000000   \n",
      "25%       2.000000     0.000000    21.000000     0.000000     0.000000   \n",
      "50%       3.000000     0.000000    28.000000     0.000000     0.000000   \n",
      "75%       3.000000     1.000000    39.000000     1.000000     0.000000   \n",
      "max       3.000000     1.000000    80.000000     8.000000     9.000000   \n",
      "\n",
      "             body  \n",
      "count  121.000000  \n",
      "mean   160.809917  \n",
      "std     97.696922  \n",
      "min      1.000000  \n",
      "25%     72.000000  \n",
      "50%    155.000000  \n",
      "75%    256.000000  \n",
      "max    328.000000  \n"
     ]
    }
   ],
   "source": [
    "print(df1.describe() )"
   ]
  },
  {
   "cell_type": "markdown",
   "metadata": {},
   "source": [
    "# Find columns with missingdata"
   ]
  },
  {
   "cell_type": "code",
   "execution_count": 94,
   "metadata": {},
   "outputs": [
    {
     "name": "stdout",
     "output_type": "stream",
     "text": [
      "pclass       False\n",
      "survived     False\n",
      "name         False\n",
      "gender       False\n",
      "age           True\n",
      "sibsp        False\n",
      "parch        False\n",
      "ticket       False\n",
      "fare          True\n",
      "cabin         True\n",
      "embarked      True\n",
      "boat          True\n",
      "body          True\n",
      "home.dest     True\n",
      "dtype: bool\n"
     ]
    }
   ],
   "source": [
    "\n",
    "print(df1.isnull().any())"
   ]
  },
  {
   "cell_type": "markdown",
   "metadata": {},
   "source": [
    "# Print shape of dataset"
   ]
  },
  {
   "cell_type": "code",
   "execution_count": 4,
   "metadata": {},
   "outputs": [
    {
     "name": "stdout",
     "output_type": "stream",
     "text": [
      "(1309, 14)\n",
      "1309\n"
     ]
    }
   ],
   "source": [
    "print(df1.shape)\n",
    "\n"
   ]
  },
  {
   "cell_type": "markdown",
   "metadata": {},
   "source": [
    "# rop columns with more than 25% missing data"
   ]
  },
  {
   "cell_type": "code",
   "execution_count": 96,
   "metadata": {},
   "outputs": [
    {
     "name": "stdout",
     "output_type": "stream",
     "text": [
      "      pclass  survived                                             name  \\\n",
      "0          1         1                    Allen, Miss. Elisabeth Walton   \n",
      "1          1         1                   Allison, Master. Hudson Trevor   \n",
      "2          1         0                     Allison, Miss. Helen Loraine   \n",
      "3          1         0             Allison, Mr. Hudson Joshua Creighton   \n",
      "4          1         0  Allison, Mrs. Hudson J C (Bessie Waldo Daniels)   \n",
      "...      ...       ...                                              ...   \n",
      "1304       3         0                             Zabour, Miss. Hileni   \n",
      "1305       3         0                            Zabour, Miss. Thamine   \n",
      "1306       3         0                        Zakarian, Mr. Mapriededer   \n",
      "1307       3         0                              Zakarian, Mr. Ortin   \n",
      "1308       3         0                               Zimmerman, Mr. Leo   \n",
      "\n",
      "      gender      age  sibsp  parch  ticket      fare embarked boat  \\\n",
      "0     female  29.0000      0      0   24160  $211.34         S    2   \n",
      "1       male   0.9167      1      2  113781  $151.55         S   11   \n",
      "2     female   2.0000      1      2  113781  $151.55         S  NaN   \n",
      "3       male  30.0000      1      2  113781  $151.55         S  NaN   \n",
      "4     female  25.0000      1      2  113781  $151.55         S  NaN   \n",
      "...      ...      ...    ...    ...     ...       ...      ...  ...   \n",
      "1304  female  14.5000      1      0    2665   $14.45         C  NaN   \n",
      "1305  female      NaN      1      0    2665   $14.45         C  NaN   \n",
      "1306    male  26.5000      0      0    2656    $7.23         C  NaN   \n",
      "1307    male  27.0000      0      0    2670    $7.23         C  NaN   \n",
      "1308    male  29.0000      0      0  315082    $7.88         S  NaN   \n",
      "\n",
      "                            home.dest  \n",
      "0                        St Louis, MO  \n",
      "1     Montreal, PQ / Chesterville, ON  \n",
      "2     Montreal, PQ / Chesterville, ON  \n",
      "3     Montreal, PQ / Chesterville, ON  \n",
      "4     Montreal, PQ / Chesterville, ON  \n",
      "...                               ...  \n",
      "1304                              NaN  \n",
      "1305                              NaN  \n",
      "1306                              NaN  \n",
      "1307                              NaN  \n",
      "1308                              NaN  \n",
      "\n",
      "[1309 rows x 12 columns]\n",
      "(1309, 12)\n"
     ]
    }
   ],
   "source": [
    "df1.dropna(thresh = df1.shape[0]*0.25,how= 'any',axis= 1,inplace = True)\n",
    "print(df1)\n",
    "print(df1.shape)"
   ]
  },
  {
   "cell_type": "markdown",
   "metadata": {},
   "source": [
    "# drop columns having independent values(which do not affect the survival rate)."
   ]
  },
  {
   "cell_type": "code",
   "execution_count": null,
   "metadata": {},
   "outputs": [],
   "source": [
    "df1.drop(columns = ['name','boat','home.dest','ticket'], inplace = True)"
   ]
  },
  {
   "cell_type": "markdown",
   "metadata": {},
   "source": [
    "# check data types of all columns"
   ]
  },
  {
   "cell_type": "code",
   "execution_count": 104,
   "metadata": {},
   "outputs": [
    {
     "name": "stdout",
     "output_type": "stream",
     "text": [
      "pclass        int64\n",
      "survived      int64\n",
      "gender       object\n",
      "age         float64\n",
      "sibsp         int64\n",
      "parch         int64\n",
      "fare        float64\n",
      "embarked     object\n",
      "dtype: object\n"
     ]
    }
   ],
   "source": [
    "print(df1.dtypes)"
   ]
  },
  {
   "cell_type": "markdown",
   "metadata": {},
   "source": [
    "# convert price to numeric"
   ]
  },
  {
   "cell_type": "code",
   "execution_count": null,
   "metadata": {},
   "outputs": [],
   "source": [
    "#df1[\"fare\"] = df1.fare.astype(int)\n",
    "#df1.astype({'fare': 'int32'}).dtypes\n",
    "df1['fare'] =  pd.to_numeric(df1['fare'].str.replace(r'[$]',''))"
   ]
  },
  {
   "cell_type": "markdown",
   "metadata": {},
   "source": [
    "# ill na with mean for fare and age column column\n"
   ]
  },
  {
   "cell_type": "code",
   "execution_count": 107,
   "metadata": {},
   "outputs": [
    {
     "name": "stdout",
     "output_type": "stream",
     "text": [
      "pclass         3\n",
      "survived       0\n",
      "gender      male\n",
      "age         28.5\n",
      "sibsp          0\n",
      "parch          0\n",
      "fare        16.1\n",
      "embarked       S\n",
      "Name: 1294, dtype: object\n"
     ]
    }
   ],
   "source": [
    "df1.fillna({'age': df1.age.mean() , 'fare':df1.fare.mean()})\n",
    "#print(df1)\n",
    "print(df1.iloc[1294,:])"
   ]
  },
  {
   "cell_type": "markdown",
   "metadata": {},
   "source": [
    "# find columns still having missing/na values and also count of missing data"
   ]
  },
  {
   "cell_type": "code",
   "execution_count": 108,
   "metadata": {},
   "outputs": [
    {
     "name": "stdout",
     "output_type": "stream",
     "text": [
      "<bound method DataFrame.isna of       pclass  survived  gender      age  sibsp  parch    fare embarked\n",
      "0          1         1  female  29.0000      0      0  211.34        S\n",
      "1          1         1    male   0.9167      1      2  151.55        S\n",
      "2          1         0  female   2.0000      1      2  151.55        S\n",
      "3          1         0    male  30.0000      1      2  151.55        S\n",
      "4          1         0  female  25.0000      1      2  151.55        S\n",
      "...      ...       ...     ...      ...    ...    ...     ...      ...\n",
      "1304       3         0  female  14.5000      1      0   14.45        C\n",
      "1305       3         0  female      NaN      1      0   14.45        C\n",
      "1306       3         0    male  26.5000      0      0    7.23        C\n",
      "1307       3         0    male  27.0000      0      0    7.23        C\n",
      "1308       3         0    male  29.0000      0      0    7.88        S\n",
      "\n",
      "[1309 rows x 8 columns]>\n"
     ]
    }
   ],
   "source": [
    "print(df1.isna)"
   ]
  },
  {
   "cell_type": "markdown",
   "metadata": {},
   "source": [
    "# drop na values for embarked column."
   ]
  },
  {
   "cell_type": "code",
   "execution_count": 112,
   "metadata": {},
   "outputs": [],
   "source": [
    "\n",
    "df1.dropna(subset= ['embarked'], inplace = True)\n"
   ]
  },
  {
   "cell_type": "markdown",
   "metadata": {},
   "source": [
    "# dump the dataframe to a csv file 'titanic_filtered.csv'."
   ]
  },
  {
   "cell_type": "code",
   "execution_count": 117,
   "metadata": {},
   "outputs": [],
   "source": [
    "df1.to_csv(r\"C:\\Users\\raina\\python\\aish\\titanic_filtered.csv\", index = False)"
   ]
  },
  {
   "cell_type": "markdown",
   "metadata": {},
   "source": [
    "# or surviced column replace 0 with D and 1 with A"
   ]
  },
  {
   "cell_type": "code",
   "execution_count": 131,
   "metadata": {},
   "outputs": [],
   "source": [
    "#df1['survived'].astype(str).str.replace('0','D').replace('1', 'A')\n",
    "df1['survived'].replace({1:'A',0: 'D'}, inplace = True )"
   ]
  },
  {
   "cell_type": "markdown",
   "metadata": {},
   "source": [
    "# find the frequency of different values in survived column"
   ]
  },
  {
   "cell_type": "code",
   "execution_count": 132,
   "metadata": {},
   "outputs": [
    {
     "data": {
      "text/plain": [
       "D    809\n",
       "A    498\n",
       "Name: survived, dtype: int64"
      ]
     },
     "execution_count": 132,
     "metadata": {},
     "output_type": "execute_result"
    }
   ],
   "source": [
    "df1.survived.value_counts()"
   ]
  },
  {
   "cell_type": "markdown",
   "metadata": {},
   "source": [
    "# group by gender and survived and see the counts in each category"
   ]
  },
  {
   "cell_type": "code",
   "execution_count": 174,
   "metadata": {},
   "outputs": [
    {
     "name": "stdout",
     "output_type": "stream",
     "text": [
      "<pandas.core.groupby.generic.DataFrameGroupBy object at 0x000001F873A9EAF0>\n",
      "{'female': Int64Index([   0,    2,    4,    6,    8,   11,   12,   13,   17,   18,\n",
      "            ...\n",
      "            1265, 1267, 1273, 1276, 1279, 1286, 1290, 1300, 1304, 1305],\n",
      "           dtype='int64', length=464), 'male': Int64Index([   1,    3,    5,    7,    9,   10,   14,   15,   16,   19,\n",
      "            ...\n",
      "            1296, 1297, 1298, 1299, 1301, 1302, 1303, 1306, 1307, 1308],\n",
      "           dtype='int64', length=843)}\n",
      "gender\n",
      "female    464\n",
      "male      843\n",
      "Name: gender, dtype: int64\n",
      "\n",
      "\n",
      "\n",
      "<pandas.core.groupby.generic.DataFrameGroupBy object at 0x000001F873AB08B0>\n",
      "{'A': Int64Index([   0,    1,    5,    6,    8,   11,   12,   13,   14,   17,\n",
      "            ...\n",
      "            1254, 1256, 1257, 1258, 1260, 1261, 1277, 1286, 1290, 1300],\n",
      "           dtype='int64', length=498), 'D': Int64Index([   2,    3,    4,    7,    9,   10,   15,   16,   19,   25,\n",
      "            ...\n",
      "            1298, 1299, 1301, 1302, 1303, 1304, 1305, 1306, 1307, 1308],\n",
      "           dtype='int64', length=809)}\n"
     ]
    },
    {
     "data": {
      "text/plain": [
       "survived\n",
       "A    498\n",
       "D    809\n",
       "Name: survived, dtype: int64"
      ]
     },
     "execution_count": 174,
     "metadata": {},
     "output_type": "execute_result"
    }
   ],
   "source": [
    "grp = df1.groupby(by = 'gender' )\n",
    "print(grp)\n",
    "print(grp.groups)\n",
    "print(grp.gender.count())\n",
    "\n",
    "print()\n",
    "print()\n",
    "\n",
    "print()\n",
    "\n",
    "grp1 = df1.groupby(by = 'survived' )\n",
    "print(grp1)\n",
    "print(grp1.groups)\n",
    "grp1.survived.count()"
   ]
  },
  {
   "cell_type": "markdown",
   "metadata": {},
   "source": [
    "# find different pclass and no of people in each class"
   ]
  },
  {
   "cell_type": "code",
   "execution_count": 146,
   "metadata": {},
   "outputs": [
    {
     "data": {
      "text/plain": [
       "3    709\n",
       "1    321\n",
       "2    277\n",
       "Name: pclass, dtype: int64"
      ]
     },
     "execution_count": 146,
     "metadata": {},
     "output_type": "execute_result"
    }
   ],
   "source": [
    "df1.pclass.value_counts()"
   ]
  },
  {
   "cell_type": "markdown",
   "metadata": {},
   "source": [
    "# find top 5 people with highest values of age. Count no of male and females in the top 5"
   ]
  },
  {
   "cell_type": "code",
   "execution_count": 177,
   "metadata": {},
   "outputs": [
    {
     "name": "stdout",
     "output_type": "stream",
     "text": [
      "      pclass survived  gender   age  sibsp  parch   fare embarked\n",
      "14         1        A    male  80.0      0      0  30.00        S\n",
      "61         1        A  female  76.0      1      0  78.85        S\n",
      "1235       3        D    male  74.0      0      0   7.78        S\n",
      "135        1        D    male  71.0      0      0  34.65        C\n",
      "9          1        D    male  71.0      0      0  49.50        C\n",
      "\n"
     ]
    },
    {
     "data": {
      "text/plain": [
       "gender\n",
       "female    1\n",
       "male      4\n",
       "Name: gender, dtype: int64"
      ]
     },
     "execution_count": 177,
     "metadata": {},
     "output_type": "execute_result"
    }
   ],
   "source": [
    "r = df1.sort_values(by = 'age' , ascending = False ).head(5)\n",
    "print(r)\n",
    "print()\n",
    "grp= r.groupby('gender')\n",
    "grp.gender.count()\n"
   ]
  },
  {
   "cell_type": "markdown",
   "metadata": {},
   "source": [
    "# get average age by gender"
   ]
  },
  {
   "cell_type": "code",
   "execution_count": 196,
   "metadata": {},
   "outputs": [
    {
     "name": "stdout",
     "output_type": "stream",
     "text": [
      "gender\n",
      "female    28.576641\n",
      "male      30.585233\n",
      "Name: age, dtype: float64\n"
     ]
    }
   ],
   "source": [
    "grp = df1.groupby('gender').age.mean()\n",
    "print(grp)\n"
   ]
  },
  {
   "cell_type": "markdown",
   "metadata": {},
   "source": [
    "# find max age male and female who survived"
   ]
  },
  {
   "cell_type": "code",
   "execution_count": 195,
   "metadata": {},
   "outputs": [
    {
     "data": {
      "text/plain": [
       "gender\n",
       "female    76.0\n",
       "male      80.0\n",
       "Name: age, dtype: float64"
      ]
     },
     "execution_count": 195,
     "metadata": {},
     "output_type": "execute_result"
    }
   ],
   "source": [
    "r = df1.loc[df1['survived'] == 'A']\n",
    "grp = r.groupby('gender')\n",
    "grp.age.max()\n"
   ]
  },
  {
   "cell_type": "markdown",
   "metadata": {},
   "source": [
    "# get average age by people survived vs not-survived"
   ]
  },
  {
   "cell_type": "code",
   "execution_count": 203,
   "metadata": {},
   "outputs": [
    {
     "name": "stdout",
     "output_type": "stream",
     "text": [
      "average age alived people  28.81901976470588\n",
      "Average age of dead people  30.54536882067851\n",
      "\n"
     ]
    },
    {
     "data": {
      "text/plain": [
       "30.54536882067851"
      ]
     },
     "execution_count": 203,
     "metadata": {},
     "output_type": "execute_result"
    }
   ],
   "source": [
    "r1  = df1.loc[df1['survived']=='A']\n",
    "r2  = df1.loc[df1['survived']=='D']\n",
    "print(\"average age alived people \",r1.age.mean())\n",
    "print(\"Average age of dead people \",r2.age.mean())\n",
    "print()\n",
    "\n",
    "#df1.loc[df1['survived']=='A'].age.mean()\n",
    "#df1.loc[df1['survived']=='D'].age.mean()"
   ]
  }
 ],
 "metadata": {
  "kernelspec": {
   "display_name": "Python 3",
   "language": "python",
   "name": "python3"
  },
  "language_info": {
   "codemirror_mode": {
    "name": "ipython",
    "version": 3
   },
   "file_extension": ".py",
   "mimetype": "text/x-python",
   "name": "python",
   "nbconvert_exporter": "python",
   "pygments_lexer": "ipython3",
   "version": "3.8.3"
  }
 },
 "nbformat": 4,
 "nbformat_minor": 4
}
