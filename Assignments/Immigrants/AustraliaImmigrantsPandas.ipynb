{
 "cells": [
  {
   "cell_type": "markdown",
   "metadata": {},
   "source": [
    "- Read sheet \"Australia by Residence\" from Australia.xlsx\n",
    "- Ignore the first 20 rows.\n",
    "- List all Column and Row indexes(Print their names)\n",
    "\n",
    "Dataset Analysis\n",
    "- Describe the dataset\n",
    "- Use values and index attributes on both Row and Column Indexes\n",
    "- Check Shape, Datatypes and other attributes and observe the datatype of each columns' data\n",
    "  \n",
    "\n",
    "Drop\n",
    "- Delete all Data where the Type = \"Emigrants\" or Type is not \"Immigrants\" (Row Deletion)\n",
    "- Find columns for which more than 50% data is missing and drop them (Column Deletion)\n",
    "- Drop Unnessary Columns: Type, Coverage, Area, Reg, Dev (Column deletion)\n",
    "    Your columns should now look like \"OdName,AreaName,RegName,DevName,1980 ... 2008\"\n",
    "\n",
    "Rename\n",
    "- Rename columns :OdName -> Country; RegName -> Region\n",
    "- Convert Column Names with Int type to Strings to avoid index errors with string indexing \"1980, 1981 etc.\" => \" '1980', '1981' ... \" (Use rename)\n",
    "- Find Total number of immigrants for all years, and create a new column Total in data Frame\n",
    "\n",
    "Head Tail Sort\n",
    "- Sort Data by the new column Total in descending order and analyze the fist few rows. (get first few rows using head)\n",
    "    - find something weird in the dataset ? Delete that row 'world'\n",
    "- Analyze last few rows also in the sorted result (Don't sort inplace)\n",
    "\n",
    "- Check if these have all unique values or not:\n",
    "    - countries\n",
    "    - continents (AreaName)\n",
    "    - country continent pairs\n",
    "\n",
    "\n",
    "- Find countries for which no of immigrants for all years is 0\n",
    "- Find count of above countries\n",
    "- Find countries for which no of immigrants is 0 for any year\n",
    "\n",
    "Save Data\n",
    "- Drop the row where AreaName is 'World'\n",
    "- Save the dataset to a new file AustraliaFiltered.xlsx"
   ]
  }
 ],
 "metadata": {
  "kernelspec": {
   "display_name": "Python 3",
   "language": "python",
   "name": "python3"
  },
  "language_info": {
   "codemirror_mode": {
    "name": "ipython",
    "version": 3
   },
   "file_extension": ".py",
   "mimetype": "text/x-python",
   "name": "python",
   "nbconvert_exporter": "python",
   "pygments_lexer": "ipython3",
   "version": "3.7.3"
  }
 },
 "nbformat": 4,
 "nbformat_minor": 2
}
