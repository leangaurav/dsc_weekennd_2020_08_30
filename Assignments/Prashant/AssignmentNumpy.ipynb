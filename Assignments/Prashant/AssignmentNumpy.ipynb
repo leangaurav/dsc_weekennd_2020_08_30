{
 "cells": [
  {
   "cell_type": "markdown",
   "metadata": {},
   "source": [
    "## NUMPY\n",
    "- create a numpy array of 5 zeros.\n",
    "    - check datatype, itemsize and shape of above\n",
    "- create a numpy array of ones of shape (5,4)\n",
    "- create a matrix of shape 4,5 with numbers from 1-20\n",
    "- multiply all elements of above array by 10\n",
    "- print odd elements from array\n",
    "- replace all even elements by their negative\n",
    "  \n",
    "  \n",
    "  \n",
    "- create a linearly spaced matrix M1 of size 4x4 having values in range 1-16\n",
    "- create a transpose of above matrix call it M2\n",
    "- find sum of above matrix M3 = (M1 + M2)\n",
    "- Find Transpose of M3, Call it MT1. Check if M3 == MT1\n",
    "- find diffrence of M4 = (M1 - M2)\n",
    "- Find Transpose of M4, Call it MT2. Check if M4 == MT2. Also check if M4 == -MT2\n",
    "  \n",
    "\n",
    "- create a matrix (3x4) R1 of random numbers between 10-40\n",
    "- find min and max column wise\n",
    "- replace the last column with sum of all the columns\n",
    "\n",
    "\n",
    "- create a matrix (3x4) R1 of random numbers between 10-40\n",
    "- replace all even elements with nan in R1\n",
    "- count number of nan in R1\n",
    "\n",
    "\n",
    "\n",
    "- check output of this code  \n",
    "`a1 = np.arange(1,10).reshape(3,3)\n",
    "a2 = np.arange(11,20).reshape(3,3)\n",
    "a3 = np.append(a1,a2)\n",
    "print(a3)\n",
    "a3 = np.append(a1,a2, axis = 0)\n",
    "print(a3)\n",
    "a3 = np.append(a1,a2, axis = 1)\n",
    "print(a3)\n",
    "`\n"
   ]
  },
  {
   "cell_type": "code",
   "execution_count": 1,
   "metadata": {},
   "outputs": [],
   "source": [
    "import numpy as np"
   ]
  },
  {
   "cell_type": "markdown",
   "metadata": {},
   "source": [
    "### Q1 create a numpy array of 5 zeros. check datatype, itemsize and shape of above"
   ]
  },
  {
   "cell_type": "code",
   "execution_count": 9,
   "metadata": {},
   "outputs": [
    {
     "name": "stdout",
     "output_type": "stream",
     "text": [
      "[0. 0. 0. 0. 0.]\n",
      "float64\n",
      "8\n",
      "(5,)\n"
     ]
    }
   ],
   "source": [
    "arr_zeros = np.zeros (5)\n",
    "print (arr_zeros)\n",
    "print (arr_zeros.dtype)\n",
    "print (arr_zeros.itemsize) # means each element is 8 bytes\n",
    "print (arr_zeros.shape) #5 rows 1 column"
   ]
  },
  {
   "cell_type": "markdown",
   "metadata": {},
   "source": [
    "### Q2 create a numpy array of ones of shape (5,4)"
   ]
  },
  {
   "cell_type": "code",
   "execution_count": 12,
   "metadata": {},
   "outputs": [
    {
     "data": {
      "text/plain": [
       "array([[1., 1., 1., 1.],\n",
       "       [1., 1., 1., 1.],\n",
       "       [1., 1., 1., 1.],\n",
       "       [1., 1., 1., 1.],\n",
       "       [1., 1., 1., 1.]])"
      ]
     },
     "execution_count": 12,
     "metadata": {},
     "output_type": "execute_result"
    }
   ],
   "source": [
    "arrOnes = np.ones ((5,4))\n",
    "arrOnes"
   ]
  },
  {
   "cell_type": "markdown",
   "metadata": {},
   "source": [
    "### Q3 create a matrix of shape 4,5 with numbers from 1-20"
   ]
  },
  {
   "cell_type": "code",
   "execution_count": 56,
   "metadata": {},
   "outputs": [
    {
     "data": {
      "text/plain": [
       "array([[ 7,  4,  8, 14, 12],\n",
       "       [20,  1, 10,  9,  8],\n",
       "       [19,  1, 16,  4,  2],\n",
       "       [10, 19, 14,  4,  6]])"
      ]
     },
     "execution_count": 56,
     "metadata": {},
     "output_type": "execute_result"
    }
   ],
   "source": [
    "mat = np.random.randint (1, 21, 20).reshape (4,5)\n",
    "mat"
   ]
  },
  {
   "cell_type": "markdown",
   "metadata": {},
   "source": [
    "### Q4 - multiply all elements of above array by 10"
   ]
  },
  {
   "cell_type": "code",
   "execution_count": 57,
   "metadata": {},
   "outputs": [
    {
     "name": "stdout",
     "output_type": "stream",
     "text": [
      "[[ 70  40  80 140 120]\n",
      " [200  10 100  90  80]\n",
      " [190  10 160  40  20]\n",
      " [100 190 140  40  60]]\n"
     ]
    }
   ],
   "source": [
    "print (mat*10)"
   ]
  },
  {
   "cell_type": "markdown",
   "metadata": {},
   "source": [
    "### Q5 - print odd elements from array"
   ]
  },
  {
   "cell_type": "code",
   "execution_count": 58,
   "metadata": {},
   "outputs": [
    {
     "name": "stdout",
     "output_type": "stream",
     "text": [
      "[ 7  1  9 19  1 19]\n"
     ]
    }
   ],
   "source": [
    "pos = mat % 2 !=0 # retuns a matrix of True and false \n",
    "print (mat[pos]) #when use above T and F matrix gives output for only True value "
   ]
  },
  {
   "cell_type": "code",
   "execution_count": 59,
   "metadata": {},
   "outputs": [
    {
     "name": "stdout",
     "output_type": "stream",
     "text": [
      "[[  3  16  64 196 144]\n",
      " [400   0 100   4  64]\n",
      " [  9   0 256  16   4]\n",
      " [100   9 196  16  36]]\n"
     ]
    }
   ],
   "source": [
    "#self practice\n",
    "\n",
    "pos = mat % 2 ==0\n",
    "pos\n",
    "print ( np.where (pos, mat**2, mat //2) ) ##np.where does operation mat**2 at palces even and other for odd positions"
   ]
  },
  {
   "cell_type": "markdown",
   "metadata": {},
   "source": [
    "### Q6 - replace all even elements by their negative"
   ]
  },
  {
   "cell_type": "code",
   "execution_count": 60,
   "metadata": {},
   "outputs": [
    {
     "data": {
      "text/plain": [
       "array([[ -7,  -4,  -8, -14, -12],\n",
       "       [-20,  -1, -10,  -9,  -8],\n",
       "       [-19,  -1, -16,  -4,  -2],\n",
       "       [-10, -19, -14,  -4,  -6]])"
      ]
     },
     "execution_count": 60,
     "metadata": {},
     "output_type": "execute_result"
    }
   ],
   "source": [
    "negmat = mat*-1\n",
    "negmat"
   ]
  },
  {
   "cell_type": "markdown",
   "metadata": {},
   "source": [
    "### Q7 - create a linearly spaced matrix M1 of size 4x4 having values in range 1-16"
   ]
  },
  {
   "cell_type": "code",
   "execution_count": 67,
   "metadata": {},
   "outputs": [
    {
     "data": {
      "text/plain": [
       "array([[ 1.,  2.,  3.,  4.],\n",
       "       [ 5.,  6.,  7.,  8.],\n",
       "       [ 9., 10., 11., 12.],\n",
       "       [13., 14., 15., 16.]])"
      ]
     },
     "execution_count": 67,
     "metadata": {},
     "output_type": "execute_result"
    }
   ],
   "source": [
    "M1 = np.linspace (1,16,16).reshape (4,4)\n",
    "M1"
   ]
  },
  {
   "cell_type": "markdown",
   "metadata": {},
   "source": [
    "### Q8 - create a transpose of above matrix call it M2"
   ]
  },
  {
   "cell_type": "code",
   "execution_count": 68,
   "metadata": {},
   "outputs": [
    {
     "data": {
      "text/plain": [
       "array([[ 1.,  5.,  9., 13.],\n",
       "       [ 2.,  6., 10., 14.],\n",
       "       [ 3.,  7., 11., 15.],\n",
       "       [ 4.,  8., 12., 16.]])"
      ]
     },
     "execution_count": 68,
     "metadata": {},
     "output_type": "execute_result"
    }
   ],
   "source": [
    "M2 = M1.T\n",
    "M2"
   ]
  },
  {
   "cell_type": "markdown",
   "metadata": {},
   "source": [
    "### Q9 - find sum of above matrix M3 = (M1 + M2)"
   ]
  },
  {
   "cell_type": "code",
   "execution_count": 69,
   "metadata": {},
   "outputs": [
    {
     "data": {
      "text/plain": [
       "array([[ 2.,  7., 12., 17.],\n",
       "       [ 7., 12., 17., 22.],\n",
       "       [12., 17., 22., 27.],\n",
       "       [17., 22., 27., 32.]])"
      ]
     },
     "execution_count": 69,
     "metadata": {},
     "output_type": "execute_result"
    }
   ],
   "source": [
    "M3 = M1 + M2\n",
    "M3"
   ]
  },
  {
   "cell_type": "markdown",
   "metadata": {},
   "source": [
    "### Q10 - Find Transpose of M3, Call it MT1. Check if M3 == MT1"
   ]
  },
  {
   "cell_type": "code",
   "execution_count": 73,
   "metadata": {},
   "outputs": [
    {
     "name": "stdout",
     "output_type": "stream",
     "text": [
      "[[ True  True  True  True]\n",
      " [ True  True  True  True]\n",
      " [ True  True  True  True]\n",
      " [ True  True  True  True]]\n"
     ]
    }
   ],
   "source": [
    "MT1 = M3.T\n",
    "MT1\n",
    "print (M3 == MT1) #Yes they are equal"
   ]
  },
  {
   "cell_type": "markdown",
   "metadata": {},
   "source": [
    "### Q11 - Find diffrence of M4 = (M1 - M2)"
   ]
  },
  {
   "cell_type": "code",
   "execution_count": 74,
   "metadata": {},
   "outputs": [
    {
     "data": {
      "text/plain": [
       "array([[ 0., -3., -6., -9.],\n",
       "       [ 3.,  0., -3., -6.],\n",
       "       [ 6.,  3.,  0., -3.],\n",
       "       [ 9.,  6.,  3.,  0.]])"
      ]
     },
     "execution_count": 74,
     "metadata": {},
     "output_type": "execute_result"
    }
   ],
   "source": [
    "M4 = M1- M2\n",
    "M4"
   ]
  },
  {
   "cell_type": "markdown",
   "metadata": {},
   "source": [
    "### Q12 - Find Transpose of M4, Call it MT2. Check if M4 == MT2. Also check if M4 == -MT2"
   ]
  },
  {
   "cell_type": "code",
   "execution_count": 80,
   "metadata": {},
   "outputs": [
    {
     "name": "stdout",
     "output_type": "stream",
     "text": [
      "[[ True False False False]\n",
      " [False  True False False]\n",
      " [False False  True False]\n",
      " [False False False  True]]\n",
      "[[ True  True  True  True]\n",
      " [ True  True  True  True]\n",
      " [ True  True  True  True]\n",
      " [ True  True  True  True]]\n"
     ]
    }
   ],
   "source": [
    "MT2 = M4.T\n",
    "print (MT2 == M4) # Not equal\n",
    "print (M4 == - MT2) # Equal"
   ]
  },
  {
   "cell_type": "markdown",
   "metadata": {},
   "source": [
    "### Q13 - create a matrix (3x4) R1 of random numbers between 10-40"
   ]
  },
  {
   "cell_type": "code",
   "execution_count": 86,
   "metadata": {},
   "outputs": [
    {
     "data": {
      "text/plain": [
       "array([[18, 16, 27, 30],\n",
       "       [39, 37, 10, 38],\n",
       "       [12, 27, 38, 20]])"
      ]
     },
     "execution_count": 86,
     "metadata": {},
     "output_type": "execute_result"
    }
   ],
   "source": [
    "mat = np.random.randint (10,40,12).reshape (3,4)\n",
    "mat"
   ]
  },
  {
   "cell_type": "markdown",
   "metadata": {},
   "source": [
    "### Q14 - find min and max column wise"
   ]
  },
  {
   "cell_type": "code",
   "execution_count": 94,
   "metadata": {},
   "outputs": [
    {
     "name": "stdout",
     "output_type": "stream",
     "text": [
      "[39 37 38 38]\n",
      "[30 39 38]\n"
     ]
    }
   ],
   "source": [
    "print (np.max (mat,  axis = 0)) # column wise max \n",
    "print (np.max (mat,  axis = 1)) # row wise max"
   ]
  },
  {
   "cell_type": "markdown",
   "metadata": {},
   "source": [
    "### Q15 - replace the last column with sum of all the columns"
   ]
  },
  {
   "cell_type": "code",
   "execution_count": 96,
   "metadata": {},
   "outputs": [
    {
     "data": {
      "text/plain": [
       "array([[18, 16, 27, 30],\n",
       "       [39, 37, 10, 38],\n",
       "       [69, 80, 75, 88]])"
      ]
     },
     "execution_count": 96,
     "metadata": {},
     "output_type": "execute_result"
    }
   ],
   "source": [
    "mat [2] = np.sum (mat, axis = 0)\n",
    "mat"
   ]
  },
  {
   "cell_type": "markdown",
   "metadata": {},
   "source": [
    "### Q16 - create a matrix (3x4) R1 of random numbers between 10-40"
   ]
  },
  {
   "cell_type": "code",
   "execution_count": 113,
   "metadata": {},
   "outputs": [
    {
     "data": {
      "text/plain": [
       "array([[10., 11., 12., 13.],\n",
       "       [14., 15., 16., 17.],\n",
       "       [18., 19., 20., 21.]])"
      ]
     },
     "execution_count": 113,
     "metadata": {},
     "output_type": "execute_result"
    }
   ],
   "source": [
    "R1 = np.arange (10,22, dtype = np.float64).reshape (3,4)\n",
    "R1"
   ]
  },
  {
   "cell_type": "markdown",
   "metadata": {},
   "source": [
    "### Q17 - replace all even elements with nan in R1"
   ]
  },
  {
   "cell_type": "code",
   "execution_count": 115,
   "metadata": {},
   "outputs": [
    {
     "data": {
      "text/plain": [
       "array([[10., 11., 12., 13.],\n",
       "       [nan, 15., 16., nan],\n",
       "       [nan, nan, 20., 21.]])"
      ]
     },
     "execution_count": 115,
     "metadata": {},
     "output_type": "execute_result"
    }
   ],
   "source": [
    "pos = mat %2 == 0\n",
    "R1 [pos] = np.nan  #np.nan works with flaot 64 only, tried other random.randint, or without dtype nan assignemnt gives error\n",
    "R1"
   ]
  },
  {
   "cell_type": "markdown",
   "metadata": {},
   "source": [
    "### Q18 - count number of nan in R1"
   ]
  },
  {
   "cell_type": "code",
   "execution_count": 121,
   "metadata": {},
   "outputs": [
    {
     "name": "stdout",
     "output_type": "stream",
     "text": [
      "[[False False False False]\n",
      " [ True False False  True]\n",
      " [ True  True False False]]\n",
      "4\n"
     ]
    }
   ],
   "source": [
    "print (np.isnan(R1)) #just for visibility of NaN's , this line is not required\n",
    "print ((np.isnan(R1).sum())) #sum will give count of only trues in expression isnan"
   ]
  },
  {
   "cell_type": "markdown",
   "metadata": {},
   "source": [
    "### Q19 check output of this code\n",
    " - a1 = np.arange(1,10).reshape(3,3)\n",
    " - a2 = np.arange(11,20).reshape(3,3)\n",
    " - a3 = np.append(a1,a2)\n",
    " - print(a3)\n",
    " - a3 = np.append(a1,a2, axis = 0)\n",
    " - print(a3)\n",
    " - a3 = np.append(a1,a2, axis = 1)\n",
    " - print(a3)"
   ]
  },
  {
   "cell_type": "code",
   "execution_count": 125,
   "metadata": {},
   "outputs": [],
   "source": [
    "# 1 2 3\n",
    "# 4 5 6 = a1\n",
    "# 7 8 9\n",
    "\n",
    "# 11 12 13\n",
    "# 14 15 16 = a2\n",
    "# 17 18 19\n",
    "\n",
    "# 1 2 3 4 5 6 7 8 9 11 12 13 14 5 16 17 18 19 - a3\n",
    "\n",
    "# 1 2 3\n",
    "# 4 5 6  - a3\n",
    "# 7 8 9\n",
    "# 11 12 13\n",
    "# 14 15 16 \n",
    "# 17 18 19\n",
    "\n",
    "# 1 2 3 11 12 13\n",
    "# 4 5 6 14 15 16 - a3\n",
    "# 7 8 9 17 18 19\n"
   ]
  },
  {
   "cell_type": "code",
   "execution_count": 139,
   "metadata": {},
   "outputs": [
    {
     "name": "stdout",
     "output_type": "stream",
     "text": [
      "[[ 1  2  3  4 11 12 13 14]\n",
      " [ 5  6  7  8 15 16 17 18]\n",
      " [ 9 10 11 12 19 20 21 22]\n",
      " [13 14 15 16 23 24 25 26]]\n",
      "[array([[ 1,  2],\n",
      "       [ 5,  6],\n",
      "       [ 9, 10],\n",
      "       [13, 14]]), array([[ 3,  4],\n",
      "       [ 7,  8],\n",
      "       [11, 12],\n",
      "       [15, 16]]), array([[11, 12],\n",
      "       [15, 16],\n",
      "       [19, 20],\n",
      "       [23, 24]]), array([[13, 14],\n",
      "       [17, 18],\n",
      "       [21, 22],\n",
      "       [25, 26]])]\n",
      "\n",
      "[array([[ 1,  2,  3,  4, 11, 12, 13, 14]]), array([[ 5,  6,  7,  8, 15, 16, 17, 18]]), array([[ 9, 10, 11, 12, 19, 20, 21, 22]]), array([[13, 14, 15, 16, 23, 24, 25, 26]])]\n",
      "\n",
      "[array([[ 1,  2],\n",
      "       [ 5,  6],\n",
      "       [ 9, 10],\n",
      "       [13, 14]]), array([[ 3,  4],\n",
      "       [ 7,  8],\n",
      "       [11, 12],\n",
      "       [15, 16]]), array([[11, 12, 13, 14],\n",
      "       [15, 16, 17, 18],\n",
      "       [19, 20, 21, 22],\n",
      "       [23, 24, 25, 26]])]\n",
      "\n",
      "[array([[ 1,  2,  3,  4, 11, 12, 13, 14],\n",
      "       [ 5,  6,  7,  8, 15, 16, 17, 18]]), array([[ 9, 10, 11, 12, 19, 20, 21, 22]]), array([[13, 14, 15, 16, 23, 24, 25, 26]])]\n"
     ]
    }
   ],
   "source": [
    "a1 = np.arange(1,17).reshape(4,4)\n",
    "a2 = np.arange(11,27).reshape(4,4)\n",
    "# a3 = np.append(a1,a2, axis = 0)\n",
    "# print(a3)\n",
    "a3 = np.append(a1,a2, axis = 1)\n",
    "print(a3)\n",
    "print (np.split(a3, 4, axis = 1)) #does a split along columns (different from axis = 0 for col)\n",
    "print ()\n",
    "print (np.split(a3, 4, axis = 0)) # does a split along rows (different from axis = 1 for row)\n",
    "print ()\n",
    "print (np.split(a3, [2,4], axis = 1))\n",
    "print ()\n",
    "print (np.split(a3, [2,3], axis = 0)) # does following split [:2],[2:3] and [3:] ie slicing done along row"
   ]
  }
 ],
 "metadata": {
  "kernelspec": {
   "display_name": "Python 3",
   "language": "python",
   "name": "python3"
  },
  "language_info": {
   "codemirror_mode": {
    "name": "ipython",
    "version": 3
   },
   "file_extension": ".py",
   "mimetype": "text/x-python",
   "name": "python",
   "nbconvert_exporter": "python",
   "pygments_lexer": "ipython3",
   "version": "3.8.3"
  }
 },
 "nbformat": 4,
 "nbformat_minor": 2
}
