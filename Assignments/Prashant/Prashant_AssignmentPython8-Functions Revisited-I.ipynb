{
 "cells": [
  {
   "cell_type": "markdown",
   "metadata": {},
   "source": [
    "### Q1 - Write lambdas to:\n",
    " - a. Square a number x2\n",
    " - b. Inverse a number 1/x\n",
    " - c. Negate a number"
   ]
  },
  {
   "cell_type": "code",
   "execution_count": 5,
   "metadata": {},
   "outputs": [
    {
     "name": "stdout",
     "output_type": "stream",
     "text": [
      "[100, 400, 900, 1600]\n",
      "[0.1, 0.05, 0.03333333333333333, 0.025]\n",
      "[-10, -20, -30, -40]\n"
     ]
    }
   ],
   "source": [
    "lst = [10,20,30,40]\n",
    "print (list (map(lambda x : x**2, lst)))\n",
    "print (list (map(lambda x : 1/x, lst)))\n",
    "print (list (map(lambda x : -x, lst)))"
   ]
  },
  {
   "cell_type": "markdown",
   "metadata": {},
   "source": [
    "### Q2 - Use reduce function and an appropriate lambda to find the maximum number in a list"
   ]
  },
  {
   "cell_type": "code",
   "execution_count": 7,
   "metadata": {},
   "outputs": [
    {
     "data": {
      "text/plain": [
       "4000"
      ]
     },
     "execution_count": 7,
     "metadata": {},
     "output_type": "execute_result"
    }
   ],
   "source": [
    "from functools import reduce\n",
    "lst = [10,20,30,4000, 100, 200,500]\n",
    "reduce (lambda x,y : max (x,y), lst)"
   ]
  },
  {
   "cell_type": "markdown",
   "metadata": {},
   "source": [
    "### Q3 -  Write a function map_multiple that takes a list of functions/lambdas as first argument and a sequence type as second argument.\n",
    "- The function picks first lambda from list, applies it to first element, then applies the second function to the result of first one and ….\n",
    "- Similarly it does for each element and generates a mapping of input to output\n",
    "- def map_multiple(functs, sequence):\n",
    "- Ex: let list of lambdas be from question 1 and the list on numbers be [1,2,4]\n",
    "- So first function gives [1, 4, 16]\n",
    "- Second gives [1, 0.25, 0.0625]\n",
    "- Third gives [-1, -0.25, -0.0625]. Which is the final result"
   ]
  },
  {
   "cell_type": "code",
   "execution_count": 30,
   "metadata": {},
   "outputs": [
    {
     "name": "stdout",
     "output_type": "stream",
     "text": [
      "[-1.0, -0.015625, -0.000244140625]\n"
     ]
    }
   ],
   "source": [
    "def map_multiple(functs, sequence):\n",
    "    lst = []\n",
    "    for i in functs:\n",
    "        if len(lst) == 0:\n",
    "            lst = list (map(i,sequence))\n",
    "        else:\n",
    "            lst = list (map(i,lst))\n",
    "    return lst\n",
    "\n",
    "\n",
    "lst = [1, 2, 4]\n",
    "f1 = lambda x : x**2\n",
    "f2 = lambda x : 1/x\n",
    "f3 = lambda x : -x\n",
    "f4 = lambda x : x **3\n",
    "flist = [f1,f2,f4,f3]\n",
    "print ((map_multiple(flist, lst)))"
   ]
  },
  {
   "cell_type": "markdown",
   "metadata": {},
   "source": [
    "### Q4 - Predict output\n",
    " - f = lambda x,y : x if x > y else y\n",
    " - l = [10,30,50,30,10]\n",
    " - num = reduce (f,l)\n",
    " - print (num)"
   ]
  },
  {
   "cell_type": "code",
   "execution_count": 34,
   "metadata": {},
   "outputs": [],
   "source": [
    "# 50 - program is to find maximum from list"
   ]
  },
  {
   "cell_type": "markdown",
   "metadata": {},
   "source": [
    "### Q5 - Predict output \n",
    "    - functs = [lambda x:x**0.5, lambda x:1/x]\n",
    "    - l = [1,4,16,64]\n",
    "    - ans = []\n",
    "    - for num in l:\n",
    "        - res = num\n",
    "        - for funct in functs:\n",
    "            - res = funct (res)\n",
    "        - ans.append(res)\n",
    "    - print (ans)"
   ]
  },
  {
   "cell_type": "code",
   "execution_count": 37,
   "metadata": {},
   "outputs": [],
   "source": [
    "#[1, 0.5, 0.25, 0.125] - the function appllies both functions on list and give the final list as result"
   ]
  },
  {
   "cell_type": "markdown",
   "metadata": {},
   "source": [
    "### Q6 - Use filter function to filter a list of numbers and strings such that the result contains only numbers. (Hint : Use isinstance method)"
   ]
  },
  {
   "cell_type": "code",
   "execution_count": 48,
   "metadata": {},
   "outputs": [
    {
     "name": "stdout",
     "output_type": "stream",
     "text": [
      "[10, 20, 50, 70]\n"
     ]
    }
   ],
   "source": [
    "# Method 1\n",
    "lst = [10,20,\"Prasahnt\", \"Bhardwaj\", 50, 70, \"Learnbay\"]\n",
    "print (list(filter (lambda x : isinstance (x, int), lst)))"
   ]
  },
  {
   "cell_type": "code",
   "execution_count": 49,
   "metadata": {
    "scrolled": true
   },
   "outputs": [
    {
     "name": "stdout",
     "output_type": "stream",
     "text": [
      "[10, 20, 50, 70]\n"
     ]
    }
   ],
   "source": [
    "# Method 2\n",
    "lst = [10,20,\"Prasahnt\", \"Bhardwaj\", 50, 70, \"Learnbay\"]\n",
    "print (list(filter (lambda x : str(x).isdigit(), lst)))"
   ]
  },
  {
   "cell_type": "markdown",
   "metadata": {},
   "source": [
    "### Q7 - Assume a list containing heights ft and inches in the form of a list of string\n",
    "    - Example : l = [‘5ft10in’, ‘5ft’, ….]\n",
    "    - Write a function to convert the heights to meter. Use map function along with your function to\n",
    "    - convert everything to m."
   ]
  },
  {
   "cell_type": "code",
   "execution_count": 95,
   "metadata": {},
   "outputs": [
    {
     "name": "stdout",
     "output_type": "stream",
     "text": [
      "[5.833333333333333, 6.25, 5.0]\n"
     ]
    }
   ],
   "source": [
    "# convert list of height to feet all at once; not used in final implementation\n",
    "lst = [\"5ft10in\", \"5ft15in\", \"5ft\"]\n",
    "def convert_to_feet (lst1):\n",
    "    lst = []\n",
    "    for i in lst1:\n",
    "        temp = (i.replace (\"in\",\"\"))\n",
    "        templist = temp.split(\"ft\")\n",
    "        if templist[1] != \"\":\n",
    "            totalfeet = float (templist[0]) + float (templist[1])/12\n",
    "        else:\n",
    "            totalfeet = float (templist[0])\n",
    "        lst.append (totalfeet)\n",
    "    return lst\n",
    "\n",
    "print (convert_to_feet (lst))"
   ]
  },
  {
   "cell_type": "code",
   "execution_count": 88,
   "metadata": {},
   "outputs": [],
   "source": [
    "def convert_to_meter (num):\n",
    "        temp = (num.replace (\"in\",\"\"))\n",
    "        templist = temp.split(\"ft\")\n",
    "        if templist[1] != \"\":\n",
    "            totalfeet = float (templist[0]) + float (templist[1])/12\n",
    "        else:\n",
    "            totalfeet = float (templist[0])\n",
    "        return (totalfeet / 3.281) #converting feet to meter - divide feet by 3.281"
   ]
  },
  {
   "cell_type": "code",
   "execution_count": 89,
   "metadata": {},
   "outputs": [
    {
     "data": {
      "text/plain": [
       "[1.7779132378339935, 1.9049070405364217, 1.5239256324291375]"
      ]
     },
     "execution_count": 89,
     "metadata": {},
     "output_type": "execute_result"
    }
   ],
   "source": [
    "# convert height to meters \n",
    "lst = [\"5ft10in\", \"5ft15in\", \"5ft\"]\n",
    "height_in_m = list (map (convert_to_meter, lst))\n",
    "height_in_m"
   ]
  },
  {
   "cell_type": "markdown",
   "metadata": {},
   "source": [
    "### Q8 - Write the implementation for the map function yourself by the name my_map()"
   ]
  },
  {
   "cell_type": "code",
   "execution_count": 92,
   "metadata": {},
   "outputs": [],
   "source": [
    "def my_map (func, lst):\n",
    "    final_list = []\n",
    "    for e in lst:\n",
    "        final_list.append (func (e))\n",
    "    return final_list"
   ]
  },
  {
   "cell_type": "code",
   "execution_count": 94,
   "metadata": {},
   "outputs": [
    {
     "data": {
      "text/plain": [
       "[1.7779132378339935, 1.9049070405364217, 1.5239256324291375]"
      ]
     },
     "execution_count": 94,
     "metadata": {},
     "output_type": "execute_result"
    }
   ],
   "source": [
    "# Test code to check my_map\n",
    "height_in_m = list (my_map (convert_to_meter, lst))\n",
    "height_in_m"
   ]
  }
 ],
 "metadata": {
  "kernelspec": {
   "display_name": "Python 3",
   "language": "python",
   "name": "python3"
  },
  "language_info": {
   "codemirror_mode": {
    "name": "ipython",
    "version": 3
   },
   "file_extension": ".py",
   "mimetype": "text/x-python",
   "name": "python",
   "nbconvert_exporter": "python",
   "pygments_lexer": "ipython3",
   "version": "3.8.3"
  }
 },
 "nbformat": 4,
 "nbformat_minor": 4
}
