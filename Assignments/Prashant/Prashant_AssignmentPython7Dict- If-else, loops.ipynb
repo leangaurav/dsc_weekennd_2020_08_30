{
 "cells": [
  {
   "cell_type": "markdown",
   "metadata": {},
   "source": [
    "### Q1 - WAP to create a dictionary of numbers mapped to their negative value for numbers from 1-5.\n",
    " - The dictionary should contain something like this:\n",
    " - Do with both with and without range based for loop.\n",
    " - {1:-1,2:-2,3:-3….}"
   ]
  },
  {
   "cell_type": "code",
   "execution_count": 3,
   "metadata": {},
   "outputs": [
    {
     "data": {
      "text/plain": [
       "{1: -1, 2: -2, 3: -3, 4: -4, 5: -5}"
      ]
     },
     "execution_count": 3,
     "metadata": {},
     "output_type": "execute_result"
    }
   ],
   "source": [
    "#Without range based loop\n",
    "lst = [1,2,3,4,5]\n",
    "d = { i:-i for i in lst}\n",
    "d"
   ]
  },
  {
   "cell_type": "code",
   "execution_count": 31,
   "metadata": {},
   "outputs": [
    {
     "data": {
      "text/plain": [
       "{1: -1, 2: -2, 3: -3, 4: -4, 5: -5}"
      ]
     },
     "execution_count": 31,
     "metadata": {},
     "output_type": "execute_result"
    }
   ],
   "source": [
    "#With range based loop\n",
    "d = { i:-i for i in range(1,6)} #List Comprehension\n",
    "d"
   ]
  },
  {
   "cell_type": "markdown",
   "metadata": {},
   "source": [
    "### Q2 - Check which of the following declarations will work"
   ]
  },
  {
   "cell_type": "code",
   "execution_count": 25,
   "metadata": {},
   "outputs": [],
   "source": [
    "#d = {1=2, 2=3} - No  syntax is Key:Value\n",
    "#d = {1:2, 2:3} - Yes - correct syntax\n",
    "#d = {1,2;2,3} - No - Invalid Syntax\n",
    "#d = {(1,2), (2,3)} - Not a syntax for Dictionary - it will be set of tuples\n",
    "#d = {\"a\":\"A\", \"b\":1, \"c\": [1234]} - Yes\n",
    "#d = {\"a\":\"A\", \"b\":1, c: [1234]} -  No\n",
    "#d = dict([(1,2),(2,3)]) - Yes\n",
    "#d = dict(((1,2),(2,3))) - Yes\n",
    "#d = dict((1,2),(2,3)]) - Invalid syntax\n",
    "#d = dict (x =2, y=3) - Yes\n",
    "# = dict (\"x\"=2, \"y\"=3) - No - Invalid Syntax\n",
    "#= dict (1=2, 2=3) - No - Invalid Syntax"
   ]
  },
  {
   "cell_type": "markdown",
   "metadata": {},
   "source": [
    "### Q3 - Read help for zip and write a program that has two lists\n",
    " - l1 = [1,2,3,4]\n",
    " - l2 = [10,20,30,40]\n",
    " - And converts them to a dictionary d containing { 1:10,2:20 …….}"
   ]
  },
  {
   "cell_type": "code",
   "execution_count": 27,
   "metadata": {},
   "outputs": [
    {
     "data": {
      "text/plain": [
       "{1: 10, 2: 20, 3: 30, 4: 40}"
      ]
     },
     "execution_count": 27,
     "metadata": {},
     "output_type": "execute_result"
    }
   ],
   "source": [
    "l1 = [1,2,3,4]\n",
    "l2 = [10,20,30,40]\n",
    "d = dict (zip(l1,l2))\n",
    "d"
   ]
  },
  {
   "cell_type": "markdown",
   "metadata": {},
   "source": [
    "### Q4 - Use range based for loop to store all upper case alphabets and their corresponding ASCII values in the dictionary d.\n",
    " - The result should be d = {‘A’: 65, ‘B’:66,…..}"
   ]
  },
  {
   "cell_type": "code",
   "execution_count": 33,
   "metadata": {},
   "outputs": [
    {
     "name": "stdout",
     "output_type": "stream",
     "text": [
      "{'A': 65, 'B': 66, 'C': 67, 'D': 68, 'E': 69, 'F': 70, 'G': 71, 'H': 72, 'I': 73, 'J': 74, 'K': 75, 'L': 76, 'M': 77, 'N': 78, 'O': 79, 'P': 80, 'Q': 81, 'R': 82, 'S': 83, 'T': 84, 'U': 85, 'V': 86, 'W': 87, 'X': 88, 'Y': 89, 'Z': 90}\n"
     ]
    }
   ],
   "source": [
    "import string\n",
    "d = { i:ord(i) for i in string.ascii_uppercase} #List comprehension\n",
    "print (d)"
   ]
  },
  {
   "cell_type": "markdown",
   "metadata": {},
   "source": [
    "### Q5 - Create a mapping of number to word from 0-9. (0:’zero’……)\n",
    " - Ask user for a single digit number and print the corresponding word format.\n",
    " - Print all keys of above dictionary\n",
    " - Print all Values of a dictionary\n",
    " - Print all Key and Value pairs of above dictionary"
   ]
  },
  {
   "cell_type": "code",
   "execution_count": 46,
   "metadata": {},
   "outputs": [
    {
     "name": "stdout",
     "output_type": "stream",
     "text": [
      "Enter the number to find between 0 to 9:7\n",
      "Word format of your number is : Seven\n",
      "dict_keys([0, 1, 2, 3, 4, 5, 6, 7, 8, 9])\n",
      "dict_values(['Zero', 'One', 'Two', 'Three', 'Four', 'Five', 'Six', 'Seven', 'Eight', 'Nine'])\n",
      "dict_items([(0, 'Zero'), (1, 'One'), (2, 'Two'), (3, 'Three'), (4, 'Four'), (5, 'Five'), (6, 'Six'), (7, 'Seven'), (8, 'Eight'), (9, 'Nine')])\n"
     ]
    }
   ],
   "source": [
    "d = {0:\"Zero\", 1:\"One\", 2:\"Two\", 3:\"Three\", 4:\"Four\", 5:\"Five\", 6:\"Six\", 7:\"Seven\", 8:\"Eight\", 9:\"Nine\"}\n",
    "i = input (\"Enter the number to find between 0 to 9:\")\n",
    "if i.isdigit() == False and i not in (0,1,2,3,4,5,6,7,8,9):\n",
    "    print (\"Invalid Selection. Please retry\")\n",
    "else:\n",
    "    print (\"Word format of your number is :\",d.get(int(i)))\n",
    "    \n",
    "print (d.keys())\n",
    "print (d.values())\n",
    "print (d.items())"
   ]
  },
  {
   "cell_type": "markdown",
   "metadata": {},
   "source": [
    "### Q6 - Predict Output"
   ]
  },
  {
   "cell_type": "code",
   "execution_count": 58,
   "metadata": {},
   "outputs": [],
   "source": [
    "# {\"A\":\"Apple\", \"B\":\"Ball\", \"C\":\"Cat\", \"D\":\"Dog\"}\n",
    "# {\"A\":Apple, \"C\":\"Cat\"}"
   ]
  },
  {
   "cell_type": "markdown",
   "metadata": {},
   "source": [
    "### Q7 - WAP to input a string and count occurrence of each vowel in a string.\n",
    "   -  Ex: if user enters:\n",
    "   -  “Beautiful Day”\n",
    "   -  Output should Be:\n",
    "   -  a:2\n",
    "   -  e:1\n",
    "   -  I :1\n",
    "   -  o:0\n",
    "   -  u:2"
   ]
  },
  {
   "cell_type": "code",
   "execution_count": 64,
   "metadata": {},
   "outputs": [
    {
     "name": "stdout",
     "output_type": "stream",
     "text": [
      "Enter the line to count vowels : Beautiful Day\n"
     ]
    },
    {
     "data": {
      "text/plain": [
       "{'a': 2, 'e': 1, 'i': 1, 'o': 0, 'u': 2}"
      ]
     },
     "execution_count": 64,
     "metadata": {},
     "output_type": "execute_result"
    }
   ],
   "source": [
    "lst = [\"a\", \"e\",\"i\",\"o\",\"u\"]\n",
    "d = {i:0 for i in lst} #initialization of dictionary of vowels\n",
    "s = input (\"Enter the line to count vowels : \")\n",
    "for j in s:\n",
    "    if j in lst:\n",
    "        d[j] +=1\n",
    "d"
   ]
  },
  {
   "cell_type": "markdown",
   "metadata": {},
   "source": [
    "### Q8 Update above program to print frequency of each alphabet present in string"
   ]
  },
  {
   "cell_type": "code",
   "execution_count": 69,
   "metadata": {},
   "outputs": [
    {
     "name": "stdout",
     "output_type": "stream",
     "text": [
      "Enter the line to count frequency of alphabets : Beautiful Day\n"
     ]
    },
    {
     "data": {
      "text/plain": [
       "{'b': 1,\n",
       " 'e': 1,\n",
       " 'a': 2,\n",
       " 'u': 2,\n",
       " 't': 1,\n",
       " 'i': 1,\n",
       " 'f': 1,\n",
       " 'l': 1,\n",
       " 'd': 1,\n",
       " 'y': 1}"
      ]
     },
     "execution_count": 69,
     "metadata": {},
     "output_type": "execute_result"
    }
   ],
   "source": [
    "d = {}\n",
    "s = input (\"Enter the line to count frequency of alphabets : \")\n",
    "for j in s.casefold():\n",
    "    if j != \" \":\n",
    "        if j in d:\n",
    "            d[j] +=1\n",
    "        else:\n",
    "            d[j] = 1\n",
    "d"
   ]
  },
  {
   "cell_type": "markdown",
   "metadata": {},
   "source": [
    "### Q9 - WAP that takes a string as input and prints frequency of each word.\n",
    "   - Ex: if input is “count the words in the sentence in”\n",
    "   - Output:\n",
    "   - count: 1\n",
    "   - the: 2\n",
    "   - words: 1\n",
    "   - in: 2\n",
    "    "
   ]
  },
  {
   "cell_type": "code",
   "execution_count": 77,
   "metadata": {},
   "outputs": [
    {
     "name": "stdout",
     "output_type": "stream",
     "text": [
      "Enter the sentence to count words : count the words in the sentence in\n"
     ]
    },
    {
     "data": {
      "text/plain": [
       "{'count': 1, 'the': 2, 'words': 1, 'in': 2, 'sentence': 1}"
      ]
     },
     "execution_count": 77,
     "metadata": {},
     "output_type": "execute_result"
    }
   ],
   "source": [
    "d = {}\n",
    "s = input (\"Enter the sentence to count words : \").split()\n",
    "for i in s:\n",
    "    if i in d:\n",
    "        d [i] = d[i]+1\n",
    "    else:\n",
    "        d[i] = 1\n",
    "d"
   ]
  }
 ],
 "metadata": {
  "kernelspec": {
   "display_name": "Python 3",
   "language": "python",
   "name": "python3"
  },
  "language_info": {
   "codemirror_mode": {
    "name": "ipython",
    "version": 3
   },
   "file_extension": ".py",
   "mimetype": "text/x-python",
   "name": "python",
   "nbconvert_exporter": "python",
   "pygments_lexer": "ipython3",
   "version": "3.8.3"
  }
 },
 "nbformat": 4,
 "nbformat_minor": 4
}
