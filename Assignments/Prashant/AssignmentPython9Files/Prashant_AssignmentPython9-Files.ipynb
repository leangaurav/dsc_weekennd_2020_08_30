{
 "cells": [
  {
   "cell_type": "markdown",
   "metadata": {},
   "source": [
    "### Q1 - Write a program in python that stores alphabets from a to z in a text file"
   ]
  },
  {
   "cell_type": "code",
   "execution_count": 11,
   "metadata": {},
   "outputs": [],
   "source": [
    "import string\n",
    "with open (\"Alphabets.txt\", \"w\") as f:\n",
    "    f.writelines (\"Alphabtes a to Z are:\\n\")\n",
    "    f.write (string.ascii_lowercase)"
   ]
  },
  {
   "cell_type": "markdown",
   "metadata": {},
   "source": [
    "### Q2 - Write a program to read itself and print on the screen (Use Command Line Arguments)"
   ]
  },
  {
   "cell_type": "code",
   "execution_count": 13,
   "metadata": {},
   "outputs": [],
   "source": [
    "# Program to read content of the file \n",
    "# this should be executed from cmd with calling by file name\n",
    "# import sys\n",
    "\n",
    "# with open (sys.argv[0],\"r\") as f:\n",
    "#     print (f.read())"
   ]
  },
  {
   "cell_type": "markdown",
   "metadata": {},
   "source": [
    "### Q3 - Predict Output \n",
    "    -f = open (\"file\",\"w\")\n",
    "    -f.write (\"Line with some code\")\n",
    "    -f.close()\n",
    "    -f = open (\"file\", \"r\")\n",
    "    -print (f.tell())\n",
    "    -print (f.read(4))\n",
    "    -print (f.tell())"
   ]
  },
  {
   "cell_type": "code",
   "execution_count": 16,
   "metadata": {},
   "outputs": [],
   "source": [
    "# 0\n",
    "# Line\n",
    "# 4"
   ]
  },
  {
   "cell_type": "markdown",
   "metadata": {},
   "source": [
    "### Q4 - Write a program to read a file and copy it into a new file"
   ]
  },
  {
   "cell_type": "code",
   "execution_count": 19,
   "metadata": {},
   "outputs": [],
   "source": [
    "with open (\"original_file\",\"r\") as f1:\n",
    "    with open (\"copy_file\",\"w\") as f2:\n",
    "        f2.write (f1.read())"
   ]
  },
  {
   "cell_type": "markdown",
   "metadata": {},
   "source": [
    "### Q5 - Write a program to read a file and copy the contents to a new file such that the case gets reversed. i.e. upper case becomes lower case and vice versa."
   ]
  },
  {
   "cell_type": "code",
   "execution_count": 20,
   "metadata": {},
   "outputs": [],
   "source": [
    "with open (\"original_file\",\"r\") as f1:\n",
    "    with open (\"copy_casereverse_file\",\"w\") as f2:\n",
    "        f2.write (f1.read().swapcase())"
   ]
  },
  {
   "cell_type": "markdown",
   "metadata": {},
   "source": [
    "### Q6 - Write a program that take a file name as command line argument, opens it and then counts number of space characters in that file"
   ]
  },
  {
   "cell_type": "code",
   "execution_count": 23,
   "metadata": {},
   "outputs": [
    {
     "name": "stdout",
     "output_type": "stream",
     "text": [
      "170\n"
     ]
    }
   ],
   "source": [
    "with open (\"original_file\",\"r\") as f1:\n",
    "    text = f1.read ()\n",
    "    print (text.count (\" \"))"
   ]
  },
  {
   "cell_type": "markdown",
   "metadata": {},
   "source": [
    "### Q7 - Modify the above program to count the occurrence of each symbol i.e. count of alphabet ‘a’, count of spaces, count of commas and so forth"
   ]
  },
  {
   "cell_type": "code",
   "execution_count": 24,
   "metadata": {},
   "outputs": [
    {
     "name": "stdout",
     "output_type": "stream",
     "text": [
      "Frequency of each character in file is : \n",
      "{'A': 4, 'g': 15, 'e': 105, 'n': 59, 't': 52, ' ': 170, '4': 8, '7': 8, '(': 5, 'o': 38, 'r': 36, 's': 57, 'i': 64, 'm': 22, 'p': 20, 'l': 40, 'y': 17, 'M': 1, ')': 5, 'h': 29, 'c': 25, 'd': 34, 'a': 71, 'f': 13, 'H': 7, 'v': 12, 'b': 12, 'D': 3, 'I': 4, 'O': 2, '.': 7, ',': 6, 'w': 13, 'u': 11, 'E': 1, ':': 1, 'C': 1, '2': 5, '0': 5, '1': 2, '8': 1, '3': 1, '\\n': 4, 'N': 1, 'k': 3, 'x': 1, 'T': 2}\n"
     ]
    }
   ],
   "source": [
    "with open (\"original_file\",\"r\") as f1:\n",
    "    text = f1.read ()\n",
    "d = {}\n",
    "for j in text:\n",
    "    if j in d:\n",
    "        d[j] +=1\n",
    "    else:\n",
    "        d[j] = 1\n",
    "print (\"Frequency of each character in file is : \")\n",
    "print (d)"
   ]
  },
  {
   "cell_type": "markdown",
   "metadata": {},
   "source": [
    "### Q8 - Write a script called diff.py that take two file names as arguments and checks if the content of both the files is same and prints true or false"
   ]
  },
  {
   "cell_type": "code",
   "execution_count": 38,
   "metadata": {},
   "outputs": [
    {
     "name": "stdout",
     "output_type": "stream",
     "text": [
      "True\n",
      "False\n"
     ]
    }
   ],
   "source": [
    "def diff_py (file1, file2):\n",
    "    try:\n",
    "        with open (file1,\"r\") as f1:\n",
    "            with open (file2, \"r\") as f2:\n",
    "                return f1.read() == f2.read()\n",
    "    except FileNotFoundError:\n",
    "        print (\"Please enter a vlaid file or put file in current working directory to check !!!\")\n",
    "        \n",
    "print (diff_py (\"original_file\", \"copy_file\"))\n",
    "print (diff_py (\"original_file\", \"copy_casereverse_file\"))"
   ]
  },
  {
   "cell_type": "markdown",
   "metadata": {},
   "source": [
    "### Q9 - WAP to count the number of words in a file"
   ]
  },
  {
   "cell_type": "code",
   "execution_count": 60,
   "metadata": {},
   "outputs": [
    {
     "name": "stdout",
     "output_type": "stream",
     "text": [
      "Total no of words =  173\n"
     ]
    }
   ],
   "source": [
    "with open (\"original_file\",\"r\") as f1:\n",
    "    text = f1.read()\n",
    "    space = text.count (\" \")\n",
    "    newpara = text.count (\"\\n\\n\")\n",
    "    \n",
    "print (\"Total no of words = \", (space +1 + newpara) )"
   ]
  },
  {
   "cell_type": "markdown",
   "metadata": {},
   "source": [
    "### Q10 - Update the above program to count the number of palindromes present in the file"
   ]
  },
  {
   "cell_type": "code",
   "execution_count": 5,
   "metadata": {},
   "outputs": [
    {
     "name": "stdout",
     "output_type": "stream",
     "text": [
      "redivider\n",
      "deified\n",
      "civic\n",
      "radar\n",
      "level\n",
      "rotor\n",
      "kayak\n",
      "reviver\n",
      "racecar\n",
      "madam\n",
      "Total no of Palindromes in file =  10\n"
     ]
    }
   ],
   "source": [
    "with open (\"Plaindrome\",\"r\") as f1:\n",
    "    text = f1.read().replace(\",\",\"\").split()\n",
    "    count = 0\n",
    "    for i in text:\n",
    "        if i == i[::-1] and len(i)>1:\n",
    "            count +=1\n",
    "print (\"Total no of Palindromes in file = \", count)"
   ]
  },
  {
   "cell_type": "markdown",
   "metadata": {},
   "source": [
    "### Q11 - Update the program again to count and print number of anagrams in the file"
   ]
  },
  {
   "cell_type": "code",
   "execution_count": 13,
   "metadata": {},
   "outputs": [
    {
     "name": "stdout",
     "output_type": "stream",
     "text": [
      "['An', 'anagram', 'that', 'has', 'a', 'meaning', 'opposed', 'to', 'that', 'of', 'the', 'original', 'word', 'or', 'phrase', 'is', 'called', 'an', '\"antigram\".[3]', 'For', 'example:', '\"restful\"', '=', '\"fluster\"', '\"funeral\"', '=', '\"real', 'fun\"', '\"adultery\"', '=', '\"true', 'lady\"', '\"forty', 'five\"', '=', '\"over', 'fifty', '\"evil\"', '=', '\"vile\"', '\"listen\"', '=', '\"silent\"']\n",
      "\"restful\"\n",
      "\"fluster\"\n",
      "\"evil\"\n",
      "\"vile\"\n",
      "\"listen\"\n",
      "\"silent\"\n",
      "Total no of anagrams in file =  6\n"
     ]
    }
   ],
   "source": [
    "with open (\"Anagram\",\"r\") as f1:\n",
    "    text = f1.read().replace(\",\",\"\").split()\n",
    "    print (text)\n",
    "    count = 0\n",
    "    for i in text:\n",
    "        for j in text:\n",
    "            if sorted (i) == sorted (j) and i!=j:\n",
    "                print (i)\n",
    "                count +=1\n",
    "print (\"Total no of anagrams in file = \", count)"
   ]
  }
 ],
 "metadata": {
  "kernelspec": {
   "display_name": "Python 3",
   "language": "python",
   "name": "python3"
  },
  "language_info": {
   "codemirror_mode": {
    "name": "ipython",
    "version": 3
   },
   "file_extension": ".py",
   "mimetype": "text/x-python",
   "name": "python",
   "nbconvert_exporter": "python",
   "pygments_lexer": "ipython3",
   "version": "3.8.3"
  }
 },
 "nbformat": 4,
 "nbformat_minor": 4
}
