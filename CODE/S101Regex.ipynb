{
 "cells": [
  {
   "cell_type": "code",
   "execution_count": 1,
   "metadata": {},
   "outputs": [],
   "source": [
    "import numpy as np\n",
    "import pandas as pd"
   ]
  },
  {
   "cell_type": "code",
   "execution_count": 7,
   "metadata": {},
   "outputs": [
    {
     "name": "stdout",
     "output_type": "stream",
     "text": [
      "\n",
      "Got arg:\n",
      " 10\n",
      "r 10\n"
     ]
    }
   ],
   "source": [
    "f = lambda x: [print(\"\\nGot arg:\\n\", x),x][1]\n",
    "#lambda x: x\n",
    "\n",
    "r = f(10)\n",
    "print(\"r\", r)"
   ]
  },
  {
   "cell_type": "code",
   "execution_count": 67,
   "metadata": {},
   "outputs": [
    {
     "name": "stdout",
     "output_type": "stream",
     "text": [
      "['abcd', 10, '10']\n",
      "['abcd', 10, '10']\n",
      "['abcd', 10, '10']\n",
      "\n",
      "10\n",
      "10\n",
      "'10'\n"
     ]
    }
   ],
   "source": [
    "a =  [\"abcd\", 10, \"10\"]\n",
    "print(a)\n",
    "print(repr(a))\n",
    "print(str(a))\n",
    "\n",
    "print()\n",
    "print(\"10\")\n",
    "print(str(\"10\"))\n",
    "print(repr(\"10\"))"
   ]
  },
  {
   "cell_type": "code",
   "execution_count": 3,
   "metadata": {},
   "outputs": [
    {
     "name": "stdout",
     "output_type": "stream",
     "text": [
      "   0  1   2   3\n",
      "0  0  1   2   3\n",
      "1  4  5   6   7\n",
      "2  8  9  10  11\n"
     ]
    }
   ],
   "source": [
    "df  = pd.DataFrame(np.arange(12).reshape(3,4))\n",
    "print(df)"
   ]
  },
  {
   "cell_type": "code",
   "execution_count": 8,
   "metadata": {},
   "outputs": [
    {
     "name": "stdout",
     "output_type": "stream",
     "text": [
      "\n",
      "Got arg:\n",
      " 0    0\n",
      "1    4\n",
      "2    8\n",
      "Name: 0, dtype: int64\n",
      "\n",
      "Got arg:\n",
      " 0    0\n",
      "1    4\n",
      "2    8\n",
      "Name: 0, dtype: int64\n",
      "\n",
      "Got arg:\n",
      " 0    1\n",
      "1    5\n",
      "2    9\n",
      "Name: 1, dtype: int64\n",
      "\n",
      "Got arg:\n",
      " 0     2\n",
      "1     6\n",
      "2    10\n",
      "Name: 2, dtype: int64\n",
      "\n",
      "Got arg:\n",
      " 0     3\n",
      "1     7\n",
      "2    11\n",
      "Name: 3, dtype: int64\n"
     ]
    },
    {
     "data": {
      "text/html": [
       "<div>\n",
       "<style scoped>\n",
       "    .dataframe tbody tr th:only-of-type {\n",
       "        vertical-align: middle;\n",
       "    }\n",
       "\n",
       "    .dataframe tbody tr th {\n",
       "        vertical-align: top;\n",
       "    }\n",
       "\n",
       "    .dataframe thead th {\n",
       "        text-align: right;\n",
       "    }\n",
       "</style>\n",
       "<table border=\"1\" class=\"dataframe\">\n",
       "  <thead>\n",
       "    <tr style=\"text-align: right;\">\n",
       "      <th></th>\n",
       "      <th>0</th>\n",
       "      <th>1</th>\n",
       "      <th>2</th>\n",
       "      <th>3</th>\n",
       "    </tr>\n",
       "  </thead>\n",
       "  <tbody>\n",
       "    <tr>\n",
       "      <th>0</th>\n",
       "      <td>0</td>\n",
       "      <td>1</td>\n",
       "      <td>2</td>\n",
       "      <td>3</td>\n",
       "    </tr>\n",
       "    <tr>\n",
       "      <th>1</th>\n",
       "      <td>4</td>\n",
       "      <td>5</td>\n",
       "      <td>6</td>\n",
       "      <td>7</td>\n",
       "    </tr>\n",
       "    <tr>\n",
       "      <th>2</th>\n",
       "      <td>8</td>\n",
       "      <td>9</td>\n",
       "      <td>10</td>\n",
       "      <td>11</td>\n",
       "    </tr>\n",
       "  </tbody>\n",
       "</table>\n",
       "</div>"
      ],
      "text/plain": [
       "   0  1   2   3\n",
       "0  0  1   2   3\n",
       "1  4  5   6   7\n",
       "2  8  9  10  11"
      ]
     },
     "execution_count": 8,
     "metadata": {},
     "output_type": "execute_result"
    }
   ],
   "source": [
    "df.apply(f)"
   ]
  },
  {
   "cell_type": "code",
   "execution_count": 9,
   "metadata": {},
   "outputs": [
    {
     "name": "stdout",
     "output_type": "stream",
     "text": [
      "\n",
      "Got arg:\n",
      " 0\n",
      "\n",
      "Got arg:\n",
      " 4\n",
      "\n",
      "Got arg:\n",
      " 8\n",
      "\n",
      "Got arg:\n",
      " 0\n",
      "\n",
      "Got arg:\n",
      " 4\n",
      "\n",
      "Got arg:\n",
      " 8\n",
      "\n",
      "Got arg:\n",
      " 1\n",
      "\n",
      "Got arg:\n",
      " 5\n",
      "\n",
      "Got arg:\n",
      " 9\n",
      "\n",
      "Got arg:\n",
      " 2\n",
      "\n",
      "Got arg:\n",
      " 6\n",
      "\n",
      "Got arg:\n",
      " 10\n",
      "\n",
      "Got arg:\n",
      " 3\n",
      "\n",
      "Got arg:\n",
      " 7\n",
      "\n",
      "Got arg:\n",
      " 11\n"
     ]
    },
    {
     "data": {
      "text/html": [
       "<div>\n",
       "<style scoped>\n",
       "    .dataframe tbody tr th:only-of-type {\n",
       "        vertical-align: middle;\n",
       "    }\n",
       "\n",
       "    .dataframe tbody tr th {\n",
       "        vertical-align: top;\n",
       "    }\n",
       "\n",
       "    .dataframe thead th {\n",
       "        text-align: right;\n",
       "    }\n",
       "</style>\n",
       "<table border=\"1\" class=\"dataframe\">\n",
       "  <thead>\n",
       "    <tr style=\"text-align: right;\">\n",
       "      <th></th>\n",
       "      <th>0</th>\n",
       "      <th>1</th>\n",
       "      <th>2</th>\n",
       "      <th>3</th>\n",
       "    </tr>\n",
       "  </thead>\n",
       "  <tbody>\n",
       "    <tr>\n",
       "      <th>0</th>\n",
       "      <td>0</td>\n",
       "      <td>1</td>\n",
       "      <td>2</td>\n",
       "      <td>3</td>\n",
       "    </tr>\n",
       "    <tr>\n",
       "      <th>1</th>\n",
       "      <td>4</td>\n",
       "      <td>5</td>\n",
       "      <td>6</td>\n",
       "      <td>7</td>\n",
       "    </tr>\n",
       "    <tr>\n",
       "      <th>2</th>\n",
       "      <td>8</td>\n",
       "      <td>9</td>\n",
       "      <td>10</td>\n",
       "      <td>11</td>\n",
       "    </tr>\n",
       "  </tbody>\n",
       "</table>\n",
       "</div>"
      ],
      "text/plain": [
       "   0  1   2   3\n",
       "0  0  1   2   3\n",
       "1  4  5   6   7\n",
       "2  8  9  10  11"
      ]
     },
     "execution_count": 9,
     "metadata": {},
     "output_type": "execute_result"
    }
   ],
   "source": [
    "df.applymap(f)"
   ]
  },
  {
   "cell_type": "code",
   "execution_count": null,
   "metadata": {},
   "outputs": [],
   "source": [
    "df.transform()"
   ]
  },
  {
   "cell_type": "code",
   "execution_count": 13,
   "metadata": {},
   "outputs": [
    {
     "name": "stdout",
     "output_type": "stream",
     "text": [
      "\n",
      "Got arg:\n",
      " 0\n",
      "\n",
      "Got arg:\n",
      " 4\n",
      "\n",
      "Got arg:\n",
      " 8\n"
     ]
    },
    {
     "data": {
      "text/plain": [
       "0    0\n",
       "1    4\n",
       "2    8\n",
       "Name: 0, dtype: int64"
      ]
     },
     "execution_count": 13,
     "metadata": {},
     "output_type": "execute_result"
    }
   ],
   "source": [
    "df[0].map(f)"
   ]
  },
  {
   "cell_type": "code",
   "execution_count": 15,
   "metadata": {},
   "outputs": [],
   "source": [
    "df[0] = df[0].astype('str')"
   ]
  },
  {
   "cell_type": "code",
   "execution_count": 19,
   "metadata": {},
   "outputs": [
    {
     "name": "stdout",
     "output_type": "stream",
     "text": [
      "['__annotations__', '__class__', '__delattr__', '__dict__', '__dir__', '__doc__', '__eq__', '__format__', '__frozen', '__ge__', '__getattribute__', '__getitem__', '__gt__', '__hash__', '__init__', '__init_subclass__', '__iter__', '__le__', '__lt__', '__module__', '__ne__', '__new__', '__reduce__', '__reduce_ex__', '__repr__', '__setattr__', '__sizeof__', '__str__', '__subclasshook__', '__weakref__', '_doc_args', '_freeze', '_get_series_list', '_inferred_dtype', '_is_categorical', '_is_string', '_make_accessor', '_orig', '_parent', '_validate', '_wrap_result', 'capitalize', 'casefold', 'cat', 'center', 'contains', 'count', 'decode', 'encode', 'endswith', 'extract', 'extractall', 'find', 'findall', 'get', 'get_dummies', 'index', 'isalnum', 'isalpha', 'isdecimal', 'isdigit', 'islower', 'isnumeric', 'isspace', 'istitle', 'isupper', 'join', 'len', 'ljust', 'lower', 'lstrip', 'match', 'normalize', 'pad', 'partition', 'repeat', 'replace', 'rfind', 'rindex', 'rjust', 'rpartition', 'rsplit', 'rstrip', 'slice', 'slice_replace', 'split', 'startswith', 'strip', 'swapcase', 'title', 'translate', 'upper', 'wrap', 'zfill']\n"
     ]
    }
   ],
   "source": [
    "print(dir(df[0].str))"
   ]
  },
  {
   "cell_type": "code",
   "execution_count": 21,
   "metadata": {},
   "outputs": [
    {
     "data": {
      "text/plain": [
       "0    True\n",
       "1    True\n",
       "2    True\n",
       "Name: 0, dtype: bool"
      ]
     },
     "execution_count": 21,
     "metadata": {},
     "output_type": "execute_result"
    }
   ],
   "source": [
    "df[0].str.isdigit()"
   ]
  },
  {
   "cell_type": "code",
   "execution_count": 23,
   "metadata": {},
   "outputs": [
    {
     "data": {
      "text/plain": [
       "0    0\n",
       "1    4\n",
       "2    8\n",
       "Name: 0, dtype: object"
      ]
     },
     "execution_count": 23,
     "metadata": {},
     "output_type": "execute_result"
    }
   ],
   "source": [
    "df[0]"
   ]
  },
  {
   "cell_type": "code",
   "execution_count": 26,
   "metadata": {},
   "outputs": [
    {
     "data": {
      "text/plain": [
       "0    True\n",
       "1    True\n",
       "2    True\n",
       "Name: 0, dtype: bool"
      ]
     },
     "execution_count": 26,
     "metadata": {},
     "output_type": "execute_result"
    }
   ],
   "source": [
    "df[0].str.contains(r'\\d')"
   ]
  },
  {
   "cell_type": "code",
   "execution_count": 27,
   "metadata": {},
   "outputs": [
    {
     "name": "stdout",
     "output_type": "stream",
     "text": [
      "Help on method contains in module pandas.core.strings:\n",
      "\n",
      "contains(pat, case=True, flags=0, na=nan, regex=True) method of pandas.core.strings.StringMethods instance\n",
      "    Test if pattern or regex is contained within a string of a Series or Index.\n",
      "    \n",
      "    Return boolean Series or Index based on whether a given pattern or regex is\n",
      "    contained within a string of a Series or Index.\n",
      "    \n",
      "    Parameters\n",
      "    ----------\n",
      "    pat : str\n",
      "        Character sequence or regular expression.\n",
      "    case : bool, default True\n",
      "        If True, case sensitive.\n",
      "    flags : int, default 0 (no flags)\n",
      "        Flags to pass through to the re module, e.g. re.IGNORECASE.\n",
      "    na : default NaN\n",
      "        Fill value for missing values.\n",
      "    regex : bool, default True\n",
      "        If True, assumes the pat is a regular expression.\n",
      "    \n",
      "        If False, treats the pat as a literal string.\n",
      "    \n",
      "    Returns\n",
      "    -------\n",
      "    Series or Index of boolean values\n",
      "        A Series or Index of boolean values indicating whether the\n",
      "        given pattern is contained within the string of each element\n",
      "        of the Series or Index.\n",
      "    \n",
      "    See Also\n",
      "    --------\n",
      "    match : Analogous, but stricter, relying on re.match instead of re.search.\n",
      "    Series.str.startswith : Test if the start of each string element matches a\n",
      "        pattern.\n",
      "    Series.str.endswith : Same as startswith, but tests the end of string.\n",
      "    \n",
      "    Examples\n",
      "    --------\n",
      "    \n",
      "    Returning a Series of booleans using only a literal pattern.\n",
      "    \n",
      "    >>> s1 = pd.Series(['Mouse', 'dog', 'house and parrot', '23', np.NaN])\n",
      "    >>> s1.str.contains('og', regex=False)\n",
      "    0    False\n",
      "    1     True\n",
      "    2    False\n",
      "    3    False\n",
      "    4      NaN\n",
      "    dtype: object\n",
      "    \n",
      "    Returning an Index of booleans using only a literal pattern.\n",
      "    \n",
      "    >>> ind = pd.Index(['Mouse', 'dog', 'house and parrot', '23.0', np.NaN])\n",
      "    >>> ind.str.contains('23', regex=False)\n",
      "    Index([False, False, False, True, nan], dtype='object')\n",
      "    \n",
      "    Specifying case sensitivity using `case`.\n",
      "    \n",
      "    >>> s1.str.contains('oG', case=True, regex=True)\n",
      "    0    False\n",
      "    1    False\n",
      "    2    False\n",
      "    3    False\n",
      "    4      NaN\n",
      "    dtype: object\n",
      "    \n",
      "    Specifying `na` to be `False` instead of `NaN` replaces NaN values\n",
      "    with `False`. If Series or Index does not contain NaN values\n",
      "    the resultant dtype will be `bool`, otherwise, an `object` dtype.\n",
      "    \n",
      "    >>> s1.str.contains('og', na=False, regex=True)\n",
      "    0    False\n",
      "    1     True\n",
      "    2    False\n",
      "    3    False\n",
      "    4    False\n",
      "    dtype: bool\n",
      "    \n",
      "    Returning 'house' or 'dog' when either expression occurs in a string.\n",
      "    \n",
      "    >>> s1.str.contains('house|dog', regex=True)\n",
      "    0    False\n",
      "    1     True\n",
      "    2     True\n",
      "    3    False\n",
      "    4      NaN\n",
      "    dtype: object\n",
      "    \n",
      "    Ignoring case sensitivity using `flags` with regex.\n",
      "    \n",
      "    >>> import re\n",
      "    >>> s1.str.contains('PARROT', flags=re.IGNORECASE, regex=True)\n",
      "    0    False\n",
      "    1    False\n",
      "    2     True\n",
      "    3    False\n",
      "    4      NaN\n",
      "    dtype: object\n",
      "    \n",
      "    Returning any digit using regular expression.\n",
      "    \n",
      "    >>> s1.str.contains('\\d', regex=True)\n",
      "    0    False\n",
      "    1    False\n",
      "    2    False\n",
      "    3     True\n",
      "    4      NaN\n",
      "    dtype: object\n",
      "    \n",
      "    Ensure `pat` is a not a literal pattern when `regex` is set to True.\n",
      "    Note in the following example one might expect only `s2[1]` and `s2[3]` to\n",
      "    return `True`. However, '.0' as a regex matches any character\n",
      "    followed by a 0.\n",
      "    \n",
      "    >>> s2 = pd.Series(['40', '40.0', '41', '41.0', '35'])\n",
      "    >>> s2.str.contains('.0', regex=True)\n",
      "    0     True\n",
      "    1     True\n",
      "    2    False\n",
      "    3     True\n",
      "    4    False\n",
      "    dtype: bool\n",
      "\n",
      "None\n"
     ]
    }
   ],
   "source": [
    "print(help(df[0].str.contains))"
   ]
  },
  {
   "cell_type": "code",
   "execution_count": null,
   "metadata": {},
   "outputs": [],
   "source": [
    "df[\"Gender\"] = df[\"Gender\"].astype(\"category\")"
   ]
  },
  {
   "cell_type": "markdown",
   "metadata": {},
   "source": [
    "# Regex"
   ]
  },
  {
   "cell_type": "code",
   "execution_count": 28,
   "metadata": {},
   "outputs": [
    {
     "data": {
      "text/plain": [
       "True"
      ]
     },
     "execution_count": 28,
     "metadata": {},
     "output_type": "execute_result"
    }
   ],
   "source": [
    "# check if string starts with the number 1\n",
    "s = \"123abcd\"\n",
    "\n",
    "s.startswith(\"1\")"
   ]
  },
  {
   "cell_type": "code",
   "execution_count": null,
   "metadata": {},
   "outputs": [],
   "source": [
    "# check if string starts with a digit or not\n",
    "s = \"123abcd\"\n",
    "\n",
    "# s.startswith(\"1\") or s.startswith(\"2\")..."
   ]
  },
  {
   "cell_type": "code",
   "execution_count": 29,
   "metadata": {},
   "outputs": [],
   "source": [
    "import re"
   ]
  },
  {
   "cell_type": "code",
   "execution_count": 30,
   "metadata": {},
   "outputs": [
    {
     "name": "stdout",
     "output_type": "stream",
     "text": [
      "['A', 'ASCII', 'DEBUG', 'DOTALL', 'I', 'IGNORECASE', 'L', 'LOCALE', 'M', 'MULTILINE', 'Match', 'Pattern', 'RegexFlag', 'S', 'Scanner', 'T', 'TEMPLATE', 'U', 'UNICODE', 'VERBOSE', 'X', '_MAXCACHE', '__all__', '__builtins__', '__cached__', '__doc__', '__file__', '__loader__', '__name__', '__package__', '__spec__', '__version__', '_cache', '_compile', '_compile_repl', '_expand', '_locale', '_pickle', '_special_chars_map', '_subx', 'compile', 'copyreg', 'enum', 'error', 'escape', 'findall', 'finditer', 'fullmatch', 'functools', 'match', 'purge', 'search', 'split', 'sre_compile', 'sre_parse', 'sub', 'subn', 'template']\n"
     ]
    }
   ],
   "source": [
    "print(dir(re))"
   ]
  },
  {
   "cell_type": "code",
   "execution_count": 33,
   "metadata": {},
   "outputs": [
    {
     "name": "stdout",
     "output_type": "stream",
     "text": [
      "<re.Match object; span=(0, 1), match='1'>\n",
      "None\n"
     ]
    }
   ],
   "source": [
    "s = \"123abcd\"\n",
    "r = re.match(\"1\", s)\n",
    "print(r)\n",
    "\n",
    "# matches only start of string\n",
    "r = re.match(\"2\", s)\n",
    "print(r)"
   ]
  },
  {
   "cell_type": "code",
   "execution_count": 35,
   "metadata": {},
   "outputs": [
    {
     "name": "stdout",
     "output_type": "stream",
     "text": [
      "None\n"
     ]
    }
   ],
   "source": [
    "s = \"223abcd\"\n",
    "r = re.match(\"1\", s)\n",
    "print(r)"
   ]
  },
  {
   "cell_type": "code",
   "execution_count": null,
   "metadata": {},
   "outputs": [],
   "source": [
    "# search : find mattern match anywhere in the string"
   ]
  },
  {
   "cell_type": "code",
   "execution_count": 34,
   "metadata": {},
   "outputs": [
    {
     "name": "stdout",
     "output_type": "stream",
     "text": [
      "<re.Match object; span=(0, 1), match='1'>\n",
      "<re.Match object; span=(1, 2), match='2'>\n"
     ]
    }
   ],
   "source": [
    "s = \"123abcd\"\n",
    "r = re.search(\"1\", s)\n",
    "print(r)\n",
    "\n",
    "r = re.search(\"2\", s)\n",
    "print(r)"
   ]
  },
  {
   "cell_type": "code",
   "execution_count": null,
   "metadata": {},
   "outputs": [],
   "source": [
    "# \\d => one digit"
   ]
  },
  {
   "cell_type": "code",
   "execution_count": 36,
   "metadata": {},
   "outputs": [
    {
     "name": "stdout",
     "output_type": "stream",
     "text": [
      "'123abcd' <re.Match object; span=(0, 1), match='1'>\n",
      "'abcd' None\n",
      "'  123' None\n",
      "'43abc12' <re.Match object; span=(0, 1), match='4'>\n"
     ]
    }
   ],
   "source": [
    "# check if string starts with a digit or not\n",
    "patts = [\"123abcd\", \"abc123d\",  \"  123\", \"43abc12\"]\n",
    "\n",
    "for p in patts:\n",
    "    r = re.match(\"\\d\", p)\n",
    "    print(repr(p),  r)"
   ]
  },
  {
   "cell_type": "code",
   "execution_count": 37,
   "metadata": {},
   "outputs": [
    {
     "name": "stdout",
     "output_type": "stream",
     "text": [
      "'123abcd' <re.Match object; span=(0, 1), match='1'>\n",
      "'abc123d' <re.Match object; span=(3, 4), match='1'>\n",
      "'ABCD' None\n",
      "'  123' <re.Match object; span=(2, 3), match='1'>\n",
      "'43abc12' <re.Match object; span=(0, 1), match='4'>\n"
     ]
    }
   ],
   "source": [
    "# check if string contains a digit or not\n",
    "patts = [\"123abcd\", \"abc123d\", \"ABCD\", \"  123\", \"43abc12\"]\n",
    "\n",
    "for p in patts:\n",
    "    r = re.search(\"\\d\", p)\n",
    "    print(repr(p),  r)"
   ]
  },
  {
   "cell_type": "code",
   "execution_count": 38,
   "metadata": {},
   "outputs": [
    {
     "name": "stdout",
     "output_type": "stream",
     "text": [
      "'1abcd' None\n",
      "'123' <re.Match object; span=(0, 2), match='12'>\n",
      "'ab43' <re.Match object; span=(2, 4), match='43'>\n",
      "'  1 2 3' None\n",
      "'43abc12' <re.Match object; span=(0, 2), match='43'>\n"
     ]
    }
   ],
   "source": [
    "# check if string contains 2 digits in sequecnce\n",
    "patts = [\"1abcd\", \"123\", \"ab43\", \"  1 2 3\", \"43abc12\"]\n",
    "\n",
    "for p in patts:\n",
    "    r = re.search(\"\\d\\d\", p)\n",
    "    print(repr(p),  r)"
   ]
  },
  {
   "cell_type": "code",
   "execution_count": null,
   "metadata": {},
   "outputs": [],
   "source": [
    "# Anchor tags\n",
    "# $ => end of string\n",
    "# ^ => start of string"
   ]
  },
  {
   "cell_type": "code",
   "execution_count": 43,
   "metadata": {},
   "outputs": [
    {
     "name": "stdout",
     "output_type": "stream",
     "text": [
      "'123abcd' None\n",
      "'abc123d' None\n",
      "'  123' <re.Match object; span=(4, 5), match='3'>\n",
      "'43abc12' <re.Match object; span=(6, 7), match='2'>\n",
      "'1' <re.Match object; span=(0, 1), match='1'>\n",
      "'22' <re.Match object; span=(1, 2), match='2'>\n",
      "\n",
      "'123abcd' None\n",
      "'abc123d' None\n",
      "'  123' None\n",
      "'43abc12' None\n",
      "'1' <re.Match object; span=(0, 1), match='1'>\n",
      "'22' None\n"
     ]
    }
   ],
   "source": [
    "# check if string ends with a digit or not\n",
    "patts = [\"123abcd\", \"abc123d\",  \"  123\", \"43abc12\", \"1\", \"22\"]\n",
    "\n",
    "for p in patts:\n",
    "    r = re.search(\"\\d$\", p)\n",
    "    print(repr(p),  r)\n",
    "    \n",
    "print()\n",
    "for p in patts:\n",
    "    r = re.match(\"\\d$\", p)\n",
    "    print(repr(p),  r)"
   ]
  },
  {
   "cell_type": "code",
   "execution_count": 46,
   "metadata": {},
   "outputs": [
    {
     "name": "stdout",
     "output_type": "stream",
     "text": [
      "'123abcd' None\n",
      "'abc123d' None\n",
      "'  123' None\n",
      "'43abc12' None\n",
      "'1' None\n",
      "'22' <re.Match object; span=(0, 2), match='22'>\n"
     ]
    }
   ],
   "source": [
    "# check if string ends with a digit or not\n",
    "patts = [\"123abcd\", \"abc123d\",  \"  123\", \"43abc12\", \"1\", \"22\"]\n",
    "\n",
    "for p in patts:\n",
    "    r = re.search(\"^\\d\\d$\", p)\n",
    "    print(repr(p),  r)"
   ]
  },
  {
   "cell_type": "code",
   "execution_count": 48,
   "metadata": {},
   "outputs": [
    {
     "name": "stdout",
     "output_type": "stream",
     "text": [
      "'123abcd' <re.Match object; span=(0, 2), match='12'>\n",
      "'abc123d' <re.Match object; span=(3, 5), match='12'>\n",
      "'  123' <re.Match object; span=(2, 4), match='12'>\n",
      "'43abc12' <re.Match object; span=(0, 2), match='43'>\n",
      "'1' None\n",
      "'22' <re.Match object; span=(0, 2), match='22'>\n"
     ]
    }
   ],
   "source": [
    "# check if string with 2 consecutive digits\n",
    "patts = [\"123abcd\", \"abc123d\",  \"  123\", \"43abc12\", \"1\", \"22\"]\n",
    "\n",
    "for p in patts:\n",
    "    r = re.search(\"\\d\\d\", p)\n",
    "    print(repr(p),  r)"
   ]
  },
  {
   "cell_type": "code",
   "execution_count": 49,
   "metadata": {},
   "outputs": [
    {
     "name": "stdout",
     "output_type": "stream",
     "text": [
      "['43', '12']\n"
     ]
    }
   ],
   "source": [
    "# findall: gives all matches in a string\n",
    "s = \"43abc12\"\n",
    "\n",
    "r = re.findall(\"\\d\\d\", s)\n",
    "print(r)"
   ]
  },
  {
   "cell_type": "code",
   "execution_count": 51,
   "metadata": {},
   "outputs": [
    {
     "name": "stdout",
     "output_type": "stream",
     "text": [
      "'123abcd' ['12']\n",
      "'abc123d' ['12']\n",
      "'  123' ['12']\n",
      "'43abc12' ['43', '12']\n",
      "'1' []\n",
      "'22' ['22']\n"
     ]
    }
   ],
   "source": [
    "patts = [\"123abcd\", \"abc123d\",  \"  123\", \"43abc12\", \"1\", \"22\"]\n",
    "\n",
    "for p in patts:\n",
    "    r = re.findall(\"\\d\\d\", p)\n",
    "    print(repr(p),  r)"
   ]
  },
  {
   "cell_type": "code",
   "execution_count": 56,
   "metadata": {},
   "outputs": [
    {
     "name": "stdout",
     "output_type": "stream",
     "text": [
      "<re.Match object; span=(0, 2), match='43'> 43\n",
      "<re.Match object; span=(5, 7), match='12'> 12\n"
     ]
    }
   ],
   "source": [
    "# finditer: iterator of matches\n",
    "s = \"43abc12\"\n",
    "\n",
    "r = re.finditer(\"\\d\\d\", s)\n",
    "for m in r:\n",
    "    print(m, m.group())"
   ]
  },
  {
   "cell_type": "code",
   "execution_count": null,
   "metadata": {},
   "outputs": [],
   "source": [
    "# check if string contains only digits. And the number should be a 2-digit number\n",
    "patts = [\"1abcd\", \"123\", \"ab43\", \"  1 2 3\", \"43abc12\"]\n",
    "\n",
    "for p in patts:\n",
    "    r = re.search(r\"\\d\\d\", p)\n",
    "    print(repr(p),  r)"
   ]
  },
  {
   "cell_type": "code",
   "execution_count": 57,
   "metadata": {},
   "outputs": [],
   "source": [
    "# \\d => digit: exactly one\n",
    "# \\D => not digit\n",
    "# \\w => alpha numeric symbol\n",
    "# \\W => not alpha numeric\n",
    "# \\s => white space\n",
    "# \\S => not a  white space"
   ]
  },
  {
   "cell_type": "code",
   "execution_count": null,
   "metadata": {},
   "outputs": [],
   "source": [
    "p = \"^\\d\\d\\d$\"\n",
    "\n",
    "\"123\"  y\n",
    "\"abc123\" n\n",
    "\"123abc\" n\n",
    "\"1234\" n"
   ]
  },
  {
   "cell_type": "code",
   "execution_count": 64,
   "metadata": {},
   "outputs": [
    {
     "name": "stdout",
     "output_type": "stream",
     "text": [
      "    this is a stirng None\n",
      "          The string None\n",
      "   the string againg <re.Match object; span=(0, 3), match='the'>\n",
      "             nothing None\n",
      "       ends with the <re.Match object; span=(10, 13), match='the'>\n",
      "\n",
      "    this is a stirng None\n",
      "          The string <re.Match object; span=(0, 3), match='The'>\n",
      "   the string againg <re.Match object; span=(0, 3), match='the'>\n",
      "             nothing None\n",
      "       ends with the <re.Match object; span=(10, 13), match='the'>\n"
     ]
    }
   ],
   "source": [
    "# Find all string which contain the word 'the' anywhere\n",
    "val = [\"this is a stirng\",\n",
    "      \"The string\",\n",
    "      \"the string againg\",\n",
    "      \"nothing\",\n",
    "      \"ends with the\"]\n",
    "\n",
    "for v in val:\n",
    "    print(\"%20s\" % v, re.search(r\"the\", v))\n",
    "    \n",
    "print()\n",
    "for v in val:\n",
    "    print(\"%20s\" % v, re.search(r\"the\", v, re.IGNORECASE|re.DOTALL)) # sending multiple  flags using | operator"
   ]
  },
  {
   "cell_type": "code",
   "execution_count": 70,
   "metadata": {},
   "outputs": [
    {
     "name": "stdout",
     "output_type": "stream",
     "text": [
      "                this <re.Match object; span=(0, 4), match='this'>\n",
      "          The string <re.Match object; span=(0, 4), match='The '>\n",
      "                1234 <re.Match object; span=(0, 4), match='1234'>\n",
      "             nothing <re.Match object; span=(0, 4), match='noth'>\n",
      "                12ab <re.Match object; span=(0, 4), match='12ab'>\n",
      "                  ab <re.Match object; span=(0, 4), match='  ab'>\n",
      "             ab  cdd <re.Match object; span=(0, 4), match='ab  '>\n",
      "                  ab None\n"
     ]
    }
   ],
   "source": [
    "# . : wildcard=> matches any one character\n",
    "\n",
    "# 4 character long strings\n",
    "# Find all string which contain the word 'the' anywhere\n",
    "val = [\"this\",\n",
    "      \"The string\",\n",
    "      \"1234\",\n",
    "      \"nothing\",\n",
    "      \"12ab\",\n",
    "      \"  ab\",\n",
    "      \"ab  cdd\",\n",
    "      \"ab\",]\n",
    "\n",
    "for v in val:\n",
    "    print(\"%20s\" % v, re.search(r\"....\", v))"
   ]
  },
  {
   "cell_type": "code",
   "execution_count": 71,
   "metadata": {},
   "outputs": [
    {
     "name": "stdout",
     "output_type": "stream",
     "text": [
      "                this <re.Match object; span=(0, 4), match='this'>\n",
      "          The string None\n",
      "                that <re.Match object; span=(0, 4), match='that'>\n",
      "             nothing None\n",
      "                12ab None\n",
      "                  ab None\n",
      "           that this <re.Match object; span=(0, 4), match='that'>\n"
     ]
    }
   ],
   "source": [
    "# find all strings which contain either the word 'this' or 'that'\n",
    "# |  => or  operator for regex\n",
    "val = [\"this\",\n",
    "      \"The string\",\n",
    "      \"that\",\n",
    "      \"nothing\",\n",
    "      \"12ab\",\n",
    "      \"  ab\",\n",
    "      \"that this\"]\n",
    "\n",
    "for v in val:\n",
    "    print(\"%20s\" % v, re.search(r\"this|that\", v))"
   ]
  },
  {
   "cell_type": "code",
   "execution_count": 72,
   "metadata": {},
   "outputs": [
    {
     "name": "stdout",
     "output_type": "stream",
     "text": [
      "                this <re.Match object; span=(0, 4), match='this'>\n",
      "          The string None\n",
      "                that <re.Match object; span=(0, 4), match='that'>\n",
      "             nothing <re.Match object; span=(2, 6), match='thin'>\n",
      "                12ab None\n",
      "                  ab None\n",
      "           that this <re.Match object; span=(0, 4), match='that'>\n"
     ]
    }
   ],
   "source": [
    "val = [\"this\",\n",
    "      \"The string\",\n",
    "      \"that\",\n",
    "      \"nothing\",\n",
    "      \"12ab\",\n",
    "      \"  ab\",\n",
    "      \"that this\"]\n",
    "\n",
    "for v in val:\n",
    "    print(\"%20s\" % v, re.search(r\"th..\", v))"
   ]
  },
  {
   "cell_type": "code",
   "execution_count": 79,
   "metadata": {},
   "outputs": [
    {
     "name": "stdout",
     "output_type": "stream",
     "text": [
      "                this None\n",
      "         the string. <re.Match object; span=(0, 11), match='the string.'>\n",
      "                The. <re.Match object; span=(0, 4), match='The.'>\n",
      "       the 12344 ... <re.Match object; span=(0, 13), match='the 12344 ...'>\n",
      "                12ab None\n",
      "            the.  ab None\n",
      "           that this None\n"
     ]
    }
   ],
   "source": [
    "# repeition symbols\n",
    "# * : repeat previous thing 0-n\n",
    "# + : repat 1-n\n",
    "# ? : 0 / 1 time only\n",
    "\n",
    "# find string that start with 'the' and end with a '.' symbol\n",
    "val = [\"this\",\n",
    "      \"the string.\",\n",
    "      \"The.\",\n",
    "      \"the 12344 ...\",\n",
    "      \"12ab\",\n",
    "      \"the.  ab\",\n",
    "      \"that this\"]\n",
    "\n",
    "for v in val:\n",
    "    print(\"%20s\" % v, re.search(r\"^the.*\\.$\", v, re.IGNORECASE)) # '.*' any no of time; '\\.$' end with dot"
   ]
  },
  {
   "cell_type": "code",
   "execution_count": 80,
   "metadata": {},
   "outputs": [],
   "source": [
    "# exact repetitions\n",
    "# {m,n}\n",
    "# {5} => exactly 5 repetition\n",
    "# {2,} => atleast 2 rep\n",
    "# {,5} => atmost 5 rep\n",
    "# {2,5} => min 2 and max  rep"
   ]
  },
  {
   "cell_type": "code",
   "execution_count": 81,
   "metadata": {},
   "outputs": [
    {
     "name": "stdout",
     "output_type": "stream",
     "text": [
      "               12222 <re.Match object; span=(0, 4), match='1222'>\n",
      "     the 23str34ing. None\n",
      "                1234 <re.Match object; span=(0, 4), match='1234'>\n",
      "                 123 None\n",
      "    12ab1234456 1234 <re.Match object; span=(4, 8), match='1234'>\n"
     ]
    }
   ],
   "source": [
    "# find numbers with exactly 4 digits anywhere in string\n",
    "val = [\"12222\",\n",
    "      \"the 23str34ing.\",\n",
    "      \"1234\",\n",
    "      \"123\",\n",
    "      \"12ab1234456 1234\"]\n",
    "\n",
    "for v in val:\n",
    "    print(\"%20s\" % v, re.search(r\"\\d{4}\", v, re.IGNORECASE))"
   ]
  },
  {
   "cell_type": "code",
   "execution_count": 85,
   "metadata": {},
   "outputs": [
    {
     "name": "stdout",
     "output_type": "stream",
     "text": [
      "             1234567 <re.Match object; span=(0, 5), match='12345'>\n",
      "     the 23str34ing. <re.Match object; span=(4, 6), match='23'>\n",
      "              123445 <re.Match object; span=(0, 5), match='12344'>\n",
      "              ab123. <re.Match object; span=(2, 5), match='123'>\n",
      "    12ab1234456 1234 <re.Match object; span=(0, 2), match='12'>\n",
      "                  ab None\n",
      "              a1abcd None\n"
     ]
    }
   ],
   "source": [
    "# find 2-5 digit numbers\n",
    "val = [\"1234567\",\n",
    "      \"the 23str34ing.\",\n",
    "      \"123445\",\n",
    "      \"ab123.\",\n",
    "      \"12ab1234456 1234\",\n",
    "      \"ab\",\n",
    "      \"a1abcd\"]\n",
    "\n",
    "for v in val:\n",
    "    print(\"%20s\" % v, re.search(r\"\\d{2,5}\", v, re.IGNORECASE))"
   ]
  },
  {
   "cell_type": "code",
   "execution_count": 88,
   "metadata": {},
   "outputs": [
    {
     "name": "stdout",
     "output_type": "stream",
     "text": [
      "             1234567 None\n",
      "     the 23str34ing. <re.Match object; span=(3, 7), match=' 23s'>\n",
      "              123445 None\n",
      "              ab123. <re.Match object; span=(1, 6), match='b123.'>\n",
      "    12ab1234456 1234 None\n",
      "                  ab None\n",
      "              a1abcd None\n",
      "                123  <re.Match object; span=(0, 5), match=' 123 '>\n"
     ]
    }
   ],
   "source": [
    "# find 2-5 digit numbers\n",
    "val = [\"1234567\",\n",
    "      \"the 23str34ing.\",\n",
    "      \"123445\",\n",
    "      \"ab123.\",\n",
    "      \"12ab1234456 1234\",\n",
    "      \"ab\",\n",
    "      \"a1abcd\",\n",
    "      \" 123 \"]\n",
    "\n",
    "for v in val:\n",
    "    print(\"%20s\" % v, re.search(r\"\\D\\d{2,5}\\D\", v, re.IGNORECASE))"
   ]
  },
  {
   "cell_type": "code",
   "execution_count": 93,
   "metadata": {},
   "outputs": [
    {
     "name": "stdout",
     "output_type": "stream",
     "text": [
      "             1234567 None\n",
      "                 123 <re.Match object; span=(0, 3), match='123'>\n",
      "                123  <re.Match object; span=(0, 5), match=' 123 '>\n",
      "             ab123.. <re.Match object; span=(1, 6), match='b123.'>\n"
     ]
    }
   ],
   "source": [
    "# find 2-5 digit numbers\n",
    "val = [\"1234567\",\n",
    "       \"123\",\n",
    "      \" 123 \",\n",
    "      \"ab123..\"]\n",
    "\n",
    "for v in val:\n",
    "    print(\"%20s\" % v, re.search(r\"(^|\\D)\\d{2,5}($|\\D)\", v, re.IGNORECASE))"
   ]
  },
  {
   "cell_type": "code",
   "execution_count": 96,
   "metadata": {},
   "outputs": [
    {
     "name": "stdout",
     "output_type": "stream",
     "text": [
      "             1234567 None\n",
      "\n",
      "                 123 <re.Match object; span=(0, 3), match='123'>\n",
      "123 ('', '123', '')\n",
      "\n",
      "                123  <re.Match object; span=(0, 5), match=' 123 '>\n",
      " 123  (' ', '123', ' ')\n",
      "\n",
      "             ab123.. <re.Match object; span=(1, 6), match='b123.'>\n",
      "b123. ('b', '123', '.')\n",
      "\n"
     ]
    }
   ],
   "source": [
    "# ? : when used in () allows ignoring\n",
    "# find 2-5 digit numbers\n",
    "val = [\"1234567\",\n",
    "       \"123\",\n",
    "      \" 123 \",\n",
    "      \"ab123..\"]\n",
    "\n",
    "for v in val:\n",
    "    m = re.search(r\"(^|\\D)(\\d{2,5})($|\\D)\", v, re.IGNORECASE)\n",
    "    print(\"%20s\" % v, m)\n",
    "    if m:\n",
    "        print(m.group(), m.groups())\n",
    "    print()"
   ]
  },
  {
   "cell_type": "code",
   "execution_count": 100,
   "metadata": {},
   "outputs": [
    {
     "name": "stdout",
     "output_type": "stream",
     "text": [
      "             1234567 None\n",
      "                 123 <re.Match object; span=(0, 3), match='123'>\n",
      "                123  <re.Match object; span=(1, 4), match='123'>\n",
      "             ab123.. None\n",
      "             ab 123. <re.Match object; span=(3, 6), match='123'>\n"
     ]
    }
   ],
   "source": [
    "# \\b : word boundary: matches the usual separators used in sentences and ^, $ as well\n",
    "# \\b doesn't capture the symbol it matches\n",
    "# find 2-5 digit numbers\n",
    "val = [\"1234567\",\n",
    "       \"123\",\n",
    "      \" 123 \",\n",
    "      \"ab123..\",\n",
    "      \"ab 123.\"]\n",
    "\n",
    "for v in val:\n",
    "    print(\"%20s\" % v, re.search(r\"\\b\\d{2,5}\\b\", v, re.IGNORECASE))"
   ]
  },
  {
   "cell_type": "code",
   "execution_count": null,
   "metadata": {},
   "outputs": [],
   "source": [
    "# search set\n",
    "# [] : [a-z] ,[abc], [aApq,$%], [A-Z0-5a-p#$]\n",
    "# [^] : [^a-z] => match anything apart from small alphabets"
   ]
  },
  {
   "cell_type": "code",
   "execution_count": 104,
   "metadata": {},
   "outputs": [
    {
     "name": "stdout",
     "output_type": "stream",
     "text": [
      "<re.Match object; span=(0, 10), match='sentence .'>\n",
      "<re.Match object; span=(9, 10), match='.'>\n"
     ]
    }
   ],
   "source": [
    "# sentences that end with .,? or !\n",
    "\n",
    "s = \"sentence .\"\n",
    "p = r\".*[.?!]$\"\n",
    "\n",
    "print(re.search(p, s))\n",
    "print(re.search(r\"[.?!]$\", s))"
   ]
  },
  {
   "cell_type": "code",
   "execution_count": 110,
   "metadata": {},
   "outputs": [
    {
     "name": "stdout",
     "output_type": "stream",
     "text": [
      "\n",
      "abc. abc.\n",
      " <re.Match object; span=(0, 8), match='abc. abc'>\n",
      "\n",
      "this is first! this is second one.\n",
      " <re.Match object; span=(0, 33), match='this is first! this is second one'>\n",
      "\n",
      "\n",
      "abc. abc.\n",
      " <re.Match object; span=(0, 0), match=''>\n",
      "\n",
      "this is first! this is second one.\n",
      " <re.Match object; span=(0, 0), match=''>\n",
      "\n",
      "\n",
      "abc. abc.\n",
      " <re.Match object; span=(0, 3), match='abc'>\n",
      "\n",
      "this is first! this is second one.\n",
      " <re.Match object; span=(0, 4), match='this'>\n"
     ]
    }
   ],
   "source": [
    "# non-greedy search\n",
    "# *?\n",
    "# +?\n",
    "# pick phrases; anything that starts or ends with a puncutuator\n",
    "\n",
    "a =  [\"abc. abc.\",\n",
    "     \"this is first! this is second one.\"]\n",
    "\n",
    "\n",
    "for v in a:\n",
    "    print(\"\\n%s\\n\" % v, re.search(r\"\\b.*\\b\", v, re.IGNORECASE))\n",
    "    \n",
    "print()\n",
    "for v in a:\n",
    "    print(\"\\n%s\\n\" % v, re.search(r\"\\b.*?\\b\", v, re.IGNORECASE))\n",
    "    \n",
    "print()\n",
    "for v in a:\n",
    "    print(\"\\n%s\\n\" % v, re.search(r\"\\b.+?\\b\", v, re.IGNORECASE))"
   ]
  },
  {
   "cell_type": "code",
   "execution_count": 114,
   "metadata": {},
   "outputs": [
    {
     "name": "stdout",
     "output_type": "stream",
     "text": [
      "                 a23 None\n",
      "                abca <re.Match object; span=(0, 4), match='abca'>\n",
      "               words None\n",
      "                123  <re.Match object; span=(0, 5), match=' 123 '>\n",
      "                $ab$ <re.Match object; span=(0, 4), match='$ab$'>\n"
     ]
    }
   ],
   "source": [
    "# back reference\n",
    "# the first and last symbol in a string should be same.\n",
    "\n",
    "a = [\"a23\",\n",
    "    \"abca\",\n",
    "    \"words\",\n",
    "    \" 123 \",\n",
    "    \"$ab$\"]\n",
    "\n",
    "for v in a:\n",
    "    print(\"%20s\" % v, re.search(r\"^(.).*(\\1)$\", v, re.IGNORECASE))"
   ]
  },
  {
   "cell_type": "code",
   "execution_count": 117,
   "metadata": {},
   "outputs": [
    {
     "name": "stdout",
     "output_type": "stream",
     "text": [
      "               23a23 <re.Match object; span=(0, 5), match='23a23'>\n",
      "                abca None\n",
      "               words None\n",
      "                123  None\n",
      "                $ab$ None\n"
     ]
    }
   ],
   "source": [
    "# back reference\n",
    "# the first and last symbol in a string should be same.\n",
    "\n",
    "a = [\"23a23\",\n",
    "    \"abca\",\n",
    "    \"words\",\n",
    "    \" 123 \",\n",
    "    \"$ab$\"]\n",
    "\n",
    "for v in a:\n",
    "    print(\"%20s\" % v, re.search(r\"^(\\d\\d).*\\1$\", v, re.IGNORECASE))"
   ]
  }
 ],
 "metadata": {
  "kernelspec": {
   "display_name": "Python 3",
   "language": "python",
   "name": "python3"
  },
  "language_info": {
   "codemirror_mode": {
    "name": "ipython",
    "version": 3
   },
   "file_extension": ".py",
   "mimetype": "text/x-python",
   "name": "python",
   "nbconvert_exporter": "python",
   "pygments_lexer": "ipython3",
   "version": "3.8.3"
  }
 },
 "nbformat": 4,
 "nbformat_minor": 4
}
