{
 "cells": [
  {
   "cell_type": "code",
   "execution_count": 1,
   "metadata": {},
   "outputs": [],
   "source": [
    "# all imports go at the top, even though python is a very open language\n",
    "import numpy as np\n",
    "import pandas as pd"
   ]
  },
  {
   "cell_type": "code",
   "execution_count": 2,
   "metadata": {},
   "outputs": [
    {
     "name": "stdout",
     "output_type": "stream",
     "text": [
      "['BooleanDtype', 'Categorical', 'CategoricalDtype', 'CategoricalIndex', 'DataFrame', 'DateOffset', 'DatetimeIndex', 'DatetimeTZDtype', 'ExcelFile', 'ExcelWriter', 'Float64Index', 'Grouper', 'HDFStore', 'Index', 'IndexSlice', 'Int16Dtype', 'Int32Dtype', 'Int64Dtype', 'Int64Index', 'Int8Dtype', 'Interval', 'IntervalDtype', 'IntervalIndex', 'MultiIndex', 'NA', 'NaT', 'NamedAgg', 'Period', 'PeriodDtype', 'PeriodIndex', 'RangeIndex', 'Series', 'SparseDtype', 'StringDtype', 'Timedelta', 'TimedeltaIndex', 'Timestamp', 'UInt16Dtype', 'UInt32Dtype', 'UInt64Dtype', 'UInt64Index', 'UInt8Dtype', '__builtins__', '__cached__', '__doc__', '__docformat__', '__file__', '__getattr__', '__git_version__', '__loader__', '__name__', '__package__', '__path__', '__spec__', '__version__', '_config', '_hashtable', '_is_numpy_dev', '_lib', '_libs', '_np_version_under1p14', '_np_version_under1p15', '_np_version_under1p16', '_np_version_under1p17', '_np_version_under1p18', '_testing', '_tslib', '_typing', '_version', 'api', 'array', 'arrays', 'bdate_range', 'compat', 'concat', 'core', 'crosstab', 'cut', 'date_range', 'describe_option', 'errors', 'eval', 'factorize', 'get_dummies', 'get_option', 'infer_freq', 'interval_range', 'io', 'isna', 'isnull', 'json_normalize', 'lreshape', 'melt', 'merge', 'merge_asof', 'merge_ordered', 'notna', 'notnull', 'offsets', 'option_context', 'options', 'pandas', 'period_range', 'pivot', 'pivot_table', 'plotting', 'qcut', 'read_clipboard', 'read_csv', 'read_excel', 'read_feather', 'read_fwf', 'read_gbq', 'read_hdf', 'read_html', 'read_json', 'read_orc', 'read_parquet', 'read_pickle', 'read_sas', 'read_spss', 'read_sql', 'read_sql_query', 'read_sql_table', 'read_stata', 'read_table', 'reset_option', 'set_eng_float_format', 'set_option', 'show_versions', 'test', 'testing', 'timedelta_range', 'to_datetime', 'to_numeric', 'to_pickle', 'to_timedelta', 'tseries', 'unique', 'util', 'value_counts', 'wide_to_long']\n"
     ]
    }
   ],
   "source": [
    "print(dir(pd))"
   ]
  },
  {
   "cell_type": "markdown",
   "metadata": {},
   "source": [
    "## Series"
   ]
  },
  {
   "cell_type": "code",
   "execution_count": 3,
   "metadata": {},
   "outputs": [
    {
     "name": "stdout",
     "output_type": "stream",
     "text": [
      "0    1\n",
      "1    2\n",
      "2    3\n",
      "dtype: int64\n",
      "\n",
      "a    1.0\n",
      "b    2.0\n",
      "c    3.0\n",
      "d    NaN\n",
      "dtype: float64\n"
     ]
    }
   ],
   "source": [
    "# Normal series and series with custom index\n",
    "# 1-D numpy array\n",
    "s1 = pd.Series([1,2,3], index=range(3))\n",
    "s2 = pd.Series([1,2,3, np.nan], index=tuple(\"abcd\"))\n",
    "print(s1)\n",
    "print()\n",
    "print(s2)"
   ]
  },
  {
   "cell_type": "code",
   "execution_count": 4,
   "metadata": {},
   "outputs": [
    {
     "name": "stdout",
     "output_type": "stream",
     "text": [
      "<class 'pandas.core.series.Series'>\n",
      "RangeIndex(start=0, stop=3, step=1)\n",
      "[1 2 3] <class 'numpy.ndarray'>\n"
     ]
    }
   ],
   "source": [
    "print(type(s1))\n",
    "print(s1.index)\n",
    "print(s1.values, type(s1.values))"
   ]
  },
  {
   "cell_type": "code",
   "execution_count": 5,
   "metadata": {},
   "outputs": [
    {
     "name": "stdout",
     "output_type": "stream",
     "text": [
      "int64\n",
      "0    1\n",
      "1    2\n",
      "2    3\n",
      "dtype: object object\n",
      "object\n",
      "0    1.0\n",
      "1    2.0\n",
      "2    3.0\n",
      "dtype: float64\n",
      "\n",
      "0    1\n",
      "1    2\n",
      "2    3\n",
      "dtype: int64\n",
      "\n",
      "0    1\n",
      "1    2\n",
      "2    3\n",
      "dtype: object\n"
     ]
    }
   ],
   "source": [
    "# changing dtype: astype\n",
    "print(s1.dtype)\n",
    "r = s1.astype(\"unicode\")\n",
    "print(r, r.dtype)\n",
    "print(r.values.dtype)\n",
    "\n",
    "r = s1.astype(\"float64\")\n",
    "print(r)\n",
    "\n",
    "print()\n",
    "print(s1)\n",
    "\n",
    "print()\n",
    "r = pd.Series(s1, dtype=\"<U2\")\n",
    "print(r)"
   ]
  },
  {
   "cell_type": "code",
   "execution_count": 6,
   "metadata": {},
   "outputs": [
    {
     "name": "stdout",
     "output_type": "stream",
     "text": [
      "(3,)\n",
      "3\n",
      "int64\n"
     ]
    }
   ],
   "source": [
    "# shape, size, dtype, index, values\n",
    "print(s1.shape)\n",
    "print(s1.size)\n",
    "print(s1.dtype)"
   ]
  },
  {
   "cell_type": "code",
   "execution_count": 7,
   "metadata": {},
   "outputs": [
    {
     "name": "stdout",
     "output_type": "stream",
     "text": [
      "[1 2 3]\n",
      "1.0\n",
      "3.0\n"
     ]
    }
   ],
   "source": [
    "# aggregate operations: min, max, unique, sum etc.\n",
    "print(s1.unique())\n",
    "print(s2.min())\n",
    "print(s2.max())"
   ]
  },
  {
   "cell_type": "code",
   "execution_count": 8,
   "metadata": {},
   "outputs": [
    {
     "name": "stdout",
     "output_type": "stream",
     "text": [
      "0    3\n",
      "1    6\n",
      "2    9\n",
      "dtype: int64\n",
      "0    1\n",
      "1    2\n",
      "2    3\n",
      "dtype: int64\n"
     ]
    }
   ],
   "source": [
    "# arithmetic operations(new copy) and broadcast like numpy\n",
    "print(s1 * 3) # with scalar\n",
    "print(s1)\n"
   ]
  },
  {
   "cell_type": "code",
   "execution_count": 9,
   "metadata": {},
   "outputs": [
    {
     "name": "stdout",
     "output_type": "stream",
     "text": [
      "0   NaN\n",
      "1   NaN\n",
      "2   NaN\n",
      "a   NaN\n",
      "b   NaN\n",
      "c   NaN\n",
      "d   NaN\n",
      "dtype: float64\n"
     ]
    }
   ],
   "source": [
    "print(s1 + s2)"
   ]
  },
  {
   "cell_type": "code",
   "execution_count": 10,
   "metadata": {},
   "outputs": [
    {
     "name": "stdout",
     "output_type": "stream",
     "text": [
      "0    1\n",
      "1    2\n",
      "2    3\n",
      "dtype: int64\n",
      "1    10\n",
      "2    20\n",
      "4    30\n",
      "dtype: int64\n",
      "\n",
      "0     NaN\n",
      "1    12.0\n",
      "2    23.0\n",
      "4     NaN\n",
      "dtype: float64\n"
     ]
    }
   ],
   "source": [
    "s3 = pd.Series([10,20,30], index = (1,2,4))\n",
    "print(s1)\n",
    "print(s3)\n",
    "print()\n",
    "print(s1 + s3)"
   ]
  },
  {
   "cell_type": "code",
   "execution_count": 11,
   "metadata": {},
   "outputs": [
    {
     "name": "stdout",
     "output_type": "stream",
     "text": [
      "0    1\n",
      "1    2\n",
      "2    3\n",
      "dtype: int64\n",
      "\n",
      "1    2\n",
      "2    3\n",
      "dtype: int64\n",
      "\n",
      "0    1\n",
      "1    2\n",
      "dtype: int64\n",
      "\n",
      "3\n"
     ]
    }
   ],
   "source": [
    "# indexing and slicing\n",
    "print(s1)\n",
    "print()\n",
    "print(s1[1:])\n",
    "\n",
    "print()\n",
    "print(s1[:2])\n",
    "\n",
    "print()\n",
    "print(s1[2])"
   ]
  },
  {
   "cell_type": "code",
   "execution_count": 12,
   "metadata": {},
   "outputs": [
    {
     "name": "stdout",
     "output_type": "stream",
     "text": [
      "0     1\n",
      "1     2\n",
      "2    10\n",
      "dtype: int64\n",
      "0     1\n",
      "1    20\n",
      "2    20\n",
      "dtype: int64\n"
     ]
    }
   ],
   "source": [
    "s1[2] = 10\n",
    "print(s1)\n",
    "\n",
    "s1[1:] = 20\n",
    "print(s1)"
   ]
  },
  {
   "cell_type": "code",
   "execution_count": 13,
   "metadata": {},
   "outputs": [
    {
     "name": "stdout",
     "output_type": "stream",
     "text": [
      "0     1\n",
      "1    20\n",
      "dtype: int64\n"
     ]
    }
   ],
   "source": [
    "print(s1[:-1])"
   ]
  },
  {
   "cell_type": "code",
   "execution_count": 14,
   "metadata": {},
   "outputs": [
    {
     "name": "stdout",
     "output_type": "stream",
     "text": [
      "2.0\n",
      "1.0\n"
     ]
    }
   ],
   "source": [
    "print(s2[1]) # internal index\n",
    "print(s2['a']) # user assigned index"
   ]
  },
  {
   "cell_type": "code",
   "execution_count": 15,
   "metadata": {},
   "outputs": [
    {
     "name": "stdout",
     "output_type": "stream",
     "text": [
      "1.0\n",
      "a    1.0\n",
      "b    2.0\n",
      "c    3.0\n",
      "dtype: float64\n"
     ]
    }
   ],
   "source": [
    "# use the user assigned index\n",
    "print(s2.loc['a'])\n",
    "print(s2.loc['a':'c'])\n",
    "#print(s2.loc[1])"
   ]
  },
  {
   "cell_type": "code",
   "execution_count": 16,
   "metadata": {},
   "outputs": [
    {
     "name": "stdout",
     "output_type": "stream",
     "text": [
      "b    2.0\n",
      "c    3.0\n",
      "dtype: float64\n",
      "\n",
      "d    NaN\n",
      "c    3.0\n",
      "b    2.0\n",
      "a    1.0\n",
      "dtype: float64\n",
      "\n",
      "nan\n",
      "\n",
      "d    NaN\n",
      "c    3.0\n",
      "dtype: float64\n"
     ]
    }
   ],
   "source": [
    "# use the user assigned index\n",
    "print(s2.iloc[1:3])\n",
    "#print(s2.iloc['a']\n",
    "\n",
    "print()\n",
    "print(s2.iloc[::-1])\n",
    "\n",
    "print()\n",
    "print(s2.iloc[-1])\n",
    "\n",
    "print()\n",
    "print(s2.iloc[-1:-3:-1])"
   ]
  },
  {
   "cell_type": "code",
   "execution_count": 17,
   "metadata": {},
   "outputs": [
    {
     "name": "stdout",
     "output_type": "stream",
     "text": [
      "0     1\n",
      "1    20\n",
      "2    20\n",
      "dtype: int64\n",
      "\n",
      "2    20\n",
      "1    20\n",
      "dtype: int64\n",
      "2    20\n",
      "2    20\n",
      "dtype: int64\n",
      "\n",
      "1    20\n",
      "2    20\n",
      "dtype: int64\n"
     ]
    }
   ],
   "source": [
    "# result of operations as index\n",
    "print(s1)\n",
    "\n",
    "print()\n",
    "print(s1[ [2,1] ])\n",
    "idx = [2,-1] # list of indexes to pick\n",
    "print(s1.iloc[ idx ])\n",
    "\n",
    "print()\n",
    "r = s1 %2 == 0\n",
    "print(s1[r])"
   ]
  },
  {
   "cell_type": "code",
   "execution_count": 18,
   "metadata": {},
   "outputs": [
    {
     "name": "stdout",
     "output_type": "stream",
     "text": [
      "20    2\n",
      "1     1\n",
      "dtype: int64\n",
      "\n"
     ]
    },
    {
     "data": {
      "text/plain": [
       "10    3\n",
       "20    2\n",
       "30    1\n",
       "dtype: int64"
      ]
     },
     "execution_count": 18,
     "metadata": {},
     "output_type": "execute_result"
    }
   ],
   "source": [
    "# frequency : value_counts\n",
    "r = s1.value_counts()\n",
    "print(r)\n",
    "\n",
    "print()\n",
    "s4 = pd.Series([10,20,10,10,30,20])\n",
    "s4.value_counts()"
   ]
  },
  {
   "cell_type": "markdown",
   "metadata": {},
   "source": [
    "## DataFrame"
   ]
  },
  {
   "cell_type": "code",
   "execution_count": 19,
   "metadata": {},
   "outputs": [
    {
     "name": "stdout",
     "output_type": "stream",
     "text": [
      "        Name  Age  Gender\n",
      "0     Gaurav  0.0     0.0\n",
      "1  Abhishek1  1.0     0.0\n",
      "2    Krishna  2.0     0.0\n",
      "3  Abhishek2  2.0     0.0\n",
      "4   Harshita  1.0     1.0\n",
      "5       Joey  2.0     1.0\n",
      "6     Shweta  3.0     1.0\n",
      "7       na-1  1.0     NaN\n",
      "8       na-2  NaN     0.0\n",
      "9        NaN  2.0     0.0\n",
      "\n",
      "         Name  Number\n",
      "0      Gaurav       1\n",
      "11   Abhiskek       2\n",
      "2     Krishna       3\n",
      "3   Abhishek2       4\n"
     ]
    }
   ],
   "source": [
    "# dataframe from dict or list of rows\n",
    "df1 = pd.DataFrame(\n",
    "    {\n",
    "        \"Name\":   [\"Gaurav\", \"Abhishek1\", \"Krishna\", \"Abhishek2\", \"Harshita\", \"Joey\", \"Shweta\", \"na-1\" , \"na-2\"  , np.nan],\n",
    "        \"Age\":    [ 0      , 1          , 2        , 2          , 1         , 2     , 3       , 1      ,  np.nan , 2     ],\n",
    "        \"Gender\": [ 0      , 0          , 0        , 0          , 1         , 1     , 1       , np.nan ,  0      , 0     ]\n",
    "    }\n",
    ")\n",
    "df2 = pd.DataFrame([(\"Gaurav\",1), (\"Abhiskek\",2), (\"Krishna\",3), (\"Abhishek2\",4)],\n",
    "                    index=[0,11,2,3], \n",
    "                    columns=[\"Name\", \"Number\"])\n",
    "print(df1)\n",
    "print()\n",
    "print(df2)"
   ]
  },
  {
   "cell_type": "code",
   "execution_count": 20,
   "metadata": {},
   "outputs": [
    {
     "name": "stdout",
     "output_type": "stream",
     "text": [
      "(10, 3)\n",
      "30\n",
      "\n",
      "Name       object\n",
      "Age       float64\n",
      "Gender    float64\n",
      "dtype: object <class 'pandas.core.series.Series'>\n",
      "\n",
      "RangeIndex(start=0, stop=10, step=1)\n",
      "\n",
      "Index(['Name', 'Age', 'Gender'], dtype='object')\n",
      "\n",
      "             0          1        2          3         4     5       6     7  \\\n",
      "Name    Gaurav  Abhishek1  Krishna  Abhishek2  Harshita  Joey  Shweta  na-1   \n",
      "Age          0          1        2          2         1     2       3     1   \n",
      "Gender       0          0        0          0         1     1       1   NaN   \n",
      "\n",
      "           8    9  \n",
      "Name    na-2  NaN  \n",
      "Age      NaN    2  \n",
      "Gender     0    0  \n"
     ]
    }
   ],
   "source": [
    "# shape, size, dtype, index, columns, unique, T\n",
    "print(df1.shape)\n",
    "print(df1.size)\n",
    "\n",
    "print()\n",
    "print(df1.dtypes, type(df1.dtypes))\n",
    "\n",
    "print()\n",
    "print(df1.index)\n",
    "\n",
    "print()\n",
    "print(df1.columns)\n",
    "\n",
    "print()\n",
    "print(df1.T)"
   ]
  },
  {
   "cell_type": "code",
   "execution_count": 21,
   "metadata": {},
   "outputs": [
    {
     "name": "stdout",
     "output_type": "stream",
     "text": [
      "        Name       Age    Gender\n",
      "count      9  9.000000  9.000000\n",
      "unique     9       NaN       NaN\n",
      "top     na-1       NaN       NaN\n",
      "freq       1       NaN       NaN\n",
      "mean     NaN  1.555556  0.333333\n",
      "std      NaN  0.881917  0.500000\n",
      "min      NaN  0.000000  0.000000\n",
      "25%      NaN  1.000000  0.000000\n",
      "50%      NaN  2.000000  0.000000\n",
      "75%      NaN  2.000000  1.000000\n",
      "max      NaN  3.000000  1.000000\n"
     ]
    }
   ],
   "source": [
    "print(df1.describe(include='all'))"
   ]
  },
  {
   "cell_type": "code",
   "execution_count": 22,
   "metadata": {},
   "outputs": [
    {
     "data": {
      "text/plain": [
       "['a', 'b', 'b', 'a', 'c', 'a']"
      ]
     },
     "execution_count": 22,
     "metadata": {},
     "output_type": "execute_result"
    }
   ],
   "source": [
    "['a','b','b', 'a', 'c', 'a']"
   ]
  },
  {
   "cell_type": "code",
   "execution_count": 23,
   "metadata": {},
   "outputs": [
    {
     "name": "stdout",
     "output_type": "stream",
     "text": [
      "        Name  Age  Gender\n",
      "0  Abhishek1  2.0     0.0\n",
      "1  Abhishek2  NaN     NaN\n",
      "2     Gaurav  NaN     NaN\n",
      "3   Harshita  NaN     NaN\n",
      "4       Joey  NaN     NaN\n",
      "5    Krishna  NaN     NaN\n",
      "6     Shweta  NaN     NaN\n",
      "7       na-1  NaN     NaN\n",
      "8       na-2  NaN     NaN\n"
     ]
    }
   ],
   "source": [
    "print(df1.mode(axis=0))"
   ]
  },
  {
   "cell_type": "code",
   "execution_count": 24,
   "metadata": {},
   "outputs": [
    {
     "name": "stdout",
     "output_type": "stream",
     "text": [
      "0    10\n",
      "1    20\n",
      "2    10\n",
      "3    10\n",
      "4    30\n",
      "5    20\n",
      "dtype: int64\n",
      "0    10\n",
      "dtype: int64\n",
      "\n",
      "0     1\n",
      "1    20\n",
      "2    20\n",
      "dtype: int64\n",
      "0    20\n",
      "dtype: int64\n"
     ]
    }
   ],
   "source": [
    "print(s4)\n",
    "print(s4.mode())\n",
    "\n",
    "print()\n",
    "print(s1)\n",
    "print(s1.mode())"
   ]
  },
  {
   "cell_type": "code",
   "execution_count": 25,
   "metadata": {},
   "outputs": [
    {
     "name": "stdout",
     "output_type": "stream",
     "text": [
      "        Name  Age  Gender\n",
      "0     Gaurav  0.0     0.0\n",
      "1  Abhishek1  1.0     0.0\n",
      "2    Krishna  2.0     0.0\n",
      "3  Abhishek2  2.0     0.0\n",
      "4   Harshita  1.0     1.0\n",
      "\n",
      "        Name  Age  Gender\n",
      "0     Gaurav  0.0     0.0\n",
      "1  Abhishek1  1.0     0.0\n",
      "\n",
      "     Name  Age  Gender\n",
      "0  Gaurav  0.0     0.0\n"
     ]
    }
   ],
   "source": [
    "print(df1.head())  #give me the first five rows\n",
    "\n",
    "print()\n",
    "print(df1.head(2)) \n",
    "\n",
    "print()\n",
    "print(df1.head(1)) "
   ]
  },
  {
   "cell_type": "code",
   "execution_count": 26,
   "metadata": {},
   "outputs": [
    {
     "name": "stdout",
     "output_type": "stream",
     "text": [
      "     Name  Age  Gender\n",
      "5    Joey  2.0     1.0\n",
      "6  Shweta  3.0     1.0\n",
      "7    na-1  1.0     NaN\n",
      "8    na-2  NaN     0.0\n",
      "9     NaN  2.0     0.0\n",
      "\n",
      "   Name  Age  Gender\n",
      "8  na-2  NaN     0.0\n",
      "9   NaN  2.0     0.0\n",
      "\n",
      "  Name  Age  Gender\n",
      "9  NaN  2.0     0.0\n"
     ]
    }
   ],
   "source": [
    "print(df1.tail())  #give me the first five rows\n",
    "\n",
    "print()\n",
    "print(df1.tail(2)) \n",
    "\n",
    "print()\n",
    "print(df1.tail(1)) "
   ]
  },
  {
   "cell_type": "code",
   "execution_count": 27,
   "metadata": {},
   "outputs": [
    {
     "name": "stdout",
     "output_type": "stream",
     "text": [
      "None\n",
      "\n",
      "           N  Age  Gender\n",
      "0     Gaurav  0.0     0.0\n",
      "1  Abhishek1  1.0     0.0\n",
      "2    Krishna  2.0     0.0\n",
      "3  Abhishek2  2.0     0.0\n",
      "4   Harshita  1.0     1.0\n"
     ]
    }
   ],
   "source": [
    "# Rename index and columns on df2.\n",
    "# Inplace vs normal operation\n",
    "\n",
    "r = df1.rename(mapper={\"Name\": \"N\"}, axis=1, inplace=True) # column names\n",
    "print(r)\n",
    "print()\n",
    "print(df1.head())"
   ]
  },
  {
   "cell_type": "code",
   "execution_count": 28,
   "metadata": {},
   "outputs": [
    {
     "name": "stdout",
     "output_type": "stream",
     "text": [
      "None\n",
      "\n",
      "        Name  Age  Gender\n",
      "0     Gaurav  0.0     0.0\n",
      "1  Abhishek1  1.0     0.0\n",
      "2    Krishna  2.0     0.0\n",
      "3  Abhishek2  2.0     0.0\n",
      "4   Harshita  1.0     1.0\n"
     ]
    }
   ],
   "source": [
    "r = df1.rename(columns={\"N\": \"Name\"}, inplace=True) # column names\n",
    "print(r)\n",
    "print()\n",
    "print(df1.head())"
   ]
  },
  {
   "cell_type": "code",
   "execution_count": 29,
   "metadata": {},
   "outputs": [
    {
     "name": "stdout",
     "output_type": "stream",
     "text": [
      "None\n",
      "\n",
      "         Name  Age  Gender\n",
      "0      Gaurav  0.0     0.0\n",
      "10  Abhishek1  1.0     0.0\n",
      "20    Krishna  2.0     0.0\n",
      "30  Abhishek2  2.0     0.0\n",
      "40   Harshita  1.0     1.0\n"
     ]
    }
   ],
   "source": [
    "r = df1.rename(mapper=lambda x: x*10, axis=0, inplace=True) # row  index\n",
    "print(r)\n",
    "print()\n",
    "print(df1.head())"
   ]
  },
  {
   "cell_type": "code",
   "execution_count": 30,
   "metadata": {},
   "outputs": [
    {
     "name": "stdout",
     "output_type": "stream",
     "text": [
      "0        Gaurav\n",
      "10    Abhishek1\n",
      "Name: Name, dtype: object\n",
      "\n",
      "0        Gaurav\n",
      "10    Abhishek1\n",
      "20      Krishna\n",
      "30    Abhishek2\n",
      "40     Harshita\n",
      "Name: Name, dtype: object\n"
     ]
    }
   ],
   "source": [
    "# Indexing columns directly and via index. \n",
    "print(df1[\"Name\"].head(2))\n",
    "\n",
    "print()\n",
    "print(df1.Name.head())"
   ]
  },
  {
   "cell_type": "code",
   "execution_count": 31,
   "metadata": {},
   "outputs": [
    {
     "name": "stdout",
     "output_type": "stream",
     "text": [
      "         Name  Age  Gender\n",
      "0    Gaurav-1  0.0     0.0\n",
      "10  Abhishek1  1.0     0.0\n",
      "20    Krishna  2.0     0.0\n",
      "30  Abhishek2  2.0     0.0\n",
      "40   Harshita  1.0     1.0\n",
      "50       Joey  2.0     1.0\n",
      "60     Shweta  3.0     1.0\n",
      "70       na-1  1.0     NaN\n",
      "80       na-2  NaN     0.0\n",
      "90        NaN  2.0     0.0\n"
     ]
    }
   ],
   "source": [
    "df1.replace(\"Gaurav\", \"Gaurav-1\", inplace=True)\n",
    "print(df1)"
   ]
  },
  {
   "cell_type": "code",
   "execution_count": 32,
   "metadata": {},
   "outputs": [
    {
     "name": "stdout",
     "output_type": "stream",
     "text": [
      "         Name    Age  Gender\n",
      "0    Gaurav-1    0.0     0.0\n",
      "10  Abhishek1   10.0     0.0\n",
      "20    Krishna  200.0     0.0\n",
      "30  Abhishek2  200.0     0.0\n",
      "40   Harshita   10.0     1.0\n",
      "50       Joey  200.0     1.0\n",
      "60     Shweta    3.0     1.0\n",
      "70       na-1   10.0     NaN\n",
      "80       na-2    NaN     0.0\n",
      "90        NaN  200.0     0.0\n"
     ]
    }
   ],
   "source": [
    "df1.Age.replace({1.0:10, 2.0:200}, inplace=True)\n",
    "print(df1)"
   ]
  },
  {
   "cell_type": "code",
   "execution_count": 33,
   "metadata": {},
   "outputs": [
    {
     "name": "stdout",
     "output_type": "stream",
     "text": [
      "<class 'pandas.core.series.Series'>\n"
     ]
    }
   ],
   "source": [
    "# Series in a DataFrame\n",
    "print(type(df1.Name))"
   ]
  },
  {
   "cell_type": "code",
   "execution_count": 34,
   "metadata": {},
   "outputs": [
    {
     "data": {
      "text/plain": [
       "<bound method NDFrame.tail of          Name    Age  Gender\n",
       "0    Gaurav-1    0.0     0.0\n",
       "10  Abhishek1   10.0     0.0\n",
       "20    Krishna  200.0     0.0\n",
       "30  Abhishek2  200.0     0.0\n",
       "40   Harshita   10.0     1.0\n",
       "50       Joey  200.0     1.0\n",
       "60     Shweta    3.0     1.0\n",
       "70       na-1   10.0     NaN\n",
       "80       na-2    NaN     0.0\n",
       "90        NaN  200.0     0.0>"
      ]
     },
     "execution_count": 34,
     "metadata": {},
     "output_type": "execute_result"
    }
   ],
   "source": [
    "# describe, top/bottom rows of data\n",
    "df1.head\n",
    "df1.tail"
   ]
  },
  {
   "cell_type": "code",
   "execution_count": 35,
   "metadata": {},
   "outputs": [],
   "source": [
    "# indexing and slicing\n",
    "# loc, iloc [rows, cols]"
   ]
  },
  {
   "cell_type": "code",
   "execution_count": 36,
   "metadata": {},
   "outputs": [
    {
     "name": "stdout",
     "output_type": "stream",
     "text": [
      "         Name  Number\n",
      "0      Gaurav       1\n",
      "11   Abhiskek       2\n",
      "2     Krishna       3\n",
      "3   Abhishek2       4\n"
     ]
    }
   ],
   "source": [
    "print(df2)"
   ]
  },
  {
   "cell_type": "code",
   "execution_count": 37,
   "metadata": {},
   "outputs": [
    {
     "name": "stdout",
     "output_type": "stream",
     "text": [
      "Name      Gaurav\n",
      "Number         1\n",
      "Name: 0, dtype: object\n",
      "\n",
      "Name      Gaurav\n",
      "Number         1\n",
      "Name: 0, dtype: object\n",
      "\n",
      "1\n",
      "\n",
      "        Name  Number\n",
      "11  Abhiskek       2\n",
      "2    Krishna       3\n",
      "\n",
      "        Name  Number\n",
      "11  Abhiskek       2\n",
      "2    Krishna       3\n"
     ]
    }
   ],
   "source": [
    "print(df2.iloc[0])\n",
    "\n",
    "print()\n",
    "print(df2.iloc[ 0, :]) # row-0 col-all\n",
    "\n",
    "print()\n",
    "print(df2.iloc[0,1]) # row-0 col-1\n",
    "\n",
    "print()\n",
    "print(df2.iloc[ [1,2] ]) # row-selection\n",
    "\n",
    "print()\n",
    "print(df2.iloc[ [1,2], [0,1] ]) #  row and  columnn selection"
   ]
  },
  {
   "cell_type": "code",
   "execution_count": 38,
   "metadata": {},
   "outputs": [
    {
     "name": "stdout",
     "output_type": "stream",
     "text": [
      "     Name  Number\n",
      "0   False   False\n",
      "11  False    True\n",
      "2   False   False\n",
      "3   False   False\n",
      "     Name  Number\n",
      "0   False   False\n",
      "11  False   False\n",
      "2    True   False\n",
      "3   False   False\n",
      "\n",
      "     Name  Number\n",
      "0   False   False\n",
      "11  False    True\n",
      "2    True   False\n",
      "3   False   False\n"
     ]
    },
    {
     "name": "stderr",
     "output_type": "stream",
     "text": [
      "/opt/anaconda3/lib/python3.8/site-packages/pandas/core/ops/array_ops.py:253: FutureWarning: elementwise comparison failed; returning scalar instead, but in the future will perform elementwise comparison\n",
      "  res_values = method(rvalues)\n"
     ]
    },
    {
     "data": {
      "text/html": [
       "<div>\n",
       "<style scoped>\n",
       "    .dataframe tbody tr th:only-of-type {\n",
       "        vertical-align: middle;\n",
       "    }\n",
       "\n",
       "    .dataframe tbody tr th {\n",
       "        vertical-align: top;\n",
       "    }\n",
       "\n",
       "    .dataframe thead th {\n",
       "        text-align: right;\n",
       "    }\n",
       "</style>\n",
       "<table border=\"1\" class=\"dataframe\">\n",
       "  <thead>\n",
       "    <tr style=\"text-align: right;\">\n",
       "      <th></th>\n",
       "      <th>Name</th>\n",
       "      <th>Number</th>\n",
       "    </tr>\n",
       "  </thead>\n",
       "  <tbody>\n",
       "    <tr>\n",
       "      <th>0</th>\n",
       "      <td>NaN</td>\n",
       "      <td>NaN</td>\n",
       "    </tr>\n",
       "    <tr>\n",
       "      <th>11</th>\n",
       "      <td>NaN</td>\n",
       "      <td>2.0</td>\n",
       "    </tr>\n",
       "    <tr>\n",
       "      <th>2</th>\n",
       "      <td>Krishna</td>\n",
       "      <td>NaN</td>\n",
       "    </tr>\n",
       "    <tr>\n",
       "      <th>3</th>\n",
       "      <td>NaN</td>\n",
       "      <td>NaN</td>\n",
       "    </tr>\n",
       "  </tbody>\n",
       "</table>\n",
       "</div>"
      ],
      "text/plain": [
       "       Name  Number\n",
       "0       NaN     NaN\n",
       "11      NaN     2.0\n",
       "2   Krishna     NaN\n",
       "3       NaN     NaN"
      ]
     },
     "execution_count": 38,
     "metadata": {},
     "output_type": "execute_result"
    }
   ],
   "source": [
    "r1 = df2  ==  2\n",
    "r2 = df2  == \"Krishna\"\n",
    "print(r1)\n",
    "print(r2)\n",
    "\n",
    "print()\n",
    "r3  = r1 | r2\n",
    "print(r3)\n",
    "\n",
    "df2[r3]"
   ]
  },
  {
   "cell_type": "code",
   "execution_count": 39,
   "metadata": {},
   "outputs": [
    {
     "name": "stdout",
     "output_type": "stream",
     "text": [
      "\n",
      "        Name  Number\n",
      "11  Abhiskek       2\n",
      "2    Krishna       3\n",
      "\n",
      "Name      Abhiskek\n",
      "Number           2\n",
      "Name: 11, dtype: object\n",
      "\n",
      "0        Gaurav\n",
      "11     Abhiskek\n",
      "2       Krishna\n",
      "3     Abhishek2\n",
      "Name: Name, dtype: object\n",
      "\n",
      "11    2\n",
      "2     3\n",
      "3     4\n",
      "Name: Number, dtype: int64\n",
      "\n",
      "Abhiskek\n"
     ]
    }
   ],
   "source": [
    "\n",
    "print()\n",
    "print(df2.loc[ [11,2] ]) # row-selection\n",
    "\n",
    "print()\n",
    "print(df2.loc[11])\n",
    "\n",
    "\n",
    "print()\n",
    "print(df2.loc[:, \"Name\"])\n",
    "\n",
    "print()\n",
    "print(df2.loc[11:, \"Number\"])\n",
    "\n",
    "print()\n",
    "print(df2.loc[11, \"Name\"])"
   ]
  },
  {
   "cell_type": "code",
   "execution_count": 40,
   "metadata": {},
   "outputs": [
    {
     "name": "stdout",
     "output_type": "stream",
     "text": [
      "0    10\n",
      "1    20\n",
      "2    10\n",
      "3    10\n",
      "4    30\n",
      "5    20\n",
      "dtype: int64\n",
      "0    10\n",
      "1    20\n",
      "2    10\n",
      "3    10\n",
      "4    30\n",
      "5    20\n",
      "Name: S4, dtype: int64\n"
     ]
    }
   ],
   "source": [
    "print(s4)\n",
    "s4.name = 'S4'\n",
    "print(s4)"
   ]
  },
  {
   "cell_type": "code",
   "execution_count": 41,
   "metadata": {},
   "outputs": [
    {
     "name": "stdout",
     "output_type": "stream",
     "text": [
      "(10, 3)\n",
      "\n",
      "Name      9\n",
      "Age       9\n",
      "Gender    9\n",
      "dtype: int64\n",
      "\n",
      "0     3\n",
      "10    3\n",
      "20    3\n",
      "30    3\n",
      "40    3\n",
      "50    3\n",
      "60    3\n",
      "70    2\n",
      "80    2\n",
      "90    2\n",
      "dtype: int64\n"
     ]
    }
   ],
   "source": [
    "# aggregate operations (with and without axis : row-1, col-0)\n",
    "# min, max, count, ...\n",
    "print(df1.shape)\n",
    "print()\n",
    "print(df1.count()) # count non-na values\n",
    "\n",
    "print()\n",
    "print(df1.count(axis=1)) # count non-na values"
   ]
  },
  {
   "cell_type": "code",
   "execution_count": 42,
   "metadata": {},
   "outputs": [
    {
     "name": "stdout",
     "output_type": "stream",
     "text": [
      "         Name    Age  Gender\n",
      "0    Gaurav-1    0.0     0.0\n",
      "10  Abhishek1   10.0     0.0\n",
      "20    Krishna  200.0     0.0\n",
      "30  Abhishek2  200.0     0.0\n",
      "40   Harshita   10.0     1.0\n",
      "         Name    Age  Gender\n",
      "0    Gaurav-1    1.0     0.0\n",
      "10  Abhishek1   11.0     0.0\n",
      "20    Krishna  201.0     0.0\n",
      "30  Abhishek2  201.0     0.0\n",
      "40   Harshita   11.0     1.0\n"
     ]
    }
   ],
   "source": [
    "# arithmetic operations\n",
    "print(df1.head())\n",
    "df1.Age = df1.Age + 1\n",
    "\n",
    "print(df1.head())"
   ]
  },
  {
   "cell_type": "code",
   "execution_count": 43,
   "metadata": {},
   "outputs": [],
   "source": [
    "# Na Values: isna, fillna, dropna"
   ]
  },
  {
   "cell_type": "code",
   "execution_count": 44,
   "metadata": {},
   "outputs": [
    {
     "name": "stdout",
     "output_type": "stream",
     "text": [
      "     Name    Age  Gender\n",
      "0   False  False   False\n",
      "10  False  False   False\n",
      "20  False  False   False\n",
      "30  False  False   False\n",
      "40  False  False   False\n",
      "50  False  False   False\n",
      "60  False  False   False\n",
      "70  False  False    True\n",
      "80  False   True   False\n",
      "90   True  False   False\n"
     ]
    }
   ],
   "source": [
    "# any, all\n",
    "r = df1.isna()\n",
    "print(r)"
   ]
  },
  {
   "cell_type": "code",
   "execution_count": 45,
   "metadata": {},
   "outputs": [
    {
     "name": "stdout",
     "output_type": "stream",
     "text": [
      "Name      True\n",
      "Age       True\n",
      "Gender    True\n",
      "dtype: bool\n",
      "\n",
      "0     False\n",
      "10    False\n",
      "20    False\n",
      "30    False\n",
      "40    False\n",
      "50    False\n",
      "60    False\n",
      "70     True\n",
      "80     True\n",
      "90     True\n",
      "dtype: bool\n"
     ]
    }
   ],
   "source": [
    "print(r.any())\n",
    "print()\n",
    "print(r.any(axis=1))"
   ]
  },
  {
   "cell_type": "code",
   "execution_count": 46,
   "metadata": {},
   "outputs": [
    {
     "name": "stdout",
     "output_type": "stream",
     "text": [
      "Name      NaN\n",
      "Age       201\n",
      "Gender      0\n",
      "dtype: object\n",
      "         Name    Age  Gender\n",
      "0    Gaurav-1    1.0     0.0\n",
      "10  Abhishek1   11.0     0.0\n",
      "20    Krishna  201.0     0.0\n",
      "30  Abhishek2  201.0     0.0\n",
      "40   Harshita   11.0     1.0\n",
      "50       Joey  201.0     1.0\n",
      "60     Shweta    4.0     1.0\n",
      "70       na-1   11.0     NaN\n",
      "80       na-2    NaN     0.0\n",
      "90        NaN  201.0     0.0\n"
     ]
    }
   ],
   "source": [
    "print(df1.all(skipna=False))\n",
    "print(df1)"
   ]
  },
  {
   "cell_type": "code",
   "execution_count": 47,
   "metadata": {},
   "outputs": [
    {
     "name": "stdout",
     "output_type": "stream",
     "text": [
      "Name       True\n",
      "Age        True\n",
      "Gender    False\n",
      "dtype: bool\n",
      "         Name    Age  Gender\n",
      "0    Gaurav-1    1.0     0.0\n",
      "10  Abhishek1   11.0     0.0\n",
      "20    Krishna  201.0     0.0\n",
      "30  Abhishek2  201.0     0.0\n",
      "40   Harshita   11.0     1.0\n",
      "50       Joey  201.0     1.0\n",
      "60     Shweta    4.0     1.0\n",
      "70       na-1   11.0     NaN\n",
      "80       na-2    NaN     0.0\n",
      "90        NaN  201.0     0.0\n"
     ]
    }
   ],
   "source": [
    "print(df1.all(skipna=True))\n",
    "print(df1)"
   ]
  },
  {
   "cell_type": "code",
   "execution_count": 48,
   "metadata": {},
   "outputs": [
    {
     "name": "stdout",
     "output_type": "stream",
     "text": [
      "0\n",
      "10\n",
      "\n",
      "1\n",
      "10\n",
      "0.0\n"
     ]
    }
   ],
   "source": [
    "print(1 and 0)\n",
    "print(1 and 10)\n",
    "\n",
    "print()\n",
    "print(1 or 0)\n",
    "print('' or 10 or 0)\n",
    "print('' or 0.0)"
   ]
  },
  {
   "cell_type": "code",
   "execution_count": 49,
   "metadata": {},
   "outputs": [
    {
     "data": {
      "text/html": [
       "<div>\n",
       "<style scoped>\n",
       "    .dataframe tbody tr th:only-of-type {\n",
       "        vertical-align: middle;\n",
       "    }\n",
       "\n",
       "    .dataframe tbody tr th {\n",
       "        vertical-align: top;\n",
       "    }\n",
       "\n",
       "    .dataframe thead th {\n",
       "        text-align: right;\n",
       "    }\n",
       "</style>\n",
       "<table border=\"1\" class=\"dataframe\">\n",
       "  <thead>\n",
       "    <tr style=\"text-align: right;\">\n",
       "      <th></th>\n",
       "      <th>Name</th>\n",
       "      <th>Number</th>\n",
       "    </tr>\n",
       "  </thead>\n",
       "  <tbody>\n",
       "    <tr>\n",
       "      <th>0</th>\n",
       "      <td>Gaurav</td>\n",
       "      <td>1</td>\n",
       "    </tr>\n",
       "    <tr>\n",
       "      <th>2</th>\n",
       "      <td>Krishna</td>\n",
       "      <td>3</td>\n",
       "    </tr>\n",
       "    <tr>\n",
       "      <th>3</th>\n",
       "      <td>Abhishek2</td>\n",
       "      <td>4</td>\n",
       "    </tr>\n",
       "    <tr>\n",
       "      <th>11</th>\n",
       "      <td>Abhiskek</td>\n",
       "      <td>2</td>\n",
       "    </tr>\n",
       "  </tbody>\n",
       "</table>\n",
       "</div>"
      ],
      "text/plain": [
       "         Name  Number\n",
       "0      Gaurav       1\n",
       "2     Krishna       3\n",
       "3   Abhishek2       4\n",
       "11   Abhiskek       2"
      ]
     },
     "execution_count": 49,
     "metadata": {},
     "output_type": "execute_result"
    }
   ],
   "source": [
    "# ordering data, sort_values\n",
    "df2.sort_index()"
   ]
  },
  {
   "cell_type": "code",
   "execution_count": 50,
   "metadata": {},
   "outputs": [
    {
     "data": {
      "text/html": [
       "<div>\n",
       "<style scoped>\n",
       "    .dataframe tbody tr th:only-of-type {\n",
       "        vertical-align: middle;\n",
       "    }\n",
       "\n",
       "    .dataframe tbody tr th {\n",
       "        vertical-align: top;\n",
       "    }\n",
       "\n",
       "    .dataframe thead th {\n",
       "        text-align: right;\n",
       "    }\n",
       "</style>\n",
       "<table border=\"1\" class=\"dataframe\">\n",
       "  <thead>\n",
       "    <tr style=\"text-align: right;\">\n",
       "      <th></th>\n",
       "      <th>Name</th>\n",
       "      <th>Number</th>\n",
       "    </tr>\n",
       "  </thead>\n",
       "  <tbody>\n",
       "    <tr>\n",
       "      <th>3</th>\n",
       "      <td>Abhishek2</td>\n",
       "      <td>4</td>\n",
       "    </tr>\n",
       "    <tr>\n",
       "      <th>11</th>\n",
       "      <td>Abhiskek</td>\n",
       "      <td>2</td>\n",
       "    </tr>\n",
       "    <tr>\n",
       "      <th>0</th>\n",
       "      <td>Gaurav</td>\n",
       "      <td>1</td>\n",
       "    </tr>\n",
       "    <tr>\n",
       "      <th>2</th>\n",
       "      <td>Krishna</td>\n",
       "      <td>3</td>\n",
       "    </tr>\n",
       "  </tbody>\n",
       "</table>\n",
       "</div>"
      ],
      "text/plain": [
       "         Name  Number\n",
       "3   Abhishek2       4\n",
       "11   Abhiskek       2\n",
       "0      Gaurav       1\n",
       "2     Krishna       3"
      ]
     },
     "execution_count": 50,
     "metadata": {},
     "output_type": "execute_result"
    }
   ],
   "source": [
    "df2.sort_values(by='Name')"
   ]
  },
  {
   "cell_type": "code",
   "execution_count": 51,
   "metadata": {},
   "outputs": [
    {
     "data": {
      "text/html": [
       "<div>\n",
       "<style scoped>\n",
       "    .dataframe tbody tr th:only-of-type {\n",
       "        vertical-align: middle;\n",
       "    }\n",
       "\n",
       "    .dataframe tbody tr th {\n",
       "        vertical-align: top;\n",
       "    }\n",
       "\n",
       "    .dataframe thead th {\n",
       "        text-align: right;\n",
       "    }\n",
       "</style>\n",
       "<table border=\"1\" class=\"dataframe\">\n",
       "  <thead>\n",
       "    <tr style=\"text-align: right;\">\n",
       "      <th></th>\n",
       "      <th>Name</th>\n",
       "      <th>Age</th>\n",
       "      <th>Gender</th>\n",
       "    </tr>\n",
       "  </thead>\n",
       "  <tbody>\n",
       "    <tr>\n",
       "      <th>10</th>\n",
       "      <td>Abhishek1</td>\n",
       "      <td>11.0</td>\n",
       "      <td>0.0</td>\n",
       "    </tr>\n",
       "    <tr>\n",
       "      <th>30</th>\n",
       "      <td>Abhishek2</td>\n",
       "      <td>201.0</td>\n",
       "      <td>0.0</td>\n",
       "    </tr>\n",
       "    <tr>\n",
       "      <th>0</th>\n",
       "      <td>Gaurav-1</td>\n",
       "      <td>1.0</td>\n",
       "      <td>0.0</td>\n",
       "    </tr>\n",
       "    <tr>\n",
       "      <th>40</th>\n",
       "      <td>Harshita</td>\n",
       "      <td>11.0</td>\n",
       "      <td>1.0</td>\n",
       "    </tr>\n",
       "    <tr>\n",
       "      <th>50</th>\n",
       "      <td>Joey</td>\n",
       "      <td>201.0</td>\n",
       "      <td>1.0</td>\n",
       "    </tr>\n",
       "    <tr>\n",
       "      <th>20</th>\n",
       "      <td>Krishna</td>\n",
       "      <td>201.0</td>\n",
       "      <td>0.0</td>\n",
       "    </tr>\n",
       "    <tr>\n",
       "      <th>60</th>\n",
       "      <td>Shweta</td>\n",
       "      <td>4.0</td>\n",
       "      <td>1.0</td>\n",
       "    </tr>\n",
       "    <tr>\n",
       "      <th>70</th>\n",
       "      <td>na-1</td>\n",
       "      <td>11.0</td>\n",
       "      <td>NaN</td>\n",
       "    </tr>\n",
       "    <tr>\n",
       "      <th>80</th>\n",
       "      <td>na-2</td>\n",
       "      <td>NaN</td>\n",
       "      <td>0.0</td>\n",
       "    </tr>\n",
       "    <tr>\n",
       "      <th>90</th>\n",
       "      <td>NaN</td>\n",
       "      <td>201.0</td>\n",
       "      <td>0.0</td>\n",
       "    </tr>\n",
       "  </tbody>\n",
       "</table>\n",
       "</div>"
      ],
      "text/plain": [
       "         Name    Age  Gender\n",
       "10  Abhishek1   11.0     0.0\n",
       "30  Abhishek2  201.0     0.0\n",
       "0    Gaurav-1    1.0     0.0\n",
       "40   Harshita   11.0     1.0\n",
       "50       Joey  201.0     1.0\n",
       "20    Krishna  201.0     0.0\n",
       "60     Shweta    4.0     1.0\n",
       "70       na-1   11.0     NaN\n",
       "80       na-2    NaN     0.0\n",
       "90        NaN  201.0     0.0"
      ]
     },
     "execution_count": 51,
     "metadata": {},
     "output_type": "execute_result"
    }
   ],
   "source": [
    "df1.sort_values(by='Name')"
   ]
  },
  {
   "cell_type": "code",
   "execution_count": 52,
   "metadata": {},
   "outputs": [
    {
     "data": {
      "text/html": [
       "<div>\n",
       "<style scoped>\n",
       "    .dataframe tbody tr th:only-of-type {\n",
       "        vertical-align: middle;\n",
       "    }\n",
       "\n",
       "    .dataframe tbody tr th {\n",
       "        vertical-align: top;\n",
       "    }\n",
       "\n",
       "    .dataframe thead th {\n",
       "        text-align: right;\n",
       "    }\n",
       "</style>\n",
       "<table border=\"1\" class=\"dataframe\">\n",
       "  <thead>\n",
       "    <tr style=\"text-align: right;\">\n",
       "      <th></th>\n",
       "      <th>Name</th>\n",
       "      <th>Age</th>\n",
       "      <th>Gender</th>\n",
       "    </tr>\n",
       "  </thead>\n",
       "  <tbody>\n",
       "    <tr>\n",
       "      <th>0</th>\n",
       "      <td>Gaurav-1</td>\n",
       "      <td>1.0</td>\n",
       "      <td>0.0</td>\n",
       "    </tr>\n",
       "    <tr>\n",
       "      <th>60</th>\n",
       "      <td>Shweta</td>\n",
       "      <td>4.0</td>\n",
       "      <td>1.0</td>\n",
       "    </tr>\n",
       "    <tr>\n",
       "      <th>10</th>\n",
       "      <td>Abhishek1</td>\n",
       "      <td>11.0</td>\n",
       "      <td>0.0</td>\n",
       "    </tr>\n",
       "    <tr>\n",
       "      <th>40</th>\n",
       "      <td>Harshita</td>\n",
       "      <td>11.0</td>\n",
       "      <td>1.0</td>\n",
       "    </tr>\n",
       "    <tr>\n",
       "      <th>70</th>\n",
       "      <td>na-1</td>\n",
       "      <td>11.0</td>\n",
       "      <td>NaN</td>\n",
       "    </tr>\n",
       "    <tr>\n",
       "      <th>20</th>\n",
       "      <td>Krishna</td>\n",
       "      <td>201.0</td>\n",
       "      <td>0.0</td>\n",
       "    </tr>\n",
       "    <tr>\n",
       "      <th>30</th>\n",
       "      <td>Abhishek2</td>\n",
       "      <td>201.0</td>\n",
       "      <td>0.0</td>\n",
       "    </tr>\n",
       "    <tr>\n",
       "      <th>50</th>\n",
       "      <td>Joey</td>\n",
       "      <td>201.0</td>\n",
       "      <td>1.0</td>\n",
       "    </tr>\n",
       "    <tr>\n",
       "      <th>90</th>\n",
       "      <td>NaN</td>\n",
       "      <td>201.0</td>\n",
       "      <td>0.0</td>\n",
       "    </tr>\n",
       "    <tr>\n",
       "      <th>80</th>\n",
       "      <td>na-2</td>\n",
       "      <td>NaN</td>\n",
       "      <td>0.0</td>\n",
       "    </tr>\n",
       "  </tbody>\n",
       "</table>\n",
       "</div>"
      ],
      "text/plain": [
       "         Name    Age  Gender\n",
       "0    Gaurav-1    1.0     0.0\n",
       "60     Shweta    4.0     1.0\n",
       "10  Abhishek1   11.0     0.0\n",
       "40   Harshita   11.0     1.0\n",
       "70       na-1   11.0     NaN\n",
       "20    Krishna  201.0     0.0\n",
       "30  Abhishek2  201.0     0.0\n",
       "50       Joey  201.0     1.0\n",
       "90        NaN  201.0     0.0\n",
       "80       na-2    NaN     0.0"
      ]
     },
     "execution_count": 52,
     "metadata": {},
     "output_type": "execute_result"
    }
   ],
   "source": [
    "df1.sort_values(by=[\"Age\"])"
   ]
  },
  {
   "cell_type": "code",
   "execution_count": 53,
   "metadata": {},
   "outputs": [
    {
     "data": {
      "text/html": [
       "<div>\n",
       "<style scoped>\n",
       "    .dataframe tbody tr th:only-of-type {\n",
       "        vertical-align: middle;\n",
       "    }\n",
       "\n",
       "    .dataframe tbody tr th {\n",
       "        vertical-align: top;\n",
       "    }\n",
       "\n",
       "    .dataframe thead th {\n",
       "        text-align: right;\n",
       "    }\n",
       "</style>\n",
       "<table border=\"1\" class=\"dataframe\">\n",
       "  <thead>\n",
       "    <tr style=\"text-align: right;\">\n",
       "      <th></th>\n",
       "      <th>Name</th>\n",
       "      <th>Age</th>\n",
       "      <th>Gender</th>\n",
       "    </tr>\n",
       "  </thead>\n",
       "  <tbody>\n",
       "    <tr>\n",
       "      <th>0</th>\n",
       "      <td>Gaurav-1</td>\n",
       "      <td>1.0</td>\n",
       "      <td>0.0</td>\n",
       "    </tr>\n",
       "    <tr>\n",
       "      <th>60</th>\n",
       "      <td>Shweta</td>\n",
       "      <td>4.0</td>\n",
       "      <td>1.0</td>\n",
       "    </tr>\n",
       "    <tr>\n",
       "      <th>10</th>\n",
       "      <td>Abhishek1</td>\n",
       "      <td>11.0</td>\n",
       "      <td>0.0</td>\n",
       "    </tr>\n",
       "    <tr>\n",
       "      <th>40</th>\n",
       "      <td>Harshita</td>\n",
       "      <td>11.0</td>\n",
       "      <td>1.0</td>\n",
       "    </tr>\n",
       "    <tr>\n",
       "      <th>70</th>\n",
       "      <td>na-1</td>\n",
       "      <td>11.0</td>\n",
       "      <td>NaN</td>\n",
       "    </tr>\n",
       "    <tr>\n",
       "      <th>30</th>\n",
       "      <td>Abhishek2</td>\n",
       "      <td>201.0</td>\n",
       "      <td>0.0</td>\n",
       "    </tr>\n",
       "    <tr>\n",
       "      <th>50</th>\n",
       "      <td>Joey</td>\n",
       "      <td>201.0</td>\n",
       "      <td>1.0</td>\n",
       "    </tr>\n",
       "    <tr>\n",
       "      <th>20</th>\n",
       "      <td>Krishna</td>\n",
       "      <td>201.0</td>\n",
       "      <td>0.0</td>\n",
       "    </tr>\n",
       "    <tr>\n",
       "      <th>90</th>\n",
       "      <td>NaN</td>\n",
       "      <td>201.0</td>\n",
       "      <td>0.0</td>\n",
       "    </tr>\n",
       "    <tr>\n",
       "      <th>80</th>\n",
       "      <td>na-2</td>\n",
       "      <td>NaN</td>\n",
       "      <td>0.0</td>\n",
       "    </tr>\n",
       "  </tbody>\n",
       "</table>\n",
       "</div>"
      ],
      "text/plain": [
       "         Name    Age  Gender\n",
       "0    Gaurav-1    1.0     0.0\n",
       "60     Shweta    4.0     1.0\n",
       "10  Abhishek1   11.0     0.0\n",
       "40   Harshita   11.0     1.0\n",
       "70       na-1   11.0     NaN\n",
       "30  Abhishek2  201.0     0.0\n",
       "50       Joey  201.0     1.0\n",
       "20    Krishna  201.0     0.0\n",
       "90        NaN  201.0     0.0\n",
       "80       na-2    NaN     0.0"
      ]
     },
     "execution_count": 53,
     "metadata": {},
     "output_type": "execute_result"
    }
   ],
   "source": [
    "df1.sort_values(by=[\"Age\", \"Name\"])"
   ]
  },
  {
   "cell_type": "code",
   "execution_count": 54,
   "metadata": {},
   "outputs": [
    {
     "data": {
      "text/html": [
       "<div>\n",
       "<style scoped>\n",
       "    .dataframe tbody tr th:only-of-type {\n",
       "        vertical-align: middle;\n",
       "    }\n",
       "\n",
       "    .dataframe tbody tr th {\n",
       "        vertical-align: top;\n",
       "    }\n",
       "\n",
       "    .dataframe thead th {\n",
       "        text-align: right;\n",
       "    }\n",
       "</style>\n",
       "<table border=\"1\" class=\"dataframe\">\n",
       "  <thead>\n",
       "    <tr style=\"text-align: right;\">\n",
       "      <th></th>\n",
       "      <th>Name</th>\n",
       "      <th>Age</th>\n",
       "      <th>Gender</th>\n",
       "    </tr>\n",
       "  </thead>\n",
       "  <tbody>\n",
       "    <tr>\n",
       "      <th>0</th>\n",
       "      <td>Gaurav-1</td>\n",
       "      <td>1.0</td>\n",
       "      <td>0.0</td>\n",
       "    </tr>\n",
       "    <tr>\n",
       "      <th>1</th>\n",
       "      <td>Shweta</td>\n",
       "      <td>4.0</td>\n",
       "      <td>1.0</td>\n",
       "    </tr>\n",
       "    <tr>\n",
       "      <th>2</th>\n",
       "      <td>Abhishek1</td>\n",
       "      <td>11.0</td>\n",
       "      <td>0.0</td>\n",
       "    </tr>\n",
       "    <tr>\n",
       "      <th>3</th>\n",
       "      <td>Harshita</td>\n",
       "      <td>11.0</td>\n",
       "      <td>1.0</td>\n",
       "    </tr>\n",
       "    <tr>\n",
       "      <th>4</th>\n",
       "      <td>na-1</td>\n",
       "      <td>11.0</td>\n",
       "      <td>NaN</td>\n",
       "    </tr>\n",
       "    <tr>\n",
       "      <th>5</th>\n",
       "      <td>Abhishek2</td>\n",
       "      <td>201.0</td>\n",
       "      <td>0.0</td>\n",
       "    </tr>\n",
       "    <tr>\n",
       "      <th>6</th>\n",
       "      <td>Joey</td>\n",
       "      <td>201.0</td>\n",
       "      <td>1.0</td>\n",
       "    </tr>\n",
       "    <tr>\n",
       "      <th>7</th>\n",
       "      <td>Krishna</td>\n",
       "      <td>201.0</td>\n",
       "      <td>0.0</td>\n",
       "    </tr>\n",
       "    <tr>\n",
       "      <th>8</th>\n",
       "      <td>NaN</td>\n",
       "      <td>201.0</td>\n",
       "      <td>0.0</td>\n",
       "    </tr>\n",
       "    <tr>\n",
       "      <th>9</th>\n",
       "      <td>na-2</td>\n",
       "      <td>NaN</td>\n",
       "      <td>0.0</td>\n",
       "    </tr>\n",
       "  </tbody>\n",
       "</table>\n",
       "</div>"
      ],
      "text/plain": [
       "        Name    Age  Gender\n",
       "0   Gaurav-1    1.0     0.0\n",
       "1     Shweta    4.0     1.0\n",
       "2  Abhishek1   11.0     0.0\n",
       "3   Harshita   11.0     1.0\n",
       "4       na-1   11.0     NaN\n",
       "5  Abhishek2  201.0     0.0\n",
       "6       Joey  201.0     1.0\n",
       "7    Krishna  201.0     0.0\n",
       "8        NaN  201.0     0.0\n",
       "9       na-2    NaN     0.0"
      ]
     },
     "execution_count": 54,
     "metadata": {},
     "output_type": "execute_result"
    }
   ],
   "source": [
    "df1.sort_values(by=[\"Age\", \"Name\"], ignore_index=True)"
   ]
  },
  {
   "cell_type": "code",
   "execution_count": 55,
   "metadata": {},
   "outputs": [
    {
     "name": "stdout",
     "output_type": "stream",
     "text": [
      "         Name    Age  Gender\n",
      "0    Gaurav-1    1.0     0.0\n",
      "10  Abhishek1   11.0     0.0\n",
      "20    Krishna  201.0     0.0\n",
      "30  Abhishek2  201.0     0.0\n",
      "40   Harshita   11.0     1.0\n",
      "50       Joey  201.0     1.0\n",
      "60     Shweta    4.0     1.0\n",
      "70       na-1   11.0     NaN\n",
      "80       na-2    NaN     0.0\n",
      "90        NaN  201.0     0.0\n"
     ]
    }
   ],
   "source": [
    "print(df1)"
   ]
  },
  {
   "cell_type": "code",
   "execution_count": 56,
   "metadata": {},
   "outputs": [],
   "source": [
    "# row / column wise operation: apply\n",
    "tmp = pd.DataFrame(np.random.randint(10,20,20).reshape(5,4))"
   ]
  },
  {
   "cell_type": "code",
   "execution_count": 57,
   "metadata": {},
   "outputs": [
    {
     "name": "stdout",
     "output_type": "stream",
     "text": [
      "    0   1   2   3\n",
      "0  14  13  13  19\n",
      "1  15  10  17  11\n",
      "2  19  10  10  10\n",
      "3  14  17  17  11\n",
      "4  16  13  19  17\n"
     ]
    }
   ],
   "source": [
    "print(tmp)"
   ]
  },
  {
   "cell_type": "code",
   "execution_count": 58,
   "metadata": {},
   "outputs": [
    {
     "name": "stdout",
     "output_type": "stream",
     "text": [
      "0    19\n",
      "1    17\n",
      "2    19\n",
      "3    19\n",
      "dtype: int64\n"
     ]
    }
   ],
   "source": [
    "print(tmp.apply(max)) # column"
   ]
  },
  {
   "cell_type": "code",
   "execution_count": 59,
   "metadata": {},
   "outputs": [
    {
     "name": "stdout",
     "output_type": "stream",
     "text": [
      "          0         1         2         3\n",
      "0  3.741657  3.605551  3.605551  4.358899\n",
      "1  3.872983  3.162278  4.123106  3.316625\n",
      "2  4.358899  3.162278  3.162278  3.162278\n",
      "3  3.741657  4.123106  4.123106  3.316625\n",
      "4  4.000000  3.605551  4.358899  4.123106\n"
     ]
    }
   ],
   "source": [
    "print(tmp.apply(lambda x: np.sqrt(x)))"
   ]
  },
  {
   "cell_type": "code",
   "execution_count": 60,
   "metadata": {},
   "outputs": [
    {
     "name": "stdout",
     "output_type": "stream",
     "text": [
      "          0         1         2         3\n",
      "0  3.741657  3.605551  3.605551  4.358899\n",
      "1  3.872983  3.162278  4.123106  3.316625\n",
      "2  4.358899  3.162278  3.162278  3.162278\n",
      "3  3.741657  4.123106  4.123106  3.316625\n",
      "4  4.000000  3.605551  4.358899  4.123106\n"
     ]
    }
   ],
   "source": [
    "print(tmp.apply(np.sqrt)) # column"
   ]
  },
  {
   "cell_type": "code",
   "execution_count": 61,
   "metadata": {},
   "outputs": [
    {
     "data": {
      "text/plain": [
       "0    14\n",
       "1    13\n",
       "2    13\n",
       "3    19\n",
       "Name: 0, dtype: int64"
      ]
     },
     "execution_count": 61,
     "metadata": {},
     "output_type": "execute_result"
    }
   ],
   "source": [
    "tmp.iloc[0]"
   ]
  },
  {
   "cell_type": "code",
   "execution_count": 62,
   "metadata": {},
   "outputs": [
    {
     "data": {
      "text/html": [
       "<div>\n",
       "<style scoped>\n",
       "    .dataframe tbody tr th:only-of-type {\n",
       "        vertical-align: middle;\n",
       "    }\n",
       "\n",
       "    .dataframe tbody tr th {\n",
       "        vertical-align: top;\n",
       "    }\n",
       "\n",
       "    .dataframe thead th {\n",
       "        text-align: right;\n",
       "    }\n",
       "</style>\n",
       "<table border=\"1\" class=\"dataframe\">\n",
       "  <thead>\n",
       "    <tr style=\"text-align: right;\">\n",
       "      <th></th>\n",
       "      <th>0</th>\n",
       "      <th>1</th>\n",
       "      <th>2</th>\n",
       "      <th>3</th>\n",
       "    </tr>\n",
       "  </thead>\n",
       "  <tbody>\n",
       "    <tr>\n",
       "      <th>0</th>\n",
       "      <td>196</td>\n",
       "      <td>169</td>\n",
       "      <td>169</td>\n",
       "      <td>361</td>\n",
       "    </tr>\n",
       "    <tr>\n",
       "      <th>1</th>\n",
       "      <td>225</td>\n",
       "      <td>100</td>\n",
       "      <td>289</td>\n",
       "      <td>121</td>\n",
       "    </tr>\n",
       "    <tr>\n",
       "      <th>2</th>\n",
       "      <td>361</td>\n",
       "      <td>100</td>\n",
       "      <td>100</td>\n",
       "      <td>100</td>\n",
       "    </tr>\n",
       "    <tr>\n",
       "      <th>3</th>\n",
       "      <td>196</td>\n",
       "      <td>289</td>\n",
       "      <td>289</td>\n",
       "      <td>121</td>\n",
       "    </tr>\n",
       "    <tr>\n",
       "      <th>4</th>\n",
       "      <td>256</td>\n",
       "      <td>169</td>\n",
       "      <td>361</td>\n",
       "      <td>289</td>\n",
       "    </tr>\n",
       "  </tbody>\n",
       "</table>\n",
       "</div>"
      ],
      "text/plain": [
       "     0    1    2    3\n",
       "0  196  169  169  361\n",
       "1  225  100  289  121\n",
       "2  361  100  100  100\n",
       "3  196  289  289  121\n",
       "4  256  169  361  289"
      ]
     },
     "execution_count": 62,
     "metadata": {},
     "output_type": "execute_result"
    }
   ],
   "source": [
    "tmp.applymap(lambda x: x**2)"
   ]
  },
  {
   "cell_type": "code",
   "execution_count": 63,
   "metadata": {},
   "outputs": [
    {
     "data": {
      "text/plain": [
       "<pandas.core.strings.StringMethods at 0x7f045004e1c0>"
      ]
     },
     "execution_count": 63,
     "metadata": {},
     "output_type": "execute_result"
    }
   ],
   "source": [
    "# str submodule (replace etc)\n",
    "df1.Name.str"
   ]
  },
  {
   "cell_type": "code",
   "execution_count": 64,
   "metadata": {},
   "outputs": [
    {
     "name": "stdout",
     "output_type": "stream",
     "text": [
      "         Name    Age  Gender\n",
      "0    Gaurav-1    1.0     0.0\n",
      "10  Abhishek1   11.0     0.0\n",
      "20    Krishna  201.0     0.0\n",
      "30  Abhishek2  201.0     0.0\n",
      "40   Harshita   11.0     1.0\n",
      "0     False\n",
      "10     True\n",
      "20    False\n",
      "30    False\n",
      "40    False\n",
      "50    False\n",
      "60    False\n",
      "70    False\n",
      "80    False\n",
      "90    False\n",
      "dtype: bool\n"
     ]
    },
    {
     "data": {
      "text/html": [
       "<div>\n",
       "<style scoped>\n",
       "    .dataframe tbody tr th:only-of-type {\n",
       "        vertical-align: middle;\n",
       "    }\n",
       "\n",
       "    .dataframe tbody tr th {\n",
       "        vertical-align: top;\n",
       "    }\n",
       "\n",
       "    .dataframe thead th {\n",
       "        text-align: right;\n",
       "    }\n",
       "</style>\n",
       "<table border=\"1\" class=\"dataframe\">\n",
       "  <thead>\n",
       "    <tr style=\"text-align: right;\">\n",
       "      <th></th>\n",
       "      <th>Name</th>\n",
       "      <th>Age</th>\n",
       "    </tr>\n",
       "  </thead>\n",
       "  <tbody>\n",
       "    <tr>\n",
       "      <th>10</th>\n",
       "      <td>Abhishek1</td>\n",
       "      <td>11.0</td>\n",
       "    </tr>\n",
       "  </tbody>\n",
       "</table>\n",
       "</div>"
      ],
      "text/plain": [
       "         Name   Age\n",
       "10  Abhishek1  11.0"
      ]
     },
     "execution_count": 64,
     "metadata": {},
     "output_type": "execute_result"
    }
   ],
   "source": [
    "print(df1.head())\n",
    "\n",
    "# select Name, Age from Table where Name like  \"A%\" and Age < 100;\n",
    "\n",
    "idx = (df1.Name.str.startswith(\"A\")) & (df1.Age < 100)\n",
    "print(idx)\n",
    "df1[idx].loc[ :,[\"Name\", \"Age\"] ]"
   ]
  },
  {
   "cell_type": "code",
   "execution_count": 65,
   "metadata": {},
   "outputs": [],
   "source": [
    "# load and save data"
   ]
  },
  {
   "cell_type": "code",
   "execution_count": 66,
   "metadata": {},
   "outputs": [
    {
     "name": "stdout",
     "output_type": "stream",
     "text": [
      "         Name    Age  Gender\n",
      "0    Gaurav-1    1.0     0.0\n",
      "10  Abhishek1   11.0     0.0\n",
      "20    Krishna  201.0     0.0\n",
      "30  Abhishek2  201.0     0.0\n",
      "40   Harshita   11.0     1.0\n",
      "50       Joey  201.0     1.0\n",
      "60     Shweta    4.0     1.0\n",
      "70       na-1   11.0     NaN\n",
      "80       na-2    NaN     0.0\n",
      "90        NaN  201.0     0.0\n"
     ]
    }
   ],
   "source": [
    "print(df1)"
   ]
  },
  {
   "cell_type": "code",
   "execution_count": 67,
   "metadata": {},
   "outputs": [
    {
     "name": "stdout",
     "output_type": "stream",
     "text": [
      "<pandas.core.groupby.generic.DataFrameGroupBy object at 0x7f0450056760>\n",
      "{1.0: Int64Index([0], dtype='int64'), 4.0: Int64Index([60], dtype='int64'), 11.0: Int64Index([10, 40, 70], dtype='int64'), 201.0: Int64Index([20, 30, 50, 90], dtype='int64')}\n"
     ]
    }
   ],
   "source": [
    "# groups: groupby\n",
    "grp = df1.groupby(by='Age')\n",
    "print(grp)\n",
    "\n",
    "print(grp.groups)\n"
   ]
  },
  {
   "cell_type": "code",
   "execution_count": 68,
   "metadata": {},
   "outputs": [
    {
     "data": {
      "text/plain": [
       "Age\n",
       "1.0      1\n",
       "4.0      1\n",
       "11.0     2\n",
       "201.0    4\n",
       "Name: Gender, dtype: int64"
      ]
     },
     "execution_count": 68,
     "metadata": {},
     "output_type": "execute_result"
    }
   ],
   "source": [
    "# count non-na values in Gender column, group wise\n",
    "grp.Gender.count()"
   ]
  },
  {
   "cell_type": "code",
   "execution_count": 69,
   "metadata": {},
   "outputs": [
    {
     "data": {
      "text/html": [
       "<div>\n",
       "<style scoped>\n",
       "    .dataframe tbody tr th:only-of-type {\n",
       "        vertical-align: middle;\n",
       "    }\n",
       "\n",
       "    .dataframe tbody tr th {\n",
       "        vertical-align: top;\n",
       "    }\n",
       "\n",
       "    .dataframe thead th {\n",
       "        text-align: right;\n",
       "    }\n",
       "</style>\n",
       "<table border=\"1\" class=\"dataframe\">\n",
       "  <thead>\n",
       "    <tr style=\"text-align: right;\">\n",
       "      <th></th>\n",
       "      <th>Name</th>\n",
       "      <th>Gender</th>\n",
       "    </tr>\n",
       "    <tr>\n",
       "      <th>Age</th>\n",
       "      <th></th>\n",
       "      <th></th>\n",
       "    </tr>\n",
       "  </thead>\n",
       "  <tbody>\n",
       "    <tr>\n",
       "      <th>1.0</th>\n",
       "      <td>1</td>\n",
       "      <td>1</td>\n",
       "    </tr>\n",
       "    <tr>\n",
       "      <th>4.0</th>\n",
       "      <td>1</td>\n",
       "      <td>1</td>\n",
       "    </tr>\n",
       "    <tr>\n",
       "      <th>11.0</th>\n",
       "      <td>3</td>\n",
       "      <td>2</td>\n",
       "    </tr>\n",
       "    <tr>\n",
       "      <th>201.0</th>\n",
       "      <td>3</td>\n",
       "      <td>4</td>\n",
       "    </tr>\n",
       "  </tbody>\n",
       "</table>\n",
       "</div>"
      ],
      "text/plain": [
       "       Name  Gender\n",
       "Age                \n",
       "1.0       1       1\n",
       "4.0       1       1\n",
       "11.0      3       2\n",
       "201.0     3       4"
      ]
     },
     "execution_count": 69,
     "metadata": {},
     "output_type": "execute_result"
    }
   ],
   "source": [
    "# count non-na values for each col, group wise\n",
    "grp.count()"
   ]
  },
  {
   "cell_type": "code",
   "execution_count": 70,
   "metadata": {},
   "outputs": [
    {
     "data": {
      "text/plain": [
       "Age\n",
       "1.0      1\n",
       "4.0      1\n",
       "11.0     3\n",
       "201.0    4\n",
       "dtype: int64"
      ]
     },
     "execution_count": 70,
     "metadata": {},
     "output_type": "execute_result"
    }
   ],
   "source": [
    "# count no of elements/size in each group\n",
    "grp.size()"
   ]
  },
  {
   "cell_type": "code",
   "execution_count": 71,
   "metadata": {},
   "outputs": [],
   "source": [
    "# groups and aggregates"
   ]
  },
  {
   "cell_type": "code",
   "execution_count": 72,
   "metadata": {},
   "outputs": [
    {
     "name": "stdout",
     "output_type": "stream",
     "text": [
      "         Name    Age  Gender\n",
      "0    Gaurav-1    1.0     0.0\n",
      "10  Abhishek1   11.0     0.0\n",
      "20    Krishna  201.0     0.0\n",
      "30  Abhishek2  201.0     0.0\n",
      "40   Harshita   11.0     1.0\n",
      "50       Joey  201.0     1.0\n",
      "60     Shweta    4.0     1.0\n",
      "70       na-1   11.0     NaN\n",
      "80       na-2    NaN     0.0\n",
      "90        NaN  201.0     0.0\n"
     ]
    }
   ],
   "source": [
    "print(df1)"
   ]
  },
  {
   "cell_type": "code",
   "execution_count": 74,
   "metadata": {},
   "outputs": [
    {
     "name": "stdout",
     "output_type": "stream",
     "text": [
      "         Name    Age  Gender\n",
      "0    Gaurav-1    1.0     0.0\n",
      "10  Abhishek1   11.0     0.0\n",
      "20    Krishna  201.0     0.0\n",
      "30  Abhishek2  201.0     0.0\n",
      "40   Harshita   11.0     1.0\n",
      "50       Joey  201.0     1.0\n",
      "60     Shweta    4.0     1.0\n"
     ]
    }
   ],
   "source": [
    "r  = df1.dropna()\n",
    "print(r)"
   ]
  },
  {
   "cell_type": "code",
   "execution_count": 79,
   "metadata": {},
   "outputs": [
    {
     "name": "stdout",
     "output_type": "stream",
     "text": [
      "Empty DataFrame\n",
      "Columns: []\n",
      "Index: [0, 10, 20, 30, 40, 50, 60, 70, 80, 90]\n"
     ]
    }
   ],
   "source": [
    "r  = df1.dropna(axis=1, thresh=10)\n",
    "print(r)"
   ]
  },
  {
   "cell_type": "code",
   "execution_count": 80,
   "metadata": {},
   "outputs": [
    {
     "name": "stdout",
     "output_type": "stream",
     "text": [
      "         Name    Age  Gender\n",
      "0    Gaurav-1    1.0     0.0\n",
      "10  Abhishek1   11.0     0.0\n",
      "20    Krishna  201.0     0.0\n",
      "30  Abhishek2  201.0     0.0\n",
      "40   Harshita   11.0     1.0\n",
      "50       Joey  201.0     1.0\n",
      "60     Shweta    4.0     1.0\n",
      "70       na-1   11.0     NaN\n",
      "80       na-2    NaN     0.0\n",
      "90        NaN  201.0     0.0\n"
     ]
    }
   ],
   "source": [
    "r  = df1.dropna(axis=1, thresh=8)\n",
    "print(r)"
   ]
  },
  {
   "cell_type": "code",
   "execution_count": 83,
   "metadata": {},
   "outputs": [
    {
     "data": {
      "text/html": [
       "<div>\n",
       "<style scoped>\n",
       "    .dataframe tbody tr th:only-of-type {\n",
       "        vertical-align: middle;\n",
       "    }\n",
       "\n",
       "    .dataframe tbody tr th {\n",
       "        vertical-align: top;\n",
       "    }\n",
       "\n",
       "    .dataframe thead th {\n",
       "        text-align: right;\n",
       "    }\n",
       "</style>\n",
       "<table border=\"1\" class=\"dataframe\">\n",
       "  <thead>\n",
       "    <tr style=\"text-align: right;\">\n",
       "      <th></th>\n",
       "      <th>Name</th>\n",
       "      <th>Age</th>\n",
       "      <th>Gender</th>\n",
       "    </tr>\n",
       "  </thead>\n",
       "  <tbody>\n",
       "    <tr>\n",
       "      <th>0</th>\n",
       "      <td>Gaurav-1</td>\n",
       "      <td>1.000000</td>\n",
       "      <td>0.0</td>\n",
       "    </tr>\n",
       "    <tr>\n",
       "      <th>10</th>\n",
       "      <td>Abhishek1</td>\n",
       "      <td>11.000000</td>\n",
       "      <td>0.0</td>\n",
       "    </tr>\n",
       "    <tr>\n",
       "      <th>20</th>\n",
       "      <td>Krishna</td>\n",
       "      <td>201.000000</td>\n",
       "      <td>0.0</td>\n",
       "    </tr>\n",
       "    <tr>\n",
       "      <th>30</th>\n",
       "      <td>Abhishek2</td>\n",
       "      <td>201.000000</td>\n",
       "      <td>0.0</td>\n",
       "    </tr>\n",
       "    <tr>\n",
       "      <th>40</th>\n",
       "      <td>Harshita</td>\n",
       "      <td>11.000000</td>\n",
       "      <td>1.0</td>\n",
       "    </tr>\n",
       "    <tr>\n",
       "      <th>50</th>\n",
       "      <td>Joey</td>\n",
       "      <td>201.000000</td>\n",
       "      <td>1.0</td>\n",
       "    </tr>\n",
       "    <tr>\n",
       "      <th>60</th>\n",
       "      <td>Shweta</td>\n",
       "      <td>4.000000</td>\n",
       "      <td>1.0</td>\n",
       "    </tr>\n",
       "    <tr>\n",
       "      <th>70</th>\n",
       "      <td>na-1</td>\n",
       "      <td>11.000000</td>\n",
       "      <td>NaN</td>\n",
       "    </tr>\n",
       "    <tr>\n",
       "      <th>80</th>\n",
       "      <td>na-2</td>\n",
       "      <td>93.555556</td>\n",
       "      <td>0.0</td>\n",
       "    </tr>\n",
       "    <tr>\n",
       "      <th>90</th>\n",
       "      <td>Temp</td>\n",
       "      <td>201.000000</td>\n",
       "      <td>0.0</td>\n",
       "    </tr>\n",
       "  </tbody>\n",
       "</table>\n",
       "</div>"
      ],
      "text/plain": [
       "         Name         Age  Gender\n",
       "0    Gaurav-1    1.000000     0.0\n",
       "10  Abhishek1   11.000000     0.0\n",
       "20    Krishna  201.000000     0.0\n",
       "30  Abhishek2  201.000000     0.0\n",
       "40   Harshita   11.000000     1.0\n",
       "50       Joey  201.000000     1.0\n",
       "60     Shweta    4.000000     1.0\n",
       "70       na-1   11.000000     NaN\n",
       "80       na-2   93.555556     0.0\n",
       "90       Temp  201.000000     0.0"
      ]
     },
     "execution_count": 83,
     "metadata": {},
     "output_type": "execute_result"
    }
   ],
   "source": [
    "df1.fillna({\"Name\":\"Temp\", \"Age\":df1.Age.mean()})"
   ]
  },
  {
   "cell_type": "code",
   "execution_count": null,
   "metadata": {},
   "outputs": [],
   "source": [
    "[1 1 2 NAN NAN NAN 2 3 ]"
   ]
  },
  {
   "cell_type": "code",
   "execution_count": 85,
   "metadata": {},
   "outputs": [
    {
     "name": "stdout",
     "output_type": "stream",
     "text": [
      "['Age', 'Gender', 'Name', 'T', '_AXIS_ALIASES', '_AXIS_IALIASES', '_AXIS_LEN', '_AXIS_NAMES', '_AXIS_NUMBERS', '_AXIS_ORDERS', '_AXIS_REVERSED', '__abs__', '__add__', '__and__', '__annotations__', '__array__', '__array_priority__', '__array_wrap__', '__bool__', '__class__', '__contains__', '__copy__', '__deepcopy__', '__delattr__', '__delitem__', '__dict__', '__dir__', '__div__', '__doc__', '__eq__', '__finalize__', '__floordiv__', '__format__', '__ge__', '__getattr__', '__getattribute__', '__getitem__', '__getstate__', '__gt__', '__hash__', '__iadd__', '__iand__', '__ifloordiv__', '__imod__', '__imul__', '__init__', '__init_subclass__', '__invert__', '__ior__', '__ipow__', '__isub__', '__iter__', '__itruediv__', '__ixor__', '__le__', '__len__', '__lt__', '__matmul__', '__mod__', '__module__', '__mul__', '__ne__', '__neg__', '__new__', '__nonzero__', '__or__', '__pos__', '__pow__', '__radd__', '__rand__', '__rdiv__', '__reduce__', '__reduce_ex__', '__repr__', '__rfloordiv__', '__rmatmul__', '__rmod__', '__rmul__', '__ror__', '__round__', '__rpow__', '__rsub__', '__rtruediv__', '__rxor__', '__setattr__', '__setitem__', '__setstate__', '__sizeof__', '__str__', '__sub__', '__subclasshook__', '__truediv__', '__weakref__', '__xor__', '_accessors', '_add_numeric_operations', '_add_series_or_dataframe_operations', '_agg_by_level', '_agg_examples_doc', '_agg_summary_and_see_also_doc', '_aggregate', '_aggregate_multiple_funcs', '_align_frame', '_align_series', '_box_col_values', '_box_item_values', '_builtin_table', '_check_inplace_setting', '_check_is_chained_assignment_possible', '_check_label_or_level_ambiguity', '_check_setitem_copy', '_clear_item_cache', '_clip_with_one_bound', '_clip_with_scalar', '_combine_frame', '_combine_match_index', '_consolidate', '_consolidate_inplace', '_construct_axes_dict', '_construct_axes_dict_from', '_construct_axes_from_arguments', '_construct_result', '_constructor', '_constructor_expanddim', '_constructor_sliced', '_convert', '_count_level', '_create_indexer', '_cython_table', '_deprecations', '_dir_additions', '_dir_deletions', '_drop_axis', '_drop_labels_or_levels', '_ensure_valid_index', '_find_valid_index', '_from_arrays', '_from_axes', '_get_agg_axis', '_get_axis', '_get_axis_name', '_get_axis_number', '_get_axis_resolvers', '_get_block_manager_axis', '_get_bool_data', '_get_cacher', '_get_cleaned_column_resolvers', '_get_cython_func', '_get_index_resolvers', '_get_item_cache', '_get_label_or_level_values', '_get_numeric_data', '_get_value', '_get_values', '_getitem_bool_array', '_getitem_multilevel', '_gotitem', '_iget_item_cache', '_indexed_same', '_info_axis', '_info_axis_name', '_info_axis_number', '_info_repr', '_init_mgr', '_internal_get_values', '_internal_names', '_internal_names_set', '_is_builtin_func', '_is_cached', '_is_copy', '_is_datelike_mixed_type', '_is_homogeneous_type', '_is_label_or_level_reference', '_is_label_reference', '_is_level_reference', '_is_mixed_type', '_is_numeric_mixed_type', '_is_view', '_ix', '_ixs', '_join_compat', '_maybe_cache_changed', '_maybe_update_cacher', '_metadata', '_needs_reindex_multi', '_obj_with_exclusions', '_protect_consolidate', '_reduce', '_reindex_axes', '_reindex_columns', '_reindex_index', '_reindex_multi', '_reindex_with_indexers', '_repr_data_resource_', '_repr_fits_horizontal_', '_repr_fits_vertical_', '_repr_html_', '_repr_latex_', '_reset_cache', '_reset_cacher', '_sanitize_column', '_selected_obj', '_selection', '_selection_list', '_selection_name', '_series', '_set_as_cached', '_set_axis', '_set_axis_name', '_set_is_copy', '_set_item', '_set_value', '_setitem_array', '_setitem_frame', '_setitem_slice', '_setup_axes', '_slice', '_stat_axis', '_stat_axis_name', '_stat_axis_number', '_take_with_is_copy', '_to_dict_of_blocks', '_try_aggregate_string_function', '_typ', '_update_inplace', '_validate_dtype', '_values', '_where', '_xs', 'abs', 'add', 'add_prefix', 'add_suffix', 'agg', 'aggregate', 'align', 'all', 'any', 'append', 'apply', 'applymap', 'asfreq', 'asof', 'assign', 'astype', 'at', 'at_time', 'attrs', 'axes', 'between_time', 'bfill', 'bool', 'boxplot', 'clip', 'columns', 'combine', 'combine_first', 'convert_dtypes', 'copy', 'corr', 'corrwith', 'count', 'cov', 'cummax', 'cummin', 'cumprod', 'cumsum', 'describe', 'diff', 'div', 'divide', 'dot', 'drop', 'drop_duplicates', 'droplevel', 'dropna', 'dtypes', 'duplicated', 'empty', 'eq', 'equals', 'eval', 'ewm', 'expanding', 'explode', 'ffill', 'fillna', 'filter', 'first', 'first_valid_index', 'floordiv', 'from_dict', 'from_records', 'ge', 'get', 'groupby', 'gt', 'head', 'hist', 'iat', 'idxmax', 'idxmin', 'iloc', 'index', 'infer_objects', 'info', 'insert', 'interpolate', 'isin', 'isna', 'isnull', 'items', 'iteritems', 'iterrows', 'itertuples', 'join', 'keys', 'kurt', 'kurtosis', 'last', 'last_valid_index', 'le', 'loc', 'lookup', 'lt', 'mad', 'mask', 'max', 'mean', 'median', 'melt', 'memory_usage', 'merge', 'min', 'mod', 'mode', 'mul', 'multiply', 'ndim', 'ne', 'nlargest', 'notna', 'notnull', 'nsmallest', 'nunique', 'pct_change', 'pipe', 'pivot', 'pivot_table', 'plot', 'pop', 'pow', 'prod', 'product', 'quantile', 'query', 'radd', 'rank', 'rdiv', 'reindex', 'reindex_like', 'rename', 'rename_axis', 'reorder_levels', 'replace', 'resample', 'reset_index', 'rfloordiv', 'rmod', 'rmul', 'rolling', 'round', 'rpow', 'rsub', 'rtruediv', 'sample', 'select_dtypes', 'sem', 'set_axis', 'set_index', 'shape', 'shift', 'size', 'skew', 'slice_shift', 'sort_index', 'sort_values', 'squeeze', 'stack', 'std', 'style', 'sub', 'subtract', 'sum', 'swapaxes', 'swaplevel', 'tail', 'take', 'to_clipboard', 'to_csv', 'to_dict', 'to_excel', 'to_feather', 'to_gbq', 'to_hdf', 'to_html', 'to_json', 'to_latex', 'to_markdown', 'to_numpy', 'to_parquet', 'to_period', 'to_pickle', 'to_records', 'to_sql', 'to_stata', 'to_string', 'to_timestamp', 'to_xarray', 'transform', 'transpose', 'truediv', 'truncate', 'tshift', 'tz_convert', 'tz_localize', 'unstack', 'update', 'values', 'var', 'where', 'xs']\n"
     ]
    }
   ],
   "source": [
    "print(dir(df1))"
   ]
  },
  {
   "cell_type": "code",
   "execution_count": 84,
   "metadata": {},
   "outputs": [],
   "source": [
    "df1.to_csv(\"Temp.csv\")"
   ]
  },
  {
   "cell_type": "code",
   "execution_count": 86,
   "metadata": {},
   "outputs": [
    {
     "name": "stdout",
     "output_type": "stream",
     "text": [
      "['BooleanDtype', 'Categorical', 'CategoricalDtype', 'CategoricalIndex', 'DataFrame', 'DateOffset', 'DatetimeIndex', 'DatetimeTZDtype', 'ExcelFile', 'ExcelWriter', 'Float64Index', 'Grouper', 'HDFStore', 'Index', 'IndexSlice', 'Int16Dtype', 'Int32Dtype', 'Int64Dtype', 'Int64Index', 'Int8Dtype', 'Interval', 'IntervalDtype', 'IntervalIndex', 'MultiIndex', 'NA', 'NaT', 'NamedAgg', 'Period', 'PeriodDtype', 'PeriodIndex', 'RangeIndex', 'Series', 'SparseDtype', 'StringDtype', 'Timedelta', 'TimedeltaIndex', 'Timestamp', 'UInt16Dtype', 'UInt32Dtype', 'UInt64Dtype', 'UInt64Index', 'UInt8Dtype', '__builtins__', '__cached__', '__doc__', '__docformat__', '__file__', '__getattr__', '__git_version__', '__loader__', '__name__', '__package__', '__path__', '__spec__', '__version__', '_config', '_hashtable', '_is_numpy_dev', '_lib', '_libs', '_np_version_under1p14', '_np_version_under1p15', '_np_version_under1p16', '_np_version_under1p17', '_np_version_under1p18', '_testing', '_tslib', '_typing', '_version', 'api', 'array', 'arrays', 'bdate_range', 'compat', 'concat', 'core', 'crosstab', 'cut', 'date_range', 'describe_option', 'errors', 'eval', 'factorize', 'get_dummies', 'get_option', 'infer_freq', 'interval_range', 'io', 'isna', 'isnull', 'json_normalize', 'lreshape', 'melt', 'merge', 'merge_asof', 'merge_ordered', 'notna', 'notnull', 'offsets', 'option_context', 'options', 'pandas', 'period_range', 'pivot', 'pivot_table', 'plotting', 'qcut', 'read_clipboard', 'read_csv', 'read_excel', 'read_feather', 'read_fwf', 'read_gbq', 'read_hdf', 'read_html', 'read_json', 'read_orc', 'read_parquet', 'read_pickle', 'read_sas', 'read_spss', 'read_sql', 'read_sql_query', 'read_sql_table', 'read_stata', 'read_table', 'reset_option', 'set_eng_float_format', 'set_option', 'show_versions', 'test', 'testing', 'timedelta_range', 'to_datetime', 'to_numeric', 'to_pickle', 'to_timedelta', 'tseries', 'unique', 'util', 'value_counts', 'wide_to_long']\n"
     ]
    }
   ],
   "source": [
    "print(dir(pd))"
   ]
  },
  {
   "cell_type": "code",
   "execution_count": 92,
   "metadata": {},
   "outputs": [
    {
     "name": "stdout",
     "output_type": "stream",
     "text": [
      "           Unnamed: 0    Age  Gender\n",
      "Name                                \n",
      "Gaurav-1            0    1.0     0.0\n",
      "Abhishek1          10   11.0     0.0\n",
      "Krishna            20  201.0     0.0\n",
      "Abhishek2          30  201.0     0.0\n",
      "Harshita           40   11.0     1.0\n",
      "Joey               50  201.0     1.0\n",
      "Shweta             60    4.0     1.0\n",
      "na-1               70   11.0     NaN\n",
      "na-2               80    NaN     0.0\n",
      "NaN                90  201.0     0.0\n"
     ]
    }
   ],
   "source": [
    "df = pd.read_csv(\"Temp.csv\", index_col=\"Name\")\n",
    "print(df)"
   ]
  },
  {
   "cell_type": "code",
   "execution_count": 95,
   "metadata": {},
   "outputs": [
    {
     "name": "stdout",
     "output_type": "stream",
     "text": [
      "                Age  Gender\n",
      "   Name                    \n",
      "0  Gaurav-1     1.0     0.0\n",
      "10 Abhishek1   11.0     0.0\n",
      "20 Krishna    201.0     0.0\n",
      "30 Abhishek2  201.0     0.0\n",
      "40 Harshita    11.0     1.0\n",
      "50 Joey       201.0     1.0\n",
      "60 Shweta       4.0     1.0\n",
      "70 na-1        11.0     NaN\n",
      "80 na-2         NaN     0.0\n",
      "90 NaN        201.0     0.0\n",
      "MultiIndex([( 0,  'Gaurav-1'),\n",
      "            (10, 'Abhishek1'),\n",
      "            (20,   'Krishna'),\n",
      "            (30, 'Abhishek2'),\n",
      "            (40,  'Harshita'),\n",
      "            (50,      'Joey'),\n",
      "            (60,    'Shweta'),\n",
      "            (70,      'na-1'),\n",
      "            (80,      'na-2'),\n",
      "            (90,         nan)],\n",
      "           names=[None, 'Name'])\n"
     ]
    }
   ],
   "source": [
    "df = pd.read_csv(\"Temp.csv\", index_col=[0,1])\n",
    "print(df)\n",
    "print(df.index)"
   ]
  },
  {
   "cell_type": "code",
   "execution_count": 89,
   "metadata": {},
   "outputs": [
    {
     "name": "stdout",
     "output_type": "stream",
     "text": [
      "   Unnamed: 0       Name    Age  Gender\n",
      "0           0   Gaurav-1    1.0     0.0\n",
      "1          10  Abhishek1   11.0     0.0\n",
      "2          20    Krishna  201.0     0.0\n",
      "3          30  Abhishek2  201.0     0.0\n",
      "4          40   Harshita   11.0     1.0\n",
      "5          50       Joey  201.0     1.0\n",
      "6          60     Shweta    4.0     1.0\n",
      "7          70       na-1   11.0     NaN\n",
      "8          80       na-2    NaN     0.0\n",
      "9          90        NaN  201.0     0.0\n"
     ]
    }
   ],
   "source": [
    "df = pd.read_csv(\"Temp.csv\")\n",
    "print(df)"
   ]
  }
 ],
 "metadata": {
  "kernelspec": {
   "display_name": "Python 3",
   "language": "python",
   "name": "python3"
  },
  "language_info": {
   "codemirror_mode": {
    "name": "ipython",
    "version": 3
   },
   "file_extension": ".py",
   "mimetype": "text/x-python",
   "name": "python",
   "nbconvert_exporter": "python",
   "pygments_lexer": "ipython3",
   "version": "3.8.3"
  }
 },
 "nbformat": 4,
 "nbformat_minor": 2
}
