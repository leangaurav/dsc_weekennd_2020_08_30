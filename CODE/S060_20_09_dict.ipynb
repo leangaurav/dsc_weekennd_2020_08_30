{
 "cells": [
  {
   "cell_type": "markdown",
   "metadata": {},
   "source": [
    "# dictionary\n",
    "- mapping type\n",
    "- mutable\n",
    "- keys: values\n",
    "- dictionary is heterogeneous\n",
    "- keys have to be unique and hashable(immutable) types like: int, string, tuple\n",
    "- values can be anything: int, string, tuple, list, dict, set, function...\n",
    "- operations on dict are optimized for keys"
   ]
  },
  {
   "cell_type": "code",
   "execution_count": 3,
   "metadata": {},
   "outputs": [
    {
     "name": "stdout",
     "output_type": "stream",
     "text": [
      "{} <class 'dict'>\n",
      "{1, 2} <class 'set'>\n"
     ]
    }
   ],
   "source": [
    "d = {} # dict\n",
    "print(d, type(d))\n",
    "s = set([1,2])\n",
    "print(s, type(s))"
   ]
  },
  {
   "cell_type": "code",
   "execution_count": 5,
   "metadata": {},
   "outputs": [
    {
     "name": "stdout",
     "output_type": "stream",
     "text": [
      "20\n"
     ]
    }
   ],
   "source": [
    "t = ()\n",
    "a = [10,20]\n",
    "print(a[1])"
   ]
  },
  {
   "cell_type": "code",
   "execution_count": 7,
   "metadata": {},
   "outputs": [
    {
     "name": "stdout",
     "output_type": "stream",
     "text": [
      "{1: 'abcd'}\n"
     ]
    }
   ],
   "source": [
    "d = {1:\"abcd\"}\n",
    "print(d)"
   ]
  },
  {
   "cell_type": "code",
   "execution_count": 10,
   "metadata": {},
   "outputs": [
    {
     "name": "stdout",
     "output_type": "stream",
     "text": [
      "{(1, 2): [11, 22], 'abcd': 9999, True: {}}\n"
     ]
    }
   ],
   "source": [
    "d = {(1,2): [11,22], \"abcd\": 9999, True: {}}\n",
    "print(d)"
   ]
  },
  {
   "cell_type": "code",
   "execution_count": 12,
   "metadata": {},
   "outputs": [
    {
     "name": "stdout",
     "output_type": "stream",
     "text": [
      "{1: 500, 2: 200, 3: 500}\n"
     ]
    }
   ],
   "source": [
    "d = {1:100, 2:200, 1: 500, 3:500}\n",
    "print(d)"
   ]
  },
  {
   "cell_type": "code",
   "execution_count": null,
   "metadata": {},
   "outputs": [],
   "source": [
    "a = [10,200,30, 140,50] # O(n)"
   ]
  },
  {
   "cell_type": "code",
   "execution_count": 13,
   "metadata": {},
   "outputs": [
    {
     "name": "stdout",
     "output_type": "stream",
     "text": [
      "9999\n"
     ]
    }
   ],
   "source": [
    "d = {(1,2): [11,22], \"abcd\": 9999, True: {}}\n",
    "print(d[\"abcd\"]) # O(1)"
   ]
  },
  {
   "cell_type": "code",
   "execution_count": null,
   "metadata": {},
   "outputs": [],
   "source": [
    "a = [1,4,5,2,3]\n",
    "#    0 1 2 3 4\n",
    "# get element  at index 3 => O(1)\n",
    "# find position of 5      => O(n)"
   ]
  },
  {
   "cell_type": "code",
   "execution_count": 14,
   "metadata": {},
   "outputs": [
    {
     "name": "stdout",
     "output_type": "stream",
     "text": [
      "['__class__', '__contains__', '__delattr__', '__delitem__', '__dir__', '__doc__', '__eq__', '__format__', '__ge__', '__getattribute__', '__getitem__', '__gt__', '__hash__', '__init__', '__init_subclass__', '__iter__', '__le__', '__len__', '__lt__', '__ne__', '__new__', '__reduce__', '__reduce_ex__', '__repr__', '__reversed__', '__setattr__', '__setitem__', '__sizeof__', '__str__', '__subclasshook__', 'clear', 'copy', 'fromkeys', 'get', 'items', 'keys', 'pop', 'popitem', 'setdefault', 'update', 'values']\n"
     ]
    }
   ],
   "source": [
    "print(dir(dict))"
   ]
  },
  {
   "cell_type": "code",
   "execution_count": null,
   "metadata": {},
   "outputs": [],
   "source": [
    "# EmpID : Name, Age, Salary, Address....."
   ]
  },
  {
   "cell_type": "code",
   "execution_count": 18,
   "metadata": {},
   "outputs": [
    {
     "name": "stdout",
     "output_type": "stream",
     "text": [
      "{} 0\n",
      "{1: 4000} 1\n",
      "{1: 4000, 'gaurav': 4000} 2\n",
      "{1: 400, 'gaurav': 4000}\n"
     ]
    }
   ],
   "source": [
    "# insert values\n",
    "d = {}\n",
    "print(d, len(d))\n",
    "d[1] = 4000\n",
    "print(d, len(d))\n",
    "d[\"gaurav\"] = 4000\n",
    "print(d, len(d))\n",
    "d[\"a\"] = d[\"gaurav\"]\n",
    "\n",
    "# update\n",
    "d[1] = 400\n",
    "print(d)"
   ]
  },
  {
   "cell_type": "code",
   "execution_count": 20,
   "metadata": {},
   "outputs": [
    {
     "name": "stdout",
     "output_type": "stream",
     "text": [
      "a\n"
     ]
    },
    {
     "ename": "KeyError",
     "evalue": "100",
     "output_type": "error",
     "traceback": [
      "\u001b[0;31m---------------------------------------------------------------------------\u001b[0m",
      "\u001b[0;31mKeyError\u001b[0m                                  Traceback (most recent call last)",
      "\u001b[0;32m<ipython-input-20-15c584740e6c>\u001b[0m in \u001b[0;36m<module>\u001b[0;34m\u001b[0m\n\u001b[1;32m      2\u001b[0m \u001b[0md\u001b[0m \u001b[0;34m=\u001b[0m \u001b[0;34m{\u001b[0m\u001b[0;36m10\u001b[0m\u001b[0;34m:\u001b[0m\u001b[0;34m\"a\"\u001b[0m\u001b[0;34m,\u001b[0m \u001b[0;36m20\u001b[0m\u001b[0;34m:\u001b[0m\u001b[0;34m\"b\"\u001b[0m\u001b[0;34m}\u001b[0m\u001b[0;34m\u001b[0m\u001b[0;34m\u001b[0m\u001b[0m\n\u001b[1;32m      3\u001b[0m \u001b[0mprint\u001b[0m\u001b[0;34m(\u001b[0m\u001b[0md\u001b[0m\u001b[0;34m[\u001b[0m\u001b[0;36m10\u001b[0m\u001b[0;34m]\u001b[0m\u001b[0;34m)\u001b[0m\u001b[0;34m\u001b[0m\u001b[0;34m\u001b[0m\u001b[0m\n\u001b[0;32m----> 4\u001b[0;31m \u001b[0mprint\u001b[0m\u001b[0;34m(\u001b[0m\u001b[0md\u001b[0m\u001b[0;34m[\u001b[0m\u001b[0;36m100\u001b[0m\u001b[0;34m]\u001b[0m\u001b[0;34m)\u001b[0m\u001b[0;34m\u001b[0m\u001b[0;34m\u001b[0m\u001b[0m\n\u001b[0m",
      "\u001b[0;31mKeyError\u001b[0m: 100"
     ]
    }
   ],
   "source": [
    "# get a value for a key\n",
    "d = {10:\"a\", 20:\"b\"}\n",
    "print(d[10])\n",
    "print(d[100])"
   ]
  },
  {
   "cell_type": "code",
   "execution_count": 24,
   "metadata": {},
   "outputs": [
    {
     "name": "stdout",
     "output_type": "stream",
     "text": [
      "dict_keys([1, 3, 2])\n",
      "key 1\n",
      "key 3\n",
      "key 2\n"
     ]
    }
   ],
   "source": [
    "d = {1:2, 3:4}\n",
    "d[2] = 5\n",
    "print(d.keys())\n",
    "for k in d.keys():\n",
    "    print(\"key\", k)"
   ]
  },
  {
   "cell_type": "code",
   "execution_count": 26,
   "metadata": {},
   "outputs": [
    {
     "name": "stdout",
     "output_type": "stream",
     "text": [
      "True\n",
      "False\n"
     ]
    }
   ],
   "source": [
    "# membership check\n",
    "d = {10:\"a\", 20:\"b\", 30: 100}\n",
    "print(10 in d)\n",
    "print(100 in d)"
   ]
  },
  {
   "cell_type": "code",
   "execution_count": 30,
   "metadata": {},
   "outputs": [
    {
     "name": "stdout",
     "output_type": "stream",
     "text": [
      "a\n",
      "None\n",
      "-1\n",
      "a\n"
     ]
    }
   ],
   "source": [
    "# get a value for a key via get\n",
    "d = {10:\"a\", 20:\"b\", 30: 100, 40: None}\n",
    "print(d.get(10))\n",
    "print(d.get(100)) # return default of None if key not present\n",
    "print(d.get(100, -1))\n",
    "print(d.get(10, -1))"
   ]
  },
  {
   "cell_type": "code",
   "execution_count": 33,
   "metadata": {},
   "outputs": [
    {
     "name": "stdout",
     "output_type": "stream",
     "text": [
      "[40, 30, 20, 10]\n",
      "\n",
      "None\n",
      "100\n",
      "b\n",
      "a\n"
     ]
    }
   ],
   "source": [
    "# get a value for a key via get\n",
    "d = {10:\"a\", 20:\"b\", 30: 100, 40: None}\n",
    "k = list(d.keys())\n",
    "k.sort(reverse=True)\n",
    "print(k)\n",
    "\n",
    "print()\n",
    "for i in k:\n",
    "    print(d[i])"
   ]
  },
  {
   "cell_type": "code",
   "execution_count": 36,
   "metadata": {},
   "outputs": [
    {
     "name": "stdout",
     "output_type": "stream",
     "text": [
      "{20: 'b', 30: 100}\n"
     ]
    },
    {
     "ename": "KeyError",
     "evalue": "100",
     "output_type": "error",
     "traceback": [
      "\u001b[0;31m---------------------------------------------------------------------------\u001b[0m",
      "\u001b[0;31mKeyError\u001b[0m                                  Traceback (most recent call last)",
      "\u001b[0;32m<ipython-input-36-94502e4a6630>\u001b[0m in \u001b[0;36m<module>\u001b[0;34m\u001b[0m\n\u001b[1;32m      3\u001b[0m \u001b[0;32mdel\u001b[0m \u001b[0md\u001b[0m\u001b[0;34m[\u001b[0m\u001b[0;36m10\u001b[0m\u001b[0;34m]\u001b[0m\u001b[0;34m\u001b[0m\u001b[0;34m\u001b[0m\u001b[0m\n\u001b[1;32m      4\u001b[0m \u001b[0mprint\u001b[0m\u001b[0;34m(\u001b[0m\u001b[0md\u001b[0m\u001b[0;34m)\u001b[0m\u001b[0;34m\u001b[0m\u001b[0;34m\u001b[0m\u001b[0m\n\u001b[0;32m----> 5\u001b[0;31m \u001b[0;32mdel\u001b[0m \u001b[0md\u001b[0m\u001b[0;34m[\u001b[0m\u001b[0;36m100\u001b[0m\u001b[0;34m]\u001b[0m\u001b[0;34m\u001b[0m\u001b[0;34m\u001b[0m\u001b[0m\n\u001b[0m\u001b[1;32m      6\u001b[0m \u001b[0mprint\u001b[0m\u001b[0;34m(\u001b[0m\u001b[0md\u001b[0m\u001b[0;34m)\u001b[0m\u001b[0;34m\u001b[0m\u001b[0;34m\u001b[0m\u001b[0m\n",
      "\u001b[0;31mKeyError\u001b[0m: 100"
     ]
    }
   ],
   "source": [
    "# remove elements\n",
    "d = {10:\"a\", 20:\"b\", 30: 100}\n",
    "del d[10]\n",
    "print(d)\n",
    "del d[100]\n",
    "print(d)"
   ]
  },
  {
   "cell_type": "code",
   "execution_count": 41,
   "metadata": {},
   "outputs": [
    {
     "name": "stdout",
     "output_type": "stream",
     "text": [
      "{20: 'b', 30: 100} a\n",
      "{20: 'b', 30: 100} -1\n"
     ]
    },
    {
     "ename": "KeyError",
     "evalue": "10",
     "output_type": "error",
     "traceback": [
      "\u001b[0;31m---------------------------------------------------------------------------\u001b[0m",
      "\u001b[0;31mKeyError\u001b[0m                                  Traceback (most recent call last)",
      "\u001b[0;32m<ipython-input-41-e93af4534ce3>\u001b[0m in \u001b[0;36m<module>\u001b[0;34m\u001b[0m\n\u001b[1;32m      7\u001b[0m \u001b[0mprint\u001b[0m\u001b[0;34m(\u001b[0m\u001b[0md\u001b[0m\u001b[0;34m,\u001b[0m \u001b[0mr\u001b[0m\u001b[0;34m)\u001b[0m\u001b[0;34m\u001b[0m\u001b[0;34m\u001b[0m\u001b[0m\n\u001b[1;32m      8\u001b[0m \u001b[0;34m\u001b[0m\u001b[0m\n\u001b[0;32m----> 9\u001b[0;31m \u001b[0mr\u001b[0m \u001b[0;34m=\u001b[0m \u001b[0md\u001b[0m\u001b[0;34m.\u001b[0m\u001b[0mpop\u001b[0m\u001b[0;34m(\u001b[0m\u001b[0;36m10\u001b[0m\u001b[0;34m)\u001b[0m\u001b[0;34m\u001b[0m\u001b[0;34m\u001b[0m\u001b[0m\n\u001b[0m\u001b[1;32m     10\u001b[0m \u001b[0mprint\u001b[0m\u001b[0;34m(\u001b[0m\u001b[0md\u001b[0m\u001b[0;34m,\u001b[0m \u001b[0mr\u001b[0m\u001b[0;34m)\u001b[0m\u001b[0;34m\u001b[0m\u001b[0;34m\u001b[0m\u001b[0m\n",
      "\u001b[0;31mKeyError\u001b[0m: 10"
     ]
    }
   ],
   "source": [
    "# remove elements\n",
    "d = {10:\"a\", 20:\"b\", 30: 100}\n",
    "r = d.pop(10)\n",
    "print(d, r)\n",
    "\n",
    "r = d.pop(10, -1)\n",
    "print(d, r)\n",
    "\n",
    "r = d.pop(10)\n",
    "print(d, r)"
   ]
  },
  {
   "cell_type": "code",
   "execution_count": 44,
   "metadata": {},
   "outputs": [
    {
     "name": "stdout",
     "output_type": "stream",
     "text": [
      "dict_keys([10, 20, 30, 1])\n",
      "dict_values(['a', 'b', 100, [12, 3]])\n",
      "dict_items([(10, 'a'), (20, 'b'), (30, 100), (1, [12, 3])])\n"
     ]
    }
   ],
   "source": [
    "d = {10:\"a\", 20:\"b\", 30: 100, 1: [12,3]}\n",
    "print(d.keys())\n",
    "print(d.values())\n",
    "print(d.items())"
   ]
  },
  {
   "cell_type": "code",
   "execution_count": null,
   "metadata": {},
   "outputs": [],
   "source": [
    "# Column: Seat Type: Premium , Eco, PreEco.."
   ]
  },
  {
   "cell_type": "code",
   "execution_count": 49,
   "metadata": {},
   "outputs": [
    {
     "name": "stdout",
     "output_type": "stream",
     "text": [
      "{4: 40, 5: 50, 3: 30, 2: 20}\n",
      "{4: 100, 5: 50, 3: 30, 2: 20}\n",
      "{5: 50, 3: 30, 2: 20, 4: 100}\n"
     ]
    }
   ],
   "source": [
    "d = {4:40, 5:50 , 3:30 , 2: 20}\n",
    "print(d)\n",
    "d[4] =  100\n",
    "print(d)\n",
    "del d[4]\n",
    "d[4] = 100\n",
    "print(d)"
   ]
  },
  {
   "cell_type": "code",
   "execution_count": 53,
   "metadata": {},
   "outputs": [
    {
     "name": "stdout",
     "output_type": "stream",
     "text": [
      "{}\n",
      "{1: 30, 2: 20}\n"
     ]
    }
   ],
   "source": [
    "d = dict()\n",
    "print(d)\n",
    "\n",
    "d = dict( [(1,30), (2,20)])\n",
    "print(d)"
   ]
  },
  {
   "cell_type": "code",
   "execution_count": 58,
   "metadata": {},
   "outputs": [
    {
     "name": "stdout",
     "output_type": "stream",
     "text": [
      "[(4, 40), (5, 50), (3, 30), (2, 20)]\n",
      "[(2, 20), (3, 30), (5, 50), (4, 40)]\n",
      "{2: 20, 3: 30, 5: 50, 4: 40}\n"
     ]
    }
   ],
   "source": [
    "# for d.items() if we reverse them and again add into dictionary it gives the dictionary in reverse order ?\n",
    "\n",
    "d = {4:40, 5:50 , 3:30 , 2: 20}\n",
    "r = list(d.items())\n",
    "print(r)\n",
    "r.reverse()\n",
    "print(r)\n",
    "\n",
    "new_d = dict(r)\n",
    "print(new_d)"
   ]
  },
  {
   "cell_type": "code",
   "execution_count": 60,
   "metadata": {},
   "outputs": [
    {
     "name": "stdout",
     "output_type": "stream",
     "text": [
      "abc pqr abac 123 12,%%\n",
      "{'a': 3, 'b': 2, 'c': 2, ' ': 4, 'p': 1, 'q': 1, 'r': 1, '1': 2, '2': 2, '3': 1, ',': 1, '%': 2}\n"
     ]
    }
   ],
   "source": [
    "s = input()\n",
    "\n",
    "d = {}\n",
    "for c in s:\n",
    "    if c in d:\n",
    "        d[c] = d[c] + 1 # update\n",
    "    else:\n",
    "        d[c] = 1 # insert\n",
    "        \n",
    "print(d)\n",
    "# ababac\n",
    "# d {} {a:1} {a:1, b:1} {a:2, b:1} {a:2, b:2}  {a:3, b:2}  {a:3, b:2, c:1}\n",
    "# c    a     b          a          b           a           c"
   ]
  },
  {
   "cell_type": "code",
   "execution_count": 63,
   "metadata": {},
   "outputs": [
    {
     "name": "stdout",
     "output_type": "stream",
     "text": [
      "{'A': 100, 'B': 200}\n",
      "{'A': 110, 'B': 200}\n"
     ]
    }
   ],
   "source": [
    "d = {\"A\":100,\"B\":200}\n",
    "\n",
    "d[\"A\"] + 10\n",
    "print(d)\n",
    "\n",
    "d[\"A\"] = d[\"A\"] + 10\n",
    "print(d)"
   ]
  },
  {
   "cell_type": "code",
   "execution_count": 64,
   "metadata": {},
   "outputs": [
    {
     "name": "stdout",
     "output_type": "stream",
     "text": [
      "{'A': 1000, 'B': 200, 'C': 2000}\n",
      "{'A': 1000, 'C': 2000}\n"
     ]
    }
   ],
   "source": [
    "d1 = {\"A\":100,\"B\":200}\n",
    "d2 = {\"A\":1000, \"C\": 2000}\n",
    "d1.update(d2)\n",
    "print(d1)\n",
    "print(d2)\n",
    "\n",
    "# tmp = d1\n",
    "# d1.update(d2)\n",
    "# d1.update(tmp)"
   ]
  },
  {
   "cell_type": "code",
   "execution_count": 69,
   "metadata": {},
   "outputs": [
    {
     "name": "stdout",
     "output_type": "stream",
     "text": [
      "Doc None\n",
      "Help on function funct in module __main__:\n",
      "\n",
      "funct()\n",
      "\n"
     ]
    }
   ],
   "source": [
    "def funct():\n",
    "    pass\n",
    "\n",
    "print(\"Doc\", funct.__doc__)\n",
    "help(funct)"
   ]
  },
  {
   "cell_type": "code",
   "execution_count": 68,
   "metadata": {},
   "outputs": [
    {
     "name": "stdout",
     "output_type": "stream",
     "text": [
      "Doc this is some doc string\n",
      "Help on function funct in module __main__:\n",
      "\n",
      "funct()\n",
      "    this is some doc string\n",
      "\n",
      "None\n"
     ]
    }
   ],
   "source": [
    "def funct():\n",
    "    \"this is some doc string\"\n",
    "    pass\n",
    "\n",
    "\n",
    "print(\"Doc\", funct.__doc__)\n",
    "help(funct)"
   ]
  },
  {
   "cell_type": "code",
   "execution_count": 76,
   "metadata": {},
   "outputs": [
    {
     "name": "stdout",
     "output_type": "stream",
     "text": [
      "91\n",
      "30\n",
      "96\n"
     ]
    }
   ],
   "source": [
    "s =\"abcd\" # hash to a number\n",
    "\n",
    "# hash value will be between 0-100\n",
    "def hash_str(val):\n",
    "    r =  0\n",
    "    for c in val:\n",
    "        r += ord(c)\n",
    "    return r%101\n",
    "\n",
    "print(hash_str(s))\n",
    "print(hash_str(\"AB\"))\n",
    "print(hash_str(\"BCD A\"))"
   ]
  },
  {
   "cell_type": "code",
   "execution_count": 84,
   "metadata": {},
   "outputs": [
    {
     "name": "stdout",
     "output_type": "stream",
     "text": [
      "      A\n",
      "     ABA\n",
      "    ABCBA\n",
      "   ABCDCBA\n",
      "  ABCDEDCBA\n"
     ]
    }
   ],
   "source": [
    "\n",
    "for i in range(5):\n",
    "    for j in range(6-i):\n",
    "        print(' ', end='')\n",
    "\n",
    "    ch = 65\n",
    "    for j in range(i+1):\n",
    "        print(chr(ch), end='')\n",
    "        ch +=1\n",
    "    ch -=1\n",
    "    for j in range(i):\n",
    "        ch -=1\n",
    "        print(chr(ch), end='')\n",
    "        \n",
    "    print()"
   ]
  },
  {
   "cell_type": "code",
   "execution_count": null,
   "metadata": {},
   "outputs": [],
   "source": [
    "aA1 = \"(EstablishmentType IS NULL OR EstablishmentType <> 'PrivateResidence') OR \\\n",
    "        (EstablishmentType = 'PrivateResidence' AND (IsResidenceOwnerPresent = TRUE AND NumberOfUnitsForRent <= 2)) OR \\\n",
    "        (EstablishmentType = 'PrivateResidence' AND (IsResidenceOwnerPresent = FALSE OR IsResidenceOwnerPresent IS NULL OR NumberOfUnitsForRent > 2))\"\n",
    "    # (A IS NULL OR A <> Value1) OR\n",
    "    # (A = Value1 AND (B = Value1 AND C <= Value1)) OR\n",
    "    # (A = Value1 AND (B = Value2 OR B IS NULL OR C > Value2))\n",
    "    # Line1: A IS NULL\n",
    "    # Line2: A <> Value1\n",
    "    # Line3: A = Value1 AND B = Value1 AND C <= Value1\n",
    "    # Line4: A = Value1 AND B = Value2\n",
    "    # Line5: A = Value1 AND B IS NULL\n",
    "    # Line6: A = Value1 AND C > Value2\n",
    "\n"
   ]
  },
  {
   "cell_type": "code",
   "execution_count": null,
   "metadata": {},
   "outputs": [],
   "source": [
    "\n",
    "    aA3 = \"(PlaceOfConsumption = 'OffPremise' AND Prepackaging = 'FactorySealed') OR PlaceOfConsumption IS NULL OR Prepackaging IS NULL\"\n",
    "    # (A = Value1 AND B = Value1) OR A IS NULL OR B IS NULL\n",
    "    # Line1: A = Value1 AND B = Value1\n",
    "    # Line2: A IS NULL\n",
    "    # Line3: B IS NULL\n",
    "\n",
    "    aA4 = \"(FirstUse IS NULL OR FirstUse = TRUE) AND ScreenSize >= 45\"\n",
    "    # (A IS NULL OR A = Value1) AND B >= Value1\n",
    "    # Line1: A IS NULL AND B >= Value1\n",
    "    # Line2: A = Value1 AND B >= Value1\n",
    "\n",
    "    aA5 = \"EstablishmentType <> 'Hostel' OR EstablishmentType <> 'BedAndBreakfast'\"\n",
    "    # A <> Value1 OR A <> Value2\n",
    "    # Line1: A <> Value1\n",
    "    # Line2: A <> Value1\n"
   ]
  }
 ],
 "metadata": {
  "kernelspec": {
   "display_name": "Python 3",
   "language": "python",
   "name": "python3"
  },
  "language_info": {
   "codemirror_mode": {
    "name": "ipython",
    "version": 3
   },
   "file_extension": ".py",
   "mimetype": "text/x-python",
   "name": "python",
   "nbconvert_exporter": "python",
   "pygments_lexer": "ipython3",
   "version": "3.8.3"
  }
 },
 "nbformat": 4,
 "nbformat_minor": 4
}
