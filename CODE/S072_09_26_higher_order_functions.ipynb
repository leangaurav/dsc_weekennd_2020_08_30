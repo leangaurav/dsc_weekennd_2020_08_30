{
 "cells": [
  {
   "cell_type": "markdown",
   "metadata": {},
   "source": [
    "## Higher  order functions\n",
    "- function that takes a function as argument or returns a function as argument"
   ]
  },
  {
   "cell_type": "code",
   "execution_count": 1,
   "metadata": {},
   "outputs": [
    {
     "name": "stdout",
     "output_type": "stream",
     "text": [
      "ABCD\n"
     ]
    }
   ],
   "source": [
    "def func():\n",
    "    print(\"ABCD\")\n",
    "    \n",
    "f = func\n",
    "f()"
   ]
  },
  {
   "cell_type": "code",
   "execution_count": 6,
   "metadata": {},
   "outputs": [
    {
     "name": "stdout",
     "output_type": "stream",
     "text": [
      "ABCD\n"
     ]
    }
   ],
   "source": [
    "def func():\n",
    "    print(\"ABCD\")\n",
    "    \n",
    "# caller is a higher order functions\n",
    "def caller(f): # f should be a function that takes 0 arguments\n",
    "    f()\n",
    "\n",
    "caller(func)"
   ]
  },
  {
   "cell_type": "code",
   "execution_count": 9,
   "metadata": {},
   "outputs": [
    {
     "name": "stdout",
     "output_type": "stream",
     "text": [
      "10000\n",
      "100\n",
      "3.1622776601683795\n"
     ]
    }
   ],
   "source": [
    "def caller(f, data):# f should be a function that takes 1 argument\n",
    "    return f(data)\n",
    "\n",
    "def square(x):\n",
    "    return x ** 2\n",
    "\n",
    "def cube(x):\n",
    "    return x ** 2\n",
    "\n",
    "print(caller(square, 100))\n",
    "print(caller(cube, 10))\n",
    "import math\n",
    "print(caller(math.sqrt, 10))"
   ]
  },
  {
   "cell_type": "code",
   "execution_count": 14,
   "metadata": {},
   "outputs": [
    {
     "name": "stdout",
     "output_type": "stream",
     "text": [
      "[0, 1, 4, 9, 16]\n",
      "[100, 9, 16]\n",
      "[97, 98, 99, 100]\n"
     ]
    }
   ],
   "source": [
    "def caller(f, seq):# f should be a function that takes 1 argument\n",
    "    #  a = []\n",
    "    #  for val in seq:\n",
    "    #    a.append( f(val) )\n",
    "    a = [ f(val) for val in seq ]\n",
    "    return a\n",
    "\n",
    "def square(x):\n",
    "    return x ** 2\n",
    "\n",
    "print(caller(square, range(5)))\n",
    "print(caller(square, [10,3,4]))\n",
    "print(caller(ord, \"abcd\"))"
   ]
  },
  {
   "cell_type": "code",
   "execution_count": 18,
   "metadata": {},
   "outputs": [
    {
     "name": "stdout",
     "output_type": "stream",
     "text": [
      "[158, 133, 133, 195, 159, 166, 183, 130, 162, 137]\n"
     ]
    }
   ],
   "source": [
    "import random\n",
    "\n",
    "nums = [random.randint(100,200) for _ in range(10)]\n",
    "print(nums)"
   ]
  },
  {
   "cell_type": "code",
   "execution_count": 20,
   "metadata": {},
   "outputs": [
    {
     "name": "stdout",
     "output_type": "stream",
     "text": [
      "[110, 103, 114, 109, 120, 163, 167, 118, 156, 102]\n",
      "[12155, 10660, 13053, 11935, 14460, 26650, 27972, 13983, 24414, 10455]\n"
     ]
    }
   ],
   "source": [
    "import random\n",
    "\n",
    "nums = [random.randint(100,200) for _ in range(10)]\n",
    "print(nums)\n",
    "\n",
    "res = [ (n**2 + n//2) for n in nums]\n",
    "print(res)"
   ]
  },
  {
   "cell_type": "code",
   "execution_count": null,
   "metadata": {},
   "outputs": [],
   "source": [
    "# Built-in higher order functions : map , reduce, filter"
   ]
  },
  {
   "cell_type": "code",
   "execution_count": 26,
   "metadata": {},
   "outputs": [
    {
     "name": "stdout",
     "output_type": "stream",
     "text": [
      "[0, 1, 4, 9, 16]\n",
      "\n",
      "[100, 9, 16]\n",
      "\n",
      "[]\n",
      "\n",
      "100\n",
      "9\n",
      "16\n"
     ]
    }
   ],
   "source": [
    "def square(x):\n",
    "    return x ** 2\n",
    "\n",
    "r = map(square, range(5)) # map returns an iterator \n",
    "print(list(r))\n",
    "print()\n",
    "\n",
    "r = map(square, [10,3,4])\n",
    "print(list(r))\n",
    "print()\n",
    "\n",
    "print(list(r)) # iterator gets  exhausted after one use\n",
    "print()\n",
    "\n",
    "r = map(square, [10,3,4])\n",
    "for v in r:\n",
    "    print(v)"
   ]
  },
  {
   "cell_type": "code",
   "execution_count": 28,
   "metadata": {},
   "outputs": [
    {
     "name": "stdout",
     "output_type": "stream",
     "text": [
      "Iterating\n",
      "Square:  10\n",
      "100\n",
      "Square:  3\n",
      "9\n",
      "Square:  4\n",
      "16\n",
      "\n",
      "Iterating\n",
      "Square:  10\n"
     ]
    }
   ],
   "source": [
    "def square(x):\n",
    "    print(\"Square: \", x)\n",
    "    return x ** 2\n",
    "\n",
    "r = map(square, [10,3,4])\n",
    "\n",
    "print(\"Iterating\")\n",
    "\n",
    "for v in r:\n",
    "    print(v)\n",
    "    \n",
    "print()\n",
    "r = map(square, [10,3,4])\n",
    "\n",
    "print(\"Iterating\")\n",
    "res = next(r)"
   ]
  },
  {
   "cell_type": "code",
   "execution_count": 35,
   "metadata": {},
   "outputs": [
    {
     "name": "stdout",
     "output_type": "stream",
     "text": [
      "\n",
      "Square:  10\n",
      "Square:  3\n",
      "Square:  4\n",
      "[100, 9, 16]\n",
      "\n",
      "[10, 9, 64]\n"
     ]
    }
   ],
   "source": [
    "def my_pow(x,y):\n",
    "    print(\"my_pow: \", x)\n",
    "    return x ** y\n",
    "\n",
    "r = map(square, [10,3,4],[1,2,3])\n",
    "print()\n",
    "print(list(r))\n",
    "\n",
    "\n",
    "r = map(pow, [10,3,4],[1,2,3])\n",
    "print()\n",
    "print(list(r))"
   ]
  },
  {
   "cell_type": "code",
   "execution_count": 38,
   "metadata": {},
   "outputs": [
    {
     "name": "stdout",
     "output_type": "stream",
     "text": [
      "<filter object at 0x7fd4ac2cea00>\n",
      "(10, 22, 444, 66, 42)\n"
     ]
    }
   ],
   "source": [
    "# filter\n",
    "def is_even(x):\n",
    "    return x%2 == 0\n",
    "\n",
    "a = [10,11,22,21,31,13,444,66,42]\n",
    "\n",
    "r = filter(is_even, a)\n",
    "print(r)\n",
    "print(tuple(r))"
   ]
  },
  {
   "cell_type": "code",
   "execution_count": 39,
   "metadata": {},
   "outputs": [
    {
     "name": "stdout",
     "output_type": "stream",
     "text": [
      "<filter object at 0x7fd4ac3fc160>\n",
      "(11, 21, 31, 13)\n"
     ]
    }
   ],
   "source": [
    "# filter\n",
    "def f(x):\n",
    "    return x%2\n",
    "\n",
    "a = [10,11,22,21,31,13,444,66,42]\n",
    "\n",
    "r = filter(f, a)\n",
    "print(r)\n",
    "print(tuple(r))"
   ]
  },
  {
   "cell_type": "code",
   "execution_count": 40,
   "metadata": {},
   "outputs": [
    {
     "name": "stdout",
     "output_type": "stream",
     "text": [
      "['aaaa', 'abda', '1221']\n"
     ]
    }
   ],
   "source": [
    "def checker(s):\n",
    "    return s[0] == s[-1]\n",
    "\n",
    "words = [\"ABC\", \"aaaa\", \"abda\", \"1221\", \"aBA\"]\n",
    "f = filter(checker, words)\n",
    "print(list(f))"
   ]
  },
  {
   "cell_type": "code",
   "execution_count": 44,
   "metadata": {},
   "outputs": [
    {
     "name": "stdout",
     "output_type": "stream",
     "text": [
      "165\n"
     ]
    }
   ],
   "source": [
    "from functools import reduce\n",
    "\n",
    "def add(x,y):\n",
    "    return x + y\n",
    "\n",
    "nums = [11,22,33,44,55]\n",
    "\n",
    "r = reduce(add, nums)\n",
    "print(r)\n",
    "\n",
    "#         11 , 22, 33, 44, 55\n",
    "# add(11,22) => 33\n",
    "#   add(33,33) => 66\n",
    "#       add(66,44) => 110\n",
    "#         add(110,55) => 165"
   ]
  },
  {
   "cell_type": "code",
   "execution_count": 48,
   "metadata": {},
   "outputs": [
    {
     "name": "stdout",
     "output_type": "stream",
     "text": [
      "3\n"
     ]
    }
   ],
   "source": [
    "from functools import reduce\n",
    "\n",
    "def smaller(x,y):\n",
    "    if x < y:\n",
    "        return x\n",
    "    else:\n",
    "        return y\n",
    "\n",
    "nums = [11,22,3,44,5]\n",
    "\n",
    "r = reduce(smaller, nums)\n",
    "print(r)\n",
    "\n",
    "#         11 , 22, 3, 44, 5\n",
    "# add(11,22) => 11\n",
    "#     add(11,3) => 3\n",
    "#        add(3,44) => 3\n",
    "#           add(3,5) => 3"
   ]
  },
  {
   "cell_type": "code",
   "execution_count": null,
   "metadata": {},
   "outputs": [],
   "source": []
  }
 ],
 "metadata": {
  "kernelspec": {
   "display_name": "Python 3",
   "language": "python",
   "name": "python3"
  },
  "language_info": {
   "codemirror_mode": {
    "name": "ipython",
    "version": 3
   },
   "file_extension": ".py",
   "mimetype": "text/x-python",
   "name": "python",
   "nbconvert_exporter": "python",
   "pygments_lexer": "ipython3",
   "version": "3.8.3"
  }
 },
 "nbformat": 4,
 "nbformat_minor": 4
}
