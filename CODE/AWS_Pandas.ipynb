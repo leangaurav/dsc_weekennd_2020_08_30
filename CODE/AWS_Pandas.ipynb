{
 "cells": [
  {
   "cell_type": "markdown",
   "metadata": {},
   "source": [
    "### Description\n",
    "\n",
    "**Airport**: The IATA airport code of the selected airport.  \n",
    "**Terminal**: Terminal(s) associated with the airport selected.  \n",
    "**Date**: Arrival Date(s) of flights associated with the airport/terminal/date range selected.  \n",
    "**Hour**: Hour(s) of arriving flights during a 24 hour time period for the airport/terminal selected/date range selected.  \n",
    "**U.S. Citizen Wait Times**:\n",
    "\n",
    "    Average:The average wait time for all U.S. Citizen passengers on flights arriving in the one hour increment.\n",
    "    Max:The highest wait time for all U.S. Citizen passengers on a flight arriving in the one hour increment.\n",
    "\n",
    "**Non U.S. Citizen Wait Times**:\n",
    "\n",
    "    Average:The average wait time for all Non U.S. Citizen passengers on flights arriving in the one hour increment.\n",
    "    Max:The highest wait time for all Non U.S. Citizen passengers on a flight arriving in the one hour increment.\n",
    "\n",
    "**Wait Times**:\n",
    "\n",
    "    Average:The average wait time for all passengers on flights arriving in the one hour increment.\n",
    "    Max:The highest wait time for any passenger on a flight arriving in the one hour increment.\n",
    "\n",
    "**Number of Passengers Time Interval**:\n",
    "\n",
    "    0-15:The actual number of passengers on flights which arrived in the selected hour who were processed in (0-15) minutes.\n",
    "    16-30:The actual number of passengers on flights which arrived in the selected hour who were processed in (16-30) minutes.\n",
    "    31-45:The actual number of passengers on flights which arrived in the selected hour who were processed in (31-45) minutes.\n",
    "    46-60:The actual number of passengers on flights which arrived in the selected hour who were processed in (46-60) minutes.\n",
    "    61-90:The actual number of passengers on flights which arrived in the selected hour who were processed in (61-90) minutes.\n",
    "    91-120:The actual number of passengers on flights which arrived in the selected hour who were processed in (91-120) minutes.\n",
    "    121Plus:The actual number of passengers on flights which arrived in the selected hour who were processed in (121 Plus) minutes.\n",
    "\n",
    "**Excluded**:The actual number of passengers on flights which arrived in the selected hour who were excluded from wait time reporting.  \n",
    "**Total**:Total number of passengers aboard arriving flights during the one hour increment.  \n",
    "**Flights**:Number of flights arriving during the time period.  \n",
    "**Booths**:Number of staffed primary inspection booths open to process flights which arrived during the selected hour.   \n"
   ]
  },
  {
   "cell_type": "markdown",
   "metadata": {},
   "source": [
    "### Problems\n",
    "- read dataset and convert column headers to correct format (the first  4 rows are headers, but not all rows contain column names)\n",
    "- check datatype of each column\n",
    "- find out columns which have na values\n",
    "- check if there are any unique values in first two columns\n",
    "- based on above, are these two columns userful ?   \n",
    "  \n",
    "  \n",
    "- check if all hour values are present or not\n",
    "- drop the upper bound of  hour column\n",
    "  Ex: replace  0100 - 0200 with 0100 ...\n",
    "- check that hour values lie in range 0-2300 or not\n",
    "- convert hour column from string type to datetime type. (If this doesn't work out easily, then first solve next problem)\n",
    "- check that length of each hour value is 4, if  not, check why and fix it and then check again   \n",
    "  \n",
    "  \n",
    "- convert Date column to datetime type\n",
    "- check data types now\n",
    "- replace Hours with only time part and Date column with only date part (both should  be converted to datetime type before this)\n",
    "- check data types again\n",
    "- merge date and hour column into a new column date_time (type of date_time should be datetime not str)\n",
    "                                                          "
   ]
  },
  {
   "cell_type": "code",
   "execution_count": 2,
   "metadata": {},
   "outputs": [],
   "source": [
    "import pandas as  pd"
   ]
  },
  {
   "cell_type": "code",
   "execution_count": 12,
   "metadata": {},
   "outputs": [
    {
     "name": "stdout",
     "output_type": "stream",
     "text": [
      "  Airport    Terminal                 Date         Hour U.S. Citizen           \\\n",
      "                                                                                \n",
      "                                                        Average Wait Max Wait   \n",
      "                                                                Time     Time   \n",
      "0     ORD  Terminal 5  2017-01-01 00:00:00  0300 - 0400            0        0   \n",
      "1     ORD  Terminal 5  2017-01-01 00:00:00  0400 - 0500           18       51   \n",
      "2     ORD  Terminal 5  2017-01-01 00:00:00  0600 - 0700           11       49   \n",
      "3     ORD  Terminal 5  2017-01-01 00:00:00  0700 - 0800            7       24   \n",
      "4     ORD  Terminal 5  2017-01-01 00:00:00  0800 - 0900            5       25   \n",
      "\n",
      "  Non U.S. Citizen                   All           ...  \\\n",
      "                              Wait Times           ...   \n",
      "      Average Wait Max Wait Average Wait Max Wait  ...   \n",
      "              Time     Time         Time     Time  ...   \n",
      "0                0        0            0        0  ...   \n",
      "1               28       51           20       51  ...   \n",
      "2               27       49           20       49  ...   \n",
      "3               12       26           10       26  ...   \n",
      "4               13       37           10       37  ...   \n",
      "\n",
      "                                                                        \\\n",
      "  Number Of Passengers Time Interval                                     \n",
      "                               16-30 31-45 46-60 61-90 91-120 120 plus   \n",
      "                                                                         \n",
      "0                                  0     0     0     0      0        0   \n",
      "1                                160    60     8     0      0        0   \n",
      "2                                 81    64    19     0      0        0   \n",
      "3                                 88     0     0     0      0        0   \n",
      "4                                121    16     0     0      0        0   \n",
      "\n",
      "                                 \n",
      "                                 \n",
      "  Excluded Total Flights Booths  \n",
      "                                 \n",
      "0        7     7       1      0  \n",
      "1       13   362       3     10  \n",
      "2       10   328       1     10  \n",
      "3       10   370       2     12  \n",
      "4       11   446       2     12  \n",
      "\n",
      "[5 rows x 21 columns]\n"
     ]
    }
   ],
   "source": [
    "df=pd.read_excel(\"AWT.xls\",header=[0,1,2,3])\n",
    "df=df.rename(columns=lambda x:x if not 'Unnamed' in str(x) else '')\n",
    "print(df.head())"
   ]
  },
  {
   "cell_type": "code",
   "execution_count": 26,
   "metadata": {},
   "outputs": [
    {
     "name": "stdout",
     "output_type": "stream",
     "text": [
      "Index(['Unnamed: 0', 'Unnamed: 1', 'Unnamed: 2', 'Unnamed: 3', 'Time',\n",
      "       'Time.1', 'Time.2', 'Time.3', 'Time.4', 'Time.5', 'Unnamed: 10',\n",
      "       'Unnamed: 11', 'Unnamed: 12', 'Unnamed: 13', 'Unnamed: 14',\n",
      "       'Unnamed: 15', 'Unnamed: 16', 'Unnamed: 17', 'Unnamed: 18',\n",
      "       'Unnamed: 19', 'Unnamed: 20'],\n",
      "      dtype='object')\n"
     ]
    }
   ],
   "source": [
    "df=pd.read_excel(\"AWT.xls\",header=[3])\n",
    "print(df.columns)"
   ]
  },
  {
   "cell_type": "code",
   "execution_count": 6,
   "metadata": {},
   "outputs": [
    {
     "name": "stdout",
     "output_type": "stream",
     "text": [
      "<class 'pandas.core.frame.DataFrame'>\n"
     ]
    },
    {
     "data": {
      "text/html": [
       "<div>\n",
       "<style scoped>\n",
       "    .dataframe tbody tr th:only-of-type {\n",
       "        vertical-align: middle;\n",
       "    }\n",
       "\n",
       "    .dataframe tbody tr th {\n",
       "        vertical-align: top;\n",
       "    }\n",
       "\n",
       "    .dataframe thead tr th {\n",
       "        text-align: left;\n",
       "    }\n",
       "</style>\n",
       "<table border=\"1\" class=\"dataframe\">\n",
       "  <thead>\n",
       "    <tr>\n",
       "      <th></th>\n",
       "      <th>Unnamed: 1_level_1</th>\n",
       "    </tr>\n",
       "    <tr>\n",
       "      <th></th>\n",
       "      <th>Unnamed: 1_level_2</th>\n",
       "    </tr>\n",
       "    <tr>\n",
       "      <th></th>\n",
       "      <th>Unnamed: 1_level_3</th>\n",
       "    </tr>\n",
       "  </thead>\n",
       "  <tbody>\n",
       "    <tr>\n",
       "      <td>0</td>\n",
       "      <td>Terminal 5</td>\n",
       "    </tr>\n",
       "    <tr>\n",
       "      <td>1</td>\n",
       "      <td>Terminal 5</td>\n",
       "    </tr>\n",
       "    <tr>\n",
       "      <td>2</td>\n",
       "      <td>Terminal 5</td>\n",
       "    </tr>\n",
       "    <tr>\n",
       "      <td>3</td>\n",
       "      <td>Terminal 5</td>\n",
       "    </tr>\n",
       "    <tr>\n",
       "      <td>4</td>\n",
       "      <td>Terminal 5</td>\n",
       "    </tr>\n",
       "    <tr>\n",
       "      <td>...</td>\n",
       "      <td>...</td>\n",
       "    </tr>\n",
       "    <tr>\n",
       "      <td>6699</td>\n",
       "      <td>Terminal 5</td>\n",
       "    </tr>\n",
       "    <tr>\n",
       "      <td>6700</td>\n",
       "      <td>Terminal 5</td>\n",
       "    </tr>\n",
       "    <tr>\n",
       "      <td>6701</td>\n",
       "      <td>Terminal 5</td>\n",
       "    </tr>\n",
       "    <tr>\n",
       "      <td>6702</td>\n",
       "      <td>Terminal 5</td>\n",
       "    </tr>\n",
       "    <tr>\n",
       "      <td>6703</td>\n",
       "      <td>Terminal 5</td>\n",
       "    </tr>\n",
       "  </tbody>\n",
       "</table>\n",
       "<p>6704 rows × 1 columns</p>\n",
       "</div>"
      ],
      "text/plain": [
       "     Unnamed: 1_level_1\n",
       "     Unnamed: 1_level_2\n",
       "     Unnamed: 1_level_3\n",
       "0            Terminal 5\n",
       "1            Terminal 5\n",
       "2            Terminal 5\n",
       "3            Terminal 5\n",
       "4            Terminal 5\n",
       "...                 ...\n",
       "6699         Terminal 5\n",
       "6700         Terminal 5\n",
       "6701         Terminal 5\n",
       "6702         Terminal 5\n",
       "6703         Terminal 5\n",
       "\n",
       "[6704 rows x 1 columns]"
      ]
     },
     "execution_count": 6,
     "metadata": {},
     "output_type": "execute_result"
    }
   ],
   "source": [
    "print(type(df['Terminal']))\n",
    "df['Terminal']"
   ]
  },
  {
   "cell_type": "code",
   "execution_count": 7,
   "metadata": {},
   "outputs": [
    {
     "data": {
      "text/html": [
       "<div>\n",
       "<style scoped>\n",
       "    .dataframe tbody tr th:only-of-type {\n",
       "        vertical-align: middle;\n",
       "    }\n",
       "\n",
       "    .dataframe tbody tr th {\n",
       "        vertical-align: top;\n",
       "    }\n",
       "\n",
       "    .dataframe thead tr th {\n",
       "        text-align: left;\n",
       "    }\n",
       "</style>\n",
       "<table border=\"1\" class=\"dataframe\">\n",
       "  <thead>\n",
       "    <tr>\n",
       "      <th></th>\n",
       "      <th>Unnamed: 4_level_1</th>\n",
       "      <th>Unnamed: 5_level_1</th>\n",
       "    </tr>\n",
       "    <tr>\n",
       "      <th></th>\n",
       "      <th>Average Wait</th>\n",
       "      <th>Max Wait</th>\n",
       "    </tr>\n",
       "    <tr>\n",
       "      <th></th>\n",
       "      <th>Time</th>\n",
       "      <th>Time</th>\n",
       "    </tr>\n",
       "  </thead>\n",
       "  <tbody>\n",
       "    <tr>\n",
       "      <td>0</td>\n",
       "      <td>0</td>\n",
       "      <td>0</td>\n",
       "    </tr>\n",
       "    <tr>\n",
       "      <td>1</td>\n",
       "      <td>18</td>\n",
       "      <td>51</td>\n",
       "    </tr>\n",
       "    <tr>\n",
       "      <td>2</td>\n",
       "      <td>11</td>\n",
       "      <td>49</td>\n",
       "    </tr>\n",
       "    <tr>\n",
       "      <td>3</td>\n",
       "      <td>7</td>\n",
       "      <td>24</td>\n",
       "    </tr>\n",
       "    <tr>\n",
       "      <td>4</td>\n",
       "      <td>5</td>\n",
       "      <td>25</td>\n",
       "    </tr>\n",
       "    <tr>\n",
       "      <td>...</td>\n",
       "      <td>...</td>\n",
       "      <td>...</td>\n",
       "    </tr>\n",
       "    <tr>\n",
       "      <td>6699</td>\n",
       "      <td>16</td>\n",
       "      <td>47</td>\n",
       "    </tr>\n",
       "    <tr>\n",
       "      <td>6700</td>\n",
       "      <td>7</td>\n",
       "      <td>23</td>\n",
       "    </tr>\n",
       "    <tr>\n",
       "      <td>6701</td>\n",
       "      <td>7</td>\n",
       "      <td>18</td>\n",
       "    </tr>\n",
       "    <tr>\n",
       "      <td>6702</td>\n",
       "      <td>28</td>\n",
       "      <td>39</td>\n",
       "    </tr>\n",
       "    <tr>\n",
       "      <td>6703</td>\n",
       "      <td>7</td>\n",
       "      <td>25</td>\n",
       "    </tr>\n",
       "  </tbody>\n",
       "</table>\n",
       "<p>6704 rows × 2 columns</p>\n",
       "</div>"
      ],
      "text/plain": [
       "     Unnamed: 4_level_1 Unnamed: 5_level_1\n",
       "           Average Wait           Max Wait\n",
       "                   Time               Time\n",
       "0                     0                  0\n",
       "1                    18                 51\n",
       "2                    11                 49\n",
       "3                     7                 24\n",
       "4                     5                 25\n",
       "...                 ...                ...\n",
       "6699                 16                 47\n",
       "6700                  7                 23\n",
       "6701                  7                 18\n",
       "6702                 28                 39\n",
       "6703                  7                 25\n",
       "\n",
       "[6704 rows x 2 columns]"
      ]
     },
     "execution_count": 7,
     "metadata": {},
     "output_type": "execute_result"
    }
   ],
   "source": [
    "df['U.S. Citizen']"
   ]
  },
  {
   "cell_type": "code",
   "execution_count": 27,
   "metadata": {},
   "outputs": [
    {
     "name": "stdout",
     "output_type": "stream",
     "text": [
      "('Airport', 'Unnamed: 0_level_1', 'Unnamed: 0_level_2', 'Unnamed: 0_level_3')\n",
      "('Terminal', 'Unnamed: 1_level_1', 'Unnamed: 1_level_2', 'Unnamed: 1_level_3')\n",
      "('Date', 'Unnamed: 2_level_1', 'Unnamed: 2_level_2', 'Unnamed: 2_level_3')\n",
      "('Hour', 'Unnamed: 3_level_1', 'Unnamed: 3_level_2', 'Unnamed: 3_level_3')\n",
      "('U.S. Citizen', 'Unnamed: 4_level_1', 'Average Wait', 'Time')\n",
      "('U.S. Citizen', 'Unnamed: 5_level_1', 'Max Wait', 'Time')\n",
      "('Non U.S. Citizen', 'Unnamed: 6_level_1', 'Average Wait', 'Time')\n",
      "('Non U.S. Citizen', 'Unnamed: 7_level_1', 'Max Wait', 'Time')\n",
      "('All', 'Wait Times', 'Average Wait', 'Time')\n",
      "('All', 'Wait Times', 'Max Wait', 'Time')\n",
      "('All', 'Number Of Passengers Time Interval', '0-15', 'Unnamed: 10_level_3')\n",
      "('All', 'Number Of Passengers Time Interval', '16-30', 'Unnamed: 11_level_3')\n",
      "('All', 'Number Of Passengers Time Interval', '31-45', 'Unnamed: 12_level_3')\n",
      "('All', 'Number Of Passengers Time Interval', '46-60', 'Unnamed: 13_level_3')\n",
      "('All', 'Number Of Passengers Time Interval', '61-90', 'Unnamed: 14_level_3')\n",
      "('All', 'Number Of Passengers Time Interval', '91-120', 'Unnamed: 15_level_3')\n",
      "('All', 'Number Of Passengers Time Interval', '120 plus', 'Unnamed: 16_level_3')\n",
      "('All', 'Number Of Passengers Time Interval', 'Excluded', 'Unnamed: 17_level_3')\n",
      "('All', 'Number Of Passengers Time Interval', 'Total', 'Unnamed: 18_level_3')\n",
      "('All', 'Number Of Passengers Time Interval', 'Flights', 'Unnamed: 19_level_3')\n",
      "('All', 'Number Of Passengers Time Interval', 'Booths', 'Unnamed: 20_level_3')\n",
      "\n",
      "Airport\n",
      "Terminal\n",
      "Date\n",
      "Hour\n",
      "U.S. Citizen Average Wait Time\n",
      "U.S. Citizen Max Wait Time\n",
      "Non U.S. Citizen Average Wait Time\n",
      "Non U.S. Citizen Max Wait Time\n",
      "All Wait Times Average Wait Time\n",
      "All Wait Times Max Wait Time\n",
      "All Number Of Passengers Time Interval 0-15\n",
      "All Number Of Passengers Time Interval 16-30\n",
      "All Number Of Passengers Time Interval 31-45\n",
      "All Number Of Passengers Time Interval 46-60\n",
      "All Number Of Passengers Time Interval 61-90\n",
      "All Number Of Passengers Time Interval 91-120\n",
      "All Number Of Passengers Time Interval 120 plus\n",
      "All Number Of Passengers Time Interval Excluded\n",
      "All Number Of Passengers Time Interval Total\n",
      "All Number Of Passengers Time Interval Flights\n",
      "All Number Of Passengers Time Interval Booths\n"
     ]
    }
   ],
   "source": [
    "df=pd.read_excel(\"AWT.xls\",header=[0,1,2,3])\n",
    "for col in df.columns:\n",
    "    print(col)\n",
    "    \n",
    "print()\n",
    "\n",
    "for col in df.columns:\n",
    "    print(' '.join(filter(lambda x: not x.startswith(\"Unnamed\"), col)))\n",
    "    \n",
    "    "
   ]
  },
  {
   "cell_type": "code",
   "execution_count": 29,
   "metadata": {},
   "outputs": [
    {
     "name": "stdout",
     "output_type": "stream",
     "text": [
      "['T', '__abs__', '__add__', '__and__', '__array__', '__array_priority__', '__array_wrap__', '__bool__', '__class__', '__contains__', '__copy__', '__deepcopy__', '__delattr__', '__dict__', '__dir__', '__divmod__', '__doc__', '__eq__', '__floordiv__', '__format__', '__ge__', '__getattribute__', '__getitem__', '__getslice__', '__gt__', '__hash__', '__iadd__', '__init__', '__init_subclass__', '__inv__', '__isub__', '__iter__', '__le__', '__len__', '__lt__', '__mod__', '__module__', '__mul__', '__ne__', '__neg__', '__new__', '__nonzero__', '__or__', '__pos__', '__pow__', '__radd__', '__reduce__', '__reduce_ex__', '__repr__', '__rfloordiv__', '__rmul__', '__rpow__', '__rsub__', '__rtruediv__', '__setattr__', '__setitem__', '__setstate__', '__sizeof__', '__str__', '__sub__', '__subclasshook__', '__truediv__', '__weakref__', '__xor__', '_accessors', '_add_comparison_methods', '_add_logical_methods', '_add_logical_methods_disabled', '_add_numeric_methods', '_add_numeric_methods_add_sub_disabled', '_add_numeric_methods_binary', '_add_numeric_methods_disabled', '_add_numeric_methods_unary', '_assert_can_do_op', '_assert_can_do_setop', '_assert_take_fillable', '_attributes', '_can_hold_identifiers_and_holds_name', '_can_hold_na', '_can_reindex', '_cleanup', '_codes', '_coerce_scalar_to_index', '_coerce_to_ndarray', '_comparables', '_concat', '_concat_same_dtype', '_constructor', '_convert_arr_indexer', '_convert_can_do_setop', '_convert_for_op', '_convert_index_indexer', '_convert_list_indexer', '_convert_listlike_indexer', '_convert_scalar_indexer', '_convert_slice_indexer', '_convert_tolerance', '_data', '_defer_to_indexing', '_deprecations', '_dir_additions', '_dir_deletions', '_drop_from_level', '_engine', '_engine_type', '_evaluate_with_datetime_like', '_evaluate_with_timedelta_like', '_filter_indexer_tolerance', '_format_attrs', '_format_data', '_format_native_types', '_format_space', '_format_with_header', '_formatter_func', '_get_attributes_dict', '_get_codes_for_sorting', '_get_fill_indexer', '_get_fill_indexer_searchsorted', '_get_grouper_for_level', '_get_level_indexer', '_get_level_number', '_get_level_values', '_get_names', '_get_nearest_indexer', '_get_reconciled_name_object', '_get_string_slice', '_get_unique_index', '_has_complex_internals', '_hashed_indexing_key', '_hashed_values', '_have_mixed_levels', '_id', '_infer_as_myclass', '_inferred_type_levels', '_inner_indexer', '_internal_get_values', '_invalid_indexer', '_is_compatible_with_other', '_is_homogeneous_type', '_is_memory_usage_qualified', '_is_numeric_dtype', '_is_strictly_monotonic_decreasing', '_is_strictly_monotonic_increasing', '_isnan', '_join_level', '_join_monotonic', '_join_multi', '_join_non_unique', '_join_precedence', '_left_indexer', '_left_indexer_unique', '_levels', '_map_values', '_maybe_cast_indexer', '_maybe_cast_slice_bound', '_maybe_promote', '_maybe_update_attributes', '_mpl_repr', '_na_value', '_names', '_nan_idxs', '_nbytes', '_ndarray_values', '_outer_indexer', '_partial_tup_index', '_reduce', '_reindex_non_unique', '_reset_cache', '_reset_identity', '_scalar_data_error', '_searchsorted_monotonic', '_set_codes', '_set_levels', '_set_names', '_shallow_copy', '_shallow_copy_with_infer', '_simple_new', '_sort_levels_monotonic', '_string_data_error', '_summary', '_supports_partial_string_indexing', '_to_safe_for_reshape', '_try_convert_to_int_index', '_tuples', '_typ', '_union', '_union_incompatible_dtypes', '_unpickle_compat', '_update_inplace', '_validate_codes', '_validate_for_numeric_binop', '_validate_for_numeric_unaryop', '_validate_index_level', '_validate_indexer', '_validate_names', '_validate_sort_keyword', '_values', '_verify_integrity', '_wrap_joined_index', '_wrap_setop_result', 'all', 'any', 'append', 'argmax', 'argmin', 'argsort', 'array', 'asi8', 'asof', 'asof_locs', 'astype', 'codes', 'contains', 'copy', 'delete', 'difference', 'drop', 'drop_duplicates', 'droplevel', 'dropna', 'dtype', 'dtype_str', 'duplicated', 'empty', 'equal_levels', 'equals', 'factorize', 'fillna', 'format', 'from_arrays', 'from_frame', 'from_product', 'from_tuples', 'get_duplicates', 'get_indexer', 'get_indexer_for', 'get_indexer_non_unique', 'get_level_values', 'get_loc', 'get_loc_level', 'get_locs', 'get_slice_bound', 'get_value', 'get_values', 'groupby', 'has_duplicates', 'hasnans', 'holds_integer', 'identical', 'inferred_type', 'insert', 'intersection', 'is_', 'is_all_dates', 'is_boolean', 'is_categorical', 'is_floating', 'is_integer', 'is_interval', 'is_lexsorted', 'is_lexsorted_for_tuple', 'is_mixed', 'is_monotonic', 'is_monotonic_decreasing', 'is_monotonic_increasing', 'is_numeric', 'is_object', 'is_type_compatible', 'is_unique', 'isin', 'isna', 'isnull', 'item', 'join', 'labels', 'levels', 'levshape', 'lexsort_depth', 'map', 'max', 'memory_usage', 'min', 'name', 'names', 'nbytes', 'ndim', 'nlevels', 'notna', 'notnull', 'nunique', 'putmask', 'ravel', 'reindex', 'remove_unused_levels', 'rename', 'reorder_levels', 'repeat', 'searchsorted', 'set_codes', 'set_labels', 'set_levels', 'set_names', 'set_value', 'shape', 'shift', 'size', 'slice_indexer', 'slice_locs', 'sort', 'sort_values', 'sortlevel', 'summary', 'swaplevel', 'symmetric_difference', 'take', 'to_flat_index', 'to_frame', 'to_hierarchical', 'to_list', 'to_native_types', 'to_numpy', 'to_series', 'transpose', 'truncate', 'union', 'unique', 'value_counts', 'values', 'view', 'where']\n",
      "Index([   ('Airport', 'Unnamed: 0_level_1', 'Unnamed: 0_level_2', 'Unnamed: 0_level_3'),\n",
      "         ('Terminal', 'Unnamed: 1_level_1', 'Unnamed: 1_level_2', 'Unnamed: 1_level_3'),\n",
      "             ('Date', 'Unnamed: 2_level_1', 'Unnamed: 2_level_2', 'Unnamed: 2_level_3'),\n",
      "             ('Hour', 'Unnamed: 3_level_1', 'Unnamed: 3_level_2', 'Unnamed: 3_level_3'),\n",
      "                         ('U.S. Citizen', 'Unnamed: 4_level_1', 'Average Wait', 'Time'),\n",
      "                             ('U.S. Citizen', 'Unnamed: 5_level_1', 'Max Wait', 'Time'),\n",
      "                     ('Non U.S. Citizen', 'Unnamed: 6_level_1', 'Average Wait', 'Time'),\n",
      "                         ('Non U.S. Citizen', 'Unnamed: 7_level_1', 'Max Wait', 'Time'),\n",
      "                                          ('All', 'Wait Times', 'Average Wait', 'Time'),\n",
      "                                              ('All', 'Wait Times', 'Max Wait', 'Time'),\n",
      "           ('All', 'Number Of Passengers Time Interval', '0-15', 'Unnamed: 10_level_3'),\n",
      "          ('All', 'Number Of Passengers Time Interval', '16-30', 'Unnamed: 11_level_3'),\n",
      "          ('All', 'Number Of Passengers Time Interval', '31-45', 'Unnamed: 12_level_3'),\n",
      "          ('All', 'Number Of Passengers Time Interval', '46-60', 'Unnamed: 13_level_3'),\n",
      "          ('All', 'Number Of Passengers Time Interval', '61-90', 'Unnamed: 14_level_3'),\n",
      "         ('All', 'Number Of Passengers Time Interval', '91-120', 'Unnamed: 15_level_3'),\n",
      "       ('All', 'Number Of Passengers Time Interval', '120 plus', 'Unnamed: 16_level_3'),\n",
      "       ('All', 'Number Of Passengers Time Interval', 'Excluded', 'Unnamed: 17_level_3'),\n",
      "          ('All', 'Number Of Passengers Time Interval', 'Total', 'Unnamed: 18_level_3'),\n",
      "        ('All', 'Number Of Passengers Time Interval', 'Flights', 'Unnamed: 19_level_3'),\n",
      "         ('All', 'Number Of Passengers Time Interval', 'Booths', 'Unnamed: 20_level_3')],\n",
      "      dtype='object')\n"
     ]
    }
   ],
   "source": [
    "print(dir(df.columns))\n",
    "print(df.columns.to_flat_index())"
   ]
  },
  {
   "cell_type": "code",
   "execution_count": 40,
   "metadata": {},
   "outputs": [
    {
     "name": "stdout",
     "output_type": "stream",
     "text": [
      "['Airport', 'Terminal', 'Date', 'Hour', 'U.S. Citizen Average Wait Time', 'U.S. Citizen Max Wait Time', 'Non U.S. Citizen Average Wait Time', 'Non U.S. Citizen Max Wait Time', 'All Wait Times Average Wait Time', 'All Wait Times Max Wait Time', 'All 0-15', 'All 16-30', 'All 31-45', 'All 46-60', 'All 61-90', 'All 91-120', 'All 120 plus', 'All Excluded', 'All Total', 'All Flights', 'All Booths']\n"
     ]
    }
   ],
   "source": [
    "df=pd.read_excel(\"AWT.xls\",header=[0,1,2,3])\n",
    "idx = []\n",
    "for col in df.columns:\n",
    "    idx.append(' '.join(filter(lambda x: not (x.startswith(\"Unnamed\") or \"Passengers\" in x), col)))\n",
    "    \n",
    "df.columns = idx\n",
    "print(idx)"
   ]
  },
  {
   "cell_type": "code",
   "execution_count": 41,
   "metadata": {},
   "outputs": [
    {
     "name": "stdout",
     "output_type": "stream",
     "text": [
      "Index(['Airport', 'Terminal', 'Date', 'Hour', 'U.S. Citizen Average Wait Time',\n",
      "       'U.S. Citizen Max Wait Time', 'Non U.S. Citizen Average Wait Time',\n",
      "       'Non U.S. Citizen Max Wait Time', 'All Wait Times Average Wait Time',\n",
      "       'All Wait Times Max Wait Time', 'All 0-15', 'All 16-30', 'All 31-45',\n",
      "       'All 46-60', 'All 61-90', 'All 91-120', 'All 120 plus', 'All Excluded',\n",
      "       'All Total', 'All Flights', 'All Booths'],\n",
      "      dtype='object')\n"
     ]
    }
   ],
   "source": [
    "print(df.columns)"
   ]
  },
  {
   "cell_type": "code",
   "execution_count": 44,
   "metadata": {},
   "outputs": [
    {
     "name": "stdout",
     "output_type": "stream",
     "text": [
      "  Airport    Terminal                 Date         Hour  \\\n",
      "0     ORD  Terminal 5  2017-01-01 00:00:00  0300 - 0400   \n",
      "1     ORD  Terminal 5  2017-01-01 00:00:00  0400 - 0500   \n",
      "2     ORD  Terminal 5  2017-01-01 00:00:00  0600 - 0700   \n",
      "3     ORD  Terminal 5  2017-01-01 00:00:00  0700 - 0800   \n",
      "4     ORD  Terminal 5  2017-01-01 00:00:00  0800 - 0900   \n",
      "\n",
      "   U.S. Citizen Average Wait Time  U.S. Citizen Max Wait Time  \\\n",
      "0                               0                           0   \n",
      "1                              18                          51   \n",
      "2                              11                          49   \n",
      "3                               7                          24   \n",
      "4                               5                          25   \n",
      "\n",
      "   Non U.S. Citizen Average Wait Time  Non U.S. Citizen Max Wait Time  \\\n",
      "0                                   0                               0   \n",
      "1                                  28                              51   \n",
      "2                                  27                              49   \n",
      "3                                  12                              26   \n",
      "4                                  13                              37   \n",
      "\n",
      "   All Wait Times Average Wait Time  All Wait Times Max Wait Time  ...  \\\n",
      "0                                 0                             0  ...   \n",
      "1                                20                            51  ...   \n",
      "2                                20                            49  ...   \n",
      "3                                10                            26  ...   \n",
      "4                                10                            37  ...   \n",
      "\n",
      "   All 16-30  All 31-45  All 46-60  All 61-90  All 91-120  All 120 plus  \\\n",
      "0          0          0          0          0           0             0   \n",
      "1        160         60          8          0           0             0   \n",
      "2         81         64         19          0           0             0   \n",
      "3         88          0          0          0           0             0   \n",
      "4        121         16          0          0           0             0   \n",
      "\n",
      "   All Excluded  All Total  All Flights  All Booths  \n",
      "0             7          7            1           0  \n",
      "1            13        362            3          10  \n",
      "2            10        328            1          10  \n",
      "3            10        370            2          12  \n",
      "4            11        446            2          12  \n",
      "\n",
      "[5 rows x 21 columns]\n"
     ]
    }
   ],
   "source": [
    "print(df.head())"
   ]
  },
  {
   "cell_type": "code",
   "execution_count": 43,
   "metadata": {},
   "outputs": [
    {
     "data": {
      "text/plain": [
       "0       0\n",
       "1       0\n",
       "2       0\n",
       "3       0\n",
       "4       0\n",
       "       ..\n",
       "6699    0\n",
       "6700    0\n",
       "6701    0\n",
       "6702    0\n",
       "6703    0\n",
       "Name: All 61-90, Length: 6704, dtype: int64"
      ]
     },
     "execution_count": 43,
     "metadata": {},
     "output_type": "execute_result"
    }
   ],
   "source": [
    "df['All 61-90']"
   ]
  },
  {
   "cell_type": "code",
   "execution_count": null,
   "metadata": {},
   "outputs": [],
   "source": [
    "inx = [\"terminal\", \"..\" , ..... ]"
   ]
  },
  {
   "cell_type": "code",
   "execution_count": 25,
   "metadata": {},
   "outputs": [
    {
     "name": "stdout",
     "output_type": "stream",
     "text": [
      "  Airport    Terminal                 Date         Hour  \\\n",
      "0     ORD  Terminal 5  2017-01-01 00:00:00  0300 - 0400   \n",
      "1     ORD  Terminal 5  2017-01-01 00:00:00  0400 - 0500   \n",
      "2     ORD  Terminal 5  2017-01-01 00:00:00  0600 - 0700   \n",
      "3     ORD  Terminal 5  2017-01-01 00:00:00  0700 - 0800   \n",
      "4     ORD  Terminal 5  2017-01-01 00:00:00  0800 - 0900   \n",
      "\n",
      "   U.S. Citizen Average Wait Time  U.S. Citizen Max Wait Time  \\\n",
      "0                               0                           0   \n",
      "1                              18                          51   \n",
      "2                              11                          49   \n",
      "3                               7                          24   \n",
      "4                               5                          25   \n",
      "\n",
      "   Non U.S. Citizen Average Wait Time  Non U.S. Citizen Max Wait Time  \\\n",
      "0                                   0                               0   \n",
      "1                                  28                              51   \n",
      "2                                  27                              49   \n",
      "3                                  12                              26   \n",
      "4                                  13                              37   \n",
      "\n",
      "   All Wait Times Average Wait Time  All Wait Times Max Wait Time  ...  \\\n",
      "0                                 0                             0  ...   \n",
      "1                                20                            51  ...   \n",
      "2                                20                            49  ...   \n",
      "3                                10                            26  ...   \n",
      "4                                10                            37  ...   \n",
      "\n",
      "   All Number Of Passengers Time Interval 16-30  \\\n",
      "0                                             0   \n",
      "1                                           160   \n",
      "2                                            81   \n",
      "3                                            88   \n",
      "4                                           121   \n",
      "\n",
      "   All Number Of Passengers Time Interval 31-45  \\\n",
      "0                                             0   \n",
      "1                                            60   \n",
      "2                                            64   \n",
      "3                                             0   \n",
      "4                                            16   \n",
      "\n",
      "   All Number Of Passengers Time Interval 46-60  \\\n",
      "0                                             0   \n",
      "1                                             8   \n",
      "2                                            19   \n",
      "3                                             0   \n",
      "4                                             0   \n",
      "\n",
      "   All Number Of Passengers Time Interval 61-90  \\\n",
      "0                                             0   \n",
      "1                                             0   \n",
      "2                                             0   \n",
      "3                                             0   \n",
      "4                                             0   \n",
      "\n",
      "   All Number Of Passengers Time Interval 91-120  \\\n",
      "0                                              0   \n",
      "1                                              0   \n",
      "2                                              0   \n",
      "3                                              0   \n",
      "4                                              0   \n",
      "\n",
      "   All Number Of Passengers Time Interval 120 plus  \\\n",
      "0                                                0   \n",
      "1                                                0   \n",
      "2                                                0   \n",
      "3                                                0   \n",
      "4                                                0   \n",
      "\n",
      "   All Number Of Passengers Time Interval Excluded  \\\n",
      "0                                                7   \n",
      "1                                               13   \n",
      "2                                               10   \n",
      "3                                               10   \n",
      "4                                               11   \n",
      "\n",
      "   All Number Of Passengers Time Interval Total  \\\n",
      "0                                             7   \n",
      "1                                           362   \n",
      "2                                           328   \n",
      "3                                           370   \n",
      "4                                           446   \n",
      "\n",
      "   All Number Of Passengers Time Interval Flights  \\\n",
      "0                                               1   \n",
      "1                                               3   \n",
      "2                                               1   \n",
      "3                                               2   \n",
      "4                                               2   \n",
      "\n",
      "   All Number Of Passengers Time Interval Booths  \n",
      "0                                              0  \n",
      "1                                             10  \n",
      "2                                             10  \n",
      "3                                             12  \n",
      "4                                             12  \n",
      "\n",
      "[5 rows x 21 columns]\n"
     ]
    }
   ],
   "source": [
    "print(df.head())"
   ]
  },
  {
   "cell_type": "code",
   "execution_count": 31,
   "metadata": {},
   "outputs": [
    {
     "name": "stdout",
     "output_type": "stream",
     "text": [
      "Index(['Airport', 'Terminal', 'Date', 'Hour', 'U.S. Citizen', 'U.S. Citizen',\n",
      "       'Non U.S. Citizen', 'Non U.S. Citizen', 'All', 'All', 'All', 'All',\n",
      "       'All', 'All', 'All', 'All', 'All', 'All', 'All', 'All', 'All'],\n",
      "      dtype='object')\n"
     ]
    }
   ],
   "source": [
    "print(df.columns.get_level_values(0))\n"
   ]
  },
  {
   "cell_type": "code",
   "execution_count": 36,
   "metadata": {},
   "outputs": [
    {
     "name": "stdout",
     "output_type": "stream",
     "text": [
      "             Airport           Terminal                 Date  \\\n",
      "           Terminal1              Date1                Hour1   \n",
      "  Unnamed: 0_level_2 Unnamed: 1_level_2   Unnamed: 2_level_2   \n",
      "  Unnamed: 0_level_3 Unnamed: 1_level_3   Unnamed: 2_level_3   \n",
      "0                ORD         Terminal 5  2017-01-01 00:00:00   \n",
      "1                ORD         Terminal 5  2017-01-01 00:00:00   \n",
      "2                ORD         Terminal 5  2017-01-01 00:00:00   \n",
      "3                ORD         Terminal 5  2017-01-01 00:00:00   \n",
      "4                ORD         Terminal 5  2017-01-01 00:00:00   \n",
      "\n",
      "                Hour    U.S. Citizen                        Non U.S. Citizen  \\\n",
      "     U.S. Citizen1_0 U.S. Citizen1_1 Non U.S. Citizen1_0 Non U.S. Citizen1_1   \n",
      "  Unnamed: 3_level_2    Average Wait            Max Wait        Average Wait   \n",
      "  Unnamed: 3_level_3            Time                Time                Time   \n",
      "0        0300 - 0400               0                   0                   0   \n",
      "1        0400 - 0500              18                  51                  28   \n",
      "2        0600 - 0700              11                  49                  27   \n",
      "3        0700 - 0800               7                  24                  12   \n",
      "4        0800 - 0900               5                  25                  13   \n",
      "\n",
      "                    All           ...                                          \\\n",
      "    All1_0       All1_1           ...            Airport1                       \n",
      "  Max Wait Average Wait Max Wait  ...               16-30               31-45   \n",
      "      Time         Time     Time  ... Unnamed: 11_level_3 Unnamed: 12_level_3   \n",
      "0        0            0        0  ...                   0                   0   \n",
      "1       51           20       51  ...                 160                  60   \n",
      "2       49           20       49  ...                  81                  64   \n",
      "3       26           10       26  ...                  88                   0   \n",
      "4       37           10       37  ...                 121                  16   \n",
      "\n",
      "                                                               \\\n",
      "                                                                \n",
      "                46-60               61-90              91-120   \n",
      "  Unnamed: 13_level_3 Unnamed: 14_level_3 Unnamed: 15_level_3   \n",
      "0                   0                   0                   0   \n",
      "1                   8                   0                   0   \n",
      "2                  19                   0                   0   \n",
      "3                   0                   0                   0   \n",
      "4                   0                   0                   0   \n",
      "\n",
      "                                                               \\\n",
      "                                                                \n",
      "             120 plus            Excluded               Total   \n",
      "  Unnamed: 16_level_3 Unnamed: 17_level_3 Unnamed: 18_level_3   \n",
      "0                   0                   7                   7   \n",
      "1                   0                  13                 362   \n",
      "2                   0                  10                 328   \n",
      "3                   0                  10                 370   \n",
      "4                   0                  11                 446   \n",
      "\n",
      "                                           \n",
      "                                           \n",
      "              Flights              Booths  \n",
      "  Unnamed: 19_level_3 Unnamed: 20_level_3  \n",
      "0                   1                   0  \n",
      "1                   3                  10  \n",
      "2                   1                  10  \n",
      "3                   2                  12  \n",
      "4                   2                  12  \n",
      "\n",
      "[5 rows x 21 columns]\n"
     ]
    }
   ],
   "source": [
    "col_bkp = df.columns\n",
    "\n",
    "df.columns = df.columns.set_levels (['Airport1', 'Terminal1', 'Date1', 'Hour1', 'U.S. Citizen1_0', 'U.S. Citizen1_1',\n",
    "       'Non U.S. Citizen1_0', 'Non U.S. Citizen1_1', 'All1_0', 'All1_1', 'All1_2', 'All1_3',\n",
    "       'All1_4', 'All1_5', 'All1_6', 'All1_7', 'All1_8', 'All1_9', 'All1_10', 'All1_11', 'All1_12'], level = 1)\n",
    "print(df.head())"
   ]
  },
  {
   "cell_type": "code",
   "execution_count": null,
   "metadata": {},
   "outputs": [],
   "source": [
    "dfs=dfs.drop([0,2])\n",
    "for i in range(7,21):\n",
    "    new=dfs.iloc[0,i]\n",
    "    print(new)\n",
    "    another=dfs.columns[i]\n",
    "    dfs.rename(columns={another:new},inplace=True)\n",
    "    \n",
    "    print(another)\n",
    "dfs=dfs.drop(1)\n"
   ]
  },
  {
   "cell_type": "code",
   "execution_count": 46,
   "metadata": {},
   "outputs": [],
   "source": [
    "import sqlite3 as sq"
   ]
  },
  {
   "cell_type": "code",
   "execution_count": 47,
   "metadata": {},
   "outputs": [],
   "source": [
    "conn = sq.connect('temp.db')"
   ]
  },
  {
   "cell_type": "code",
   "execution_count": 50,
   "metadata": {},
   "outputs": [],
   "source": [
    "df = pd.read_sql('select * from test', conn)"
   ]
  },
  {
   "cell_type": "code",
   "execution_count": 51,
   "metadata": {},
   "outputs": [
    {
     "name": "stdout",
     "output_type": "stream",
     "text": [
      "    A        B\n",
      "0  10     abcd\n",
      "1  20  pqrrrrr\n"
     ]
    }
   ],
   "source": [
    "print(df)"
   ]
  }
 ],
 "metadata": {
  "kernelspec": {
   "display_name": "Python 3",
   "language": "python",
   "name": "python3"
  },
  "language_info": {
   "codemirror_mode": {
    "name": "ipython",
    "version": 3
   },
   "file_extension": ".py",
   "mimetype": "text/x-python",
   "name": "python",
   "nbconvert_exporter": "python",
   "pygments_lexer": "ipython3",
   "version": "3.7.4"
  }
 },
 "nbformat": 4,
 "nbformat_minor": 2
}
